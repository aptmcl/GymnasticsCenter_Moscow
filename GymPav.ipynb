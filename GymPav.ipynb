{
 "cells": [
  {
   "cell_type": "markdown",
   "metadata": {},
   "source": [
    "# Irina Viner-Usmanova Rhythmic Gymnastics Centre"
   ]
  },
  {
   "cell_type": "code",
   "execution_count": 28,
   "metadata": {},
   "outputs": [],
   "source": [
    "using WebIO"
   ]
  },
  {
   "cell_type": "code",
   "execution_count": 29,
   "metadata": {},
   "outputs": [],
   "source": [
    "using Interact"
   ]
  },
  {
   "cell_type": "code",
   "execution_count": 30,
   "metadata": {},
   "outputs": [],
   "source": [
    "using Khepri"
   ]
  },
  {
   "cell_type": "code",
   "execution_count": 31,
   "metadata": {
    "scrolled": true
   },
   "outputs": [
    {
     "data": {
      "text/plain": [
       "(800, 400)"
      ]
     },
     "execution_count": 31,
     "metadata": {},
     "output_type": "execute_result"
    }
   ],
   "source": [
    "render_size(800, 400) # Khepri backends size"
   ]
  },
  {
   "cell_type": "markdown",
   "metadata": {},
   "source": [
    "## Sinusoidal Curves"
   ]
  },
  {
   "cell_type": "markdown",
   "metadata": {},
   "source": [
    " | Sinunoisal wave parameters | Other sinusoidal curves |\n",
    " |----------------------------|-------------------------|\n",
    " |<img src=\"./Figures/sin_wave.png\" width=\"350\"> | <img src=\"./Figures/sin_curves.png\" width=\"350\">|"
   ]
  },
  {
   "cell_type": "markdown",
   "metadata": {},
   "source": [
    "`sinusoidal` parameters explained:\n",
    "* a is the amplitude\n",
    "* omega is the frequency\n",
    "* fi is the phase"
   ]
  },
  {
   "cell_type": "code",
   "execution_count": 32,
   "metadata": {},
   "outputs": [
    {
     "data": {
      "text/plain": [
       "sinusoidal (generic function with 1 method)"
      ]
     },
     "execution_count": 32,
     "metadata": {},
     "output_type": "execute_result"
    }
   ],
   "source": [
    "sinusoidal(a, omega, fi, x) = a*sin(omega*x+fi)"
   ]
  },
  {
   "cell_type": "code",
   "execution_count": 33,
   "metadata": {},
   "outputs": [
    {
     "data": {
      "text/plain": [
       "sin_array_y (generic function with 1 method)"
      ]
     },
     "execution_count": 33,
     "metadata": {},
     "output_type": "execute_result"
    }
   ],
   "source": [
    "sin_array_y(p, a, omega, fi, dist, n) = [p+vxy(i, sinusoidal(a, omega, fi, i)) for i in division(0, dist, n)]"
   ]
  },
  {
   "cell_type": "code",
   "execution_count": 34,
   "metadata": {},
   "outputs": [
    {
     "data": {
      "application/vnd.plotly.v1+json": {
       "data": [],
       "layout": {
        "autosize": true,
        "height": 400,
        "margin": {
         "b": 0,
         "l": 0,
         "r": 0,
         "t": 0
        },
        "scene": {
         "aspectmode": "data",
         "xaxis": {
          "showticklabels": false
         },
         "yaxis": {
          "showticklabels": false
         },
         "zaxis": {
          "showticklabels": false
         }
        },
        "showlegend": false,
        "width": 800
       }
      },
      "application/vnd.webio.node+json": {
       "children": [
        {
         "children": [],
         "instanceArgs": {
          "namespace": "html",
          "tag": "div"
         },
         "nodeType": "DOM",
         "props": {
          "id": "plot-73865f56-bba9-4d89-8c31-f3999d4e2e34"
         },
         "type": "node"
        }
       ],
       "instanceArgs": {
        "handlers": {
         "__get_gd_contents": [
          "(function (prop){prop==\"data\" ? (WebIO.setval({\"name\":\"__gd_contents\",\"scope\":\"7467690222412151739\",\"id\":\"11863406263754044295\",\"type\":\"observable\"},this.plotElem.data)) : undefined; return prop==\"layout\" ? (WebIO.setval({\"name\":\"__gd_contents\",\"scope\":\"7467690222412151739\",\"id\":\"11863406263754044295\",\"type\":\"observable\"},this.plotElem.layout)) : undefined})"
         ],
         "_commands": [
          "(function (args){var fn=args.shift(); var elem=this.plotElem; var Plotly=this.Plotly; args.unshift(elem); return Plotly[fn].apply(this,args)})"
         ],
         "_downloadImage": [
          "(function (options){return this.Plotly.downloadImage(this.plotElem,options)})"
         ],
         "_toImage": [
          "(function (options){return this.Plotly.toImage(this.plotElem,options).then((function (data){return WebIO.setval({\"name\":\"image\",\"scope\":\"7467690222412151739\",\"id\":\"1428266382668204851\",\"type\":\"observable\"},data)}))})"
         ]
        },
        "id": "7467690222412151739",
        "imports": {
         "data": [
          {
           "name": "Plotly",
           "type": "js",
           "url": "/assetserver/128cc171bb881e36dc36ba3374ef89f7be17b275-plotly-latest.min.js"
          },
          {
           "name": null,
           "type": "js",
           "url": "/assetserver/4612c9762e2b6322e41400c8b823ae65053f7e50-plotly_webio.bundle.js"
          }
         ],
         "type": "async_block"
        },
        "mount_callbacks": [
         "function () {\n    var handler = ((function (Plotly,PlotlyWebIO){PlotlyWebIO.init(WebIO); var gd=this.dom.querySelector(\"#plot-73865f56-bba9-4d89-8c31-f3999d4e2e34\"); this.plotElem=gd; this.Plotly=Plotly; (window.Blink!==undefined) ? (gd.style.width=\"100%\", gd.style.height=\"100vh\", gd.style.marginLeft=\"0%\", gd.style.marginTop=\"0vh\") : undefined; window.onresize=(function (){return Plotly.Plots.resize(gd)}); Plotly.newPlot(gd,[],{\"showlegend\":false,\"autosize\":true,\"height\":400,\"margin\":{\"l\":0,\"b\":0,\"r\":0,\"t\":0},\"scene\":{\"xaxis\":{\"showticklabels\":false},\"aspectmode\":\"data\",\"yaxis\":{\"showticklabels\":false},\"zaxis\":{\"showticklabels\":false}},\"width\":800},{\"showLink\":false}); gd.on(\"plotly_hover\",(function (data){var filtered_data=WebIO.PlotlyCommands.filterEventData(gd,data,\"hover\"); return !(filtered_data.isnil) ? (WebIO.setval({\"name\":\"hover\",\"scope\":\"7467690222412151739\",\"id\":\"9288105827053701467\",\"type\":\"observable\"},filtered_data.out)) : undefined})); gd.on(\"plotly_unhover\",(function (){return WebIO.setval({\"name\":\"hover\",\"scope\":\"7467690222412151739\",\"id\":\"9288105827053701467\",\"type\":\"observable\"},{})})); gd.on(\"plotly_selected\",(function (data){var filtered_data=WebIO.PlotlyCommands.filterEventData(gd,data,\"selected\"); return !(filtered_data.isnil) ? (WebIO.setval({\"name\":\"selected\",\"scope\":\"7467690222412151739\",\"id\":\"564195187242725894\",\"type\":\"observable\"},filtered_data.out)) : undefined})); gd.on(\"plotly_deselect\",(function (){return WebIO.setval({\"name\":\"selected\",\"scope\":\"7467690222412151739\",\"id\":\"564195187242725894\",\"type\":\"observable\"},{})})); gd.on(\"plotly_relayout\",(function (data){var filtered_data=WebIO.PlotlyCommands.filterEventData(gd,data,\"relayout\"); return !(filtered_data.isnil) ? (WebIO.setval({\"name\":\"relayout\",\"scope\":\"7467690222412151739\",\"id\":\"14928977812374839700\",\"type\":\"observable\"},filtered_data.out)) : undefined})); return gd.on(\"plotly_click\",(function (data){var filtered_data=WebIO.PlotlyCommands.filterEventData(gd,data,\"click\"); return !(filtered_data.isnil) ? (WebIO.setval({\"name\":\"click\",\"scope\":\"7467690222412151739\",\"id\":\"10058354731016420963\",\"type\":\"observable\"},filtered_data.out)) : undefined}))}));\n    (WebIO.importBlock({\"data\":[{\"name\":\"Plotly\",\"type\":\"js\",\"url\":\"/assetserver/128cc171bb881e36dc36ba3374ef89f7be17b275-plotly-latest.min.js\"},{\"name\":null,\"type\":\"js\",\"url\":\"/assetserver/4612c9762e2b6322e41400c8b823ae65053f7e50-plotly_webio.bundle.js\"}],\"type\":\"async_block\"})).then((imports) => handler.apply(this, imports));\n}\n"
        ],
        "observables": {
         "__gd_contents": {
          "id": "11863406263754044295",
          "sync": false,
          "value": {}
         },
         "__get_gd_contents": {
          "id": "17294208993349100248",
          "sync": false,
          "value": ""
         },
         "_commands": {
          "id": "5349885799236820148",
          "sync": false,
          "value": []
         },
         "_downloadImage": {
          "id": "13021691506595616304",
          "sync": false,
          "value": {}
         },
         "_toImage": {
          "id": "2692928076319033267",
          "sync": false,
          "value": {}
         },
         "click": {
          "id": "10058354731016420963",
          "sync": false,
          "value": {}
         },
         "hover": {
          "id": "9288105827053701467",
          "sync": false,
          "value": {}
         },
         "image": {
          "id": "1428266382668204851",
          "sync": true,
          "value": ""
         },
         "relayout": {
          "id": "14928977812374839700",
          "sync": false,
          "value": {}
         },
         "selected": {
          "id": "564195187242725894",
          "sync": false,
          "value": {}
         }
        },
        "systemjs_options": null
       },
       "nodeType": "Scope",
       "props": {},
       "type": "node"
      },
      "text/html": [
       "<div\n",
       "    class=\"webio-mountpoint\"\n",
       "    data-webio-mountpoint=\"8762177005253134463\"\n",
       ">\n",
       "    <script>\n",
       "    if (window.require && require.defined && require.defined(\"nbextensions/webio-jupyter-notebook\")) {\n",
       "        console.log(\"Jupyter WebIO extension detected, not mounting.\");\n",
       "    } else if (window.WebIO) {\n",
       "        WebIO.mount(\n",
       "            document.querySelector('[data-webio-mountpoint=\"8762177005253134463\"]'),\n",
       "            {\"props\":{},\"nodeType\":\"Scope\",\"type\":\"node\",\"instanceArgs\":{\"imports\":{\"data\":[{\"name\":\"Plotly\",\"type\":\"js\",\"url\":\"\\/assetserver\\/128cc171bb881e36dc36ba3374ef89f7be17b275-plotly-latest.min.js\"},{\"name\":null,\"type\":\"js\",\"url\":\"\\/assetserver\\/4612c9762e2b6322e41400c8b823ae65053f7e50-plotly_webio.bundle.js\"}],\"type\":\"async_block\"},\"id\":\"7467690222412151739\",\"handlers\":{\"_toImage\":[\"(function (options){return this.Plotly.toImage(this.plotElem,options).then((function (data){return WebIO.setval({\\\"name\\\":\\\"image\\\",\\\"scope\\\":\\\"7467690222412151739\\\",\\\"id\\\":\\\"1428266382668204851\\\",\\\"type\\\":\\\"observable\\\"},data)}))})\"],\"__get_gd_contents\":[\"(function (prop){prop==\\\"data\\\" ? (WebIO.setval({\\\"name\\\":\\\"__gd_contents\\\",\\\"scope\\\":\\\"7467690222412151739\\\",\\\"id\\\":\\\"11863406263754044295\\\",\\\"type\\\":\\\"observable\\\"},this.plotElem.data)) : undefined; return prop==\\\"layout\\\" ? (WebIO.setval({\\\"name\\\":\\\"__gd_contents\\\",\\\"scope\\\":\\\"7467690222412151739\\\",\\\"id\\\":\\\"11863406263754044295\\\",\\\"type\\\":\\\"observable\\\"},this.plotElem.layout)) : undefined})\"],\"_downloadImage\":[\"(function (options){return this.Plotly.downloadImage(this.plotElem,options)})\"],\"_commands\":[\"(function (args){var fn=args.shift(); var elem=this.plotElem; var Plotly=this.Plotly; args.unshift(elem); return Plotly[fn].apply(this,args)})\"]},\"systemjs_options\":null,\"mount_callbacks\":[\"function () {\\n    var handler = ((function (Plotly,PlotlyWebIO){PlotlyWebIO.init(WebIO); var gd=this.dom.querySelector(\\\"#plot-73865f56-bba9-4d89-8c31-f3999d4e2e34\\\"); this.plotElem=gd; this.Plotly=Plotly; (window.Blink!==undefined) ? (gd.style.width=\\\"100%\\\", gd.style.height=\\\"100vh\\\", gd.style.marginLeft=\\\"0%\\\", gd.style.marginTop=\\\"0vh\\\") : undefined; window.onresize=(function (){return Plotly.Plots.resize(gd)}); Plotly.newPlot(gd,[],{\\\"showlegend\\\":false,\\\"autosize\\\":true,\\\"height\\\":400,\\\"margin\\\":{\\\"l\\\":0,\\\"b\\\":0,\\\"r\\\":0,\\\"t\\\":0},\\\"scene\\\":{\\\"xaxis\\\":{\\\"showticklabels\\\":false},\\\"aspectmode\\\":\\\"data\\\",\\\"yaxis\\\":{\\\"showticklabels\\\":false},\\\"zaxis\\\":{\\\"showticklabels\\\":false}},\\\"width\\\":800},{\\\"showLink\\\":false}); gd.on(\\\"plotly_hover\\\",(function (data){var filtered_data=WebIO.PlotlyCommands.filterEventData(gd,data,\\\"hover\\\"); return !(filtered_data.isnil) ? (WebIO.setval({\\\"name\\\":\\\"hover\\\",\\\"scope\\\":\\\"7467690222412151739\\\",\\\"id\\\":\\\"9288105827053701467\\\",\\\"type\\\":\\\"observable\\\"},filtered_data.out)) : undefined})); gd.on(\\\"plotly_unhover\\\",(function (){return WebIO.setval({\\\"name\\\":\\\"hover\\\",\\\"scope\\\":\\\"7467690222412151739\\\",\\\"id\\\":\\\"9288105827053701467\\\",\\\"type\\\":\\\"observable\\\"},{})})); gd.on(\\\"plotly_selected\\\",(function (data){var filtered_data=WebIO.PlotlyCommands.filterEventData(gd,data,\\\"selected\\\"); return !(filtered_data.isnil) ? (WebIO.setval({\\\"name\\\":\\\"selected\\\",\\\"scope\\\":\\\"7467690222412151739\\\",\\\"id\\\":\\\"564195187242725894\\\",\\\"type\\\":\\\"observable\\\"},filtered_data.out)) : undefined})); gd.on(\\\"plotly_deselect\\\",(function (){return WebIO.setval({\\\"name\\\":\\\"selected\\\",\\\"scope\\\":\\\"7467690222412151739\\\",\\\"id\\\":\\\"564195187242725894\\\",\\\"type\\\":\\\"observable\\\"},{})})); gd.on(\\\"plotly_relayout\\\",(function (data){var filtered_data=WebIO.PlotlyCommands.filterEventData(gd,data,\\\"relayout\\\"); return !(filtered_data.isnil) ? (WebIO.setval({\\\"name\\\":\\\"relayout\\\",\\\"scope\\\":\\\"7467690222412151739\\\",\\\"id\\\":\\\"14928977812374839700\\\",\\\"type\\\":\\\"observable\\\"},filtered_data.out)) : undefined})); return gd.on(\\\"plotly_click\\\",(function (data){var filtered_data=WebIO.PlotlyCommands.filterEventData(gd,data,\\\"click\\\"); return !(filtered_data.isnil) ? (WebIO.setval({\\\"name\\\":\\\"click\\\",\\\"scope\\\":\\\"7467690222412151739\\\",\\\"id\\\":\\\"10058354731016420963\\\",\\\"type\\\":\\\"observable\\\"},filtered_data.out)) : undefined}))}));\\n    (WebIO.importBlock({\\\"data\\\":[{\\\"name\\\":\\\"Plotly\\\",\\\"type\\\":\\\"js\\\",\\\"url\\\":\\\"\\/assetserver\\/128cc171bb881e36dc36ba3374ef89f7be17b275-plotly-latest.min.js\\\"},{\\\"name\\\":null,\\\"type\\\":\\\"js\\\",\\\"url\\\":\\\"\\/assetserver\\/4612c9762e2b6322e41400c8b823ae65053f7e50-plotly_webio.bundle.js\\\"}],\\\"type\\\":\\\"async_block\\\"})).then((imports) => handler.apply(this, imports));\\n}\\n\"],\"observables\":{\"_toImage\":{\"sync\":false,\"id\":\"2692928076319033267\",\"value\":{}},\"hover\":{\"sync\":false,\"id\":\"9288105827053701467\",\"value\":{}},\"selected\":{\"sync\":false,\"id\":\"564195187242725894\",\"value\":{}},\"__gd_contents\":{\"sync\":false,\"id\":\"11863406263754044295\",\"value\":{}},\"click\":{\"sync\":false,\"id\":\"10058354731016420963\",\"value\":{}},\"image\":{\"sync\":true,\"id\":\"1428266382668204851\",\"value\":\"\"},\"__get_gd_contents\":{\"sync\":false,\"id\":\"17294208993349100248\",\"value\":\"\"},\"_downloadImage\":{\"sync\":false,\"id\":\"13021691506595616304\",\"value\":{}},\"relayout\":{\"sync\":false,\"id\":\"14928977812374839700\",\"value\":{}},\"_commands\":{\"sync\":false,\"id\":\"5349885799236820148\",\"value\":[]}}},\"children\":[{\"props\":{\"id\":\"plot-73865f56-bba9-4d89-8c31-f3999d4e2e34\"},\"nodeType\":\"DOM\",\"type\":\"node\",\"instanceArgs\":{\"namespace\":\"html\",\"tag\":\"div\"},\"children\":[]}]},\n",
       "            window,\n",
       "        );\n",
       "    } else {\n",
       "        document\n",
       "            .querySelector('[data-webio-mountpoint=\"8762177005253134463\"]')\n",
       "            .innerHTML = (\n",
       "                '<div style=\"padding: 1em; background-color: #f8d6da; border: 1px solid #f5c6cb\">' +\n",
       "                '<p><strong>WebIO not detected.</strong></p>' +\n",
       "                '<p>Please read ' +\n",
       "                '<a href=\"https://juliagizmos.github.io/WebIO.jl/latest/troubleshooting/not-detected/\" target=\"_blank\">the troubleshooting guide</a> ' +\n",
       "                'for more information on how to resolve this issue.</p>' +\n",
       "                '<p><a href=\"https://juliagizmos.github.io/WebIO.jl/latest/troubleshooting/not-detected/\" target=\"_blank\">https://juliagizmos.github.io/WebIO.jl/latest/troubleshooting/not-detected/</a></p>' +\n",
       "                '</div>'\n",
       "            );\n",
       "    }\n",
       "    </script>\n",
       "</div>\n"
      ],
      "text/plain": [
       "data: []\n",
       "\n",
       "layout: \"layout with fields autosize, height, margin, scene, showlegend, and width\"\n",
       "\n"
      ]
     },
     "metadata": {
      "application/vnd.webio.node+json": {
       "kernelId": "d5ed2ba6-ae4b-42eb-88ac-197fdb5a4e8a"
      }
     },
     "output_type": "display_data"
    },
    {
     "data": {
      "text/plain": [
       "Line(...)"
      ]
     },
     "execution_count": 34,
     "metadata": {},
     "output_type": "execute_result"
    }
   ],
   "source": [
    "backend(notebook)\n",
    "new_backend()\n",
    "\n",
    "line(sin_array_y(u0(), 5, 1, 0, 50, 100))"
   ]
  },
  {
   "cell_type": "markdown",
   "metadata": {},
   "source": [
    "`damped_sin_wave`'s parameters explained\n",
    "* a is the initial amplitude (the highest peak)\n",
    "* b is the decay constant\n",
    "* omega is the angular frequency"
   ]
  },
  {
   "cell_type": "code",
   "execution_count": 8,
   "metadata": {},
   "outputs": [
    {
     "data": {
      "text/plain": [
       "damped_sin_wave (generic function with 1 method)"
      ]
     },
     "execution_count": 8,
     "metadata": {},
     "output_type": "execute_result"
    }
   ],
   "source": [
    "damped_sin_wave(a, d, omega, x) = a*exp(-(d*x))*sin(omega*x)"
   ]
  },
  {
   "cell_type": "code",
   "execution_count": 9,
   "metadata": {},
   "outputs": [
    {
     "data": {
      "text/plain": [
       "damped_sin_array_z (generic function with 1 method)"
      ]
     },
     "execution_count": 9,
     "metadata": {},
     "output_type": "execute_result"
    }
   ],
   "source": [
    "damped_sin_array_z(p, a, d, omega, dist, n) = [p+vxz(i, damped_sin_wave(a, d, omega, i)) for i in division(0, dist, n)]"
   ]
  },
  {
   "cell_type": "code",
   "execution_count": 10,
   "metadata": {},
   "outputs": [
    {
     "data": {
      "application/vnd.plotly.v1+json": {
       "data": [],
       "layout": {
        "autosize": true,
        "height": 400,
        "margin": {
         "b": 0,
         "l": 0,
         "r": 0,
         "t": 0
        },
        "scene": {
         "aspectmode": "data",
         "xaxis": {
          "showticklabels": false
         },
         "yaxis": {
          "showticklabels": false
         },
         "zaxis": {
          "showticklabels": false
         }
        },
        "showlegend": false,
        "width": 800
       }
      },
      "application/vnd.webio.node+json": {
       "children": [
        {
         "children": [],
         "instanceArgs": {
          "namespace": "html",
          "tag": "div"
         },
         "nodeType": "DOM",
         "props": {
          "id": "plot-bfcc5c12-77a7-435d-85c9-3a8013cf17a4"
         },
         "type": "node"
        }
       ],
       "instanceArgs": {
        "handlers": {
         "__get_gd_contents": [
          "(function (prop){prop==\"data\" ? (WebIO.setval({\"name\":\"__gd_contents\",\"scope\":\"9474526437725796810\",\"id\":\"4401872023395558469\",\"type\":\"observable\"},this.plotElem.data)) : undefined; return prop==\"layout\" ? (WebIO.setval({\"name\":\"__gd_contents\",\"scope\":\"9474526437725796810\",\"id\":\"4401872023395558469\",\"type\":\"observable\"},this.plotElem.layout)) : undefined})"
         ],
         "_commands": [
          "(function (args){var fn=args.shift(); var elem=this.plotElem; var Plotly=this.Plotly; args.unshift(elem); return Plotly[fn].apply(this,args)})"
         ],
         "_downloadImage": [
          "(function (options){return this.Plotly.downloadImage(this.plotElem,options)})"
         ],
         "_toImage": [
          "(function (options){return this.Plotly.toImage(this.plotElem,options).then((function (data){return WebIO.setval({\"name\":\"image\",\"scope\":\"9474526437725796810\",\"id\":\"8724296957137359951\",\"type\":\"observable\"},data)}))})"
         ]
        },
        "id": "9474526437725796810",
        "imports": {
         "data": [
          {
           "name": "Plotly",
           "type": "js",
           "url": "/assetserver/128cc171bb881e36dc36ba3374ef89f7be17b275-plotly-latest.min.js"
          },
          {
           "name": null,
           "type": "js",
           "url": "/assetserver/4612c9762e2b6322e41400c8b823ae65053f7e50-plotly_webio.bundle.js"
          }
         ],
         "type": "async_block"
        },
        "mount_callbacks": [
         "function () {\n    var handler = ((function (Plotly,PlotlyWebIO){PlotlyWebIO.init(WebIO); var gd=this.dom.querySelector(\"#plot-bfcc5c12-77a7-435d-85c9-3a8013cf17a4\"); this.plotElem=gd; this.Plotly=Plotly; (window.Blink!==undefined) ? (gd.style.width=\"100%\", gd.style.height=\"100vh\", gd.style.marginLeft=\"0%\", gd.style.marginTop=\"0vh\") : undefined; window.onresize=(function (){return Plotly.Plots.resize(gd)}); Plotly.newPlot(gd,[],{\"showlegend\":false,\"autosize\":true,\"height\":400,\"margin\":{\"l\":0,\"b\":0,\"r\":0,\"t\":0},\"scene\":{\"xaxis\":{\"showticklabels\":false},\"aspectmode\":\"data\",\"yaxis\":{\"showticklabels\":false},\"zaxis\":{\"showticklabels\":false}},\"width\":800},{\"showLink\":false}); gd.on(\"plotly_hover\",(function (data){var filtered_data=WebIO.PlotlyCommands.filterEventData(gd,data,\"hover\"); return !(filtered_data.isnil) ? (WebIO.setval({\"name\":\"hover\",\"scope\":\"9474526437725796810\",\"id\":\"11021626702290029713\",\"type\":\"observable\"},filtered_data.out)) : undefined})); gd.on(\"plotly_unhover\",(function (){return WebIO.setval({\"name\":\"hover\",\"scope\":\"9474526437725796810\",\"id\":\"11021626702290029713\",\"type\":\"observable\"},{})})); gd.on(\"plotly_selected\",(function (data){var filtered_data=WebIO.PlotlyCommands.filterEventData(gd,data,\"selected\"); return !(filtered_data.isnil) ? (WebIO.setval({\"name\":\"selected\",\"scope\":\"9474526437725796810\",\"id\":\"940654757367213198\",\"type\":\"observable\"},filtered_data.out)) : undefined})); gd.on(\"plotly_deselect\",(function (){return WebIO.setval({\"name\":\"selected\",\"scope\":\"9474526437725796810\",\"id\":\"940654757367213198\",\"type\":\"observable\"},{})})); gd.on(\"plotly_relayout\",(function (data){var filtered_data=WebIO.PlotlyCommands.filterEventData(gd,data,\"relayout\"); return !(filtered_data.isnil) ? (WebIO.setval({\"name\":\"relayout\",\"scope\":\"9474526437725796810\",\"id\":\"13745878367969871794\",\"type\":\"observable\"},filtered_data.out)) : undefined})); return gd.on(\"plotly_click\",(function (data){var filtered_data=WebIO.PlotlyCommands.filterEventData(gd,data,\"click\"); return !(filtered_data.isnil) ? (WebIO.setval({\"name\":\"click\",\"scope\":\"9474526437725796810\",\"id\":\"11063591676707553145\",\"type\":\"observable\"},filtered_data.out)) : undefined}))}));\n    (WebIO.importBlock({\"data\":[{\"name\":\"Plotly\",\"type\":\"js\",\"url\":\"/assetserver/128cc171bb881e36dc36ba3374ef89f7be17b275-plotly-latest.min.js\"},{\"name\":null,\"type\":\"js\",\"url\":\"/assetserver/4612c9762e2b6322e41400c8b823ae65053f7e50-plotly_webio.bundle.js\"}],\"type\":\"async_block\"})).then((imports) => handler.apply(this, imports));\n}\n"
        ],
        "observables": {
         "__gd_contents": {
          "id": "4401872023395558469",
          "sync": false,
          "value": {}
         },
         "__get_gd_contents": {
          "id": "3176070315536140004",
          "sync": false,
          "value": ""
         },
         "_commands": {
          "id": "10092879350965597866",
          "sync": false,
          "value": []
         },
         "_downloadImage": {
          "id": "7798604478612954824",
          "sync": false,
          "value": {}
         },
         "_toImage": {
          "id": "11628898255325019842",
          "sync": false,
          "value": {}
         },
         "click": {
          "id": "11063591676707553145",
          "sync": false,
          "value": {}
         },
         "hover": {
          "id": "11021626702290029713",
          "sync": false,
          "value": {}
         },
         "image": {
          "id": "8724296957137359951",
          "sync": true,
          "value": ""
         },
         "relayout": {
          "id": "13745878367969871794",
          "sync": false,
          "value": {}
         },
         "selected": {
          "id": "940654757367213198",
          "sync": false,
          "value": {}
         }
        },
        "systemjs_options": null
       },
       "nodeType": "Scope",
       "props": {},
       "type": "node"
      },
      "text/html": [
       "<div\n",
       "    class=\"webio-mountpoint\"\n",
       "    data-webio-mountpoint=\"9640300799125821348\"\n",
       ">\n",
       "    <script>\n",
       "    if (window.require && require.defined && require.defined(\"nbextensions/webio-jupyter-notebook\")) {\n",
       "        console.log(\"Jupyter WebIO extension detected, not mounting.\");\n",
       "    } else if (window.WebIO) {\n",
       "        WebIO.mount(\n",
       "            document.querySelector('[data-webio-mountpoint=\"9640300799125821348\"]'),\n",
       "            {\"props\":{},\"nodeType\":\"Scope\",\"type\":\"node\",\"instanceArgs\":{\"imports\":{\"data\":[{\"name\":\"Plotly\",\"type\":\"js\",\"url\":\"\\/assetserver\\/128cc171bb881e36dc36ba3374ef89f7be17b275-plotly-latest.min.js\"},{\"name\":null,\"type\":\"js\",\"url\":\"\\/assetserver\\/4612c9762e2b6322e41400c8b823ae65053f7e50-plotly_webio.bundle.js\"}],\"type\":\"async_block\"},\"id\":\"9474526437725796810\",\"handlers\":{\"_toImage\":[\"(function (options){return this.Plotly.toImage(this.plotElem,options).then((function (data){return WebIO.setval({\\\"name\\\":\\\"image\\\",\\\"scope\\\":\\\"9474526437725796810\\\",\\\"id\\\":\\\"8724296957137359951\\\",\\\"type\\\":\\\"observable\\\"},data)}))})\"],\"__get_gd_contents\":[\"(function (prop){prop==\\\"data\\\" ? (WebIO.setval({\\\"name\\\":\\\"__gd_contents\\\",\\\"scope\\\":\\\"9474526437725796810\\\",\\\"id\\\":\\\"4401872023395558469\\\",\\\"type\\\":\\\"observable\\\"},this.plotElem.data)) : undefined; return prop==\\\"layout\\\" ? (WebIO.setval({\\\"name\\\":\\\"__gd_contents\\\",\\\"scope\\\":\\\"9474526437725796810\\\",\\\"id\\\":\\\"4401872023395558469\\\",\\\"type\\\":\\\"observable\\\"},this.plotElem.layout)) : undefined})\"],\"_downloadImage\":[\"(function (options){return this.Plotly.downloadImage(this.plotElem,options)})\"],\"_commands\":[\"(function (args){var fn=args.shift(); var elem=this.plotElem; var Plotly=this.Plotly; args.unshift(elem); return Plotly[fn].apply(this,args)})\"]},\"systemjs_options\":null,\"mount_callbacks\":[\"function () {\\n    var handler = ((function (Plotly,PlotlyWebIO){PlotlyWebIO.init(WebIO); var gd=this.dom.querySelector(\\\"#plot-bfcc5c12-77a7-435d-85c9-3a8013cf17a4\\\"); this.plotElem=gd; this.Plotly=Plotly; (window.Blink!==undefined) ? (gd.style.width=\\\"100%\\\", gd.style.height=\\\"100vh\\\", gd.style.marginLeft=\\\"0%\\\", gd.style.marginTop=\\\"0vh\\\") : undefined; window.onresize=(function (){return Plotly.Plots.resize(gd)}); Plotly.newPlot(gd,[],{\\\"showlegend\\\":false,\\\"autosize\\\":true,\\\"height\\\":400,\\\"margin\\\":{\\\"l\\\":0,\\\"b\\\":0,\\\"r\\\":0,\\\"t\\\":0},\\\"scene\\\":{\\\"xaxis\\\":{\\\"showticklabels\\\":false},\\\"aspectmode\\\":\\\"data\\\",\\\"yaxis\\\":{\\\"showticklabels\\\":false},\\\"zaxis\\\":{\\\"showticklabels\\\":false}},\\\"width\\\":800},{\\\"showLink\\\":false}); gd.on(\\\"plotly_hover\\\",(function (data){var filtered_data=WebIO.PlotlyCommands.filterEventData(gd,data,\\\"hover\\\"); return !(filtered_data.isnil) ? (WebIO.setval({\\\"name\\\":\\\"hover\\\",\\\"scope\\\":\\\"9474526437725796810\\\",\\\"id\\\":\\\"11021626702290029713\\\",\\\"type\\\":\\\"observable\\\"},filtered_data.out)) : undefined})); gd.on(\\\"plotly_unhover\\\",(function (){return WebIO.setval({\\\"name\\\":\\\"hover\\\",\\\"scope\\\":\\\"9474526437725796810\\\",\\\"id\\\":\\\"11021626702290029713\\\",\\\"type\\\":\\\"observable\\\"},{})})); gd.on(\\\"plotly_selected\\\",(function (data){var filtered_data=WebIO.PlotlyCommands.filterEventData(gd,data,\\\"selected\\\"); return !(filtered_data.isnil) ? (WebIO.setval({\\\"name\\\":\\\"selected\\\",\\\"scope\\\":\\\"9474526437725796810\\\",\\\"id\\\":\\\"940654757367213198\\\",\\\"type\\\":\\\"observable\\\"},filtered_data.out)) : undefined})); gd.on(\\\"plotly_deselect\\\",(function (){return WebIO.setval({\\\"name\\\":\\\"selected\\\",\\\"scope\\\":\\\"9474526437725796810\\\",\\\"id\\\":\\\"940654757367213198\\\",\\\"type\\\":\\\"observable\\\"},{})})); gd.on(\\\"plotly_relayout\\\",(function (data){var filtered_data=WebIO.PlotlyCommands.filterEventData(gd,data,\\\"relayout\\\"); return !(filtered_data.isnil) ? (WebIO.setval({\\\"name\\\":\\\"relayout\\\",\\\"scope\\\":\\\"9474526437725796810\\\",\\\"id\\\":\\\"13745878367969871794\\\",\\\"type\\\":\\\"observable\\\"},filtered_data.out)) : undefined})); return gd.on(\\\"plotly_click\\\",(function (data){var filtered_data=WebIO.PlotlyCommands.filterEventData(gd,data,\\\"click\\\"); return !(filtered_data.isnil) ? (WebIO.setval({\\\"name\\\":\\\"click\\\",\\\"scope\\\":\\\"9474526437725796810\\\",\\\"id\\\":\\\"11063591676707553145\\\",\\\"type\\\":\\\"observable\\\"},filtered_data.out)) : undefined}))}));\\n    (WebIO.importBlock({\\\"data\\\":[{\\\"name\\\":\\\"Plotly\\\",\\\"type\\\":\\\"js\\\",\\\"url\\\":\\\"\\/assetserver\\/128cc171bb881e36dc36ba3374ef89f7be17b275-plotly-latest.min.js\\\"},{\\\"name\\\":null,\\\"type\\\":\\\"js\\\",\\\"url\\\":\\\"\\/assetserver\\/4612c9762e2b6322e41400c8b823ae65053f7e50-plotly_webio.bundle.js\\\"}],\\\"type\\\":\\\"async_block\\\"})).then((imports) => handler.apply(this, imports));\\n}\\n\"],\"observables\":{\"_toImage\":{\"sync\":false,\"id\":\"11628898255325019842\",\"value\":{}},\"hover\":{\"sync\":false,\"id\":\"11021626702290029713\",\"value\":{}},\"selected\":{\"sync\":false,\"id\":\"940654757367213198\",\"value\":{}},\"__gd_contents\":{\"sync\":false,\"id\":\"4401872023395558469\",\"value\":{}},\"click\":{\"sync\":false,\"id\":\"11063591676707553145\",\"value\":{}},\"image\":{\"sync\":true,\"id\":\"8724296957137359951\",\"value\":\"\"},\"__get_gd_contents\":{\"sync\":false,\"id\":\"3176070315536140004\",\"value\":\"\"},\"_downloadImage\":{\"sync\":false,\"id\":\"7798604478612954824\",\"value\":{}},\"relayout\":{\"sync\":false,\"id\":\"13745878367969871794\",\"value\":{}},\"_commands\":{\"sync\":false,\"id\":\"10092879350965597866\",\"value\":[]}}},\"children\":[{\"props\":{\"id\":\"plot-bfcc5c12-77a7-435d-85c9-3a8013cf17a4\"},\"nodeType\":\"DOM\",\"type\":\"node\",\"instanceArgs\":{\"namespace\":\"html\",\"tag\":\"div\"},\"children\":[]}]},\n",
       "            window,\n",
       "        );\n",
       "    } else {\n",
       "        document\n",
       "            .querySelector('[data-webio-mountpoint=\"9640300799125821348\"]')\n",
       "            .innerHTML = (\n",
       "                '<div style=\"padding: 1em; background-color: #f8d6da; border: 1px solid #f5c6cb\">' +\n",
       "                '<p><strong>WebIO not detected.</strong></p>' +\n",
       "                '<p>Please read ' +\n",
       "                '<a href=\"https://juliagizmos.github.io/WebIO.jl/latest/troubleshooting/not-detected/\" target=\"_blank\">the troubleshooting guide</a> ' +\n",
       "                'for more information on how to resolve this issue.</p>' +\n",
       "                '<p><a href=\"https://juliagizmos.github.io/WebIO.jl/latest/troubleshooting/not-detected/\" target=\"_blank\">https://juliagizmos.github.io/WebIO.jl/latest/troubleshooting/not-detected/</a></p>' +\n",
       "                '</div>'\n",
       "            );\n",
       "    }\n",
       "    </script>\n",
       "</div>\n"
      ],
      "text/plain": [
       "data: []\n",
       "\n",
       "layout: \"layout with fields autosize, height, margin, scene, showlegend, and width\"\n",
       "\n"
      ]
     },
     "metadata": {
      "application/vnd.webio.node+json": {
       "kernelId": "d5ed2ba6-ae4b-42eb-88ac-197fdb5a4e8a"
      }
     },
     "output_type": "display_data"
    },
    {
     "data": {
      "text/plain": [
       "Line(...)"
      ]
     },
     "execution_count": 10,
     "metadata": {},
     "output_type": "execute_result"
    }
   ],
   "source": [
    "backend(notebook)\n",
    "new_backend()\n",
    "\n",
    "line(damped_sin_array_z(u0(), 5, 0.1, 1, 50, 100))"
   ]
  },
  {
   "cell_type": "code",
   "execution_count": 11,
   "metadata": {},
   "outputs": [
    {
     "data": {
      "text/plain": [
       "damped_sin_roof_pts (generic function with 1 method)"
      ]
     },
     "execution_count": 11,
     "metadata": {},
     "output_type": "execute_result"
    }
   ],
   "source": [
    "damped_sin_roof_pts(p, a_x, a_y, fi, decay, om_x, om_y, dist_x, dist_y, n_x, n_y) =\n",
    "    map_division((x, y)->p+vxyz(x, y, sinusoidal(a_x, om_x, fi, x)+damped_sin_wave(a_y, decay, om_y, y)),\n",
    "        0, dist_x, n_x,\n",
    "        0, dist_y, n_y)"
   ]
  },
  {
   "cell_type": "code",
   "execution_count": 12,
   "metadata": {},
   "outputs": [
    {
     "name": "stderr",
     "output_type": "stream",
     "text": [
      "┌ Info: MeshCat server started. You can open the visualizer by visiting the following URL in your browser:\n",
      "│ http://localhost:8700\n",
      "└ @ MeshCat C:\\Users\\ines\\.julia\\packages\\MeshCat\\ECbzr\\src\\visualizer.jl:73\n"
     ]
    },
    {
     "data": {
      "text/html": [
       "<div style=\"height: 400px; width: 800px; overflow-x: auto; overflow-y: hidden; resize: both\">\n",
       "<iframe src=\"http://localhost:8700\" style=\"width: 100%; height: 100%; border: none\"></iframe>\n",
       "</div>\n"
      ],
      "text/plain": [
       "Khepri.MCATViewer(MeshCat Visualizer with path /meshcat at http://localhost:8700)"
      ]
     },
     "metadata": {},
     "output_type": "display_data"
    },
    {
     "data": {
      "application/vnd.webio.node+json": {
       "children": [
        {
         "children": [
          {
           "children": [
            {
             "children": [
              {
               "children": [
                {
                 "children": [
                  "Amplitude x"
                 ],
                 "instanceArgs": {
                  "namespace": "html",
                  "tag": "label"
                 },
                 "nodeType": "DOM",
                 "props": {
                  "className": "interact ",
                  "style": {
                   "padding": "5px 10px 0px 10px"
                  }
                 },
                 "type": "node"
                }
               ],
               "instanceArgs": {
                "namespace": "html",
                "tag": "div"
               },
               "nodeType": "DOM",
               "props": {
                "className": "interact-flex-row-left"
               },
               "type": "node"
              },
              {
               "children": [
                {
                 "children": [],
                 "instanceArgs": {
                  "namespace": "html",
                  "tag": "input"
                 },
                 "nodeType": "DOM",
                 "props": {
                  "attributes": {
                   "data-bind": "numericValue: index, valueUpdate: 'input', event: {change: function (){this.changes(this.changes()+1)}}",
                   "orient": "horizontal",
                   "type": "range"
                  },
                  "className": "slider slider is-fullwidth",
                  "max": 31,
                  "min": 1,
                  "step": 1,
                  "style": {}
                 },
                 "type": "node"
                }
               ],
               "instanceArgs": {
                "namespace": "html",
                "tag": "div"
               },
               "nodeType": "DOM",
               "props": {
                "className": "interact-flex-row-center"
               },
               "type": "node"
              },
              {
               "children": [
                {
                 "children": [],
                 "instanceArgs": {
                  "namespace": "html",
                  "tag": "p"
                 },
                 "nodeType": "DOM",
                 "props": {
                  "attributes": {
                   "data-bind": "text: formatted_val"
                  }
                 },
                 "type": "node"
                }
               ],
               "instanceArgs": {
                "namespace": "html",
                "tag": "div"
               },
               "nodeType": "DOM",
               "props": {
                "className": "interact-flex-row-right"
               },
               "type": "node"
              }
             ],
             "instanceArgs": {
              "namespace": "html",
              "tag": "div"
             },
             "nodeType": "DOM",
             "props": {
              "className": "interact-flex-row interact-widget"
             },
             "type": "node"
            }
           ],
           "instanceArgs": {
            "handlers": {
             "changes": [
              "(function (val){return (val!=this.model[\"changes\"]()) ? (this.valueFromJulia[\"changes\"]=true, this.model[\"changes\"](val)) : undefined})"
             ],
             "index": [
              "(function (val){return (val!=this.model[\"index\"]()) ? (this.valueFromJulia[\"index\"]=true, this.model[\"index\"](val)) : undefined})"
             ]
            },
            "id": "3356790137888776895",
            "imports": {
             "data": [
              {
               "name": "knockout",
               "type": "js",
               "url": "/assetserver/92c2f1237c7de526b82b854e47551e089e074ac2-knockout.js"
              },
              {
               "name": "knockout_punches",
               "type": "js",
               "url": "/assetserver/39e4d1dceef49085ebf36edb09c92c7574c58816-knockout_punches.js"
              },
              {
               "name": null,
               "type": "js",
               "url": "/assetserver/bea19c4f7d50366923bb3fbba800750b2d533f80-all.js"
              },
              {
               "name": null,
               "type": "css",
               "url": "/assetserver/c4d4f4f0ce9b24709d6d39765a20423cfb274e6a-style.css"
              },
              {
               "name": null,
               "type": "css",
               "url": "/assetserver/6513af17bee55ce33a5387a0f8cc5237a8ed2443-bulma_confined.min.css"
              }
             ],
             "type": "async_block"
            },
            "mount_callbacks": [
             "function () {\n    var handler = (function (ko, koPunches) {\n    ko.punches.enableAll();\n    ko.bindingHandlers.numericValue = {\n        init: function(element, valueAccessor, allBindings, data, context) {\n            var stringified = ko.observable(ko.unwrap(valueAccessor()));\n            stringified.subscribe(function(value) {\n                var val = parseFloat(value);\n                if (!isNaN(val)) {\n                    valueAccessor()(val);\n                }\n            });\n            valueAccessor().subscribe(function(value) {\n                var str = JSON.stringify(value);\n                if ((str == \"0\") && ([\"-0\", \"-0.\"].indexOf(stringified()) >= 0))\n                     return;\n                 if ([\"null\", \"\"].indexOf(str) >= 0)\n                     return;\n                stringified(str);\n            });\n            ko.applyBindingsToNode(\n                element,\n                {\n                    value: stringified,\n                    valueUpdate: allBindings.get('valueUpdate'),\n                },\n                context,\n            );\n        }\n    };\n    var json_data = {\"formatted_vals\":[\"0.0\",\"0.1\",\"0.2\",\"0.3\",\"0.4\",\"0.5\",\"0.6\",\"0.7\",\"0.8\",\"0.9\",\"1.0\",\"1.1\",\"1.2\",\"1.3\",\"1.4\",\"1.5\",\"1.6\",\"1.7\",\"1.8\",\"1.9\",\"2.0\",\"2.1\",\"2.2\",\"2.3\",\"2.4\",\"2.5\",\"2.6\",\"2.7\",\"2.8\",\"2.9\",\"3.0\"],\"changes\":WebIO.getval({\"name\":\"changes\",\"scope\":\"3356790137888776895\",\"id\":\"8515458310599882600\",\"type\":\"observable\"}),\"index\":WebIO.getval({\"name\":\"index\",\"scope\":\"3356790137888776895\",\"id\":\"4609041708143880307\",\"type\":\"observable\"})};\n    var self = this;\n    function AppViewModel() {\n        for (var key in json_data) {\n            var el = json_data[key];\n            this[key] = Array.isArray(el) ? ko.observableArray(el) : ko.observable(el);\n        }\n        \n        [this[\"formatted_val\"]=ko.computed(    function(){\n        return this.formatted_vals()[parseInt(this.index())-(1)];\n    }\n,this)]\n        [this[\"changes\"].subscribe((function (val){!(this.valueFromJulia[\"changes\"]) ? (WebIO.setval({\"name\":\"changes\",\"scope\":\"3356790137888776895\",\"id\":\"8515458310599882600\",\"type\":\"observable\"},val)) : undefined; return this.valueFromJulia[\"changes\"]=false}),self),this[\"index\"].subscribe((function (val){!(this.valueFromJulia[\"index\"]) ? (WebIO.setval({\"name\":\"index\",\"scope\":\"3356790137888776895\",\"id\":\"4609041708143880307\",\"type\":\"observable\"},val)) : undefined; return this.valueFromJulia[\"index\"]=false}),self)]\n        \n    }\n    self.model = new AppViewModel();\n    self.valueFromJulia = {};\n    for (var key in json_data) {\n        self.valueFromJulia[key] = false;\n    }\n    ko.applyBindings(self.model, self.dom);\n}\n);\n    (WebIO.importBlock({\"data\":[{\"name\":\"knockout\",\"type\":\"js\",\"url\":\"/assetserver/92c2f1237c7de526b82b854e47551e089e074ac2-knockout.js\"},{\"name\":\"knockout_punches\",\"type\":\"js\",\"url\":\"/assetserver/39e4d1dceef49085ebf36edb09c92c7574c58816-knockout_punches.js\"}],\"type\":\"async_block\"})).then((imports) => handler.apply(this, imports));\n}\n"
            ],
            "observables": {
             "changes": {
              "id": "8515458310599882600",
              "sync": false,
              "value": 0
             },
             "index": {
              "id": "4609041708143880307",
              "sync": true,
              "value": 16
             }
            },
            "systemjs_options": null
           },
           "nodeType": "Scope",
           "props": {},
           "type": "node"
          }
         ],
         "instanceArgs": {
          "namespace": "html",
          "tag": "div"
         },
         "nodeType": "DOM",
         "props": {
          "className": "field interact-widget"
         },
         "type": "node"
        },
        {
         "children": [
          {
           "children": [
            {
             "children": [
              {
               "children": [
                {
                 "children": [
                  "Amplitude y"
                 ],
                 "instanceArgs": {
                  "namespace": "html",
                  "tag": "label"
                 },
                 "nodeType": "DOM",
                 "props": {
                  "className": "interact ",
                  "style": {
                   "padding": "5px 10px 0px 10px"
                  }
                 },
                 "type": "node"
                }
               ],
               "instanceArgs": {
                "namespace": "html",
                "tag": "div"
               },
               "nodeType": "DOM",
               "props": {
                "className": "interact-flex-row-left"
               },
               "type": "node"
              },
              {
               "children": [
                {
                 "children": [],
                 "instanceArgs": {
                  "namespace": "html",
                  "tag": "input"
                 },
                 "nodeType": "DOM",
                 "props": {
                  "attributes": {
                   "data-bind": "numericValue: index, valueUpdate: 'input', event: {change: function (){this.changes(this.changes()+1)}}",
                   "orient": "horizontal",
                   "type": "range"
                  },
                  "className": "slider slider is-fullwidth",
                  "max": 201,
                  "min": 1,
                  "step": 1,
                  "style": {}
                 },
                 "type": "node"
                }
               ],
               "instanceArgs": {
                "namespace": "html",
                "tag": "div"
               },
               "nodeType": "DOM",
               "props": {
                "className": "interact-flex-row-center"
               },
               "type": "node"
              },
              {
               "children": [
                {
                 "children": [],
                 "instanceArgs": {
                  "namespace": "html",
                  "tag": "p"
                 },
                 "nodeType": "DOM",
                 "props": {
                  "attributes": {
                   "data-bind": "text: formatted_val"
                  }
                 },
                 "type": "node"
                }
               ],
               "instanceArgs": {
                "namespace": "html",
                "tag": "div"
               },
               "nodeType": "DOM",
               "props": {
                "className": "interact-flex-row-right"
               },
               "type": "node"
              }
             ],
             "instanceArgs": {
              "namespace": "html",
              "tag": "div"
             },
             "nodeType": "DOM",
             "props": {
              "className": "interact-flex-row interact-widget"
             },
             "type": "node"
            }
           ],
           "instanceArgs": {
            "handlers": {
             "changes": [
              "(function (val){return (val!=this.model[\"changes\"]()) ? (this.valueFromJulia[\"changes\"]=true, this.model[\"changes\"](val)) : undefined})"
             ],
             "index": [
              "(function (val){return (val!=this.model[\"index\"]()) ? (this.valueFromJulia[\"index\"]=true, this.model[\"index\"](val)) : undefined})"
             ]
            },
            "id": "6218423094975499465",
            "imports": {
             "data": [
              {
               "name": "knockout",
               "type": "js",
               "url": "/assetserver/92c2f1237c7de526b82b854e47551e089e074ac2-knockout.js"
              },
              {
               "name": "knockout_punches",
               "type": "js",
               "url": "/assetserver/39e4d1dceef49085ebf36edb09c92c7574c58816-knockout_punches.js"
              },
              {
               "name": null,
               "type": "js",
               "url": "/assetserver/bea19c4f7d50366923bb3fbba800750b2d533f80-all.js"
              },
              {
               "name": null,
               "type": "css",
               "url": "/assetserver/c4d4f4f0ce9b24709d6d39765a20423cfb274e6a-style.css"
              },
              {
               "name": null,
               "type": "css",
               "url": "/assetserver/6513af17bee55ce33a5387a0f8cc5237a8ed2443-bulma_confined.min.css"
              }
             ],
             "type": "async_block"
            },
            "mount_callbacks": [
             "function () {\n    var handler = (function (ko, koPunches) {\n    ko.punches.enableAll();\n    ko.bindingHandlers.numericValue = {\n        init: function(element, valueAccessor, allBindings, data, context) {\n            var stringified = ko.observable(ko.unwrap(valueAccessor()));\n            stringified.subscribe(function(value) {\n                var val = parseFloat(value);\n                if (!isNaN(val)) {\n                    valueAccessor()(val);\n                }\n            });\n            valueAccessor().subscribe(function(value) {\n                var str = JSON.stringify(value);\n                if ((str == \"0\") && ([\"-0\", \"-0.\"].indexOf(stringified()) >= 0))\n                     return;\n                 if ([\"null\", \"\"].indexOf(str) >= 0)\n                     return;\n                stringified(str);\n            });\n            ko.applyBindingsToNode(\n                element,\n                {\n                    value: stringified,\n                    valueUpdate: allBindings.get('valueUpdate'),\n                },\n                context,\n            );\n        }\n    };\n    var json_data = {\"formatted_vals\":[\"0.0\",\"0.1\",\"0.2\",\"0.3\",\"0.4\",\"0.5\",\"0.6\",\"0.7\",\"0.8\",\"0.9\",\"1.0\",\"1.1\",\"1.2\",\"1.3\",\"1.4\",\"1.5\",\"1.6\",\"1.7\",\"1.8\",\"1.9\",\"2.0\",\"2.1\",\"2.2\",\"2.3\",\"2.4\",\"2.5\",\"2.6\",\"2.7\",\"2.8\",\"2.9\",\"3.0\",\"3.1\",\"3.2\",\"3.3\",\"3.4\",\"3.5\",\"3.6\",\"3.7\",\"3.8\",\"3.9\",\"4.0\",\"4.1\",\"4.2\",\"4.3\",\"4.4\",\"4.5\",\"4.6\",\"4.7\",\"4.8\",\"4.9\",\"5.0\",\"5.1\",\"5.2\",\"5.3\",\"5.4\",\"5.5\",\"5.6\",\"5.7\",\"5.8\",\"5.9\",\"6.0\",\"6.1\",\"6.2\",\"6.3\",\"6.4\",\"6.5\",\"6.6\",\"6.7\",\"6.8\",\"6.9\",\"7.0\",\"7.1\",\"7.2\",\"7.3\",\"7.4\",\"7.5\",\"7.6\",\"7.7\",\"7.8\",\"7.9\",\"8.0\",\"8.1\",\"8.2\",\"8.3\",\"8.4\",\"8.5\",\"8.6\",\"8.7\",\"8.8\",\"8.9\",\"9.0\",\"9.1\",\"9.2\",\"9.3\",\"9.4\",\"9.5\",\"9.6\",\"9.7\",\"9.8\",\"9.9\",\"10.0\",\"10.1\",\"10.2\",\"10.3\",\"10.4\",\"10.5\",\"10.6\",\"10.7\",\"10.8\",\"10.9\",\"11.0\",\"11.1\",\"11.2\",\"11.3\",\"11.4\",\"11.5\",\"11.6\",\"11.7\",\"11.8\",\"11.9\",\"12.0\",\"12.1\",\"12.2\",\"12.3\",\"12.4\",\"12.5\",\"12.6\",\"12.7\",\"12.8\",\"12.9\",\"13.0\",\"13.1\",\"13.2\",\"13.3\",\"13.4\",\"13.5\",\"13.6\",\"13.7\",\"13.8\",\"13.9\",\"14.0\",\"14.1\",\"14.2\",\"14.3\",\"14.4\",\"14.5\",\"14.6\",\"14.7\",\"14.8\",\"14.9\",\"15.0\",\"15.1\",\"15.2\",\"15.3\",\"15.4\",\"15.5\",\"15.6\",\"15.7\",\"15.8\",\"15.9\",\"16.0\",\"16.1\",\"16.2\",\"16.3\",\"16.4\",\"16.5\",\"16.6\",\"16.7\",\"16.8\",\"16.9\",\"17.0\",\"17.1\",\"17.2\",\"17.3\",\"17.4\",\"17.5\",\"17.6\",\"17.7\",\"17.8\",\"17.9\",\"18.0\",\"18.1\",\"18.2\",\"18.3\",\"18.4\",\"18.5\",\"18.6\",\"18.7\",\"18.8\",\"18.9\",\"19.0\",\"19.1\",\"19.2\",\"19.3\",\"19.4\",\"19.5\",\"19.6\",\"19.7\",\"19.8\",\"19.9\",\"20.0\"],\"changes\":WebIO.getval({\"name\":\"changes\",\"scope\":\"6218423094975499465\",\"id\":\"18120254936319606867\",\"type\":\"observable\"}),\"index\":WebIO.getval({\"name\":\"index\",\"scope\":\"6218423094975499465\",\"id\":\"3233606470651789446\",\"type\":\"observable\"})};\n    var self = this;\n    function AppViewModel() {\n        for (var key in json_data) {\n            var el = json_data[key];\n            this[key] = Array.isArray(el) ? ko.observableArray(el) : ko.observable(el);\n        }\n        \n        [this[\"formatted_val\"]=ko.computed(    function(){\n        return this.formatted_vals()[parseInt(this.index())-(1)];\n    }\n,this)]\n        [this[\"changes\"].subscribe((function (val){!(this.valueFromJulia[\"changes\"]) ? (WebIO.setval({\"name\":\"changes\",\"scope\":\"6218423094975499465\",\"id\":\"18120254936319606867\",\"type\":\"observable\"},val)) : undefined; return this.valueFromJulia[\"changes\"]=false}),self),this[\"index\"].subscribe((function (val){!(this.valueFromJulia[\"index\"]) ? (WebIO.setval({\"name\":\"index\",\"scope\":\"6218423094975499465\",\"id\":\"3233606470651789446\",\"type\":\"observable\"},val)) : undefined; return this.valueFromJulia[\"index\"]=false}),self)]\n        \n    }\n    self.model = new AppViewModel();\n    self.valueFromJulia = {};\n    for (var key in json_data) {\n        self.valueFromJulia[key] = false;\n    }\n    ko.applyBindings(self.model, self.dom);\n}\n);\n    (WebIO.importBlock({\"data\":[{\"name\":\"knockout\",\"type\":\"js\",\"url\":\"/assetserver/92c2f1237c7de526b82b854e47551e089e074ac2-knockout.js\"},{\"name\":\"knockout_punches\",\"type\":\"js\",\"url\":\"/assetserver/39e4d1dceef49085ebf36edb09c92c7574c58816-knockout_punches.js\"}],\"type\":\"async_block\"})).then((imports) => handler.apply(this, imports));\n}\n"
            ],
            "observables": {
             "changes": {
              "id": "18120254936319606867",
              "sync": false,
              "value": 0
             },
             "index": {
              "id": "3233606470651789446",
              "sync": true,
              "value": 101
             }
            },
            "systemjs_options": null
           },
           "nodeType": "Scope",
           "props": {},
           "type": "node"
          }
         ],
         "instanceArgs": {
          "namespace": "html",
          "tag": "div"
         },
         "nodeType": "DOM",
         "props": {
          "className": "field interact-widget"
         },
         "type": "node"
        },
        {
         "children": [
          {
           "children": [],
           "instanceArgs": {
            "id": "1860853109591020667",
            "name": "obs-node"
           },
           "nodeType": "ObservableNode",
           "props": {},
           "type": "node"
          }
         ],
         "instanceArgs": {
          "handlers": {},
          "id": "18332068179842816218",
          "imports": {
           "data": [],
           "type": "async_block"
          },
          "mount_callbacks": [],
          "observables": {
           "obs-node": {
            "id": "1860853109591020667",
            "sync": false,
            "value": {
             "children": [
              {
               "children": [],
               "instanceArgs": {
                "namespace": "html",
                "tag": "div"
               },
               "nodeType": "DOM",
               "props": {
                "setInnerHtml": "<pre>SurfaceGrid(...)</pre>"
               },
               "type": "node"
              }
             ],
             "instanceArgs": {
              "namespace": "html",
              "tag": "div"
             },
             "nodeType": "DOM",
             "props": {
              "className": "interact-flex-row interact-widget"
             },
             "type": "node"
            }
           }
          },
          "systemjs_options": null
         },
         "nodeType": "Scope",
         "props": {},
         "type": "node"
        }
       ],
       "instanceArgs": {
        "namespace": "html",
        "tag": "div"
       },
       "nodeType": "DOM",
       "props": {},
       "type": "node"
      },
      "text/html": [
       "<div\n",
       "    class=\"webio-mountpoint\"\n",
       "    data-webio-mountpoint=\"13500946843320509397\"\n",
       ">\n",
       "    <script>\n",
       "    if (window.require && require.defined && require.defined(\"nbextensions/webio-jupyter-notebook\")) {\n",
       "        console.log(\"Jupyter WebIO extension detected, not mounting.\");\n",
       "    } else if (window.WebIO) {\n",
       "        WebIO.mount(\n",
       "            document.querySelector('[data-webio-mountpoint=\"13500946843320509397\"]'),\n",
       "            {\"props\":{},\"nodeType\":\"DOM\",\"type\":\"node\",\"instanceArgs\":{\"namespace\":\"html\",\"tag\":\"div\"},\"children\":[{\"props\":{\"className\":\"field interact-widget\"},\"nodeType\":\"DOM\",\"type\":\"node\",\"instanceArgs\":{\"namespace\":\"html\",\"tag\":\"div\"},\"children\":[{\"props\":{},\"nodeType\":\"Scope\",\"type\":\"node\",\"instanceArgs\":{\"imports\":{\"data\":[{\"name\":\"knockout\",\"type\":\"js\",\"url\":\"\\/assetserver\\/92c2f1237c7de526b82b854e47551e089e074ac2-knockout.js\"},{\"name\":\"knockout_punches\",\"type\":\"js\",\"url\":\"\\/assetserver\\/39e4d1dceef49085ebf36edb09c92c7574c58816-knockout_punches.js\"},{\"name\":null,\"type\":\"js\",\"url\":\"\\/assetserver\\/bea19c4f7d50366923bb3fbba800750b2d533f80-all.js\"},{\"name\":null,\"type\":\"css\",\"url\":\"\\/assetserver\\/c4d4f4f0ce9b24709d6d39765a20423cfb274e6a-style.css\"},{\"name\":null,\"type\":\"css\",\"url\":\"\\/assetserver\\/6513af17bee55ce33a5387a0f8cc5237a8ed2443-bulma_confined.min.css\"}],\"type\":\"async_block\"},\"id\":\"3356790137888776895\",\"handlers\":{\"changes\":[\"(function (val){return (val!=this.model[\\\"changes\\\"]()) ? (this.valueFromJulia[\\\"changes\\\"]=true, this.model[\\\"changes\\\"](val)) : undefined})\"],\"index\":[\"(function (val){return (val!=this.model[\\\"index\\\"]()) ? (this.valueFromJulia[\\\"index\\\"]=true, this.model[\\\"index\\\"](val)) : undefined})\"]},\"systemjs_options\":null,\"mount_callbacks\":[\"function () {\\n    var handler = (function (ko, koPunches) {\\n    ko.punches.enableAll();\\n    ko.bindingHandlers.numericValue = {\\n        init: function(element, valueAccessor, allBindings, data, context) {\\n            var stringified = ko.observable(ko.unwrap(valueAccessor()));\\n            stringified.subscribe(function(value) {\\n                var val = parseFloat(value);\\n                if (!isNaN(val)) {\\n                    valueAccessor()(val);\\n                }\\n            });\\n            valueAccessor().subscribe(function(value) {\\n                var str = JSON.stringify(value);\\n                if ((str == \\\"0\\\") && ([\\\"-0\\\", \\\"-0.\\\"].indexOf(stringified()) >= 0))\\n                     return;\\n                 if ([\\\"null\\\", \\\"\\\"].indexOf(str) >= 0)\\n                     return;\\n                stringified(str);\\n            });\\n            ko.applyBindingsToNode(\\n                element,\\n                {\\n                    value: stringified,\\n                    valueUpdate: allBindings.get('valueUpdate'),\\n                },\\n                context,\\n            );\\n        }\\n    };\\n    var json_data = {\\\"formatted_vals\\\":[\\\"0.0\\\",\\\"0.1\\\",\\\"0.2\\\",\\\"0.3\\\",\\\"0.4\\\",\\\"0.5\\\",\\\"0.6\\\",\\\"0.7\\\",\\\"0.8\\\",\\\"0.9\\\",\\\"1.0\\\",\\\"1.1\\\",\\\"1.2\\\",\\\"1.3\\\",\\\"1.4\\\",\\\"1.5\\\",\\\"1.6\\\",\\\"1.7\\\",\\\"1.8\\\",\\\"1.9\\\",\\\"2.0\\\",\\\"2.1\\\",\\\"2.2\\\",\\\"2.3\\\",\\\"2.4\\\",\\\"2.5\\\",\\\"2.6\\\",\\\"2.7\\\",\\\"2.8\\\",\\\"2.9\\\",\\\"3.0\\\"],\\\"changes\\\":WebIO.getval({\\\"name\\\":\\\"changes\\\",\\\"scope\\\":\\\"3356790137888776895\\\",\\\"id\\\":\\\"8515458310599882600\\\",\\\"type\\\":\\\"observable\\\"}),\\\"index\\\":WebIO.getval({\\\"name\\\":\\\"index\\\",\\\"scope\\\":\\\"3356790137888776895\\\",\\\"id\\\":\\\"4609041708143880307\\\",\\\"type\\\":\\\"observable\\\"})};\\n    var self = this;\\n    function AppViewModel() {\\n        for (var key in json_data) {\\n            var el = json_data[key];\\n            this[key] = Array.isArray(el) ? ko.observableArray(el) : ko.observable(el);\\n        }\\n        \\n        [this[\\\"formatted_val\\\"]=ko.computed(    function(){\\n        return this.formatted_vals()[parseInt(this.index())-(1)];\\n    }\\n,this)]\\n        [this[\\\"changes\\\"].subscribe((function (val){!(this.valueFromJulia[\\\"changes\\\"]) ? (WebIO.setval({\\\"name\\\":\\\"changes\\\",\\\"scope\\\":\\\"3356790137888776895\\\",\\\"id\\\":\\\"8515458310599882600\\\",\\\"type\\\":\\\"observable\\\"},val)) : undefined; return this.valueFromJulia[\\\"changes\\\"]=false}),self),this[\\\"index\\\"].subscribe((function (val){!(this.valueFromJulia[\\\"index\\\"]) ? (WebIO.setval({\\\"name\\\":\\\"index\\\",\\\"scope\\\":\\\"3356790137888776895\\\",\\\"id\\\":\\\"4609041708143880307\\\",\\\"type\\\":\\\"observable\\\"},val)) : undefined; return this.valueFromJulia[\\\"index\\\"]=false}),self)]\\n        \\n    }\\n    self.model = new AppViewModel();\\n    self.valueFromJulia = {};\\n    for (var key in json_data) {\\n        self.valueFromJulia[key] = false;\\n    }\\n    ko.applyBindings(self.model, self.dom);\\n}\\n);\\n    (WebIO.importBlock({\\\"data\\\":[{\\\"name\\\":\\\"knockout\\\",\\\"type\\\":\\\"js\\\",\\\"url\\\":\\\"\\/assetserver\\/92c2f1237c7de526b82b854e47551e089e074ac2-knockout.js\\\"},{\\\"name\\\":\\\"knockout_punches\\\",\\\"type\\\":\\\"js\\\",\\\"url\\\":\\\"\\/assetserver\\/39e4d1dceef49085ebf36edb09c92c7574c58816-knockout_punches.js\\\"}],\\\"type\\\":\\\"async_block\\\"})).then((imports) => handler.apply(this, imports));\\n}\\n\"],\"observables\":{\"changes\":{\"sync\":false,\"id\":\"8515458310599882600\",\"value\":0},\"index\":{\"sync\":true,\"id\":\"4609041708143880307\",\"value\":16}}},\"children\":[{\"props\":{\"className\":\"interact-flex-row interact-widget\"},\"nodeType\":\"DOM\",\"type\":\"node\",\"instanceArgs\":{\"namespace\":\"html\",\"tag\":\"div\"},\"children\":[{\"props\":{\"className\":\"interact-flex-row-left\"},\"nodeType\":\"DOM\",\"type\":\"node\",\"instanceArgs\":{\"namespace\":\"html\",\"tag\":\"div\"},\"children\":[{\"props\":{\"className\":\"interact \",\"style\":{\"padding\":\"5px 10px 0px 10px\"}},\"nodeType\":\"DOM\",\"type\":\"node\",\"instanceArgs\":{\"namespace\":\"html\",\"tag\":\"label\"},\"children\":[\"Amplitude x\"]}]},{\"props\":{\"className\":\"interact-flex-row-center\"},\"nodeType\":\"DOM\",\"type\":\"node\",\"instanceArgs\":{\"namespace\":\"html\",\"tag\":\"div\"},\"children\":[{\"props\":{\"max\":31,\"min\":1,\"attributes\":{\"type\":\"range\",\"data-bind\":\"numericValue: index, valueUpdate: 'input', event: {change: function (){this.changes(this.changes()+1)}}\",\"orient\":\"horizontal\"},\"step\":1,\"className\":\"slider slider is-fullwidth\",\"style\":{}},\"nodeType\":\"DOM\",\"type\":\"node\",\"instanceArgs\":{\"namespace\":\"html\",\"tag\":\"input\"},\"children\":[]}]},{\"props\":{\"className\":\"interact-flex-row-right\"},\"nodeType\":\"DOM\",\"type\":\"node\",\"instanceArgs\":{\"namespace\":\"html\",\"tag\":\"div\"},\"children\":[{\"props\":{\"attributes\":{\"data-bind\":\"text: formatted_val\"}},\"nodeType\":\"DOM\",\"type\":\"node\",\"instanceArgs\":{\"namespace\":\"html\",\"tag\":\"p\"},\"children\":[]}]}]}]}]},{\"props\":{\"className\":\"field interact-widget\"},\"nodeType\":\"DOM\",\"type\":\"node\",\"instanceArgs\":{\"namespace\":\"html\",\"tag\":\"div\"},\"children\":[{\"props\":{},\"nodeType\":\"Scope\",\"type\":\"node\",\"instanceArgs\":{\"imports\":{\"data\":[{\"name\":\"knockout\",\"type\":\"js\",\"url\":\"\\/assetserver\\/92c2f1237c7de526b82b854e47551e089e074ac2-knockout.js\"},{\"name\":\"knockout_punches\",\"type\":\"js\",\"url\":\"\\/assetserver\\/39e4d1dceef49085ebf36edb09c92c7574c58816-knockout_punches.js\"},{\"name\":null,\"type\":\"js\",\"url\":\"\\/assetserver\\/bea19c4f7d50366923bb3fbba800750b2d533f80-all.js\"},{\"name\":null,\"type\":\"css\",\"url\":\"\\/assetserver\\/c4d4f4f0ce9b24709d6d39765a20423cfb274e6a-style.css\"},{\"name\":null,\"type\":\"css\",\"url\":\"\\/assetserver\\/6513af17bee55ce33a5387a0f8cc5237a8ed2443-bulma_confined.min.css\"}],\"type\":\"async_block\"},\"id\":\"6218423094975499465\",\"handlers\":{\"changes\":[\"(function (val){return (val!=this.model[\\\"changes\\\"]()) ? (this.valueFromJulia[\\\"changes\\\"]=true, this.model[\\\"changes\\\"](val)) : undefined})\"],\"index\":[\"(function (val){return (val!=this.model[\\\"index\\\"]()) ? (this.valueFromJulia[\\\"index\\\"]=true, this.model[\\\"index\\\"](val)) : undefined})\"]},\"systemjs_options\":null,\"mount_callbacks\":[\"function () {\\n    var handler = (function (ko, koPunches) {\\n    ko.punches.enableAll();\\n    ko.bindingHandlers.numericValue = {\\n        init: function(element, valueAccessor, allBindings, data, context) {\\n            var stringified = ko.observable(ko.unwrap(valueAccessor()));\\n            stringified.subscribe(function(value) {\\n                var val = parseFloat(value);\\n                if (!isNaN(val)) {\\n                    valueAccessor()(val);\\n                }\\n            });\\n            valueAccessor().subscribe(function(value) {\\n                var str = JSON.stringify(value);\\n                if ((str == \\\"0\\\") && ([\\\"-0\\\", \\\"-0.\\\"].indexOf(stringified()) >= 0))\\n                     return;\\n                 if ([\\\"null\\\", \\\"\\\"].indexOf(str) >= 0)\\n                     return;\\n                stringified(str);\\n            });\\n            ko.applyBindingsToNode(\\n                element,\\n                {\\n                    value: stringified,\\n                    valueUpdate: allBindings.get('valueUpdate'),\\n                },\\n                context,\\n            );\\n        }\\n    };\\n    var json_data = {\\\"formatted_vals\\\":[\\\"0.0\\\",\\\"0.1\\\",\\\"0.2\\\",\\\"0.3\\\",\\\"0.4\\\",\\\"0.5\\\",\\\"0.6\\\",\\\"0.7\\\",\\\"0.8\\\",\\\"0.9\\\",\\\"1.0\\\",\\\"1.1\\\",\\\"1.2\\\",\\\"1.3\\\",\\\"1.4\\\",\\\"1.5\\\",\\\"1.6\\\",\\\"1.7\\\",\\\"1.8\\\",\\\"1.9\\\",\\\"2.0\\\",\\\"2.1\\\",\\\"2.2\\\",\\\"2.3\\\",\\\"2.4\\\",\\\"2.5\\\",\\\"2.6\\\",\\\"2.7\\\",\\\"2.8\\\",\\\"2.9\\\",\\\"3.0\\\",\\\"3.1\\\",\\\"3.2\\\",\\\"3.3\\\",\\\"3.4\\\",\\\"3.5\\\",\\\"3.6\\\",\\\"3.7\\\",\\\"3.8\\\",\\\"3.9\\\",\\\"4.0\\\",\\\"4.1\\\",\\\"4.2\\\",\\\"4.3\\\",\\\"4.4\\\",\\\"4.5\\\",\\\"4.6\\\",\\\"4.7\\\",\\\"4.8\\\",\\\"4.9\\\",\\\"5.0\\\",\\\"5.1\\\",\\\"5.2\\\",\\\"5.3\\\",\\\"5.4\\\",\\\"5.5\\\",\\\"5.6\\\",\\\"5.7\\\",\\\"5.8\\\",\\\"5.9\\\",\\\"6.0\\\",\\\"6.1\\\",\\\"6.2\\\",\\\"6.3\\\",\\\"6.4\\\",\\\"6.5\\\",\\\"6.6\\\",\\\"6.7\\\",\\\"6.8\\\",\\\"6.9\\\",\\\"7.0\\\",\\\"7.1\\\",\\\"7.2\\\",\\\"7.3\\\",\\\"7.4\\\",\\\"7.5\\\",\\\"7.6\\\",\\\"7.7\\\",\\\"7.8\\\",\\\"7.9\\\",\\\"8.0\\\",\\\"8.1\\\",\\\"8.2\\\",\\\"8.3\\\",\\\"8.4\\\",\\\"8.5\\\",\\\"8.6\\\",\\\"8.7\\\",\\\"8.8\\\",\\\"8.9\\\",\\\"9.0\\\",\\\"9.1\\\",\\\"9.2\\\",\\\"9.3\\\",\\\"9.4\\\",\\\"9.5\\\",\\\"9.6\\\",\\\"9.7\\\",\\\"9.8\\\",\\\"9.9\\\",\\\"10.0\\\",\\\"10.1\\\",\\\"10.2\\\",\\\"10.3\\\",\\\"10.4\\\",\\\"10.5\\\",\\\"10.6\\\",\\\"10.7\\\",\\\"10.8\\\",\\\"10.9\\\",\\\"11.0\\\",\\\"11.1\\\",\\\"11.2\\\",\\\"11.3\\\",\\\"11.4\\\",\\\"11.5\\\",\\\"11.6\\\",\\\"11.7\\\",\\\"11.8\\\",\\\"11.9\\\",\\\"12.0\\\",\\\"12.1\\\",\\\"12.2\\\",\\\"12.3\\\",\\\"12.4\\\",\\\"12.5\\\",\\\"12.6\\\",\\\"12.7\\\",\\\"12.8\\\",\\\"12.9\\\",\\\"13.0\\\",\\\"13.1\\\",\\\"13.2\\\",\\\"13.3\\\",\\\"13.4\\\",\\\"13.5\\\",\\\"13.6\\\",\\\"13.7\\\",\\\"13.8\\\",\\\"13.9\\\",\\\"14.0\\\",\\\"14.1\\\",\\\"14.2\\\",\\\"14.3\\\",\\\"14.4\\\",\\\"14.5\\\",\\\"14.6\\\",\\\"14.7\\\",\\\"14.8\\\",\\\"14.9\\\",\\\"15.0\\\",\\\"15.1\\\",\\\"15.2\\\",\\\"15.3\\\",\\\"15.4\\\",\\\"15.5\\\",\\\"15.6\\\",\\\"15.7\\\",\\\"15.8\\\",\\\"15.9\\\",\\\"16.0\\\",\\\"16.1\\\",\\\"16.2\\\",\\\"16.3\\\",\\\"16.4\\\",\\\"16.5\\\",\\\"16.6\\\",\\\"16.7\\\",\\\"16.8\\\",\\\"16.9\\\",\\\"17.0\\\",\\\"17.1\\\",\\\"17.2\\\",\\\"17.3\\\",\\\"17.4\\\",\\\"17.5\\\",\\\"17.6\\\",\\\"17.7\\\",\\\"17.8\\\",\\\"17.9\\\",\\\"18.0\\\",\\\"18.1\\\",\\\"18.2\\\",\\\"18.3\\\",\\\"18.4\\\",\\\"18.5\\\",\\\"18.6\\\",\\\"18.7\\\",\\\"18.8\\\",\\\"18.9\\\",\\\"19.0\\\",\\\"19.1\\\",\\\"19.2\\\",\\\"19.3\\\",\\\"19.4\\\",\\\"19.5\\\",\\\"19.6\\\",\\\"19.7\\\",\\\"19.8\\\",\\\"19.9\\\",\\\"20.0\\\"],\\\"changes\\\":WebIO.getval({\\\"name\\\":\\\"changes\\\",\\\"scope\\\":\\\"6218423094975499465\\\",\\\"id\\\":\\\"18120254936319606867\\\",\\\"type\\\":\\\"observable\\\"}),\\\"index\\\":WebIO.getval({\\\"name\\\":\\\"index\\\",\\\"scope\\\":\\\"6218423094975499465\\\",\\\"id\\\":\\\"3233606470651789446\\\",\\\"type\\\":\\\"observable\\\"})};\\n    var self = this;\\n    function AppViewModel() {\\n        for (var key in json_data) {\\n            var el = json_data[key];\\n            this[key] = Array.isArray(el) ? ko.observableArray(el) : ko.observable(el);\\n        }\\n        \\n        [this[\\\"formatted_val\\\"]=ko.computed(    function(){\\n        return this.formatted_vals()[parseInt(this.index())-(1)];\\n    }\\n,this)]\\n        [this[\\\"changes\\\"].subscribe((function (val){!(this.valueFromJulia[\\\"changes\\\"]) ? (WebIO.setval({\\\"name\\\":\\\"changes\\\",\\\"scope\\\":\\\"6218423094975499465\\\",\\\"id\\\":\\\"18120254936319606867\\\",\\\"type\\\":\\\"observable\\\"},val)) : undefined; return this.valueFromJulia[\\\"changes\\\"]=false}),self),this[\\\"index\\\"].subscribe((function (val){!(this.valueFromJulia[\\\"index\\\"]) ? (WebIO.setval({\\\"name\\\":\\\"index\\\",\\\"scope\\\":\\\"6218423094975499465\\\",\\\"id\\\":\\\"3233606470651789446\\\",\\\"type\\\":\\\"observable\\\"},val)) : undefined; return this.valueFromJulia[\\\"index\\\"]=false}),self)]\\n        \\n    }\\n    self.model = new AppViewModel();\\n    self.valueFromJulia = {};\\n    for (var key in json_data) {\\n        self.valueFromJulia[key] = false;\\n    }\\n    ko.applyBindings(self.model, self.dom);\\n}\\n);\\n    (WebIO.importBlock({\\\"data\\\":[{\\\"name\\\":\\\"knockout\\\",\\\"type\\\":\\\"js\\\",\\\"url\\\":\\\"\\/assetserver\\/92c2f1237c7de526b82b854e47551e089e074ac2-knockout.js\\\"},{\\\"name\\\":\\\"knockout_punches\\\",\\\"type\\\":\\\"js\\\",\\\"url\\\":\\\"\\/assetserver\\/39e4d1dceef49085ebf36edb09c92c7574c58816-knockout_punches.js\\\"}],\\\"type\\\":\\\"async_block\\\"})).then((imports) => handler.apply(this, imports));\\n}\\n\"],\"observables\":{\"changes\":{\"sync\":false,\"id\":\"18120254936319606867\",\"value\":0},\"index\":{\"sync\":true,\"id\":\"3233606470651789446\",\"value\":101}}},\"children\":[{\"props\":{\"className\":\"interact-flex-row interact-widget\"},\"nodeType\":\"DOM\",\"type\":\"node\",\"instanceArgs\":{\"namespace\":\"html\",\"tag\":\"div\"},\"children\":[{\"props\":{\"className\":\"interact-flex-row-left\"},\"nodeType\":\"DOM\",\"type\":\"node\",\"instanceArgs\":{\"namespace\":\"html\",\"tag\":\"div\"},\"children\":[{\"props\":{\"className\":\"interact \",\"style\":{\"padding\":\"5px 10px 0px 10px\"}},\"nodeType\":\"DOM\",\"type\":\"node\",\"instanceArgs\":{\"namespace\":\"html\",\"tag\":\"label\"},\"children\":[\"Amplitude y\"]}]},{\"props\":{\"className\":\"interact-flex-row-center\"},\"nodeType\":\"DOM\",\"type\":\"node\",\"instanceArgs\":{\"namespace\":\"html\",\"tag\":\"div\"},\"children\":[{\"props\":{\"max\":201,\"min\":1,\"attributes\":{\"type\":\"range\",\"data-bind\":\"numericValue: index, valueUpdate: 'input', event: {change: function (){this.changes(this.changes()+1)}}\",\"orient\":\"horizontal\"},\"step\":1,\"className\":\"slider slider is-fullwidth\",\"style\":{}},\"nodeType\":\"DOM\",\"type\":\"node\",\"instanceArgs\":{\"namespace\":\"html\",\"tag\":\"input\"},\"children\":[]}]},{\"props\":{\"className\":\"interact-flex-row-right\"},\"nodeType\":\"DOM\",\"type\":\"node\",\"instanceArgs\":{\"namespace\":\"html\",\"tag\":\"div\"},\"children\":[{\"props\":{\"attributes\":{\"data-bind\":\"text: formatted_val\"}},\"nodeType\":\"DOM\",\"type\":\"node\",\"instanceArgs\":{\"namespace\":\"html\",\"tag\":\"p\"},\"children\":[]}]}]}]}]},{\"props\":{},\"nodeType\":\"Scope\",\"type\":\"node\",\"instanceArgs\":{\"imports\":{\"data\":[],\"type\":\"async_block\"},\"id\":\"9199828949365038648\",\"handlers\":{},\"systemjs_options\":null,\"mount_callbacks\":[],\"observables\":{\"obs-node\":{\"sync\":false,\"id\":\"3728762349654485856\",\"value\":{\"props\":{\"className\":\"interact-flex-row interact-widget\"},\"nodeType\":\"DOM\",\"type\":\"node\",\"instanceArgs\":{\"namespace\":\"html\",\"tag\":\"div\"},\"children\":[{\"props\":{\"setInnerHtml\":\"<pre>SurfaceGrid(...)<\\/pre>\"},\"nodeType\":\"DOM\",\"type\":\"node\",\"instanceArgs\":{\"namespace\":\"html\",\"tag\":\"div\"},\"children\":[]}]}}}},\"children\":[{\"props\":{},\"nodeType\":\"ObservableNode\",\"type\":\"node\",\"instanceArgs\":{\"id\":\"3728762349654485856\",\"name\":\"obs-node\"},\"children\":[]}]}]},\n",
       "            window,\n",
       "        );\n",
       "    } else {\n",
       "        document\n",
       "            .querySelector('[data-webio-mountpoint=\"13500946843320509397\"]')\n",
       "            .innerHTML = (\n",
       "                '<div style=\"padding: 1em; background-color: #f8d6da; border: 1px solid #f5c6cb\">' +\n",
       "                '<p><strong>WebIO not detected.</strong></p>' +\n",
       "                '<p>Please read ' +\n",
       "                '<a href=\"https://juliagizmos.github.io/WebIO.jl/latest/troubleshooting/not-detected/\" target=\"_blank\">the troubleshooting guide</a> ' +\n",
       "                'for more information on how to resolve this issue.</p>' +\n",
       "                '<p><a href=\"https://juliagizmos.github.io/WebIO.jl/latest/troubleshooting/not-detected/\" target=\"_blank\">https://juliagizmos.github.io/WebIO.jl/latest/troubleshooting/not-detected/</a></p>' +\n",
       "                '</div>'\n",
       "            );\n",
       "    }\n",
       "    </script>\n",
       "</div>\n"
      ],
      "text/plain": [
       "Node{WebIO.DOM}(WebIO.DOM(:html, :div), Any[Node{WebIO.DOM}(WebIO.DOM(:html, :div), Any[Scope(Node{WebIO.DOM}(WebIO.DOM(:html, :div), Any[Node{WebIO.DOM}(WebIO.DOM(:html, :div), Any[Node{WebIO.DOM}(WebIO.DOM(:html, :label), Any[\"Amplitude x\"], Dict{Symbol,Any}(:className => \"interact \",:style => Dict{Any,Any}(:padding => \"5px 10px 0px 10px\")))], Dict{Symbol,Any}(:className => \"interact-flex-row-left\")), Node{WebIO.DOM}(WebIO.DOM(:html, :div), Any[Node{WebIO.DOM}(WebIO.DOM(:html, :input), Any[], Dict{Symbol,Any}(:max => 31,:min => 1,:attributes => Dict{Any,Any}(:type => \"range\",Symbol(\"data-bind\") => \"numericValue: index, valueUpdate: 'input', event: {change: function (){this.changes(this.changes()+1)}}\",\"orient\" => \"horizontal\"),:step => 1,:className => \"slider slider is-fullwidth\",:style => Dict{Any,Any}()))], Dict{Symbol,Any}(:className => \"interact-flex-row-center\")), Node{WebIO.DOM}(WebIO.DOM(:html, :div), Any[Node{WebIO.DOM}(WebIO.DOM(:html, :p), Any[], Dict{Symbol,Any}(:attributes => Dict(\"data-bind\" => \"text: formatted_val\")))], Dict{Symbol,Any}(:className => \"interact-flex-row-right\"))], Dict{Symbol,Any}(:className => \"interact-flex-row interact-widget\")), Dict{String,Tuple{Observables.AbstractObservable,Union{Nothing, Bool}}}(\"changes\" => (Observable{Int64} with 1 listeners. Value:\n",
       "0, nothing),\"index\" => (Observable{Any} with 2 listeners. Value:\n",
       "16, nothing)), Set(String[]), nothing, Asset[Asset(\"js\", \"knockout\", \"C:\\\\Users\\\\ines\\\\.julia\\\\packages\\\\Knockout\\\\IP1uR\\\\src\\\\..\\\\assets\\\\knockout.js\"), Asset(\"js\", \"knockout_punches\", \"C:\\\\Users\\\\ines\\\\.julia\\\\packages\\\\Knockout\\\\IP1uR\\\\src\\\\..\\\\assets\\\\knockout_punches.js\"), Asset(\"js\", nothing, \"C:\\\\Users\\\\ines\\\\.julia\\\\packages\\\\InteractBase\\\\sOe2Z\\\\src\\\\..\\\\assets\\\\all.js\"), Asset(\"css\", nothing, \"C:\\\\Users\\\\ines\\\\.julia\\\\packages\\\\InteractBase\\\\sOe2Z\\\\src\\\\..\\\\assets\\\\style.css\"), Asset(\"css\", nothing, \"C:\\\\Users\\\\ines\\\\.julia\\\\packages\\\\Interact\\\\SbgIk\\\\src\\\\..\\\\assets\\\\bulma_confined.min.css\")], Dict{Any,Any}(\"changes\" => Any[WebIO.JSString(\"(function (val){return (val!=this.model[\\\"changes\\\"]()) ? (this.valueFromJulia[\\\"changes\\\"]=true, this.model[\\\"changes\\\"](val)) : undefined})\")],\"index\" => Any[WebIO.JSString(\"(function (val){return (val!=this.model[\\\"index\\\"]()) ? (this.valueFromJulia[\\\"index\\\"]=true, this.model[\\\"index\\\"](val)) : undefined})\")]), WebIO.ConnectionPool(Channel{Any}(sz_max:32,sz_curr:0), Set(AbstractConnection[]), Base.GenericCondition{Base.AlwaysLockedST}(Base.InvasiveLinkedList{Task}(Task (runnable) @0x00000000424bb0f0, Task (runnable) @0x00000000424bb0f0), Base.AlwaysLockedST(1))), WebIO.JSString[WebIO.JSString(\"function () {\\n    var handler = (function (ko, koPunches) {\\n    ko.punches.enableAll();\\n    ko.bindingHandlers.numericValue = {\\n        init: function(element, valueAccessor, allBindings, data, context) {\\n            var stringified = ko.observable(ko.unwrap(valueAccessor()));\\n            stringified.subscribe(function(value) {\\n                var val = parseFloat(value);\\n                if (!isNaN(val)) {\\n                    valueAccessor()(val);\\n                }\\n            });\\n            valueAccessor().subscribe(function(value) {\\n                var str = JSON.stringify(value);\\n                if ((str == \\\"0\\\") && ([\\\"-0\\\", \\\"-0.\\\"].indexOf(stringified()) >= 0))\\n                     return;\\n                 if ([\\\"null\\\", \\\"\\\"].indexOf(str) >= 0)\\n                     return;\\n                stringified(str);\\n            });\\n            ko.applyBindingsToNode(\\n                element,\\n                {\\n                    value: stringified,\\n                    valueUpdate: allBindings.get('valueUpdate'),\\n                },\\n                context,\\n            );\\n        }\\n    };\\n    var json_data = {\\\"formatted_vals\\\":[\\\"0.0\\\",\\\"0.1\\\",\\\"0.2\\\",\\\"0.3\\\",\\\"0.4\\\",\\\"0.5\\\",\\\"0.6\\\",\\\"0.7\\\",\\\"0.8\\\",\\\"0.9\\\",\\\"1.0\\\",\\\"1.1\\\",\\\"1.2\\\",\\\"1.3\\\",\\\"1.4\\\",\\\"1.5\\\",\\\"1.6\\\",\\\"1.7\\\",\\\"1.8\\\",\\\"1.9\\\",\\\"2.0\\\",\\\"2.1\\\",\\\"2.2\\\",\\\"2.3\\\",\\\"2.4\\\",\\\"2.5\\\",\\\"2.6\\\",\\\"2.7\\\",\\\"2.8\\\",\\\"2.9\\\",\\\"3.0\\\"],\\\"changes\\\":WebIO.getval({\\\"name\\\":\\\"changes\\\",\\\"scope\\\":\\\"3356790137888776895\\\",\\\"id\\\":\\\"8515458310599882600\\\",\\\"type\\\":\\\"observable\\\"}),\\\"index\\\":WebIO.getval({\\\"name\\\":\\\"index\\\",\\\"scope\\\":\\\"3356790137888776895\\\",\\\"id\\\":\\\"4609041708143880307\\\",\\\"type\\\":\\\"observable\\\"})};\\n    var self = this;\\n    function AppViewModel() {\\n        for (var key in json_data) {\\n            var el = json_data[key];\\n            this[key] = Array.isArray(el) ? ko.observableArray(el) : ko.observable(el);\\n        }\\n        \\n        [this[\\\"formatted_val\\\"]=ko.computed(    function(){\\n        return this.formatted_vals()[parseInt(this.index())-(1)];\\n    }\\n,this)]\\n        [this[\\\"changes\\\"].subscribe((function (val){!(this.valueFromJulia[\\\"changes\\\"]) ? (WebIO.setval({\\\"name\\\":\\\"changes\\\",\\\"scope\\\":\\\"3356790137888776895\\\",\\\"id\\\":\\\"8515458310599882600\\\",\\\"type\\\":\\\"observable\\\"},val)) : undefined; return this.valueFromJulia[\\\"changes\\\"]=false}),self),this[\\\"index\\\"].subscribe((function (val){!(this.valueFromJulia[\\\"index\\\"]) ? (WebIO.setval({\\\"name\\\":\\\"index\\\",\\\"scope\\\":\\\"3356790137888776895\\\",\\\"id\\\":\\\"4609041708143880307\\\",\\\"type\\\":\\\"observable\\\"},val)) : undefined; return this.valueFromJulia[\\\"index\\\"]=false}),self)]\\n        \\n    }\\n    self.model = new AppViewModel();\\n    self.valueFromJulia = {};\\n    for (var key in json_data) {\\n        self.valueFromJulia[key] = false;\\n    }\\n    ko.applyBindings(self.model, self.dom);\\n}\\n);\\n    (WebIO.importBlock({\\\"data\\\":[{\\\"name\\\":\\\"knockout\\\",\\\"type\\\":\\\"js\\\",\\\"url\\\":\\\"/assetserver/92c2f1237c7de526b82b854e47551e089e074ac2-knockout.js\\\"},{\\\"name\\\":\\\"knockout_punches\\\",\\\"type\\\":\\\"js\\\",\\\"url\\\":\\\"/assetserver/39e4d1dceef49085ebf36edb09c92c7574c58816-knockout_punches.js\\\"}],\\\"type\\\":\\\"async_block\\\"})).then((imports) => handler.apply(this, imports));\\n}\\n\")])], Dict{Symbol,Any}(:className => \"field interact-widget\")), Node{WebIO.DOM}(WebIO.DOM(:html, :div), Any[Scope(Node{WebIO.DOM}(WebIO.DOM(:html, :div), Any[Node{WebIO.DOM}(WebIO.DOM(:html, :div), Any[Node{WebIO.DOM}(WebIO.DOM(:html, :label), Any[\"Amplitude y\"], Dict{Symbol,Any}(:className => \"interact \",:style => Dict{Any,Any}(:padding => \"5px 10px 0px 10px\")))], Dict{Symbol,Any}(:className => \"interact-flex-row-left\")), Node{WebIO.DOM}(WebIO.DOM(:html, :div), Any[Node{WebIO.DOM}(WebIO.DOM(:html, :input), Any[], Dict{Symbol,Any}(:max => 201,:min => 1,:attributes => Dict{Any,Any}(:type => \"range\",Symbol(\"data-bind\") => \"numericValue: index, valueUpdate: 'input', event: {change: function (){this.changes(this.changes()+1)}}\",\"orient\" => \"horizontal\"),:step => 1,:className => \"slider slider is-fullwidth\",:style => Dict{Any,Any}()))], Dict{Symbol,Any}(:className => \"interact-flex-row-center\")), Node{WebIO.DOM}(WebIO.DOM(:html, :div), Any[Node{WebIO.DOM}(WebIO.DOM(:html, :p), Any[], Dict{Symbol,Any}(:attributes => Dict(\"data-bind\" => \"text: formatted_val\")))], Dict{Symbol,Any}(:className => \"interact-flex-row-right\"))], Dict{Symbol,Any}(:className => \"interact-flex-row interact-widget\")), Dict{String,Tuple{Observables.AbstractObservable,Union{Nothing, Bool}}}(\"changes\" => (Observable{Int64} with 1 listeners. Value:\n",
       "0, nothing),\"index\" => (Observable{Any} with 2 listeners. Value:\n",
       "101, nothing)), Set(String[]), nothing, Asset[Asset(\"js\", \"knockout\", \"C:\\\\Users\\\\ines\\\\.julia\\\\packages\\\\Knockout\\\\IP1uR\\\\src\\\\..\\\\assets\\\\knockout.js\"), Asset(\"js\", \"knockout_punches\", \"C:\\\\Users\\\\ines\\\\.julia\\\\packages\\\\Knockout\\\\IP1uR\\\\src\\\\..\\\\assets\\\\knockout_punches.js\"), Asset(\"js\", nothing, \"C:\\\\Users\\\\ines\\\\.julia\\\\packages\\\\InteractBase\\\\sOe2Z\\\\src\\\\..\\\\assets\\\\all.js\"), Asset(\"css\", nothing, \"C:\\\\Users\\\\ines\\\\.julia\\\\packages\\\\InteractBase\\\\sOe2Z\\\\src\\\\..\\\\assets\\\\style.css\"), Asset(\"css\", nothing, \"C:\\\\Users\\\\ines\\\\.julia\\\\packages\\\\Interact\\\\SbgIk\\\\src\\\\..\\\\assets\\\\bulma_confined.min.css\")], Dict{Any,Any}(\"changes\" => Any[WebIO.JSString(\"(function (val){return (val!=this.model[\\\"changes\\\"]()) ? (this.valueFromJulia[\\\"changes\\\"]=true, this.model[\\\"changes\\\"](val)) : undefined})\")],\"index\" => Any[WebIO.JSString(\"(function (val){return (val!=this.model[\\\"index\\\"]()) ? (this.valueFromJulia[\\\"index\\\"]=true, this.model[\\\"index\\\"](val)) : undefined})\")]), WebIO.ConnectionPool(Channel{Any}(sz_max:32,sz_curr:0), Set(AbstractConnection[]), Base.GenericCondition{Base.AlwaysLockedST}(Base.InvasiveLinkedList{Task}(Task (runnable) @0x0000000043ad4e70, Task (runnable) @0x0000000043ad4e70), Base.AlwaysLockedST(1))), WebIO.JSString[WebIO.JSString(\"function () {\\n    var handler = (function (ko, koPunches) {\\n    ko.punches.enableAll();\\n    ko.bindingHandlers.numericValue = {\\n        init: function(element, valueAccessor, allBindings, data, context) {\\n            var stringified = ko.observable(ko.unwrap(valueAccessor()));\\n            stringified.subscribe(function(value) {\\n                var val = parseFloat(value);\\n                if (!isNaN(val)) {\\n                    valueAccessor()(val);\\n                }\\n            });\\n            valueAccessor().subscribe(function(value) {\\n                var str = JSON.stringify(value);\\n                if ((str == \\\"0\\\") && ([\\\"-0\\\", \\\"-0.\\\"].indexOf(stringified()) >= 0))\\n                     return;\\n                 if ([\\\"null\\\", \\\"\\\"].indexOf(str) >= 0)\\n                     return;\\n                stringified(str);\\n            });\\n            ko.applyBindingsToNode(\\n                element,\\n                {\\n                    value: stringified,\\n                    valueUpdate: allBindings.get('valueUpdate'),\\n                },\\n                context,\\n            );\\n        }\\n    };\\n    var json_data = {\\\"formatted_vals\\\":[\\\"0.0\\\",\\\"0.1\\\",\\\"0.2\\\",\\\"0.3\\\",\\\"0.4\\\",\\\"0.5\\\",\\\"0.6\\\",\\\"0.7\\\",\\\"0.8\\\",\\\"0.9\\\",\\\"1.0\\\",\\\"1.1\\\",\\\"1.2\\\",\\\"1.3\\\",\\\"1.4\\\",\\\"1.5\\\",\\\"1.6\\\",\\\"1.7\\\",\\\"1.8\\\",\\\"1.9\\\",\\\"2.0\\\",\\\"2.1\\\",\\\"2.2\\\",\\\"2.3\\\",\\\"2.4\\\",\\\"2.5\\\",\\\"2.6\\\",\\\"2.7\\\",\\\"2.8\\\",\\\"2.9\\\",\\\"3.0\\\",\\\"3.1\\\",\\\"3.2\\\",\\\"3.3\\\",\\\"3.4\\\",\\\"3.5\\\",\\\"3.6\\\",\\\"3.7\\\",\\\"3.8\\\",\\\"3.9\\\",\\\"4.0\\\",\\\"4.1\\\",\\\"4.2\\\",\\\"4.3\\\",\\\"4.4\\\",\\\"4.5\\\",\\\"4.6\\\",\\\"4.7\\\",\\\"4.8\\\",\\\"4.9\\\",\\\"5.0\\\",\\\"5.1\\\",\\\"5.2\\\",\\\"5.3\\\",\\\"5.4\\\",\\\"5.5\\\",\\\"5.6\\\",\\\"5.7\\\",\\\"5.8\\\",\\\"5.9\\\",\\\"6.0\\\",\\\"6.1\\\",\\\"6.2\\\",\\\"6.3\\\",\\\"6.4\\\",\\\"6.5\\\",\\\"6.6\\\",\\\"6.7\\\",\\\"6.8\\\",\\\"6.9\\\",\\\"7.0\\\",\\\"7.1\\\",\\\"7.2\\\",\\\"7.3\\\",\\\"7.4\\\",\\\"7.5\\\",\\\"7.6\\\",\\\"7.7\\\",\\\"7.8\\\",\\\"7.9\\\",\\\"8.0\\\",\\\"8.1\\\",\\\"8.2\\\",\\\"8.3\\\",\\\"8.4\\\",\\\"8.5\\\",\\\"8.6\\\",\\\"8.7\\\",\\\"8.8\\\",\\\"8.9\\\",\\\"9.0\\\",\\\"9.1\\\",\\\"9.2\\\",\\\"9.3\\\",\\\"9.4\\\",\\\"9.5\\\",\\\"9.6\\\",\\\"9.7\\\",\\\"9.8\\\",\\\"9.9\\\",\\\"10.0\\\",\\\"10.1\\\",\\\"10.2\\\",\\\"10.3\\\",\\\"10.4\\\",\\\"10.5\\\",\\\"10.6\\\",\\\"10.7\\\",\\\"10.8\\\",\\\"10.9\\\",\\\"11.0\\\",\\\"11.1\\\",\\\"11.2\\\",\\\"11.3\\\",\\\"11.4\\\",\\\"11.5\\\",\\\"11.6\\\",\\\"11.7\\\",\\\"11.8\\\",\\\"11.9\\\",\\\"12.0\\\",\\\"12.1\\\",\\\"12.2\\\",\\\"12.3\\\",\\\"12.4\\\",\\\"12.5\\\",\\\"12.6\\\",\\\"12.7\\\",\\\"12.8\\\",\\\"12.9\\\",\\\"13.0\\\",\\\"13.1\\\",\\\"13.2\\\",\\\"13.3\\\",\\\"13.4\\\",\\\"13.5\\\",\\\"13.6\\\",\\\"13.7\\\",\\\"13.8\\\",\\\"13.9\\\",\\\"14.0\\\",\\\"14.1\\\",\\\"14.2\\\",\\\"14.3\\\",\\\"14.4\\\",\\\"14.5\\\",\\\"14.6\\\",\\\"14.7\\\",\\\"14.8\\\",\\\"14.9\\\",\\\"15.0\\\",\\\"15.1\\\",\\\"15.2\\\",\\\"15.3\\\",\\\"15.4\\\",\\\"15.5\\\",\\\"15.6\\\",\\\"15.7\\\",\\\"15.8\\\",\\\"15.9\\\",\\\"16.0\\\",\\\"16.1\\\",\\\"16.2\\\",\\\"16.3\\\",\\\"16.4\\\",\\\"16.5\\\",\\\"16.6\\\",\\\"16.7\\\",\\\"16.8\\\",\\\"16.9\\\",\\\"17.0\\\",\\\"17.1\\\",\\\"17.2\\\",\\\"17.3\\\",\\\"17.4\\\",\\\"17.5\\\",\\\"17.6\\\",\\\"17.7\\\",\\\"17.8\\\",\\\"17.9\\\",\\\"18.0\\\",\\\"18.1\\\",\\\"18.2\\\",\\\"18.3\\\",\\\"18.4\\\",\\\"18.5\\\",\\\"18.6\\\",\\\"18.7\\\",\\\"18.8\\\",\\\"18.9\\\",\\\"19.0\\\",\\\"19.1\\\",\\\"19.2\\\",\\\"19.3\\\",\\\"19.4\\\",\\\"19.5\\\",\\\"19.6\\\",\\\"19.7\\\",\\\"19.8\\\",\\\"19.9\\\",\\\"20.0\\\"],\\\"changes\\\":WebIO.getval({\\\"name\\\":\\\"changes\\\",\\\"scope\\\":\\\"6218423094975499465\\\",\\\"id\\\":\\\"18120254936319606867\\\",\\\"type\\\":\\\"observable\\\"}),\\\"index\\\":WebIO.getval({\\\"name\\\":\\\"index\\\",\\\"scope\\\":\\\"6218423094975499465\\\",\\\"id\\\":\\\"3233606470651789446\\\",\\\"type\\\":\\\"observable\\\"})};\\n    var self = this;\\n    function AppViewModel() {\\n        for (var key in json_data) {\\n            var el = json_data[key];\\n            this[key] = Array.isArray(el) ? ko.observableArray(el) : ko.observable(el);\\n        }\\n        \\n        [this[\\\"formatted_val\\\"]=ko.computed(    function(){\\n        return this.formatted_vals()[parseInt(this.index())-(1)];\\n    }\\n,this)]\\n        [this[\\\"changes\\\"].subscribe((function (val){!(this.valueFromJulia[\\\"changes\\\"]) ? (WebIO.setval({\\\"name\\\":\\\"changes\\\",\\\"scope\\\":\\\"6218423094975499465\\\",\\\"id\\\":\\\"18120254936319606867\\\",\\\"type\\\":\\\"observable\\\"},val)) : undefined; return this.valueFromJulia[\\\"changes\\\"]=false}),self),this[\\\"index\\\"].subscribe((function (val){!(this.valueFromJulia[\\\"index\\\"]) ? (WebIO.setval({\\\"name\\\":\\\"index\\\",\\\"scope\\\":\\\"6218423094975499465\\\",\\\"id\\\":\\\"3233606470651789446\\\",\\\"type\\\":\\\"observable\\\"},val)) : undefined; return this.valueFromJulia[\\\"index\\\"]=false}),self)]\\n        \\n    }\\n    self.model = new AppViewModel();\\n    self.valueFromJulia = {};\\n    for (var key in json_data) {\\n        self.valueFromJulia[key] = false;\\n    }\\n    ko.applyBindings(self.model, self.dom);\\n}\\n);\\n    (WebIO.importBlock({\\\"data\\\":[{\\\"name\\\":\\\"knockout\\\",\\\"type\\\":\\\"js\\\",\\\"url\\\":\\\"/assetserver/92c2f1237c7de526b82b854e47551e089e074ac2-knockout.js\\\"},{\\\"name\\\":\\\"knockout_punches\\\",\\\"type\\\":\\\"js\\\",\\\"url\\\":\\\"/assetserver/39e4d1dceef49085ebf36edb09c92c7574c58816-knockout_punches.js\\\"}],\\\"type\\\":\\\"async_block\\\"})).then((imports) => handler.apply(this, imports));\\n}\\n\")])], Dict{Symbol,Any}(:className => \"field interact-widget\")), Observable{Any} with 0 listeners. Value:\n",
       "Node{WebIO.DOM}(WebIO.DOM(:html, :div), Any[SurfaceGrid(...)], Dict{Symbol,Any}(:className => \"interact-flex-row interact-widget\"))], Dict{Symbol,Any}())"
      ]
     },
     "execution_count": 12,
     "metadata": {
      "application/vnd.webio.node+json": {
       "kernelId": "d5ed2ba6-ae4b-42eb-88ac-197fdb5a4e8a"
      }
     },
     "output_type": "execute_result"
    }
   ],
   "source": [
    "backend(meshcat)\n",
    "new_backend()\n",
    "\n",
    "@manipulate for ampx = widget(0:0.1:3, label=\"Amplitude x\"),\n",
    "                ampy = widget(0:0.1:20, label=\"Amplitude y\")\n",
    "            delete_all_shapes()\n",
    "            surface_grid(damped_sin_roof_pts(u0(), ampx, ampy, 0, 0.1, 0.2, 1, 50, 100, 100, 200))\n",
    "end"
   ]
  },
  {
   "cell_type": "code",
   "execution_count": 13,
   "metadata": {},
   "outputs": [
    {
     "data": {
      "text/plain": [
       "damped_sin_roof_pts (generic function with 2 methods)"
      ]
     },
     "execution_count": 13,
     "metadata": {},
     "output_type": "execute_result"
    }
   ],
   "source": [
    "damped_sin_roof_pts(p, h, a_x, a_y_min, a_y_max, fi, decay, om_x, om_y, dist_x, dist_y, n_x, n_y) =\n",
    "    map_division((x, y) ->\n",
    "                y <= d_i ?\n",
    "                p + vxyz(x, \n",
    "                         -sin(y/d_i*(1*pi)), \n",
    "                         y*h/d_i + sin(x/dist_x*pi)sinusoidal(a_x, om_x, fi-y*pi/dist_y, x)*(y*a_x/d_i)) :\n",
    "                p + vxyz(x,\n",
    "                         y,\n",
    "                         h + sin(x/dist_x*pi)*sinusoidal(a_x, om_x, fi-y*pi/dist_y, x) +\n",
    "                         damped_sin_wave(a_y_max - (a_y_max-a_y_min)/dist_x*x, decay, om_y, y)),\n",
    "             0, dist_x, n_x,\n",
    "             0, dist_y, n_y)"
   ]
  },
  {
   "cell_type": "markdown",
   "metadata": {},
   "source": [
    "`d_i`is the distance between the pavillion starting point and the beginning of the dumped sine curve."
   ]
  },
  {
   "cell_type": "code",
   "execution_count": 14,
   "metadata": {},
   "outputs": [
    {
     "name": "stderr",
     "output_type": "stream",
     "text": [
      "┌ Info: MeshCat server started. You can open the visualizer by visiting the following URL in your browser:\n",
      "│ http://localhost:8701\n",
      "└ @ MeshCat C:\\Users\\ines\\.julia\\packages\\MeshCat\\ECbzr\\src\\visualizer.jl:73\n"
     ]
    },
    {
     "data": {
      "text/html": [
       "<div style=\"height: 400px; width: 800px; overflow-x: auto; overflow-y: hidden; resize: both\">\n",
       "<iframe src=\"http://localhost:8701\" style=\"width: 100%; height: 100%; border: none\"></iframe>\n",
       "</div>\n"
      ],
      "text/plain": [
       "Khepri.MCATViewer(MeshCat Visualizer with path /meshcat at http://localhost:8701)"
      ]
     },
     "metadata": {},
     "output_type": "display_data"
    },
    {
     "data": {
      "application/vnd.webio.node+json": {
       "children": [
        {
         "children": [
          {
           "children": [
            {
             "children": [
              {
               "children": [
                {
                 "children": [
                  "Amplitude x"
                 ],
                 "instanceArgs": {
                  "namespace": "html",
                  "tag": "label"
                 },
                 "nodeType": "DOM",
                 "props": {
                  "className": "interact ",
                  "style": {
                   "padding": "5px 10px 0px 10px"
                  }
                 },
                 "type": "node"
                }
               ],
               "instanceArgs": {
                "namespace": "html",
                "tag": "div"
               },
               "nodeType": "DOM",
               "props": {
                "className": "interact-flex-row-left"
               },
               "type": "node"
              },
              {
               "children": [
                {
                 "children": [],
                 "instanceArgs": {
                  "namespace": "html",
                  "tag": "input"
                 },
                 "nodeType": "DOM",
                 "props": {
                  "attributes": {
                   "data-bind": "numericValue: index, valueUpdate: 'input', event: {change: function (){this.changes(this.changes()+1)}}",
                   "orient": "horizontal",
                   "type": "range"
                  },
                  "className": "slider slider is-fullwidth",
                  "max": 21,
                  "min": 1,
                  "step": 1,
                  "style": {}
                 },
                 "type": "node"
                }
               ],
               "instanceArgs": {
                "namespace": "html",
                "tag": "div"
               },
               "nodeType": "DOM",
               "props": {
                "className": "interact-flex-row-center"
               },
               "type": "node"
              },
              {
               "children": [
                {
                 "children": [],
                 "instanceArgs": {
                  "namespace": "html",
                  "tag": "p"
                 },
                 "nodeType": "DOM",
                 "props": {
                  "attributes": {
                   "data-bind": "text: formatted_val"
                  }
                 },
                 "type": "node"
                }
               ],
               "instanceArgs": {
                "namespace": "html",
                "tag": "div"
               },
               "nodeType": "DOM",
               "props": {
                "className": "interact-flex-row-right"
               },
               "type": "node"
              }
             ],
             "instanceArgs": {
              "namespace": "html",
              "tag": "div"
             },
             "nodeType": "DOM",
             "props": {
              "className": "interact-flex-row interact-widget"
             },
             "type": "node"
            }
           ],
           "instanceArgs": {
            "handlers": {
             "changes": [
              "(function (val){return (val!=this.model[\"changes\"]()) ? (this.valueFromJulia[\"changes\"]=true, this.model[\"changes\"](val)) : undefined})"
             ],
             "index": [
              "(function (val){return (val!=this.model[\"index\"]()) ? (this.valueFromJulia[\"index\"]=true, this.model[\"index\"](val)) : undefined})"
             ]
            },
            "id": "2799899913936741616",
            "imports": {
             "data": [
              {
               "name": "knockout",
               "type": "js",
               "url": "/assetserver/92c2f1237c7de526b82b854e47551e089e074ac2-knockout.js"
              },
              {
               "name": "knockout_punches",
               "type": "js",
               "url": "/assetserver/39e4d1dceef49085ebf36edb09c92c7574c58816-knockout_punches.js"
              },
              {
               "name": null,
               "type": "js",
               "url": "/assetserver/bea19c4f7d50366923bb3fbba800750b2d533f80-all.js"
              },
              {
               "name": null,
               "type": "css",
               "url": "/assetserver/c4d4f4f0ce9b24709d6d39765a20423cfb274e6a-style.css"
              },
              {
               "name": null,
               "type": "css",
               "url": "/assetserver/6513af17bee55ce33a5387a0f8cc5237a8ed2443-bulma_confined.min.css"
              }
             ],
             "type": "async_block"
            },
            "mount_callbacks": [
             "function () {\n    var handler = (function (ko, koPunches) {\n    ko.punches.enableAll();\n    ko.bindingHandlers.numericValue = {\n        init: function(element, valueAccessor, allBindings, data, context) {\n            var stringified = ko.observable(ko.unwrap(valueAccessor()));\n            stringified.subscribe(function(value) {\n                var val = parseFloat(value);\n                if (!isNaN(val)) {\n                    valueAccessor()(val);\n                }\n            });\n            valueAccessor().subscribe(function(value) {\n                var str = JSON.stringify(value);\n                if ((str == \"0\") && ([\"-0\", \"-0.\"].indexOf(stringified()) >= 0))\n                     return;\n                 if ([\"null\", \"\"].indexOf(str) >= 0)\n                     return;\n                stringified(str);\n            });\n            ko.applyBindingsToNode(\n                element,\n                {\n                    value: stringified,\n                    valueUpdate: allBindings.get('valueUpdate'),\n                },\n                context,\n            );\n        }\n    };\n    var json_data = {\"formatted_vals\":[\"1.0\",\"1.1\",\"1.2\",\"1.3\",\"1.4\",\"1.5\",\"1.6\",\"1.7\",\"1.8\",\"1.9\",\"2.0\",\"2.1\",\"2.2\",\"2.3\",\"2.4\",\"2.5\",\"2.6\",\"2.7\",\"2.8\",\"2.9\",\"3.0\"],\"changes\":WebIO.getval({\"name\":\"changes\",\"scope\":\"2799899913936741616\",\"id\":\"17907592933457130371\",\"type\":\"observable\"}),\"index\":WebIO.getval({\"name\":\"index\",\"scope\":\"2799899913936741616\",\"id\":\"8729499260049549234\",\"type\":\"observable\"})};\n    var self = this;\n    function AppViewModel() {\n        for (var key in json_data) {\n            var el = json_data[key];\n            this[key] = Array.isArray(el) ? ko.observableArray(el) : ko.observable(el);\n        }\n        \n        [this[\"formatted_val\"]=ko.computed(    function(){\n        return this.formatted_vals()[parseInt(this.index())-(1)];\n    }\n,this)]\n        [this[\"changes\"].subscribe((function (val){!(this.valueFromJulia[\"changes\"]) ? (WebIO.setval({\"name\":\"changes\",\"scope\":\"2799899913936741616\",\"id\":\"17907592933457130371\",\"type\":\"observable\"},val)) : undefined; return this.valueFromJulia[\"changes\"]=false}),self),this[\"index\"].subscribe((function (val){!(this.valueFromJulia[\"index\"]) ? (WebIO.setval({\"name\":\"index\",\"scope\":\"2799899913936741616\",\"id\":\"8729499260049549234\",\"type\":\"observable\"},val)) : undefined; return this.valueFromJulia[\"index\"]=false}),self)]\n        \n    }\n    self.model = new AppViewModel();\n    self.valueFromJulia = {};\n    for (var key in json_data) {\n        self.valueFromJulia[key] = false;\n    }\n    ko.applyBindings(self.model, self.dom);\n}\n);\n    (WebIO.importBlock({\"data\":[{\"name\":\"knockout\",\"type\":\"js\",\"url\":\"/assetserver/92c2f1237c7de526b82b854e47551e089e074ac2-knockout.js\"},{\"name\":\"knockout_punches\",\"type\":\"js\",\"url\":\"/assetserver/39e4d1dceef49085ebf36edb09c92c7574c58816-knockout_punches.js\"}],\"type\":\"async_block\"})).then((imports) => handler.apply(this, imports));\n}\n"
            ],
            "observables": {
             "changes": {
              "id": "17907592933457130371",
              "sync": false,
              "value": 0
             },
             "index": {
              "id": "8729499260049549234",
              "sync": true,
              "value": 11
             }
            },
            "systemjs_options": null
           },
           "nodeType": "Scope",
           "props": {},
           "type": "node"
          }
         ],
         "instanceArgs": {
          "namespace": "html",
          "tag": "div"
         },
         "nodeType": "DOM",
         "props": {
          "className": "field interact-widget"
         },
         "type": "node"
        },
        {
         "children": [
          {
           "children": [
            {
             "children": [
              {
               "children": [
                {
                 "children": [
                  "Minimum Amplitude y"
                 ],
                 "instanceArgs": {
                  "namespace": "html",
                  "tag": "label"
                 },
                 "nodeType": "DOM",
                 "props": {
                  "className": "interact ",
                  "style": {
                   "padding": "5px 10px 0px 10px"
                  }
                 },
                 "type": "node"
                }
               ],
               "instanceArgs": {
                "namespace": "html",
                "tag": "div"
               },
               "nodeType": "DOM",
               "props": {
                "className": "interact-flex-row-left"
               },
               "type": "node"
              },
              {
               "children": [
                {
                 "children": [],
                 "instanceArgs": {
                  "namespace": "html",
                  "tag": "input"
                 },
                 "nodeType": "DOM",
                 "props": {
                  "attributes": {
                   "data-bind": "numericValue: index, valueUpdate: 'input', event: {change: function (){this.changes(this.changes()+1)}}",
                   "orient": "horizontal",
                   "type": "range"
                  },
                  "className": "slider slider is-fullwidth",
                  "max": 141,
                  "min": 1,
                  "step": 1,
                  "style": {}
                 },
                 "type": "node"
                }
               ],
               "instanceArgs": {
                "namespace": "html",
                "tag": "div"
               },
               "nodeType": "DOM",
               "props": {
                "className": "interact-flex-row-center"
               },
               "type": "node"
              },
              {
               "children": [
                {
                 "children": [],
                 "instanceArgs": {
                  "namespace": "html",
                  "tag": "p"
                 },
                 "nodeType": "DOM",
                 "props": {
                  "attributes": {
                   "data-bind": "text: formatted_val"
                  }
                 },
                 "type": "node"
                }
               ],
               "instanceArgs": {
                "namespace": "html",
                "tag": "div"
               },
               "nodeType": "DOM",
               "props": {
                "className": "interact-flex-row-right"
               },
               "type": "node"
              }
             ],
             "instanceArgs": {
              "namespace": "html",
              "tag": "div"
             },
             "nodeType": "DOM",
             "props": {
              "className": "interact-flex-row interact-widget"
             },
             "type": "node"
            }
           ],
           "instanceArgs": {
            "handlers": {
             "changes": [
              "(function (val){return (val!=this.model[\"changes\"]()) ? (this.valueFromJulia[\"changes\"]=true, this.model[\"changes\"](val)) : undefined})"
             ],
             "index": [
              "(function (val){return (val!=this.model[\"index\"]()) ? (this.valueFromJulia[\"index\"]=true, this.model[\"index\"](val)) : undefined})"
             ]
            },
            "id": "14092579715281531903",
            "imports": {
             "data": [
              {
               "name": "knockout",
               "type": "js",
               "url": "/assetserver/92c2f1237c7de526b82b854e47551e089e074ac2-knockout.js"
              },
              {
               "name": "knockout_punches",
               "type": "js",
               "url": "/assetserver/39e4d1dceef49085ebf36edb09c92c7574c58816-knockout_punches.js"
              },
              {
               "name": null,
               "type": "js",
               "url": "/assetserver/bea19c4f7d50366923bb3fbba800750b2d533f80-all.js"
              },
              {
               "name": null,
               "type": "css",
               "url": "/assetserver/c4d4f4f0ce9b24709d6d39765a20423cfb274e6a-style.css"
              },
              {
               "name": null,
               "type": "css",
               "url": "/assetserver/6513af17bee55ce33a5387a0f8cc5237a8ed2443-bulma_confined.min.css"
              }
             ],
             "type": "async_block"
            },
            "mount_callbacks": [
             "function () {\n    var handler = (function (ko, koPunches) {\n    ko.punches.enableAll();\n    ko.bindingHandlers.numericValue = {\n        init: function(element, valueAccessor, allBindings, data, context) {\n            var stringified = ko.observable(ko.unwrap(valueAccessor()));\n            stringified.subscribe(function(value) {\n                var val = parseFloat(value);\n                if (!isNaN(val)) {\n                    valueAccessor()(val);\n                }\n            });\n            valueAccessor().subscribe(function(value) {\n                var str = JSON.stringify(value);\n                if ((str == \"0\") && ([\"-0\", \"-0.\"].indexOf(stringified()) >= 0))\n                     return;\n                 if ([\"null\", \"\"].indexOf(str) >= 0)\n                     return;\n                stringified(str);\n            });\n            ko.applyBindingsToNode(\n                element,\n                {\n                    value: stringified,\n                    valueUpdate: allBindings.get('valueUpdate'),\n                },\n                context,\n            );\n        }\n    };\n    var json_data = {\"formatted_vals\":[\"1.0\",\"1.1\",\"1.2\",\"1.3\",\"1.4\",\"1.5\",\"1.6\",\"1.7\",\"1.8\",\"1.9\",\"2.0\",\"2.1\",\"2.2\",\"2.3\",\"2.4\",\"2.5\",\"2.6\",\"2.7\",\"2.8\",\"2.9\",\"3.0\",\"3.1\",\"3.2\",\"3.3\",\"3.4\",\"3.5\",\"3.6\",\"3.7\",\"3.8\",\"3.9\",\"4.0\",\"4.1\",\"4.2\",\"4.3\",\"4.4\",\"4.5\",\"4.6\",\"4.7\",\"4.8\",\"4.9\",\"5.0\",\"5.1\",\"5.2\",\"5.3\",\"5.4\",\"5.5\",\"5.6\",\"5.7\",\"5.8\",\"5.9\",\"6.0\",\"6.1\",\"6.2\",\"6.3\",\"6.4\",\"6.5\",\"6.6\",\"6.7\",\"6.8\",\"6.9\",\"7.0\",\"7.1\",\"7.2\",\"7.3\",\"7.4\",\"7.5\",\"7.6\",\"7.7\",\"7.8\",\"7.9\",\"8.0\",\"8.1\",\"8.2\",\"8.3\",\"8.4\",\"8.5\",\"8.6\",\"8.7\",\"8.8\",\"8.9\",\"9.0\",\"9.1\",\"9.2\",\"9.3\",\"9.4\",\"9.5\",\"9.6\",\"9.7\",\"9.8\",\"9.9\",\"10.0\",\"10.1\",\"10.2\",\"10.3\",\"10.4\",\"10.5\",\"10.6\",\"10.7\",\"10.8\",\"10.9\",\"11.0\",\"11.1\",\"11.2\",\"11.3\",\"11.4\",\"11.5\",\"11.6\",\"11.7\",\"11.8\",\"11.9\",\"12.0\",\"12.1\",\"12.2\",\"12.3\",\"12.4\",\"12.5\",\"12.6\",\"12.7\",\"12.8\",\"12.9\",\"13.0\",\"13.1\",\"13.2\",\"13.3\",\"13.4\",\"13.5\",\"13.6\",\"13.7\",\"13.8\",\"13.9\",\"14.0\",\"14.1\",\"14.2\",\"14.3\",\"14.4\",\"14.5\",\"14.6\",\"14.7\",\"14.8\",\"14.9\",\"15.0\"],\"changes\":WebIO.getval({\"name\":\"changes\",\"scope\":\"14092579715281531903\",\"id\":\"2377794546783357174\",\"type\":\"observable\"}),\"index\":WebIO.getval({\"name\":\"index\",\"scope\":\"14092579715281531903\",\"id\":\"7947525441105498271\",\"type\":\"observable\"})};\n    var self = this;\n    function AppViewModel() {\n        for (var key in json_data) {\n            var el = json_data[key];\n            this[key] = Array.isArray(el) ? ko.observableArray(el) : ko.observable(el);\n        }\n        \n        [this[\"formatted_val\"]=ko.computed(    function(){\n        return this.formatted_vals()[parseInt(this.index())-(1)];\n    }\n,this)]\n        [this[\"changes\"].subscribe((function (val){!(this.valueFromJulia[\"changes\"]) ? (WebIO.setval({\"name\":\"changes\",\"scope\":\"14092579715281531903\",\"id\":\"2377794546783357174\",\"type\":\"observable\"},val)) : undefined; return this.valueFromJulia[\"changes\"]=false}),self),this[\"index\"].subscribe((function (val){!(this.valueFromJulia[\"index\"]) ? (WebIO.setval({\"name\":\"index\",\"scope\":\"14092579715281531903\",\"id\":\"7947525441105498271\",\"type\":\"observable\"},val)) : undefined; return this.valueFromJulia[\"index\"]=false}),self)]\n        \n    }\n    self.model = new AppViewModel();\n    self.valueFromJulia = {};\n    for (var key in json_data) {\n        self.valueFromJulia[key] = false;\n    }\n    ko.applyBindings(self.model, self.dom);\n}\n);\n    (WebIO.importBlock({\"data\":[{\"name\":\"knockout\",\"type\":\"js\",\"url\":\"/assetserver/92c2f1237c7de526b82b854e47551e089e074ac2-knockout.js\"},{\"name\":\"knockout_punches\",\"type\":\"js\",\"url\":\"/assetserver/39e4d1dceef49085ebf36edb09c92c7574c58816-knockout_punches.js\"}],\"type\":\"async_block\"})).then((imports) => handler.apply(this, imports));\n}\n"
            ],
            "observables": {
             "changes": {
              "id": "2377794546783357174",
              "sync": false,
              "value": 0
             },
             "index": {
              "id": "7947525441105498271",
              "sync": true,
              "value": 71
             }
            },
            "systemjs_options": null
           },
           "nodeType": "Scope",
           "props": {},
           "type": "node"
          }
         ],
         "instanceArgs": {
          "namespace": "html",
          "tag": "div"
         },
         "nodeType": "DOM",
         "props": {
          "className": "field interact-widget"
         },
         "type": "node"
        },
        {
         "children": [
          {
           "children": [
            {
             "children": [
              {
               "children": [
                {
                 "children": [
                  "Maximum Amplitude y"
                 ],
                 "instanceArgs": {
                  "namespace": "html",
                  "tag": "label"
                 },
                 "nodeType": "DOM",
                 "props": {
                  "className": "interact ",
                  "style": {
                   "padding": "5px 10px 0px 10px"
                  }
                 },
                 "type": "node"
                }
               ],
               "instanceArgs": {
                "namespace": "html",
                "tag": "div"
               },
               "nodeType": "DOM",
               "props": {
                "className": "interact-flex-row-left"
               },
               "type": "node"
              },
              {
               "children": [
                {
                 "children": [],
                 "instanceArgs": {
                  "namespace": "html",
                  "tag": "input"
                 },
                 "nodeType": "DOM",
                 "props": {
                  "attributes": {
                   "data-bind": "numericValue: index, valueUpdate: 'input', event: {change: function (){this.changes(this.changes()+1)}}",
                   "orient": "horizontal",
                   "type": "range"
                  },
                  "className": "slider slider is-fullwidth",
                  "max": 141,
                  "min": 1,
                  "step": 1,
                  "style": {}
                 },
                 "type": "node"
                }
               ],
               "instanceArgs": {
                "namespace": "html",
                "tag": "div"
               },
               "nodeType": "DOM",
               "props": {
                "className": "interact-flex-row-center"
               },
               "type": "node"
              },
              {
               "children": [
                {
                 "children": [],
                 "instanceArgs": {
                  "namespace": "html",
                  "tag": "p"
                 },
                 "nodeType": "DOM",
                 "props": {
                  "attributes": {
                   "data-bind": "text: formatted_val"
                  }
                 },
                 "type": "node"
                }
               ],
               "instanceArgs": {
                "namespace": "html",
                "tag": "div"
               },
               "nodeType": "DOM",
               "props": {
                "className": "interact-flex-row-right"
               },
               "type": "node"
              }
             ],
             "instanceArgs": {
              "namespace": "html",
              "tag": "div"
             },
             "nodeType": "DOM",
             "props": {
              "className": "interact-flex-row interact-widget"
             },
             "type": "node"
            }
           ],
           "instanceArgs": {
            "handlers": {
             "changes": [
              "(function (val){return (val!=this.model[\"changes\"]()) ? (this.valueFromJulia[\"changes\"]=true, this.model[\"changes\"](val)) : undefined})"
             ],
             "index": [
              "(function (val){return (val!=this.model[\"index\"]()) ? (this.valueFromJulia[\"index\"]=true, this.model[\"index\"](val)) : undefined})"
             ]
            },
            "id": "13220695927094376444",
            "imports": {
             "data": [
              {
               "name": "knockout",
               "type": "js",
               "url": "/assetserver/92c2f1237c7de526b82b854e47551e089e074ac2-knockout.js"
              },
              {
               "name": "knockout_punches",
               "type": "js",
               "url": "/assetserver/39e4d1dceef49085ebf36edb09c92c7574c58816-knockout_punches.js"
              },
              {
               "name": null,
               "type": "js",
               "url": "/assetserver/bea19c4f7d50366923bb3fbba800750b2d533f80-all.js"
              },
              {
               "name": null,
               "type": "css",
               "url": "/assetserver/c4d4f4f0ce9b24709d6d39765a20423cfb274e6a-style.css"
              },
              {
               "name": null,
               "type": "css",
               "url": "/assetserver/6513af17bee55ce33a5387a0f8cc5237a8ed2443-bulma_confined.min.css"
              }
             ],
             "type": "async_block"
            },
            "mount_callbacks": [
             "function () {\n    var handler = (function (ko, koPunches) {\n    ko.punches.enableAll();\n    ko.bindingHandlers.numericValue = {\n        init: function(element, valueAccessor, allBindings, data, context) {\n            var stringified = ko.observable(ko.unwrap(valueAccessor()));\n            stringified.subscribe(function(value) {\n                var val = parseFloat(value);\n                if (!isNaN(val)) {\n                    valueAccessor()(val);\n                }\n            });\n            valueAccessor().subscribe(function(value) {\n                var str = JSON.stringify(value);\n                if ((str == \"0\") && ([\"-0\", \"-0.\"].indexOf(stringified()) >= 0))\n                     return;\n                 if ([\"null\", \"\"].indexOf(str) >= 0)\n                     return;\n                stringified(str);\n            });\n            ko.applyBindingsToNode(\n                element,\n                {\n                    value: stringified,\n                    valueUpdate: allBindings.get('valueUpdate'),\n                },\n                context,\n            );\n        }\n    };\n    var json_data = {\"formatted_vals\":[\"1.0\",\"1.1\",\"1.2\",\"1.3\",\"1.4\",\"1.5\",\"1.6\",\"1.7\",\"1.8\",\"1.9\",\"2.0\",\"2.1\",\"2.2\",\"2.3\",\"2.4\",\"2.5\",\"2.6\",\"2.7\",\"2.8\",\"2.9\",\"3.0\",\"3.1\",\"3.2\",\"3.3\",\"3.4\",\"3.5\",\"3.6\",\"3.7\",\"3.8\",\"3.9\",\"4.0\",\"4.1\",\"4.2\",\"4.3\",\"4.4\",\"4.5\",\"4.6\",\"4.7\",\"4.8\",\"4.9\",\"5.0\",\"5.1\",\"5.2\",\"5.3\",\"5.4\",\"5.5\",\"5.6\",\"5.7\",\"5.8\",\"5.9\",\"6.0\",\"6.1\",\"6.2\",\"6.3\",\"6.4\",\"6.5\",\"6.6\",\"6.7\",\"6.8\",\"6.9\",\"7.0\",\"7.1\",\"7.2\",\"7.3\",\"7.4\",\"7.5\",\"7.6\",\"7.7\",\"7.8\",\"7.9\",\"8.0\",\"8.1\",\"8.2\",\"8.3\",\"8.4\",\"8.5\",\"8.6\",\"8.7\",\"8.8\",\"8.9\",\"9.0\",\"9.1\",\"9.2\",\"9.3\",\"9.4\",\"9.5\",\"9.6\",\"9.7\",\"9.8\",\"9.9\",\"10.0\",\"10.1\",\"10.2\",\"10.3\",\"10.4\",\"10.5\",\"10.6\",\"10.7\",\"10.8\",\"10.9\",\"11.0\",\"11.1\",\"11.2\",\"11.3\",\"11.4\",\"11.5\",\"11.6\",\"11.7\",\"11.8\",\"11.9\",\"12.0\",\"12.1\",\"12.2\",\"12.3\",\"12.4\",\"12.5\",\"12.6\",\"12.7\",\"12.8\",\"12.9\",\"13.0\",\"13.1\",\"13.2\",\"13.3\",\"13.4\",\"13.5\",\"13.6\",\"13.7\",\"13.8\",\"13.9\",\"14.0\",\"14.1\",\"14.2\",\"14.3\",\"14.4\",\"14.5\",\"14.6\",\"14.7\",\"14.8\",\"14.9\",\"15.0\"],\"changes\":WebIO.getval({\"name\":\"changes\",\"scope\":\"13220695927094376444\",\"id\":\"13908010643427057766\",\"type\":\"observable\"}),\"index\":WebIO.getval({\"name\":\"index\",\"scope\":\"13220695927094376444\",\"id\":\"4048612064940972474\",\"type\":\"observable\"})};\n    var self = this;\n    function AppViewModel() {\n        for (var key in json_data) {\n            var el = json_data[key];\n            this[key] = Array.isArray(el) ? ko.observableArray(el) : ko.observable(el);\n        }\n        \n        [this[\"formatted_val\"]=ko.computed(    function(){\n        return this.formatted_vals()[parseInt(this.index())-(1)];\n    }\n,this)]\n        [this[\"changes\"].subscribe((function (val){!(this.valueFromJulia[\"changes\"]) ? (WebIO.setval({\"name\":\"changes\",\"scope\":\"13220695927094376444\",\"id\":\"13908010643427057766\",\"type\":\"observable\"},val)) : undefined; return this.valueFromJulia[\"changes\"]=false}),self),this[\"index\"].subscribe((function (val){!(this.valueFromJulia[\"index\"]) ? (WebIO.setval({\"name\":\"index\",\"scope\":\"13220695927094376444\",\"id\":\"4048612064940972474\",\"type\":\"observable\"},val)) : undefined; return this.valueFromJulia[\"index\"]=false}),self)]\n        \n    }\n    self.model = new AppViewModel();\n    self.valueFromJulia = {};\n    for (var key in json_data) {\n        self.valueFromJulia[key] = false;\n    }\n    ko.applyBindings(self.model, self.dom);\n}\n);\n    (WebIO.importBlock({\"data\":[{\"name\":\"knockout\",\"type\":\"js\",\"url\":\"/assetserver/92c2f1237c7de526b82b854e47551e089e074ac2-knockout.js\"},{\"name\":\"knockout_punches\",\"type\":\"js\",\"url\":\"/assetserver/39e4d1dceef49085ebf36edb09c92c7574c58816-knockout_punches.js\"}],\"type\":\"async_block\"})).then((imports) => handler.apply(this, imports));\n}\n"
            ],
            "observables": {
             "changes": {
              "id": "13908010643427057766",
              "sync": false,
              "value": 0
             },
             "index": {
              "id": "4048612064940972474",
              "sync": true,
              "value": 71
             }
            },
            "systemjs_options": null
           },
           "nodeType": "Scope",
           "props": {},
           "type": "node"
          }
         ],
         "instanceArgs": {
          "namespace": "html",
          "tag": "div"
         },
         "nodeType": "DOM",
         "props": {
          "className": "field interact-widget"
         },
         "type": "node"
        },
        {
         "children": [
          {
           "children": [
            {
             "children": [
              {
               "children": [
                {
                 "children": [
                  "Height"
                 ],
                 "instanceArgs": {
                  "namespace": "html",
                  "tag": "label"
                 },
                 "nodeType": "DOM",
                 "props": {
                  "className": "interact ",
                  "style": {
                   "padding": "5px 10px 0px 10px"
                  }
                 },
                 "type": "node"
                }
               ],
               "instanceArgs": {
                "namespace": "html",
                "tag": "div"
               },
               "nodeType": "DOM",
               "props": {
                "className": "interact-flex-row-left"
               },
               "type": "node"
              },
              {
               "children": [
                {
                 "children": [],
                 "instanceArgs": {
                  "namespace": "html",
                  "tag": "input"
                 },
                 "nodeType": "DOM",
                 "props": {
                  "attributes": {
                   "data-bind": "numericValue: index, valueUpdate: 'input', event: {change: function (){this.changes(this.changes()+1)}}",
                   "orient": "horizontal",
                   "type": "range"
                  },
                  "className": "slider slider is-fullwidth",
                  "max": 19,
                  "min": 1,
                  "step": 1,
                  "style": {}
                 },
                 "type": "node"
                }
               ],
               "instanceArgs": {
                "namespace": "html",
                "tag": "div"
               },
               "nodeType": "DOM",
               "props": {
                "className": "interact-flex-row-center"
               },
               "type": "node"
              },
              {
               "children": [
                {
                 "children": [],
                 "instanceArgs": {
                  "namespace": "html",
                  "tag": "p"
                 },
                 "nodeType": "DOM",
                 "props": {
                  "attributes": {
                   "data-bind": "text: formatted_val"
                  }
                 },
                 "type": "node"
                }
               ],
               "instanceArgs": {
                "namespace": "html",
                "tag": "div"
               },
               "nodeType": "DOM",
               "props": {
                "className": "interact-flex-row-right"
               },
               "type": "node"
              }
             ],
             "instanceArgs": {
              "namespace": "html",
              "tag": "div"
             },
             "nodeType": "DOM",
             "props": {
              "className": "interact-flex-row interact-widget"
             },
             "type": "node"
            }
           ],
           "instanceArgs": {
            "handlers": {
             "changes": [
              "(function (val){return (val!=this.model[\"changes\"]()) ? (this.valueFromJulia[\"changes\"]=true, this.model[\"changes\"](val)) : undefined})"
             ],
             "index": [
              "(function (val){return (val!=this.model[\"index\"]()) ? (this.valueFromJulia[\"index\"]=true, this.model[\"index\"](val)) : undefined})"
             ]
            },
            "id": "7760592932523404248",
            "imports": {
             "data": [
              {
               "name": "knockout",
               "type": "js",
               "url": "/assetserver/92c2f1237c7de526b82b854e47551e089e074ac2-knockout.js"
              },
              {
               "name": "knockout_punches",
               "type": "js",
               "url": "/assetserver/39e4d1dceef49085ebf36edb09c92c7574c58816-knockout_punches.js"
              },
              {
               "name": null,
               "type": "js",
               "url": "/assetserver/bea19c4f7d50366923bb3fbba800750b2d533f80-all.js"
              },
              {
               "name": null,
               "type": "css",
               "url": "/assetserver/c4d4f4f0ce9b24709d6d39765a20423cfb274e6a-style.css"
              },
              {
               "name": null,
               "type": "css",
               "url": "/assetserver/6513af17bee55ce33a5387a0f8cc5237a8ed2443-bulma_confined.min.css"
              }
             ],
             "type": "async_block"
            },
            "mount_callbacks": [
             "function () {\n    var handler = (function (ko, koPunches) {\n    ko.punches.enableAll();\n    ko.bindingHandlers.numericValue = {\n        init: function(element, valueAccessor, allBindings, data, context) {\n            var stringified = ko.observable(ko.unwrap(valueAccessor()));\n            stringified.subscribe(function(value) {\n                var val = parseFloat(value);\n                if (!isNaN(val)) {\n                    valueAccessor()(val);\n                }\n            });\n            valueAccessor().subscribe(function(value) {\n                var str = JSON.stringify(value);\n                if ((str == \"0\") && ([\"-0\", \"-0.\"].indexOf(stringified()) >= 0))\n                     return;\n                 if ([\"null\", \"\"].indexOf(str) >= 0)\n                     return;\n                stringified(str);\n            });\n            ko.applyBindingsToNode(\n                element,\n                {\n                    value: stringified,\n                    valueUpdate: allBindings.get('valueUpdate'),\n                },\n                context,\n            );\n        }\n    };\n    var json_data = {\"formatted_vals\":[\"2\",\"3\",\"4\",\"5\",\"6\",\"7\",\"8\",\"9\",\"10\",\"11\",\"12\",\"13\",\"14\",\"15\",\"16\",\"17\",\"18\",\"19\",\"20\"],\"changes\":WebIO.getval({\"name\":\"changes\",\"scope\":\"7760592932523404248\",\"id\":\"4890229697268627156\",\"type\":\"observable\"}),\"index\":WebIO.getval({\"name\":\"index\",\"scope\":\"7760592932523404248\",\"id\":\"17918832772484151105\",\"type\":\"observable\"})};\n    var self = this;\n    function AppViewModel() {\n        for (var key in json_data) {\n            var el = json_data[key];\n            this[key] = Array.isArray(el) ? ko.observableArray(el) : ko.observable(el);\n        }\n        \n        [this[\"formatted_val\"]=ko.computed(    function(){\n        return this.formatted_vals()[parseInt(this.index())-(1)];\n    }\n,this)]\n        [this[\"changes\"].subscribe((function (val){!(this.valueFromJulia[\"changes\"]) ? (WebIO.setval({\"name\":\"changes\",\"scope\":\"7760592932523404248\",\"id\":\"4890229697268627156\",\"type\":\"observable\"},val)) : undefined; return this.valueFromJulia[\"changes\"]=false}),self),this[\"index\"].subscribe((function (val){!(this.valueFromJulia[\"index\"]) ? (WebIO.setval({\"name\":\"index\",\"scope\":\"7760592932523404248\",\"id\":\"17918832772484151105\",\"type\":\"observable\"},val)) : undefined; return this.valueFromJulia[\"index\"]=false}),self)]\n        \n    }\n    self.model = new AppViewModel();\n    self.valueFromJulia = {};\n    for (var key in json_data) {\n        self.valueFromJulia[key] = false;\n    }\n    ko.applyBindings(self.model, self.dom);\n}\n);\n    (WebIO.importBlock({\"data\":[{\"name\":\"knockout\",\"type\":\"js\",\"url\":\"/assetserver/92c2f1237c7de526b82b854e47551e089e074ac2-knockout.js\"},{\"name\":\"knockout_punches\",\"type\":\"js\",\"url\":\"/assetserver/39e4d1dceef49085ebf36edb09c92c7574c58816-knockout_punches.js\"}],\"type\":\"async_block\"})).then((imports) => handler.apply(this, imports));\n}\n"
            ],
            "observables": {
             "changes": {
              "id": "4890229697268627156",
              "sync": false,
              "value": 0
             },
             "index": {
              "id": "17918832772484151105",
              "sync": true,
              "value": 10
             }
            },
            "systemjs_options": null
           },
           "nodeType": "Scope",
           "props": {},
           "type": "node"
          }
         ],
         "instanceArgs": {
          "namespace": "html",
          "tag": "div"
         },
         "nodeType": "DOM",
         "props": {
          "className": "field interact-widget"
         },
         "type": "node"
        },
        {
         "children": [
          {
           "children": [],
           "instanceArgs": {
            "id": "7104140343672726905",
            "name": "obs-node"
           },
           "nodeType": "ObservableNode",
           "props": {},
           "type": "node"
          }
         ],
         "instanceArgs": {
          "handlers": {},
          "id": "7763054848653742507",
          "imports": {
           "data": [],
           "type": "async_block"
          },
          "mount_callbacks": [],
          "observables": {
           "obs-node": {
            "id": "7104140343672726905",
            "sync": false,
            "value": {
             "children": [
              {
               "children": [],
               "instanceArgs": {
                "namespace": "html",
                "tag": "div"
               },
               "nodeType": "DOM",
               "props": {
                "setInnerHtml": "<pre>SurfaceGrid(...)</pre>"
               },
               "type": "node"
              }
             ],
             "instanceArgs": {
              "namespace": "html",
              "tag": "div"
             },
             "nodeType": "DOM",
             "props": {
              "className": "interact-flex-row interact-widget"
             },
             "type": "node"
            }
           }
          },
          "systemjs_options": null
         },
         "nodeType": "Scope",
         "props": {},
         "type": "node"
        }
       ],
       "instanceArgs": {
        "namespace": "html",
        "tag": "div"
       },
       "nodeType": "DOM",
       "props": {},
       "type": "node"
      },
      "text/html": [
       "<div\n",
       "    class=\"webio-mountpoint\"\n",
       "    data-webio-mountpoint=\"17601779957332419910\"\n",
       ">\n",
       "    <script>\n",
       "    if (window.require && require.defined && require.defined(\"nbextensions/webio-jupyter-notebook\")) {\n",
       "        console.log(\"Jupyter WebIO extension detected, not mounting.\");\n",
       "    } else if (window.WebIO) {\n",
       "        WebIO.mount(\n",
       "            document.querySelector('[data-webio-mountpoint=\"17601779957332419910\"]'),\n",
       "            {\"props\":{},\"nodeType\":\"DOM\",\"type\":\"node\",\"instanceArgs\":{\"namespace\":\"html\",\"tag\":\"div\"},\"children\":[{\"props\":{\"className\":\"field interact-widget\"},\"nodeType\":\"DOM\",\"type\":\"node\",\"instanceArgs\":{\"namespace\":\"html\",\"tag\":\"div\"},\"children\":[{\"props\":{},\"nodeType\":\"Scope\",\"type\":\"node\",\"instanceArgs\":{\"imports\":{\"data\":[{\"name\":\"knockout\",\"type\":\"js\",\"url\":\"\\/assetserver\\/92c2f1237c7de526b82b854e47551e089e074ac2-knockout.js\"},{\"name\":\"knockout_punches\",\"type\":\"js\",\"url\":\"\\/assetserver\\/39e4d1dceef49085ebf36edb09c92c7574c58816-knockout_punches.js\"},{\"name\":null,\"type\":\"js\",\"url\":\"\\/assetserver\\/bea19c4f7d50366923bb3fbba800750b2d533f80-all.js\"},{\"name\":null,\"type\":\"css\",\"url\":\"\\/assetserver\\/c4d4f4f0ce9b24709d6d39765a20423cfb274e6a-style.css\"},{\"name\":null,\"type\":\"css\",\"url\":\"\\/assetserver\\/6513af17bee55ce33a5387a0f8cc5237a8ed2443-bulma_confined.min.css\"}],\"type\":\"async_block\"},\"id\":\"2799899913936741616\",\"handlers\":{\"changes\":[\"(function (val){return (val!=this.model[\\\"changes\\\"]()) ? (this.valueFromJulia[\\\"changes\\\"]=true, this.model[\\\"changes\\\"](val)) : undefined})\"],\"index\":[\"(function (val){return (val!=this.model[\\\"index\\\"]()) ? (this.valueFromJulia[\\\"index\\\"]=true, this.model[\\\"index\\\"](val)) : undefined})\"]},\"systemjs_options\":null,\"mount_callbacks\":[\"function () {\\n    var handler = (function (ko, koPunches) {\\n    ko.punches.enableAll();\\n    ko.bindingHandlers.numericValue = {\\n        init: function(element, valueAccessor, allBindings, data, context) {\\n            var stringified = ko.observable(ko.unwrap(valueAccessor()));\\n            stringified.subscribe(function(value) {\\n                var val = parseFloat(value);\\n                if (!isNaN(val)) {\\n                    valueAccessor()(val);\\n                }\\n            });\\n            valueAccessor().subscribe(function(value) {\\n                var str = JSON.stringify(value);\\n                if ((str == \\\"0\\\") && ([\\\"-0\\\", \\\"-0.\\\"].indexOf(stringified()) >= 0))\\n                     return;\\n                 if ([\\\"null\\\", \\\"\\\"].indexOf(str) >= 0)\\n                     return;\\n                stringified(str);\\n            });\\n            ko.applyBindingsToNode(\\n                element,\\n                {\\n                    value: stringified,\\n                    valueUpdate: allBindings.get('valueUpdate'),\\n                },\\n                context,\\n            );\\n        }\\n    };\\n    var json_data = {\\\"formatted_vals\\\":[\\\"1.0\\\",\\\"1.1\\\",\\\"1.2\\\",\\\"1.3\\\",\\\"1.4\\\",\\\"1.5\\\",\\\"1.6\\\",\\\"1.7\\\",\\\"1.8\\\",\\\"1.9\\\",\\\"2.0\\\",\\\"2.1\\\",\\\"2.2\\\",\\\"2.3\\\",\\\"2.4\\\",\\\"2.5\\\",\\\"2.6\\\",\\\"2.7\\\",\\\"2.8\\\",\\\"2.9\\\",\\\"3.0\\\"],\\\"changes\\\":WebIO.getval({\\\"name\\\":\\\"changes\\\",\\\"scope\\\":\\\"2799899913936741616\\\",\\\"id\\\":\\\"17907592933457130371\\\",\\\"type\\\":\\\"observable\\\"}),\\\"index\\\":WebIO.getval({\\\"name\\\":\\\"index\\\",\\\"scope\\\":\\\"2799899913936741616\\\",\\\"id\\\":\\\"8729499260049549234\\\",\\\"type\\\":\\\"observable\\\"})};\\n    var self = this;\\n    function AppViewModel() {\\n        for (var key in json_data) {\\n            var el = json_data[key];\\n            this[key] = Array.isArray(el) ? ko.observableArray(el) : ko.observable(el);\\n        }\\n        \\n        [this[\\\"formatted_val\\\"]=ko.computed(    function(){\\n        return this.formatted_vals()[parseInt(this.index())-(1)];\\n    }\\n,this)]\\n        [this[\\\"changes\\\"].subscribe((function (val){!(this.valueFromJulia[\\\"changes\\\"]) ? (WebIO.setval({\\\"name\\\":\\\"changes\\\",\\\"scope\\\":\\\"2799899913936741616\\\",\\\"id\\\":\\\"17907592933457130371\\\",\\\"type\\\":\\\"observable\\\"},val)) : undefined; return this.valueFromJulia[\\\"changes\\\"]=false}),self),this[\\\"index\\\"].subscribe((function (val){!(this.valueFromJulia[\\\"index\\\"]) ? (WebIO.setval({\\\"name\\\":\\\"index\\\",\\\"scope\\\":\\\"2799899913936741616\\\",\\\"id\\\":\\\"8729499260049549234\\\",\\\"type\\\":\\\"observable\\\"},val)) : undefined; return this.valueFromJulia[\\\"index\\\"]=false}),self)]\\n        \\n    }\\n    self.model = new AppViewModel();\\n    self.valueFromJulia = {};\\n    for (var key in json_data) {\\n        self.valueFromJulia[key] = false;\\n    }\\n    ko.applyBindings(self.model, self.dom);\\n}\\n);\\n    (WebIO.importBlock({\\\"data\\\":[{\\\"name\\\":\\\"knockout\\\",\\\"type\\\":\\\"js\\\",\\\"url\\\":\\\"\\/assetserver\\/92c2f1237c7de526b82b854e47551e089e074ac2-knockout.js\\\"},{\\\"name\\\":\\\"knockout_punches\\\",\\\"type\\\":\\\"js\\\",\\\"url\\\":\\\"\\/assetserver\\/39e4d1dceef49085ebf36edb09c92c7574c58816-knockout_punches.js\\\"}],\\\"type\\\":\\\"async_block\\\"})).then((imports) => handler.apply(this, imports));\\n}\\n\"],\"observables\":{\"changes\":{\"sync\":false,\"id\":\"17907592933457130371\",\"value\":0},\"index\":{\"sync\":true,\"id\":\"8729499260049549234\",\"value\":11}}},\"children\":[{\"props\":{\"className\":\"interact-flex-row interact-widget\"},\"nodeType\":\"DOM\",\"type\":\"node\",\"instanceArgs\":{\"namespace\":\"html\",\"tag\":\"div\"},\"children\":[{\"props\":{\"className\":\"interact-flex-row-left\"},\"nodeType\":\"DOM\",\"type\":\"node\",\"instanceArgs\":{\"namespace\":\"html\",\"tag\":\"div\"},\"children\":[{\"props\":{\"className\":\"interact \",\"style\":{\"padding\":\"5px 10px 0px 10px\"}},\"nodeType\":\"DOM\",\"type\":\"node\",\"instanceArgs\":{\"namespace\":\"html\",\"tag\":\"label\"},\"children\":[\"Amplitude x\"]}]},{\"props\":{\"className\":\"interact-flex-row-center\"},\"nodeType\":\"DOM\",\"type\":\"node\",\"instanceArgs\":{\"namespace\":\"html\",\"tag\":\"div\"},\"children\":[{\"props\":{\"max\":21,\"min\":1,\"attributes\":{\"type\":\"range\",\"data-bind\":\"numericValue: index, valueUpdate: 'input', event: {change: function (){this.changes(this.changes()+1)}}\",\"orient\":\"horizontal\"},\"step\":1,\"className\":\"slider slider is-fullwidth\",\"style\":{}},\"nodeType\":\"DOM\",\"type\":\"node\",\"instanceArgs\":{\"namespace\":\"html\",\"tag\":\"input\"},\"children\":[]}]},{\"props\":{\"className\":\"interact-flex-row-right\"},\"nodeType\":\"DOM\",\"type\":\"node\",\"instanceArgs\":{\"namespace\":\"html\",\"tag\":\"div\"},\"children\":[{\"props\":{\"attributes\":{\"data-bind\":\"text: formatted_val\"}},\"nodeType\":\"DOM\",\"type\":\"node\",\"instanceArgs\":{\"namespace\":\"html\",\"tag\":\"p\"},\"children\":[]}]}]}]}]},{\"props\":{\"className\":\"field interact-widget\"},\"nodeType\":\"DOM\",\"type\":\"node\",\"instanceArgs\":{\"namespace\":\"html\",\"tag\":\"div\"},\"children\":[{\"props\":{},\"nodeType\":\"Scope\",\"type\":\"node\",\"instanceArgs\":{\"imports\":{\"data\":[{\"name\":\"knockout\",\"type\":\"js\",\"url\":\"\\/assetserver\\/92c2f1237c7de526b82b854e47551e089e074ac2-knockout.js\"},{\"name\":\"knockout_punches\",\"type\":\"js\",\"url\":\"\\/assetserver\\/39e4d1dceef49085ebf36edb09c92c7574c58816-knockout_punches.js\"},{\"name\":null,\"type\":\"js\",\"url\":\"\\/assetserver\\/bea19c4f7d50366923bb3fbba800750b2d533f80-all.js\"},{\"name\":null,\"type\":\"css\",\"url\":\"\\/assetserver\\/c4d4f4f0ce9b24709d6d39765a20423cfb274e6a-style.css\"},{\"name\":null,\"type\":\"css\",\"url\":\"\\/assetserver\\/6513af17bee55ce33a5387a0f8cc5237a8ed2443-bulma_confined.min.css\"}],\"type\":\"async_block\"},\"id\":\"14092579715281531903\",\"handlers\":{\"changes\":[\"(function (val){return (val!=this.model[\\\"changes\\\"]()) ? (this.valueFromJulia[\\\"changes\\\"]=true, this.model[\\\"changes\\\"](val)) : undefined})\"],\"index\":[\"(function (val){return (val!=this.model[\\\"index\\\"]()) ? (this.valueFromJulia[\\\"index\\\"]=true, this.model[\\\"index\\\"](val)) : undefined})\"]},\"systemjs_options\":null,\"mount_callbacks\":[\"function () {\\n    var handler = (function (ko, koPunches) {\\n    ko.punches.enableAll();\\n    ko.bindingHandlers.numericValue = {\\n        init: function(element, valueAccessor, allBindings, data, context) {\\n            var stringified = ko.observable(ko.unwrap(valueAccessor()));\\n            stringified.subscribe(function(value) {\\n                var val = parseFloat(value);\\n                if (!isNaN(val)) {\\n                    valueAccessor()(val);\\n                }\\n            });\\n            valueAccessor().subscribe(function(value) {\\n                var str = JSON.stringify(value);\\n                if ((str == \\\"0\\\") && ([\\\"-0\\\", \\\"-0.\\\"].indexOf(stringified()) >= 0))\\n                     return;\\n                 if ([\\\"null\\\", \\\"\\\"].indexOf(str) >= 0)\\n                     return;\\n                stringified(str);\\n            });\\n            ko.applyBindingsToNode(\\n                element,\\n                {\\n                    value: stringified,\\n                    valueUpdate: allBindings.get('valueUpdate'),\\n                },\\n                context,\\n            );\\n        }\\n    };\\n    var json_data = {\\\"formatted_vals\\\":[\\\"1.0\\\",\\\"1.1\\\",\\\"1.2\\\",\\\"1.3\\\",\\\"1.4\\\",\\\"1.5\\\",\\\"1.6\\\",\\\"1.7\\\",\\\"1.8\\\",\\\"1.9\\\",\\\"2.0\\\",\\\"2.1\\\",\\\"2.2\\\",\\\"2.3\\\",\\\"2.4\\\",\\\"2.5\\\",\\\"2.6\\\",\\\"2.7\\\",\\\"2.8\\\",\\\"2.9\\\",\\\"3.0\\\",\\\"3.1\\\",\\\"3.2\\\",\\\"3.3\\\",\\\"3.4\\\",\\\"3.5\\\",\\\"3.6\\\",\\\"3.7\\\",\\\"3.8\\\",\\\"3.9\\\",\\\"4.0\\\",\\\"4.1\\\",\\\"4.2\\\",\\\"4.3\\\",\\\"4.4\\\",\\\"4.5\\\",\\\"4.6\\\",\\\"4.7\\\",\\\"4.8\\\",\\\"4.9\\\",\\\"5.0\\\",\\\"5.1\\\",\\\"5.2\\\",\\\"5.3\\\",\\\"5.4\\\",\\\"5.5\\\",\\\"5.6\\\",\\\"5.7\\\",\\\"5.8\\\",\\\"5.9\\\",\\\"6.0\\\",\\\"6.1\\\",\\\"6.2\\\",\\\"6.3\\\",\\\"6.4\\\",\\\"6.5\\\",\\\"6.6\\\",\\\"6.7\\\",\\\"6.8\\\",\\\"6.9\\\",\\\"7.0\\\",\\\"7.1\\\",\\\"7.2\\\",\\\"7.3\\\",\\\"7.4\\\",\\\"7.5\\\",\\\"7.6\\\",\\\"7.7\\\",\\\"7.8\\\",\\\"7.9\\\",\\\"8.0\\\",\\\"8.1\\\",\\\"8.2\\\",\\\"8.3\\\",\\\"8.4\\\",\\\"8.5\\\",\\\"8.6\\\",\\\"8.7\\\",\\\"8.8\\\",\\\"8.9\\\",\\\"9.0\\\",\\\"9.1\\\",\\\"9.2\\\",\\\"9.3\\\",\\\"9.4\\\",\\\"9.5\\\",\\\"9.6\\\",\\\"9.7\\\",\\\"9.8\\\",\\\"9.9\\\",\\\"10.0\\\",\\\"10.1\\\",\\\"10.2\\\",\\\"10.3\\\",\\\"10.4\\\",\\\"10.5\\\",\\\"10.6\\\",\\\"10.7\\\",\\\"10.8\\\",\\\"10.9\\\",\\\"11.0\\\",\\\"11.1\\\",\\\"11.2\\\",\\\"11.3\\\",\\\"11.4\\\",\\\"11.5\\\",\\\"11.6\\\",\\\"11.7\\\",\\\"11.8\\\",\\\"11.9\\\",\\\"12.0\\\",\\\"12.1\\\",\\\"12.2\\\",\\\"12.3\\\",\\\"12.4\\\",\\\"12.5\\\",\\\"12.6\\\",\\\"12.7\\\",\\\"12.8\\\",\\\"12.9\\\",\\\"13.0\\\",\\\"13.1\\\",\\\"13.2\\\",\\\"13.3\\\",\\\"13.4\\\",\\\"13.5\\\",\\\"13.6\\\",\\\"13.7\\\",\\\"13.8\\\",\\\"13.9\\\",\\\"14.0\\\",\\\"14.1\\\",\\\"14.2\\\",\\\"14.3\\\",\\\"14.4\\\",\\\"14.5\\\",\\\"14.6\\\",\\\"14.7\\\",\\\"14.8\\\",\\\"14.9\\\",\\\"15.0\\\"],\\\"changes\\\":WebIO.getval({\\\"name\\\":\\\"changes\\\",\\\"scope\\\":\\\"14092579715281531903\\\",\\\"id\\\":\\\"2377794546783357174\\\",\\\"type\\\":\\\"observable\\\"}),\\\"index\\\":WebIO.getval({\\\"name\\\":\\\"index\\\",\\\"scope\\\":\\\"14092579715281531903\\\",\\\"id\\\":\\\"7947525441105498271\\\",\\\"type\\\":\\\"observable\\\"})};\\n    var self = this;\\n    function AppViewModel() {\\n        for (var key in json_data) {\\n            var el = json_data[key];\\n            this[key] = Array.isArray(el) ? ko.observableArray(el) : ko.observable(el);\\n        }\\n        \\n        [this[\\\"formatted_val\\\"]=ko.computed(    function(){\\n        return this.formatted_vals()[parseInt(this.index())-(1)];\\n    }\\n,this)]\\n        [this[\\\"changes\\\"].subscribe((function (val){!(this.valueFromJulia[\\\"changes\\\"]) ? (WebIO.setval({\\\"name\\\":\\\"changes\\\",\\\"scope\\\":\\\"14092579715281531903\\\",\\\"id\\\":\\\"2377794546783357174\\\",\\\"type\\\":\\\"observable\\\"},val)) : undefined; return this.valueFromJulia[\\\"changes\\\"]=false}),self),this[\\\"index\\\"].subscribe((function (val){!(this.valueFromJulia[\\\"index\\\"]) ? (WebIO.setval({\\\"name\\\":\\\"index\\\",\\\"scope\\\":\\\"14092579715281531903\\\",\\\"id\\\":\\\"7947525441105498271\\\",\\\"type\\\":\\\"observable\\\"},val)) : undefined; return this.valueFromJulia[\\\"index\\\"]=false}),self)]\\n        \\n    }\\n    self.model = new AppViewModel();\\n    self.valueFromJulia = {};\\n    for (var key in json_data) {\\n        self.valueFromJulia[key] = false;\\n    }\\n    ko.applyBindings(self.model, self.dom);\\n}\\n);\\n    (WebIO.importBlock({\\\"data\\\":[{\\\"name\\\":\\\"knockout\\\",\\\"type\\\":\\\"js\\\",\\\"url\\\":\\\"\\/assetserver\\/92c2f1237c7de526b82b854e47551e089e074ac2-knockout.js\\\"},{\\\"name\\\":\\\"knockout_punches\\\",\\\"type\\\":\\\"js\\\",\\\"url\\\":\\\"\\/assetserver\\/39e4d1dceef49085ebf36edb09c92c7574c58816-knockout_punches.js\\\"}],\\\"type\\\":\\\"async_block\\\"})).then((imports) => handler.apply(this, imports));\\n}\\n\"],\"observables\":{\"changes\":{\"sync\":false,\"id\":\"2377794546783357174\",\"value\":0},\"index\":{\"sync\":true,\"id\":\"7947525441105498271\",\"value\":71}}},\"children\":[{\"props\":{\"className\":\"interact-flex-row interact-widget\"},\"nodeType\":\"DOM\",\"type\":\"node\",\"instanceArgs\":{\"namespace\":\"html\",\"tag\":\"div\"},\"children\":[{\"props\":{\"className\":\"interact-flex-row-left\"},\"nodeType\":\"DOM\",\"type\":\"node\",\"instanceArgs\":{\"namespace\":\"html\",\"tag\":\"div\"},\"children\":[{\"props\":{\"className\":\"interact \",\"style\":{\"padding\":\"5px 10px 0px 10px\"}},\"nodeType\":\"DOM\",\"type\":\"node\",\"instanceArgs\":{\"namespace\":\"html\",\"tag\":\"label\"},\"children\":[\"Minimum Amplitude y\"]}]},{\"props\":{\"className\":\"interact-flex-row-center\"},\"nodeType\":\"DOM\",\"type\":\"node\",\"instanceArgs\":{\"namespace\":\"html\",\"tag\":\"div\"},\"children\":[{\"props\":{\"max\":141,\"min\":1,\"attributes\":{\"type\":\"range\",\"data-bind\":\"numericValue: index, valueUpdate: 'input', event: {change: function (){this.changes(this.changes()+1)}}\",\"orient\":\"horizontal\"},\"step\":1,\"className\":\"slider slider is-fullwidth\",\"style\":{}},\"nodeType\":\"DOM\",\"type\":\"node\",\"instanceArgs\":{\"namespace\":\"html\",\"tag\":\"input\"},\"children\":[]}]},{\"props\":{\"className\":\"interact-flex-row-right\"},\"nodeType\":\"DOM\",\"type\":\"node\",\"instanceArgs\":{\"namespace\":\"html\",\"tag\":\"div\"},\"children\":[{\"props\":{\"attributes\":{\"data-bind\":\"text: formatted_val\"}},\"nodeType\":\"DOM\",\"type\":\"node\",\"instanceArgs\":{\"namespace\":\"html\",\"tag\":\"p\"},\"children\":[]}]}]}]}]},{\"props\":{\"className\":\"field interact-widget\"},\"nodeType\":\"DOM\",\"type\":\"node\",\"instanceArgs\":{\"namespace\":\"html\",\"tag\":\"div\"},\"children\":[{\"props\":{},\"nodeType\":\"Scope\",\"type\":\"node\",\"instanceArgs\":{\"imports\":{\"data\":[{\"name\":\"knockout\",\"type\":\"js\",\"url\":\"\\/assetserver\\/92c2f1237c7de526b82b854e47551e089e074ac2-knockout.js\"},{\"name\":\"knockout_punches\",\"type\":\"js\",\"url\":\"\\/assetserver\\/39e4d1dceef49085ebf36edb09c92c7574c58816-knockout_punches.js\"},{\"name\":null,\"type\":\"js\",\"url\":\"\\/assetserver\\/bea19c4f7d50366923bb3fbba800750b2d533f80-all.js\"},{\"name\":null,\"type\":\"css\",\"url\":\"\\/assetserver\\/c4d4f4f0ce9b24709d6d39765a20423cfb274e6a-style.css\"},{\"name\":null,\"type\":\"css\",\"url\":\"\\/assetserver\\/6513af17bee55ce33a5387a0f8cc5237a8ed2443-bulma_confined.min.css\"}],\"type\":\"async_block\"},\"id\":\"13220695927094376444\",\"handlers\":{\"changes\":[\"(function (val){return (val!=this.model[\\\"changes\\\"]()) ? (this.valueFromJulia[\\\"changes\\\"]=true, this.model[\\\"changes\\\"](val)) : undefined})\"],\"index\":[\"(function (val){return (val!=this.model[\\\"index\\\"]()) ? (this.valueFromJulia[\\\"index\\\"]=true, this.model[\\\"index\\\"](val)) : undefined})\"]},\"systemjs_options\":null,\"mount_callbacks\":[\"function () {\\n    var handler = (function (ko, koPunches) {\\n    ko.punches.enableAll();\\n    ko.bindingHandlers.numericValue = {\\n        init: function(element, valueAccessor, allBindings, data, context) {\\n            var stringified = ko.observable(ko.unwrap(valueAccessor()));\\n            stringified.subscribe(function(value) {\\n                var val = parseFloat(value);\\n                if (!isNaN(val)) {\\n                    valueAccessor()(val);\\n                }\\n            });\\n            valueAccessor().subscribe(function(value) {\\n                var str = JSON.stringify(value);\\n                if ((str == \\\"0\\\") && ([\\\"-0\\\", \\\"-0.\\\"].indexOf(stringified()) >= 0))\\n                     return;\\n                 if ([\\\"null\\\", \\\"\\\"].indexOf(str) >= 0)\\n                     return;\\n                stringified(str);\\n            });\\n            ko.applyBindingsToNode(\\n                element,\\n                {\\n                    value: stringified,\\n                    valueUpdate: allBindings.get('valueUpdate'),\\n                },\\n                context,\\n            );\\n        }\\n    };\\n    var json_data = {\\\"formatted_vals\\\":[\\\"1.0\\\",\\\"1.1\\\",\\\"1.2\\\",\\\"1.3\\\",\\\"1.4\\\",\\\"1.5\\\",\\\"1.6\\\",\\\"1.7\\\",\\\"1.8\\\",\\\"1.9\\\",\\\"2.0\\\",\\\"2.1\\\",\\\"2.2\\\",\\\"2.3\\\",\\\"2.4\\\",\\\"2.5\\\",\\\"2.6\\\",\\\"2.7\\\",\\\"2.8\\\",\\\"2.9\\\",\\\"3.0\\\",\\\"3.1\\\",\\\"3.2\\\",\\\"3.3\\\",\\\"3.4\\\",\\\"3.5\\\",\\\"3.6\\\",\\\"3.7\\\",\\\"3.8\\\",\\\"3.9\\\",\\\"4.0\\\",\\\"4.1\\\",\\\"4.2\\\",\\\"4.3\\\",\\\"4.4\\\",\\\"4.5\\\",\\\"4.6\\\",\\\"4.7\\\",\\\"4.8\\\",\\\"4.9\\\",\\\"5.0\\\",\\\"5.1\\\",\\\"5.2\\\",\\\"5.3\\\",\\\"5.4\\\",\\\"5.5\\\",\\\"5.6\\\",\\\"5.7\\\",\\\"5.8\\\",\\\"5.9\\\",\\\"6.0\\\",\\\"6.1\\\",\\\"6.2\\\",\\\"6.3\\\",\\\"6.4\\\",\\\"6.5\\\",\\\"6.6\\\",\\\"6.7\\\",\\\"6.8\\\",\\\"6.9\\\",\\\"7.0\\\",\\\"7.1\\\",\\\"7.2\\\",\\\"7.3\\\",\\\"7.4\\\",\\\"7.5\\\",\\\"7.6\\\",\\\"7.7\\\",\\\"7.8\\\",\\\"7.9\\\",\\\"8.0\\\",\\\"8.1\\\",\\\"8.2\\\",\\\"8.3\\\",\\\"8.4\\\",\\\"8.5\\\",\\\"8.6\\\",\\\"8.7\\\",\\\"8.8\\\",\\\"8.9\\\",\\\"9.0\\\",\\\"9.1\\\",\\\"9.2\\\",\\\"9.3\\\",\\\"9.4\\\",\\\"9.5\\\",\\\"9.6\\\",\\\"9.7\\\",\\\"9.8\\\",\\\"9.9\\\",\\\"10.0\\\",\\\"10.1\\\",\\\"10.2\\\",\\\"10.3\\\",\\\"10.4\\\",\\\"10.5\\\",\\\"10.6\\\",\\\"10.7\\\",\\\"10.8\\\",\\\"10.9\\\",\\\"11.0\\\",\\\"11.1\\\",\\\"11.2\\\",\\\"11.3\\\",\\\"11.4\\\",\\\"11.5\\\",\\\"11.6\\\",\\\"11.7\\\",\\\"11.8\\\",\\\"11.9\\\",\\\"12.0\\\",\\\"12.1\\\",\\\"12.2\\\",\\\"12.3\\\",\\\"12.4\\\",\\\"12.5\\\",\\\"12.6\\\",\\\"12.7\\\",\\\"12.8\\\",\\\"12.9\\\",\\\"13.0\\\",\\\"13.1\\\",\\\"13.2\\\",\\\"13.3\\\",\\\"13.4\\\",\\\"13.5\\\",\\\"13.6\\\",\\\"13.7\\\",\\\"13.8\\\",\\\"13.9\\\",\\\"14.0\\\",\\\"14.1\\\",\\\"14.2\\\",\\\"14.3\\\",\\\"14.4\\\",\\\"14.5\\\",\\\"14.6\\\",\\\"14.7\\\",\\\"14.8\\\",\\\"14.9\\\",\\\"15.0\\\"],\\\"changes\\\":WebIO.getval({\\\"name\\\":\\\"changes\\\",\\\"scope\\\":\\\"13220695927094376444\\\",\\\"id\\\":\\\"13908010643427057766\\\",\\\"type\\\":\\\"observable\\\"}),\\\"index\\\":WebIO.getval({\\\"name\\\":\\\"index\\\",\\\"scope\\\":\\\"13220695927094376444\\\",\\\"id\\\":\\\"4048612064940972474\\\",\\\"type\\\":\\\"observable\\\"})};\\n    var self = this;\\n    function AppViewModel() {\\n        for (var key in json_data) {\\n            var el = json_data[key];\\n            this[key] = Array.isArray(el) ? ko.observableArray(el) : ko.observable(el);\\n        }\\n        \\n        [this[\\\"formatted_val\\\"]=ko.computed(    function(){\\n        return this.formatted_vals()[parseInt(this.index())-(1)];\\n    }\\n,this)]\\n        [this[\\\"changes\\\"].subscribe((function (val){!(this.valueFromJulia[\\\"changes\\\"]) ? (WebIO.setval({\\\"name\\\":\\\"changes\\\",\\\"scope\\\":\\\"13220695927094376444\\\",\\\"id\\\":\\\"13908010643427057766\\\",\\\"type\\\":\\\"observable\\\"},val)) : undefined; return this.valueFromJulia[\\\"changes\\\"]=false}),self),this[\\\"index\\\"].subscribe((function (val){!(this.valueFromJulia[\\\"index\\\"]) ? (WebIO.setval({\\\"name\\\":\\\"index\\\",\\\"scope\\\":\\\"13220695927094376444\\\",\\\"id\\\":\\\"4048612064940972474\\\",\\\"type\\\":\\\"observable\\\"},val)) : undefined; return this.valueFromJulia[\\\"index\\\"]=false}),self)]\\n        \\n    }\\n    self.model = new AppViewModel();\\n    self.valueFromJulia = {};\\n    for (var key in json_data) {\\n        self.valueFromJulia[key] = false;\\n    }\\n    ko.applyBindings(self.model, self.dom);\\n}\\n);\\n    (WebIO.importBlock({\\\"data\\\":[{\\\"name\\\":\\\"knockout\\\",\\\"type\\\":\\\"js\\\",\\\"url\\\":\\\"\\/assetserver\\/92c2f1237c7de526b82b854e47551e089e074ac2-knockout.js\\\"},{\\\"name\\\":\\\"knockout_punches\\\",\\\"type\\\":\\\"js\\\",\\\"url\\\":\\\"\\/assetserver\\/39e4d1dceef49085ebf36edb09c92c7574c58816-knockout_punches.js\\\"}],\\\"type\\\":\\\"async_block\\\"})).then((imports) => handler.apply(this, imports));\\n}\\n\"],\"observables\":{\"changes\":{\"sync\":false,\"id\":\"13908010643427057766\",\"value\":0},\"index\":{\"sync\":true,\"id\":\"4048612064940972474\",\"value\":71}}},\"children\":[{\"props\":{\"className\":\"interact-flex-row interact-widget\"},\"nodeType\":\"DOM\",\"type\":\"node\",\"instanceArgs\":{\"namespace\":\"html\",\"tag\":\"div\"},\"children\":[{\"props\":{\"className\":\"interact-flex-row-left\"},\"nodeType\":\"DOM\",\"type\":\"node\",\"instanceArgs\":{\"namespace\":\"html\",\"tag\":\"div\"},\"children\":[{\"props\":{\"className\":\"interact \",\"style\":{\"padding\":\"5px 10px 0px 10px\"}},\"nodeType\":\"DOM\",\"type\":\"node\",\"instanceArgs\":{\"namespace\":\"html\",\"tag\":\"label\"},\"children\":[\"Maximum Amplitude y\"]}]},{\"props\":{\"className\":\"interact-flex-row-center\"},\"nodeType\":\"DOM\",\"type\":\"node\",\"instanceArgs\":{\"namespace\":\"html\",\"tag\":\"div\"},\"children\":[{\"props\":{\"max\":141,\"min\":1,\"attributes\":{\"type\":\"range\",\"data-bind\":\"numericValue: index, valueUpdate: 'input', event: {change: function (){this.changes(this.changes()+1)}}\",\"orient\":\"horizontal\"},\"step\":1,\"className\":\"slider slider is-fullwidth\",\"style\":{}},\"nodeType\":\"DOM\",\"type\":\"node\",\"instanceArgs\":{\"namespace\":\"html\",\"tag\":\"input\"},\"children\":[]}]},{\"props\":{\"className\":\"interact-flex-row-right\"},\"nodeType\":\"DOM\",\"type\":\"node\",\"instanceArgs\":{\"namespace\":\"html\",\"tag\":\"div\"},\"children\":[{\"props\":{\"attributes\":{\"data-bind\":\"text: formatted_val\"}},\"nodeType\":\"DOM\",\"type\":\"node\",\"instanceArgs\":{\"namespace\":\"html\",\"tag\":\"p\"},\"children\":[]}]}]}]}]},{\"props\":{\"className\":\"field interact-widget\"},\"nodeType\":\"DOM\",\"type\":\"node\",\"instanceArgs\":{\"namespace\":\"html\",\"tag\":\"div\"},\"children\":[{\"props\":{},\"nodeType\":\"Scope\",\"type\":\"node\",\"instanceArgs\":{\"imports\":{\"data\":[{\"name\":\"knockout\",\"type\":\"js\",\"url\":\"\\/assetserver\\/92c2f1237c7de526b82b854e47551e089e074ac2-knockout.js\"},{\"name\":\"knockout_punches\",\"type\":\"js\",\"url\":\"\\/assetserver\\/39e4d1dceef49085ebf36edb09c92c7574c58816-knockout_punches.js\"},{\"name\":null,\"type\":\"js\",\"url\":\"\\/assetserver\\/bea19c4f7d50366923bb3fbba800750b2d533f80-all.js\"},{\"name\":null,\"type\":\"css\",\"url\":\"\\/assetserver\\/c4d4f4f0ce9b24709d6d39765a20423cfb274e6a-style.css\"},{\"name\":null,\"type\":\"css\",\"url\":\"\\/assetserver\\/6513af17bee55ce33a5387a0f8cc5237a8ed2443-bulma_confined.min.css\"}],\"type\":\"async_block\"},\"id\":\"7760592932523404248\",\"handlers\":{\"changes\":[\"(function (val){return (val!=this.model[\\\"changes\\\"]()) ? (this.valueFromJulia[\\\"changes\\\"]=true, this.model[\\\"changes\\\"](val)) : undefined})\"],\"index\":[\"(function (val){return (val!=this.model[\\\"index\\\"]()) ? (this.valueFromJulia[\\\"index\\\"]=true, this.model[\\\"index\\\"](val)) : undefined})\"]},\"systemjs_options\":null,\"mount_callbacks\":[\"function () {\\n    var handler = (function (ko, koPunches) {\\n    ko.punches.enableAll();\\n    ko.bindingHandlers.numericValue = {\\n        init: function(element, valueAccessor, allBindings, data, context) {\\n            var stringified = ko.observable(ko.unwrap(valueAccessor()));\\n            stringified.subscribe(function(value) {\\n                var val = parseFloat(value);\\n                if (!isNaN(val)) {\\n                    valueAccessor()(val);\\n                }\\n            });\\n            valueAccessor().subscribe(function(value) {\\n                var str = JSON.stringify(value);\\n                if ((str == \\\"0\\\") && ([\\\"-0\\\", \\\"-0.\\\"].indexOf(stringified()) >= 0))\\n                     return;\\n                 if ([\\\"null\\\", \\\"\\\"].indexOf(str) >= 0)\\n                     return;\\n                stringified(str);\\n            });\\n            ko.applyBindingsToNode(\\n                element,\\n                {\\n                    value: stringified,\\n                    valueUpdate: allBindings.get('valueUpdate'),\\n                },\\n                context,\\n            );\\n        }\\n    };\\n    var json_data = {\\\"formatted_vals\\\":[\\\"2\\\",\\\"3\\\",\\\"4\\\",\\\"5\\\",\\\"6\\\",\\\"7\\\",\\\"8\\\",\\\"9\\\",\\\"10\\\",\\\"11\\\",\\\"12\\\",\\\"13\\\",\\\"14\\\",\\\"15\\\",\\\"16\\\",\\\"17\\\",\\\"18\\\",\\\"19\\\",\\\"20\\\"],\\\"changes\\\":WebIO.getval({\\\"name\\\":\\\"changes\\\",\\\"scope\\\":\\\"7760592932523404248\\\",\\\"id\\\":\\\"4890229697268627156\\\",\\\"type\\\":\\\"observable\\\"}),\\\"index\\\":WebIO.getval({\\\"name\\\":\\\"index\\\",\\\"scope\\\":\\\"7760592932523404248\\\",\\\"id\\\":\\\"17918832772484151105\\\",\\\"type\\\":\\\"observable\\\"})};\\n    var self = this;\\n    function AppViewModel() {\\n        for (var key in json_data) {\\n            var el = json_data[key];\\n            this[key] = Array.isArray(el) ? ko.observableArray(el) : ko.observable(el);\\n        }\\n        \\n        [this[\\\"formatted_val\\\"]=ko.computed(    function(){\\n        return this.formatted_vals()[parseInt(this.index())-(1)];\\n    }\\n,this)]\\n        [this[\\\"changes\\\"].subscribe((function (val){!(this.valueFromJulia[\\\"changes\\\"]) ? (WebIO.setval({\\\"name\\\":\\\"changes\\\",\\\"scope\\\":\\\"7760592932523404248\\\",\\\"id\\\":\\\"4890229697268627156\\\",\\\"type\\\":\\\"observable\\\"},val)) : undefined; return this.valueFromJulia[\\\"changes\\\"]=false}),self),this[\\\"index\\\"].subscribe((function (val){!(this.valueFromJulia[\\\"index\\\"]) ? (WebIO.setval({\\\"name\\\":\\\"index\\\",\\\"scope\\\":\\\"7760592932523404248\\\",\\\"id\\\":\\\"17918832772484151105\\\",\\\"type\\\":\\\"observable\\\"},val)) : undefined; return this.valueFromJulia[\\\"index\\\"]=false}),self)]\\n        \\n    }\\n    self.model = new AppViewModel();\\n    self.valueFromJulia = {};\\n    for (var key in json_data) {\\n        self.valueFromJulia[key] = false;\\n    }\\n    ko.applyBindings(self.model, self.dom);\\n}\\n);\\n    (WebIO.importBlock({\\\"data\\\":[{\\\"name\\\":\\\"knockout\\\",\\\"type\\\":\\\"js\\\",\\\"url\\\":\\\"\\/assetserver\\/92c2f1237c7de526b82b854e47551e089e074ac2-knockout.js\\\"},{\\\"name\\\":\\\"knockout_punches\\\",\\\"type\\\":\\\"js\\\",\\\"url\\\":\\\"\\/assetserver\\/39e4d1dceef49085ebf36edb09c92c7574c58816-knockout_punches.js\\\"}],\\\"type\\\":\\\"async_block\\\"})).then((imports) => handler.apply(this, imports));\\n}\\n\"],\"observables\":{\"changes\":{\"sync\":false,\"id\":\"4890229697268627156\",\"value\":0},\"index\":{\"sync\":true,\"id\":\"17918832772484151105\",\"value\":10}}},\"children\":[{\"props\":{\"className\":\"interact-flex-row interact-widget\"},\"nodeType\":\"DOM\",\"type\":\"node\",\"instanceArgs\":{\"namespace\":\"html\",\"tag\":\"div\"},\"children\":[{\"props\":{\"className\":\"interact-flex-row-left\"},\"nodeType\":\"DOM\",\"type\":\"node\",\"instanceArgs\":{\"namespace\":\"html\",\"tag\":\"div\"},\"children\":[{\"props\":{\"className\":\"interact \",\"style\":{\"padding\":\"5px 10px 0px 10px\"}},\"nodeType\":\"DOM\",\"type\":\"node\",\"instanceArgs\":{\"namespace\":\"html\",\"tag\":\"label\"},\"children\":[\"Height\"]}]},{\"props\":{\"className\":\"interact-flex-row-center\"},\"nodeType\":\"DOM\",\"type\":\"node\",\"instanceArgs\":{\"namespace\":\"html\",\"tag\":\"div\"},\"children\":[{\"props\":{\"max\":19,\"min\":1,\"attributes\":{\"type\":\"range\",\"data-bind\":\"numericValue: index, valueUpdate: 'input', event: {change: function (){this.changes(this.changes()+1)}}\",\"orient\":\"horizontal\"},\"step\":1,\"className\":\"slider slider is-fullwidth\",\"style\":{}},\"nodeType\":\"DOM\",\"type\":\"node\",\"instanceArgs\":{\"namespace\":\"html\",\"tag\":\"input\"},\"children\":[]}]},{\"props\":{\"className\":\"interact-flex-row-right\"},\"nodeType\":\"DOM\",\"type\":\"node\",\"instanceArgs\":{\"namespace\":\"html\",\"tag\":\"div\"},\"children\":[{\"props\":{\"attributes\":{\"data-bind\":\"text: formatted_val\"}},\"nodeType\":\"DOM\",\"type\":\"node\",\"instanceArgs\":{\"namespace\":\"html\",\"tag\":\"p\"},\"children\":[]}]}]}]}]},{\"props\":{},\"nodeType\":\"Scope\",\"type\":\"node\",\"instanceArgs\":{\"imports\":{\"data\":[],\"type\":\"async_block\"},\"id\":\"16240194878238118888\",\"handlers\":{},\"systemjs_options\":null,\"mount_callbacks\":[],\"observables\":{\"obs-node\":{\"sync\":false,\"id\":\"10769636422755565515\",\"value\":{\"props\":{\"className\":\"interact-flex-row interact-widget\"},\"nodeType\":\"DOM\",\"type\":\"node\",\"instanceArgs\":{\"namespace\":\"html\",\"tag\":\"div\"},\"children\":[{\"props\":{\"setInnerHtml\":\"<pre>SurfaceGrid(...)<\\/pre>\"},\"nodeType\":\"DOM\",\"type\":\"node\",\"instanceArgs\":{\"namespace\":\"html\",\"tag\":\"div\"},\"children\":[]}]}}}},\"children\":[{\"props\":{},\"nodeType\":\"ObservableNode\",\"type\":\"node\",\"instanceArgs\":{\"id\":\"10769636422755565515\",\"name\":\"obs-node\"},\"children\":[]}]}]},\n",
       "            window,\n",
       "        );\n",
       "    } else {\n",
       "        document\n",
       "            .querySelector('[data-webio-mountpoint=\"17601779957332419910\"]')\n",
       "            .innerHTML = (\n",
       "                '<div style=\"padding: 1em; background-color: #f8d6da; border: 1px solid #f5c6cb\">' +\n",
       "                '<p><strong>WebIO not detected.</strong></p>' +\n",
       "                '<p>Please read ' +\n",
       "                '<a href=\"https://juliagizmos.github.io/WebIO.jl/latest/troubleshooting/not-detected/\" target=\"_blank\">the troubleshooting guide</a> ' +\n",
       "                'for more information on how to resolve this issue.</p>' +\n",
       "                '<p><a href=\"https://juliagizmos.github.io/WebIO.jl/latest/troubleshooting/not-detected/\" target=\"_blank\">https://juliagizmos.github.io/WebIO.jl/latest/troubleshooting/not-detected/</a></p>' +\n",
       "                '</div>'\n",
       "            );\n",
       "    }\n",
       "    </script>\n",
       "</div>\n"
      ],
      "text/plain": [
       "Node{WebIO.DOM}(WebIO.DOM(:html, :div), Any[Node{WebIO.DOM}(WebIO.DOM(:html, :div), Any[Scope(Node{WebIO.DOM}(WebIO.DOM(:html, :div), Any[Node{WebIO.DOM}(WebIO.DOM(:html, :div), Any[Node{WebIO.DOM}(WebIO.DOM(:html, :label), Any[\"Amplitude x\"], Dict{Symbol,Any}(:className => \"interact \",:style => Dict{Any,Any}(:padding => \"5px 10px 0px 10px\")))], Dict{Symbol,Any}(:className => \"interact-flex-row-left\")), Node{WebIO.DOM}(WebIO.DOM(:html, :div), Any[Node{WebIO.DOM}(WebIO.DOM(:html, :input), Any[], Dict{Symbol,Any}(:max => 21,:min => 1,:attributes => Dict{Any,Any}(:type => \"range\",Symbol(\"data-bind\") => \"numericValue: index, valueUpdate: 'input', event: {change: function (){this.changes(this.changes()+1)}}\",\"orient\" => \"horizontal\"),:step => 1,:className => \"slider slider is-fullwidth\",:style => Dict{Any,Any}()))], Dict{Symbol,Any}(:className => \"interact-flex-row-center\")), Node{WebIO.DOM}(WebIO.DOM(:html, :div), Any[Node{WebIO.DOM}(WebIO.DOM(:html, :p), Any[], Dict{Symbol,Any}(:attributes => Dict(\"data-bind\" => \"text: formatted_val\")))], Dict{Symbol,Any}(:className => \"interact-flex-row-right\"))], Dict{Symbol,Any}(:className => \"interact-flex-row interact-widget\")), Dict{String,Tuple{Observables.AbstractObservable,Union{Nothing, Bool}}}(\"changes\" => (Observable{Int64} with 1 listeners. Value:\n",
       "0, nothing),\"index\" => (Observable{Any} with 2 listeners. Value:\n",
       "11, nothing)), Set(String[]), nothing, Asset[Asset(\"js\", \"knockout\", \"C:\\\\Users\\\\ines\\\\.julia\\\\packages\\\\Knockout\\\\IP1uR\\\\src\\\\..\\\\assets\\\\knockout.js\"), Asset(\"js\", \"knockout_punches\", \"C:\\\\Users\\\\ines\\\\.julia\\\\packages\\\\Knockout\\\\IP1uR\\\\src\\\\..\\\\assets\\\\knockout_punches.js\"), Asset(\"js\", nothing, \"C:\\\\Users\\\\ines\\\\.julia\\\\packages\\\\InteractBase\\\\sOe2Z\\\\src\\\\..\\\\assets\\\\all.js\"), Asset(\"css\", nothing, \"C:\\\\Users\\\\ines\\\\.julia\\\\packages\\\\InteractBase\\\\sOe2Z\\\\src\\\\..\\\\assets\\\\style.css\"), Asset(\"css\", nothing, \"C:\\\\Users\\\\ines\\\\.julia\\\\packages\\\\Interact\\\\SbgIk\\\\src\\\\..\\\\assets\\\\bulma_confined.min.css\")], Dict{Any,Any}(\"changes\" => Any[WebIO.JSString(\"(function (val){return (val!=this.model[\\\"changes\\\"]()) ? (this.valueFromJulia[\\\"changes\\\"]=true, this.model[\\\"changes\\\"](val)) : undefined})\")],\"index\" => Any[WebIO.JSString(\"(function (val){return (val!=this.model[\\\"index\\\"]()) ? (this.valueFromJulia[\\\"index\\\"]=true, this.model[\\\"index\\\"](val)) : undefined})\")]), WebIO.ConnectionPool(Channel{Any}(sz_max:32,sz_curr:0), Set(AbstractConnection[]), Base.GenericCondition{Base.AlwaysLockedST}(Base.InvasiveLinkedList{Task}(Task (runnable) @0x000000001795a570, Task (runnable) @0x000000001795a570), Base.AlwaysLockedST(1))), WebIO.JSString[WebIO.JSString(\"function () {\\n    var handler = (function (ko, koPunches) {\\n    ko.punches.enableAll();\\n    ko.bindingHandlers.numericValue = {\\n        init: function(element, valueAccessor, allBindings, data, context) {\\n            var stringified = ko.observable(ko.unwrap(valueAccessor()));\\n            stringified.subscribe(function(value) {\\n                var val = parseFloat(value);\\n                if (!isNaN(val)) {\\n                    valueAccessor()(val);\\n                }\\n            });\\n            valueAccessor().subscribe(function(value) {\\n                var str = JSON.stringify(value);\\n                if ((str == \\\"0\\\") && ([\\\"-0\\\", \\\"-0.\\\"].indexOf(stringified()) >= 0))\\n                     return;\\n                 if ([\\\"null\\\", \\\"\\\"].indexOf(str) >= 0)\\n                     return;\\n                stringified(str);\\n            });\\n            ko.applyBindingsToNode(\\n                element,\\n                {\\n                    value: stringified,\\n                    valueUpdate: allBindings.get('valueUpdate'),\\n                },\\n                context,\\n            );\\n        }\\n    };\\n    var json_data = {\\\"formatted_vals\\\":[\\\"1.0\\\",\\\"1.1\\\",\\\"1.2\\\",\\\"1.3\\\",\\\"1.4\\\",\\\"1.5\\\",\\\"1.6\\\",\\\"1.7\\\",\\\"1.8\\\",\\\"1.9\\\",\\\"2.0\\\",\\\"2.1\\\",\\\"2.2\\\",\\\"2.3\\\",\\\"2.4\\\",\\\"2.5\\\",\\\"2.6\\\",\\\"2.7\\\",\\\"2.8\\\",\\\"2.9\\\",\\\"3.0\\\"],\\\"changes\\\":WebIO.getval({\\\"name\\\":\\\"changes\\\",\\\"scope\\\":\\\"2799899913936741616\\\",\\\"id\\\":\\\"17907592933457130371\\\",\\\"type\\\":\\\"observable\\\"}),\\\"index\\\":WebIO.getval({\\\"name\\\":\\\"index\\\",\\\"scope\\\":\\\"2799899913936741616\\\",\\\"id\\\":\\\"8729499260049549234\\\",\\\"type\\\":\\\"observable\\\"})};\\n    var self = this;\\n    function AppViewModel() {\\n        for (var key in json_data) {\\n            var el = json_data[key];\\n            this[key] = Array.isArray(el) ? ko.observableArray(el) : ko.observable(el);\\n        }\\n        \\n        [this[\\\"formatted_val\\\"]=ko.computed(    function(){\\n        return this.formatted_vals()[parseInt(this.index())-(1)];\\n    }\\n,this)]\\n        [this[\\\"changes\\\"].subscribe((function (val){!(this.valueFromJulia[\\\"changes\\\"]) ? (WebIO.setval({\\\"name\\\":\\\"changes\\\",\\\"scope\\\":\\\"2799899913936741616\\\",\\\"id\\\":\\\"17907592933457130371\\\",\\\"type\\\":\\\"observable\\\"},val)) : undefined; return this.valueFromJulia[\\\"changes\\\"]=false}),self),this[\\\"index\\\"].subscribe((function (val){!(this.valueFromJulia[\\\"index\\\"]) ? (WebIO.setval({\\\"name\\\":\\\"index\\\",\\\"scope\\\":\\\"2799899913936741616\\\",\\\"id\\\":\\\"8729499260049549234\\\",\\\"type\\\":\\\"observable\\\"},val)) : undefined; return this.valueFromJulia[\\\"index\\\"]=false}),self)]\\n        \\n    }\\n    self.model = new AppViewModel();\\n    self.valueFromJulia = {};\\n    for (var key in json_data) {\\n        self.valueFromJulia[key] = false;\\n    }\\n    ko.applyBindings(self.model, self.dom);\\n}\\n);\\n    (WebIO.importBlock({\\\"data\\\":[{\\\"name\\\":\\\"knockout\\\",\\\"type\\\":\\\"js\\\",\\\"url\\\":\\\"/assetserver/92c2f1237c7de526b82b854e47551e089e074ac2-knockout.js\\\"},{\\\"name\\\":\\\"knockout_punches\\\",\\\"type\\\":\\\"js\\\",\\\"url\\\":\\\"/assetserver/39e4d1dceef49085ebf36edb09c92c7574c58816-knockout_punches.js\\\"}],\\\"type\\\":\\\"async_block\\\"})).then((imports) => handler.apply(this, imports));\\n}\\n\")])], Dict{Symbol,Any}(:className => \"field interact-widget\")), Node{WebIO.DOM}(WebIO.DOM(:html, :div), Any[Scope(Node{WebIO.DOM}(WebIO.DOM(:html, :div), Any[Node{WebIO.DOM}(WebIO.DOM(:html, :div), Any[Node{WebIO.DOM}(WebIO.DOM(:html, :label), Any[\"Minimum Amplitude y\"], Dict{Symbol,Any}(:className => \"interact \",:style => Dict{Any,Any}(:padding => \"5px 10px 0px 10px\")))], Dict{Symbol,Any}(:className => \"interact-flex-row-left\")), Node{WebIO.DOM}(WebIO.DOM(:html, :div), Any[Node{WebIO.DOM}(WebIO.DOM(:html, :input), Any[], Dict{Symbol,Any}(:max => 141,:min => 1,:attributes => Dict{Any,Any}(:type => \"range\",Symbol(\"data-bind\") => \"numericValue: index, valueUpdate: 'input', event: {change: function (){this.changes(this.changes()+1)}}\",\"orient\" => \"horizontal\"),:step => 1,:className => \"slider slider is-fullwidth\",:style => Dict{Any,Any}()))], Dict{Symbol,Any}(:className => \"interact-flex-row-center\")), Node{WebIO.DOM}(WebIO.DOM(:html, :div), Any[Node{WebIO.DOM}(WebIO.DOM(:html, :p), Any[], Dict{Symbol,Any}(:attributes => Dict(\"data-bind\" => \"text: formatted_val\")))], Dict{Symbol,Any}(:className => \"interact-flex-row-right\"))], Dict{Symbol,Any}(:className => \"interact-flex-row interact-widget\")), Dict{String,Tuple{Observables.AbstractObservable,Union{Nothing, Bool}}}(\"changes\" => (Observable{Int64} with 1 listeners. Value:\n",
       "0, nothing),\"index\" => (Observable{Any} with 2 listeners. Value:\n",
       "71, nothing)), Set(String[]), nothing, Asset[Asset(\"js\", \"knockout\", \"C:\\\\Users\\\\ines\\\\.julia\\\\packages\\\\Knockout\\\\IP1uR\\\\src\\\\..\\\\assets\\\\knockout.js\"), Asset(\"js\", \"knockout_punches\", \"C:\\\\Users\\\\ines\\\\.julia\\\\packages\\\\Knockout\\\\IP1uR\\\\src\\\\..\\\\assets\\\\knockout_punches.js\"), Asset(\"js\", nothing, \"C:\\\\Users\\\\ines\\\\.julia\\\\packages\\\\InteractBase\\\\sOe2Z\\\\src\\\\..\\\\assets\\\\all.js\"), Asset(\"css\", nothing, \"C:\\\\Users\\\\ines\\\\.julia\\\\packages\\\\InteractBase\\\\sOe2Z\\\\src\\\\..\\\\assets\\\\style.css\"), Asset(\"css\", nothing, \"C:\\\\Users\\\\ines\\\\.julia\\\\packages\\\\Interact\\\\SbgIk\\\\src\\\\..\\\\assets\\\\bulma_confined.min.css\")], Dict{Any,Any}(\"changes\" => Any[WebIO.JSString(\"(function (val){return (val!=this.model[\\\"changes\\\"]()) ? (this.valueFromJulia[\\\"changes\\\"]=true, this.model[\\\"changes\\\"](val)) : undefined})\")],\"index\" => Any[WebIO.JSString(\"(function (val){return (val!=this.model[\\\"index\\\"]()) ? (this.valueFromJulia[\\\"index\\\"]=true, this.model[\\\"index\\\"](val)) : undefined})\")]), WebIO.ConnectionPool(Channel{Any}(sz_max:32,sz_curr:0), Set(AbstractConnection[]), Base.GenericCondition{Base.AlwaysLockedST}(Base.InvasiveLinkedList{Task}(Task (runnable) @0x000000001795b990, Task (runnable) @0x000000001795b990), Base.AlwaysLockedST(1))), WebIO.JSString[WebIO.JSString(\"function () {\\n    var handler = (function (ko, koPunches) {\\n    ko.punches.enableAll();\\n    ko.bindingHandlers.numericValue = {\\n        init: function(element, valueAccessor, allBindings, data, context) {\\n            var stringified = ko.observable(ko.unwrap(valueAccessor()));\\n            stringified.subscribe(function(value) {\\n                var val = parseFloat(value);\\n                if (!isNaN(val)) {\\n                    valueAccessor()(val);\\n                }\\n            });\\n            valueAccessor().subscribe(function(value) {\\n                var str = JSON.stringify(value);\\n                if ((str == \\\"0\\\") && ([\\\"-0\\\", \\\"-0.\\\"].indexOf(stringified()) >= 0))\\n                     return;\\n                 if ([\\\"null\\\", \\\"\\\"].indexOf(str) >= 0)\\n                     return;\\n                stringified(str);\\n            });\\n            ko.applyBindingsToNode(\\n                element,\\n                {\\n                    value: stringified,\\n                    valueUpdate: allBindings.get('valueUpdate'),\\n                },\\n                context,\\n            );\\n        }\\n    };\\n    var json_data = {\\\"formatted_vals\\\":[\\\"1.0\\\",\\\"1.1\\\",\\\"1.2\\\",\\\"1.3\\\",\\\"1.4\\\",\\\"1.5\\\",\\\"1.6\\\",\\\"1.7\\\",\\\"1.8\\\",\\\"1.9\\\",\\\"2.0\\\",\\\"2.1\\\",\\\"2.2\\\",\\\"2.3\\\",\\\"2.4\\\",\\\"2.5\\\",\\\"2.6\\\",\\\"2.7\\\",\\\"2.8\\\",\\\"2.9\\\",\\\"3.0\\\",\\\"3.1\\\",\\\"3.2\\\",\\\"3.3\\\",\\\"3.4\\\",\\\"3.5\\\",\\\"3.6\\\",\\\"3.7\\\",\\\"3.8\\\",\\\"3.9\\\",\\\"4.0\\\",\\\"4.1\\\",\\\"4.2\\\",\\\"4.3\\\",\\\"4.4\\\",\\\"4.5\\\",\\\"4.6\\\",\\\"4.7\\\",\\\"4.8\\\",\\\"4.9\\\",\\\"5.0\\\",\\\"5.1\\\",\\\"5.2\\\",\\\"5.3\\\",\\\"5.4\\\",\\\"5.5\\\",\\\"5.6\\\",\\\"5.7\\\",\\\"5.8\\\",\\\"5.9\\\",\\\"6.0\\\",\\\"6.1\\\",\\\"6.2\\\",\\\"6.3\\\",\\\"6.4\\\",\\\"6.5\\\",\\\"6.6\\\",\\\"6.7\\\",\\\"6.8\\\",\\\"6.9\\\",\\\"7.0\\\",\\\"7.1\\\",\\\"7.2\\\",\\\"7.3\\\",\\\"7.4\\\",\\\"7.5\\\",\\\"7.6\\\",\\\"7.7\\\",\\\"7.8\\\",\\\"7.9\\\",\\\"8.0\\\",\\\"8.1\\\",\\\"8.2\\\",\\\"8.3\\\",\\\"8.4\\\",\\\"8.5\\\",\\\"8.6\\\",\\\"8.7\\\",\\\"8.8\\\",\\\"8.9\\\",\\\"9.0\\\",\\\"9.1\\\",\\\"9.2\\\",\\\"9.3\\\",\\\"9.4\\\",\\\"9.5\\\",\\\"9.6\\\",\\\"9.7\\\",\\\"9.8\\\",\\\"9.9\\\",\\\"10.0\\\",\\\"10.1\\\",\\\"10.2\\\",\\\"10.3\\\",\\\"10.4\\\",\\\"10.5\\\",\\\"10.6\\\",\\\"10.7\\\",\\\"10.8\\\",\\\"10.9\\\",\\\"11.0\\\",\\\"11.1\\\",\\\"11.2\\\",\\\"11.3\\\",\\\"11.4\\\",\\\"11.5\\\",\\\"11.6\\\",\\\"11.7\\\",\\\"11.8\\\",\\\"11.9\\\",\\\"12.0\\\",\\\"12.1\\\",\\\"12.2\\\",\\\"12.3\\\",\\\"12.4\\\",\\\"12.5\\\",\\\"12.6\\\",\\\"12.7\\\",\\\"12.8\\\",\\\"12.9\\\",\\\"13.0\\\",\\\"13.1\\\",\\\"13.2\\\",\\\"13.3\\\",\\\"13.4\\\",\\\"13.5\\\",\\\"13.6\\\",\\\"13.7\\\",\\\"13.8\\\",\\\"13.9\\\",\\\"14.0\\\",\\\"14.1\\\",\\\"14.2\\\",\\\"14.3\\\",\\\"14.4\\\",\\\"14.5\\\",\\\"14.6\\\",\\\"14.7\\\",\\\"14.8\\\",\\\"14.9\\\",\\\"15.0\\\"],\\\"changes\\\":WebIO.getval({\\\"name\\\":\\\"changes\\\",\\\"scope\\\":\\\"14092579715281531903\\\",\\\"id\\\":\\\"2377794546783357174\\\",\\\"type\\\":\\\"observable\\\"}),\\\"index\\\":WebIO.getval({\\\"name\\\":\\\"index\\\",\\\"scope\\\":\\\"14092579715281531903\\\",\\\"id\\\":\\\"7947525441105498271\\\",\\\"type\\\":\\\"observable\\\"})};\\n    var self = this;\\n    function AppViewModel() {\\n        for (var key in json_data) {\\n            var el = json_data[key];\\n            this[key] = Array.isArray(el) ? ko.observableArray(el) : ko.observable(el);\\n        }\\n        \\n        [this[\\\"formatted_val\\\"]=ko.computed(    function(){\\n        return this.formatted_vals()[parseInt(this.index())-(1)];\\n    }\\n,this)]\\n        [this[\\\"changes\\\"].subscribe((function (val){!(this.valueFromJulia[\\\"changes\\\"]) ? (WebIO.setval({\\\"name\\\":\\\"changes\\\",\\\"scope\\\":\\\"14092579715281531903\\\",\\\"id\\\":\\\"2377794546783357174\\\",\\\"type\\\":\\\"observable\\\"},val)) : undefined; return this.valueFromJulia[\\\"changes\\\"]=false}),self),this[\\\"index\\\"].subscribe((function (val){!(this.valueFromJulia[\\\"index\\\"]) ? (WebIO.setval({\\\"name\\\":\\\"index\\\",\\\"scope\\\":\\\"14092579715281531903\\\",\\\"id\\\":\\\"7947525441105498271\\\",\\\"type\\\":\\\"observable\\\"},val)) : undefined; return this.valueFromJulia[\\\"index\\\"]=false}),self)]\\n        \\n    }\\n    self.model = new AppViewModel();\\n    self.valueFromJulia = {};\\n    for (var key in json_data) {\\n        self.valueFromJulia[key] = false;\\n    }\\n    ko.applyBindings(self.model, self.dom);\\n}\\n);\\n    (WebIO.importBlock({\\\"data\\\":[{\\\"name\\\":\\\"knockout\\\",\\\"type\\\":\\\"js\\\",\\\"url\\\":\\\"/assetserver/92c2f1237c7de526b82b854e47551e089e074ac2-knockout.js\\\"},{\\\"name\\\":\\\"knockout_punches\\\",\\\"type\\\":\\\"js\\\",\\\"url\\\":\\\"/assetserver/39e4d1dceef49085ebf36edb09c92c7574c58816-knockout_punches.js\\\"}],\\\"type\\\":\\\"async_block\\\"})).then((imports) => handler.apply(this, imports));\\n}\\n\")])], Dict{Symbol,Any}(:className => \"field interact-widget\")), Node{WebIO.DOM}(WebIO.DOM(:html, :div), Any[Scope(Node{WebIO.DOM}(WebIO.DOM(:html, :div), Any[Node{WebIO.DOM}(WebIO.DOM(:html, :div), Any[Node{WebIO.DOM}(WebIO.DOM(:html, :label), Any[\"Maximum Amplitude y\"], Dict{Symbol,Any}(:className => \"interact \",:style => Dict{Any,Any}(:padding => \"5px 10px 0px 10px\")))], Dict{Symbol,Any}(:className => \"interact-flex-row-left\")), Node{WebIO.DOM}(WebIO.DOM(:html, :div), Any[Node{WebIO.DOM}(WebIO.DOM(:html, :input), Any[], Dict{Symbol,Any}(:max => 141,:min => 1,:attributes => Dict{Any,Any}(:type => \"range\",Symbol(\"data-bind\") => \"numericValue: index, valueUpdate: 'input', event: {change: function (){this.changes(this.changes()+1)}}\",\"orient\" => \"horizontal\"),:step => 1,:className => \"slider slider is-fullwidth\",:style => Dict{Any,Any}()))], Dict{Symbol,Any}(:className => \"interact-flex-row-center\")), Node{WebIO.DOM}(WebIO.DOM(:html, :div), Any[Node{WebIO.DOM}(WebIO.DOM(:html, :p), Any[], Dict{Symbol,Any}(:attributes => Dict(\"data-bind\" => \"text: formatted_val\")))], Dict{Symbol,Any}(:className => \"interact-flex-row-right\"))], Dict{Symbol,Any}(:className => \"interact-flex-row interact-widget\")), Dict{String,Tuple{Observables.AbstractObservable,Union{Nothing, Bool}}}(\"changes\" => (Observable{Int64} with 1 listeners. Value:\n",
       "0, nothing),\"index\" => (Observable{Any} with 2 listeners. Value:\n",
       "71, nothing)), Set(String[]), nothing, Asset[Asset(\"js\", \"knockout\", \"C:\\\\Users\\\\ines\\\\.julia\\\\packages\\\\Knockout\\\\IP1uR\\\\src\\\\..\\\\assets\\\\knockout.js\"), Asset(\"js\", \"knockout_punches\", \"C:\\\\Users\\\\ines\\\\.julia\\\\packages\\\\Knockout\\\\IP1uR\\\\src\\\\..\\\\assets\\\\knockout_punches.js\"), Asset(\"js\", nothing, \"C:\\\\Users\\\\ines\\\\.julia\\\\packages\\\\InteractBase\\\\sOe2Z\\\\src\\\\..\\\\assets\\\\all.js\"), Asset(\"css\", nothing, \"C:\\\\Users\\\\ines\\\\.julia\\\\packages\\\\InteractBase\\\\sOe2Z\\\\src\\\\..\\\\assets\\\\style.css\"), Asset(\"css\", nothing, \"C:\\\\Users\\\\ines\\\\.julia\\\\packages\\\\Interact\\\\SbgIk\\\\src\\\\..\\\\assets\\\\bulma_confined.min.css\")], Dict{Any,Any}(\"changes\" => Any[WebIO.JSString(\"(function (val){return (val!=this.model[\\\"changes\\\"]()) ? (this.valueFromJulia[\\\"changes\\\"]=true, this.model[\\\"changes\\\"](val)) : undefined})\")],\"index\" => Any[WebIO.JSString(\"(function (val){return (val!=this.model[\\\"index\\\"]()) ? (this.valueFromJulia[\\\"index\\\"]=true, this.model[\\\"index\\\"](val)) : undefined})\")]), WebIO.ConnectionPool(Channel{Any}(sz_max:32,sz_curr:0), Set(AbstractConnection[]), Base.GenericCondition{Base.AlwaysLockedST}(Base.InvasiveLinkedList{Task}(Task (runnable) @0x000000001795bc70, Task (runnable) @0x000000001795bc70), Base.AlwaysLockedST(1))), WebIO.JSString[WebIO.JSString(\"function () {\\n    var handler = (function (ko, koPunches) {\\n    ko.punches.enableAll();\\n    ko.bindingHandlers.numericValue = {\\n        init: function(element, valueAccessor, allBindings, data, context) {\\n            var stringified = ko.observable(ko.unwrap(valueAccessor()));\\n            stringified.subscribe(function(value) {\\n                var val = parseFloat(value);\\n                if (!isNaN(val)) {\\n                    valueAccessor()(val);\\n                }\\n            });\\n            valueAccessor().subscribe(function(value) {\\n                var str = JSON.stringify(value);\\n                if ((str == \\\"0\\\") && ([\\\"-0\\\", \\\"-0.\\\"].indexOf(stringified()) >= 0))\\n                     return;\\n                 if ([\\\"null\\\", \\\"\\\"].indexOf(str) >= 0)\\n                     return;\\n                stringified(str);\\n            });\\n            ko.applyBindingsToNode(\\n                element,\\n                {\\n                    value: stringified,\\n                    valueUpdate: allBindings.get('valueUpdate'),\\n                },\\n                context,\\n            );\\n        }\\n    };\\n    var json_data = {\\\"formatted_vals\\\":[\\\"1.0\\\",\\\"1.1\\\",\\\"1.2\\\",\\\"1.3\\\",\\\"1.4\\\",\\\"1.5\\\",\\\"1.6\\\",\\\"1.7\\\",\\\"1.8\\\",\\\"1.9\\\",\\\"2.0\\\",\\\"2.1\\\",\\\"2.2\\\",\\\"2.3\\\",\\\"2.4\\\",\\\"2.5\\\",\\\"2.6\\\",\\\"2.7\\\",\\\"2.8\\\",\\\"2.9\\\",\\\"3.0\\\",\\\"3.1\\\",\\\"3.2\\\",\\\"3.3\\\",\\\"3.4\\\",\\\"3.5\\\",\\\"3.6\\\",\\\"3.7\\\",\\\"3.8\\\",\\\"3.9\\\",\\\"4.0\\\",\\\"4.1\\\",\\\"4.2\\\",\\\"4.3\\\",\\\"4.4\\\",\\\"4.5\\\",\\\"4.6\\\",\\\"4.7\\\",\\\"4.8\\\",\\\"4.9\\\",\\\"5.0\\\",\\\"5.1\\\",\\\"5.2\\\",\\\"5.3\\\",\\\"5.4\\\",\\\"5.5\\\",\\\"5.6\\\",\\\"5.7\\\",\\\"5.8\\\",\\\"5.9\\\",\\\"6.0\\\",\\\"6.1\\\",\\\"6.2\\\",\\\"6.3\\\",\\\"6.4\\\",\\\"6.5\\\",\\\"6.6\\\",\\\"6.7\\\",\\\"6.8\\\",\\\"6.9\\\",\\\"7.0\\\",\\\"7.1\\\",\\\"7.2\\\",\\\"7.3\\\",\\\"7.4\\\",\\\"7.5\\\",\\\"7.6\\\",\\\"7.7\\\",\\\"7.8\\\",\\\"7.9\\\",\\\"8.0\\\",\\\"8.1\\\",\\\"8.2\\\",\\\"8.3\\\",\\\"8.4\\\",\\\"8.5\\\",\\\"8.6\\\",\\\"8.7\\\",\\\"8.8\\\",\\\"8.9\\\",\\\"9.0\\\",\\\"9.1\\\",\\\"9.2\\\",\\\"9.3\\\",\\\"9.4\\\",\\\"9.5\\\",\\\"9.6\\\",\\\"9.7\\\",\\\"9.8\\\",\\\"9.9\\\",\\\"10.0\\\",\\\"10.1\\\",\\\"10.2\\\",\\\"10.3\\\",\\\"10.4\\\",\\\"10.5\\\",\\\"10.6\\\",\\\"10.7\\\",\\\"10.8\\\",\\\"10.9\\\",\\\"11.0\\\",\\\"11.1\\\",\\\"11.2\\\",\\\"11.3\\\",\\\"11.4\\\",\\\"11.5\\\",\\\"11.6\\\",\\\"11.7\\\",\\\"11.8\\\",\\\"11.9\\\",\\\"12.0\\\",\\\"12.1\\\",\\\"12.2\\\",\\\"12.3\\\",\\\"12.4\\\",\\\"12.5\\\",\\\"12.6\\\",\\\"12.7\\\",\\\"12.8\\\",\\\"12.9\\\",\\\"13.0\\\",\\\"13.1\\\",\\\"13.2\\\",\\\"13.3\\\",\\\"13.4\\\",\\\"13.5\\\",\\\"13.6\\\",\\\"13.7\\\",\\\"13.8\\\",\\\"13.9\\\",\\\"14.0\\\",\\\"14.1\\\",\\\"14.2\\\",\\\"14.3\\\",\\\"14.4\\\",\\\"14.5\\\",\\\"14.6\\\",\\\"14.7\\\",\\\"14.8\\\",\\\"14.9\\\",\\\"15.0\\\"],\\\"changes\\\":WebIO.getval({\\\"name\\\":\\\"changes\\\",\\\"scope\\\":\\\"13220695927094376444\\\",\\\"id\\\":\\\"13908010643427057766\\\",\\\"type\\\":\\\"observable\\\"}),\\\"index\\\":WebIO.getval({\\\"name\\\":\\\"index\\\",\\\"scope\\\":\\\"13220695927094376444\\\",\\\"id\\\":\\\"4048612064940972474\\\",\\\"type\\\":\\\"observable\\\"})};\\n    var self = this;\\n    function AppViewModel() {\\n        for (var key in json_data) {\\n            var el = json_data[key];\\n            this[key] = Array.isArray(el) ? ko.observableArray(el) : ko.observable(el);\\n        }\\n        \\n        [this[\\\"formatted_val\\\"]=ko.computed(    function(){\\n        return this.formatted_vals()[parseInt(this.index())-(1)];\\n    }\\n,this)]\\n        [this[\\\"changes\\\"].subscribe((function (val){!(this.valueFromJulia[\\\"changes\\\"]) ? (WebIO.setval({\\\"name\\\":\\\"changes\\\",\\\"scope\\\":\\\"13220695927094376444\\\",\\\"id\\\":\\\"13908010643427057766\\\",\\\"type\\\":\\\"observable\\\"},val)) : undefined; return this.valueFromJulia[\\\"changes\\\"]=false}),self),this[\\\"index\\\"].subscribe((function (val){!(this.valueFromJulia[\\\"index\\\"]) ? (WebIO.setval({\\\"name\\\":\\\"index\\\",\\\"scope\\\":\\\"13220695927094376444\\\",\\\"id\\\":\\\"4048612064940972474\\\",\\\"type\\\":\\\"observable\\\"},val)) : undefined; return this.valueFromJulia[\\\"index\\\"]=false}),self)]\\n        \\n    }\\n    self.model = new AppViewModel();\\n    self.valueFromJulia = {};\\n    for (var key in json_data) {\\n        self.valueFromJulia[key] = false;\\n    }\\n    ko.applyBindings(self.model, self.dom);\\n}\\n);\\n    (WebIO.importBlock({\\\"data\\\":[{\\\"name\\\":\\\"knockout\\\",\\\"type\\\":\\\"js\\\",\\\"url\\\":\\\"/assetserver/92c2f1237c7de526b82b854e47551e089e074ac2-knockout.js\\\"},{\\\"name\\\":\\\"knockout_punches\\\",\\\"type\\\":\\\"js\\\",\\\"url\\\":\\\"/assetserver/39e4d1dceef49085ebf36edb09c92c7574c58816-knockout_punches.js\\\"}],\\\"type\\\":\\\"async_block\\\"})).then((imports) => handler.apply(this, imports));\\n}\\n\")])], Dict{Symbol,Any}(:className => \"field interact-widget\")), Node{WebIO.DOM}(WebIO.DOM(:html, :div), Any[Scope(Node{WebIO.DOM}(WebIO.DOM(:html, :div), Any[Node{WebIO.DOM}(WebIO.DOM(:html, :div), Any[Node{WebIO.DOM}(WebIO.DOM(:html, :label), Any[\"Height\"], Dict{Symbol,Any}(:className => \"interact \",:style => Dict{Any,Any}(:padding => \"5px 10px 0px 10px\")))], Dict{Symbol,Any}(:className => \"interact-flex-row-left\")), Node{WebIO.DOM}(WebIO.DOM(:html, :div), Any[Node{WebIO.DOM}(WebIO.DOM(:html, :input), Any[], Dict{Symbol,Any}(:max => 19,:min => 1,:attributes => Dict{Any,Any}(:type => \"range\",Symbol(\"data-bind\") => \"numericValue: index, valueUpdate: 'input', event: {change: function (){this.changes(this.changes()+1)}}\",\"orient\" => \"horizontal\"),:step => 1,:className => \"slider slider is-fullwidth\",:style => Dict{Any,Any}()))], Dict{Symbol,Any}(:className => \"interact-flex-row-center\")), Node{WebIO.DOM}(WebIO.DOM(:html, :div), Any[Node{WebIO.DOM}(WebIO.DOM(:html, :p), Any[], Dict{Symbol,Any}(:attributes => Dict(\"data-bind\" => \"text: formatted_val\")))], Dict{Symbol,Any}(:className => \"interact-flex-row-right\"))], Dict{Symbol,Any}(:className => \"interact-flex-row interact-widget\")), Dict{String,Tuple{Observables.AbstractObservable,Union{Nothing, Bool}}}(\"changes\" => (Observable{Int64} with 1 listeners. Value:\n",
       "0, nothing),\"index\" => (Observable{Any} with 2 listeners. Value:\n",
       "10, nothing)), Set(String[]), nothing, Asset[Asset(\"js\", \"knockout\", \"C:\\\\Users\\\\ines\\\\.julia\\\\packages\\\\Knockout\\\\IP1uR\\\\src\\\\..\\\\assets\\\\knockout.js\"), Asset(\"js\", \"knockout_punches\", \"C:\\\\Users\\\\ines\\\\.julia\\\\packages\\\\Knockout\\\\IP1uR\\\\src\\\\..\\\\assets\\\\knockout_punches.js\"), Asset(\"js\", nothing, \"C:\\\\Users\\\\ines\\\\.julia\\\\packages\\\\InteractBase\\\\sOe2Z\\\\src\\\\..\\\\assets\\\\all.js\"), Asset(\"css\", nothing, \"C:\\\\Users\\\\ines\\\\.julia\\\\packages\\\\InteractBase\\\\sOe2Z\\\\src\\\\..\\\\assets\\\\style.css\"), Asset(\"css\", nothing, \"C:\\\\Users\\\\ines\\\\.julia\\\\packages\\\\Interact\\\\SbgIk\\\\src\\\\..\\\\assets\\\\bulma_confined.min.css\")], Dict{Any,Any}(\"changes\" => Any[WebIO.JSString(\"(function (val){return (val!=this.model[\\\"changes\\\"]()) ? (this.valueFromJulia[\\\"changes\\\"]=true, this.model[\\\"changes\\\"](val)) : undefined})\")],\"index\" => Any[WebIO.JSString(\"(function (val){return (val!=this.model[\\\"index\\\"]()) ? (this.valueFromJulia[\\\"index\\\"]=true, this.model[\\\"index\\\"](val)) : undefined})\")]), WebIO.ConnectionPool(Channel{Any}(sz_max:32,sz_curr:0), Set(AbstractConnection[]), Base.GenericCondition{Base.AlwaysLockedST}(Base.InvasiveLinkedList{Task}(Task (runnable) @0x00000000425882f0, Task (runnable) @0x00000000425882f0), Base.AlwaysLockedST(1))), WebIO.JSString[WebIO.JSString(\"function () {\\n    var handler = (function (ko, koPunches) {\\n    ko.punches.enableAll();\\n    ko.bindingHandlers.numericValue = {\\n        init: function(element, valueAccessor, allBindings, data, context) {\\n            var stringified = ko.observable(ko.unwrap(valueAccessor()));\\n            stringified.subscribe(function(value) {\\n                var val = parseFloat(value);\\n                if (!isNaN(val)) {\\n                    valueAccessor()(val);\\n                }\\n            });\\n            valueAccessor().subscribe(function(value) {\\n                var str = JSON.stringify(value);\\n                if ((str == \\\"0\\\") && ([\\\"-0\\\", \\\"-0.\\\"].indexOf(stringified()) >= 0))\\n                     return;\\n                 if ([\\\"null\\\", \\\"\\\"].indexOf(str) >= 0)\\n                     return;\\n                stringified(str);\\n            });\\n            ko.applyBindingsToNode(\\n                element,\\n                {\\n                    value: stringified,\\n                    valueUpdate: allBindings.get('valueUpdate'),\\n                },\\n                context,\\n            );\\n        }\\n    };\\n    var json_data = {\\\"formatted_vals\\\":[\\\"2\\\",\\\"3\\\",\\\"4\\\",\\\"5\\\",\\\"6\\\",\\\"7\\\",\\\"8\\\",\\\"9\\\",\\\"10\\\",\\\"11\\\",\\\"12\\\",\\\"13\\\",\\\"14\\\",\\\"15\\\",\\\"16\\\",\\\"17\\\",\\\"18\\\",\\\"19\\\",\\\"20\\\"],\\\"changes\\\":WebIO.getval({\\\"name\\\":\\\"changes\\\",\\\"scope\\\":\\\"7760592932523404248\\\",\\\"id\\\":\\\"4890229697268627156\\\",\\\"type\\\":\\\"observable\\\"}),\\\"index\\\":WebIO.getval({\\\"name\\\":\\\"index\\\",\\\"scope\\\":\\\"7760592932523404248\\\",\\\"id\\\":\\\"17918832772484151105\\\",\\\"type\\\":\\\"observable\\\"})};\\n    var self = this;\\n    function AppViewModel() {\\n        for (var key in json_data) {\\n            var el = json_data[key];\\n            this[key] = Array.isArray(el) ? ko.observableArray(el) : ko.observable(el);\\n        }\\n        \\n        [this[\\\"formatted_val\\\"]=ko.computed(    function(){\\n        return this.formatted_vals()[parseInt(this.index())-(1)];\\n    }\\n,this)]\\n        [this[\\\"changes\\\"].subscribe((function (val){!(this.valueFromJulia[\\\"changes\\\"]) ? (WebIO.setval({\\\"name\\\":\\\"changes\\\",\\\"scope\\\":\\\"7760592932523404248\\\",\\\"id\\\":\\\"4890229697268627156\\\",\\\"type\\\":\\\"observable\\\"},val)) : undefined; return this.valueFromJulia[\\\"changes\\\"]=false}),self),this[\\\"index\\\"].subscribe((function (val){!(this.valueFromJulia[\\\"index\\\"]) ? (WebIO.setval({\\\"name\\\":\\\"index\\\",\\\"scope\\\":\\\"7760592932523404248\\\",\\\"id\\\":\\\"17918832772484151105\\\",\\\"type\\\":\\\"observable\\\"},val)) : undefined; return this.valueFromJulia[\\\"index\\\"]=false}),self)]\\n        \\n    }\\n    self.model = new AppViewModel();\\n    self.valueFromJulia = {};\\n    for (var key in json_data) {\\n        self.valueFromJulia[key] = false;\\n    }\\n    ko.applyBindings(self.model, self.dom);\\n}\\n);\\n    (WebIO.importBlock({\\\"data\\\":[{\\\"name\\\":\\\"knockout\\\",\\\"type\\\":\\\"js\\\",\\\"url\\\":\\\"/assetserver/92c2f1237c7de526b82b854e47551e089e074ac2-knockout.js\\\"},{\\\"name\\\":\\\"knockout_punches\\\",\\\"type\\\":\\\"js\\\",\\\"url\\\":\\\"/assetserver/39e4d1dceef49085ebf36edb09c92c7574c58816-knockout_punches.js\\\"}],\\\"type\\\":\\\"async_block\\\"})).then((imports) => handler.apply(this, imports));\\n}\\n\")])], Dict{Symbol,Any}(:className => \"field interact-widget\")), Observable{Any} with 0 listeners. Value:\n",
       "Node{WebIO.DOM}(WebIO.DOM(:html, :div), Any[SurfaceGrid(...)], Dict{Symbol,Any}(:className => \"interact-flex-row interact-widget\"))], Dict{Symbol,Any}())"
      ]
     },
     "execution_count": 14,
     "metadata": {
      "application/vnd.webio.node+json": {
       "kernelId": "d5ed2ba6-ae4b-42eb-88ac-197fdb5a4e8a"
      }
     },
     "output_type": "execute_result"
    }
   ],
   "source": [
    "backend(meshcat)\n",
    "new_backend()\n",
    "d_i = 0.5\n",
    "\n",
    "@manipulate for ampx = widget(1:0.1:3, label=\"Amplitude x\"),\n",
    "                ampy_min = widget(1:0.1:15, label=\"Minimum Amplitude y\"),\n",
    "                ampy_max = widget(1:0.1:15, label=\"Maximum Amplitude y\"),\n",
    "                h = widget(2:1:20, label=\"Height\")\n",
    "            delete_all_shapes()\n",
    "            surface_grid(damped_sin_roof_pts(u0(), h, ampx, ampy_min, ampy_max, pi, 0.03, pi/50, pi/10, 60, 100, 120, 800))\n",
    "end"
   ]
  },
  {
   "cell_type": "markdown",
   "metadata": {},
   "source": [
    "## Pavilion Dimensions"
   ]
  },
  {
   "cell_type": "code",
   "execution_count": 15,
   "metadata": {},
   "outputs": [
    {
     "data": {
      "text/plain": [
       "3"
      ]
     },
     "execution_count": 15,
     "metadata": {},
     "output_type": "execute_result"
    }
   ],
   "source": [
    "amp_x = 2.5\n",
    "amp_y_min_top = 4\n",
    "amp_y_max_top = 11\n",
    "amp_y_max_bottom = 10\n",
    "amp_y_min_bottom = 3\n",
    "fi = pi\n",
    "decay = 0.03\n",
    "om_x = pi/50\n",
    "om_y = pi/10\n",
    "pav_width = 60\n",
    "pav_length = 100\n",
    "pav_height = 14\n",
    "d_width = 1.5\n",
    "d_length = 1\n",
    "d_height = 3"
   ]
  },
  {
   "cell_type": "markdown",
   "metadata": {},
   "source": [
    "## Roof Truss"
   ]
  },
  {
   "cell_type": "markdown",
   "metadata": {},
   "source": [
    "The following functions create truss elements:\n",
    "* `free_node` and `fixed_node`create truss nodes\n",
    "* `bar`creates truss bars\n",
    "* `panel`creates truss panels"
   ]
  },
  {
   "cell_type": "code",
   "execution_count": 16,
   "metadata": {},
   "outputs": [
    {
     "data": {
      "text/plain": [
       "free_node (generic function with 1 method)"
      ]
     },
     "execution_count": 16,
     "metadata": {},
     "output_type": "execute_result"
    }
   ],
   "source": [
    "free_node(pt) =\n",
    "    sphere(pt, 0.1)"
   ]
  },
  {
   "cell_type": "code",
   "execution_count": 17,
   "metadata": {},
   "outputs": [
    {
     "data": {
      "text/plain": [
       "fixed_node (generic function with 1 method)"
      ]
     },
     "execution_count": 17,
     "metadata": {},
     "output_type": "execute_result"
    }
   ],
   "source": [
    "fixed_node(pt) =\n",
    "    sphere(pt, 0.1)"
   ]
  },
  {
   "cell_type": "code",
   "execution_count": 18,
   "metadata": {},
   "outputs": [
    {
     "data": {
      "text/plain": [
       "bar (generic function with 1 method)"
      ]
     },
     "execution_count": 18,
     "metadata": {},
     "output_type": "execute_result"
    }
   ],
   "source": [
    "bar(p, q) =\n",
    "    truss_bar(p, q)"
   ]
  },
  {
   "cell_type": "code",
   "execution_count": 19,
   "metadata": {},
   "outputs": [
    {
     "data": {
      "text/plain": [
       "truss_panel (generic function with 1 method)"
      ]
     },
     "execution_count": 19,
     "metadata": {},
     "output_type": "execute_result"
    }
   ],
   "source": [
    "truss_panel(ps) =\n",
    "    surface_polygon(ps)"
   ]
  },
  {
   "cell_type": "markdown",
   "metadata": {},
   "source": [
    "`truss_ptss`receives two sets of points, the bottom and top points defining the shape of the truss to create.\n",
    "It returns the points defining the truss structure."
   ]
  },
  {
   "cell_type": "code",
   "execution_count": 20,
   "metadata": {},
   "outputs": [
    {
     "data": {
      "text/plain": [
       "truss_ptss (generic function with 1 method)"
      ]
     },
     "execution_count": 20,
     "metadata": {},
     "output_type": "execute_result"
    }
   ],
   "source": [
    "truss_ptss(bottom_ptss,top_ptss) =\n",
    "    length(top_ptss) == length(bottom_ptss) ?\n",
    "    vcat([[pts,qts] for (pts,qts) in zip(bottom_ptss,top_ptss)]...) :\n",
    "    vcat([[pts,qts] for (pts,qts) in zip(top_ptss[1:end-1],bottom_ptss)]..., [top_ptss[end]])"
   ]
  },
  {
   "cell_type": "markdown",
   "metadata": {},
   "source": [
    "`truss`receives the type of truss to create, as well as both bottom and top points defining its shape.\n",
    "It creates a 3D spatial truss."
   ]
  },
  {
   "cell_type": "code",
   "execution_count": 21,
   "metadata": {},
   "outputs": [
    {
     "data": {
      "text/plain": [
       "truss (generic function with 1 method)"
      ]
     },
     "execution_count": 21,
     "metadata": {},
     "output_type": "execute_result"
    }
   ],
   "source": [
    "truss(truss_type; bottom_ptss=planar(p=x(0)), top_ptss=planar(p=z(1))) =\n",
    "    let ptss = truss_ptss(bottom_ptss, top_ptss)\n",
    "      truss_type(ptss)\n",
    "  end"
   ]
  },
  {
   "cell_type": "markdown",
   "metadata": {},
   "source": [
    "`vierendeel`creates a vierendeel truss structure."
   ]
  },
  {
   "cell_type": "code",
   "execution_count": 22,
   "metadata": {},
   "outputs": [
    {
     "data": {
      "text/plain": [
       "vierendeel (generic function with 2 methods)"
      ]
     },
     "execution_count": 22,
     "metadata": {},
     "output_type": "execute_result"
    }
   ],
   "source": [
    "vierendeel(ptss, first=true) =\n",
    "    let ais = ptss[1],\n",
    "        bis = ptss[2],\n",
    "        cis = ptss[3],\n",
    "        dis = ptss[4]\n",
    "      (first ? fixed_node : free_node).(ais)\n",
    "      free_node.(bis)\n",
    "      bar.(ais, bis)\n",
    "      bar.(ais, cis)\n",
    "      bar.(bis, dis)\n",
    "      bar.(ais[2:end], ais[1:end-1])\n",
    "      bar.(bis[2:end], bis[1:end-1])\n",
    "      if ptss[5:end] == []\n",
    "          fixed_node.(cis)\n",
    "          free_node.(dis)\n",
    "          bar.(cis[2:end], cis[1:end-1])\n",
    "          bar.(dis[2:end], dis[1:end-1])\n",
    "          bar.(dis, cis)\n",
    "      else\n",
    "          vierendeel(ptss[3:end], false)\n",
    "      end\n",
    "    end"
   ]
  },
  {
   "cell_type": "code",
   "execution_count": 38,
   "metadata": {},
   "outputs": [
    {
     "name": "stderr",
     "output_type": "stream",
     "text": [
      "┌ Info: MeshCat server started. You can open the visualizer by visiting the following URL in your browser:\n",
      "│ http://localhost:8705\n",
      "└ @ MeshCat C:\\Users\\ines\\.julia\\packages\\MeshCat\\ECbzr\\src\\visualizer.jl:73\n"
     ]
    },
    {
     "data": {
      "text/html": [
       "<div style=\"height: 400px; width: 800px; overflow-x: auto; overflow-y: hidden; resize: both\">\n",
       "<iframe src=\"http://localhost:8705\" style=\"width: 100%; height: 100%; border: none\"></iframe>\n",
       "</div>\n"
      ],
      "text/plain": [
       "Khepri.MCATViewer(MeshCat Visualizer with path /meshcat at http://localhost:8705)"
      ]
     },
     "metadata": {},
     "output_type": "display_data"
    },
    {
     "data": {
      "application/vnd.webio.node+json": {
       "children": [
        {
         "children": [
          {
           "children": [
            {
             "children": [
              {
               "children": [
                {
                 "children": [
                  "Amplitude x"
                 ],
                 "instanceArgs": {
                  "namespace": "html",
                  "tag": "label"
                 },
                 "nodeType": "DOM",
                 "props": {
                  "className": "interact ",
                  "style": {
                   "padding": "5px 10px 0px 10px"
                  }
                 },
                 "type": "node"
                }
               ],
               "instanceArgs": {
                "namespace": "html",
                "tag": "div"
               },
               "nodeType": "DOM",
               "props": {
                "className": "interact-flex-row-left"
               },
               "type": "node"
              },
              {
               "children": [
                {
                 "children": [],
                 "instanceArgs": {
                  "namespace": "html",
                  "tag": "input"
                 },
                 "nodeType": "DOM",
                 "props": {
                  "attributes": {
                   "data-bind": "numericValue: index, valueUpdate: 'input', event: {change: function (){this.changes(this.changes()+1)}}",
                   "orient": "horizontal",
                   "type": "range"
                  },
                  "className": "slider slider is-fullwidth",
                  "max": 21,
                  "min": 1,
                  "step": 1,
                  "style": {}
                 },
                 "type": "node"
                }
               ],
               "instanceArgs": {
                "namespace": "html",
                "tag": "div"
               },
               "nodeType": "DOM",
               "props": {
                "className": "interact-flex-row-center"
               },
               "type": "node"
              },
              {
               "children": [
                {
                 "children": [],
                 "instanceArgs": {
                  "namespace": "html",
                  "tag": "p"
                 },
                 "nodeType": "DOM",
                 "props": {
                  "attributes": {
                   "data-bind": "text: formatted_val"
                  }
                 },
                 "type": "node"
                }
               ],
               "instanceArgs": {
                "namespace": "html",
                "tag": "div"
               },
               "nodeType": "DOM",
               "props": {
                "className": "interact-flex-row-right"
               },
               "type": "node"
              }
             ],
             "instanceArgs": {
              "namespace": "html",
              "tag": "div"
             },
             "nodeType": "DOM",
             "props": {
              "className": "interact-flex-row interact-widget"
             },
             "type": "node"
            }
           ],
           "instanceArgs": {
            "handlers": {
             "changes": [
              "(function (val){return (val!=this.model[\"changes\"]()) ? (this.valueFromJulia[\"changes\"]=true, this.model[\"changes\"](val)) : undefined})"
             ],
             "index": [
              "(function (val){return (val!=this.model[\"index\"]()) ? (this.valueFromJulia[\"index\"]=true, this.model[\"index\"](val)) : undefined})"
             ]
            },
            "id": "14903482735604722467",
            "imports": {
             "data": [
              {
               "name": "knockout",
               "type": "js",
               "url": "/assetserver/92c2f1237c7de526b82b854e47551e089e074ac2-knockout.js"
              },
              {
               "name": "knockout_punches",
               "type": "js",
               "url": "/assetserver/39e4d1dceef49085ebf36edb09c92c7574c58816-knockout_punches.js"
              },
              {
               "name": null,
               "type": "js",
               "url": "/assetserver/bea19c4f7d50366923bb3fbba800750b2d533f80-all.js"
              },
              {
               "name": null,
               "type": "css",
               "url": "/assetserver/c4d4f4f0ce9b24709d6d39765a20423cfb274e6a-style.css"
              },
              {
               "name": null,
               "type": "css",
               "url": "/assetserver/6513af17bee55ce33a5387a0f8cc5237a8ed2443-bulma_confined.min.css"
              }
             ],
             "type": "async_block"
            },
            "mount_callbacks": [
             "function () {\n    var handler = (function (ko, koPunches) {\n    ko.punches.enableAll();\n    ko.bindingHandlers.numericValue = {\n        init: function(element, valueAccessor, allBindings, data, context) {\n            var stringified = ko.observable(ko.unwrap(valueAccessor()));\n            stringified.subscribe(function(value) {\n                var val = parseFloat(value);\n                if (!isNaN(val)) {\n                    valueAccessor()(val);\n                }\n            });\n            valueAccessor().subscribe(function(value) {\n                var str = JSON.stringify(value);\n                if ((str == \"0\") && ([\"-0\", \"-0.\"].indexOf(stringified()) >= 0))\n                     return;\n                 if ([\"null\", \"\"].indexOf(str) >= 0)\n                     return;\n                stringified(str);\n            });\n            ko.applyBindingsToNode(\n                element,\n                {\n                    value: stringified,\n                    valueUpdate: allBindings.get('valueUpdate'),\n                },\n                context,\n            );\n        }\n    };\n    var json_data = {\"formatted_vals\":[\"1.0\",\"1.1\",\"1.2\",\"1.3\",\"1.4\",\"1.5\",\"1.6\",\"1.7\",\"1.8\",\"1.9\",\"2.0\",\"2.1\",\"2.2\",\"2.3\",\"2.4\",\"2.5\",\"2.6\",\"2.7\",\"2.8\",\"2.9\",\"3.0\"],\"changes\":WebIO.getval({\"name\":\"changes\",\"scope\":\"14903482735604722467\",\"id\":\"7522056011883757153\",\"type\":\"observable\"}),\"index\":WebIO.getval({\"name\":\"index\",\"scope\":\"14903482735604722467\",\"id\":\"16772008366542743612\",\"type\":\"observable\"})};\n    var self = this;\n    function AppViewModel() {\n        for (var key in json_data) {\n            var el = json_data[key];\n            this[key] = Array.isArray(el) ? ko.observableArray(el) : ko.observable(el);\n        }\n        \n        [this[\"formatted_val\"]=ko.computed(    function(){\n        return this.formatted_vals()[parseInt(this.index())-(1)];\n    }\n,this)]\n        [this[\"changes\"].subscribe((function (val){!(this.valueFromJulia[\"changes\"]) ? (WebIO.setval({\"name\":\"changes\",\"scope\":\"14903482735604722467\",\"id\":\"7522056011883757153\",\"type\":\"observable\"},val)) : undefined; return this.valueFromJulia[\"changes\"]=false}),self),this[\"index\"].subscribe((function (val){!(this.valueFromJulia[\"index\"]) ? (WebIO.setval({\"name\":\"index\",\"scope\":\"14903482735604722467\",\"id\":\"16772008366542743612\",\"type\":\"observable\"},val)) : undefined; return this.valueFromJulia[\"index\"]=false}),self)]\n        \n    }\n    self.model = new AppViewModel();\n    self.valueFromJulia = {};\n    for (var key in json_data) {\n        self.valueFromJulia[key] = false;\n    }\n    ko.applyBindings(self.model, self.dom);\n}\n);\n    (WebIO.importBlock({\"data\":[{\"name\":\"knockout\",\"type\":\"js\",\"url\":\"/assetserver/92c2f1237c7de526b82b854e47551e089e074ac2-knockout.js\"},{\"name\":\"knockout_punches\",\"type\":\"js\",\"url\":\"/assetserver/39e4d1dceef49085ebf36edb09c92c7574c58816-knockout_punches.js\"}],\"type\":\"async_block\"})).then((imports) => handler.apply(this, imports));\n}\n"
            ],
            "observables": {
             "changes": {
              "id": "7522056011883757153",
              "sync": false,
              "value": 0
             },
             "index": {
              "id": "16772008366542743612",
              "sync": true,
              "value": 11
             }
            },
            "systemjs_options": null
           },
           "nodeType": "Scope",
           "props": {},
           "type": "node"
          }
         ],
         "instanceArgs": {
          "namespace": "html",
          "tag": "div"
         },
         "nodeType": "DOM",
         "props": {
          "className": "field interact-widget"
         },
         "type": "node"
        },
        {
         "children": [
          {
           "children": [
            {
             "children": [
              {
               "children": [
                {
                 "children": [
                  "Minimum Amplitude y"
                 ],
                 "instanceArgs": {
                  "namespace": "html",
                  "tag": "label"
                 },
                 "nodeType": "DOM",
                 "props": {
                  "className": "interact ",
                  "style": {
                   "padding": "5px 10px 0px 10px"
                  }
                 },
                 "type": "node"
                }
               ],
               "instanceArgs": {
                "namespace": "html",
                "tag": "div"
               },
               "nodeType": "DOM",
               "props": {
                "className": "interact-flex-row-left"
               },
               "type": "node"
              },
              {
               "children": [
                {
                 "children": [],
                 "instanceArgs": {
                  "namespace": "html",
                  "tag": "input"
                 },
                 "nodeType": "DOM",
                 "props": {
                  "attributes": {
                   "data-bind": "numericValue: index, valueUpdate: 'input', event: {change: function (){this.changes(this.changes()+1)}}",
                   "orient": "horizontal",
                   "type": "range"
                  },
                  "className": "slider slider is-fullwidth",
                  "max": 121,
                  "min": 1,
                  "step": 1,
                  "style": {}
                 },
                 "type": "node"
                }
               ],
               "instanceArgs": {
                "namespace": "html",
                "tag": "div"
               },
               "nodeType": "DOM",
               "props": {
                "className": "interact-flex-row-center"
               },
               "type": "node"
              },
              {
               "children": [
                {
                 "children": [],
                 "instanceArgs": {
                  "namespace": "html",
                  "tag": "p"
                 },
                 "nodeType": "DOM",
                 "props": {
                  "attributes": {
                   "data-bind": "text: formatted_val"
                  }
                 },
                 "type": "node"
                }
               ],
               "instanceArgs": {
                "namespace": "html",
                "tag": "div"
               },
               "nodeType": "DOM",
               "props": {
                "className": "interact-flex-row-right"
               },
               "type": "node"
              }
             ],
             "instanceArgs": {
              "namespace": "html",
              "tag": "div"
             },
             "nodeType": "DOM",
             "props": {
              "className": "interact-flex-row interact-widget"
             },
             "type": "node"
            }
           ],
           "instanceArgs": {
            "handlers": {
             "changes": [
              "(function (val){return (val!=this.model[\"changes\"]()) ? (this.valueFromJulia[\"changes\"]=true, this.model[\"changes\"](val)) : undefined})"
             ],
             "index": [
              "(function (val){return (val!=this.model[\"index\"]()) ? (this.valueFromJulia[\"index\"]=true, this.model[\"index\"](val)) : undefined})"
             ]
            },
            "id": "1758659271211118774",
            "imports": {
             "data": [
              {
               "name": "knockout",
               "type": "js",
               "url": "/assetserver/92c2f1237c7de526b82b854e47551e089e074ac2-knockout.js"
              },
              {
               "name": "knockout_punches",
               "type": "js",
               "url": "/assetserver/39e4d1dceef49085ebf36edb09c92c7574c58816-knockout_punches.js"
              },
              {
               "name": null,
               "type": "js",
               "url": "/assetserver/bea19c4f7d50366923bb3fbba800750b2d533f80-all.js"
              },
              {
               "name": null,
               "type": "css",
               "url": "/assetserver/c4d4f4f0ce9b24709d6d39765a20423cfb274e6a-style.css"
              },
              {
               "name": null,
               "type": "css",
               "url": "/assetserver/6513af17bee55ce33a5387a0f8cc5237a8ed2443-bulma_confined.min.css"
              }
             ],
             "type": "async_block"
            },
            "mount_callbacks": [
             "function () {\n    var handler = (function (ko, koPunches) {\n    ko.punches.enableAll();\n    ko.bindingHandlers.numericValue = {\n        init: function(element, valueAccessor, allBindings, data, context) {\n            var stringified = ko.observable(ko.unwrap(valueAccessor()));\n            stringified.subscribe(function(value) {\n                var val = parseFloat(value);\n                if (!isNaN(val)) {\n                    valueAccessor()(val);\n                }\n            });\n            valueAccessor().subscribe(function(value) {\n                var str = JSON.stringify(value);\n                if ((str == \"0\") && ([\"-0\", \"-0.\"].indexOf(stringified()) >= 0))\n                     return;\n                 if ([\"null\", \"\"].indexOf(str) >= 0)\n                     return;\n                stringified(str);\n            });\n            ko.applyBindingsToNode(\n                element,\n                {\n                    value: stringified,\n                    valueUpdate: allBindings.get('valueUpdate'),\n                },\n                context,\n            );\n        }\n    };\n    var json_data = {\"formatted_vals\":[\"3.0\",\"3.1\",\"3.2\",\"3.3\",\"3.4\",\"3.5\",\"3.6\",\"3.7\",\"3.8\",\"3.9\",\"4.0\",\"4.1\",\"4.2\",\"4.3\",\"4.4\",\"4.5\",\"4.6\",\"4.7\",\"4.8\",\"4.9\",\"5.0\",\"5.1\",\"5.2\",\"5.3\",\"5.4\",\"5.5\",\"5.6\",\"5.7\",\"5.8\",\"5.9\",\"6.0\",\"6.1\",\"6.2\",\"6.3\",\"6.4\",\"6.5\",\"6.6\",\"6.7\",\"6.8\",\"6.9\",\"7.0\",\"7.1\",\"7.2\",\"7.3\",\"7.4\",\"7.5\",\"7.6\",\"7.7\",\"7.8\",\"7.9\",\"8.0\",\"8.1\",\"8.2\",\"8.3\",\"8.4\",\"8.5\",\"8.6\",\"8.7\",\"8.8\",\"8.9\",\"9.0\",\"9.1\",\"9.2\",\"9.3\",\"9.4\",\"9.5\",\"9.6\",\"9.7\",\"9.8\",\"9.9\",\"10.0\",\"10.1\",\"10.2\",\"10.3\",\"10.4\",\"10.5\",\"10.6\",\"10.7\",\"10.8\",\"10.9\",\"11.0\",\"11.1\",\"11.2\",\"11.3\",\"11.4\",\"11.5\",\"11.6\",\"11.7\",\"11.8\",\"11.9\",\"12.0\",\"12.1\",\"12.2\",\"12.3\",\"12.4\",\"12.5\",\"12.6\",\"12.7\",\"12.8\",\"12.9\",\"13.0\",\"13.1\",\"13.2\",\"13.3\",\"13.4\",\"13.5\",\"13.6\",\"13.7\",\"13.8\",\"13.9\",\"14.0\",\"14.1\",\"14.2\",\"14.3\",\"14.4\",\"14.5\",\"14.6\",\"14.7\",\"14.8\",\"14.9\",\"15.0\"],\"changes\":WebIO.getval({\"name\":\"changes\",\"scope\":\"1758659271211118774\",\"id\":\"17970589484344835594\",\"type\":\"observable\"}),\"index\":WebIO.getval({\"name\":\"index\",\"scope\":\"1758659271211118774\",\"id\":\"5366730944447948496\",\"type\":\"observable\"})};\n    var self = this;\n    function AppViewModel() {\n        for (var key in json_data) {\n            var el = json_data[key];\n            this[key] = Array.isArray(el) ? ko.observableArray(el) : ko.observable(el);\n        }\n        \n        [this[\"formatted_val\"]=ko.computed(    function(){\n        return this.formatted_vals()[parseInt(this.index())-(1)];\n    }\n,this)]\n        [this[\"changes\"].subscribe((function (val){!(this.valueFromJulia[\"changes\"]) ? (WebIO.setval({\"name\":\"changes\",\"scope\":\"1758659271211118774\",\"id\":\"17970589484344835594\",\"type\":\"observable\"},val)) : undefined; return this.valueFromJulia[\"changes\"]=false}),self),this[\"index\"].subscribe((function (val){!(this.valueFromJulia[\"index\"]) ? (WebIO.setval({\"name\":\"index\",\"scope\":\"1758659271211118774\",\"id\":\"5366730944447948496\",\"type\":\"observable\"},val)) : undefined; return this.valueFromJulia[\"index\"]=false}),self)]\n        \n    }\n    self.model = new AppViewModel();\n    self.valueFromJulia = {};\n    for (var key in json_data) {\n        self.valueFromJulia[key] = false;\n    }\n    ko.applyBindings(self.model, self.dom);\n}\n);\n    (WebIO.importBlock({\"data\":[{\"name\":\"knockout\",\"type\":\"js\",\"url\":\"/assetserver/92c2f1237c7de526b82b854e47551e089e074ac2-knockout.js\"},{\"name\":\"knockout_punches\",\"type\":\"js\",\"url\":\"/assetserver/39e4d1dceef49085ebf36edb09c92c7574c58816-knockout_punches.js\"}],\"type\":\"async_block\"})).then((imports) => handler.apply(this, imports));\n}\n"
            ],
            "observables": {
             "changes": {
              "id": "17970589484344835594",
              "sync": false,
              "value": 0
             },
             "index": {
              "id": "5366730944447948496",
              "sync": true,
              "value": 61
             }
            },
            "systemjs_options": null
           },
           "nodeType": "Scope",
           "props": {},
           "type": "node"
          }
         ],
         "instanceArgs": {
          "namespace": "html",
          "tag": "div"
         },
         "nodeType": "DOM",
         "props": {
          "className": "field interact-widget"
         },
         "type": "node"
        },
        {
         "children": [
          {
           "children": [
            {
             "children": [
              {
               "children": [
                {
                 "children": [
                  "Maximum Amplitude y"
                 ],
                 "instanceArgs": {
                  "namespace": "html",
                  "tag": "label"
                 },
                 "nodeType": "DOM",
                 "props": {
                  "className": "interact ",
                  "style": {
                   "padding": "5px 10px 0px 10px"
                  }
                 },
                 "type": "node"
                }
               ],
               "instanceArgs": {
                "namespace": "html",
                "tag": "div"
               },
               "nodeType": "DOM",
               "props": {
                "className": "interact-flex-row-left"
               },
               "type": "node"
              },
              {
               "children": [
                {
                 "children": [],
                 "instanceArgs": {
                  "namespace": "html",
                  "tag": "input"
                 },
                 "nodeType": "DOM",
                 "props": {
                  "attributes": {
                   "data-bind": "numericValue: index, valueUpdate: 'input', event: {change: function (){this.changes(this.changes()+1)}}",
                   "orient": "horizontal",
                   "type": "range"
                  },
                  "className": "slider slider is-fullwidth",
                  "max": 121,
                  "min": 1,
                  "step": 1,
                  "style": {}
                 },
                 "type": "node"
                }
               ],
               "instanceArgs": {
                "namespace": "html",
                "tag": "div"
               },
               "nodeType": "DOM",
               "props": {
                "className": "interact-flex-row-center"
               },
               "type": "node"
              },
              {
               "children": [
                {
                 "children": [],
                 "instanceArgs": {
                  "namespace": "html",
                  "tag": "p"
                 },
                 "nodeType": "DOM",
                 "props": {
                  "attributes": {
                   "data-bind": "text: formatted_val"
                  }
                 },
                 "type": "node"
                }
               ],
               "instanceArgs": {
                "namespace": "html",
                "tag": "div"
               },
               "nodeType": "DOM",
               "props": {
                "className": "interact-flex-row-right"
               },
               "type": "node"
              }
             ],
             "instanceArgs": {
              "namespace": "html",
              "tag": "div"
             },
             "nodeType": "DOM",
             "props": {
              "className": "interact-flex-row interact-widget"
             },
             "type": "node"
            }
           ],
           "instanceArgs": {
            "handlers": {
             "changes": [
              "(function (val){return (val!=this.model[\"changes\"]()) ? (this.valueFromJulia[\"changes\"]=true, this.model[\"changes\"](val)) : undefined})"
             ],
             "index": [
              "(function (val){return (val!=this.model[\"index\"]()) ? (this.valueFromJulia[\"index\"]=true, this.model[\"index\"](val)) : undefined})"
             ]
            },
            "id": "12717006654661123877",
            "imports": {
             "data": [
              {
               "name": "knockout",
               "type": "js",
               "url": "/assetserver/92c2f1237c7de526b82b854e47551e089e074ac2-knockout.js"
              },
              {
               "name": "knockout_punches",
               "type": "js",
               "url": "/assetserver/39e4d1dceef49085ebf36edb09c92c7574c58816-knockout_punches.js"
              },
              {
               "name": null,
               "type": "js",
               "url": "/assetserver/bea19c4f7d50366923bb3fbba800750b2d533f80-all.js"
              },
              {
               "name": null,
               "type": "css",
               "url": "/assetserver/c4d4f4f0ce9b24709d6d39765a20423cfb274e6a-style.css"
              },
              {
               "name": null,
               "type": "css",
               "url": "/assetserver/6513af17bee55ce33a5387a0f8cc5237a8ed2443-bulma_confined.min.css"
              }
             ],
             "type": "async_block"
            },
            "mount_callbacks": [
             "function () {\n    var handler = (function (ko, koPunches) {\n    ko.punches.enableAll();\n    ko.bindingHandlers.numericValue = {\n        init: function(element, valueAccessor, allBindings, data, context) {\n            var stringified = ko.observable(ko.unwrap(valueAccessor()));\n            stringified.subscribe(function(value) {\n                var val = parseFloat(value);\n                if (!isNaN(val)) {\n                    valueAccessor()(val);\n                }\n            });\n            valueAccessor().subscribe(function(value) {\n                var str = JSON.stringify(value);\n                if ((str == \"0\") && ([\"-0\", \"-0.\"].indexOf(stringified()) >= 0))\n                     return;\n                 if ([\"null\", \"\"].indexOf(str) >= 0)\n                     return;\n                stringified(str);\n            });\n            ko.applyBindingsToNode(\n                element,\n                {\n                    value: stringified,\n                    valueUpdate: allBindings.get('valueUpdate'),\n                },\n                context,\n            );\n        }\n    };\n    var json_data = {\"formatted_vals\":[\"3.0\",\"3.1\",\"3.2\",\"3.3\",\"3.4\",\"3.5\",\"3.6\",\"3.7\",\"3.8\",\"3.9\",\"4.0\",\"4.1\",\"4.2\",\"4.3\",\"4.4\",\"4.5\",\"4.6\",\"4.7\",\"4.8\",\"4.9\",\"5.0\",\"5.1\",\"5.2\",\"5.3\",\"5.4\",\"5.5\",\"5.6\",\"5.7\",\"5.8\",\"5.9\",\"6.0\",\"6.1\",\"6.2\",\"6.3\",\"6.4\",\"6.5\",\"6.6\",\"6.7\",\"6.8\",\"6.9\",\"7.0\",\"7.1\",\"7.2\",\"7.3\",\"7.4\",\"7.5\",\"7.6\",\"7.7\",\"7.8\",\"7.9\",\"8.0\",\"8.1\",\"8.2\",\"8.3\",\"8.4\",\"8.5\",\"8.6\",\"8.7\",\"8.8\",\"8.9\",\"9.0\",\"9.1\",\"9.2\",\"9.3\",\"9.4\",\"9.5\",\"9.6\",\"9.7\",\"9.8\",\"9.9\",\"10.0\",\"10.1\",\"10.2\",\"10.3\",\"10.4\",\"10.5\",\"10.6\",\"10.7\",\"10.8\",\"10.9\",\"11.0\",\"11.1\",\"11.2\",\"11.3\",\"11.4\",\"11.5\",\"11.6\",\"11.7\",\"11.8\",\"11.9\",\"12.0\",\"12.1\",\"12.2\",\"12.3\",\"12.4\",\"12.5\",\"12.6\",\"12.7\",\"12.8\",\"12.9\",\"13.0\",\"13.1\",\"13.2\",\"13.3\",\"13.4\",\"13.5\",\"13.6\",\"13.7\",\"13.8\",\"13.9\",\"14.0\",\"14.1\",\"14.2\",\"14.3\",\"14.4\",\"14.5\",\"14.6\",\"14.7\",\"14.8\",\"14.9\",\"15.0\"],\"changes\":WebIO.getval({\"name\":\"changes\",\"scope\":\"12717006654661123877\",\"id\":\"17787353908685120712\",\"type\":\"observable\"}),\"index\":WebIO.getval({\"name\":\"index\",\"scope\":\"12717006654661123877\",\"id\":\"253827931022671534\",\"type\":\"observable\"})};\n    var self = this;\n    function AppViewModel() {\n        for (var key in json_data) {\n            var el = json_data[key];\n            this[key] = Array.isArray(el) ? ko.observableArray(el) : ko.observable(el);\n        }\n        \n        [this[\"formatted_val\"]=ko.computed(    function(){\n        return this.formatted_vals()[parseInt(this.index())-(1)];\n    }\n,this)]\n        [this[\"changes\"].subscribe((function (val){!(this.valueFromJulia[\"changes\"]) ? (WebIO.setval({\"name\":\"changes\",\"scope\":\"12717006654661123877\",\"id\":\"17787353908685120712\",\"type\":\"observable\"},val)) : undefined; return this.valueFromJulia[\"changes\"]=false}),self),this[\"index\"].subscribe((function (val){!(this.valueFromJulia[\"index\"]) ? (WebIO.setval({\"name\":\"index\",\"scope\":\"12717006654661123877\",\"id\":\"253827931022671534\",\"type\":\"observable\"},val)) : undefined; return this.valueFromJulia[\"index\"]=false}),self)]\n        \n    }\n    self.model = new AppViewModel();\n    self.valueFromJulia = {};\n    for (var key in json_data) {\n        self.valueFromJulia[key] = false;\n    }\n    ko.applyBindings(self.model, self.dom);\n}\n);\n    (WebIO.importBlock({\"data\":[{\"name\":\"knockout\",\"type\":\"js\",\"url\":\"/assetserver/92c2f1237c7de526b82b854e47551e089e074ac2-knockout.js\"},{\"name\":\"knockout_punches\",\"type\":\"js\",\"url\":\"/assetserver/39e4d1dceef49085ebf36edb09c92c7574c58816-knockout_punches.js\"}],\"type\":\"async_block\"})).then((imports) => handler.apply(this, imports));\n}\n"
            ],
            "observables": {
             "changes": {
              "id": "17787353908685120712",
              "sync": false,
              "value": 0
             },
             "index": {
              "id": "253827931022671534",
              "sync": true,
              "value": 61
             }
            },
            "systemjs_options": null
           },
           "nodeType": "Scope",
           "props": {},
           "type": "node"
          }
         ],
         "instanceArgs": {
          "namespace": "html",
          "tag": "div"
         },
         "nodeType": "DOM",
         "props": {
          "className": "field interact-widget"
         },
         "type": "node"
        },
        {
         "children": [
          {
           "children": [
            {
             "children": [
              {
               "children": [
                {
                 "children": [
                  "Minimum Amplitude y"
                 ],
                 "instanceArgs": {
                  "namespace": "html",
                  "tag": "label"
                 },
                 "nodeType": "DOM",
                 "props": {
                  "className": "interact ",
                  "style": {
                   "padding": "5px 10px 0px 10px"
                  }
                 },
                 "type": "node"
                }
               ],
               "instanceArgs": {
                "namespace": "html",
                "tag": "div"
               },
               "nodeType": "DOM",
               "props": {
                "className": "interact-flex-row-left"
               },
               "type": "node"
              },
              {
               "children": [
                {
                 "children": [],
                 "instanceArgs": {
                  "namespace": "html",
                  "tag": "input"
                 },
                 "nodeType": "DOM",
                 "props": {
                  "attributes": {
                   "data-bind": "numericValue: index, valueUpdate: 'input', event: {change: function (){this.changes(this.changes()+1)}}",
                   "orient": "horizontal",
                   "type": "range"
                  },
                  "className": "slider slider is-fullwidth",
                  "max": 111,
                  "min": 1,
                  "step": 1,
                  "style": {}
                 },
                 "type": "node"
                }
               ],
               "instanceArgs": {
                "namespace": "html",
                "tag": "div"
               },
               "nodeType": "DOM",
               "props": {
                "className": "interact-flex-row-center"
               },
               "type": "node"
              },
              {
               "children": [
                {
                 "children": [],
                 "instanceArgs": {
                  "namespace": "html",
                  "tag": "p"
                 },
                 "nodeType": "DOM",
                 "props": {
                  "attributes": {
                   "data-bind": "text: formatted_val"
                  }
                 },
                 "type": "node"
                }
               ],
               "instanceArgs": {
                "namespace": "html",
                "tag": "div"
               },
               "nodeType": "DOM",
               "props": {
                "className": "interact-flex-row-right"
               },
               "type": "node"
              }
             ],
             "instanceArgs": {
              "namespace": "html",
              "tag": "div"
             },
             "nodeType": "DOM",
             "props": {
              "className": "interact-flex-row interact-widget"
             },
             "type": "node"
            }
           ],
           "instanceArgs": {
            "handlers": {
             "changes": [
              "(function (val){return (val!=this.model[\"changes\"]()) ? (this.valueFromJulia[\"changes\"]=true, this.model[\"changes\"](val)) : undefined})"
             ],
             "index": [
              "(function (val){return (val!=this.model[\"index\"]()) ? (this.valueFromJulia[\"index\"]=true, this.model[\"index\"](val)) : undefined})"
             ]
            },
            "id": "12027068802990044429",
            "imports": {
             "data": [
              {
               "name": "knockout",
               "type": "js",
               "url": "/assetserver/92c2f1237c7de526b82b854e47551e089e074ac2-knockout.js"
              },
              {
               "name": "knockout_punches",
               "type": "js",
               "url": "/assetserver/39e4d1dceef49085ebf36edb09c92c7574c58816-knockout_punches.js"
              },
              {
               "name": null,
               "type": "js",
               "url": "/assetserver/bea19c4f7d50366923bb3fbba800750b2d533f80-all.js"
              },
              {
               "name": null,
               "type": "css",
               "url": "/assetserver/c4d4f4f0ce9b24709d6d39765a20423cfb274e6a-style.css"
              },
              {
               "name": null,
               "type": "css",
               "url": "/assetserver/6513af17bee55ce33a5387a0f8cc5237a8ed2443-bulma_confined.min.css"
              }
             ],
             "type": "async_block"
            },
            "mount_callbacks": [
             "function () {\n    var handler = (function (ko, koPunches) {\n    ko.punches.enableAll();\n    ko.bindingHandlers.numericValue = {\n        init: function(element, valueAccessor, allBindings, data, context) {\n            var stringified = ko.observable(ko.unwrap(valueAccessor()));\n            stringified.subscribe(function(value) {\n                var val = parseFloat(value);\n                if (!isNaN(val)) {\n                    valueAccessor()(val);\n                }\n            });\n            valueAccessor().subscribe(function(value) {\n                var str = JSON.stringify(value);\n                if ((str == \"0\") && ([\"-0\", \"-0.\"].indexOf(stringified()) >= 0))\n                     return;\n                 if ([\"null\", \"\"].indexOf(str) >= 0)\n                     return;\n                stringified(str);\n            });\n            ko.applyBindingsToNode(\n                element,\n                {\n                    value: stringified,\n                    valueUpdate: allBindings.get('valueUpdate'),\n                },\n                context,\n            );\n        }\n    };\n    var json_data = {\"formatted_vals\":[\"1.0\",\"1.1\",\"1.2\",\"1.3\",\"1.4\",\"1.5\",\"1.6\",\"1.7\",\"1.8\",\"1.9\",\"2.0\",\"2.1\",\"2.2\",\"2.3\",\"2.4\",\"2.5\",\"2.6\",\"2.7\",\"2.8\",\"2.9\",\"3.0\",\"3.1\",\"3.2\",\"3.3\",\"3.4\",\"3.5\",\"3.6\",\"3.7\",\"3.8\",\"3.9\",\"4.0\",\"4.1\",\"4.2\",\"4.3\",\"4.4\",\"4.5\",\"4.6\",\"4.7\",\"4.8\",\"4.9\",\"5.0\",\"5.1\",\"5.2\",\"5.3\",\"5.4\",\"5.5\",\"5.6\",\"5.7\",\"5.8\",\"5.9\",\"6.0\",\"6.1\",\"6.2\",\"6.3\",\"6.4\",\"6.5\",\"6.6\",\"6.7\",\"6.8\",\"6.9\",\"7.0\",\"7.1\",\"7.2\",\"7.3\",\"7.4\",\"7.5\",\"7.6\",\"7.7\",\"7.8\",\"7.9\",\"8.0\",\"8.1\",\"8.2\",\"8.3\",\"8.4\",\"8.5\",\"8.6\",\"8.7\",\"8.8\",\"8.9\",\"9.0\",\"9.1\",\"9.2\",\"9.3\",\"9.4\",\"9.5\",\"9.6\",\"9.7\",\"9.8\",\"9.9\",\"10.0\",\"10.1\",\"10.2\",\"10.3\",\"10.4\",\"10.5\",\"10.6\",\"10.7\",\"10.8\",\"10.9\",\"11.0\",\"11.1\",\"11.2\",\"11.3\",\"11.4\",\"11.5\",\"11.6\",\"11.7\",\"11.8\",\"11.9\",\"12.0\"],\"changes\":WebIO.getval({\"name\":\"changes\",\"scope\":\"12027068802990044429\",\"id\":\"3112631625685253626\",\"type\":\"observable\"}),\"index\":WebIO.getval({\"name\":\"index\",\"scope\":\"12027068802990044429\",\"id\":\"18108800750298058482\",\"type\":\"observable\"})};\n    var self = this;\n    function AppViewModel() {\n        for (var key in json_data) {\n            var el = json_data[key];\n            this[key] = Array.isArray(el) ? ko.observableArray(el) : ko.observable(el);\n        }\n        \n        [this[\"formatted_val\"]=ko.computed(    function(){\n        return this.formatted_vals()[parseInt(this.index())-(1)];\n    }\n,this)]\n        [this[\"changes\"].subscribe((function (val){!(this.valueFromJulia[\"changes\"]) ? (WebIO.setval({\"name\":\"changes\",\"scope\":\"12027068802990044429\",\"id\":\"3112631625685253626\",\"type\":\"observable\"},val)) : undefined; return this.valueFromJulia[\"changes\"]=false}),self),this[\"index\"].subscribe((function (val){!(this.valueFromJulia[\"index\"]) ? (WebIO.setval({\"name\":\"index\",\"scope\":\"12027068802990044429\",\"id\":\"18108800750298058482\",\"type\":\"observable\"},val)) : undefined; return this.valueFromJulia[\"index\"]=false}),self)]\n        \n    }\n    self.model = new AppViewModel();\n    self.valueFromJulia = {};\n    for (var key in json_data) {\n        self.valueFromJulia[key] = false;\n    }\n    ko.applyBindings(self.model, self.dom);\n}\n);\n    (WebIO.importBlock({\"data\":[{\"name\":\"knockout\",\"type\":\"js\",\"url\":\"/assetserver/92c2f1237c7de526b82b854e47551e089e074ac2-knockout.js\"},{\"name\":\"knockout_punches\",\"type\":\"js\",\"url\":\"/assetserver/39e4d1dceef49085ebf36edb09c92c7574c58816-knockout_punches.js\"}],\"type\":\"async_block\"})).then((imports) => handler.apply(this, imports));\n}\n"
            ],
            "observables": {
             "changes": {
              "id": "3112631625685253626",
              "sync": false,
              "value": 0
             },
             "index": {
              "id": "18108800750298058482",
              "sync": true,
              "value": 56
             }
            },
            "systemjs_options": null
           },
           "nodeType": "Scope",
           "props": {},
           "type": "node"
          }
         ],
         "instanceArgs": {
          "namespace": "html",
          "tag": "div"
         },
         "nodeType": "DOM",
         "props": {
          "className": "field interact-widget"
         },
         "type": "node"
        },
        {
         "children": [
          {
           "children": [
            {
             "children": [
              {
               "children": [
                {
                 "children": [
                  "Maximum Amplitude y"
                 ],
                 "instanceArgs": {
                  "namespace": "html",
                  "tag": "label"
                 },
                 "nodeType": "DOM",
                 "props": {
                  "className": "interact ",
                  "style": {
                   "padding": "5px 10px 0px 10px"
                  }
                 },
                 "type": "node"
                }
               ],
               "instanceArgs": {
                "namespace": "html",
                "tag": "div"
               },
               "nodeType": "DOM",
               "props": {
                "className": "interact-flex-row-left"
               },
               "type": "node"
              },
              {
               "children": [
                {
                 "children": [],
                 "instanceArgs": {
                  "namespace": "html",
                  "tag": "input"
                 },
                 "nodeType": "DOM",
                 "props": {
                  "attributes": {
                   "data-bind": "numericValue: index, valueUpdate: 'input', event: {change: function (){this.changes(this.changes()+1)}}",
                   "orient": "horizontal",
                   "type": "range"
                  },
                  "className": "slider slider is-fullwidth",
                  "max": 111,
                  "min": 1,
                  "step": 1,
                  "style": {}
                 },
                 "type": "node"
                }
               ],
               "instanceArgs": {
                "namespace": "html",
                "tag": "div"
               },
               "nodeType": "DOM",
               "props": {
                "className": "interact-flex-row-center"
               },
               "type": "node"
              },
              {
               "children": [
                {
                 "children": [],
                 "instanceArgs": {
                  "namespace": "html",
                  "tag": "p"
                 },
                 "nodeType": "DOM",
                 "props": {
                  "attributes": {
                   "data-bind": "text: formatted_val"
                  }
                 },
                 "type": "node"
                }
               ],
               "instanceArgs": {
                "namespace": "html",
                "tag": "div"
               },
               "nodeType": "DOM",
               "props": {
                "className": "interact-flex-row-right"
               },
               "type": "node"
              }
             ],
             "instanceArgs": {
              "namespace": "html",
              "tag": "div"
             },
             "nodeType": "DOM",
             "props": {
              "className": "interact-flex-row interact-widget"
             },
             "type": "node"
            }
           ],
           "instanceArgs": {
            "handlers": {
             "changes": [
              "(function (val){return (val!=this.model[\"changes\"]()) ? (this.valueFromJulia[\"changes\"]=true, this.model[\"changes\"](val)) : undefined})"
             ],
             "index": [
              "(function (val){return (val!=this.model[\"index\"]()) ? (this.valueFromJulia[\"index\"]=true, this.model[\"index\"](val)) : undefined})"
             ]
            },
            "id": "13374975451862274734",
            "imports": {
             "data": [
              {
               "name": "knockout",
               "type": "js",
               "url": "/assetserver/92c2f1237c7de526b82b854e47551e089e074ac2-knockout.js"
              },
              {
               "name": "knockout_punches",
               "type": "js",
               "url": "/assetserver/39e4d1dceef49085ebf36edb09c92c7574c58816-knockout_punches.js"
              },
              {
               "name": null,
               "type": "js",
               "url": "/assetserver/bea19c4f7d50366923bb3fbba800750b2d533f80-all.js"
              },
              {
               "name": null,
               "type": "css",
               "url": "/assetserver/c4d4f4f0ce9b24709d6d39765a20423cfb274e6a-style.css"
              },
              {
               "name": null,
               "type": "css",
               "url": "/assetserver/6513af17bee55ce33a5387a0f8cc5237a8ed2443-bulma_confined.min.css"
              }
             ],
             "type": "async_block"
            },
            "mount_callbacks": [
             "function () {\n    var handler = (function (ko, koPunches) {\n    ko.punches.enableAll();\n    ko.bindingHandlers.numericValue = {\n        init: function(element, valueAccessor, allBindings, data, context) {\n            var stringified = ko.observable(ko.unwrap(valueAccessor()));\n            stringified.subscribe(function(value) {\n                var val = parseFloat(value);\n                if (!isNaN(val)) {\n                    valueAccessor()(val);\n                }\n            });\n            valueAccessor().subscribe(function(value) {\n                var str = JSON.stringify(value);\n                if ((str == \"0\") && ([\"-0\", \"-0.\"].indexOf(stringified()) >= 0))\n                     return;\n                 if ([\"null\", \"\"].indexOf(str) >= 0)\n                     return;\n                stringified(str);\n            });\n            ko.applyBindingsToNode(\n                element,\n                {\n                    value: stringified,\n                    valueUpdate: allBindings.get('valueUpdate'),\n                },\n                context,\n            );\n        }\n    };\n    var json_data = {\"formatted_vals\":[\"1.0\",\"1.1\",\"1.2\",\"1.3\",\"1.4\",\"1.5\",\"1.6\",\"1.7\",\"1.8\",\"1.9\",\"2.0\",\"2.1\",\"2.2\",\"2.3\",\"2.4\",\"2.5\",\"2.6\",\"2.7\",\"2.8\",\"2.9\",\"3.0\",\"3.1\",\"3.2\",\"3.3\",\"3.4\",\"3.5\",\"3.6\",\"3.7\",\"3.8\",\"3.9\",\"4.0\",\"4.1\",\"4.2\",\"4.3\",\"4.4\",\"4.5\",\"4.6\",\"4.7\",\"4.8\",\"4.9\",\"5.0\",\"5.1\",\"5.2\",\"5.3\",\"5.4\",\"5.5\",\"5.6\",\"5.7\",\"5.8\",\"5.9\",\"6.0\",\"6.1\",\"6.2\",\"6.3\",\"6.4\",\"6.5\",\"6.6\",\"6.7\",\"6.8\",\"6.9\",\"7.0\",\"7.1\",\"7.2\",\"7.3\",\"7.4\",\"7.5\",\"7.6\",\"7.7\",\"7.8\",\"7.9\",\"8.0\",\"8.1\",\"8.2\",\"8.3\",\"8.4\",\"8.5\",\"8.6\",\"8.7\",\"8.8\",\"8.9\",\"9.0\",\"9.1\",\"9.2\",\"9.3\",\"9.4\",\"9.5\",\"9.6\",\"9.7\",\"9.8\",\"9.9\",\"10.0\",\"10.1\",\"10.2\",\"10.3\",\"10.4\",\"10.5\",\"10.6\",\"10.7\",\"10.8\",\"10.9\",\"11.0\",\"11.1\",\"11.2\",\"11.3\",\"11.4\",\"11.5\",\"11.6\",\"11.7\",\"11.8\",\"11.9\",\"12.0\"],\"changes\":WebIO.getval({\"name\":\"changes\",\"scope\":\"13374975451862274734\",\"id\":\"12096891833643461506\",\"type\":\"observable\"}),\"index\":WebIO.getval({\"name\":\"index\",\"scope\":\"13374975451862274734\",\"id\":\"3284952688702251102\",\"type\":\"observable\"})};\n    var self = this;\n    function AppViewModel() {\n        for (var key in json_data) {\n            var el = json_data[key];\n            this[key] = Array.isArray(el) ? ko.observableArray(el) : ko.observable(el);\n        }\n        \n        [this[\"formatted_val\"]=ko.computed(    function(){\n        return this.formatted_vals()[parseInt(this.index())-(1)];\n    }\n,this)]\n        [this[\"changes\"].subscribe((function (val){!(this.valueFromJulia[\"changes\"]) ? (WebIO.setval({\"name\":\"changes\",\"scope\":\"13374975451862274734\",\"id\":\"12096891833643461506\",\"type\":\"observable\"},val)) : undefined; return this.valueFromJulia[\"changes\"]=false}),self),this[\"index\"].subscribe((function (val){!(this.valueFromJulia[\"index\"]) ? (WebIO.setval({\"name\":\"index\",\"scope\":\"13374975451862274734\",\"id\":\"3284952688702251102\",\"type\":\"observable\"},val)) : undefined; return this.valueFromJulia[\"index\"]=false}),self)]\n        \n    }\n    self.model = new AppViewModel();\n    self.valueFromJulia = {};\n    for (var key in json_data) {\n        self.valueFromJulia[key] = false;\n    }\n    ko.applyBindings(self.model, self.dom);\n}\n);\n    (WebIO.importBlock({\"data\":[{\"name\":\"knockout\",\"type\":\"js\",\"url\":\"/assetserver/92c2f1237c7de526b82b854e47551e089e074ac2-knockout.js\"},{\"name\":\"knockout_punches\",\"type\":\"js\",\"url\":\"/assetserver/39e4d1dceef49085ebf36edb09c92c7574c58816-knockout_punches.js\"}],\"type\":\"async_block\"})).then((imports) => handler.apply(this, imports));\n}\n"
            ],
            "observables": {
             "changes": {
              "id": "12096891833643461506",
              "sync": false,
              "value": 0
             },
             "index": {
              "id": "3284952688702251102",
              "sync": true,
              "value": 56
             }
            },
            "systemjs_options": null
           },
           "nodeType": "Scope",
           "props": {},
           "type": "node"
          }
         ],
         "instanceArgs": {
          "namespace": "html",
          "tag": "div"
         },
         "nodeType": "DOM",
         "props": {
          "className": "field interact-widget"
         },
         "type": "node"
        },
        {
         "children": [
          {
           "children": [
            {
             "children": [
              {
               "children": [
                {
                 "children": [
                  "Height"
                 ],
                 "instanceArgs": {
                  "namespace": "html",
                  "tag": "label"
                 },
                 "nodeType": "DOM",
                 "props": {
                  "className": "interact ",
                  "style": {
                   "padding": "5px 10px 0px 10px"
                  }
                 },
                 "type": "node"
                }
               ],
               "instanceArgs": {
                "namespace": "html",
                "tag": "div"
               },
               "nodeType": "DOM",
               "props": {
                "className": "interact-flex-row-left"
               },
               "type": "node"
              },
              {
               "children": [
                {
                 "children": [],
                 "instanceArgs": {
                  "namespace": "html",
                  "tag": "input"
                 },
                 "nodeType": "DOM",
                 "props": {
                  "attributes": {
                   "data-bind": "numericValue: index, valueUpdate: 'input', event: {change: function (){this.changes(this.changes()+1)}}",
                   "orient": "horizontal",
                   "type": "range"
                  },
                  "className": "slider slider is-fullwidth",
                  "max": 19,
                  "min": 1,
                  "step": 1,
                  "style": {}
                 },
                 "type": "node"
                }
               ],
               "instanceArgs": {
                "namespace": "html",
                "tag": "div"
               },
               "nodeType": "DOM",
               "props": {
                "className": "interact-flex-row-center"
               },
               "type": "node"
              },
              {
               "children": [
                {
                 "children": [],
                 "instanceArgs": {
                  "namespace": "html",
                  "tag": "p"
                 },
                 "nodeType": "DOM",
                 "props": {
                  "attributes": {
                   "data-bind": "text: formatted_val"
                  }
                 },
                 "type": "node"
                }
               ],
               "instanceArgs": {
                "namespace": "html",
                "tag": "div"
               },
               "nodeType": "DOM",
               "props": {
                "className": "interact-flex-row-right"
               },
               "type": "node"
              }
             ],
             "instanceArgs": {
              "namespace": "html",
              "tag": "div"
             },
             "nodeType": "DOM",
             "props": {
              "className": "interact-flex-row interact-widget"
             },
             "type": "node"
            }
           ],
           "instanceArgs": {
            "handlers": {
             "changes": [
              "(function (val){return (val!=this.model[\"changes\"]()) ? (this.valueFromJulia[\"changes\"]=true, this.model[\"changes\"](val)) : undefined})"
             ],
             "index": [
              "(function (val){return (val!=this.model[\"index\"]()) ? (this.valueFromJulia[\"index\"]=true, this.model[\"index\"](val)) : undefined})"
             ]
            },
            "id": "6669551686635630009",
            "imports": {
             "data": [
              {
               "name": "knockout",
               "type": "js",
               "url": "/assetserver/92c2f1237c7de526b82b854e47551e089e074ac2-knockout.js"
              },
              {
               "name": "knockout_punches",
               "type": "js",
               "url": "/assetserver/39e4d1dceef49085ebf36edb09c92c7574c58816-knockout_punches.js"
              },
              {
               "name": null,
               "type": "js",
               "url": "/assetserver/bea19c4f7d50366923bb3fbba800750b2d533f80-all.js"
              },
              {
               "name": null,
               "type": "css",
               "url": "/assetserver/c4d4f4f0ce9b24709d6d39765a20423cfb274e6a-style.css"
              },
              {
               "name": null,
               "type": "css",
               "url": "/assetserver/6513af17bee55ce33a5387a0f8cc5237a8ed2443-bulma_confined.min.css"
              }
             ],
             "type": "async_block"
            },
            "mount_callbacks": [
             "function () {\n    var handler = (function (ko, koPunches) {\n    ko.punches.enableAll();\n    ko.bindingHandlers.numericValue = {\n        init: function(element, valueAccessor, allBindings, data, context) {\n            var stringified = ko.observable(ko.unwrap(valueAccessor()));\n            stringified.subscribe(function(value) {\n                var val = parseFloat(value);\n                if (!isNaN(val)) {\n                    valueAccessor()(val);\n                }\n            });\n            valueAccessor().subscribe(function(value) {\n                var str = JSON.stringify(value);\n                if ((str == \"0\") && ([\"-0\", \"-0.\"].indexOf(stringified()) >= 0))\n                     return;\n                 if ([\"null\", \"\"].indexOf(str) >= 0)\n                     return;\n                stringified(str);\n            });\n            ko.applyBindingsToNode(\n                element,\n                {\n                    value: stringified,\n                    valueUpdate: allBindings.get('valueUpdate'),\n                },\n                context,\n            );\n        }\n    };\n    var json_data = {\"formatted_vals\":[\"2\",\"3\",\"4\",\"5\",\"6\",\"7\",\"8\",\"9\",\"10\",\"11\",\"12\",\"13\",\"14\",\"15\",\"16\",\"17\",\"18\",\"19\",\"20\"],\"changes\":WebIO.getval({\"name\":\"changes\",\"scope\":\"6669551686635630009\",\"id\":\"401385438804554485\",\"type\":\"observable\"}),\"index\":WebIO.getval({\"name\":\"index\",\"scope\":\"6669551686635630009\",\"id\":\"16801075036598602591\",\"type\":\"observable\"})};\n    var self = this;\n    function AppViewModel() {\n        for (var key in json_data) {\n            var el = json_data[key];\n            this[key] = Array.isArray(el) ? ko.observableArray(el) : ko.observable(el);\n        }\n        \n        [this[\"formatted_val\"]=ko.computed(    function(){\n        return this.formatted_vals()[parseInt(this.index())-(1)];\n    }\n,this)]\n        [this[\"changes\"].subscribe((function (val){!(this.valueFromJulia[\"changes\"]) ? (WebIO.setval({\"name\":\"changes\",\"scope\":\"6669551686635630009\",\"id\":\"401385438804554485\",\"type\":\"observable\"},val)) : undefined; return this.valueFromJulia[\"changes\"]=false}),self),this[\"index\"].subscribe((function (val){!(this.valueFromJulia[\"index\"]) ? (WebIO.setval({\"name\":\"index\",\"scope\":\"6669551686635630009\",\"id\":\"16801075036598602591\",\"type\":\"observable\"},val)) : undefined; return this.valueFromJulia[\"index\"]=false}),self)]\n        \n    }\n    self.model = new AppViewModel();\n    self.valueFromJulia = {};\n    for (var key in json_data) {\n        self.valueFromJulia[key] = false;\n    }\n    ko.applyBindings(self.model, self.dom);\n}\n);\n    (WebIO.importBlock({\"data\":[{\"name\":\"knockout\",\"type\":\"js\",\"url\":\"/assetserver/92c2f1237c7de526b82b854e47551e089e074ac2-knockout.js\"},{\"name\":\"knockout_punches\",\"type\":\"js\",\"url\":\"/assetserver/39e4d1dceef49085ebf36edb09c92c7574c58816-knockout_punches.js\"}],\"type\":\"async_block\"})).then((imports) => handler.apply(this, imports));\n}\n"
            ],
            "observables": {
             "changes": {
              "id": "401385438804554485",
              "sync": false,
              "value": 0
             },
             "index": {
              "id": "16801075036598602591",
              "sync": true,
              "value": 10
             }
            },
            "systemjs_options": null
           },
           "nodeType": "Scope",
           "props": {},
           "type": "node"
          }
         ],
         "instanceArgs": {
          "namespace": "html",
          "tag": "div"
         },
         "nodeType": "DOM",
         "props": {
          "className": "field interact-widget"
         },
         "type": "node"
        },
        {
         "children": [
          {
           "children": [],
           "instanceArgs": {
            "id": "561682502448104778",
            "name": "obs-node"
           },
           "nodeType": "ObservableNode",
           "props": {},
           "type": "node"
          }
         ],
         "instanceArgs": {
          "handlers": {},
          "id": "4169579143211180381",
          "imports": {
           "data": [],
           "type": "async_block"
          },
          "mount_callbacks": [],
          "observables": {
           "obs-node": {
            "id": "561682502448104778",
            "sync": false,
            "value": {
             "children": [
              {
               "children": [],
               "instanceArgs": {
                "namespace": "html",
                "tag": "div"
               },
               "nodeType": "DOM",
               "props": {
                "setInnerHtml": "<pre>71-element Array{TrussBar,1}:\n TrussBar(...)\n TrussBar(...)\n TrussBar(...)\n TrussBar(...)\n TrussBar(...)\n TrussBar(...)\n TrussBar(...)\n TrussBar(...)\n TrussBar(...)\n TrussBar(...)\n TrussBar(...)\n TrussBar(...)\n TrussBar(...)\n TrussBar(...)\n TrussBar(...)\n TrussBar(...)\n TrussBar(...)\n TrussBar(...)\n TrussBar(...)\n TrussBar(...)\n TrussBar(...)\n TrussBar(...)\n TrussBar(...)\n TrussBar(...)\n TrussBar(...)\n TrussBar(...)\n TrussBar(...)\n TrussBar(...)\n TrussBar(...)\n TrussBar(...)\n TrussBar(...)\n TrussBar(...)\n TrussBar(...)\n TrussBar(...)\n TrussBar(...)\n TrussBar(...)\n TrussBar(...)\n TrussBar(...)\n TrussBar(...)\n TrussBar(...)\n TrussBar(...)\n TrussBar(...)\n TrussBar(...)\n TrussBar(...)\n TrussBar(...)\n TrussBar(...)\n TrussBar(...)\n TrussBar(...)\n TrussBar(...)\n TrussBar(...)\n TrussBar(...)\n TrussBar(...)\n TrussBar(...)\n TrussBar(...)\n TrussBar(...)\n TrussBar(...)\n TrussBar(...)\n TrussBar(...)\n TrussBar(...)\n TrussBar(...)\n TrussBar(...)\n TrussBar(...)\n TrussBar(...)\n TrussBar(...)\n TrussBar(...)\n TrussBar(...)\n TrussBar(...)\n TrussBar(...)\n TrussBar(...)\n TrussBar(...)\n TrussBar(...)</pre>"
               },
               "type": "node"
              }
             ],
             "instanceArgs": {
              "namespace": "html",
              "tag": "div"
             },
             "nodeType": "DOM",
             "props": {
              "className": "interact-flex-row interact-widget"
             },
             "type": "node"
            }
           }
          },
          "systemjs_options": null
         },
         "nodeType": "Scope",
         "props": {},
         "type": "node"
        }
       ],
       "instanceArgs": {
        "namespace": "html",
        "tag": "div"
       },
       "nodeType": "DOM",
       "props": {},
       "type": "node"
      },
      "text/html": [
       "<div\n",
       "    class=\"webio-mountpoint\"\n",
       "    data-webio-mountpoint=\"3091960742926357823\"\n",
       ">\n",
       "    <script>\n",
       "    if (window.require && require.defined && require.defined(\"nbextensions/webio-jupyter-notebook\")) {\n",
       "        console.log(\"Jupyter WebIO extension detected, not mounting.\");\n",
       "    } else if (window.WebIO) {\n",
       "        WebIO.mount(\n",
       "            document.querySelector('[data-webio-mountpoint=\"3091960742926357823\"]'),\n",
       "            {\"props\":{},\"nodeType\":\"DOM\",\"type\":\"node\",\"instanceArgs\":{\"namespace\":\"html\",\"tag\":\"div\"},\"children\":[{\"props\":{\"className\":\"field interact-widget\"},\"nodeType\":\"DOM\",\"type\":\"node\",\"instanceArgs\":{\"namespace\":\"html\",\"tag\":\"div\"},\"children\":[{\"props\":{},\"nodeType\":\"Scope\",\"type\":\"node\",\"instanceArgs\":{\"imports\":{\"data\":[{\"name\":\"knockout\",\"type\":\"js\",\"url\":\"\\/assetserver\\/92c2f1237c7de526b82b854e47551e089e074ac2-knockout.js\"},{\"name\":\"knockout_punches\",\"type\":\"js\",\"url\":\"\\/assetserver\\/39e4d1dceef49085ebf36edb09c92c7574c58816-knockout_punches.js\"},{\"name\":null,\"type\":\"js\",\"url\":\"\\/assetserver\\/bea19c4f7d50366923bb3fbba800750b2d533f80-all.js\"},{\"name\":null,\"type\":\"css\",\"url\":\"\\/assetserver\\/c4d4f4f0ce9b24709d6d39765a20423cfb274e6a-style.css\"},{\"name\":null,\"type\":\"css\",\"url\":\"\\/assetserver\\/6513af17bee55ce33a5387a0f8cc5237a8ed2443-bulma_confined.min.css\"}],\"type\":\"async_block\"},\"id\":\"14903482735604722467\",\"handlers\":{\"changes\":[\"(function (val){return (val!=this.model[\\\"changes\\\"]()) ? (this.valueFromJulia[\\\"changes\\\"]=true, this.model[\\\"changes\\\"](val)) : undefined})\"],\"index\":[\"(function (val){return (val!=this.model[\\\"index\\\"]()) ? (this.valueFromJulia[\\\"index\\\"]=true, this.model[\\\"index\\\"](val)) : undefined})\"]},\"systemjs_options\":null,\"mount_callbacks\":[\"function () {\\n    var handler = (function (ko, koPunches) {\\n    ko.punches.enableAll();\\n    ko.bindingHandlers.numericValue = {\\n        init: function(element, valueAccessor, allBindings, data, context) {\\n            var stringified = ko.observable(ko.unwrap(valueAccessor()));\\n            stringified.subscribe(function(value) {\\n                var val = parseFloat(value);\\n                if (!isNaN(val)) {\\n                    valueAccessor()(val);\\n                }\\n            });\\n            valueAccessor().subscribe(function(value) {\\n                var str = JSON.stringify(value);\\n                if ((str == \\\"0\\\") && ([\\\"-0\\\", \\\"-0.\\\"].indexOf(stringified()) >= 0))\\n                     return;\\n                 if ([\\\"null\\\", \\\"\\\"].indexOf(str) >= 0)\\n                     return;\\n                stringified(str);\\n            });\\n            ko.applyBindingsToNode(\\n                element,\\n                {\\n                    value: stringified,\\n                    valueUpdate: allBindings.get('valueUpdate'),\\n                },\\n                context,\\n            );\\n        }\\n    };\\n    var json_data = {\\\"formatted_vals\\\":[\\\"1.0\\\",\\\"1.1\\\",\\\"1.2\\\",\\\"1.3\\\",\\\"1.4\\\",\\\"1.5\\\",\\\"1.6\\\",\\\"1.7\\\",\\\"1.8\\\",\\\"1.9\\\",\\\"2.0\\\",\\\"2.1\\\",\\\"2.2\\\",\\\"2.3\\\",\\\"2.4\\\",\\\"2.5\\\",\\\"2.6\\\",\\\"2.7\\\",\\\"2.8\\\",\\\"2.9\\\",\\\"3.0\\\"],\\\"changes\\\":WebIO.getval({\\\"name\\\":\\\"changes\\\",\\\"scope\\\":\\\"14903482735604722467\\\",\\\"id\\\":\\\"7522056011883757153\\\",\\\"type\\\":\\\"observable\\\"}),\\\"index\\\":WebIO.getval({\\\"name\\\":\\\"index\\\",\\\"scope\\\":\\\"14903482735604722467\\\",\\\"id\\\":\\\"16772008366542743612\\\",\\\"type\\\":\\\"observable\\\"})};\\n    var self = this;\\n    function AppViewModel() {\\n        for (var key in json_data) {\\n            var el = json_data[key];\\n            this[key] = Array.isArray(el) ? ko.observableArray(el) : ko.observable(el);\\n        }\\n        \\n        [this[\\\"formatted_val\\\"]=ko.computed(    function(){\\n        return this.formatted_vals()[parseInt(this.index())-(1)];\\n    }\\n,this)]\\n        [this[\\\"changes\\\"].subscribe((function (val){!(this.valueFromJulia[\\\"changes\\\"]) ? (WebIO.setval({\\\"name\\\":\\\"changes\\\",\\\"scope\\\":\\\"14903482735604722467\\\",\\\"id\\\":\\\"7522056011883757153\\\",\\\"type\\\":\\\"observable\\\"},val)) : undefined; return this.valueFromJulia[\\\"changes\\\"]=false}),self),this[\\\"index\\\"].subscribe((function (val){!(this.valueFromJulia[\\\"index\\\"]) ? (WebIO.setval({\\\"name\\\":\\\"index\\\",\\\"scope\\\":\\\"14903482735604722467\\\",\\\"id\\\":\\\"16772008366542743612\\\",\\\"type\\\":\\\"observable\\\"},val)) : undefined; return this.valueFromJulia[\\\"index\\\"]=false}),self)]\\n        \\n    }\\n    self.model = new AppViewModel();\\n    self.valueFromJulia = {};\\n    for (var key in json_data) {\\n        self.valueFromJulia[key] = false;\\n    }\\n    ko.applyBindings(self.model, self.dom);\\n}\\n);\\n    (WebIO.importBlock({\\\"data\\\":[{\\\"name\\\":\\\"knockout\\\",\\\"type\\\":\\\"js\\\",\\\"url\\\":\\\"\\/assetserver\\/92c2f1237c7de526b82b854e47551e089e074ac2-knockout.js\\\"},{\\\"name\\\":\\\"knockout_punches\\\",\\\"type\\\":\\\"js\\\",\\\"url\\\":\\\"\\/assetserver\\/39e4d1dceef49085ebf36edb09c92c7574c58816-knockout_punches.js\\\"}],\\\"type\\\":\\\"async_block\\\"})).then((imports) => handler.apply(this, imports));\\n}\\n\"],\"observables\":{\"changes\":{\"sync\":false,\"id\":\"7522056011883757153\",\"value\":0},\"index\":{\"sync\":true,\"id\":\"16772008366542743612\",\"value\":11}}},\"children\":[{\"props\":{\"className\":\"interact-flex-row interact-widget\"},\"nodeType\":\"DOM\",\"type\":\"node\",\"instanceArgs\":{\"namespace\":\"html\",\"tag\":\"div\"},\"children\":[{\"props\":{\"className\":\"interact-flex-row-left\"},\"nodeType\":\"DOM\",\"type\":\"node\",\"instanceArgs\":{\"namespace\":\"html\",\"tag\":\"div\"},\"children\":[{\"props\":{\"className\":\"interact \",\"style\":{\"padding\":\"5px 10px 0px 10px\"}},\"nodeType\":\"DOM\",\"type\":\"node\",\"instanceArgs\":{\"namespace\":\"html\",\"tag\":\"label\"},\"children\":[\"Amplitude x\"]}]},{\"props\":{\"className\":\"interact-flex-row-center\"},\"nodeType\":\"DOM\",\"type\":\"node\",\"instanceArgs\":{\"namespace\":\"html\",\"tag\":\"div\"},\"children\":[{\"props\":{\"max\":21,\"min\":1,\"attributes\":{\"type\":\"range\",\"data-bind\":\"numericValue: index, valueUpdate: 'input', event: {change: function (){this.changes(this.changes()+1)}}\",\"orient\":\"horizontal\"},\"step\":1,\"className\":\"slider slider is-fullwidth\",\"style\":{}},\"nodeType\":\"DOM\",\"type\":\"node\",\"instanceArgs\":{\"namespace\":\"html\",\"tag\":\"input\"},\"children\":[]}]},{\"props\":{\"className\":\"interact-flex-row-right\"},\"nodeType\":\"DOM\",\"type\":\"node\",\"instanceArgs\":{\"namespace\":\"html\",\"tag\":\"div\"},\"children\":[{\"props\":{\"attributes\":{\"data-bind\":\"text: formatted_val\"}},\"nodeType\":\"DOM\",\"type\":\"node\",\"instanceArgs\":{\"namespace\":\"html\",\"tag\":\"p\"},\"children\":[]}]}]}]}]},{\"props\":{\"className\":\"field interact-widget\"},\"nodeType\":\"DOM\",\"type\":\"node\",\"instanceArgs\":{\"namespace\":\"html\",\"tag\":\"div\"},\"children\":[{\"props\":{},\"nodeType\":\"Scope\",\"type\":\"node\",\"instanceArgs\":{\"imports\":{\"data\":[{\"name\":\"knockout\",\"type\":\"js\",\"url\":\"\\/assetserver\\/92c2f1237c7de526b82b854e47551e089e074ac2-knockout.js\"},{\"name\":\"knockout_punches\",\"type\":\"js\",\"url\":\"\\/assetserver\\/39e4d1dceef49085ebf36edb09c92c7574c58816-knockout_punches.js\"},{\"name\":null,\"type\":\"js\",\"url\":\"\\/assetserver\\/bea19c4f7d50366923bb3fbba800750b2d533f80-all.js\"},{\"name\":null,\"type\":\"css\",\"url\":\"\\/assetserver\\/c4d4f4f0ce9b24709d6d39765a20423cfb274e6a-style.css\"},{\"name\":null,\"type\":\"css\",\"url\":\"\\/assetserver\\/6513af17bee55ce33a5387a0f8cc5237a8ed2443-bulma_confined.min.css\"}],\"type\":\"async_block\"},\"id\":\"1758659271211118774\",\"handlers\":{\"changes\":[\"(function (val){return (val!=this.model[\\\"changes\\\"]()) ? (this.valueFromJulia[\\\"changes\\\"]=true, this.model[\\\"changes\\\"](val)) : undefined})\"],\"index\":[\"(function (val){return (val!=this.model[\\\"index\\\"]()) ? (this.valueFromJulia[\\\"index\\\"]=true, this.model[\\\"index\\\"](val)) : undefined})\"]},\"systemjs_options\":null,\"mount_callbacks\":[\"function () {\\n    var handler = (function (ko, koPunches) {\\n    ko.punches.enableAll();\\n    ko.bindingHandlers.numericValue = {\\n        init: function(element, valueAccessor, allBindings, data, context) {\\n            var stringified = ko.observable(ko.unwrap(valueAccessor()));\\n            stringified.subscribe(function(value) {\\n                var val = parseFloat(value);\\n                if (!isNaN(val)) {\\n                    valueAccessor()(val);\\n                }\\n            });\\n            valueAccessor().subscribe(function(value) {\\n                var str = JSON.stringify(value);\\n                if ((str == \\\"0\\\") && ([\\\"-0\\\", \\\"-0.\\\"].indexOf(stringified()) >= 0))\\n                     return;\\n                 if ([\\\"null\\\", \\\"\\\"].indexOf(str) >= 0)\\n                     return;\\n                stringified(str);\\n            });\\n            ko.applyBindingsToNode(\\n                element,\\n                {\\n                    value: stringified,\\n                    valueUpdate: allBindings.get('valueUpdate'),\\n                },\\n                context,\\n            );\\n        }\\n    };\\n    var json_data = {\\\"formatted_vals\\\":[\\\"3.0\\\",\\\"3.1\\\",\\\"3.2\\\",\\\"3.3\\\",\\\"3.4\\\",\\\"3.5\\\",\\\"3.6\\\",\\\"3.7\\\",\\\"3.8\\\",\\\"3.9\\\",\\\"4.0\\\",\\\"4.1\\\",\\\"4.2\\\",\\\"4.3\\\",\\\"4.4\\\",\\\"4.5\\\",\\\"4.6\\\",\\\"4.7\\\",\\\"4.8\\\",\\\"4.9\\\",\\\"5.0\\\",\\\"5.1\\\",\\\"5.2\\\",\\\"5.3\\\",\\\"5.4\\\",\\\"5.5\\\",\\\"5.6\\\",\\\"5.7\\\",\\\"5.8\\\",\\\"5.9\\\",\\\"6.0\\\",\\\"6.1\\\",\\\"6.2\\\",\\\"6.3\\\",\\\"6.4\\\",\\\"6.5\\\",\\\"6.6\\\",\\\"6.7\\\",\\\"6.8\\\",\\\"6.9\\\",\\\"7.0\\\",\\\"7.1\\\",\\\"7.2\\\",\\\"7.3\\\",\\\"7.4\\\",\\\"7.5\\\",\\\"7.6\\\",\\\"7.7\\\",\\\"7.8\\\",\\\"7.9\\\",\\\"8.0\\\",\\\"8.1\\\",\\\"8.2\\\",\\\"8.3\\\",\\\"8.4\\\",\\\"8.5\\\",\\\"8.6\\\",\\\"8.7\\\",\\\"8.8\\\",\\\"8.9\\\",\\\"9.0\\\",\\\"9.1\\\",\\\"9.2\\\",\\\"9.3\\\",\\\"9.4\\\",\\\"9.5\\\",\\\"9.6\\\",\\\"9.7\\\",\\\"9.8\\\",\\\"9.9\\\",\\\"10.0\\\",\\\"10.1\\\",\\\"10.2\\\",\\\"10.3\\\",\\\"10.4\\\",\\\"10.5\\\",\\\"10.6\\\",\\\"10.7\\\",\\\"10.8\\\",\\\"10.9\\\",\\\"11.0\\\",\\\"11.1\\\",\\\"11.2\\\",\\\"11.3\\\",\\\"11.4\\\",\\\"11.5\\\",\\\"11.6\\\",\\\"11.7\\\",\\\"11.8\\\",\\\"11.9\\\",\\\"12.0\\\",\\\"12.1\\\",\\\"12.2\\\",\\\"12.3\\\",\\\"12.4\\\",\\\"12.5\\\",\\\"12.6\\\",\\\"12.7\\\",\\\"12.8\\\",\\\"12.9\\\",\\\"13.0\\\",\\\"13.1\\\",\\\"13.2\\\",\\\"13.3\\\",\\\"13.4\\\",\\\"13.5\\\",\\\"13.6\\\",\\\"13.7\\\",\\\"13.8\\\",\\\"13.9\\\",\\\"14.0\\\",\\\"14.1\\\",\\\"14.2\\\",\\\"14.3\\\",\\\"14.4\\\",\\\"14.5\\\",\\\"14.6\\\",\\\"14.7\\\",\\\"14.8\\\",\\\"14.9\\\",\\\"15.0\\\"],\\\"changes\\\":WebIO.getval({\\\"name\\\":\\\"changes\\\",\\\"scope\\\":\\\"1758659271211118774\\\",\\\"id\\\":\\\"17970589484344835594\\\",\\\"type\\\":\\\"observable\\\"}),\\\"index\\\":WebIO.getval({\\\"name\\\":\\\"index\\\",\\\"scope\\\":\\\"1758659271211118774\\\",\\\"id\\\":\\\"5366730944447948496\\\",\\\"type\\\":\\\"observable\\\"})};\\n    var self = this;\\n    function AppViewModel() {\\n        for (var key in json_data) {\\n            var el = json_data[key];\\n            this[key] = Array.isArray(el) ? ko.observableArray(el) : ko.observable(el);\\n        }\\n        \\n        [this[\\\"formatted_val\\\"]=ko.computed(    function(){\\n        return this.formatted_vals()[parseInt(this.index())-(1)];\\n    }\\n,this)]\\n        [this[\\\"changes\\\"].subscribe((function (val){!(this.valueFromJulia[\\\"changes\\\"]) ? (WebIO.setval({\\\"name\\\":\\\"changes\\\",\\\"scope\\\":\\\"1758659271211118774\\\",\\\"id\\\":\\\"17970589484344835594\\\",\\\"type\\\":\\\"observable\\\"},val)) : undefined; return this.valueFromJulia[\\\"changes\\\"]=false}),self),this[\\\"index\\\"].subscribe((function (val){!(this.valueFromJulia[\\\"index\\\"]) ? (WebIO.setval({\\\"name\\\":\\\"index\\\",\\\"scope\\\":\\\"1758659271211118774\\\",\\\"id\\\":\\\"5366730944447948496\\\",\\\"type\\\":\\\"observable\\\"},val)) : undefined; return this.valueFromJulia[\\\"index\\\"]=false}),self)]\\n        \\n    }\\n    self.model = new AppViewModel();\\n    self.valueFromJulia = {};\\n    for (var key in json_data) {\\n        self.valueFromJulia[key] = false;\\n    }\\n    ko.applyBindings(self.model, self.dom);\\n}\\n);\\n    (WebIO.importBlock({\\\"data\\\":[{\\\"name\\\":\\\"knockout\\\",\\\"type\\\":\\\"js\\\",\\\"url\\\":\\\"\\/assetserver\\/92c2f1237c7de526b82b854e47551e089e074ac2-knockout.js\\\"},{\\\"name\\\":\\\"knockout_punches\\\",\\\"type\\\":\\\"js\\\",\\\"url\\\":\\\"\\/assetserver\\/39e4d1dceef49085ebf36edb09c92c7574c58816-knockout_punches.js\\\"}],\\\"type\\\":\\\"async_block\\\"})).then((imports) => handler.apply(this, imports));\\n}\\n\"],\"observables\":{\"changes\":{\"sync\":false,\"id\":\"17970589484344835594\",\"value\":0},\"index\":{\"sync\":true,\"id\":\"5366730944447948496\",\"value\":61}}},\"children\":[{\"props\":{\"className\":\"interact-flex-row interact-widget\"},\"nodeType\":\"DOM\",\"type\":\"node\",\"instanceArgs\":{\"namespace\":\"html\",\"tag\":\"div\"},\"children\":[{\"props\":{\"className\":\"interact-flex-row-left\"},\"nodeType\":\"DOM\",\"type\":\"node\",\"instanceArgs\":{\"namespace\":\"html\",\"tag\":\"div\"},\"children\":[{\"props\":{\"className\":\"interact \",\"style\":{\"padding\":\"5px 10px 0px 10px\"}},\"nodeType\":\"DOM\",\"type\":\"node\",\"instanceArgs\":{\"namespace\":\"html\",\"tag\":\"label\"},\"children\":[\"Minimum Amplitude y\"]}]},{\"props\":{\"className\":\"interact-flex-row-center\"},\"nodeType\":\"DOM\",\"type\":\"node\",\"instanceArgs\":{\"namespace\":\"html\",\"tag\":\"div\"},\"children\":[{\"props\":{\"max\":121,\"min\":1,\"attributes\":{\"type\":\"range\",\"data-bind\":\"numericValue: index, valueUpdate: 'input', event: {change: function (){this.changes(this.changes()+1)}}\",\"orient\":\"horizontal\"},\"step\":1,\"className\":\"slider slider is-fullwidth\",\"style\":{}},\"nodeType\":\"DOM\",\"type\":\"node\",\"instanceArgs\":{\"namespace\":\"html\",\"tag\":\"input\"},\"children\":[]}]},{\"props\":{\"className\":\"interact-flex-row-right\"},\"nodeType\":\"DOM\",\"type\":\"node\",\"instanceArgs\":{\"namespace\":\"html\",\"tag\":\"div\"},\"children\":[{\"props\":{\"attributes\":{\"data-bind\":\"text: formatted_val\"}},\"nodeType\":\"DOM\",\"type\":\"node\",\"instanceArgs\":{\"namespace\":\"html\",\"tag\":\"p\"},\"children\":[]}]}]}]}]},{\"props\":{\"className\":\"field interact-widget\"},\"nodeType\":\"DOM\",\"type\":\"node\",\"instanceArgs\":{\"namespace\":\"html\",\"tag\":\"div\"},\"children\":[{\"props\":{},\"nodeType\":\"Scope\",\"type\":\"node\",\"instanceArgs\":{\"imports\":{\"data\":[{\"name\":\"knockout\",\"type\":\"js\",\"url\":\"\\/assetserver\\/92c2f1237c7de526b82b854e47551e089e074ac2-knockout.js\"},{\"name\":\"knockout_punches\",\"type\":\"js\",\"url\":\"\\/assetserver\\/39e4d1dceef49085ebf36edb09c92c7574c58816-knockout_punches.js\"},{\"name\":null,\"type\":\"js\",\"url\":\"\\/assetserver\\/bea19c4f7d50366923bb3fbba800750b2d533f80-all.js\"},{\"name\":null,\"type\":\"css\",\"url\":\"\\/assetserver\\/c4d4f4f0ce9b24709d6d39765a20423cfb274e6a-style.css\"},{\"name\":null,\"type\":\"css\",\"url\":\"\\/assetserver\\/6513af17bee55ce33a5387a0f8cc5237a8ed2443-bulma_confined.min.css\"}],\"type\":\"async_block\"},\"id\":\"12717006654661123877\",\"handlers\":{\"changes\":[\"(function (val){return (val!=this.model[\\\"changes\\\"]()) ? (this.valueFromJulia[\\\"changes\\\"]=true, this.model[\\\"changes\\\"](val)) : undefined})\"],\"index\":[\"(function (val){return (val!=this.model[\\\"index\\\"]()) ? (this.valueFromJulia[\\\"index\\\"]=true, this.model[\\\"index\\\"](val)) : undefined})\"]},\"systemjs_options\":null,\"mount_callbacks\":[\"function () {\\n    var handler = (function (ko, koPunches) {\\n    ko.punches.enableAll();\\n    ko.bindingHandlers.numericValue = {\\n        init: function(element, valueAccessor, allBindings, data, context) {\\n            var stringified = ko.observable(ko.unwrap(valueAccessor()));\\n            stringified.subscribe(function(value) {\\n                var val = parseFloat(value);\\n                if (!isNaN(val)) {\\n                    valueAccessor()(val);\\n                }\\n            });\\n            valueAccessor().subscribe(function(value) {\\n                var str = JSON.stringify(value);\\n                if ((str == \\\"0\\\") && ([\\\"-0\\\", \\\"-0.\\\"].indexOf(stringified()) >= 0))\\n                     return;\\n                 if ([\\\"null\\\", \\\"\\\"].indexOf(str) >= 0)\\n                     return;\\n                stringified(str);\\n            });\\n            ko.applyBindingsToNode(\\n                element,\\n                {\\n                    value: stringified,\\n                    valueUpdate: allBindings.get('valueUpdate'),\\n                },\\n                context,\\n            );\\n        }\\n    };\\n    var json_data = {\\\"formatted_vals\\\":[\\\"3.0\\\",\\\"3.1\\\",\\\"3.2\\\",\\\"3.3\\\",\\\"3.4\\\",\\\"3.5\\\",\\\"3.6\\\",\\\"3.7\\\",\\\"3.8\\\",\\\"3.9\\\",\\\"4.0\\\",\\\"4.1\\\",\\\"4.2\\\",\\\"4.3\\\",\\\"4.4\\\",\\\"4.5\\\",\\\"4.6\\\",\\\"4.7\\\",\\\"4.8\\\",\\\"4.9\\\",\\\"5.0\\\",\\\"5.1\\\",\\\"5.2\\\",\\\"5.3\\\",\\\"5.4\\\",\\\"5.5\\\",\\\"5.6\\\",\\\"5.7\\\",\\\"5.8\\\",\\\"5.9\\\",\\\"6.0\\\",\\\"6.1\\\",\\\"6.2\\\",\\\"6.3\\\",\\\"6.4\\\",\\\"6.5\\\",\\\"6.6\\\",\\\"6.7\\\",\\\"6.8\\\",\\\"6.9\\\",\\\"7.0\\\",\\\"7.1\\\",\\\"7.2\\\",\\\"7.3\\\",\\\"7.4\\\",\\\"7.5\\\",\\\"7.6\\\",\\\"7.7\\\",\\\"7.8\\\",\\\"7.9\\\",\\\"8.0\\\",\\\"8.1\\\",\\\"8.2\\\",\\\"8.3\\\",\\\"8.4\\\",\\\"8.5\\\",\\\"8.6\\\",\\\"8.7\\\",\\\"8.8\\\",\\\"8.9\\\",\\\"9.0\\\",\\\"9.1\\\",\\\"9.2\\\",\\\"9.3\\\",\\\"9.4\\\",\\\"9.5\\\",\\\"9.6\\\",\\\"9.7\\\",\\\"9.8\\\",\\\"9.9\\\",\\\"10.0\\\",\\\"10.1\\\",\\\"10.2\\\",\\\"10.3\\\",\\\"10.4\\\",\\\"10.5\\\",\\\"10.6\\\",\\\"10.7\\\",\\\"10.8\\\",\\\"10.9\\\",\\\"11.0\\\",\\\"11.1\\\",\\\"11.2\\\",\\\"11.3\\\",\\\"11.4\\\",\\\"11.5\\\",\\\"11.6\\\",\\\"11.7\\\",\\\"11.8\\\",\\\"11.9\\\",\\\"12.0\\\",\\\"12.1\\\",\\\"12.2\\\",\\\"12.3\\\",\\\"12.4\\\",\\\"12.5\\\",\\\"12.6\\\",\\\"12.7\\\",\\\"12.8\\\",\\\"12.9\\\",\\\"13.0\\\",\\\"13.1\\\",\\\"13.2\\\",\\\"13.3\\\",\\\"13.4\\\",\\\"13.5\\\",\\\"13.6\\\",\\\"13.7\\\",\\\"13.8\\\",\\\"13.9\\\",\\\"14.0\\\",\\\"14.1\\\",\\\"14.2\\\",\\\"14.3\\\",\\\"14.4\\\",\\\"14.5\\\",\\\"14.6\\\",\\\"14.7\\\",\\\"14.8\\\",\\\"14.9\\\",\\\"15.0\\\"],\\\"changes\\\":WebIO.getval({\\\"name\\\":\\\"changes\\\",\\\"scope\\\":\\\"12717006654661123877\\\",\\\"id\\\":\\\"17787353908685120712\\\",\\\"type\\\":\\\"observable\\\"}),\\\"index\\\":WebIO.getval({\\\"name\\\":\\\"index\\\",\\\"scope\\\":\\\"12717006654661123877\\\",\\\"id\\\":\\\"253827931022671534\\\",\\\"type\\\":\\\"observable\\\"})};\\n    var self = this;\\n    function AppViewModel() {\\n        for (var key in json_data) {\\n            var el = json_data[key];\\n            this[key] = Array.isArray(el) ? ko.observableArray(el) : ko.observable(el);\\n        }\\n        \\n        [this[\\\"formatted_val\\\"]=ko.computed(    function(){\\n        return this.formatted_vals()[parseInt(this.index())-(1)];\\n    }\\n,this)]\\n        [this[\\\"changes\\\"].subscribe((function (val){!(this.valueFromJulia[\\\"changes\\\"]) ? (WebIO.setval({\\\"name\\\":\\\"changes\\\",\\\"scope\\\":\\\"12717006654661123877\\\",\\\"id\\\":\\\"17787353908685120712\\\",\\\"type\\\":\\\"observable\\\"},val)) : undefined; return this.valueFromJulia[\\\"changes\\\"]=false}),self),this[\\\"index\\\"].subscribe((function (val){!(this.valueFromJulia[\\\"index\\\"]) ? (WebIO.setval({\\\"name\\\":\\\"index\\\",\\\"scope\\\":\\\"12717006654661123877\\\",\\\"id\\\":\\\"253827931022671534\\\",\\\"type\\\":\\\"observable\\\"},val)) : undefined; return this.valueFromJulia[\\\"index\\\"]=false}),self)]\\n        \\n    }\\n    self.model = new AppViewModel();\\n    self.valueFromJulia = {};\\n    for (var key in json_data) {\\n        self.valueFromJulia[key] = false;\\n    }\\n    ko.applyBindings(self.model, self.dom);\\n}\\n);\\n    (WebIO.importBlock({\\\"data\\\":[{\\\"name\\\":\\\"knockout\\\",\\\"type\\\":\\\"js\\\",\\\"url\\\":\\\"\\/assetserver\\/92c2f1237c7de526b82b854e47551e089e074ac2-knockout.js\\\"},{\\\"name\\\":\\\"knockout_punches\\\",\\\"type\\\":\\\"js\\\",\\\"url\\\":\\\"\\/assetserver\\/39e4d1dceef49085ebf36edb09c92c7574c58816-knockout_punches.js\\\"}],\\\"type\\\":\\\"async_block\\\"})).then((imports) => handler.apply(this, imports));\\n}\\n\"],\"observables\":{\"changes\":{\"sync\":false,\"id\":\"17787353908685120712\",\"value\":0},\"index\":{\"sync\":true,\"id\":\"253827931022671534\",\"value\":61}}},\"children\":[{\"props\":{\"className\":\"interact-flex-row interact-widget\"},\"nodeType\":\"DOM\",\"type\":\"node\",\"instanceArgs\":{\"namespace\":\"html\",\"tag\":\"div\"},\"children\":[{\"props\":{\"className\":\"interact-flex-row-left\"},\"nodeType\":\"DOM\",\"type\":\"node\",\"instanceArgs\":{\"namespace\":\"html\",\"tag\":\"div\"},\"children\":[{\"props\":{\"className\":\"interact \",\"style\":{\"padding\":\"5px 10px 0px 10px\"}},\"nodeType\":\"DOM\",\"type\":\"node\",\"instanceArgs\":{\"namespace\":\"html\",\"tag\":\"label\"},\"children\":[\"Maximum Amplitude y\"]}]},{\"props\":{\"className\":\"interact-flex-row-center\"},\"nodeType\":\"DOM\",\"type\":\"node\",\"instanceArgs\":{\"namespace\":\"html\",\"tag\":\"div\"},\"children\":[{\"props\":{\"max\":121,\"min\":1,\"attributes\":{\"type\":\"range\",\"data-bind\":\"numericValue: index, valueUpdate: 'input', event: {change: function (){this.changes(this.changes()+1)}}\",\"orient\":\"horizontal\"},\"step\":1,\"className\":\"slider slider is-fullwidth\",\"style\":{}},\"nodeType\":\"DOM\",\"type\":\"node\",\"instanceArgs\":{\"namespace\":\"html\",\"tag\":\"input\"},\"children\":[]}]},{\"props\":{\"className\":\"interact-flex-row-right\"},\"nodeType\":\"DOM\",\"type\":\"node\",\"instanceArgs\":{\"namespace\":\"html\",\"tag\":\"div\"},\"children\":[{\"props\":{\"attributes\":{\"data-bind\":\"text: formatted_val\"}},\"nodeType\":\"DOM\",\"type\":\"node\",\"instanceArgs\":{\"namespace\":\"html\",\"tag\":\"p\"},\"children\":[]}]}]}]}]},{\"props\":{\"className\":\"field interact-widget\"},\"nodeType\":\"DOM\",\"type\":\"node\",\"instanceArgs\":{\"namespace\":\"html\",\"tag\":\"div\"},\"children\":[{\"props\":{},\"nodeType\":\"Scope\",\"type\":\"node\",\"instanceArgs\":{\"imports\":{\"data\":[{\"name\":\"knockout\",\"type\":\"js\",\"url\":\"\\/assetserver\\/92c2f1237c7de526b82b854e47551e089e074ac2-knockout.js\"},{\"name\":\"knockout_punches\",\"type\":\"js\",\"url\":\"\\/assetserver\\/39e4d1dceef49085ebf36edb09c92c7574c58816-knockout_punches.js\"},{\"name\":null,\"type\":\"js\",\"url\":\"\\/assetserver\\/bea19c4f7d50366923bb3fbba800750b2d533f80-all.js\"},{\"name\":null,\"type\":\"css\",\"url\":\"\\/assetserver\\/c4d4f4f0ce9b24709d6d39765a20423cfb274e6a-style.css\"},{\"name\":null,\"type\":\"css\",\"url\":\"\\/assetserver\\/6513af17bee55ce33a5387a0f8cc5237a8ed2443-bulma_confined.min.css\"}],\"type\":\"async_block\"},\"id\":\"12027068802990044429\",\"handlers\":{\"changes\":[\"(function (val){return (val!=this.model[\\\"changes\\\"]()) ? (this.valueFromJulia[\\\"changes\\\"]=true, this.model[\\\"changes\\\"](val)) : undefined})\"],\"index\":[\"(function (val){return (val!=this.model[\\\"index\\\"]()) ? (this.valueFromJulia[\\\"index\\\"]=true, this.model[\\\"index\\\"](val)) : undefined})\"]},\"systemjs_options\":null,\"mount_callbacks\":[\"function () {\\n    var handler = (function (ko, koPunches) {\\n    ko.punches.enableAll();\\n    ko.bindingHandlers.numericValue = {\\n        init: function(element, valueAccessor, allBindings, data, context) {\\n            var stringified = ko.observable(ko.unwrap(valueAccessor()));\\n            stringified.subscribe(function(value) {\\n                var val = parseFloat(value);\\n                if (!isNaN(val)) {\\n                    valueAccessor()(val);\\n                }\\n            });\\n            valueAccessor().subscribe(function(value) {\\n                var str = JSON.stringify(value);\\n                if ((str == \\\"0\\\") && ([\\\"-0\\\", \\\"-0.\\\"].indexOf(stringified()) >= 0))\\n                     return;\\n                 if ([\\\"null\\\", \\\"\\\"].indexOf(str) >= 0)\\n                     return;\\n                stringified(str);\\n            });\\n            ko.applyBindingsToNode(\\n                element,\\n                {\\n                    value: stringified,\\n                    valueUpdate: allBindings.get('valueUpdate'),\\n                },\\n                context,\\n            );\\n        }\\n    };\\n    var json_data = {\\\"formatted_vals\\\":[\\\"1.0\\\",\\\"1.1\\\",\\\"1.2\\\",\\\"1.3\\\",\\\"1.4\\\",\\\"1.5\\\",\\\"1.6\\\",\\\"1.7\\\",\\\"1.8\\\",\\\"1.9\\\",\\\"2.0\\\",\\\"2.1\\\",\\\"2.2\\\",\\\"2.3\\\",\\\"2.4\\\",\\\"2.5\\\",\\\"2.6\\\",\\\"2.7\\\",\\\"2.8\\\",\\\"2.9\\\",\\\"3.0\\\",\\\"3.1\\\",\\\"3.2\\\",\\\"3.3\\\",\\\"3.4\\\",\\\"3.5\\\",\\\"3.6\\\",\\\"3.7\\\",\\\"3.8\\\",\\\"3.9\\\",\\\"4.0\\\",\\\"4.1\\\",\\\"4.2\\\",\\\"4.3\\\",\\\"4.4\\\",\\\"4.5\\\",\\\"4.6\\\",\\\"4.7\\\",\\\"4.8\\\",\\\"4.9\\\",\\\"5.0\\\",\\\"5.1\\\",\\\"5.2\\\",\\\"5.3\\\",\\\"5.4\\\",\\\"5.5\\\",\\\"5.6\\\",\\\"5.7\\\",\\\"5.8\\\",\\\"5.9\\\",\\\"6.0\\\",\\\"6.1\\\",\\\"6.2\\\",\\\"6.3\\\",\\\"6.4\\\",\\\"6.5\\\",\\\"6.6\\\",\\\"6.7\\\",\\\"6.8\\\",\\\"6.9\\\",\\\"7.0\\\",\\\"7.1\\\",\\\"7.2\\\",\\\"7.3\\\",\\\"7.4\\\",\\\"7.5\\\",\\\"7.6\\\",\\\"7.7\\\",\\\"7.8\\\",\\\"7.9\\\",\\\"8.0\\\",\\\"8.1\\\",\\\"8.2\\\",\\\"8.3\\\",\\\"8.4\\\",\\\"8.5\\\",\\\"8.6\\\",\\\"8.7\\\",\\\"8.8\\\",\\\"8.9\\\",\\\"9.0\\\",\\\"9.1\\\",\\\"9.2\\\",\\\"9.3\\\",\\\"9.4\\\",\\\"9.5\\\",\\\"9.6\\\",\\\"9.7\\\",\\\"9.8\\\",\\\"9.9\\\",\\\"10.0\\\",\\\"10.1\\\",\\\"10.2\\\",\\\"10.3\\\",\\\"10.4\\\",\\\"10.5\\\",\\\"10.6\\\",\\\"10.7\\\",\\\"10.8\\\",\\\"10.9\\\",\\\"11.0\\\",\\\"11.1\\\",\\\"11.2\\\",\\\"11.3\\\",\\\"11.4\\\",\\\"11.5\\\",\\\"11.6\\\",\\\"11.7\\\",\\\"11.8\\\",\\\"11.9\\\",\\\"12.0\\\"],\\\"changes\\\":WebIO.getval({\\\"name\\\":\\\"changes\\\",\\\"scope\\\":\\\"12027068802990044429\\\",\\\"id\\\":\\\"3112631625685253626\\\",\\\"type\\\":\\\"observable\\\"}),\\\"index\\\":WebIO.getval({\\\"name\\\":\\\"index\\\",\\\"scope\\\":\\\"12027068802990044429\\\",\\\"id\\\":\\\"18108800750298058482\\\",\\\"type\\\":\\\"observable\\\"})};\\n    var self = this;\\n    function AppViewModel() {\\n        for (var key in json_data) {\\n            var el = json_data[key];\\n            this[key] = Array.isArray(el) ? ko.observableArray(el) : ko.observable(el);\\n        }\\n        \\n        [this[\\\"formatted_val\\\"]=ko.computed(    function(){\\n        return this.formatted_vals()[parseInt(this.index())-(1)];\\n    }\\n,this)]\\n        [this[\\\"changes\\\"].subscribe((function (val){!(this.valueFromJulia[\\\"changes\\\"]) ? (WebIO.setval({\\\"name\\\":\\\"changes\\\",\\\"scope\\\":\\\"12027068802990044429\\\",\\\"id\\\":\\\"3112631625685253626\\\",\\\"type\\\":\\\"observable\\\"},val)) : undefined; return this.valueFromJulia[\\\"changes\\\"]=false}),self),this[\\\"index\\\"].subscribe((function (val){!(this.valueFromJulia[\\\"index\\\"]) ? (WebIO.setval({\\\"name\\\":\\\"index\\\",\\\"scope\\\":\\\"12027068802990044429\\\",\\\"id\\\":\\\"18108800750298058482\\\",\\\"type\\\":\\\"observable\\\"},val)) : undefined; return this.valueFromJulia[\\\"index\\\"]=false}),self)]\\n        \\n    }\\n    self.model = new AppViewModel();\\n    self.valueFromJulia = {};\\n    for (var key in json_data) {\\n        self.valueFromJulia[key] = false;\\n    }\\n    ko.applyBindings(self.model, self.dom);\\n}\\n);\\n    (WebIO.importBlock({\\\"data\\\":[{\\\"name\\\":\\\"knockout\\\",\\\"type\\\":\\\"js\\\",\\\"url\\\":\\\"\\/assetserver\\/92c2f1237c7de526b82b854e47551e089e074ac2-knockout.js\\\"},{\\\"name\\\":\\\"knockout_punches\\\",\\\"type\\\":\\\"js\\\",\\\"url\\\":\\\"\\/assetserver\\/39e4d1dceef49085ebf36edb09c92c7574c58816-knockout_punches.js\\\"}],\\\"type\\\":\\\"async_block\\\"})).then((imports) => handler.apply(this, imports));\\n}\\n\"],\"observables\":{\"changes\":{\"sync\":false,\"id\":\"3112631625685253626\",\"value\":0},\"index\":{\"sync\":true,\"id\":\"18108800750298058482\",\"value\":56}}},\"children\":[{\"props\":{\"className\":\"interact-flex-row interact-widget\"},\"nodeType\":\"DOM\",\"type\":\"node\",\"instanceArgs\":{\"namespace\":\"html\",\"tag\":\"div\"},\"children\":[{\"props\":{\"className\":\"interact-flex-row-left\"},\"nodeType\":\"DOM\",\"type\":\"node\",\"instanceArgs\":{\"namespace\":\"html\",\"tag\":\"div\"},\"children\":[{\"props\":{\"className\":\"interact \",\"style\":{\"padding\":\"5px 10px 0px 10px\"}},\"nodeType\":\"DOM\",\"type\":\"node\",\"instanceArgs\":{\"namespace\":\"html\",\"tag\":\"label\"},\"children\":[\"Minimum Amplitude y\"]}]},{\"props\":{\"className\":\"interact-flex-row-center\"},\"nodeType\":\"DOM\",\"type\":\"node\",\"instanceArgs\":{\"namespace\":\"html\",\"tag\":\"div\"},\"children\":[{\"props\":{\"max\":111,\"min\":1,\"attributes\":{\"type\":\"range\",\"data-bind\":\"numericValue: index, valueUpdate: 'input', event: {change: function (){this.changes(this.changes()+1)}}\",\"orient\":\"horizontal\"},\"step\":1,\"className\":\"slider slider is-fullwidth\",\"style\":{}},\"nodeType\":\"DOM\",\"type\":\"node\",\"instanceArgs\":{\"namespace\":\"html\",\"tag\":\"input\"},\"children\":[]}]},{\"props\":{\"className\":\"interact-flex-row-right\"},\"nodeType\":\"DOM\",\"type\":\"node\",\"instanceArgs\":{\"namespace\":\"html\",\"tag\":\"div\"},\"children\":[{\"props\":{\"attributes\":{\"data-bind\":\"text: formatted_val\"}},\"nodeType\":\"DOM\",\"type\":\"node\",\"instanceArgs\":{\"namespace\":\"html\",\"tag\":\"p\"},\"children\":[]}]}]}]}]},{\"props\":{\"className\":\"field interact-widget\"},\"nodeType\":\"DOM\",\"type\":\"node\",\"instanceArgs\":{\"namespace\":\"html\",\"tag\":\"div\"},\"children\":[{\"props\":{},\"nodeType\":\"Scope\",\"type\":\"node\",\"instanceArgs\":{\"imports\":{\"data\":[{\"name\":\"knockout\",\"type\":\"js\",\"url\":\"\\/assetserver\\/92c2f1237c7de526b82b854e47551e089e074ac2-knockout.js\"},{\"name\":\"knockout_punches\",\"type\":\"js\",\"url\":\"\\/assetserver\\/39e4d1dceef49085ebf36edb09c92c7574c58816-knockout_punches.js\"},{\"name\":null,\"type\":\"js\",\"url\":\"\\/assetserver\\/bea19c4f7d50366923bb3fbba800750b2d533f80-all.js\"},{\"name\":null,\"type\":\"css\",\"url\":\"\\/assetserver\\/c4d4f4f0ce9b24709d6d39765a20423cfb274e6a-style.css\"},{\"name\":null,\"type\":\"css\",\"url\":\"\\/assetserver\\/6513af17bee55ce33a5387a0f8cc5237a8ed2443-bulma_confined.min.css\"}],\"type\":\"async_block\"},\"id\":\"13374975451862274734\",\"handlers\":{\"changes\":[\"(function (val){return (val!=this.model[\\\"changes\\\"]()) ? (this.valueFromJulia[\\\"changes\\\"]=true, this.model[\\\"changes\\\"](val)) : undefined})\"],\"index\":[\"(function (val){return (val!=this.model[\\\"index\\\"]()) ? (this.valueFromJulia[\\\"index\\\"]=true, this.model[\\\"index\\\"](val)) : undefined})\"]},\"systemjs_options\":null,\"mount_callbacks\":[\"function () {\\n    var handler = (function (ko, koPunches) {\\n    ko.punches.enableAll();\\n    ko.bindingHandlers.numericValue = {\\n        init: function(element, valueAccessor, allBindings, data, context) {\\n            var stringified = ko.observable(ko.unwrap(valueAccessor()));\\n            stringified.subscribe(function(value) {\\n                var val = parseFloat(value);\\n                if (!isNaN(val)) {\\n                    valueAccessor()(val);\\n                }\\n            });\\n            valueAccessor().subscribe(function(value) {\\n                var str = JSON.stringify(value);\\n                if ((str == \\\"0\\\") && ([\\\"-0\\\", \\\"-0.\\\"].indexOf(stringified()) >= 0))\\n                     return;\\n                 if ([\\\"null\\\", \\\"\\\"].indexOf(str) >= 0)\\n                     return;\\n                stringified(str);\\n            });\\n            ko.applyBindingsToNode(\\n                element,\\n                {\\n                    value: stringified,\\n                    valueUpdate: allBindings.get('valueUpdate'),\\n                },\\n                context,\\n            );\\n        }\\n    };\\n    var json_data = {\\\"formatted_vals\\\":[\\\"1.0\\\",\\\"1.1\\\",\\\"1.2\\\",\\\"1.3\\\",\\\"1.4\\\",\\\"1.5\\\",\\\"1.6\\\",\\\"1.7\\\",\\\"1.8\\\",\\\"1.9\\\",\\\"2.0\\\",\\\"2.1\\\",\\\"2.2\\\",\\\"2.3\\\",\\\"2.4\\\",\\\"2.5\\\",\\\"2.6\\\",\\\"2.7\\\",\\\"2.8\\\",\\\"2.9\\\",\\\"3.0\\\",\\\"3.1\\\",\\\"3.2\\\",\\\"3.3\\\",\\\"3.4\\\",\\\"3.5\\\",\\\"3.6\\\",\\\"3.7\\\",\\\"3.8\\\",\\\"3.9\\\",\\\"4.0\\\",\\\"4.1\\\",\\\"4.2\\\",\\\"4.3\\\",\\\"4.4\\\",\\\"4.5\\\",\\\"4.6\\\",\\\"4.7\\\",\\\"4.8\\\",\\\"4.9\\\",\\\"5.0\\\",\\\"5.1\\\",\\\"5.2\\\",\\\"5.3\\\",\\\"5.4\\\",\\\"5.5\\\",\\\"5.6\\\",\\\"5.7\\\",\\\"5.8\\\",\\\"5.9\\\",\\\"6.0\\\",\\\"6.1\\\",\\\"6.2\\\",\\\"6.3\\\",\\\"6.4\\\",\\\"6.5\\\",\\\"6.6\\\",\\\"6.7\\\",\\\"6.8\\\",\\\"6.9\\\",\\\"7.0\\\",\\\"7.1\\\",\\\"7.2\\\",\\\"7.3\\\",\\\"7.4\\\",\\\"7.5\\\",\\\"7.6\\\",\\\"7.7\\\",\\\"7.8\\\",\\\"7.9\\\",\\\"8.0\\\",\\\"8.1\\\",\\\"8.2\\\",\\\"8.3\\\",\\\"8.4\\\",\\\"8.5\\\",\\\"8.6\\\",\\\"8.7\\\",\\\"8.8\\\",\\\"8.9\\\",\\\"9.0\\\",\\\"9.1\\\",\\\"9.2\\\",\\\"9.3\\\",\\\"9.4\\\",\\\"9.5\\\",\\\"9.6\\\",\\\"9.7\\\",\\\"9.8\\\",\\\"9.9\\\",\\\"10.0\\\",\\\"10.1\\\",\\\"10.2\\\",\\\"10.3\\\",\\\"10.4\\\",\\\"10.5\\\",\\\"10.6\\\",\\\"10.7\\\",\\\"10.8\\\",\\\"10.9\\\",\\\"11.0\\\",\\\"11.1\\\",\\\"11.2\\\",\\\"11.3\\\",\\\"11.4\\\",\\\"11.5\\\",\\\"11.6\\\",\\\"11.7\\\",\\\"11.8\\\",\\\"11.9\\\",\\\"12.0\\\"],\\\"changes\\\":WebIO.getval({\\\"name\\\":\\\"changes\\\",\\\"scope\\\":\\\"13374975451862274734\\\",\\\"id\\\":\\\"12096891833643461506\\\",\\\"type\\\":\\\"observable\\\"}),\\\"index\\\":WebIO.getval({\\\"name\\\":\\\"index\\\",\\\"scope\\\":\\\"13374975451862274734\\\",\\\"id\\\":\\\"3284952688702251102\\\",\\\"type\\\":\\\"observable\\\"})};\\n    var self = this;\\n    function AppViewModel() {\\n        for (var key in json_data) {\\n            var el = json_data[key];\\n            this[key] = Array.isArray(el) ? ko.observableArray(el) : ko.observable(el);\\n        }\\n        \\n        [this[\\\"formatted_val\\\"]=ko.computed(    function(){\\n        return this.formatted_vals()[parseInt(this.index())-(1)];\\n    }\\n,this)]\\n        [this[\\\"changes\\\"].subscribe((function (val){!(this.valueFromJulia[\\\"changes\\\"]) ? (WebIO.setval({\\\"name\\\":\\\"changes\\\",\\\"scope\\\":\\\"13374975451862274734\\\",\\\"id\\\":\\\"12096891833643461506\\\",\\\"type\\\":\\\"observable\\\"},val)) : undefined; return this.valueFromJulia[\\\"changes\\\"]=false}),self),this[\\\"index\\\"].subscribe((function (val){!(this.valueFromJulia[\\\"index\\\"]) ? (WebIO.setval({\\\"name\\\":\\\"index\\\",\\\"scope\\\":\\\"13374975451862274734\\\",\\\"id\\\":\\\"3284952688702251102\\\",\\\"type\\\":\\\"observable\\\"},val)) : undefined; return this.valueFromJulia[\\\"index\\\"]=false}),self)]\\n        \\n    }\\n    self.model = new AppViewModel();\\n    self.valueFromJulia = {};\\n    for (var key in json_data) {\\n        self.valueFromJulia[key] = false;\\n    }\\n    ko.applyBindings(self.model, self.dom);\\n}\\n);\\n    (WebIO.importBlock({\\\"data\\\":[{\\\"name\\\":\\\"knockout\\\",\\\"type\\\":\\\"js\\\",\\\"url\\\":\\\"\\/assetserver\\/92c2f1237c7de526b82b854e47551e089e074ac2-knockout.js\\\"},{\\\"name\\\":\\\"knockout_punches\\\",\\\"type\\\":\\\"js\\\",\\\"url\\\":\\\"\\/assetserver\\/39e4d1dceef49085ebf36edb09c92c7574c58816-knockout_punches.js\\\"}],\\\"type\\\":\\\"async_block\\\"})).then((imports) => handler.apply(this, imports));\\n}\\n\"],\"observables\":{\"changes\":{\"sync\":false,\"id\":\"12096891833643461506\",\"value\":0},\"index\":{\"sync\":true,\"id\":\"3284952688702251102\",\"value\":56}}},\"children\":[{\"props\":{\"className\":\"interact-flex-row interact-widget\"},\"nodeType\":\"DOM\",\"type\":\"node\",\"instanceArgs\":{\"namespace\":\"html\",\"tag\":\"div\"},\"children\":[{\"props\":{\"className\":\"interact-flex-row-left\"},\"nodeType\":\"DOM\",\"type\":\"node\",\"instanceArgs\":{\"namespace\":\"html\",\"tag\":\"div\"},\"children\":[{\"props\":{\"className\":\"interact \",\"style\":{\"padding\":\"5px 10px 0px 10px\"}},\"nodeType\":\"DOM\",\"type\":\"node\",\"instanceArgs\":{\"namespace\":\"html\",\"tag\":\"label\"},\"children\":[\"Maximum Amplitude y\"]}]},{\"props\":{\"className\":\"interact-flex-row-center\"},\"nodeType\":\"DOM\",\"type\":\"node\",\"instanceArgs\":{\"namespace\":\"html\",\"tag\":\"div\"},\"children\":[{\"props\":{\"max\":111,\"min\":1,\"attributes\":{\"type\":\"range\",\"data-bind\":\"numericValue: index, valueUpdate: 'input', event: {change: function (){this.changes(this.changes()+1)}}\",\"orient\":\"horizontal\"},\"step\":1,\"className\":\"slider slider is-fullwidth\",\"style\":{}},\"nodeType\":\"DOM\",\"type\":\"node\",\"instanceArgs\":{\"namespace\":\"html\",\"tag\":\"input\"},\"children\":[]}]},{\"props\":{\"className\":\"interact-flex-row-right\"},\"nodeType\":\"DOM\",\"type\":\"node\",\"instanceArgs\":{\"namespace\":\"html\",\"tag\":\"div\"},\"children\":[{\"props\":{\"attributes\":{\"data-bind\":\"text: formatted_val\"}},\"nodeType\":\"DOM\",\"type\":\"node\",\"instanceArgs\":{\"namespace\":\"html\",\"tag\":\"p\"},\"children\":[]}]}]}]}]},{\"props\":{\"className\":\"field interact-widget\"},\"nodeType\":\"DOM\",\"type\":\"node\",\"instanceArgs\":{\"namespace\":\"html\",\"tag\":\"div\"},\"children\":[{\"props\":{},\"nodeType\":\"Scope\",\"type\":\"node\",\"instanceArgs\":{\"imports\":{\"data\":[{\"name\":\"knockout\",\"type\":\"js\",\"url\":\"\\/assetserver\\/92c2f1237c7de526b82b854e47551e089e074ac2-knockout.js\"},{\"name\":\"knockout_punches\",\"type\":\"js\",\"url\":\"\\/assetserver\\/39e4d1dceef49085ebf36edb09c92c7574c58816-knockout_punches.js\"},{\"name\":null,\"type\":\"js\",\"url\":\"\\/assetserver\\/bea19c4f7d50366923bb3fbba800750b2d533f80-all.js\"},{\"name\":null,\"type\":\"css\",\"url\":\"\\/assetserver\\/c4d4f4f0ce9b24709d6d39765a20423cfb274e6a-style.css\"},{\"name\":null,\"type\":\"css\",\"url\":\"\\/assetserver\\/6513af17bee55ce33a5387a0f8cc5237a8ed2443-bulma_confined.min.css\"}],\"type\":\"async_block\"},\"id\":\"6669551686635630009\",\"handlers\":{\"changes\":[\"(function (val){return (val!=this.model[\\\"changes\\\"]()) ? (this.valueFromJulia[\\\"changes\\\"]=true, this.model[\\\"changes\\\"](val)) : undefined})\"],\"index\":[\"(function (val){return (val!=this.model[\\\"index\\\"]()) ? (this.valueFromJulia[\\\"index\\\"]=true, this.model[\\\"index\\\"](val)) : undefined})\"]},\"systemjs_options\":null,\"mount_callbacks\":[\"function () {\\n    var handler = (function (ko, koPunches) {\\n    ko.punches.enableAll();\\n    ko.bindingHandlers.numericValue = {\\n        init: function(element, valueAccessor, allBindings, data, context) {\\n            var stringified = ko.observable(ko.unwrap(valueAccessor()));\\n            stringified.subscribe(function(value) {\\n                var val = parseFloat(value);\\n                if (!isNaN(val)) {\\n                    valueAccessor()(val);\\n                }\\n            });\\n            valueAccessor().subscribe(function(value) {\\n                var str = JSON.stringify(value);\\n                if ((str == \\\"0\\\") && ([\\\"-0\\\", \\\"-0.\\\"].indexOf(stringified()) >= 0))\\n                     return;\\n                 if ([\\\"null\\\", \\\"\\\"].indexOf(str) >= 0)\\n                     return;\\n                stringified(str);\\n            });\\n            ko.applyBindingsToNode(\\n                element,\\n                {\\n                    value: stringified,\\n                    valueUpdate: allBindings.get('valueUpdate'),\\n                },\\n                context,\\n            );\\n        }\\n    };\\n    var json_data = {\\\"formatted_vals\\\":[\\\"2\\\",\\\"3\\\",\\\"4\\\",\\\"5\\\",\\\"6\\\",\\\"7\\\",\\\"8\\\",\\\"9\\\",\\\"10\\\",\\\"11\\\",\\\"12\\\",\\\"13\\\",\\\"14\\\",\\\"15\\\",\\\"16\\\",\\\"17\\\",\\\"18\\\",\\\"19\\\",\\\"20\\\"],\\\"changes\\\":WebIO.getval({\\\"name\\\":\\\"changes\\\",\\\"scope\\\":\\\"6669551686635630009\\\",\\\"id\\\":\\\"401385438804554485\\\",\\\"type\\\":\\\"observable\\\"}),\\\"index\\\":WebIO.getval({\\\"name\\\":\\\"index\\\",\\\"scope\\\":\\\"6669551686635630009\\\",\\\"id\\\":\\\"16801075036598602591\\\",\\\"type\\\":\\\"observable\\\"})};\\n    var self = this;\\n    function AppViewModel() {\\n        for (var key in json_data) {\\n            var el = json_data[key];\\n            this[key] = Array.isArray(el) ? ko.observableArray(el) : ko.observable(el);\\n        }\\n        \\n        [this[\\\"formatted_val\\\"]=ko.computed(    function(){\\n        return this.formatted_vals()[parseInt(this.index())-(1)];\\n    }\\n,this)]\\n        [this[\\\"changes\\\"].subscribe((function (val){!(this.valueFromJulia[\\\"changes\\\"]) ? (WebIO.setval({\\\"name\\\":\\\"changes\\\",\\\"scope\\\":\\\"6669551686635630009\\\",\\\"id\\\":\\\"401385438804554485\\\",\\\"type\\\":\\\"observable\\\"},val)) : undefined; return this.valueFromJulia[\\\"changes\\\"]=false}),self),this[\\\"index\\\"].subscribe((function (val){!(this.valueFromJulia[\\\"index\\\"]) ? (WebIO.setval({\\\"name\\\":\\\"index\\\",\\\"scope\\\":\\\"6669551686635630009\\\",\\\"id\\\":\\\"16801075036598602591\\\",\\\"type\\\":\\\"observable\\\"},val)) : undefined; return this.valueFromJulia[\\\"index\\\"]=false}),self)]\\n        \\n    }\\n    self.model = new AppViewModel();\\n    self.valueFromJulia = {};\\n    for (var key in json_data) {\\n        self.valueFromJulia[key] = false;\\n    }\\n    ko.applyBindings(self.model, self.dom);\\n}\\n);\\n    (WebIO.importBlock({\\\"data\\\":[{\\\"name\\\":\\\"knockout\\\",\\\"type\\\":\\\"js\\\",\\\"url\\\":\\\"\\/assetserver\\/92c2f1237c7de526b82b854e47551e089e074ac2-knockout.js\\\"},{\\\"name\\\":\\\"knockout_punches\\\",\\\"type\\\":\\\"js\\\",\\\"url\\\":\\\"\\/assetserver\\/39e4d1dceef49085ebf36edb09c92c7574c58816-knockout_punches.js\\\"}],\\\"type\\\":\\\"async_block\\\"})).then((imports) => handler.apply(this, imports));\\n}\\n\"],\"observables\":{\"changes\":{\"sync\":false,\"id\":\"401385438804554485\",\"value\":0},\"index\":{\"sync\":true,\"id\":\"16801075036598602591\",\"value\":10}}},\"children\":[{\"props\":{\"className\":\"interact-flex-row interact-widget\"},\"nodeType\":\"DOM\",\"type\":\"node\",\"instanceArgs\":{\"namespace\":\"html\",\"tag\":\"div\"},\"children\":[{\"props\":{\"className\":\"interact-flex-row-left\"},\"nodeType\":\"DOM\",\"type\":\"node\",\"instanceArgs\":{\"namespace\":\"html\",\"tag\":\"div\"},\"children\":[{\"props\":{\"className\":\"interact \",\"style\":{\"padding\":\"5px 10px 0px 10px\"}},\"nodeType\":\"DOM\",\"type\":\"node\",\"instanceArgs\":{\"namespace\":\"html\",\"tag\":\"label\"},\"children\":[\"Height\"]}]},{\"props\":{\"className\":\"interact-flex-row-center\"},\"nodeType\":\"DOM\",\"type\":\"node\",\"instanceArgs\":{\"namespace\":\"html\",\"tag\":\"div\"},\"children\":[{\"props\":{\"max\":19,\"min\":1,\"attributes\":{\"type\":\"range\",\"data-bind\":\"numericValue: index, valueUpdate: 'input', event: {change: function (){this.changes(this.changes()+1)}}\",\"orient\":\"horizontal\"},\"step\":1,\"className\":\"slider slider is-fullwidth\",\"style\":{}},\"nodeType\":\"DOM\",\"type\":\"node\",\"instanceArgs\":{\"namespace\":\"html\",\"tag\":\"input\"},\"children\":[]}]},{\"props\":{\"className\":\"interact-flex-row-right\"},\"nodeType\":\"DOM\",\"type\":\"node\",\"instanceArgs\":{\"namespace\":\"html\",\"tag\":\"div\"},\"children\":[{\"props\":{\"attributes\":{\"data-bind\":\"text: formatted_val\"}},\"nodeType\":\"DOM\",\"type\":\"node\",\"instanceArgs\":{\"namespace\":\"html\",\"tag\":\"p\"},\"children\":[]}]}]}]}]},{\"props\":{},\"nodeType\":\"Scope\",\"type\":\"node\",\"instanceArgs\":{\"imports\":{\"data\":[],\"type\":\"async_block\"},\"id\":\"4709231605141208229\",\"handlers\":{},\"systemjs_options\":null,\"mount_callbacks\":[],\"observables\":{\"obs-node\":{\"sync\":false,\"id\":\"9800568968357882205\",\"value\":{\"props\":{\"className\":\"interact-flex-row interact-widget\"},\"nodeType\":\"DOM\",\"type\":\"node\",\"instanceArgs\":{\"namespace\":\"html\",\"tag\":\"div\"},\"children\":[{\"props\":{\"setInnerHtml\":\"<pre>71-element Array{TrussBar,1}:\\n TrussBar(...)\\n TrussBar(...)\\n TrussBar(...)\\n TrussBar(...)\\n TrussBar(...)\\n TrussBar(...)\\n TrussBar(...)\\n TrussBar(...)\\n TrussBar(...)\\n TrussBar(...)\\n TrussBar(...)\\n TrussBar(...)\\n TrussBar(...)\\n TrussBar(...)\\n TrussBar(...)\\n TrussBar(...)\\n TrussBar(...)\\n TrussBar(...)\\n TrussBar(...)\\n TrussBar(...)\\n TrussBar(...)\\n TrussBar(...)\\n TrussBar(...)\\n TrussBar(...)\\n TrussBar(...)\\n TrussBar(...)\\n TrussBar(...)\\n TrussBar(...)\\n TrussBar(...)\\n TrussBar(...)\\n TrussBar(...)\\n TrussBar(...)\\n TrussBar(...)\\n TrussBar(...)\\n TrussBar(...)\\n TrussBar(...)\\n TrussBar(...)\\n TrussBar(...)\\n TrussBar(...)\\n TrussBar(...)\\n TrussBar(...)\\n TrussBar(...)\\n TrussBar(...)\\n TrussBar(...)\\n TrussBar(...)\\n TrussBar(...)\\n TrussBar(...)\\n TrussBar(...)\\n TrussBar(...)\\n TrussBar(...)\\n TrussBar(...)\\n TrussBar(...)\\n TrussBar(...)\\n TrussBar(...)\\n TrussBar(...)\\n TrussBar(...)\\n TrussBar(...)\\n TrussBar(...)\\n TrussBar(...)\\n TrussBar(...)\\n TrussBar(...)\\n TrussBar(...)\\n TrussBar(...)\\n TrussBar(...)\\n TrussBar(...)\\n TrussBar(...)\\n TrussBar(...)\\n TrussBar(...)\\n TrussBar(...)\\n TrussBar(...)\\n TrussBar(...)<\\/pre>\"},\"nodeType\":\"DOM\",\"type\":\"node\",\"instanceArgs\":{\"namespace\":\"html\",\"tag\":\"div\"},\"children\":[]}]}}}},\"children\":[{\"props\":{},\"nodeType\":\"ObservableNode\",\"type\":\"node\",\"instanceArgs\":{\"id\":\"9800568968357882205\",\"name\":\"obs-node\"},\"children\":[]}]}]},\n",
       "            window,\n",
       "        );\n",
       "    } else {\n",
       "        document\n",
       "            .querySelector('[data-webio-mountpoint=\"3091960742926357823\"]')\n",
       "            .innerHTML = (\n",
       "                '<div style=\"padding: 1em; background-color: #f8d6da; border: 1px solid #f5c6cb\">' +\n",
       "                '<p><strong>WebIO not detected.</strong></p>' +\n",
       "                '<p>Please read ' +\n",
       "                '<a href=\"https://juliagizmos.github.io/WebIO.jl/latest/troubleshooting/not-detected/\" target=\"_blank\">the troubleshooting guide</a> ' +\n",
       "                'for more information on how to resolve this issue.</p>' +\n",
       "                '<p><a href=\"https://juliagizmos.github.io/WebIO.jl/latest/troubleshooting/not-detected/\" target=\"_blank\">https://juliagizmos.github.io/WebIO.jl/latest/troubleshooting/not-detected/</a></p>' +\n",
       "                '</div>'\n",
       "            );\n",
       "    }\n",
       "    </script>\n",
       "</div>\n"
      ],
      "text/plain": [
       "Node{WebIO.DOM}(WebIO.DOM(:html, :div), Any[Node{WebIO.DOM}(WebIO.DOM(:html, :div), Any[Scope(Node{WebIO.DOM}(WebIO.DOM(:html, :div), Any[Node{WebIO.DOM}(WebIO.DOM(:html, :div), Any[Node{WebIO.DOM}(WebIO.DOM(:html, :label), Any[\"Amplitude x\"], Dict{Symbol,Any}(:className => \"interact \",:style => Dict{Any,Any}(:padding => \"5px 10px 0px 10px\")))], Dict{Symbol,Any}(:className => \"interact-flex-row-left\")), Node{WebIO.DOM}(WebIO.DOM(:html, :div), Any[Node{WebIO.DOM}(WebIO.DOM(:html, :input), Any[], Dict{Symbol,Any}(:max => 21,:min => 1,:attributes => Dict{Any,Any}(:type => \"range\",Symbol(\"data-bind\") => \"numericValue: index, valueUpdate: 'input', event: {change: function (){this.changes(this.changes()+1)}}\",\"orient\" => \"horizontal\"),:step => 1,:className => \"slider slider is-fullwidth\",:style => Dict{Any,Any}()))], Dict{Symbol,Any}(:className => \"interact-flex-row-center\")), Node{WebIO.DOM}(WebIO.DOM(:html, :div), Any[Node{WebIO.DOM}(WebIO.DOM(:html, :p), Any[], Dict{Symbol,Any}(:attributes => Dict(\"data-bind\" => \"text: formatted_val\")))], Dict{Symbol,Any}(:className => \"interact-flex-row-right\"))], Dict{Symbol,Any}(:className => \"interact-flex-row interact-widget\")), Dict{String,Tuple{Observables.AbstractObservable,Union{Nothing, Bool}}}(\"changes\" => (Observable{Int64} with 1 listeners. Value:\n",
       "0, nothing),\"index\" => (Observable{Any} with 2 listeners. Value:\n",
       "11, nothing)), Set(String[]), nothing, Asset[Asset(\"js\", \"knockout\", \"C:\\\\Users\\\\ines\\\\.julia\\\\packages\\\\Knockout\\\\IP1uR\\\\src\\\\..\\\\assets\\\\knockout.js\"), Asset(\"js\", \"knockout_punches\", \"C:\\\\Users\\\\ines\\\\.julia\\\\packages\\\\Knockout\\\\IP1uR\\\\src\\\\..\\\\assets\\\\knockout_punches.js\"), Asset(\"js\", nothing, \"C:\\\\Users\\\\ines\\\\.julia\\\\packages\\\\InteractBase\\\\sOe2Z\\\\src\\\\..\\\\assets\\\\all.js\"), Asset(\"css\", nothing, \"C:\\\\Users\\\\ines\\\\.julia\\\\packages\\\\InteractBase\\\\sOe2Z\\\\src\\\\..\\\\assets\\\\style.css\"), Asset(\"css\", nothing, \"C:\\\\Users\\\\ines\\\\.julia\\\\packages\\\\Interact\\\\SbgIk\\\\src\\\\..\\\\assets\\\\bulma_confined.min.css\")], Dict{Any,Any}(\"changes\" => Any[WebIO.JSString(\"(function (val){return (val!=this.model[\\\"changes\\\"]()) ? (this.valueFromJulia[\\\"changes\\\"]=true, this.model[\\\"changes\\\"](val)) : undefined})\")],\"index\" => Any[WebIO.JSString(\"(function (val){return (val!=this.model[\\\"index\\\"]()) ? (this.valueFromJulia[\\\"index\\\"]=true, this.model[\\\"index\\\"](val)) : undefined})\")]), WebIO.ConnectionPool(Channel{Any}(sz_max:32,sz_curr:0), Set(AbstractConnection[]), Base.GenericCondition{Base.AlwaysLockedST}(Base.InvasiveLinkedList{Task}(Task (runnable) @0x0000000013fa36b0, Task (runnable) @0x0000000013fa36b0), Base.AlwaysLockedST(1))), WebIO.JSString[WebIO.JSString(\"function () {\\n    var handler = (function (ko, koPunches) {\\n    ko.punches.enableAll();\\n    ko.bindingHandlers.numericValue = {\\n        init: function(element, valueAccessor, allBindings, data, context) {\\n            var stringified = ko.observable(ko.unwrap(valueAccessor()));\\n            stringified.subscribe(function(value) {\\n                var val = parseFloat(value);\\n                if (!isNaN(val)) {\\n                    valueAccessor()(val);\\n                }\\n            });\\n            valueAccessor().subscribe(function(value) {\\n                var str = JSON.stringify(value);\\n                if ((str == \\\"0\\\") && ([\\\"-0\\\", \\\"-0.\\\"].indexOf(stringified()) >= 0))\\n                     return;\\n                 if ([\\\"null\\\", \\\"\\\"].indexOf(str) >= 0)\\n                     return;\\n                stringified(str);\\n            });\\n            ko.applyBindingsToNode(\\n                element,\\n                {\\n                    value: stringified,\\n                    valueUpdate: allBindings.get('valueUpdate'),\\n                },\\n                context,\\n            );\\n        }\\n    };\\n    var json_data = {\\\"formatted_vals\\\":[\\\"1.0\\\",\\\"1.1\\\",\\\"1.2\\\",\\\"1.3\\\",\\\"1.4\\\",\\\"1.5\\\",\\\"1.6\\\",\\\"1.7\\\",\\\"1.8\\\",\\\"1.9\\\",\\\"2.0\\\",\\\"2.1\\\",\\\"2.2\\\",\\\"2.3\\\",\\\"2.4\\\",\\\"2.5\\\",\\\"2.6\\\",\\\"2.7\\\",\\\"2.8\\\",\\\"2.9\\\",\\\"3.0\\\"],\\\"changes\\\":WebIO.getval({\\\"name\\\":\\\"changes\\\",\\\"scope\\\":\\\"14903482735604722467\\\",\\\"id\\\":\\\"7522056011883757153\\\",\\\"type\\\":\\\"observable\\\"}),\\\"index\\\":WebIO.getval({\\\"name\\\":\\\"index\\\",\\\"scope\\\":\\\"14903482735604722467\\\",\\\"id\\\":\\\"16772008366542743612\\\",\\\"type\\\":\\\"observable\\\"})};\\n    var self = this;\\n    function AppViewModel() {\\n        for (var key in json_data) {\\n            var el = json_data[key];\\n            this[key] = Array.isArray(el) ? ko.observableArray(el) : ko.observable(el);\\n        }\\n        \\n        [this[\\\"formatted_val\\\"]=ko.computed(    function(){\\n        return this.formatted_vals()[parseInt(this.index())-(1)];\\n    }\\n,this)]\\n        [this[\\\"changes\\\"].subscribe((function (val){!(this.valueFromJulia[\\\"changes\\\"]) ? (WebIO.setval({\\\"name\\\":\\\"changes\\\",\\\"scope\\\":\\\"14903482735604722467\\\",\\\"id\\\":\\\"7522056011883757153\\\",\\\"type\\\":\\\"observable\\\"},val)) : undefined; return this.valueFromJulia[\\\"changes\\\"]=false}),self),this[\\\"index\\\"].subscribe((function (val){!(this.valueFromJulia[\\\"index\\\"]) ? (WebIO.setval({\\\"name\\\":\\\"index\\\",\\\"scope\\\":\\\"14903482735604722467\\\",\\\"id\\\":\\\"16772008366542743612\\\",\\\"type\\\":\\\"observable\\\"},val)) : undefined; return this.valueFromJulia[\\\"index\\\"]=false}),self)]\\n        \\n    }\\n    self.model = new AppViewModel();\\n    self.valueFromJulia = {};\\n    for (var key in json_data) {\\n        self.valueFromJulia[key] = false;\\n    }\\n    ko.applyBindings(self.model, self.dom);\\n}\\n);\\n    (WebIO.importBlock({\\\"data\\\":[{\\\"name\\\":\\\"knockout\\\",\\\"type\\\":\\\"js\\\",\\\"url\\\":\\\"/assetserver/92c2f1237c7de526b82b854e47551e089e074ac2-knockout.js\\\"},{\\\"name\\\":\\\"knockout_punches\\\",\\\"type\\\":\\\"js\\\",\\\"url\\\":\\\"/assetserver/39e4d1dceef49085ebf36edb09c92c7574c58816-knockout_punches.js\\\"}],\\\"type\\\":\\\"async_block\\\"})).then((imports) => handler.apply(this, imports));\\n}\\n\")])], Dict{Symbol,Any}(:className => \"field interact-widget\")), Node{WebIO.DOM}(WebIO.DOM(:html, :div), Any[Scope(Node{WebIO.DOM}(WebIO.DOM(:html, :div), Any[Node{WebIO.DOM}(WebIO.DOM(:html, :div), Any[Node{WebIO.DOM}(WebIO.DOM(:html, :label), Any[\"Minimum Amplitude y\"], Dict{Symbol,Any}(:className => \"interact \",:style => Dict{Any,Any}(:padding => \"5px 10px 0px 10px\")))], Dict{Symbol,Any}(:className => \"interact-flex-row-left\")), Node{WebIO.DOM}(WebIO.DOM(:html, :div), Any[Node{WebIO.DOM}(WebIO.DOM(:html, :input), Any[], Dict{Symbol,Any}(:max => 121,:min => 1,:attributes => Dict{Any,Any}(:type => \"range\",Symbol(\"data-bind\") => \"numericValue: index, valueUpdate: 'input', event: {change: function (){this.changes(this.changes()+1)}}\",\"orient\" => \"horizontal\"),:step => 1,:className => \"slider slider is-fullwidth\",:style => Dict{Any,Any}()))], Dict{Symbol,Any}(:className => \"interact-flex-row-center\")), Node{WebIO.DOM}(WebIO.DOM(:html, :div), Any[Node{WebIO.DOM}(WebIO.DOM(:html, :p), Any[], Dict{Symbol,Any}(:attributes => Dict(\"data-bind\" => \"text: formatted_val\")))], Dict{Symbol,Any}(:className => \"interact-flex-row-right\"))], Dict{Symbol,Any}(:className => \"interact-flex-row interact-widget\")), Dict{String,Tuple{Observables.AbstractObservable,Union{Nothing, Bool}}}(\"changes\" => (Observable{Int64} with 1 listeners. Value:\n",
       "0, nothing),\"index\" => (Observable{Any} with 2 listeners. Value:\n",
       "61, nothing)), Set(String[]), nothing, Asset[Asset(\"js\", \"knockout\", \"C:\\\\Users\\\\ines\\\\.julia\\\\packages\\\\Knockout\\\\IP1uR\\\\src\\\\..\\\\assets\\\\knockout.js\"), Asset(\"js\", \"knockout_punches\", \"C:\\\\Users\\\\ines\\\\.julia\\\\packages\\\\Knockout\\\\IP1uR\\\\src\\\\..\\\\assets\\\\knockout_punches.js\"), Asset(\"js\", nothing, \"C:\\\\Users\\\\ines\\\\.julia\\\\packages\\\\InteractBase\\\\sOe2Z\\\\src\\\\..\\\\assets\\\\all.js\"), Asset(\"css\", nothing, \"C:\\\\Users\\\\ines\\\\.julia\\\\packages\\\\InteractBase\\\\sOe2Z\\\\src\\\\..\\\\assets\\\\style.css\"), Asset(\"css\", nothing, \"C:\\\\Users\\\\ines\\\\.julia\\\\packages\\\\Interact\\\\SbgIk\\\\src\\\\..\\\\assets\\\\bulma_confined.min.css\")], Dict{Any,Any}(\"changes\" => Any[WebIO.JSString(\"(function (val){return (val!=this.model[\\\"changes\\\"]()) ? (this.valueFromJulia[\\\"changes\\\"]=true, this.model[\\\"changes\\\"](val)) : undefined})\")],\"index\" => Any[WebIO.JSString(\"(function (val){return (val!=this.model[\\\"index\\\"]()) ? (this.valueFromJulia[\\\"index\\\"]=true, this.model[\\\"index\\\"](val)) : undefined})\")]), WebIO.ConnectionPool(Channel{Any}(sz_max:32,sz_curr:0), Set(AbstractConnection[]), Base.GenericCondition{Base.AlwaysLockedST}(Base.InvasiveLinkedList{Task}(Task (runnable) @0x0000000014753c70, Task (runnable) @0x0000000014753c70), Base.AlwaysLockedST(1))), WebIO.JSString[WebIO.JSString(\"function () {\\n    var handler = (function (ko, koPunches) {\\n    ko.punches.enableAll();\\n    ko.bindingHandlers.numericValue = {\\n        init: function(element, valueAccessor, allBindings, data, context) {\\n            var stringified = ko.observable(ko.unwrap(valueAccessor()));\\n            stringified.subscribe(function(value) {\\n                var val = parseFloat(value);\\n                if (!isNaN(val)) {\\n                    valueAccessor()(val);\\n                }\\n            });\\n            valueAccessor().subscribe(function(value) {\\n                var str = JSON.stringify(value);\\n                if ((str == \\\"0\\\") && ([\\\"-0\\\", \\\"-0.\\\"].indexOf(stringified()) >= 0))\\n                     return;\\n                 if ([\\\"null\\\", \\\"\\\"].indexOf(str) >= 0)\\n                     return;\\n                stringified(str);\\n            });\\n            ko.applyBindingsToNode(\\n                element,\\n                {\\n                    value: stringified,\\n                    valueUpdate: allBindings.get('valueUpdate'),\\n                },\\n                context,\\n            );\\n        }\\n    };\\n    var json_data = {\\\"formatted_vals\\\":[\\\"3.0\\\",\\\"3.1\\\",\\\"3.2\\\",\\\"3.3\\\",\\\"3.4\\\",\\\"3.5\\\",\\\"3.6\\\",\\\"3.7\\\",\\\"3.8\\\",\\\"3.9\\\",\\\"4.0\\\",\\\"4.1\\\",\\\"4.2\\\",\\\"4.3\\\",\\\"4.4\\\",\\\"4.5\\\",\\\"4.6\\\",\\\"4.7\\\",\\\"4.8\\\",\\\"4.9\\\",\\\"5.0\\\",\\\"5.1\\\",\\\"5.2\\\",\\\"5.3\\\",\\\"5.4\\\",\\\"5.5\\\",\\\"5.6\\\",\\\"5.7\\\",\\\"5.8\\\",\\\"5.9\\\",\\\"6.0\\\",\\\"6.1\\\",\\\"6.2\\\",\\\"6.3\\\",\\\"6.4\\\",\\\"6.5\\\",\\\"6.6\\\",\\\"6.7\\\",\\\"6.8\\\",\\\"6.9\\\",\\\"7.0\\\",\\\"7.1\\\",\\\"7.2\\\",\\\"7.3\\\",\\\"7.4\\\",\\\"7.5\\\",\\\"7.6\\\",\\\"7.7\\\",\\\"7.8\\\",\\\"7.9\\\",\\\"8.0\\\",\\\"8.1\\\",\\\"8.2\\\",\\\"8.3\\\",\\\"8.4\\\",\\\"8.5\\\",\\\"8.6\\\",\\\"8.7\\\",\\\"8.8\\\",\\\"8.9\\\",\\\"9.0\\\",\\\"9.1\\\",\\\"9.2\\\",\\\"9.3\\\",\\\"9.4\\\",\\\"9.5\\\",\\\"9.6\\\",\\\"9.7\\\",\\\"9.8\\\",\\\"9.9\\\",\\\"10.0\\\",\\\"10.1\\\",\\\"10.2\\\",\\\"10.3\\\",\\\"10.4\\\",\\\"10.5\\\",\\\"10.6\\\",\\\"10.7\\\",\\\"10.8\\\",\\\"10.9\\\",\\\"11.0\\\",\\\"11.1\\\",\\\"11.2\\\",\\\"11.3\\\",\\\"11.4\\\",\\\"11.5\\\",\\\"11.6\\\",\\\"11.7\\\",\\\"11.8\\\",\\\"11.9\\\",\\\"12.0\\\",\\\"12.1\\\",\\\"12.2\\\",\\\"12.3\\\",\\\"12.4\\\",\\\"12.5\\\",\\\"12.6\\\",\\\"12.7\\\",\\\"12.8\\\",\\\"12.9\\\",\\\"13.0\\\",\\\"13.1\\\",\\\"13.2\\\",\\\"13.3\\\",\\\"13.4\\\",\\\"13.5\\\",\\\"13.6\\\",\\\"13.7\\\",\\\"13.8\\\",\\\"13.9\\\",\\\"14.0\\\",\\\"14.1\\\",\\\"14.2\\\",\\\"14.3\\\",\\\"14.4\\\",\\\"14.5\\\",\\\"14.6\\\",\\\"14.7\\\",\\\"14.8\\\",\\\"14.9\\\",\\\"15.0\\\"],\\\"changes\\\":WebIO.getval({\\\"name\\\":\\\"changes\\\",\\\"scope\\\":\\\"1758659271211118774\\\",\\\"id\\\":\\\"17970589484344835594\\\",\\\"type\\\":\\\"observable\\\"}),\\\"index\\\":WebIO.getval({\\\"name\\\":\\\"index\\\",\\\"scope\\\":\\\"1758659271211118774\\\",\\\"id\\\":\\\"5366730944447948496\\\",\\\"type\\\":\\\"observable\\\"})};\\n    var self = this;\\n    function AppViewModel() {\\n        for (var key in json_data) {\\n            var el = json_data[key];\\n            this[key] = Array.isArray(el) ? ko.observableArray(el) : ko.observable(el);\\n        }\\n        \\n        [this[\\\"formatted_val\\\"]=ko.computed(    function(){\\n        return this.formatted_vals()[parseInt(this.index())-(1)];\\n    }\\n,this)]\\n        [this[\\\"changes\\\"].subscribe((function (val){!(this.valueFromJulia[\\\"changes\\\"]) ? (WebIO.setval({\\\"name\\\":\\\"changes\\\",\\\"scope\\\":\\\"1758659271211118774\\\",\\\"id\\\":\\\"17970589484344835594\\\",\\\"type\\\":\\\"observable\\\"},val)) : undefined; return this.valueFromJulia[\\\"changes\\\"]=false}),self),this[\\\"index\\\"].subscribe((function (val){!(this.valueFromJulia[\\\"index\\\"]) ? (WebIO.setval({\\\"name\\\":\\\"index\\\",\\\"scope\\\":\\\"1758659271211118774\\\",\\\"id\\\":\\\"5366730944447948496\\\",\\\"type\\\":\\\"observable\\\"},val)) : undefined; return this.valueFromJulia[\\\"index\\\"]=false}),self)]\\n        \\n    }\\n    self.model = new AppViewModel();\\n    self.valueFromJulia = {};\\n    for (var key in json_data) {\\n        self.valueFromJulia[key] = false;\\n    }\\n    ko.applyBindings(self.model, self.dom);\\n}\\n);\\n    (WebIO.importBlock({\\\"data\\\":[{\\\"name\\\":\\\"knockout\\\",\\\"type\\\":\\\"js\\\",\\\"url\\\":\\\"/assetserver/92c2f1237c7de526b82b854e47551e089e074ac2-knockout.js\\\"},{\\\"name\\\":\\\"knockout_punches\\\",\\\"type\\\":\\\"js\\\",\\\"url\\\":\\\"/assetserver/39e4d1dceef49085ebf36edb09c92c7574c58816-knockout_punches.js\\\"}],\\\"type\\\":\\\"async_block\\\"})).then((imports) => handler.apply(this, imports));\\n}\\n\")])], Dict{Symbol,Any}(:className => \"field interact-widget\")), Node{WebIO.DOM}(WebIO.DOM(:html, :div), Any[Scope(Node{WebIO.DOM}(WebIO.DOM(:html, :div), Any[Node{WebIO.DOM}(WebIO.DOM(:html, :div), Any[Node{WebIO.DOM}(WebIO.DOM(:html, :label), Any[\"Maximum Amplitude y\"], Dict{Symbol,Any}(:className => \"interact \",:style => Dict{Any,Any}(:padding => \"5px 10px 0px 10px\")))], Dict{Symbol,Any}(:className => \"interact-flex-row-left\")), Node{WebIO.DOM}(WebIO.DOM(:html, :div), Any[Node{WebIO.DOM}(WebIO.DOM(:html, :input), Any[], Dict{Symbol,Any}(:max => 121,:min => 1,:attributes => Dict{Any,Any}(:type => \"range\",Symbol(\"data-bind\") => \"numericValue: index, valueUpdate: 'input', event: {change: function (){this.changes(this.changes()+1)}}\",\"orient\" => \"horizontal\"),:step => 1,:className => \"slider slider is-fullwidth\",:style => Dict{Any,Any}()))], Dict{Symbol,Any}(:className => \"interact-flex-row-center\")), Node{WebIO.DOM}(WebIO.DOM(:html, :div), Any[Node{WebIO.DOM}(WebIO.DOM(:html, :p), Any[], Dict{Symbol,Any}(:attributes => Dict(\"data-bind\" => \"text: formatted_val\")))], Dict{Symbol,Any}(:className => \"interact-flex-row-right\"))], Dict{Symbol,Any}(:className => \"interact-flex-row interact-widget\")), Dict{String,Tuple{Observables.AbstractObservable,Union{Nothing, Bool}}}(\"changes\" => (Observable{Int64} with 1 listeners. Value:\n",
       "0, nothing),\"index\" => (Observable{Any} with 2 listeners. Value:\n",
       "61, nothing)), Set(String[]), nothing, Asset[Asset(\"js\", \"knockout\", \"C:\\\\Users\\\\ines\\\\.julia\\\\packages\\\\Knockout\\\\IP1uR\\\\src\\\\..\\\\assets\\\\knockout.js\"), Asset(\"js\", \"knockout_punches\", \"C:\\\\Users\\\\ines\\\\.julia\\\\packages\\\\Knockout\\\\IP1uR\\\\src\\\\..\\\\assets\\\\knockout_punches.js\"), Asset(\"js\", nothing, \"C:\\\\Users\\\\ines\\\\.julia\\\\packages\\\\InteractBase\\\\sOe2Z\\\\src\\\\..\\\\assets\\\\all.js\"), Asset(\"css\", nothing, \"C:\\\\Users\\\\ines\\\\.julia\\\\packages\\\\InteractBase\\\\sOe2Z\\\\src\\\\..\\\\assets\\\\style.css\"), Asset(\"css\", nothing, \"C:\\\\Users\\\\ines\\\\.julia\\\\packages\\\\Interact\\\\SbgIk\\\\src\\\\..\\\\assets\\\\bulma_confined.min.css\")], Dict{Any,Any}(\"changes\" => Any[WebIO.JSString(\"(function (val){return (val!=this.model[\\\"changes\\\"]()) ? (this.valueFromJulia[\\\"changes\\\"]=true, this.model[\\\"changes\\\"](val)) : undefined})\")],\"index\" => Any[WebIO.JSString(\"(function (val){return (val!=this.model[\\\"index\\\"]()) ? (this.valueFromJulia[\\\"index\\\"]=true, this.model[\\\"index\\\"](val)) : undefined})\")]), WebIO.ConnectionPool(Channel{Any}(sz_max:32,sz_curr:0), Set(AbstractConnection[]), Base.GenericCondition{Base.AlwaysLockedST}(Base.InvasiveLinkedList{Task}(Task (runnable) @0x0000000014a1c2f0, Task (runnable) @0x0000000014a1c2f0), Base.AlwaysLockedST(1))), WebIO.JSString[WebIO.JSString(\"function () {\\n    var handler = (function (ko, koPunches) {\\n    ko.punches.enableAll();\\n    ko.bindingHandlers.numericValue = {\\n        init: function(element, valueAccessor, allBindings, data, context) {\\n            var stringified = ko.observable(ko.unwrap(valueAccessor()));\\n            stringified.subscribe(function(value) {\\n                var val = parseFloat(value);\\n                if (!isNaN(val)) {\\n                    valueAccessor()(val);\\n                }\\n            });\\n            valueAccessor().subscribe(function(value) {\\n                var str = JSON.stringify(value);\\n                if ((str == \\\"0\\\") && ([\\\"-0\\\", \\\"-0.\\\"].indexOf(stringified()) >= 0))\\n                     return;\\n                 if ([\\\"null\\\", \\\"\\\"].indexOf(str) >= 0)\\n                     return;\\n                stringified(str);\\n            });\\n            ko.applyBindingsToNode(\\n                element,\\n                {\\n                    value: stringified,\\n                    valueUpdate: allBindings.get('valueUpdate'),\\n                },\\n                context,\\n            );\\n        }\\n    };\\n    var json_data = {\\\"formatted_vals\\\":[\\\"3.0\\\",\\\"3.1\\\",\\\"3.2\\\",\\\"3.3\\\",\\\"3.4\\\",\\\"3.5\\\",\\\"3.6\\\",\\\"3.7\\\",\\\"3.8\\\",\\\"3.9\\\",\\\"4.0\\\",\\\"4.1\\\",\\\"4.2\\\",\\\"4.3\\\",\\\"4.4\\\",\\\"4.5\\\",\\\"4.6\\\",\\\"4.7\\\",\\\"4.8\\\",\\\"4.9\\\",\\\"5.0\\\",\\\"5.1\\\",\\\"5.2\\\",\\\"5.3\\\",\\\"5.4\\\",\\\"5.5\\\",\\\"5.6\\\",\\\"5.7\\\",\\\"5.8\\\",\\\"5.9\\\",\\\"6.0\\\",\\\"6.1\\\",\\\"6.2\\\",\\\"6.3\\\",\\\"6.4\\\",\\\"6.5\\\",\\\"6.6\\\",\\\"6.7\\\",\\\"6.8\\\",\\\"6.9\\\",\\\"7.0\\\",\\\"7.1\\\",\\\"7.2\\\",\\\"7.3\\\",\\\"7.4\\\",\\\"7.5\\\",\\\"7.6\\\",\\\"7.7\\\",\\\"7.8\\\",\\\"7.9\\\",\\\"8.0\\\",\\\"8.1\\\",\\\"8.2\\\",\\\"8.3\\\",\\\"8.4\\\",\\\"8.5\\\",\\\"8.6\\\",\\\"8.7\\\",\\\"8.8\\\",\\\"8.9\\\",\\\"9.0\\\",\\\"9.1\\\",\\\"9.2\\\",\\\"9.3\\\",\\\"9.4\\\",\\\"9.5\\\",\\\"9.6\\\",\\\"9.7\\\",\\\"9.8\\\",\\\"9.9\\\",\\\"10.0\\\",\\\"10.1\\\",\\\"10.2\\\",\\\"10.3\\\",\\\"10.4\\\",\\\"10.5\\\",\\\"10.6\\\",\\\"10.7\\\",\\\"10.8\\\",\\\"10.9\\\",\\\"11.0\\\",\\\"11.1\\\",\\\"11.2\\\",\\\"11.3\\\",\\\"11.4\\\",\\\"11.5\\\",\\\"11.6\\\",\\\"11.7\\\",\\\"11.8\\\",\\\"11.9\\\",\\\"12.0\\\",\\\"12.1\\\",\\\"12.2\\\",\\\"12.3\\\",\\\"12.4\\\",\\\"12.5\\\",\\\"12.6\\\",\\\"12.7\\\",\\\"12.8\\\",\\\"12.9\\\",\\\"13.0\\\",\\\"13.1\\\",\\\"13.2\\\",\\\"13.3\\\",\\\"13.4\\\",\\\"13.5\\\",\\\"13.6\\\",\\\"13.7\\\",\\\"13.8\\\",\\\"13.9\\\",\\\"14.0\\\",\\\"14.1\\\",\\\"14.2\\\",\\\"14.3\\\",\\\"14.4\\\",\\\"14.5\\\",\\\"14.6\\\",\\\"14.7\\\",\\\"14.8\\\",\\\"14.9\\\",\\\"15.0\\\"],\\\"changes\\\":WebIO.getval({\\\"name\\\":\\\"changes\\\",\\\"scope\\\":\\\"12717006654661123877\\\",\\\"id\\\":\\\"17787353908685120712\\\",\\\"type\\\":\\\"observable\\\"}),\\\"index\\\":WebIO.getval({\\\"name\\\":\\\"index\\\",\\\"scope\\\":\\\"12717006654661123877\\\",\\\"id\\\":\\\"253827931022671534\\\",\\\"type\\\":\\\"observable\\\"})};\\n    var self = this;\\n    function AppViewModel() {\\n        for (var key in json_data) {\\n            var el = json_data[key];\\n            this[key] = Array.isArray(el) ? ko.observableArray(el) : ko.observable(el);\\n        }\\n        \\n        [this[\\\"formatted_val\\\"]=ko.computed(    function(){\\n        return this.formatted_vals()[parseInt(this.index())-(1)];\\n    }\\n,this)]\\n        [this[\\\"changes\\\"].subscribe((function (val){!(this.valueFromJulia[\\\"changes\\\"]) ? (WebIO.setval({\\\"name\\\":\\\"changes\\\",\\\"scope\\\":\\\"12717006654661123877\\\",\\\"id\\\":\\\"17787353908685120712\\\",\\\"type\\\":\\\"observable\\\"},val)) : undefined; return this.valueFromJulia[\\\"changes\\\"]=false}),self),this[\\\"index\\\"].subscribe((function (val){!(this.valueFromJulia[\\\"index\\\"]) ? (WebIO.setval({\\\"name\\\":\\\"index\\\",\\\"scope\\\":\\\"12717006654661123877\\\",\\\"id\\\":\\\"253827931022671534\\\",\\\"type\\\":\\\"observable\\\"},val)) : undefined; return this.valueFromJulia[\\\"index\\\"]=false}),self)]\\n        \\n    }\\n    self.model = new AppViewModel();\\n    self.valueFromJulia = {};\\n    for (var key in json_data) {\\n        self.valueFromJulia[key] = false;\\n    }\\n    ko.applyBindings(self.model, self.dom);\\n}\\n);\\n    (WebIO.importBlock({\\\"data\\\":[{\\\"name\\\":\\\"knockout\\\",\\\"type\\\":\\\"js\\\",\\\"url\\\":\\\"/assetserver/92c2f1237c7de526b82b854e47551e089e074ac2-knockout.js\\\"},{\\\"name\\\":\\\"knockout_punches\\\",\\\"type\\\":\\\"js\\\",\\\"url\\\":\\\"/assetserver/39e4d1dceef49085ebf36edb09c92c7574c58816-knockout_punches.js\\\"}],\\\"type\\\":\\\"async_block\\\"})).then((imports) => handler.apply(this, imports));\\n}\\n\")])], Dict{Symbol,Any}(:className => \"field interact-widget\")), Node{WebIO.DOM}(WebIO.DOM(:html, :div), Any[Scope(Node{WebIO.DOM}(WebIO.DOM(:html, :div), Any[Node{WebIO.DOM}(WebIO.DOM(:html, :div), Any[Node{WebIO.DOM}(WebIO.DOM(:html, :label), Any[\"Minimum Amplitude y\"], Dict{Symbol,Any}(:className => \"interact \",:style => Dict{Any,Any}(:padding => \"5px 10px 0px 10px\")))], Dict{Symbol,Any}(:className => \"interact-flex-row-left\")), Node{WebIO.DOM}(WebIO.DOM(:html, :div), Any[Node{WebIO.DOM}(WebIO.DOM(:html, :input), Any[], Dict{Symbol,Any}(:max => 111,:min => 1,:attributes => Dict{Any,Any}(:type => \"range\",Symbol(\"data-bind\") => \"numericValue: index, valueUpdate: 'input', event: {change: function (){this.changes(this.changes()+1)}}\",\"orient\" => \"horizontal\"),:step => 1,:className => \"slider slider is-fullwidth\",:style => Dict{Any,Any}()))], Dict{Symbol,Any}(:className => \"interact-flex-row-center\")), Node{WebIO.DOM}(WebIO.DOM(:html, :div), Any[Node{WebIO.DOM}(WebIO.DOM(:html, :p), Any[], Dict{Symbol,Any}(:attributes => Dict(\"data-bind\" => \"text: formatted_val\")))], Dict{Symbol,Any}(:className => \"interact-flex-row-right\"))], Dict{Symbol,Any}(:className => \"interact-flex-row interact-widget\")), Dict{String,Tuple{Observables.AbstractObservable,Union{Nothing, Bool}}}(\"changes\" => (Observable{Int64} with 1 listeners. Value:\n",
       "0, nothing),\"index\" => (Observable{Any} with 2 listeners. Value:\n",
       "56, nothing)), Set(String[]), nothing, Asset[Asset(\"js\", \"knockout\", \"C:\\\\Users\\\\ines\\\\.julia\\\\packages\\\\Knockout\\\\IP1uR\\\\src\\\\..\\\\assets\\\\knockout.js\"), Asset(\"js\", \"knockout_punches\", \"C:\\\\Users\\\\ines\\\\.julia\\\\packages\\\\Knockout\\\\IP1uR\\\\src\\\\..\\\\assets\\\\knockout_punches.js\"), Asset(\"js\", nothing, \"C:\\\\Users\\\\ines\\\\.julia\\\\packages\\\\InteractBase\\\\sOe2Z\\\\src\\\\..\\\\assets\\\\all.js\"), Asset(\"css\", nothing, \"C:\\\\Users\\\\ines\\\\.julia\\\\packages\\\\InteractBase\\\\sOe2Z\\\\src\\\\..\\\\assets\\\\style.css\"), Asset(\"css\", nothing, \"C:\\\\Users\\\\ines\\\\.julia\\\\packages\\\\Interact\\\\SbgIk\\\\src\\\\..\\\\assets\\\\bulma_confined.min.css\")], Dict{Any,Any}(\"changes\" => Any[WebIO.JSString(\"(function (val){return (val!=this.model[\\\"changes\\\"]()) ? (this.valueFromJulia[\\\"changes\\\"]=true, this.model[\\\"changes\\\"](val)) : undefined})\")],\"index\" => Any[WebIO.JSString(\"(function (val){return (val!=this.model[\\\"index\\\"]()) ? (this.valueFromJulia[\\\"index\\\"]=true, this.model[\\\"index\\\"](val)) : undefined})\")]), WebIO.ConnectionPool(Channel{Any}(sz_max:32,sz_curr:0), Set(AbstractConnection[]), Base.GenericCondition{Base.AlwaysLockedST}(Base.InvasiveLinkedList{Task}(Task (runnable) @0x0000000014a1e570, Task (runnable) @0x0000000014a1e570), Base.AlwaysLockedST(1))), WebIO.JSString[WebIO.JSString(\"function () {\\n    var handler = (function (ko, koPunches) {\\n    ko.punches.enableAll();\\n    ko.bindingHandlers.numericValue = {\\n        init: function(element, valueAccessor, allBindings, data, context) {\\n            var stringified = ko.observable(ko.unwrap(valueAccessor()));\\n            stringified.subscribe(function(value) {\\n                var val = parseFloat(value);\\n                if (!isNaN(val)) {\\n                    valueAccessor()(val);\\n                }\\n            });\\n            valueAccessor().subscribe(function(value) {\\n                var str = JSON.stringify(value);\\n                if ((str == \\\"0\\\") && ([\\\"-0\\\", \\\"-0.\\\"].indexOf(stringified()) >= 0))\\n                     return;\\n                 if ([\\\"null\\\", \\\"\\\"].indexOf(str) >= 0)\\n                     return;\\n                stringified(str);\\n            });\\n            ko.applyBindingsToNode(\\n                element,\\n                {\\n                    value: stringified,\\n                    valueUpdate: allBindings.get('valueUpdate'),\\n                },\\n                context,\\n            );\\n        }\\n    };\\n    var json_data = {\\\"formatted_vals\\\":[\\\"1.0\\\",\\\"1.1\\\",\\\"1.2\\\",\\\"1.3\\\",\\\"1.4\\\",\\\"1.5\\\",\\\"1.6\\\",\\\"1.7\\\",\\\"1.8\\\",\\\"1.9\\\",\\\"2.0\\\",\\\"2.1\\\",\\\"2.2\\\",\\\"2.3\\\",\\\"2.4\\\",\\\"2.5\\\",\\\"2.6\\\",\\\"2.7\\\",\\\"2.8\\\",\\\"2.9\\\",\\\"3.0\\\",\\\"3.1\\\",\\\"3.2\\\",\\\"3.3\\\",\\\"3.4\\\",\\\"3.5\\\",\\\"3.6\\\",\\\"3.7\\\",\\\"3.8\\\",\\\"3.9\\\",\\\"4.0\\\",\\\"4.1\\\",\\\"4.2\\\",\\\"4.3\\\",\\\"4.4\\\",\\\"4.5\\\",\\\"4.6\\\",\\\"4.7\\\",\\\"4.8\\\",\\\"4.9\\\",\\\"5.0\\\",\\\"5.1\\\",\\\"5.2\\\",\\\"5.3\\\",\\\"5.4\\\",\\\"5.5\\\",\\\"5.6\\\",\\\"5.7\\\",\\\"5.8\\\",\\\"5.9\\\",\\\"6.0\\\",\\\"6.1\\\",\\\"6.2\\\",\\\"6.3\\\",\\\"6.4\\\",\\\"6.5\\\",\\\"6.6\\\",\\\"6.7\\\",\\\"6.8\\\",\\\"6.9\\\",\\\"7.0\\\",\\\"7.1\\\",\\\"7.2\\\",\\\"7.3\\\",\\\"7.4\\\",\\\"7.5\\\",\\\"7.6\\\",\\\"7.7\\\",\\\"7.8\\\",\\\"7.9\\\",\\\"8.0\\\",\\\"8.1\\\",\\\"8.2\\\",\\\"8.3\\\",\\\"8.4\\\",\\\"8.5\\\",\\\"8.6\\\",\\\"8.7\\\",\\\"8.8\\\",\\\"8.9\\\",\\\"9.0\\\",\\\"9.1\\\",\\\"9.2\\\",\\\"9.3\\\",\\\"9.4\\\",\\\"9.5\\\",\\\"9.6\\\",\\\"9.7\\\",\\\"9.8\\\",\\\"9.9\\\",\\\"10.0\\\",\\\"10.1\\\",\\\"10.2\\\",\\\"10.3\\\",\\\"10.4\\\",\\\"10.5\\\",\\\"10.6\\\",\\\"10.7\\\",\\\"10.8\\\",\\\"10.9\\\",\\\"11.0\\\",\\\"11.1\\\",\\\"11.2\\\",\\\"11.3\\\",\\\"11.4\\\",\\\"11.5\\\",\\\"11.6\\\",\\\"11.7\\\",\\\"11.8\\\",\\\"11.9\\\",\\\"12.0\\\"],\\\"changes\\\":WebIO.getval({\\\"name\\\":\\\"changes\\\",\\\"scope\\\":\\\"12027068802990044429\\\",\\\"id\\\":\\\"3112631625685253626\\\",\\\"type\\\":\\\"observable\\\"}),\\\"index\\\":WebIO.getval({\\\"name\\\":\\\"index\\\",\\\"scope\\\":\\\"12027068802990044429\\\",\\\"id\\\":\\\"18108800750298058482\\\",\\\"type\\\":\\\"observable\\\"})};\\n    var self = this;\\n    function AppViewModel() {\\n        for (var key in json_data) {\\n            var el = json_data[key];\\n            this[key] = Array.isArray(el) ? ko.observableArray(el) : ko.observable(el);\\n        }\\n        \\n        [this[\\\"formatted_val\\\"]=ko.computed(    function(){\\n        return this.formatted_vals()[parseInt(this.index())-(1)];\\n    }\\n,this)]\\n        [this[\\\"changes\\\"].subscribe((function (val){!(this.valueFromJulia[\\\"changes\\\"]) ? (WebIO.setval({\\\"name\\\":\\\"changes\\\",\\\"scope\\\":\\\"12027068802990044429\\\",\\\"id\\\":\\\"3112631625685253626\\\",\\\"type\\\":\\\"observable\\\"},val)) : undefined; return this.valueFromJulia[\\\"changes\\\"]=false}),self),this[\\\"index\\\"].subscribe((function (val){!(this.valueFromJulia[\\\"index\\\"]) ? (WebIO.setval({\\\"name\\\":\\\"index\\\",\\\"scope\\\":\\\"12027068802990044429\\\",\\\"id\\\":\\\"18108800750298058482\\\",\\\"type\\\":\\\"observable\\\"},val)) : undefined; return this.valueFromJulia[\\\"index\\\"]=false}),self)]\\n        \\n    }\\n    self.model = new AppViewModel();\\n    self.valueFromJulia = {};\\n    for (var key in json_data) {\\n        self.valueFromJulia[key] = false;\\n    }\\n    ko.applyBindings(self.model, self.dom);\\n}\\n);\\n    (WebIO.importBlock({\\\"data\\\":[{\\\"name\\\":\\\"knockout\\\",\\\"type\\\":\\\"js\\\",\\\"url\\\":\\\"/assetserver/92c2f1237c7de526b82b854e47551e089e074ac2-knockout.js\\\"},{\\\"name\\\":\\\"knockout_punches\\\",\\\"type\\\":\\\"js\\\",\\\"url\\\":\\\"/assetserver/39e4d1dceef49085ebf36edb09c92c7574c58816-knockout_punches.js\\\"}],\\\"type\\\":\\\"async_block\\\"})).then((imports) => handler.apply(this, imports));\\n}\\n\")])], Dict{Symbol,Any}(:className => \"field interact-widget\")), Node{WebIO.DOM}(WebIO.DOM(:html, :div), Any[Scope(Node{WebIO.DOM}(WebIO.DOM(:html, :div), Any[Node{WebIO.DOM}(WebIO.DOM(:html, :div), Any[Node{WebIO.DOM}(WebIO.DOM(:html, :label), Any[\"Maximum Amplitude y\"], Dict{Symbol,Any}(:className => \"interact \",:style => Dict{Any,Any}(:padding => \"5px 10px 0px 10px\")))], Dict{Symbol,Any}(:className => \"interact-flex-row-left\")), Node{WebIO.DOM}(WebIO.DOM(:html, :div), Any[Node{WebIO.DOM}(WebIO.DOM(:html, :input), Any[], Dict{Symbol,Any}(:max => 111,:min => 1,:attributes => Dict{Any,Any}(:type => \"range\",Symbol(\"data-bind\") => \"numericValue: index, valueUpdate: 'input', event: {change: function (){this.changes(this.changes()+1)}}\",\"orient\" => \"horizontal\"),:step => 1,:className => \"slider slider is-fullwidth\",:style => Dict{Any,Any}()))], Dict{Symbol,Any}(:className => \"interact-flex-row-center\")), Node{WebIO.DOM}(WebIO.DOM(:html, :div), Any[Node{WebIO.DOM}(WebIO.DOM(:html, :p), Any[], Dict{Symbol,Any}(:attributes => Dict(\"data-bind\" => \"text: formatted_val\")))], Dict{Symbol,Any}(:className => \"interact-flex-row-right\"))], Dict{Symbol,Any}(:className => \"interact-flex-row interact-widget\")), Dict{String,Tuple{Observables.AbstractObservable,Union{Nothing, Bool}}}(\"changes\" => (Observable{Int64} with 1 listeners. Value:\n",
       "0, nothing),\"index\" => (Observable{Any} with 2 listeners. Value:\n",
       "56, nothing)), Set(String[]), nothing, Asset[Asset(\"js\", \"knockout\", \"C:\\\\Users\\\\ines\\\\.julia\\\\packages\\\\Knockout\\\\IP1uR\\\\src\\\\..\\\\assets\\\\knockout.js\"), Asset(\"js\", \"knockout_punches\", \"C:\\\\Users\\\\ines\\\\.julia\\\\packages\\\\Knockout\\\\IP1uR\\\\src\\\\..\\\\assets\\\\knockout_punches.js\"), Asset(\"js\", nothing, \"C:\\\\Users\\\\ines\\\\.julia\\\\packages\\\\InteractBase\\\\sOe2Z\\\\src\\\\..\\\\assets\\\\all.js\"), Asset(\"css\", nothing, \"C:\\\\Users\\\\ines\\\\.julia\\\\packages\\\\InteractBase\\\\sOe2Z\\\\src\\\\..\\\\assets\\\\style.css\"), Asset(\"css\", nothing, \"C:\\\\Users\\\\ines\\\\.julia\\\\packages\\\\Interact\\\\SbgIk\\\\src\\\\..\\\\assets\\\\bulma_confined.min.css\")], Dict{Any,Any}(\"changes\" => Any[WebIO.JSString(\"(function (val){return (val!=this.model[\\\"changes\\\"]()) ? (this.valueFromJulia[\\\"changes\\\"]=true, this.model[\\\"changes\\\"](val)) : undefined})\")],\"index\" => Any[WebIO.JSString(\"(function (val){return (val!=this.model[\\\"index\\\"]()) ? (this.valueFromJulia[\\\"index\\\"]=true, this.model[\\\"index\\\"](val)) : undefined})\")]), WebIO.ConnectionPool(Channel{Any}(sz_max:32,sz_curr:0), Set(AbstractConnection[]), Base.GenericCondition{Base.AlwaysLockedST}(Base.InvasiveLinkedList{Task}(Task (runnable) @0x0000000014b39cd0, Task (runnable) @0x0000000014b39cd0), Base.AlwaysLockedST(1))), WebIO.JSString[WebIO.JSString(\"function () {\\n    var handler = (function (ko, koPunches) {\\n    ko.punches.enableAll();\\n    ko.bindingHandlers.numericValue = {\\n        init: function(element, valueAccessor, allBindings, data, context) {\\n            var stringified = ko.observable(ko.unwrap(valueAccessor()));\\n            stringified.subscribe(function(value) {\\n                var val = parseFloat(value);\\n                if (!isNaN(val)) {\\n                    valueAccessor()(val);\\n                }\\n            });\\n            valueAccessor().subscribe(function(value) {\\n                var str = JSON.stringify(value);\\n                if ((str == \\\"0\\\") && ([\\\"-0\\\", \\\"-0.\\\"].indexOf(stringified()) >= 0))\\n                     return;\\n                 if ([\\\"null\\\", \\\"\\\"].indexOf(str) >= 0)\\n                     return;\\n                stringified(str);\\n            });\\n            ko.applyBindingsToNode(\\n                element,\\n                {\\n                    value: stringified,\\n                    valueUpdate: allBindings.get('valueUpdate'),\\n                },\\n                context,\\n            );\\n        }\\n    };\\n    var json_data = {\\\"formatted_vals\\\":[\\\"1.0\\\",\\\"1.1\\\",\\\"1.2\\\",\\\"1.3\\\",\\\"1.4\\\",\\\"1.5\\\",\\\"1.6\\\",\\\"1.7\\\",\\\"1.8\\\",\\\"1.9\\\",\\\"2.0\\\",\\\"2.1\\\",\\\"2.2\\\",\\\"2.3\\\",\\\"2.4\\\",\\\"2.5\\\",\\\"2.6\\\",\\\"2.7\\\",\\\"2.8\\\",\\\"2.9\\\",\\\"3.0\\\",\\\"3.1\\\",\\\"3.2\\\",\\\"3.3\\\",\\\"3.4\\\",\\\"3.5\\\",\\\"3.6\\\",\\\"3.7\\\",\\\"3.8\\\",\\\"3.9\\\",\\\"4.0\\\",\\\"4.1\\\",\\\"4.2\\\",\\\"4.3\\\",\\\"4.4\\\",\\\"4.5\\\",\\\"4.6\\\",\\\"4.7\\\",\\\"4.8\\\",\\\"4.9\\\",\\\"5.0\\\",\\\"5.1\\\",\\\"5.2\\\",\\\"5.3\\\",\\\"5.4\\\",\\\"5.5\\\",\\\"5.6\\\",\\\"5.7\\\",\\\"5.8\\\",\\\"5.9\\\",\\\"6.0\\\",\\\"6.1\\\",\\\"6.2\\\",\\\"6.3\\\",\\\"6.4\\\",\\\"6.5\\\",\\\"6.6\\\",\\\"6.7\\\",\\\"6.8\\\",\\\"6.9\\\",\\\"7.0\\\",\\\"7.1\\\",\\\"7.2\\\",\\\"7.3\\\",\\\"7.4\\\",\\\"7.5\\\",\\\"7.6\\\",\\\"7.7\\\",\\\"7.8\\\",\\\"7.9\\\",\\\"8.0\\\",\\\"8.1\\\",\\\"8.2\\\",\\\"8.3\\\",\\\"8.4\\\",\\\"8.5\\\",\\\"8.6\\\",\\\"8.7\\\",\\\"8.8\\\",\\\"8.9\\\",\\\"9.0\\\",\\\"9.1\\\",\\\"9.2\\\",\\\"9.3\\\",\\\"9.4\\\",\\\"9.5\\\",\\\"9.6\\\",\\\"9.7\\\",\\\"9.8\\\",\\\"9.9\\\",\\\"10.0\\\",\\\"10.1\\\",\\\"10.2\\\",\\\"10.3\\\",\\\"10.4\\\",\\\"10.5\\\",\\\"10.6\\\",\\\"10.7\\\",\\\"10.8\\\",\\\"10.9\\\",\\\"11.0\\\",\\\"11.1\\\",\\\"11.2\\\",\\\"11.3\\\",\\\"11.4\\\",\\\"11.5\\\",\\\"11.6\\\",\\\"11.7\\\",\\\"11.8\\\",\\\"11.9\\\",\\\"12.0\\\"],\\\"changes\\\":WebIO.getval({\\\"name\\\":\\\"changes\\\",\\\"scope\\\":\\\"13374975451862274734\\\",\\\"id\\\":\\\"12096891833643461506\\\",\\\"type\\\":\\\"observable\\\"}),\\\"index\\\":WebIO.getval({\\\"name\\\":\\\"index\\\",\\\"scope\\\":\\\"13374975451862274734\\\",\\\"id\\\":\\\"3284952688702251102\\\",\\\"type\\\":\\\"observable\\\"})};\\n    var self = this;\\n    function AppViewModel() {\\n        for (var key in json_data) {\\n            var el = json_data[key];\\n            this[key] = Array.isArray(el) ? ko.observableArray(el) : ko.observable(el);\\n        }\\n        \\n        [this[\\\"formatted_val\\\"]=ko.computed(    function(){\\n        return this.formatted_vals()[parseInt(this.index())-(1)];\\n    }\\n,this)]\\n        [this[\\\"changes\\\"].subscribe((function (val){!(this.valueFromJulia[\\\"changes\\\"]) ? (WebIO.setval({\\\"name\\\":\\\"changes\\\",\\\"scope\\\":\\\"13374975451862274734\\\",\\\"id\\\":\\\"12096891833643461506\\\",\\\"type\\\":\\\"observable\\\"},val)) : undefined; return this.valueFromJulia[\\\"changes\\\"]=false}),self),this[\\\"index\\\"].subscribe((function (val){!(this.valueFromJulia[\\\"index\\\"]) ? (WebIO.setval({\\\"name\\\":\\\"index\\\",\\\"scope\\\":\\\"13374975451862274734\\\",\\\"id\\\":\\\"3284952688702251102\\\",\\\"type\\\":\\\"observable\\\"},val)) : undefined; return this.valueFromJulia[\\\"index\\\"]=false}),self)]\\n        \\n    }\\n    self.model = new AppViewModel();\\n    self.valueFromJulia = {};\\n    for (var key in json_data) {\\n        self.valueFromJulia[key] = false;\\n    }\\n    ko.applyBindings(self.model, self.dom);\\n}\\n);\\n    (WebIO.importBlock({\\\"data\\\":[{\\\"name\\\":\\\"knockout\\\",\\\"type\\\":\\\"js\\\",\\\"url\\\":\\\"/assetserver/92c2f1237c7de526b82b854e47551e089e074ac2-knockout.js\\\"},{\\\"name\\\":\\\"knockout_punches\\\",\\\"type\\\":\\\"js\\\",\\\"url\\\":\\\"/assetserver/39e4d1dceef49085ebf36edb09c92c7574c58816-knockout_punches.js\\\"}],\\\"type\\\":\\\"async_block\\\"})).then((imports) => handler.apply(this, imports));\\n}\\n\")])], Dict{Symbol,Any}(:className => \"field interact-widget\")), Node{WebIO.DOM}(WebIO.DOM(:html, :div), Any[Scope(Node{WebIO.DOM}(WebIO.DOM(:html, :div), Any[Node{WebIO.DOM}(WebIO.DOM(:html, :div), Any[Node{WebIO.DOM}(WebIO.DOM(:html, :label), Any[\"Height\"], Dict{Symbol,Any}(:className => \"interact \",:style => Dict{Any,Any}(:padding => \"5px 10px 0px 10px\")))], Dict{Symbol,Any}(:className => \"interact-flex-row-left\")), Node{WebIO.DOM}(WebIO.DOM(:html, :div), Any[Node{WebIO.DOM}(WebIO.DOM(:html, :input), Any[], Dict{Symbol,Any}(:max => 19,:min => 1,:attributes => Dict{Any,Any}(:type => \"range\",Symbol(\"data-bind\") => \"numericValue: index, valueUpdate: 'input', event: {change: function (){this.changes(this.changes()+1)}}\",\"orient\" => \"horizontal\"),:step => 1,:className => \"slider slider is-fullwidth\",:style => Dict{Any,Any}()))], Dict{Symbol,Any}(:className => \"interact-flex-row-center\")), Node{WebIO.DOM}(WebIO.DOM(:html, :div), Any[Node{WebIO.DOM}(WebIO.DOM(:html, :p), Any[], Dict{Symbol,Any}(:attributes => Dict(\"data-bind\" => \"text: formatted_val\")))], Dict{Symbol,Any}(:className => \"interact-flex-row-right\"))], Dict{Symbol,Any}(:className => \"interact-flex-row interact-widget\")), Dict{String,Tuple{Observables.AbstractObservable,Union{Nothing, Bool}}}(\"changes\" => (Observable{Int64} with 1 listeners. Value:\n",
       "0, nothing),\"index\" => (Observable{Any} with 2 listeners. Value:\n",
       "10, nothing)), Set(String[]), nothing, Asset[Asset(\"js\", \"knockout\", \"C:\\\\Users\\\\ines\\\\.julia\\\\packages\\\\Knockout\\\\IP1uR\\\\src\\\\..\\\\assets\\\\knockout.js\"), Asset(\"js\", \"knockout_punches\", \"C:\\\\Users\\\\ines\\\\.julia\\\\packages\\\\Knockout\\\\IP1uR\\\\src\\\\..\\\\assets\\\\knockout_punches.js\"), Asset(\"js\", nothing, \"C:\\\\Users\\\\ines\\\\.julia\\\\packages\\\\InteractBase\\\\sOe2Z\\\\src\\\\..\\\\assets\\\\all.js\"), Asset(\"css\", nothing, \"C:\\\\Users\\\\ines\\\\.julia\\\\packages\\\\InteractBase\\\\sOe2Z\\\\src\\\\..\\\\assets\\\\style.css\"), Asset(\"css\", nothing, \"C:\\\\Users\\\\ines\\\\.julia\\\\packages\\\\Interact\\\\SbgIk\\\\src\\\\..\\\\assets\\\\bulma_confined.min.css\")], Dict{Any,Any}(\"changes\" => Any[WebIO.JSString(\"(function (val){return (val!=this.model[\\\"changes\\\"]()) ? (this.valueFromJulia[\\\"changes\\\"]=true, this.model[\\\"changes\\\"](val)) : undefined})\")],\"index\" => Any[WebIO.JSString(\"(function (val){return (val!=this.model[\\\"index\\\"]()) ? (this.valueFromJulia[\\\"index\\\"]=true, this.model[\\\"index\\\"](val)) : undefined})\")]), WebIO.ConnectionPool(Channel{Any}(sz_max:32,sz_curr:0), Set(AbstractConnection[]), Base.GenericCondition{Base.AlwaysLockedST}(Base.InvasiveLinkedList{Task}(Task (runnable) @0x0000000014b3a570, Task (runnable) @0x0000000014b3a570), Base.AlwaysLockedST(1))), WebIO.JSString[WebIO.JSString(\"function () {\\n    var handler = (function (ko, koPunches) {\\n    ko.punches.enableAll();\\n    ko.bindingHandlers.numericValue = {\\n        init: function(element, valueAccessor, allBindings, data, context) {\\n            var stringified = ko.observable(ko.unwrap(valueAccessor()));\\n            stringified.subscribe(function(value) {\\n                var val = parseFloat(value);\\n                if (!isNaN(val)) {\\n                    valueAccessor()(val);\\n                }\\n            });\\n            valueAccessor().subscribe(function(value) {\\n                var str = JSON.stringify(value);\\n                if ((str == \\\"0\\\") && ([\\\"-0\\\", \\\"-0.\\\"].indexOf(stringified()) >= 0))\\n                     return;\\n                 if ([\\\"null\\\", \\\"\\\"].indexOf(str) >= 0)\\n                     return;\\n                stringified(str);\\n            });\\n            ko.applyBindingsToNode(\\n                element,\\n                {\\n                    value: stringified,\\n                    valueUpdate: allBindings.get('valueUpdate'),\\n                },\\n                context,\\n            );\\n        }\\n    };\\n    var json_data = {\\\"formatted_vals\\\":[\\\"2\\\",\\\"3\\\",\\\"4\\\",\\\"5\\\",\\\"6\\\",\\\"7\\\",\\\"8\\\",\\\"9\\\",\\\"10\\\",\\\"11\\\",\\\"12\\\",\\\"13\\\",\\\"14\\\",\\\"15\\\",\\\"16\\\",\\\"17\\\",\\\"18\\\",\\\"19\\\",\\\"20\\\"],\\\"changes\\\":WebIO.getval({\\\"name\\\":\\\"changes\\\",\\\"scope\\\":\\\"6669551686635630009\\\",\\\"id\\\":\\\"401385438804554485\\\",\\\"type\\\":\\\"observable\\\"}),\\\"index\\\":WebIO.getval({\\\"name\\\":\\\"index\\\",\\\"scope\\\":\\\"6669551686635630009\\\",\\\"id\\\":\\\"16801075036598602591\\\",\\\"type\\\":\\\"observable\\\"})};\\n    var self = this;\\n    function AppViewModel() {\\n        for (var key in json_data) {\\n            var el = json_data[key];\\n            this[key] = Array.isArray(el) ? ko.observableArray(el) : ko.observable(el);\\n        }\\n        \\n        [this[\\\"formatted_val\\\"]=ko.computed(    function(){\\n        return this.formatted_vals()[parseInt(this.index())-(1)];\\n    }\\n,this)]\\n        [this[\\\"changes\\\"].subscribe((function (val){!(this.valueFromJulia[\\\"changes\\\"]) ? (WebIO.setval({\\\"name\\\":\\\"changes\\\",\\\"scope\\\":\\\"6669551686635630009\\\",\\\"id\\\":\\\"401385438804554485\\\",\\\"type\\\":\\\"observable\\\"},val)) : undefined; return this.valueFromJulia[\\\"changes\\\"]=false}),self),this[\\\"index\\\"].subscribe((function (val){!(this.valueFromJulia[\\\"index\\\"]) ? (WebIO.setval({\\\"name\\\":\\\"index\\\",\\\"scope\\\":\\\"6669551686635630009\\\",\\\"id\\\":\\\"16801075036598602591\\\",\\\"type\\\":\\\"observable\\\"},val)) : undefined; return this.valueFromJulia[\\\"index\\\"]=false}),self)]\\n        \\n    }\\n    self.model = new AppViewModel();\\n    self.valueFromJulia = {};\\n    for (var key in json_data) {\\n        self.valueFromJulia[key] = false;\\n    }\\n    ko.applyBindings(self.model, self.dom);\\n}\\n);\\n    (WebIO.importBlock({\\\"data\\\":[{\\\"name\\\":\\\"knockout\\\",\\\"type\\\":\\\"js\\\",\\\"url\\\":\\\"/assetserver/92c2f1237c7de526b82b854e47551e089e074ac2-knockout.js\\\"},{\\\"name\\\":\\\"knockout_punches\\\",\\\"type\\\":\\\"js\\\",\\\"url\\\":\\\"/assetserver/39e4d1dceef49085ebf36edb09c92c7574c58816-knockout_punches.js\\\"}],\\\"type\\\":\\\"async_block\\\"})).then((imports) => handler.apply(this, imports));\\n}\\n\")])], Dict{Symbol,Any}(:className => \"field interact-widget\")), Observable{Any} with 0 listeners. Value:\n",
       "Node{WebIO.DOM}(WebIO.DOM(:html, :div), Any[TrussBar[TrussBar(...), TrussBar(...), TrussBar(...), TrussBar(...), TrussBar(...), TrussBar(...), TrussBar(...), TrussBar(...), TrussBar(...), TrussBar(...)  …  TrussBar(...), TrussBar(...), TrussBar(...), TrussBar(...), TrussBar(...), TrussBar(...), TrussBar(...), TrussBar(...), TrussBar(...), TrussBar(...)]], Dict{Symbol,Any}(:className => \"interact-flex-row interact-widget\"))], Dict{Symbol,Any}())"
      ]
     },
     "execution_count": 38,
     "metadata": {
      "application/vnd.webio.node+json": {
       "kernelId": "d5ed2ba6-ae4b-42eb-88ac-197fdb5a4e8a"
      }
     },
     "output_type": "execute_result"
    }
   ],
   "source": [
    "backend(meshcat)\n",
    "new_backend()\n",
    "\n",
    "@manipulate for ampx = widget(1:0.1:3, label=\"Amplitude x\"),\n",
    "                ampy_top_min = widget(3:0.1:15, label=\"Minimum Amplitude y\"),\n",
    "                ampy_top_max = widget(3:0.1:15, label=\"Maximum Amplitude y\"),\n",
    "                ampy_bottom_min = widget(1:0.1:12, label=\"Minimum Amplitude y\"),\n",
    "                ampy_bottom_max = widget(1:0.1:12, label=\"Maximum Amplitude y\"),\n",
    "                h = widget(2:1:20, label=\"Height\")\n",
    "            delete_all_shapes()\n",
    "    truss(vierendeel, \n",
    "      top_ptss=damped_sin_roof_pts(u0(), h,\n",
    "                                      ampx, ampy_top_min, ampy_top_max,\n",
    "                                      fi, decay, om_x, om_y,\n",
    "                                      pav_width, pav_length-d_length, 30, 70),\n",
    "      bottom_ptss=damped_sin_roof_pts(xy(d_width,d_length*1), h-d_height,\n",
    "                                     ampx, ampy_bottom_min, ampy_bottom_max,\n",
    "                                     fi, decay, om_x, om_y,\n",
    "                                     pav_width - d_width*2, pav_length-2*d_length, 30, 70))\n",
    "end"
   ]
  },
  {
   "cell_type": "markdown",
   "metadata": {},
   "source": [
    "## Roof Surface"
   ]
  },
  {
   "cell_type": "markdown",
   "metadata": {},
   "source": [
    "Auxiliar functions"
   ]
  },
  {
   "cell_type": "code",
   "execution_count": 24,
   "metadata": {},
   "outputs": [
    {
     "data": {
      "text/plain": [
       "transpose_array (generic function with 1 method)"
      ]
     },
     "execution_count": 24,
     "metadata": {},
     "output_type": "execute_result"
    }
   ],
   "source": [
    "transpose_array(arrays) =\n",
    "    [[row[i] for row in arrays]\n",
    "     for i in 1:length(arrays[1])]"
   ]
  },
  {
   "cell_type": "code",
   "execution_count": 25,
   "metadata": {},
   "outputs": [
    {
     "name": "stderr",
     "output_type": "stream",
     "text": [
      "┌ Info: Checking AutoCAD plugin...\n",
      "└ @ Khepri C:\\Users\\ines\\.julia\\packages\\Khepri\\t7H14\\src\\AutoCAD.jl:64\n",
      "┌ Info: done.\n",
      "└ @ Khepri C:\\Users\\ines\\.julia\\packages\\Khepri\\t7H14\\src\\AutoCAD.jl:68\n"
     ]
    },
    {
     "ename": "InterruptException",
     "evalue": "InterruptException:",
     "output_type": "error",
     "traceback": [
      "InterruptException:",
      "",
      "Stacktrace:",
      " [1] try_yieldto(::typeof(Base.ensure_rescheduled), ::Base.RefValue{Task}) at .\\task.jl:654",
      " [2] wait at .\\task.jl:710 [inlined]",
      " [3] wait(::Base.GenericCondition{Base.Threads.SpinLock}) at .\\condition.jl:106",
      " [4] wait_readnb(::Sockets.TCPSocket, ::Int64) at .\\stream.jl:355",
      " [5] (::Base.var\"#wait_locked#516\")(::Sockets.TCPSocket, ::Base.GenericIOBuffer{Array{UInt8,1}}, ::Int64) at .\\stream.jl:837",
      " [6] unsafe_read(::Sockets.TCPSocket, ::Ptr{UInt8}, ::UInt64) at .\\stream.jl:843",
      " [7] unsafe_read at .\\io.jl:669 [inlined]",
      " [8] unsafe_read(::Sockets.TCPSocket, ::Base.RefValue{Int32}, ::Int64) at .\\io.jl:668",
      " [9] read! at .\\io.jl:670 [inlined]",
      " [10] read at .\\io.jl:674 [inlined]",
      " [11] decode_int at C:\\Users\\ines\\.julia\\packages\\Khepri\\t7H14\\src\\Encoders.jl:111 [inlined]",
      " [12] (::Khepri.var\"#400#401\"{Int64})(::Sockets.TCPSocket) at C:\\Users\\ines\\.julia\\packages\\Khepri\\t7H14\\src\\Encoders.jl:146",
      " [13] (::Khepri.var\"#519#682\")(::Int32, ::Sockets.TCPSocket, ::Base.GenericIOBuffer{Array{UInt8,1}}, ::Array{Any,1}, ::Array{Any,1}, ::Bool, ::Bool) at C:\\Users\\ines\\.julia\\packages\\Khepri\\t7H14\\src\\Primitives.jl:240",
      " [14] call_remote(::Khepri.RemoteFunction, ::Sockets.TCPSocket, ::Array{Any,1}, ::Vararg{Any,N} where N) at C:\\Users\\ines\\.julia\\packages\\Khepri\\t7H14\\src\\Primitives.jl:218",
      " [15] backend_loft_curves(::Khepri.SocketBackend{Khepri.ACADKey,Int64}, ::Array{Line,1}, ::Array{Shape,1}, ::Bool, ::Bool) at C:\\Users\\ines\\.julia\\packages\\Khepri\\t7H14\\src\\AutoCAD.jl:639",
      " [16] realize(::Khepri.SocketBackend{Khepri.ACADKey,Int64}, ::LoftCurves) at C:\\Users\\ines\\.julia\\packages\\Khepri\\t7H14\\src\\Shapes.jl:797",
      " [17] ref(::LoftCurves) at C:\\Users\\ines\\.julia\\packages\\Khepri\\t7H14\\src\\Shapes.jl:166",
      " [18] force_realize at C:\\Users\\ines\\.julia\\packages\\Khepri\\t7H14\\src\\Shapes.jl:222 [inlined]",
      " [19] maybe_realize(::Khepri.SocketBackend{Khepri.ACADKey,Int64}, ::LoftCurves) at C:\\Users\\ines\\.julia\\packages\\Khepri\\t7H14\\src\\Shapes.jl:232",
      " [20] maybe_realize(::LoftCurves, ::Khepri.SocketBackend{Khepri.ACADKey,Int64}) at C:\\Users\\ines\\.julia\\packages\\Khepri\\t7H14\\src\\Shapes.jl:224 (repeats 2 times)",
      " [21] after_init at C:\\Users\\ines\\.julia\\packages\\Khepri\\t7H14\\src\\Shapes.jl:203 [inlined]",
      " [22] loft_curves(::Array{Line,1}, ::Array{Shape,1}, ::Bool, ::Bool; profiles::Array{Line,1}, rails::Array{Shape,1}, ruled::Bool, closed::Bool, backend::Khepri.SocketBackend{Khepri.ACADKey,Int64}, ref::Khepri.LazyRef{Khepri.ACADKey,Int64}) at C:\\Users\\ines\\.julia\\packages\\Khepri\\t7H14\\src\\Shapes.jl:430",
      " [23] loft_curves(::Array{Line,1}, ::Array{Shape,1}, ::Bool, ::Bool) at C:\\Users\\ines\\.julia\\packages\\Khepri\\t7H14\\src\\Shapes.jl:430 (repeats 2 times)",
      " [24] (::var\"#26#27\")(::Float64, ::Float64, ::Float64, ::Float64, ::Float64, ::Int64) at .\\In[25]:23",
      " [25] map(::Function, ::Widget{:slider,Float64}, ::Widget{:slider,Float64}, ::Widget{:slider,Float64}, ::Vararg{Any,N} where N) at C:\\Users\\ines\\.julia\\packages\\Observables\\0wrF6\\src\\Observables.jl:275",
      " [26] top-level scope at C:\\Users\\ines\\.julia\\packages\\Widgets\\451tD\\src\\manipulate.jl:25",
      " [27] top-level scope at In[25]:3"
     ]
    }
   ],
   "source": [
    "backend(autocad)\n",
    "new_backend()\n",
    "\n",
    "@manipulate for ampx = widget(1:0.1:3, label=\"Amplitude x\"),\n",
    "                ampy_top_min = widget(3:0.1:15, label=\"Minimum Amplitude y\"),\n",
    "                ampy_top_max = widget(3:0.1:15, label=\"Maximum Amplitude y\"),\n",
    "                ampy_bottom_min = widget(1:0.1:12, label=\"Minimum Amplitude y\"),\n",
    "                ampy_bottom_max = widget(1:0.1:12, label=\"Maximum Amplitude y\"),\n",
    "                h = widget(2:1:20, label=\"Height\")\n",
    "            delete_all_shapes()\n",
    "        top_roof=damped_sin_roof_pts(x(0), h,\n",
    "                               ampx, ampy_top_min, ampy_top_max,\n",
    "                               fi, decay, om_x, om_y,\n",
    "                               pav_width, pav_length-d_length, 50, 100)\n",
    "        bottom_roof=damped_sin_roof_pts(xy(d_width,d_length*1), h-d_height,\n",
    "                                  ampx, ampy_bottom_min, ampy_bottom_max,\n",
    "                                  fi, decay, om_x, om_y,\n",
    "                                  pav_width - d_width*2, pav_length-2*d_length, 50, 100)\n",
    "        surface_grid(top_roof)\n",
    "        surface_grid(bottom_roof)\n",
    "        loft_curves([spline(top_roof[1]),spline(bottom_roof[1])])\n",
    "        loft_curves([line(top_roof[end]),line(bottom_roof[end])])\n",
    "        loft_curves([line(transpose_array(top_roof)[end]),line(transpose_array(bottom_roof)[end])])\n",
    "    \n",
    "end"
   ]
  },
  {
   "cell_type": "markdown",
   "metadata": {},
   "source": [
    "## Glass Façade"
   ]
  },
  {
   "cell_type": "markdown",
   "metadata": {},
   "source": [
    "Auxiliar functions:"
   ]
  },
  {
   "cell_type": "code",
   "execution_count": 44,
   "metadata": {},
   "outputs": [
    {
     "data": {
      "text/plain": [
       "itera_sweeked (generic function with 1 method)"
      ]
     },
     "execution_count": 44,
     "metadata": {},
     "output_type": "execute_result"
    }
   ],
   "source": [
    "itera_sweeked(ptss) =\n",
    "    vcat([[let p23=intermediate_loc(p2, p3),\n",
    "               p24=intermediate_loc(p2, p4)\n",
    "             [p0,p1,p24,p23]\n",
    "           end\n",
    "          for (p0,p1,p2,p3,p4)\n",
    "          in zip(pts0[1:end-1], pts1[1:end-1], pts1[2:end], pts0[2:end], pts2[2:end])]\n",
    "         for (pts0, pts1, pts2)\n",
    "         in zip(ptss[1:end-2], ptss[2:end-1],ptss[3:end])]...)"
   ]
  },
  {
   "cell_type": "markdown",
   "metadata": {},
   "source": [
    "`damped_sin_glass_wall`creates the pavillion glass walls"
   ]
  },
  {
   "cell_type": "code",
   "execution_count": 45,
   "metadata": {},
   "outputs": [
    {
     "data": {
      "text/plain": [
       "damped_sin_glass_wall (generic function with 1 method)"
      ]
     },
     "execution_count": 45,
     "metadata": {},
     "output_type": "execute_result"
    }
   ],
   "source": [
    "damped_sin_glass_wall(p, a_y, fi, decay, om_y, dist_y, dist_z, n_y, n_z) =\n",
    "    map_division((y, z) ->\n",
    "                    y <= d_i ?\n",
    "                    p + vyz(-sin(y/d_i*(1*pi)), z) :\n",
    "                    p + vyz(y,\n",
    "                            z + (z/dist_z)*damped_sin_wave(a_y, decay, om_y, y)),\n",
    "             0, dist_y, n_y,\n",
    "             0, dist_z, n_z)"
   ]
  },
  {
   "cell_type": "code",
   "execution_count": 47,
   "metadata": {},
   "outputs": [
    {
     "name": "stderr",
     "output_type": "stream",
     "text": [
      "┌ Info: MeshCat server started. You can open the visualizer by visiting the following URL in your browser:\n",
      "│ http://localhost:8709\n",
      "└ @ MeshCat C:\\Users\\ines\\.julia\\packages\\MeshCat\\ECbzr\\src\\visualizer.jl:73\n"
     ]
    },
    {
     "data": {
      "text/html": [
       "<div style=\"height: 400px; width: 800px; overflow-x: auto; overflow-y: hidden; resize: both\">\n",
       "<iframe src=\"http://localhost:8709\" style=\"width: 100%; height: 100%; border: none\"></iframe>\n",
       "</div>\n"
      ],
      "text/plain": [
       "Khepri.MCATViewer(MeshCat Visualizer with path /meshcat at http://localhost:8709)"
      ]
     },
     "metadata": {},
     "output_type": "display_data"
    },
    {
     "data": {
      "application/vnd.webio.node+json": {
       "children": [
        {
         "children": [
          {
           "children": [
            {
             "children": [
              {
               "children": [
                {
                 "children": [
                  "Minimum Amplitude y"
                 ],
                 "instanceArgs": {
                  "namespace": "html",
                  "tag": "label"
                 },
                 "nodeType": "DOM",
                 "props": {
                  "className": "interact ",
                  "style": {
                   "padding": "5px 10px 0px 10px"
                  }
                 },
                 "type": "node"
                }
               ],
               "instanceArgs": {
                "namespace": "html",
                "tag": "div"
               },
               "nodeType": "DOM",
               "props": {
                "className": "interact-flex-row-left"
               },
               "type": "node"
              },
              {
               "children": [
                {
                 "children": [],
                 "instanceArgs": {
                  "namespace": "html",
                  "tag": "input"
                 },
                 "nodeType": "DOM",
                 "props": {
                  "attributes": {
                   "data-bind": "numericValue: index, valueUpdate: 'input', event: {change: function (){this.changes(this.changes()+1)}}",
                   "orient": "horizontal",
                   "type": "range"
                  },
                  "className": "slider slider is-fullwidth",
                  "max": 111,
                  "min": 1,
                  "step": 1,
                  "style": {}
                 },
                 "type": "node"
                }
               ],
               "instanceArgs": {
                "namespace": "html",
                "tag": "div"
               },
               "nodeType": "DOM",
               "props": {
                "className": "interact-flex-row-center"
               },
               "type": "node"
              },
              {
               "children": [
                {
                 "children": [],
                 "instanceArgs": {
                  "namespace": "html",
                  "tag": "p"
                 },
                 "nodeType": "DOM",
                 "props": {
                  "attributes": {
                   "data-bind": "text: formatted_val"
                  }
                 },
                 "type": "node"
                }
               ],
               "instanceArgs": {
                "namespace": "html",
                "tag": "div"
               },
               "nodeType": "DOM",
               "props": {
                "className": "interact-flex-row-right"
               },
               "type": "node"
              }
             ],
             "instanceArgs": {
              "namespace": "html",
              "tag": "div"
             },
             "nodeType": "DOM",
             "props": {
              "className": "interact-flex-row interact-widget"
             },
             "type": "node"
            }
           ],
           "instanceArgs": {
            "handlers": {
             "changes": [
              "(function (val){return (val!=this.model[\"changes\"]()) ? (this.valueFromJulia[\"changes\"]=true, this.model[\"changes\"](val)) : undefined})"
             ],
             "index": [
              "(function (val){return (val!=this.model[\"index\"]()) ? (this.valueFromJulia[\"index\"]=true, this.model[\"index\"](val)) : undefined})"
             ]
            },
            "id": "3749976526305033678",
            "imports": {
             "data": [
              {
               "name": "knockout",
               "type": "js",
               "url": "/assetserver/92c2f1237c7de526b82b854e47551e089e074ac2-knockout.js"
              },
              {
               "name": "knockout_punches",
               "type": "js",
               "url": "/assetserver/39e4d1dceef49085ebf36edb09c92c7574c58816-knockout_punches.js"
              },
              {
               "name": null,
               "type": "js",
               "url": "/assetserver/bea19c4f7d50366923bb3fbba800750b2d533f80-all.js"
              },
              {
               "name": null,
               "type": "css",
               "url": "/assetserver/c4d4f4f0ce9b24709d6d39765a20423cfb274e6a-style.css"
              },
              {
               "name": null,
               "type": "css",
               "url": "/assetserver/6513af17bee55ce33a5387a0f8cc5237a8ed2443-bulma_confined.min.css"
              }
             ],
             "type": "async_block"
            },
            "mount_callbacks": [
             "function () {\n    var handler = (function (ko, koPunches) {\n    ko.punches.enableAll();\n    ko.bindingHandlers.numericValue = {\n        init: function(element, valueAccessor, allBindings, data, context) {\n            var stringified = ko.observable(ko.unwrap(valueAccessor()));\n            stringified.subscribe(function(value) {\n                var val = parseFloat(value);\n                if (!isNaN(val)) {\n                    valueAccessor()(val);\n                }\n            });\n            valueAccessor().subscribe(function(value) {\n                var str = JSON.stringify(value);\n                if ((str == \"0\") && ([\"-0\", \"-0.\"].indexOf(stringified()) >= 0))\n                     return;\n                 if ([\"null\", \"\"].indexOf(str) >= 0)\n                     return;\n                stringified(str);\n            });\n            ko.applyBindingsToNode(\n                element,\n                {\n                    value: stringified,\n                    valueUpdate: allBindings.get('valueUpdate'),\n                },\n                context,\n            );\n        }\n    };\n    var json_data = {\"formatted_vals\":[\"1.0\",\"1.1\",\"1.2\",\"1.3\",\"1.4\",\"1.5\",\"1.6\",\"1.7\",\"1.8\",\"1.9\",\"2.0\",\"2.1\",\"2.2\",\"2.3\",\"2.4\",\"2.5\",\"2.6\",\"2.7\",\"2.8\",\"2.9\",\"3.0\",\"3.1\",\"3.2\",\"3.3\",\"3.4\",\"3.5\",\"3.6\",\"3.7\",\"3.8\",\"3.9\",\"4.0\",\"4.1\",\"4.2\",\"4.3\",\"4.4\",\"4.5\",\"4.6\",\"4.7\",\"4.8\",\"4.9\",\"5.0\",\"5.1\",\"5.2\",\"5.3\",\"5.4\",\"5.5\",\"5.6\",\"5.7\",\"5.8\",\"5.9\",\"6.0\",\"6.1\",\"6.2\",\"6.3\",\"6.4\",\"6.5\",\"6.6\",\"6.7\",\"6.8\",\"6.9\",\"7.0\",\"7.1\",\"7.2\",\"7.3\",\"7.4\",\"7.5\",\"7.6\",\"7.7\",\"7.8\",\"7.9\",\"8.0\",\"8.1\",\"8.2\",\"8.3\",\"8.4\",\"8.5\",\"8.6\",\"8.7\",\"8.8\",\"8.9\",\"9.0\",\"9.1\",\"9.2\",\"9.3\",\"9.4\",\"9.5\",\"9.6\",\"9.7\",\"9.8\",\"9.9\",\"10.0\",\"10.1\",\"10.2\",\"10.3\",\"10.4\",\"10.5\",\"10.6\",\"10.7\",\"10.8\",\"10.9\",\"11.0\",\"11.1\",\"11.2\",\"11.3\",\"11.4\",\"11.5\",\"11.6\",\"11.7\",\"11.8\",\"11.9\",\"12.0\"],\"changes\":WebIO.getval({\"name\":\"changes\",\"scope\":\"3749976526305033678\",\"id\":\"5249591597816052329\",\"type\":\"observable\"}),\"index\":WebIO.getval({\"name\":\"index\",\"scope\":\"3749976526305033678\",\"id\":\"16354351925445755136\",\"type\":\"observable\"})};\n    var self = this;\n    function AppViewModel() {\n        for (var key in json_data) {\n            var el = json_data[key];\n            this[key] = Array.isArray(el) ? ko.observableArray(el) : ko.observable(el);\n        }\n        \n        [this[\"formatted_val\"]=ko.computed(    function(){\n        return this.formatted_vals()[parseInt(this.index())-(1)];\n    }\n,this)]\n        [this[\"changes\"].subscribe((function (val){!(this.valueFromJulia[\"changes\"]) ? (WebIO.setval({\"name\":\"changes\",\"scope\":\"3749976526305033678\",\"id\":\"5249591597816052329\",\"type\":\"observable\"},val)) : undefined; return this.valueFromJulia[\"changes\"]=false}),self),this[\"index\"].subscribe((function (val){!(this.valueFromJulia[\"index\"]) ? (WebIO.setval({\"name\":\"index\",\"scope\":\"3749976526305033678\",\"id\":\"16354351925445755136\",\"type\":\"observable\"},val)) : undefined; return this.valueFromJulia[\"index\"]=false}),self)]\n        \n    }\n    self.model = new AppViewModel();\n    self.valueFromJulia = {};\n    for (var key in json_data) {\n        self.valueFromJulia[key] = false;\n    }\n    ko.applyBindings(self.model, self.dom);\n}\n);\n    (WebIO.importBlock({\"data\":[{\"name\":\"knockout\",\"type\":\"js\",\"url\":\"/assetserver/92c2f1237c7de526b82b854e47551e089e074ac2-knockout.js\"},{\"name\":\"knockout_punches\",\"type\":\"js\",\"url\":\"/assetserver/39e4d1dceef49085ebf36edb09c92c7574c58816-knockout_punches.js\"}],\"type\":\"async_block\"})).then((imports) => handler.apply(this, imports));\n}\n"
            ],
            "observables": {
             "changes": {
              "id": "5249591597816052329",
              "sync": false,
              "value": 0
             },
             "index": {
              "id": "16354351925445755136",
              "sync": true,
              "value": 56
             }
            },
            "systemjs_options": null
           },
           "nodeType": "Scope",
           "props": {},
           "type": "node"
          }
         ],
         "instanceArgs": {
          "namespace": "html",
          "tag": "div"
         },
         "nodeType": "DOM",
         "props": {
          "className": "field interact-widget"
         },
         "type": "node"
        },
        {
         "children": [
          {
           "children": [
            {
             "children": [
              {
               "children": [
                {
                 "children": [
                  "Maximum Amplitude y"
                 ],
                 "instanceArgs": {
                  "namespace": "html",
                  "tag": "label"
                 },
                 "nodeType": "DOM",
                 "props": {
                  "className": "interact ",
                  "style": {
                   "padding": "5px 10px 0px 10px"
                  }
                 },
                 "type": "node"
                }
               ],
               "instanceArgs": {
                "namespace": "html",
                "tag": "div"
               },
               "nodeType": "DOM",
               "props": {
                "className": "interact-flex-row-left"
               },
               "type": "node"
              },
              {
               "children": [
                {
                 "children": [],
                 "instanceArgs": {
                  "namespace": "html",
                  "tag": "input"
                 },
                 "nodeType": "DOM",
                 "props": {
                  "attributes": {
                   "data-bind": "numericValue: index, valueUpdate: 'input', event: {change: function (){this.changes(this.changes()+1)}}",
                   "orient": "horizontal",
                   "type": "range"
                  },
                  "className": "slider slider is-fullwidth",
                  "max": 111,
                  "min": 1,
                  "step": 1,
                  "style": {}
                 },
                 "type": "node"
                }
               ],
               "instanceArgs": {
                "namespace": "html",
                "tag": "div"
               },
               "nodeType": "DOM",
               "props": {
                "className": "interact-flex-row-center"
               },
               "type": "node"
              },
              {
               "children": [
                {
                 "children": [],
                 "instanceArgs": {
                  "namespace": "html",
                  "tag": "p"
                 },
                 "nodeType": "DOM",
                 "props": {
                  "attributes": {
                   "data-bind": "text: formatted_val"
                  }
                 },
                 "type": "node"
                }
               ],
               "instanceArgs": {
                "namespace": "html",
                "tag": "div"
               },
               "nodeType": "DOM",
               "props": {
                "className": "interact-flex-row-right"
               },
               "type": "node"
              }
             ],
             "instanceArgs": {
              "namespace": "html",
              "tag": "div"
             },
             "nodeType": "DOM",
             "props": {
              "className": "interact-flex-row interact-widget"
             },
             "type": "node"
            }
           ],
           "instanceArgs": {
            "handlers": {
             "changes": [
              "(function (val){return (val!=this.model[\"changes\"]()) ? (this.valueFromJulia[\"changes\"]=true, this.model[\"changes\"](val)) : undefined})"
             ],
             "index": [
              "(function (val){return (val!=this.model[\"index\"]()) ? (this.valueFromJulia[\"index\"]=true, this.model[\"index\"](val)) : undefined})"
             ]
            },
            "id": "1139477756676125265",
            "imports": {
             "data": [
              {
               "name": "knockout",
               "type": "js",
               "url": "/assetserver/92c2f1237c7de526b82b854e47551e089e074ac2-knockout.js"
              },
              {
               "name": "knockout_punches",
               "type": "js",
               "url": "/assetserver/39e4d1dceef49085ebf36edb09c92c7574c58816-knockout_punches.js"
              },
              {
               "name": null,
               "type": "js",
               "url": "/assetserver/bea19c4f7d50366923bb3fbba800750b2d533f80-all.js"
              },
              {
               "name": null,
               "type": "css",
               "url": "/assetserver/c4d4f4f0ce9b24709d6d39765a20423cfb274e6a-style.css"
              },
              {
               "name": null,
               "type": "css",
               "url": "/assetserver/6513af17bee55ce33a5387a0f8cc5237a8ed2443-bulma_confined.min.css"
              }
             ],
             "type": "async_block"
            },
            "mount_callbacks": [
             "function () {\n    var handler = (function (ko, koPunches) {\n    ko.punches.enableAll();\n    ko.bindingHandlers.numericValue = {\n        init: function(element, valueAccessor, allBindings, data, context) {\n            var stringified = ko.observable(ko.unwrap(valueAccessor()));\n            stringified.subscribe(function(value) {\n                var val = parseFloat(value);\n                if (!isNaN(val)) {\n                    valueAccessor()(val);\n                }\n            });\n            valueAccessor().subscribe(function(value) {\n                var str = JSON.stringify(value);\n                if ((str == \"0\") && ([\"-0\", \"-0.\"].indexOf(stringified()) >= 0))\n                     return;\n                 if ([\"null\", \"\"].indexOf(str) >= 0)\n                     return;\n                stringified(str);\n            });\n            ko.applyBindingsToNode(\n                element,\n                {\n                    value: stringified,\n                    valueUpdate: allBindings.get('valueUpdate'),\n                },\n                context,\n            );\n        }\n    };\n    var json_data = {\"formatted_vals\":[\"1.0\",\"1.1\",\"1.2\",\"1.3\",\"1.4\",\"1.5\",\"1.6\",\"1.7\",\"1.8\",\"1.9\",\"2.0\",\"2.1\",\"2.2\",\"2.3\",\"2.4\",\"2.5\",\"2.6\",\"2.7\",\"2.8\",\"2.9\",\"3.0\",\"3.1\",\"3.2\",\"3.3\",\"3.4\",\"3.5\",\"3.6\",\"3.7\",\"3.8\",\"3.9\",\"4.0\",\"4.1\",\"4.2\",\"4.3\",\"4.4\",\"4.5\",\"4.6\",\"4.7\",\"4.8\",\"4.9\",\"5.0\",\"5.1\",\"5.2\",\"5.3\",\"5.4\",\"5.5\",\"5.6\",\"5.7\",\"5.8\",\"5.9\",\"6.0\",\"6.1\",\"6.2\",\"6.3\",\"6.4\",\"6.5\",\"6.6\",\"6.7\",\"6.8\",\"6.9\",\"7.0\",\"7.1\",\"7.2\",\"7.3\",\"7.4\",\"7.5\",\"7.6\",\"7.7\",\"7.8\",\"7.9\",\"8.0\",\"8.1\",\"8.2\",\"8.3\",\"8.4\",\"8.5\",\"8.6\",\"8.7\",\"8.8\",\"8.9\",\"9.0\",\"9.1\",\"9.2\",\"9.3\",\"9.4\",\"9.5\",\"9.6\",\"9.7\",\"9.8\",\"9.9\",\"10.0\",\"10.1\",\"10.2\",\"10.3\",\"10.4\",\"10.5\",\"10.6\",\"10.7\",\"10.8\",\"10.9\",\"11.0\",\"11.1\",\"11.2\",\"11.3\",\"11.4\",\"11.5\",\"11.6\",\"11.7\",\"11.8\",\"11.9\",\"12.0\"],\"changes\":WebIO.getval({\"name\":\"changes\",\"scope\":\"1139477756676125265\",\"id\":\"2354827509904298122\",\"type\":\"observable\"}),\"index\":WebIO.getval({\"name\":\"index\",\"scope\":\"1139477756676125265\",\"id\":\"6259329819638033945\",\"type\":\"observable\"})};\n    var self = this;\n    function AppViewModel() {\n        for (var key in json_data) {\n            var el = json_data[key];\n            this[key] = Array.isArray(el) ? ko.observableArray(el) : ko.observable(el);\n        }\n        \n        [this[\"formatted_val\"]=ko.computed(    function(){\n        return this.formatted_vals()[parseInt(this.index())-(1)];\n    }\n,this)]\n        [this[\"changes\"].subscribe((function (val){!(this.valueFromJulia[\"changes\"]) ? (WebIO.setval({\"name\":\"changes\",\"scope\":\"1139477756676125265\",\"id\":\"2354827509904298122\",\"type\":\"observable\"},val)) : undefined; return this.valueFromJulia[\"changes\"]=false}),self),this[\"index\"].subscribe((function (val){!(this.valueFromJulia[\"index\"]) ? (WebIO.setval({\"name\":\"index\",\"scope\":\"1139477756676125265\",\"id\":\"6259329819638033945\",\"type\":\"observable\"},val)) : undefined; return this.valueFromJulia[\"index\"]=false}),self)]\n        \n    }\n    self.model = new AppViewModel();\n    self.valueFromJulia = {};\n    for (var key in json_data) {\n        self.valueFromJulia[key] = false;\n    }\n    ko.applyBindings(self.model, self.dom);\n}\n);\n    (WebIO.importBlock({\"data\":[{\"name\":\"knockout\",\"type\":\"js\",\"url\":\"/assetserver/92c2f1237c7de526b82b854e47551e089e074ac2-knockout.js\"},{\"name\":\"knockout_punches\",\"type\":\"js\",\"url\":\"/assetserver/39e4d1dceef49085ebf36edb09c92c7574c58816-knockout_punches.js\"}],\"type\":\"async_block\"})).then((imports) => handler.apply(this, imports));\n}\n"
            ],
            "observables": {
             "changes": {
              "id": "2354827509904298122",
              "sync": false,
              "value": 0
             },
             "index": {
              "id": "6259329819638033945",
              "sync": true,
              "value": 56
             }
            },
            "systemjs_options": null
           },
           "nodeType": "Scope",
           "props": {},
           "type": "node"
          }
         ],
         "instanceArgs": {
          "namespace": "html",
          "tag": "div"
         },
         "nodeType": "DOM",
         "props": {
          "className": "field interact-widget"
         },
         "type": "node"
        },
        {
         "children": [
          {
           "children": [
            {
             "children": [
              {
               "children": [
                {
                 "children": [
                  "Height"
                 ],
                 "instanceArgs": {
                  "namespace": "html",
                  "tag": "label"
                 },
                 "nodeType": "DOM",
                 "props": {
                  "className": "interact ",
                  "style": {
                   "padding": "5px 10px 0px 10px"
                  }
                 },
                 "type": "node"
                }
               ],
               "instanceArgs": {
                "namespace": "html",
                "tag": "div"
               },
               "nodeType": "DOM",
               "props": {
                "className": "interact-flex-row-left"
               },
               "type": "node"
              },
              {
               "children": [
                {
                 "children": [],
                 "instanceArgs": {
                  "namespace": "html",
                  "tag": "input"
                 },
                 "nodeType": "DOM",
                 "props": {
                  "attributes": {
                   "data-bind": "numericValue: index, valueUpdate: 'input', event: {change: function (){this.changes(this.changes()+1)}}",
                   "orient": "horizontal",
                   "type": "range"
                  },
                  "className": "slider slider is-fullwidth",
                  "max": 19,
                  "min": 1,
                  "step": 1,
                  "style": {}
                 },
                 "type": "node"
                }
               ],
               "instanceArgs": {
                "namespace": "html",
                "tag": "div"
               },
               "nodeType": "DOM",
               "props": {
                "className": "interact-flex-row-center"
               },
               "type": "node"
              },
              {
               "children": [
                {
                 "children": [],
                 "instanceArgs": {
                  "namespace": "html",
                  "tag": "p"
                 },
                 "nodeType": "DOM",
                 "props": {
                  "attributes": {
                   "data-bind": "text: formatted_val"
                  }
                 },
                 "type": "node"
                }
               ],
               "instanceArgs": {
                "namespace": "html",
                "tag": "div"
               },
               "nodeType": "DOM",
               "props": {
                "className": "interact-flex-row-right"
               },
               "type": "node"
              }
             ],
             "instanceArgs": {
              "namespace": "html",
              "tag": "div"
             },
             "nodeType": "DOM",
             "props": {
              "className": "interact-flex-row interact-widget"
             },
             "type": "node"
            }
           ],
           "instanceArgs": {
            "handlers": {
             "changes": [
              "(function (val){return (val!=this.model[\"changes\"]()) ? (this.valueFromJulia[\"changes\"]=true, this.model[\"changes\"](val)) : undefined})"
             ],
             "index": [
              "(function (val){return (val!=this.model[\"index\"]()) ? (this.valueFromJulia[\"index\"]=true, this.model[\"index\"](val)) : undefined})"
             ]
            },
            "id": "275914290728990582",
            "imports": {
             "data": [
              {
               "name": "knockout",
               "type": "js",
               "url": "/assetserver/92c2f1237c7de526b82b854e47551e089e074ac2-knockout.js"
              },
              {
               "name": "knockout_punches",
               "type": "js",
               "url": "/assetserver/39e4d1dceef49085ebf36edb09c92c7574c58816-knockout_punches.js"
              },
              {
               "name": null,
               "type": "js",
               "url": "/assetserver/bea19c4f7d50366923bb3fbba800750b2d533f80-all.js"
              },
              {
               "name": null,
               "type": "css",
               "url": "/assetserver/c4d4f4f0ce9b24709d6d39765a20423cfb274e6a-style.css"
              },
              {
               "name": null,
               "type": "css",
               "url": "/assetserver/6513af17bee55ce33a5387a0f8cc5237a8ed2443-bulma_confined.min.css"
              }
             ],
             "type": "async_block"
            },
            "mount_callbacks": [
             "function () {\n    var handler = (function (ko, koPunches) {\n    ko.punches.enableAll();\n    ko.bindingHandlers.numericValue = {\n        init: function(element, valueAccessor, allBindings, data, context) {\n            var stringified = ko.observable(ko.unwrap(valueAccessor()));\n            stringified.subscribe(function(value) {\n                var val = parseFloat(value);\n                if (!isNaN(val)) {\n                    valueAccessor()(val);\n                }\n            });\n            valueAccessor().subscribe(function(value) {\n                var str = JSON.stringify(value);\n                if ((str == \"0\") && ([\"-0\", \"-0.\"].indexOf(stringified()) >= 0))\n                     return;\n                 if ([\"null\", \"\"].indexOf(str) >= 0)\n                     return;\n                stringified(str);\n            });\n            ko.applyBindingsToNode(\n                element,\n                {\n                    value: stringified,\n                    valueUpdate: allBindings.get('valueUpdate'),\n                },\n                context,\n            );\n        }\n    };\n    var json_data = {\"formatted_vals\":[\"2\",\"3\",\"4\",\"5\",\"6\",\"7\",\"8\",\"9\",\"10\",\"11\",\"12\",\"13\",\"14\",\"15\",\"16\",\"17\",\"18\",\"19\",\"20\"],\"changes\":WebIO.getval({\"name\":\"changes\",\"scope\":\"275914290728990582\",\"id\":\"8605593840906717149\",\"type\":\"observable\"}),\"index\":WebIO.getval({\"name\":\"index\",\"scope\":\"275914290728990582\",\"id\":\"17213031736463623574\",\"type\":\"observable\"})};\n    var self = this;\n    function AppViewModel() {\n        for (var key in json_data) {\n            var el = json_data[key];\n            this[key] = Array.isArray(el) ? ko.observableArray(el) : ko.observable(el);\n        }\n        \n        [this[\"formatted_val\"]=ko.computed(    function(){\n        return this.formatted_vals()[parseInt(this.index())-(1)];\n    }\n,this)]\n        [this[\"changes\"].subscribe((function (val){!(this.valueFromJulia[\"changes\"]) ? (WebIO.setval({\"name\":\"changes\",\"scope\":\"275914290728990582\",\"id\":\"8605593840906717149\",\"type\":\"observable\"},val)) : undefined; return this.valueFromJulia[\"changes\"]=false}),self),this[\"index\"].subscribe((function (val){!(this.valueFromJulia[\"index\"]) ? (WebIO.setval({\"name\":\"index\",\"scope\":\"275914290728990582\",\"id\":\"17213031736463623574\",\"type\":\"observable\"},val)) : undefined; return this.valueFromJulia[\"index\"]=false}),self)]\n        \n    }\n    self.model = new AppViewModel();\n    self.valueFromJulia = {};\n    for (var key in json_data) {\n        self.valueFromJulia[key] = false;\n    }\n    ko.applyBindings(self.model, self.dom);\n}\n);\n    (WebIO.importBlock({\"data\":[{\"name\":\"knockout\",\"type\":\"js\",\"url\":\"/assetserver/92c2f1237c7de526b82b854e47551e089e074ac2-knockout.js\"},{\"name\":\"knockout_punches\",\"type\":\"js\",\"url\":\"/assetserver/39e4d1dceef49085ebf36edb09c92c7574c58816-knockout_punches.js\"}],\"type\":\"async_block\"})).then((imports) => handler.apply(this, imports));\n}\n"
            ],
            "observables": {
             "changes": {
              "id": "8605593840906717149",
              "sync": false,
              "value": 0
             },
             "index": {
              "id": "17213031736463623574",
              "sync": true,
              "value": 10
             }
            },
            "systemjs_options": null
           },
           "nodeType": "Scope",
           "props": {},
           "type": "node"
          }
         ],
         "instanceArgs": {
          "namespace": "html",
          "tag": "div"
         },
         "nodeType": "DOM",
         "props": {
          "className": "field interact-widget"
         },
         "type": "node"
        },
        {
         "children": [
          {
           "children": [],
           "instanceArgs": {
            "id": "1192256028126670931",
            "name": "obs-node"
           },
           "nodeType": "ObservableNode",
           "props": {},
           "type": "node"
          }
         ],
         "instanceArgs": {
          "handlers": {},
          "id": "16690298847487438786",
          "imports": {
           "data": [],
           "type": "async_block"
          },
          "mount_callbacks": [],
          "observables": {
           "obs-node": {
            "id": "1192256028126670931",
            "sync": false,
            "value": {
             "children": [
              {
               "children": [],
               "instanceArgs": {
                "namespace": "html",
                "tag": "div"
               },
               "nodeType": "DOM",
               "props": {
                "setInnerHtml": "<pre>1680-element Array{SurfacePolygon,1}:\n SurfacePolygon(...)\n SurfacePolygon(...)\n SurfacePolygon(...)\n SurfacePolygon(...)\n SurfacePolygon(...)\n SurfacePolygon(...)\n SurfacePolygon(...)\n SurfacePolygon(...)\n SurfacePolygon(...)\n SurfacePolygon(...)\n SurfacePolygon(...)\n SurfacePolygon(...)\n SurfacePolygon(...)\n SurfacePolygon(...)\n SurfacePolygon(...)\n SurfacePolygon(...)\n SurfacePolygon(...)\n SurfacePolygon(...)\n SurfacePolygon(...)\n SurfacePolygon(...)\n SurfacePolygon(...)\n SurfacePolygon(...)\n SurfacePolygon(...)\n SurfacePolygon(...)\n SurfacePolygon(...)\n SurfacePolygon(...)\n SurfacePolygon(...)\n SurfacePolygon(...)\n SurfacePolygon(...)\n SurfacePolygon(...)\n SurfacePolygon(...)\n SurfacePolygon(...)\n SurfacePolygon(...)\n SurfacePolygon(...)\n SurfacePolygon(...)\n SurfacePolygon(...)\n SurfacePolygon(...)\n SurfacePolygon(...)\n SurfacePolygon(...)\n SurfacePolygon(...)\n SurfacePolygon(...)\n SurfacePolygon(...)\n SurfacePolygon(...)\n SurfacePolygon(...)\n SurfacePolygon(...)\n SurfacePolygon(...)\n SurfacePolygon(...)\n SurfacePolygon(...)\n SurfacePolygon(...)\n SurfacePolygon(...)\n SurfacePolygon(...)\n SurfacePolygon(...)\n SurfacePolygon(...)\n SurfacePolygon(...)\n SurfacePolygon(...)\n SurfacePolygon(...)\n SurfacePolygon(...)\n SurfacePolygon(...)\n SurfacePolygon(...)\n SurfacePolygon(...)\n SurfacePolygon(...)\n SurfacePolygon(...)\n SurfacePolygon(...)\n SurfacePolygon(...)\n SurfacePolygon(...)\n SurfacePolygon(...)\n SurfacePolygon(...)\n SurfacePolygon(...)\n SurfacePolygon(...)\n SurfacePolygon(...)\n SurfacePolygon(...)\n SurfacePolygon(...)\n SurfacePolygon(...)\n SurfacePolygon(...)\n SurfacePolygon(...)\n SurfacePolygon(...)\n SurfacePolygon(...)\n SurfacePolygon(...)\n SurfacePolygon(...)\n SurfacePolygon(...)\n SurfacePolygon(...)\n SurfacePolygon(...)\n SurfacePolygon(...)\n SurfacePolygon(...)\n SurfacePolygon(...)\n SurfacePolygon(...)\n SurfacePolygon(...)\n SurfacePolygon(...)\n SurfacePolygon(...)\n SurfacePolygon(...)\n SurfacePolygon(...)\n SurfacePolygon(...)\n SurfacePolygon(...)\n SurfacePolygon(...)\n SurfacePolygon(...)\n SurfacePolygon(...)\n SurfacePolygon(...)\n SurfacePolygon(...)\n SurfacePolygon(...)\n SurfacePolygon(...)\n SurfacePolygon(...)\n SurfacePolygon(...)\n SurfacePolygon(...)\n SurfacePolygon(...)\n SurfacePolygon(...)\n SurfacePolygon(...)\n SurfacePolygon(...)\n SurfacePolygon(...)\n SurfacePolygon(...)\n SurfacePolygon(...)\n SurfacePolygon(...)\n SurfacePolygon(...)\n SurfacePolygon(...)\n SurfacePolygon(...)\n SurfacePolygon(...)\n SurfacePolygon(...)\n SurfacePolygon(...)\n SurfacePolygon(...)\n SurfacePolygon(...)\n SurfacePolygon(...)\n SurfacePolygon(...)\n SurfacePolygon(...)\n SurfacePolygon(...)\n SurfacePolygon(...)\n SurfacePolygon(...)\n SurfacePolygon(...)\n SurfacePolygon(...)\n SurfacePolygon(...)\n SurfacePolygon(...)\n SurfacePolygon(...)\n SurfacePolygon(...)\n SurfacePolygon(...)\n SurfacePolygon(...)\n SurfacePolygon(...)\n SurfacePolygon(...)\n SurfacePolygon(...)\n SurfacePolygon(...)\n SurfacePolygon(...)\n SurfacePolygon(...)\n SurfacePolygon(...)\n SurfacePolygon(...)\n SurfacePolygon(...)\n SurfacePolygon(...)\n SurfacePolygon(...)\n SurfacePolygon(...)\n SurfacePolygon(...)\n SurfacePolygon(...)\n SurfacePolygon(...)\n SurfacePolygon(...)\n SurfacePolygon(...)\n SurfacePolygon(...)\n SurfacePolygon(...)\n SurfacePolygon(...)\n SurfacePolygon(...)\n SurfacePolygon(...)\n SurfacePolygon(...)\n SurfacePolygon(...)\n SurfacePolygon(...)\n SurfacePolygon(...)\n SurfacePolygon(...)\n SurfacePolygon(...)\n SurfacePolygon(...)\n SurfacePolygon(...)\n SurfacePolygon(...)\n SurfacePolygon(...)\n SurfacePolygon(...)\n SurfacePolygon(...)\n SurfacePolygon(...)\n SurfacePolygon(...)\n SurfacePolygon(...)\n SurfacePolygon(...)\n SurfacePolygon(...)\n SurfacePolygon(...)\n SurfacePolygon(...)\n SurfacePolygon(...)\n SurfacePolygon(...)\n SurfacePolygon(...)\n SurfacePolygon(...)\n SurfacePolygon(...)\n SurfacePolygon(...)\n SurfacePolygon(...)\n SurfacePolygon(...)\n SurfacePolygon(...)\n SurfacePolygon(...)\n SurfacePolygon(...)\n SurfacePolygon(...)\n SurfacePolygon(...)\n SurfacePolygon(...)\n SurfacePolygon(...)\n SurfacePolygon(...)\n SurfacePolygon(...)\n SurfacePolygon(...)\n SurfacePolygon(...)\n SurfacePolygon(...)\n SurfacePolygon(...)\n SurfacePolygon(...)\n SurfacePolygon(...)\n SurfacePolygon(...)\n SurfacePolygon(...)\n SurfacePolygon(...)\n SurfacePolygon(...)\n SurfacePolygon(...)\n SurfacePolygon(...)\n SurfacePolygon(...)\n SurfacePolygon(...)\n SurfacePolygon(...)\n SurfacePolygon(...)\n SurfacePolygon(...)\n SurfacePolygon(...)\n SurfacePolygon(...)\n SurfacePolygon(...)\n SurfacePolygon(...)\n SurfacePolygon(...)\n SurfacePolygon(...)\n SurfacePolygon(...)\n SurfacePolygon(...)\n SurfacePolygon(...)\n SurfacePolygon(...)\n SurfacePolygon(...)\n SurfacePolygon(...)\n SurfacePolygon(...)\n SurfacePolygon(...)\n SurfacePolygon(...)\n SurfacePolygon(...)\n SurfacePolygon(...)\n SurfacePolygon(...)\n SurfacePolygon(...)\n SurfacePolygon(...)\n SurfacePolygon(...)\n SurfacePolygon(...)\n SurfacePolygon(...)\n SurfacePolygon(...)\n SurfacePolygon(...)\n SurfacePolygon(...)\n SurfacePolygon(...)\n SurfacePolygon(...)\n SurfacePolygon(...)\n SurfacePolygon(...)\n SurfacePolygon(...)\n SurfacePolygon(...)\n SurfacePolygon(...)\n SurfacePolygon(...)\n SurfacePolygon(...)\n SurfacePolygon(...)\n SurfacePolygon(...)\n SurfacePolygon(...)\n SurfacePolygon(...)\n SurfacePolygon(...)\n SurfacePolygon(...)\n SurfacePolygon(...)\n SurfacePolygon(...)\n SurfacePolygon(...)\n SurfacePolygon(...)\n SurfacePolygon(...)\n SurfacePolygon(...)\n SurfacePolygon(...)\n SurfacePolygon(...)\n SurfacePolygon(...)\n SurfacePolygon(...)\n SurfacePolygon(...)\n SurfacePolygon(...)\n SurfacePolygon(...)\n SurfacePolygon(...)\n SurfacePolygon(...)\n SurfacePolygon(...)\n SurfacePolygon(...)\n SurfacePolygon(...)\n SurfacePolygon(...)\n SurfacePolygon(...)\n SurfacePolygon(...)\n SurfacePolygon(...)\n SurfacePolygon(...)\n SurfacePolygon(...)\n SurfacePolygon(...)\n SurfacePolygon(...)\n SurfacePolygon(...)\n SurfacePolygon(...)\n SurfacePolygon(...)\n SurfacePolygon(...)\n SurfacePolygon(...)\n SurfacePolygon(...)\n SurfacePolygon(...)\n SurfacePolygon(...)\n SurfacePolygon(...)\n SurfacePolygon(...)\n SurfacePolygon(...)\n SurfacePolygon(...)\n SurfacePolygon(...)\n SurfacePolygon(...)\n SurfacePolygon(...)\n SurfacePolygon(...)\n SurfacePolygon(...)\n SurfacePolygon(...)\n SurfacePolygon(...)\n SurfacePolygon(...)\n SurfacePolygon(...)\n SurfacePolygon(...)\n SurfacePolygon(...)\n SurfacePolygon(...)\n SurfacePolygon(...)\n SurfacePolygon(...)\n SurfacePolygon(...)\n SurfacePolygon(...)\n SurfacePolygon(...)\n SurfacePolygon(...)\n SurfacePolygon(...)\n SurfacePolygon(...)\n SurfacePolygon(...)\n SurfacePolygon(...)\n SurfacePolygon(...)\n SurfacePolygon(...)\n SurfacePolygon(...)\n SurfacePolygon(...)\n SurfacePolygon(...)\n SurfacePolygon(...)\n SurfacePolygon(...)\n SurfacePolygon(...)\n SurfacePolygon(...)\n SurfacePolygon(...)\n SurfacePolygon(...)\n SurfacePolygon(...)\n SurfacePolygon(...)\n SurfacePolygon(...)\n SurfacePolygon(...)\n SurfacePolygon(...)\n SurfacePolygon(...)\n SurfacePolygon(...)\n SurfacePolygon(...)\n SurfacePolygon(...)\n SurfacePolygon(...)\n SurfacePolygon(...)\n SurfacePolygon(...)\n SurfacePolygon(...)\n SurfacePolygon(...)\n SurfacePolygon(...)\n SurfacePolygon(...)\n SurfacePolygon(...)\n SurfacePolygon(...)\n SurfacePolygon(...)\n SurfacePolygon(...)\n SurfacePolygon(...)\n SurfacePolygon(...)\n SurfacePolygon(...)\n SurfacePolygon(...)\n SurfacePolygon(...)\n SurfacePolygon(...)\n SurfacePolygon(...)\n SurfacePolygon(...)\n SurfacePolygon(...)\n SurfacePolygon(...)\n SurfacePolygon(...)\n SurfacePolygon(...)\n SurfacePolygon(...)\n SurfacePolygon(...)\n SurfacePolygon(...)\n SurfacePolygon(...)\n SurfacePolygon(...)\n SurfacePolygon(...)\n SurfacePolygon(...)\n SurfacePolygon(...)\n SurfacePolygon(...)\n SurfacePolygon(...)\n SurfacePolygon(...)\n SurfacePolygon(...)\n SurfacePolygon(...)\n SurfacePolygon(...)\n SurfacePolygon(...)\n SurfacePolygon(...)\n SurfacePolygon(...)\n SurfacePolygon(...)\n SurfacePolygon(...)\n SurfacePolygon(...)\n SurfacePolygon(...)\n SurfacePolygon(...)\n SurfacePolygon(...)\n SurfacePolygon(...)\n SurfacePolygon(...)\n SurfacePolygon(...)\n SurfacePolygon(...)\n SurfacePolygon(...)\n SurfacePolygon(...)\n SurfacePolygon(...)\n SurfacePolygon(...)\n SurfacePolygon(...)\n SurfacePolygon(...)\n SurfacePolygon(...)\n SurfacePolygon(...)\n SurfacePolygon(...)\n SurfacePolygon(...)\n SurfacePolygon(...)\n SurfacePolygon(...)\n SurfacePolygon(...)\n SurfacePolygon(...)\n SurfacePolygon(...)\n SurfacePolygon(...)\n SurfacePolygon(...)\n SurfacePolygon(...)\n SurfacePolygon(...)\n SurfacePolygon(...)\n SurfacePolygon(...)\n SurfacePolygon(...)\n SurfacePolygon(...)\n SurfacePolygon(...)\n SurfacePolygon(...)\n SurfacePolygon(...)\n SurfacePolygon(...)\n SurfacePolygon(...)\n SurfacePolygon(...)\n SurfacePolygon(...)\n SurfacePolygon(...)\n SurfacePolygon(...)\n SurfacePolygon(...)\n SurfacePolygon(...)\n SurfacePolygon(...)\n SurfacePolygon(...)\n SurfacePolygon(...)\n SurfacePolygon(...)\n SurfacePolygon(...)\n SurfacePolygon(...)\n SurfacePolygon(...)\n SurfacePolygon(...)\n SurfacePolygon(...)\n SurfacePolygon(...)\n SurfacePolygon(...)\n SurfacePolygon(...)\n SurfacePolygon(...)\n SurfacePolygon(...)\n SurfacePolygon(...)\n SurfacePolygon(...)\n SurfacePolygon(...)\n SurfacePolygon(...)\n SurfacePolygon(...)\n SurfacePolygon(...)\n SurfacePolygon(...)\n SurfacePolygon(...)\n SurfacePolygon(...)\n SurfacePolygon(...)\n SurfacePolygon(...)\n SurfacePolygon(...)\n SurfacePolygon(...)\n SurfacePolygon(...)\n SurfacePolygon(...)\n SurfacePolygon(...)\n SurfacePolygon(...)\n SurfacePolygon(...)\n SurfacePolygon(...)\n SurfacePolygon(...)\n SurfacePolygon(...)\n SurfacePolygon(...)\n SurfacePolygon(...)\n SurfacePolygon(...)\n SurfacePolygon(...)\n SurfacePolygon(...)\n SurfacePolygon(...)\n SurfacePolygon(...)\n SurfacePolygon(...)\n SurfacePolygon(...)\n SurfacePolygon(...)\n SurfacePolygon(...)\n SurfacePolygon(...)\n SurfacePolygon(...)\n SurfacePolygon(...)\n SurfacePolygon(...)\n SurfacePolygon(...)\n SurfacePolygon(...)\n SurfacePolygon(...)\n SurfacePolygon(...)\n SurfacePolygon(...)\n SurfacePolygon(...)\n SurfacePolygon(...)\n SurfacePolygon(...)\n SurfacePolygon(...)\n SurfacePolygon(...)\n SurfacePolygon(...)\n SurfacePolygon(...)\n SurfacePolygon(...)\n SurfacePolygon(...)\n SurfacePolygon(...)\n SurfacePolygon(...)\n SurfacePolygon(...)\n SurfacePolygon(...)\n SurfacePolygon(...)\n SurfacePolygon(...)\n SurfacePolygon(...)\n SurfacePolygon(...)\n SurfacePolygon(...)\n SurfacePolygon(...)\n SurfacePolygon(...)\n SurfacePolygon(...)\n SurfacePolygon(...)\n SurfacePolygon(...)\n SurfacePolygon(...)\n SurfacePolygon(...)\n SurfacePolygon(...)\n SurfacePolygon(...)\n SurfacePolygon(...)\n SurfacePolygon(...)\n SurfacePolygon(...)\n SurfacePolygon(...)\n SurfacePolygon(...)\n SurfacePolygon(...)\n SurfacePolygon(...)\n SurfacePolygon(...)\n SurfacePolygon(...)\n SurfacePolygon(...)\n SurfacePolygon(...)\n SurfacePolygon(...)\n SurfacePolygon(...)\n SurfacePolygon(...)\n SurfacePolygon(...)\n SurfacePolygon(...)\n SurfacePolygon(...)\n SurfacePolygon(...)\n SurfacePolygon(...)\n SurfacePolygon(...)\n SurfacePolygon(...)\n SurfacePolygon(...)\n SurfacePolygon(...)\n SurfacePolygon(...)\n SurfacePolygon(...)\n SurfacePolygon(...)\n SurfacePolygon(...)\n SurfacePolygon(...)\n SurfacePolygon(...)\n SurfacePolygon(...)\n SurfacePolygon(...)\n SurfacePolygon(...)\n SurfacePolygon(...)\n SurfacePolygon(...)\n SurfacePolygon(...)\n SurfacePolygon(...)\n SurfacePolygon(...)\n SurfacePolygon(...)\n SurfacePolygon(...)\n SurfacePolygon(...)\n SurfacePolygon(...)\n SurfacePolygon(...)\n SurfacePolygon(...)\n SurfacePolygon(...)\n SurfacePolygon(...)\n SurfacePolygon(...)\n SurfacePolygon(...)\n SurfacePolygon(...)\n SurfacePolygon(...)\n SurfacePolygon(...)\n SurfacePolygon(...)\n SurfacePolygon(...)\n SurfacePolygon(...)\n SurfacePolygon(...)\n SurfacePolygon(...)\n SurfacePolygon(...)\n SurfacePolygon(...)\n SurfacePolygon(...)\n SurfacePolygon(...)\n SurfacePolygon(...)\n SurfacePolygon(...)\n SurfacePolygon(...)\n SurfacePolygon(...)\n SurfacePolygon(...)\n SurfacePolygon(...)\n SurfacePolygon(...)\n SurfacePolygon(...)\n SurfacePolygon(...)\n SurfacePolygon(...)\n SurfacePolygon(...)\n SurfacePolygon(...)\n SurfacePolygon(...)\n SurfacePolygon(...)\n SurfacePolygon(...)\n SurfacePolygon(...)\n SurfacePolygon(...)\n SurfacePolygon(...)\n SurfacePolygon(...)\n SurfacePolygon(...)\n SurfacePolygon(...)\n SurfacePolygon(...)\n SurfacePolygon(...)\n SurfacePolygon(...)\n SurfacePolygon(...)\n SurfacePolygon(...)\n SurfacePolygon(...)\n SurfacePolygon(...)\n SurfacePolygon(...)\n SurfacePolygon(...)\n SurfacePolygon(...)\n SurfacePolygon(...)\n SurfacePolygon(...)\n SurfacePolygon(...)\n SurfacePolygon(...)\n SurfacePolygon(...)\n SurfacePolygon(...)\n SurfacePolygon(...)\n SurfacePolygon(...)\n SurfacePolygon(...)\n SurfacePolygon(...)\n SurfacePolygon(...)\n SurfacePolygon(...)\n SurfacePolygon(...)\n SurfacePolygon(...)\n SurfacePolygon(...)\n SurfacePolygon(...)\n SurfacePolygon(...)\n SurfacePolygon(...)\n SurfacePolygon(...)\n SurfacePolygon(...)\n SurfacePolygon(...)\n SurfacePolygon(...)\n SurfacePolygon(...)\n SurfacePolygon(...)\n SurfacePolygon(...)\n SurfacePolygon(...)\n SurfacePolygon(...)\n SurfacePolygon(...)\n SurfacePolygon(...)\n SurfacePolygon(...)\n SurfacePolygon(...)\n SurfacePolygon(...)\n SurfacePolygon(...)\n SurfacePolygon(...)\n SurfacePolygon(...)\n SurfacePolygon(...)\n SurfacePolygon(...)\n SurfacePolygon(...)\n SurfacePolygon(...)\n SurfacePolygon(...)\n SurfacePolygon(...)\n SurfacePolygon(...)\n SurfacePolygon(...)\n SurfacePolygon(...)\n SurfacePolygon(...)\n SurfacePolygon(...)\n SurfacePolygon(...)\n SurfacePolygon(...)\n SurfacePolygon(...)\n SurfacePolygon(...)\n SurfacePolygon(...)\n SurfacePolygon(...)\n SurfacePolygon(...)\n SurfacePolygon(...)\n SurfacePolygon(...)\n SurfacePolygon(...)\n SurfacePolygon(...)\n SurfacePolygon(...)\n SurfacePolygon(...)\n SurfacePolygon(...)\n SurfacePolygon(...)\n SurfacePolygon(...)\n SurfacePolygon(...)\n SurfacePolygon(...)\n SurfacePolygon(...)\n SurfacePolygon(...)\n SurfacePolygon(...)\n SurfacePolygon(...)\n SurfacePolygon(...)\n SurfacePolygon(...)\n SurfacePolygon(...)\n SurfacePolygon(...)\n SurfacePolygon(...)\n SurfacePolygon(...)\n SurfacePolygon(...)\n SurfacePolygon(...)\n SurfacePolygon(...)\n SurfacePolygon(...)\n SurfacePolygon(...)\n SurfacePolygon(...)\n SurfacePolygon(...)\n SurfacePolygon(...)\n SurfacePolygon(...)\n SurfacePolygon(...)\n SurfacePolygon(...)\n SurfacePolygon(...)\n SurfacePolygon(...)\n SurfacePolygon(...)\n SurfacePolygon(...)\n SurfacePolygon(...)\n SurfacePolygon(...)\n SurfacePolygon(...)\n SurfacePolygon(...)\n SurfacePolygon(...)\n SurfacePolygon(...)\n SurfacePolygon(...)\n SurfacePolygon(...)\n SurfacePolygon(...)\n SurfacePolygon(...)\n SurfacePolygon(...)\n SurfacePolygon(...)\n SurfacePolygon(...)\n SurfacePolygon(...)\n SurfacePolygon(...)\n SurfacePolygon(...)\n SurfacePolygon(...)\n SurfacePolygon(...)\n SurfacePolygon(...)\n SurfacePolygon(...)\n SurfacePolygon(...)\n SurfacePolygon(...)\n SurfacePolygon(...)\n SurfacePolygon(...)\n SurfacePolygon(...)\n SurfacePolygon(...)\n SurfacePolygon(...)\n SurfacePolygon(...)\n SurfacePolygon(...)\n SurfacePolygon(...)\n SurfacePolygon(...)\n SurfacePolygon(...)\n SurfacePolygon(...)\n SurfacePolygon(...)\n SurfacePolygon(...)\n SurfacePolygon(...)\n SurfacePolygon(...)\n SurfacePolygon(...)\n SurfacePolygon(...)\n SurfacePolygon(...)\n SurfacePolygon(...)\n SurfacePolygon(...)\n SurfacePolygon(...)\n SurfacePolygon(...)\n SurfacePolygon(...)\n SurfacePolygon(...)\n SurfacePolygon(...)\n SurfacePolygon(...)\n SurfacePolygon(...)\n SurfacePolygon(...)\n SurfacePolygon(...)\n SurfacePolygon(...)\n SurfacePolygon(...)\n SurfacePolygon(...)\n SurfacePolygon(...)\n SurfacePolygon(...)\n SurfacePolygon(...)\n SurfacePolygon(...)\n SurfacePolygon(...)\n SurfacePolygon(...)\n SurfacePolygon(...)\n SurfacePolygon(...)\n SurfacePolygon(...)\n SurfacePolygon(...)\n SurfacePolygon(...)\n SurfacePolygon(...)\n SurfacePolygon(...)\n SurfacePolygon(...)\n SurfacePolygon(...)\n SurfacePolygon(...)\n SurfacePolygon(...)\n SurfacePolygon(...)\n SurfacePolygon(...)\n SurfacePolygon(...)\n SurfacePolygon(...)\n SurfacePolygon(...)\n SurfacePolygon(...)\n SurfacePolygon(...)\n SurfacePolygon(...)\n SurfacePolygon(...)\n SurfacePolygon(...)\n SurfacePolygon(...)\n SurfacePolygon(...)\n SurfacePolygon(...)\n SurfacePolygon(...)\n SurfacePolygon(...)\n SurfacePolygon(...)\n SurfacePolygon(...)\n SurfacePolygon(...)\n SurfacePolygon(...)\n SurfacePolygon(...)\n SurfacePolygon(...)\n SurfacePolygon(...)\n SurfacePolygon(...)\n SurfacePolygon(...)\n SurfacePolygon(...)\n SurfacePolygon(...)\n SurfacePolygon(...)\n SurfacePolygon(...)\n SurfacePolygon(...)\n SurfacePolygon(...)\n SurfacePolygon(...)\n SurfacePolygon(...)\n SurfacePolygon(...)\n SurfacePolygon(...)\n SurfacePolygon(...)\n SurfacePolygon(...)\n SurfacePolygon(...)\n SurfacePolygon(...)\n SurfacePolygon(...)\n SurfacePolygon(...)\n SurfacePolygon(...)\n SurfacePolygon(...)\n SurfacePolygon(...)\n SurfacePolygon(...)\n SurfacePolygon(...)\n SurfacePolygon(...)\n SurfacePolygon(...)\n SurfacePolygon(...)\n SurfacePolygon(...)\n SurfacePolygon(...)\n SurfacePolygon(...)\n SurfacePolygon(...)\n SurfacePolygon(...)\n SurfacePolygon(...)\n SurfacePolygon(...)\n SurfacePolygon(...)\n SurfacePolygon(...)\n SurfacePolygon(...)\n SurfacePolygon(...)\n SurfacePolygon(...)\n SurfacePolygon(...)\n SurfacePolygon(...)\n SurfacePolygon(...)\n SurfacePolygon(...)\n SurfacePolygon(...)\n SurfacePolygon(...)\n SurfacePolygon(...)\n SurfacePolygon(...)\n SurfacePolygon(...)\n SurfacePolygon(...)\n SurfacePolygon(...)\n SurfacePolygon(...)\n SurfacePolygon(...)\n SurfacePolygon(...)\n SurfacePolygon(...)\n SurfacePolygon(...)\n SurfacePolygon(...)\n SurfacePolygon(...)\n SurfacePolygon(...)\n SurfacePolygon(...)\n SurfacePolygon(...)\n SurfacePolygon(...)\n SurfacePolygon(...)\n SurfacePolygon(...)\n SurfacePolygon(...)\n SurfacePolygon(...)\n SurfacePolygon(...)\n SurfacePolygon(...)\n SurfacePolygon(...)\n SurfacePolygon(...)\n SurfacePolygon(...)\n SurfacePolygon(...)\n SurfacePolygon(...)\n SurfacePolygon(...)\n SurfacePolygon(...)\n SurfacePolygon(...)\n SurfacePolygon(...)\n SurfacePolygon(...)\n SurfacePolygon(...)\n SurfacePolygon(...)\n SurfacePolygon(...)\n SurfacePolygon(...)\n SurfacePolygon(...)\n SurfacePolygon(...)\n SurfacePolygon(...)\n SurfacePolygon(...)\n SurfacePolygon(...)\n SurfacePolygon(...)\n SurfacePolygon(...)\n SurfacePolygon(...)\n SurfacePolygon(...)\n SurfacePolygon(...)\n SurfacePolygon(...)\n SurfacePolygon(...)\n SurfacePolygon(...)\n SurfacePolygon(...)\n SurfacePolygon(...)\n SurfacePolygon(...)\n SurfacePolygon(...)\n SurfacePolygon(...)\n SurfacePolygon(...)\n SurfacePolygon(...)\n SurfacePolygon(...)\n SurfacePolygon(...)\n SurfacePolygon(...)\n SurfacePolygon(...)\n SurfacePolygon(...)\n SurfacePolygon(...)\n SurfacePolygon(...)\n SurfacePolygon(...)\n SurfacePolygon(...)\n SurfacePolygon(...)\n SurfacePolygon(...)\n SurfacePolygon(...)\n SurfacePolygon(...)\n SurfacePolygon(...)\n SurfacePolygon(...)\n SurfacePolygon(...)\n SurfacePolygon(...)\n SurfacePolygon(...)\n SurfacePolygon(...)\n SurfacePolygon(...)\n SurfacePolygon(...)\n SurfacePolygon(...)\n SurfacePolygon(...)\n SurfacePolygon(...)\n SurfacePolygon(...)\n SurfacePolygon(...)\n SurfacePolygon(...)\n SurfacePolygon(...)\n SurfacePolygon(...)\n SurfacePolygon(...)\n SurfacePolygon(...)\n SurfacePolygon(...)\n SurfacePolygon(...)\n SurfacePolygon(...)\n SurfacePolygon(...)\n SurfacePolygon(...)\n SurfacePolygon(...)\n SurfacePolygon(...)\n SurfacePolygon(...)\n SurfacePolygon(...)\n SurfacePolygon(...)\n SurfacePolygon(...)\n SurfacePolygon(...)\n SurfacePolygon(...)\n SurfacePolygon(...)\n SurfacePolygon(...)\n SurfacePolygon(...)\n SurfacePolygon(...)\n SurfacePolygon(...)\n SurfacePolygon(...)\n SurfacePolygon(...)\n SurfacePolygon(...)\n SurfacePolygon(...)\n SurfacePolygon(...)\n SurfacePolygon(...)\n SurfacePolygon(...)\n SurfacePolygon(...)\n SurfacePolygon(...)\n SurfacePolygon(...)\n SurfacePolygon(...)\n SurfacePolygon(...)\n SurfacePolygon(...)\n SurfacePolygon(...)\n SurfacePolygon(...)\n SurfacePolygon(...)\n SurfacePolygon(...)\n SurfacePolygon(...)\n SurfacePolygon(...)\n SurfacePolygon(...)\n SurfacePolygon(...)\n SurfacePolygon(...)\n SurfacePolygon(...)\n SurfacePolygon(...)\n SurfacePolygon(...)\n SurfacePolygon(...)\n SurfacePolygon(...)\n SurfacePolygon(...)\n SurfacePolygon(...)\n SurfacePolygon(...)\n SurfacePolygon(...)\n SurfacePolygon(...)\n SurfacePolygon(...)\n SurfacePolygon(...)\n SurfacePolygon(...)\n SurfacePolygon(...)\n SurfacePolygon(...)\n SurfacePolygon(...)\n SurfacePolygon(...)\n SurfacePolygon(...)\n SurfacePolygon(...)\n SurfacePolygon(...)\n SurfacePolygon(...)\n SurfacePolygon(...)\n SurfacePolygon(...)\n SurfacePolygon(...)\n SurfacePolygon(...)\n SurfacePolygon(...)\n SurfacePolygon(...)\n SurfacePolygon(...)\n SurfacePolygon(...)\n SurfacePolygon(...)\n SurfacePolygon(...)\n SurfacePolygon(...)\n SurfacePolygon(...)\n SurfacePolygon(...)\n SurfacePolygon(...)\n SurfacePolygon(...)\n SurfacePolygon(...)\n SurfacePolygon(...)\n SurfacePolygon(...)\n SurfacePolygon(...)\n SurfacePolygon(...)\n SurfacePolygon(...)\n SurfacePolygon(...)\n SurfacePolygon(...)\n SurfacePolygon(...)\n SurfacePolygon(...)\n SurfacePolygon(...)\n SurfacePolygon(...)\n SurfacePolygon(...)\n SurfacePolygon(...)\n SurfacePolygon(...)\n SurfacePolygon(...)\n SurfacePolygon(...)\n SurfacePolygon(...)\n SurfacePolygon(...)\n SurfacePolygon(...)\n SurfacePolygon(...)\n SurfacePolygon(...)\n SurfacePolygon(...)\n SurfacePolygon(...)\n SurfacePolygon(...)\n SurfacePolygon(...)\n SurfacePolygon(...)\n SurfacePolygon(...)\n SurfacePolygon(...)\n SurfacePolygon(...)\n SurfacePolygon(...)\n SurfacePolygon(...)\n SurfacePolygon(...)\n SurfacePolygon(...)\n SurfacePolygon(...)\n SurfacePolygon(...)\n SurfacePolygon(...)\n SurfacePolygon(...)\n SurfacePolygon(...)\n SurfacePolygon(...)\n SurfacePolygon(...)\n SurfacePolygon(...)\n SurfacePolygon(...)\n SurfacePolygon(...)\n SurfacePolygon(...)\n SurfacePolygon(...)\n SurfacePolygon(...)\n SurfacePolygon(...)\n SurfacePolygon(...)\n SurfacePolygon(...)\n SurfacePolygon(...)\n SurfacePolygon(...)\n SurfacePolygon(...)\n SurfacePolygon(...)\n SurfacePolygon(...)\n SurfacePolygon(...)\n SurfacePolygon(...)\n SurfacePolygon(...)\n SurfacePolygon(...)\n SurfacePolygon(...)\n SurfacePolygon(...)\n SurfacePolygon(...)\n SurfacePolygon(...)\n SurfacePolygon(...)\n SurfacePolygon(...)\n SurfacePolygon(...)\n SurfacePolygon(...)\n SurfacePolygon(...)\n SurfacePolygon(...)\n SurfacePolygon(...)\n SurfacePolygon(...)\n SurfacePolygon(...)\n SurfacePolygon(...)\n SurfacePolygon(...)\n SurfacePolygon(...)\n SurfacePolygon(...)\n SurfacePolygon(...)\n SurfacePolygon(...)\n SurfacePolygon(...)\n SurfacePolygon(...)\n SurfacePolygon(...)\n SurfacePolygon(...)\n SurfacePolygon(...)\n SurfacePolygon(...)\n SurfacePolygon(...)\n SurfacePolygon(...)\n SurfacePolygon(...)\n SurfacePolygon(...)\n SurfacePolygon(...)\n SurfacePolygon(...)\n SurfacePolygon(...)\n SurfacePolygon(...)\n SurfacePolygon(...)\n SurfacePolygon(...)\n SurfacePolygon(...)\n SurfacePolygon(...)\n SurfacePolygon(...)\n SurfacePolygon(...)\n SurfacePolygon(...)\n SurfacePolygon(...)\n SurfacePolygon(...)\n SurfacePolygon(...)\n SurfacePolygon(...)\n SurfacePolygon(...)\n SurfacePolygon(...)\n SurfacePolygon(...)\n SurfacePolygon(...)\n SurfacePolygon(...)\n SurfacePolygon(...)\n SurfacePolygon(...)\n SurfacePolygon(...)\n SurfacePolygon(...)\n SurfacePolygon(...)\n SurfacePolygon(...)\n SurfacePolygon(...)\n SurfacePolygon(...)\n SurfacePolygon(...)\n SurfacePolygon(...)\n SurfacePolygon(...)\n SurfacePolygon(...)\n SurfacePolygon(...)\n SurfacePolygon(...)\n SurfacePolygon(...)\n SurfacePolygon(...)\n SurfacePolygon(...)\n SurfacePolygon(...)\n SurfacePolygon(...)\n SurfacePolygon(...)\n SurfacePolygon(...)\n SurfacePolygon(...)\n SurfacePolygon(...)\n SurfacePolygon(...)\n SurfacePolygon(...)\n SurfacePolygon(...)\n SurfacePolygon(...)\n SurfacePolygon(...)\n SurfacePolygon(...)\n SurfacePolygon(...)\n SurfacePolygon(...)\n SurfacePolygon(...)\n SurfacePolygon(...)\n SurfacePolygon(...)\n SurfacePolygon(...)\n SurfacePolygon(...)\n SurfacePolygon(...)\n SurfacePolygon(...)\n SurfacePolygon(...)\n SurfacePolygon(...)\n SurfacePolygon(...)\n SurfacePolygon(...)\n SurfacePolygon(...)\n SurfacePolygon(...)\n SurfacePolygon(...)\n SurfacePolygon(...)\n SurfacePolygon(...)\n SurfacePolygon(...)\n SurfacePolygon(...)\n SurfacePolygon(...)\n SurfacePolygon(...)\n SurfacePolygon(...)\n SurfacePolygon(...)\n SurfacePolygon(...)\n SurfacePolygon(...)\n SurfacePolygon(...)\n SurfacePolygon(...)\n SurfacePolygon(...)\n SurfacePolygon(...)\n SurfacePolygon(...)\n SurfacePolygon(...)\n SurfacePolygon(...)\n SurfacePolygon(...)\n SurfacePolygon(...)\n SurfacePolygon(...)\n SurfacePolygon(...)\n SurfacePolygon(...)\n SurfacePolygon(...)\n SurfacePolygon(...)\n SurfacePolygon(...)\n SurfacePolygon(...)\n SurfacePolygon(...)\n SurfacePolygon(...)\n SurfacePolygon(...)\n SurfacePolygon(...)\n SurfacePolygon(...)\n SurfacePolygon(...)\n SurfacePolygon(...)\n SurfacePolygon(...)\n SurfacePolygon(...)\n SurfacePolygon(...)\n SurfacePolygon(...)\n SurfacePolygon(...)\n SurfacePolygon(...)\n SurfacePolygon(...)\n SurfacePolygon(...)\n SurfacePolygon(...)\n SurfacePolygon(...)\n SurfacePolygon(...)\n SurfacePolygon(...)\n SurfacePolygon(...)\n SurfacePolygon(...)\n SurfacePolygon(...)\n SurfacePolygon(...)\n SurfacePolygon(...)\n SurfacePolygon(...)\n SurfacePolygon(...)\n SurfacePolygon(...)\n SurfacePolygon(...)\n SurfacePolygon(...)\n SurfacePolygon(...)\n SurfacePolygon(...)\n SurfacePolygon(...)\n SurfacePolygon(...)\n SurfacePolygon(...)\n SurfacePolygon(...)\n SurfacePolygon(...)\n SurfacePolygon(...)\n SurfacePolygon(...)\n SurfacePolygon(...)\n SurfacePolygon(...)\n SurfacePolygon(...)\n SurfacePolygon(...)\n SurfacePolygon(...)\n SurfacePolygon(...)\n SurfacePolygon(...)\n SurfacePolygon(...)\n SurfacePolygon(...)\n SurfacePolygon(...)\n SurfacePolygon(...)\n SurfacePolygon(...)\n SurfacePolygon(...)\n SurfacePolygon(...)\n SurfacePolygon(...)\n SurfacePolygon(...)\n SurfacePolygon(...)\n SurfacePolygon(...)\n SurfacePolygon(...)\n SurfacePolygon(...)\n SurfacePolygon(...)\n SurfacePolygon(...)\n SurfacePolygon(...)\n SurfacePolygon(...)\n SurfacePolygon(...)\n SurfacePolygon(...)\n SurfacePolygon(...)\n SurfacePolygon(...)\n SurfacePolygon(...)\n SurfacePolygon(...)\n SurfacePolygon(...)\n SurfacePolygon(...)\n SurfacePolygon(...)\n SurfacePolygon(...)\n SurfacePolygon(...)\n SurfacePolygon(...)\n SurfacePolygon(...)\n SurfacePolygon(...)\n SurfacePolygon(...)\n SurfacePolygon(...)\n SurfacePolygon(...)\n SurfacePolygon(...)\n SurfacePolygon(...)\n SurfacePolygon(...)\n SurfacePolygon(...)\n SurfacePolygon(...)\n SurfacePolygon(...)\n SurfacePolygon(...)\n SurfacePolygon(...)\n SurfacePolygon(...)\n SurfacePolygon(...)\n SurfacePolygon(...)\n SurfacePolygon(...)\n SurfacePolygon(...)\n SurfacePolygon(...)\n SurfacePolygon(...)\n SurfacePolygon(...)\n SurfacePolygon(...)\n SurfacePolygon(...)\n SurfacePolygon(...)\n SurfacePolygon(...)\n SurfacePolygon(...)\n SurfacePolygon(...)\n SurfacePolygon(...)\n SurfacePolygon(...)\n SurfacePolygon(...)\n SurfacePolygon(...)\n SurfacePolygon(...)\n SurfacePolygon(...)\n SurfacePolygon(...)\n SurfacePolygon(...)\n SurfacePolygon(...)\n SurfacePolygon(...)\n SurfacePolygon(...)\n SurfacePolygon(...)\n SurfacePolygon(...)\n SurfacePolygon(...)\n SurfacePolygon(...)\n SurfacePolygon(...)\n SurfacePolygon(...)\n SurfacePolygon(...)\n SurfacePolygon(...)\n SurfacePolygon(...)\n SurfacePolygon(...)\n SurfacePolygon(...)\n SurfacePolygon(...)\n SurfacePolygon(...)\n SurfacePolygon(...)\n SurfacePolygon(...)\n SurfacePolygon(...)\n SurfacePolygon(...)\n SurfacePolygon(...)\n SurfacePolygon(...)\n SurfacePolygon(...)\n SurfacePolygon(...)\n SurfacePolygon(...)\n SurfacePolygon(...)\n SurfacePolygon(...)\n SurfacePolygon(...)\n SurfacePolygon(...)\n SurfacePolygon(...)\n SurfacePolygon(...)\n SurfacePolygon(...)\n SurfacePolygon(...)\n SurfacePolygon(...)\n SurfacePolygon(...)\n SurfacePolygon(...)\n SurfacePolygon(...)\n SurfacePolygon(...)\n SurfacePolygon(...)\n SurfacePolygon(...)\n SurfacePolygon(...)\n SurfacePolygon(...)\n SurfacePolygon(...)\n SurfacePolygon(...)\n SurfacePolygon(...)\n SurfacePolygon(...)\n SurfacePolygon(...)\n SurfacePolygon(...)\n SurfacePolygon(...)\n SurfacePolygon(...)\n SurfacePolygon(...)\n SurfacePolygon(...)\n SurfacePolygon(...)\n SurfacePolygon(...)\n SurfacePolygon(...)\n SurfacePolygon(...)\n SurfacePolygon(...)\n SurfacePolygon(...)\n SurfacePolygon(...)\n SurfacePolygon(...)\n SurfacePolygon(...)\n SurfacePolygon(...)\n SurfacePolygon(...)\n SurfacePolygon(...)\n SurfacePolygon(...)\n SurfacePolygon(...)\n SurfacePolygon(...)\n SurfacePolygon(...)\n SurfacePolygon(...)\n SurfacePolygon(...)\n SurfacePolygon(...)\n SurfacePolygon(...)\n SurfacePolygon(...)\n SurfacePolygon(...)\n SurfacePolygon(...)\n SurfacePolygon(...)\n SurfacePolygon(...)\n SurfacePolygon(...)\n SurfacePolygon(...)\n SurfacePolygon(...)\n SurfacePolygon(...)\n SurfacePolygon(...)\n SurfacePolygon(...)\n SurfacePolygon(...)\n SurfacePolygon(...)\n SurfacePolygon(...)\n SurfacePolygon(...)\n SurfacePolygon(...)\n SurfacePolygon(...)\n SurfacePolygon(...)\n SurfacePolygon(...)\n SurfacePolygon(...)\n SurfacePolygon(...)\n SurfacePolygon(...)\n SurfacePolygon(...)\n SurfacePolygon(...)\n SurfacePolygon(...)\n SurfacePolygon(...)\n SurfacePolygon(...)\n SurfacePolygon(...)\n SurfacePolygon(...)\n SurfacePolygon(...)\n SurfacePolygon(...)\n SurfacePolygon(...)\n SurfacePolygon(...)\n SurfacePolygon(...)\n SurfacePolygon(...)\n SurfacePolygon(...)\n SurfacePolygon(...)\n SurfacePolygon(...)\n SurfacePolygon(...)\n SurfacePolygon(...)\n SurfacePolygon(...)\n SurfacePolygon(...)\n SurfacePolygon(...)\n SurfacePolygon(...)\n SurfacePolygon(...)\n SurfacePolygon(...)\n SurfacePolygon(...)\n SurfacePolygon(...)\n SurfacePolygon(...)\n SurfacePolygon(...)\n SurfacePolygon(...)\n SurfacePolygon(...)\n SurfacePolygon(...)\n SurfacePolygon(...)\n SurfacePolygon(...)\n SurfacePolygon(...)\n SurfacePolygon(...)\n SurfacePolygon(...)\n SurfacePolygon(...)\n SurfacePolygon(...)\n SurfacePolygon(...)\n SurfacePolygon(...)\n SurfacePolygon(...)\n SurfacePolygon(...)\n SurfacePolygon(...)\n SurfacePolygon(...)\n SurfacePolygon(...)\n SurfacePolygon(...)\n SurfacePolygon(...)\n SurfacePolygon(...)\n SurfacePolygon(...)\n SurfacePolygon(...)\n SurfacePolygon(...)\n SurfacePolygon(...)\n SurfacePolygon(...)\n SurfacePolygon(...)\n SurfacePolygon(...)\n SurfacePolygon(...)\n SurfacePolygon(...)\n SurfacePolygon(...)\n SurfacePolygon(...)\n SurfacePolygon(...)\n SurfacePolygon(...)\n SurfacePolygon(...)\n SurfacePolygon(...)\n SurfacePolygon(...)\n SurfacePolygon(...)\n SurfacePolygon(...)\n SurfacePolygon(...)\n SurfacePolygon(...)\n SurfacePolygon(...)\n SurfacePolygon(...)\n SurfacePolygon(...)\n SurfacePolygon(...)\n SurfacePolygon(...)\n SurfacePolygon(...)\n SurfacePolygon(...)\n SurfacePolygon(...)\n SurfacePolygon(...)\n SurfacePolygon(...)\n SurfacePolygon(...)\n SurfacePolygon(...)\n SurfacePolygon(...)\n SurfacePolygon(...)\n SurfacePolygon(...)\n SurfacePolygon(...)\n SurfacePolygon(...)\n SurfacePolygon(...)\n SurfacePolygon(...)\n SurfacePolygon(...)\n SurfacePolygon(...)\n SurfacePolygon(...)\n SurfacePolygon(...)\n SurfacePolygon(...)\n SurfacePolygon(...)\n SurfacePolygon(...)\n SurfacePolygon(...)\n SurfacePolygon(...)\n SurfacePolygon(...)\n SurfacePolygon(...)\n SurfacePolygon(...)\n SurfacePolygon(...)\n SurfacePolygon(...)\n SurfacePolygon(...)\n SurfacePolygon(...)\n SurfacePolygon(...)\n SurfacePolygon(...)\n SurfacePolygon(...)\n SurfacePolygon(...)\n SurfacePolygon(...)\n SurfacePolygon(...)\n SurfacePolygon(...)\n SurfacePolygon(...)\n SurfacePolygon(...)\n SurfacePolygon(...)\n SurfacePolygon(...)\n SurfacePolygon(...)\n SurfacePolygon(...)\n SurfacePolygon(...)\n SurfacePolygon(...)\n SurfacePolygon(...)\n SurfacePolygon(...)\n SurfacePolygon(...)\n SurfacePolygon(...)\n SurfacePolygon(...)\n SurfacePolygon(...)\n SurfacePolygon(...)\n SurfacePolygon(...)\n SurfacePolygon(...)\n SurfacePolygon(...)\n SurfacePolygon(...)\n SurfacePolygon(...)\n SurfacePolygon(...)\n SurfacePolygon(...)\n SurfacePolygon(...)\n SurfacePolygon(...)\n SurfacePolygon(...)\n SurfacePolygon(...)\n SurfacePolygon(...)\n SurfacePolygon(...)\n SurfacePolygon(...)\n SurfacePolygon(...)\n SurfacePolygon(...)\n SurfacePolygon(...)\n SurfacePolygon(...)\n SurfacePolygon(...)\n SurfacePolygon(...)\n SurfacePolygon(...)\n SurfacePolygon(...)\n SurfacePolygon(...)\n SurfacePolygon(...)\n SurfacePolygon(...)\n SurfacePolygon(...)\n SurfacePolygon(...)\n SurfacePolygon(...)\n SurfacePolygon(...)\n SurfacePolygon(...)\n SurfacePolygon(...)\n SurfacePolygon(...)\n SurfacePolygon(...)\n SurfacePolygon(...)\n SurfacePolygon(...)\n SurfacePolygon(...)\n SurfacePolygon(...)\n SurfacePolygon(...)\n SurfacePolygon(...)\n SurfacePolygon(...)\n SurfacePolygon(...)\n SurfacePolygon(...)\n SurfacePolygon(...)\n SurfacePolygon(...)\n SurfacePolygon(...)\n SurfacePolygon(...)\n SurfacePolygon(...)\n SurfacePolygon(...)\n SurfacePolygon(...)\n SurfacePolygon(...)\n SurfacePolygon(...)\n SurfacePolygon(...)\n SurfacePolygon(...)\n SurfacePolygon(...)\n SurfacePolygon(...)\n SurfacePolygon(...)\n SurfacePolygon(...)\n SurfacePolygon(...)\n SurfacePolygon(...)\n SurfacePolygon(...)\n SurfacePolygon(...)\n SurfacePolygon(...)\n SurfacePolygon(...)\n SurfacePolygon(...)\n SurfacePolygon(...)\n SurfacePolygon(...)\n SurfacePolygon(...)\n SurfacePolygon(...)\n SurfacePolygon(...)\n SurfacePolygon(...)\n SurfacePolygon(...)\n SurfacePolygon(...)\n SurfacePolygon(...)\n SurfacePolygon(...)\n SurfacePolygon(...)\n SurfacePolygon(...)\n SurfacePolygon(...)\n SurfacePolygon(...)\n SurfacePolygon(...)\n SurfacePolygon(...)\n SurfacePolygon(...)\n SurfacePolygon(...)\n SurfacePolygon(...)\n SurfacePolygon(...)\n SurfacePolygon(...)\n SurfacePolygon(...)\n SurfacePolygon(...)\n SurfacePolygon(...)\n SurfacePolygon(...)\n SurfacePolygon(...)\n SurfacePolygon(...)\n SurfacePolygon(...)\n SurfacePolygon(...)\n SurfacePolygon(...)\n SurfacePolygon(...)\n SurfacePolygon(...)\n SurfacePolygon(...)\n SurfacePolygon(...)\n SurfacePolygon(...)\n SurfacePolygon(...)\n SurfacePolygon(...)\n SurfacePolygon(...)\n SurfacePolygon(...)\n SurfacePolygon(...)\n SurfacePolygon(...)\n SurfacePolygon(...)\n SurfacePolygon(...)\n SurfacePolygon(...)\n SurfacePolygon(...)\n SurfacePolygon(...)\n SurfacePolygon(...)\n SurfacePolygon(...)\n SurfacePolygon(...)\n SurfacePolygon(...)\n SurfacePolygon(...)\n SurfacePolygon(...)\n SurfacePolygon(...)\n SurfacePolygon(...)\n SurfacePolygon(...)\n SurfacePolygon(...)\n SurfacePolygon(...)\n SurfacePolygon(...)\n SurfacePolygon(...)\n SurfacePolygon(...)\n SurfacePolygon(...)\n SurfacePolygon(...)\n SurfacePolygon(...)\n SurfacePolygon(...)\n SurfacePolygon(...)\n SurfacePolygon(...)\n SurfacePolygon(...)\n SurfacePolygon(...)\n SurfacePolygon(...)\n SurfacePolygon(...)\n SurfacePolygon(...)\n SurfacePolygon(...)\n SurfacePolygon(...)\n SurfacePolygon(...)\n SurfacePolygon(...)\n SurfacePolygon(...)\n SurfacePolygon(...)\n SurfacePolygon(...)\n SurfacePolygon(...)\n SurfacePolygon(...)\n SurfacePolygon(...)\n SurfacePolygon(...)\n SurfacePolygon(...)\n SurfacePolygon(...)\n SurfacePolygon(...)\n SurfacePolygon(...)\n SurfacePolygon(...)\n SurfacePolygon(...)\n SurfacePolygon(...)\n SurfacePolygon(...)\n SurfacePolygon(...)\n SurfacePolygon(...)\n SurfacePolygon(...)\n SurfacePolygon(...)\n SurfacePolygon(...)\n SurfacePolygon(...)\n SurfacePolygon(...)\n SurfacePolygon(...)\n SurfacePolygon(...)\n SurfacePolygon(...)\n SurfacePolygon(...)\n SurfacePolygon(...)\n SurfacePolygon(...)\n SurfacePolygon(...)\n SurfacePolygon(...)\n SurfacePolygon(...)\n SurfacePolygon(...)\n SurfacePolygon(...)\n SurfacePolygon(...)\n SurfacePolygon(...)\n SurfacePolygon(...)\n SurfacePolygon(...)\n SurfacePolygon(...)\n SurfacePolygon(...)\n SurfacePolygon(...)\n SurfacePolygon(...)\n SurfacePolygon(...)\n SurfacePolygon(...)\n SurfacePolygon(...)\n SurfacePolygon(...)\n SurfacePolygon(...)\n SurfacePolygon(...)\n SurfacePolygon(...)\n SurfacePolygon(...)\n SurfacePolygon(...)\n SurfacePolygon(...)\n SurfacePolygon(...)\n SurfacePolygon(...)\n SurfacePolygon(...)\n SurfacePolygon(...)\n SurfacePolygon(...)\n SurfacePolygon(...)\n SurfacePolygon(...)\n SurfacePolygon(...)\n SurfacePolygon(...)</pre>"
               },
               "type": "node"
              }
             ],
             "instanceArgs": {
              "namespace": "html",
              "tag": "div"
             },
             "nodeType": "DOM",
             "props": {
              "className": "interact-flex-row interact-widget"
             },
             "type": "node"
            }
           }
          },
          "systemjs_options": null
         },
         "nodeType": "Scope",
         "props": {},
         "type": "node"
        }
       ],
       "instanceArgs": {
        "namespace": "html",
        "tag": "div"
       },
       "nodeType": "DOM",
       "props": {},
       "type": "node"
      },
      "text/html": [
       "<div\n",
       "    class=\"webio-mountpoint\"\n",
       "    data-webio-mountpoint=\"16275386267930115690\"\n",
       ">\n",
       "    <script>\n",
       "    if (window.require && require.defined && require.defined(\"nbextensions/webio-jupyter-notebook\")) {\n",
       "        console.log(\"Jupyter WebIO extension detected, not mounting.\");\n",
       "    } else if (window.WebIO) {\n",
       "        WebIO.mount(\n",
       "            document.querySelector('[data-webio-mountpoint=\"16275386267930115690\"]'),\n",
       "            {\"props\":{},\"nodeType\":\"DOM\",\"type\":\"node\",\"instanceArgs\":{\"namespace\":\"html\",\"tag\":\"div\"},\"children\":[{\"props\":{\"className\":\"field interact-widget\"},\"nodeType\":\"DOM\",\"type\":\"node\",\"instanceArgs\":{\"namespace\":\"html\",\"tag\":\"div\"},\"children\":[{\"props\":{},\"nodeType\":\"Scope\",\"type\":\"node\",\"instanceArgs\":{\"imports\":{\"data\":[{\"name\":\"knockout\",\"type\":\"js\",\"url\":\"\\/assetserver\\/92c2f1237c7de526b82b854e47551e089e074ac2-knockout.js\"},{\"name\":\"knockout_punches\",\"type\":\"js\",\"url\":\"\\/assetserver\\/39e4d1dceef49085ebf36edb09c92c7574c58816-knockout_punches.js\"},{\"name\":null,\"type\":\"js\",\"url\":\"\\/assetserver\\/bea19c4f7d50366923bb3fbba800750b2d533f80-all.js\"},{\"name\":null,\"type\":\"css\",\"url\":\"\\/assetserver\\/c4d4f4f0ce9b24709d6d39765a20423cfb274e6a-style.css\"},{\"name\":null,\"type\":\"css\",\"url\":\"\\/assetserver\\/6513af17bee55ce33a5387a0f8cc5237a8ed2443-bulma_confined.min.css\"}],\"type\":\"async_block\"},\"id\":\"3749976526305033678\",\"handlers\":{\"changes\":[\"(function (val){return (val!=this.model[\\\"changes\\\"]()) ? (this.valueFromJulia[\\\"changes\\\"]=true, this.model[\\\"changes\\\"](val)) : undefined})\"],\"index\":[\"(function (val){return (val!=this.model[\\\"index\\\"]()) ? (this.valueFromJulia[\\\"index\\\"]=true, this.model[\\\"index\\\"](val)) : undefined})\"]},\"systemjs_options\":null,\"mount_callbacks\":[\"function () {\\n    var handler = (function (ko, koPunches) {\\n    ko.punches.enableAll();\\n    ko.bindingHandlers.numericValue = {\\n        init: function(element, valueAccessor, allBindings, data, context) {\\n            var stringified = ko.observable(ko.unwrap(valueAccessor()));\\n            stringified.subscribe(function(value) {\\n                var val = parseFloat(value);\\n                if (!isNaN(val)) {\\n                    valueAccessor()(val);\\n                }\\n            });\\n            valueAccessor().subscribe(function(value) {\\n                var str = JSON.stringify(value);\\n                if ((str == \\\"0\\\") && ([\\\"-0\\\", \\\"-0.\\\"].indexOf(stringified()) >= 0))\\n                     return;\\n                 if ([\\\"null\\\", \\\"\\\"].indexOf(str) >= 0)\\n                     return;\\n                stringified(str);\\n            });\\n            ko.applyBindingsToNode(\\n                element,\\n                {\\n                    value: stringified,\\n                    valueUpdate: allBindings.get('valueUpdate'),\\n                },\\n                context,\\n            );\\n        }\\n    };\\n    var json_data = {\\\"formatted_vals\\\":[\\\"1.0\\\",\\\"1.1\\\",\\\"1.2\\\",\\\"1.3\\\",\\\"1.4\\\",\\\"1.5\\\",\\\"1.6\\\",\\\"1.7\\\",\\\"1.8\\\",\\\"1.9\\\",\\\"2.0\\\",\\\"2.1\\\",\\\"2.2\\\",\\\"2.3\\\",\\\"2.4\\\",\\\"2.5\\\",\\\"2.6\\\",\\\"2.7\\\",\\\"2.8\\\",\\\"2.9\\\",\\\"3.0\\\",\\\"3.1\\\",\\\"3.2\\\",\\\"3.3\\\",\\\"3.4\\\",\\\"3.5\\\",\\\"3.6\\\",\\\"3.7\\\",\\\"3.8\\\",\\\"3.9\\\",\\\"4.0\\\",\\\"4.1\\\",\\\"4.2\\\",\\\"4.3\\\",\\\"4.4\\\",\\\"4.5\\\",\\\"4.6\\\",\\\"4.7\\\",\\\"4.8\\\",\\\"4.9\\\",\\\"5.0\\\",\\\"5.1\\\",\\\"5.2\\\",\\\"5.3\\\",\\\"5.4\\\",\\\"5.5\\\",\\\"5.6\\\",\\\"5.7\\\",\\\"5.8\\\",\\\"5.9\\\",\\\"6.0\\\",\\\"6.1\\\",\\\"6.2\\\",\\\"6.3\\\",\\\"6.4\\\",\\\"6.5\\\",\\\"6.6\\\",\\\"6.7\\\",\\\"6.8\\\",\\\"6.9\\\",\\\"7.0\\\",\\\"7.1\\\",\\\"7.2\\\",\\\"7.3\\\",\\\"7.4\\\",\\\"7.5\\\",\\\"7.6\\\",\\\"7.7\\\",\\\"7.8\\\",\\\"7.9\\\",\\\"8.0\\\",\\\"8.1\\\",\\\"8.2\\\",\\\"8.3\\\",\\\"8.4\\\",\\\"8.5\\\",\\\"8.6\\\",\\\"8.7\\\",\\\"8.8\\\",\\\"8.9\\\",\\\"9.0\\\",\\\"9.1\\\",\\\"9.2\\\",\\\"9.3\\\",\\\"9.4\\\",\\\"9.5\\\",\\\"9.6\\\",\\\"9.7\\\",\\\"9.8\\\",\\\"9.9\\\",\\\"10.0\\\",\\\"10.1\\\",\\\"10.2\\\",\\\"10.3\\\",\\\"10.4\\\",\\\"10.5\\\",\\\"10.6\\\",\\\"10.7\\\",\\\"10.8\\\",\\\"10.9\\\",\\\"11.0\\\",\\\"11.1\\\",\\\"11.2\\\",\\\"11.3\\\",\\\"11.4\\\",\\\"11.5\\\",\\\"11.6\\\",\\\"11.7\\\",\\\"11.8\\\",\\\"11.9\\\",\\\"12.0\\\"],\\\"changes\\\":WebIO.getval({\\\"name\\\":\\\"changes\\\",\\\"scope\\\":\\\"3749976526305033678\\\",\\\"id\\\":\\\"5249591597816052329\\\",\\\"type\\\":\\\"observable\\\"}),\\\"index\\\":WebIO.getval({\\\"name\\\":\\\"index\\\",\\\"scope\\\":\\\"3749976526305033678\\\",\\\"id\\\":\\\"16354351925445755136\\\",\\\"type\\\":\\\"observable\\\"})};\\n    var self = this;\\n    function AppViewModel() {\\n        for (var key in json_data) {\\n            var el = json_data[key];\\n            this[key] = Array.isArray(el) ? ko.observableArray(el) : ko.observable(el);\\n        }\\n        \\n        [this[\\\"formatted_val\\\"]=ko.computed(    function(){\\n        return this.formatted_vals()[parseInt(this.index())-(1)];\\n    }\\n,this)]\\n        [this[\\\"changes\\\"].subscribe((function (val){!(this.valueFromJulia[\\\"changes\\\"]) ? (WebIO.setval({\\\"name\\\":\\\"changes\\\",\\\"scope\\\":\\\"3749976526305033678\\\",\\\"id\\\":\\\"5249591597816052329\\\",\\\"type\\\":\\\"observable\\\"},val)) : undefined; return this.valueFromJulia[\\\"changes\\\"]=false}),self),this[\\\"index\\\"].subscribe((function (val){!(this.valueFromJulia[\\\"index\\\"]) ? (WebIO.setval({\\\"name\\\":\\\"index\\\",\\\"scope\\\":\\\"3749976526305033678\\\",\\\"id\\\":\\\"16354351925445755136\\\",\\\"type\\\":\\\"observable\\\"},val)) : undefined; return this.valueFromJulia[\\\"index\\\"]=false}),self)]\\n        \\n    }\\n    self.model = new AppViewModel();\\n    self.valueFromJulia = {};\\n    for (var key in json_data) {\\n        self.valueFromJulia[key] = false;\\n    }\\n    ko.applyBindings(self.model, self.dom);\\n}\\n);\\n    (WebIO.importBlock({\\\"data\\\":[{\\\"name\\\":\\\"knockout\\\",\\\"type\\\":\\\"js\\\",\\\"url\\\":\\\"\\/assetserver\\/92c2f1237c7de526b82b854e47551e089e074ac2-knockout.js\\\"},{\\\"name\\\":\\\"knockout_punches\\\",\\\"type\\\":\\\"js\\\",\\\"url\\\":\\\"\\/assetserver\\/39e4d1dceef49085ebf36edb09c92c7574c58816-knockout_punches.js\\\"}],\\\"type\\\":\\\"async_block\\\"})).then((imports) => handler.apply(this, imports));\\n}\\n\"],\"observables\":{\"changes\":{\"sync\":false,\"id\":\"5249591597816052329\",\"value\":0},\"index\":{\"sync\":true,\"id\":\"16354351925445755136\",\"value\":56}}},\"children\":[{\"props\":{\"className\":\"interact-flex-row interact-widget\"},\"nodeType\":\"DOM\",\"type\":\"node\",\"instanceArgs\":{\"namespace\":\"html\",\"tag\":\"div\"},\"children\":[{\"props\":{\"className\":\"interact-flex-row-left\"},\"nodeType\":\"DOM\",\"type\":\"node\",\"instanceArgs\":{\"namespace\":\"html\",\"tag\":\"div\"},\"children\":[{\"props\":{\"className\":\"interact \",\"style\":{\"padding\":\"5px 10px 0px 10px\"}},\"nodeType\":\"DOM\",\"type\":\"node\",\"instanceArgs\":{\"namespace\":\"html\",\"tag\":\"label\"},\"children\":[\"Minimum Amplitude y\"]}]},{\"props\":{\"className\":\"interact-flex-row-center\"},\"nodeType\":\"DOM\",\"type\":\"node\",\"instanceArgs\":{\"namespace\":\"html\",\"tag\":\"div\"},\"children\":[{\"props\":{\"max\":111,\"min\":1,\"attributes\":{\"type\":\"range\",\"data-bind\":\"numericValue: index, valueUpdate: 'input', event: {change: function (){this.changes(this.changes()+1)}}\",\"orient\":\"horizontal\"},\"step\":1,\"className\":\"slider slider is-fullwidth\",\"style\":{}},\"nodeType\":\"DOM\",\"type\":\"node\",\"instanceArgs\":{\"namespace\":\"html\",\"tag\":\"input\"},\"children\":[]}]},{\"props\":{\"className\":\"interact-flex-row-right\"},\"nodeType\":\"DOM\",\"type\":\"node\",\"instanceArgs\":{\"namespace\":\"html\",\"tag\":\"div\"},\"children\":[{\"props\":{\"attributes\":{\"data-bind\":\"text: formatted_val\"}},\"nodeType\":\"DOM\",\"type\":\"node\",\"instanceArgs\":{\"namespace\":\"html\",\"tag\":\"p\"},\"children\":[]}]}]}]}]},{\"props\":{\"className\":\"field interact-widget\"},\"nodeType\":\"DOM\",\"type\":\"node\",\"instanceArgs\":{\"namespace\":\"html\",\"tag\":\"div\"},\"children\":[{\"props\":{},\"nodeType\":\"Scope\",\"type\":\"node\",\"instanceArgs\":{\"imports\":{\"data\":[{\"name\":\"knockout\",\"type\":\"js\",\"url\":\"\\/assetserver\\/92c2f1237c7de526b82b854e47551e089e074ac2-knockout.js\"},{\"name\":\"knockout_punches\",\"type\":\"js\",\"url\":\"\\/assetserver\\/39e4d1dceef49085ebf36edb09c92c7574c58816-knockout_punches.js\"},{\"name\":null,\"type\":\"js\",\"url\":\"\\/assetserver\\/bea19c4f7d50366923bb3fbba800750b2d533f80-all.js\"},{\"name\":null,\"type\":\"css\",\"url\":\"\\/assetserver\\/c4d4f4f0ce9b24709d6d39765a20423cfb274e6a-style.css\"},{\"name\":null,\"type\":\"css\",\"url\":\"\\/assetserver\\/6513af17bee55ce33a5387a0f8cc5237a8ed2443-bulma_confined.min.css\"}],\"type\":\"async_block\"},\"id\":\"1139477756676125265\",\"handlers\":{\"changes\":[\"(function (val){return (val!=this.model[\\\"changes\\\"]()) ? (this.valueFromJulia[\\\"changes\\\"]=true, this.model[\\\"changes\\\"](val)) : undefined})\"],\"index\":[\"(function (val){return (val!=this.model[\\\"index\\\"]()) ? (this.valueFromJulia[\\\"index\\\"]=true, this.model[\\\"index\\\"](val)) : undefined})\"]},\"systemjs_options\":null,\"mount_callbacks\":[\"function () {\\n    var handler = (function (ko, koPunches) {\\n    ko.punches.enableAll();\\n    ko.bindingHandlers.numericValue = {\\n        init: function(element, valueAccessor, allBindings, data, context) {\\n            var stringified = ko.observable(ko.unwrap(valueAccessor()));\\n            stringified.subscribe(function(value) {\\n                var val = parseFloat(value);\\n                if (!isNaN(val)) {\\n                    valueAccessor()(val);\\n                }\\n            });\\n            valueAccessor().subscribe(function(value) {\\n                var str = JSON.stringify(value);\\n                if ((str == \\\"0\\\") && ([\\\"-0\\\", \\\"-0.\\\"].indexOf(stringified()) >= 0))\\n                     return;\\n                 if ([\\\"null\\\", \\\"\\\"].indexOf(str) >= 0)\\n                     return;\\n                stringified(str);\\n            });\\n            ko.applyBindingsToNode(\\n                element,\\n                {\\n                    value: stringified,\\n                    valueUpdate: allBindings.get('valueUpdate'),\\n                },\\n                context,\\n            );\\n        }\\n    };\\n    var json_data = {\\\"formatted_vals\\\":[\\\"1.0\\\",\\\"1.1\\\",\\\"1.2\\\",\\\"1.3\\\",\\\"1.4\\\",\\\"1.5\\\",\\\"1.6\\\",\\\"1.7\\\",\\\"1.8\\\",\\\"1.9\\\",\\\"2.0\\\",\\\"2.1\\\",\\\"2.2\\\",\\\"2.3\\\",\\\"2.4\\\",\\\"2.5\\\",\\\"2.6\\\",\\\"2.7\\\",\\\"2.8\\\",\\\"2.9\\\",\\\"3.0\\\",\\\"3.1\\\",\\\"3.2\\\",\\\"3.3\\\",\\\"3.4\\\",\\\"3.5\\\",\\\"3.6\\\",\\\"3.7\\\",\\\"3.8\\\",\\\"3.9\\\",\\\"4.0\\\",\\\"4.1\\\",\\\"4.2\\\",\\\"4.3\\\",\\\"4.4\\\",\\\"4.5\\\",\\\"4.6\\\",\\\"4.7\\\",\\\"4.8\\\",\\\"4.9\\\",\\\"5.0\\\",\\\"5.1\\\",\\\"5.2\\\",\\\"5.3\\\",\\\"5.4\\\",\\\"5.5\\\",\\\"5.6\\\",\\\"5.7\\\",\\\"5.8\\\",\\\"5.9\\\",\\\"6.0\\\",\\\"6.1\\\",\\\"6.2\\\",\\\"6.3\\\",\\\"6.4\\\",\\\"6.5\\\",\\\"6.6\\\",\\\"6.7\\\",\\\"6.8\\\",\\\"6.9\\\",\\\"7.0\\\",\\\"7.1\\\",\\\"7.2\\\",\\\"7.3\\\",\\\"7.4\\\",\\\"7.5\\\",\\\"7.6\\\",\\\"7.7\\\",\\\"7.8\\\",\\\"7.9\\\",\\\"8.0\\\",\\\"8.1\\\",\\\"8.2\\\",\\\"8.3\\\",\\\"8.4\\\",\\\"8.5\\\",\\\"8.6\\\",\\\"8.7\\\",\\\"8.8\\\",\\\"8.9\\\",\\\"9.0\\\",\\\"9.1\\\",\\\"9.2\\\",\\\"9.3\\\",\\\"9.4\\\",\\\"9.5\\\",\\\"9.6\\\",\\\"9.7\\\",\\\"9.8\\\",\\\"9.9\\\",\\\"10.0\\\",\\\"10.1\\\",\\\"10.2\\\",\\\"10.3\\\",\\\"10.4\\\",\\\"10.5\\\",\\\"10.6\\\",\\\"10.7\\\",\\\"10.8\\\",\\\"10.9\\\",\\\"11.0\\\",\\\"11.1\\\",\\\"11.2\\\",\\\"11.3\\\",\\\"11.4\\\",\\\"11.5\\\",\\\"11.6\\\",\\\"11.7\\\",\\\"11.8\\\",\\\"11.9\\\",\\\"12.0\\\"],\\\"changes\\\":WebIO.getval({\\\"name\\\":\\\"changes\\\",\\\"scope\\\":\\\"1139477756676125265\\\",\\\"id\\\":\\\"2354827509904298122\\\",\\\"type\\\":\\\"observable\\\"}),\\\"index\\\":WebIO.getval({\\\"name\\\":\\\"index\\\",\\\"scope\\\":\\\"1139477756676125265\\\",\\\"id\\\":\\\"6259329819638033945\\\",\\\"type\\\":\\\"observable\\\"})};\\n    var self = this;\\n    function AppViewModel() {\\n        for (var key in json_data) {\\n            var el = json_data[key];\\n            this[key] = Array.isArray(el) ? ko.observableArray(el) : ko.observable(el);\\n        }\\n        \\n        [this[\\\"formatted_val\\\"]=ko.computed(    function(){\\n        return this.formatted_vals()[parseInt(this.index())-(1)];\\n    }\\n,this)]\\n        [this[\\\"changes\\\"].subscribe((function (val){!(this.valueFromJulia[\\\"changes\\\"]) ? (WebIO.setval({\\\"name\\\":\\\"changes\\\",\\\"scope\\\":\\\"1139477756676125265\\\",\\\"id\\\":\\\"2354827509904298122\\\",\\\"type\\\":\\\"observable\\\"},val)) : undefined; return this.valueFromJulia[\\\"changes\\\"]=false}),self),this[\\\"index\\\"].subscribe((function (val){!(this.valueFromJulia[\\\"index\\\"]) ? (WebIO.setval({\\\"name\\\":\\\"index\\\",\\\"scope\\\":\\\"1139477756676125265\\\",\\\"id\\\":\\\"6259329819638033945\\\",\\\"type\\\":\\\"observable\\\"},val)) : undefined; return this.valueFromJulia[\\\"index\\\"]=false}),self)]\\n        \\n    }\\n    self.model = new AppViewModel();\\n    self.valueFromJulia = {};\\n    for (var key in json_data) {\\n        self.valueFromJulia[key] = false;\\n    }\\n    ko.applyBindings(self.model, self.dom);\\n}\\n);\\n    (WebIO.importBlock({\\\"data\\\":[{\\\"name\\\":\\\"knockout\\\",\\\"type\\\":\\\"js\\\",\\\"url\\\":\\\"\\/assetserver\\/92c2f1237c7de526b82b854e47551e089e074ac2-knockout.js\\\"},{\\\"name\\\":\\\"knockout_punches\\\",\\\"type\\\":\\\"js\\\",\\\"url\\\":\\\"\\/assetserver\\/39e4d1dceef49085ebf36edb09c92c7574c58816-knockout_punches.js\\\"}],\\\"type\\\":\\\"async_block\\\"})).then((imports) => handler.apply(this, imports));\\n}\\n\"],\"observables\":{\"changes\":{\"sync\":false,\"id\":\"2354827509904298122\",\"value\":0},\"index\":{\"sync\":true,\"id\":\"6259329819638033945\",\"value\":56}}},\"children\":[{\"props\":{\"className\":\"interact-flex-row interact-widget\"},\"nodeType\":\"DOM\",\"type\":\"node\",\"instanceArgs\":{\"namespace\":\"html\",\"tag\":\"div\"},\"children\":[{\"props\":{\"className\":\"interact-flex-row-left\"},\"nodeType\":\"DOM\",\"type\":\"node\",\"instanceArgs\":{\"namespace\":\"html\",\"tag\":\"div\"},\"children\":[{\"props\":{\"className\":\"interact \",\"style\":{\"padding\":\"5px 10px 0px 10px\"}},\"nodeType\":\"DOM\",\"type\":\"node\",\"instanceArgs\":{\"namespace\":\"html\",\"tag\":\"label\"},\"children\":[\"Maximum Amplitude y\"]}]},{\"props\":{\"className\":\"interact-flex-row-center\"},\"nodeType\":\"DOM\",\"type\":\"node\",\"instanceArgs\":{\"namespace\":\"html\",\"tag\":\"div\"},\"children\":[{\"props\":{\"max\":111,\"min\":1,\"attributes\":{\"type\":\"range\",\"data-bind\":\"numericValue: index, valueUpdate: 'input', event: {change: function (){this.changes(this.changes()+1)}}\",\"orient\":\"horizontal\"},\"step\":1,\"className\":\"slider slider is-fullwidth\",\"style\":{}},\"nodeType\":\"DOM\",\"type\":\"node\",\"instanceArgs\":{\"namespace\":\"html\",\"tag\":\"input\"},\"children\":[]}]},{\"props\":{\"className\":\"interact-flex-row-right\"},\"nodeType\":\"DOM\",\"type\":\"node\",\"instanceArgs\":{\"namespace\":\"html\",\"tag\":\"div\"},\"children\":[{\"props\":{\"attributes\":{\"data-bind\":\"text: formatted_val\"}},\"nodeType\":\"DOM\",\"type\":\"node\",\"instanceArgs\":{\"namespace\":\"html\",\"tag\":\"p\"},\"children\":[]}]}]}]}]},{\"props\":{\"className\":\"field interact-widget\"},\"nodeType\":\"DOM\",\"type\":\"node\",\"instanceArgs\":{\"namespace\":\"html\",\"tag\":\"div\"},\"children\":[{\"props\":{},\"nodeType\":\"Scope\",\"type\":\"node\",\"instanceArgs\":{\"imports\":{\"data\":[{\"name\":\"knockout\",\"type\":\"js\",\"url\":\"\\/assetserver\\/92c2f1237c7de526b82b854e47551e089e074ac2-knockout.js\"},{\"name\":\"knockout_punches\",\"type\":\"js\",\"url\":\"\\/assetserver\\/39e4d1dceef49085ebf36edb09c92c7574c58816-knockout_punches.js\"},{\"name\":null,\"type\":\"js\",\"url\":\"\\/assetserver\\/bea19c4f7d50366923bb3fbba800750b2d533f80-all.js\"},{\"name\":null,\"type\":\"css\",\"url\":\"\\/assetserver\\/c4d4f4f0ce9b24709d6d39765a20423cfb274e6a-style.css\"},{\"name\":null,\"type\":\"css\",\"url\":\"\\/assetserver\\/6513af17bee55ce33a5387a0f8cc5237a8ed2443-bulma_confined.min.css\"}],\"type\":\"async_block\"},\"id\":\"275914290728990582\",\"handlers\":{\"changes\":[\"(function (val){return (val!=this.model[\\\"changes\\\"]()) ? (this.valueFromJulia[\\\"changes\\\"]=true, this.model[\\\"changes\\\"](val)) : undefined})\"],\"index\":[\"(function (val){return (val!=this.model[\\\"index\\\"]()) ? (this.valueFromJulia[\\\"index\\\"]=true, this.model[\\\"index\\\"](val)) : undefined})\"]},\"systemjs_options\":null,\"mount_callbacks\":[\"function () {\\n    var handler = (function (ko, koPunches) {\\n    ko.punches.enableAll();\\n    ko.bindingHandlers.numericValue = {\\n        init: function(element, valueAccessor, allBindings, data, context) {\\n            var stringified = ko.observable(ko.unwrap(valueAccessor()));\\n            stringified.subscribe(function(value) {\\n                var val = parseFloat(value);\\n                if (!isNaN(val)) {\\n                    valueAccessor()(val);\\n                }\\n            });\\n            valueAccessor().subscribe(function(value) {\\n                var str = JSON.stringify(value);\\n                if ((str == \\\"0\\\") && ([\\\"-0\\\", \\\"-0.\\\"].indexOf(stringified()) >= 0))\\n                     return;\\n                 if ([\\\"null\\\", \\\"\\\"].indexOf(str) >= 0)\\n                     return;\\n                stringified(str);\\n            });\\n            ko.applyBindingsToNode(\\n                element,\\n                {\\n                    value: stringified,\\n                    valueUpdate: allBindings.get('valueUpdate'),\\n                },\\n                context,\\n            );\\n        }\\n    };\\n    var json_data = {\\\"formatted_vals\\\":[\\\"2\\\",\\\"3\\\",\\\"4\\\",\\\"5\\\",\\\"6\\\",\\\"7\\\",\\\"8\\\",\\\"9\\\",\\\"10\\\",\\\"11\\\",\\\"12\\\",\\\"13\\\",\\\"14\\\",\\\"15\\\",\\\"16\\\",\\\"17\\\",\\\"18\\\",\\\"19\\\",\\\"20\\\"],\\\"changes\\\":WebIO.getval({\\\"name\\\":\\\"changes\\\",\\\"scope\\\":\\\"275914290728990582\\\",\\\"id\\\":\\\"8605593840906717149\\\",\\\"type\\\":\\\"observable\\\"}),\\\"index\\\":WebIO.getval({\\\"name\\\":\\\"index\\\",\\\"scope\\\":\\\"275914290728990582\\\",\\\"id\\\":\\\"17213031736463623574\\\",\\\"type\\\":\\\"observable\\\"})};\\n    var self = this;\\n    function AppViewModel() {\\n        for (var key in json_data) {\\n            var el = json_data[key];\\n            this[key] = Array.isArray(el) ? ko.observableArray(el) : ko.observable(el);\\n        }\\n        \\n        [this[\\\"formatted_val\\\"]=ko.computed(    function(){\\n        return this.formatted_vals()[parseInt(this.index())-(1)];\\n    }\\n,this)]\\n        [this[\\\"changes\\\"].subscribe((function (val){!(this.valueFromJulia[\\\"changes\\\"]) ? (WebIO.setval({\\\"name\\\":\\\"changes\\\",\\\"scope\\\":\\\"275914290728990582\\\",\\\"id\\\":\\\"8605593840906717149\\\",\\\"type\\\":\\\"observable\\\"},val)) : undefined; return this.valueFromJulia[\\\"changes\\\"]=false}),self),this[\\\"index\\\"].subscribe((function (val){!(this.valueFromJulia[\\\"index\\\"]) ? (WebIO.setval({\\\"name\\\":\\\"index\\\",\\\"scope\\\":\\\"275914290728990582\\\",\\\"id\\\":\\\"17213031736463623574\\\",\\\"type\\\":\\\"observable\\\"},val)) : undefined; return this.valueFromJulia[\\\"index\\\"]=false}),self)]\\n        \\n    }\\n    self.model = new AppViewModel();\\n    self.valueFromJulia = {};\\n    for (var key in json_data) {\\n        self.valueFromJulia[key] = false;\\n    }\\n    ko.applyBindings(self.model, self.dom);\\n}\\n);\\n    (WebIO.importBlock({\\\"data\\\":[{\\\"name\\\":\\\"knockout\\\",\\\"type\\\":\\\"js\\\",\\\"url\\\":\\\"\\/assetserver\\/92c2f1237c7de526b82b854e47551e089e074ac2-knockout.js\\\"},{\\\"name\\\":\\\"knockout_punches\\\",\\\"type\\\":\\\"js\\\",\\\"url\\\":\\\"\\/assetserver\\/39e4d1dceef49085ebf36edb09c92c7574c58816-knockout_punches.js\\\"}],\\\"type\\\":\\\"async_block\\\"})).then((imports) => handler.apply(this, imports));\\n}\\n\"],\"observables\":{\"changes\":{\"sync\":false,\"id\":\"8605593840906717149\",\"value\":0},\"index\":{\"sync\":true,\"id\":\"17213031736463623574\",\"value\":10}}},\"children\":[{\"props\":{\"className\":\"interact-flex-row interact-widget\"},\"nodeType\":\"DOM\",\"type\":\"node\",\"instanceArgs\":{\"namespace\":\"html\",\"tag\":\"div\"},\"children\":[{\"props\":{\"className\":\"interact-flex-row-left\"},\"nodeType\":\"DOM\",\"type\":\"node\",\"instanceArgs\":{\"namespace\":\"html\",\"tag\":\"div\"},\"children\":[{\"props\":{\"className\":\"interact \",\"style\":{\"padding\":\"5px 10px 0px 10px\"}},\"nodeType\":\"DOM\",\"type\":\"node\",\"instanceArgs\":{\"namespace\":\"html\",\"tag\":\"label\"},\"children\":[\"Height\"]}]},{\"props\":{\"className\":\"interact-flex-row-center\"},\"nodeType\":\"DOM\",\"type\":\"node\",\"instanceArgs\":{\"namespace\":\"html\",\"tag\":\"div\"},\"children\":[{\"props\":{\"max\":19,\"min\":1,\"attributes\":{\"type\":\"range\",\"data-bind\":\"numericValue: index, valueUpdate: 'input', event: {change: function (){this.changes(this.changes()+1)}}\",\"orient\":\"horizontal\"},\"step\":1,\"className\":\"slider slider is-fullwidth\",\"style\":{}},\"nodeType\":\"DOM\",\"type\":\"node\",\"instanceArgs\":{\"namespace\":\"html\",\"tag\":\"input\"},\"children\":[]}]},{\"props\":{\"className\":\"interact-flex-row-right\"},\"nodeType\":\"DOM\",\"type\":\"node\",\"instanceArgs\":{\"namespace\":\"html\",\"tag\":\"div\"},\"children\":[{\"props\":{\"attributes\":{\"data-bind\":\"text: formatted_val\"}},\"nodeType\":\"DOM\",\"type\":\"node\",\"instanceArgs\":{\"namespace\":\"html\",\"tag\":\"p\"},\"children\":[]}]}]}]}]},{\"props\":{},\"nodeType\":\"Scope\",\"type\":\"node\",\"instanceArgs\":{\"imports\":{\"data\":[],\"type\":\"async_block\"},\"id\":\"10729491189759818836\",\"handlers\":{},\"systemjs_options\":null,\"mount_callbacks\":[],\"observables\":{\"obs-node\":{\"sync\":false,\"id\":\"11336822310627102083\",\"value\":{\"props\":{\"className\":\"interact-flex-row interact-widget\"},\"nodeType\":\"DOM\",\"type\":\"node\",\"instanceArgs\":{\"namespace\":\"html\",\"tag\":\"div\"},\"children\":[{\"props\":{\"setInnerHtml\":\"<pre>1680-element Array{SurfacePolygon,1}:\\n SurfacePolygon(...)\\n SurfacePolygon(...)\\n SurfacePolygon(...)\\n SurfacePolygon(...)\\n SurfacePolygon(...)\\n SurfacePolygon(...)\\n SurfacePolygon(...)\\n SurfacePolygon(...)\\n SurfacePolygon(...)\\n SurfacePolygon(...)\\n SurfacePolygon(...)\\n SurfacePolygon(...)\\n SurfacePolygon(...)\\n SurfacePolygon(...)\\n SurfacePolygon(...)\\n SurfacePolygon(...)\\n SurfacePolygon(...)\\n SurfacePolygon(...)\\n SurfacePolygon(...)\\n SurfacePolygon(...)\\n SurfacePolygon(...)\\n SurfacePolygon(...)\\n SurfacePolygon(...)\\n SurfacePolygon(...)\\n SurfacePolygon(...)\\n SurfacePolygon(...)\\n SurfacePolygon(...)\\n SurfacePolygon(...)\\n SurfacePolygon(...)\\n SurfacePolygon(...)\\n SurfacePolygon(...)\\n SurfacePolygon(...)\\n SurfacePolygon(...)\\n SurfacePolygon(...)\\n SurfacePolygon(...)\\n SurfacePolygon(...)\\n SurfacePolygon(...)\\n SurfacePolygon(...)\\n SurfacePolygon(...)\\n SurfacePolygon(...)\\n SurfacePolygon(...)\\n SurfacePolygon(...)\\n SurfacePolygon(...)\\n SurfacePolygon(...)\\n SurfacePolygon(...)\\n SurfacePolygon(...)\\n SurfacePolygon(...)\\n SurfacePolygon(...)\\n SurfacePolygon(...)\\n SurfacePolygon(...)\\n SurfacePolygon(...)\\n SurfacePolygon(...)\\n SurfacePolygon(...)\\n SurfacePolygon(...)\\n SurfacePolygon(...)\\n SurfacePolygon(...)\\n SurfacePolygon(...)\\n SurfacePolygon(...)\\n SurfacePolygon(...)\\n SurfacePolygon(...)\\n SurfacePolygon(...)\\n SurfacePolygon(...)\\n SurfacePolygon(...)\\n SurfacePolygon(...)\\n SurfacePolygon(...)\\n SurfacePolygon(...)\\n SurfacePolygon(...)\\n SurfacePolygon(...)\\n SurfacePolygon(...)\\n SurfacePolygon(...)\\n SurfacePolygon(...)\\n SurfacePolygon(...)\\n SurfacePolygon(...)\\n SurfacePolygon(...)\\n SurfacePolygon(...)\\n SurfacePolygon(...)\\n SurfacePolygon(...)\\n SurfacePolygon(...)\\n SurfacePolygon(...)\\n SurfacePolygon(...)\\n SurfacePolygon(...)\\n SurfacePolygon(...)\\n SurfacePolygon(...)\\n SurfacePolygon(...)\\n SurfacePolygon(...)\\n SurfacePolygon(...)\\n SurfacePolygon(...)\\n SurfacePolygon(...)\\n SurfacePolygon(...)\\n SurfacePolygon(...)\\n SurfacePolygon(...)\\n SurfacePolygon(...)\\n SurfacePolygon(...)\\n SurfacePolygon(...)\\n SurfacePolygon(...)\\n SurfacePolygon(...)\\n SurfacePolygon(...)\\n SurfacePolygon(...)\\n SurfacePolygon(...)\\n SurfacePolygon(...)\\n SurfacePolygon(...)\\n SurfacePolygon(...)\\n SurfacePolygon(...)\\n SurfacePolygon(...)\\n SurfacePolygon(...)\\n SurfacePolygon(...)\\n SurfacePolygon(...)\\n SurfacePolygon(...)\\n SurfacePolygon(...)\\n SurfacePolygon(...)\\n SurfacePolygon(...)\\n SurfacePolygon(...)\\n SurfacePolygon(...)\\n SurfacePolygon(...)\\n SurfacePolygon(...)\\n SurfacePolygon(...)\\n SurfacePolygon(...)\\n SurfacePolygon(...)\\n SurfacePolygon(...)\\n SurfacePolygon(...)\\n SurfacePolygon(...)\\n SurfacePolygon(...)\\n SurfacePolygon(...)\\n SurfacePolygon(...)\\n SurfacePolygon(...)\\n SurfacePolygon(...)\\n SurfacePolygon(...)\\n SurfacePolygon(...)\\n SurfacePolygon(...)\\n SurfacePolygon(...)\\n SurfacePolygon(...)\\n SurfacePolygon(...)\\n SurfacePolygon(...)\\n SurfacePolygon(...)\\n SurfacePolygon(...)\\n SurfacePolygon(...)\\n SurfacePolygon(...)\\n SurfacePolygon(...)\\n SurfacePolygon(...)\\n SurfacePolygon(...)\\n SurfacePolygon(...)\\n SurfacePolygon(...)\\n SurfacePolygon(...)\\n SurfacePolygon(...)\\n SurfacePolygon(...)\\n SurfacePolygon(...)\\n SurfacePolygon(...)\\n SurfacePolygon(...)\\n SurfacePolygon(...)\\n SurfacePolygon(...)\\n SurfacePolygon(...)\\n SurfacePolygon(...)\\n SurfacePolygon(...)\\n SurfacePolygon(...)\\n SurfacePolygon(...)\\n SurfacePolygon(...)\\n SurfacePolygon(...)\\n SurfacePolygon(...)\\n SurfacePolygon(...)\\n SurfacePolygon(...)\\n SurfacePolygon(...)\\n SurfacePolygon(...)\\n SurfacePolygon(...)\\n SurfacePolygon(...)\\n SurfacePolygon(...)\\n SurfacePolygon(...)\\n SurfacePolygon(...)\\n SurfacePolygon(...)\\n SurfacePolygon(...)\\n SurfacePolygon(...)\\n SurfacePolygon(...)\\n SurfacePolygon(...)\\n SurfacePolygon(...)\\n SurfacePolygon(...)\\n SurfacePolygon(...)\\n SurfacePolygon(...)\\n SurfacePolygon(...)\\n SurfacePolygon(...)\\n SurfacePolygon(...)\\n SurfacePolygon(...)\\n SurfacePolygon(...)\\n SurfacePolygon(...)\\n SurfacePolygon(...)\\n SurfacePolygon(...)\\n SurfacePolygon(...)\\n SurfacePolygon(...)\\n SurfacePolygon(...)\\n SurfacePolygon(...)\\n SurfacePolygon(...)\\n SurfacePolygon(...)\\n SurfacePolygon(...)\\n SurfacePolygon(...)\\n SurfacePolygon(...)\\n SurfacePolygon(...)\\n SurfacePolygon(...)\\n SurfacePolygon(...)\\n SurfacePolygon(...)\\n SurfacePolygon(...)\\n SurfacePolygon(...)\\n SurfacePolygon(...)\\n SurfacePolygon(...)\\n SurfacePolygon(...)\\n SurfacePolygon(...)\\n SurfacePolygon(...)\\n SurfacePolygon(...)\\n SurfacePolygon(...)\\n SurfacePolygon(...)\\n SurfacePolygon(...)\\n SurfacePolygon(...)\\n SurfacePolygon(...)\\n SurfacePolygon(...)\\n SurfacePolygon(...)\\n SurfacePolygon(...)\\n SurfacePolygon(...)\\n SurfacePolygon(...)\\n SurfacePolygon(...)\\n SurfacePolygon(...)\\n SurfacePolygon(...)\\n SurfacePolygon(...)\\n SurfacePolygon(...)\\n SurfacePolygon(...)\\n SurfacePolygon(...)\\n SurfacePolygon(...)\\n SurfacePolygon(...)\\n SurfacePolygon(...)\\n SurfacePolygon(...)\\n SurfacePolygon(...)\\n SurfacePolygon(...)\\n SurfacePolygon(...)\\n SurfacePolygon(...)\\n SurfacePolygon(...)\\n SurfacePolygon(...)\\n SurfacePolygon(...)\\n SurfacePolygon(...)\\n SurfacePolygon(...)\\n SurfacePolygon(...)\\n SurfacePolygon(...)\\n SurfacePolygon(...)\\n SurfacePolygon(...)\\n SurfacePolygon(...)\\n SurfacePolygon(...)\\n SurfacePolygon(...)\\n SurfacePolygon(...)\\n SurfacePolygon(...)\\n SurfacePolygon(...)\\n SurfacePolygon(...)\\n SurfacePolygon(...)\\n SurfacePolygon(...)\\n SurfacePolygon(...)\\n SurfacePolygon(...)\\n SurfacePolygon(...)\\n SurfacePolygon(...)\\n SurfacePolygon(...)\\n SurfacePolygon(...)\\n SurfacePolygon(...)\\n SurfacePolygon(...)\\n SurfacePolygon(...)\\n SurfacePolygon(...)\\n SurfacePolygon(...)\\n SurfacePolygon(...)\\n SurfacePolygon(...)\\n SurfacePolygon(...)\\n SurfacePolygon(...)\\n SurfacePolygon(...)\\n SurfacePolygon(...)\\n SurfacePolygon(...)\\n SurfacePolygon(...)\\n SurfacePolygon(...)\\n SurfacePolygon(...)\\n SurfacePolygon(...)\\n SurfacePolygon(...)\\n SurfacePolygon(...)\\n SurfacePolygon(...)\\n SurfacePolygon(...)\\n SurfacePolygon(...)\\n SurfacePolygon(...)\\n SurfacePolygon(...)\\n SurfacePolygon(...)\\n SurfacePolygon(...)\\n SurfacePolygon(...)\\n SurfacePolygon(...)\\n SurfacePolygon(...)\\n SurfacePolygon(...)\\n SurfacePolygon(...)\\n SurfacePolygon(...)\\n SurfacePolygon(...)\\n SurfacePolygon(...)\\n SurfacePolygon(...)\\n SurfacePolygon(...)\\n SurfacePolygon(...)\\n SurfacePolygon(...)\\n SurfacePolygon(...)\\n SurfacePolygon(...)\\n SurfacePolygon(...)\\n SurfacePolygon(...)\\n SurfacePolygon(...)\\n SurfacePolygon(...)\\n SurfacePolygon(...)\\n SurfacePolygon(...)\\n SurfacePolygon(...)\\n SurfacePolygon(...)\\n SurfacePolygon(...)\\n SurfacePolygon(...)\\n SurfacePolygon(...)\\n SurfacePolygon(...)\\n SurfacePolygon(...)\\n SurfacePolygon(...)\\n SurfacePolygon(...)\\n SurfacePolygon(...)\\n SurfacePolygon(...)\\n SurfacePolygon(...)\\n SurfacePolygon(...)\\n SurfacePolygon(...)\\n SurfacePolygon(...)\\n SurfacePolygon(...)\\n SurfacePolygon(...)\\n SurfacePolygon(...)\\n SurfacePolygon(...)\\n SurfacePolygon(...)\\n SurfacePolygon(...)\\n SurfacePolygon(...)\\n SurfacePolygon(...)\\n SurfacePolygon(...)\\n SurfacePolygon(...)\\n SurfacePolygon(...)\\n SurfacePolygon(...)\\n SurfacePolygon(...)\\n SurfacePolygon(...)\\n SurfacePolygon(...)\\n SurfacePolygon(...)\\n SurfacePolygon(...)\\n SurfacePolygon(...)\\n SurfacePolygon(...)\\n SurfacePolygon(...)\\n SurfacePolygon(...)\\n SurfacePolygon(...)\\n SurfacePolygon(...)\\n SurfacePolygon(...)\\n SurfacePolygon(...)\\n SurfacePolygon(...)\\n SurfacePolygon(...)\\n SurfacePolygon(...)\\n SurfacePolygon(...)\\n SurfacePolygon(...)\\n SurfacePolygon(...)\\n SurfacePolygon(...)\\n SurfacePolygon(...)\\n SurfacePolygon(...)\\n SurfacePolygon(...)\\n SurfacePolygon(...)\\n SurfacePolygon(...)\\n SurfacePolygon(...)\\n SurfacePolygon(...)\\n SurfacePolygon(...)\\n SurfacePolygon(...)\\n SurfacePolygon(...)\\n SurfacePolygon(...)\\n SurfacePolygon(...)\\n SurfacePolygon(...)\\n SurfacePolygon(...)\\n SurfacePolygon(...)\\n SurfacePolygon(...)\\n SurfacePolygon(...)\\n SurfacePolygon(...)\\n SurfacePolygon(...)\\n SurfacePolygon(...)\\n SurfacePolygon(...)\\n SurfacePolygon(...)\\n SurfacePolygon(...)\\n SurfacePolygon(...)\\n SurfacePolygon(...)\\n SurfacePolygon(...)\\n SurfacePolygon(...)\\n SurfacePolygon(...)\\n SurfacePolygon(...)\\n SurfacePolygon(...)\\n SurfacePolygon(...)\\n SurfacePolygon(...)\\n SurfacePolygon(...)\\n SurfacePolygon(...)\\n SurfacePolygon(...)\\n SurfacePolygon(...)\\n SurfacePolygon(...)\\n SurfacePolygon(...)\\n SurfacePolygon(...)\\n SurfacePolygon(...)\\n SurfacePolygon(...)\\n SurfacePolygon(...)\\n SurfacePolygon(...)\\n SurfacePolygon(...)\\n SurfacePolygon(...)\\n SurfacePolygon(...)\\n SurfacePolygon(...)\\n SurfacePolygon(...)\\n SurfacePolygon(...)\\n SurfacePolygon(...)\\n SurfacePolygon(...)\\n SurfacePolygon(...)\\n SurfacePolygon(...)\\n SurfacePolygon(...)\\n SurfacePolygon(...)\\n SurfacePolygon(...)\\n SurfacePolygon(...)\\n SurfacePolygon(...)\\n SurfacePolygon(...)\\n SurfacePolygon(...)\\n SurfacePolygon(...)\\n SurfacePolygon(...)\\n SurfacePolygon(...)\\n SurfacePolygon(...)\\n SurfacePolygon(...)\\n SurfacePolygon(...)\\n SurfacePolygon(...)\\n SurfacePolygon(...)\\n SurfacePolygon(...)\\n SurfacePolygon(...)\\n SurfacePolygon(...)\\n SurfacePolygon(...)\\n SurfacePolygon(...)\\n SurfacePolygon(...)\\n SurfacePolygon(...)\\n SurfacePolygon(...)\\n SurfacePolygon(...)\\n SurfacePolygon(...)\\n SurfacePolygon(...)\\n SurfacePolygon(...)\\n SurfacePolygon(...)\\n SurfacePolygon(...)\\n SurfacePolygon(...)\\n SurfacePolygon(...)\\n SurfacePolygon(...)\\n SurfacePolygon(...)\\n SurfacePolygon(...)\\n SurfacePolygon(...)\\n SurfacePolygon(...)\\n SurfacePolygon(...)\\n SurfacePolygon(...)\\n SurfacePolygon(...)\\n SurfacePolygon(...)\\n SurfacePolygon(...)\\n SurfacePolygon(...)\\n SurfacePolygon(...)\\n SurfacePolygon(...)\\n SurfacePolygon(...)\\n SurfacePolygon(...)\\n SurfacePolygon(...)\\n SurfacePolygon(...)\\n SurfacePolygon(...)\\n SurfacePolygon(...)\\n SurfacePolygon(...)\\n SurfacePolygon(...)\\n SurfacePolygon(...)\\n SurfacePolygon(...)\\n SurfacePolygon(...)\\n SurfacePolygon(...)\\n SurfacePolygon(...)\\n SurfacePolygon(...)\\n SurfacePolygon(...)\\n SurfacePolygon(...)\\n SurfacePolygon(...)\\n SurfacePolygon(...)\\n SurfacePolygon(...)\\n SurfacePolygon(...)\\n SurfacePolygon(...)\\n SurfacePolygon(...)\\n SurfacePolygon(...)\\n SurfacePolygon(...)\\n SurfacePolygon(...)\\n SurfacePolygon(...)\\n SurfacePolygon(...)\\n SurfacePolygon(...)\\n SurfacePolygon(...)\\n SurfacePolygon(...)\\n SurfacePolygon(...)\\n SurfacePolygon(...)\\n SurfacePolygon(...)\\n SurfacePolygon(...)\\n SurfacePolygon(...)\\n SurfacePolygon(...)\\n SurfacePolygon(...)\\n SurfacePolygon(...)\\n SurfacePolygon(...)\\n SurfacePolygon(...)\\n SurfacePolygon(...)\\n SurfacePolygon(...)\\n SurfacePolygon(...)\\n SurfacePolygon(...)\\n SurfacePolygon(...)\\n SurfacePolygon(...)\\n SurfacePolygon(...)\\n SurfacePolygon(...)\\n SurfacePolygon(...)\\n SurfacePolygon(...)\\n SurfacePolygon(...)\\n SurfacePolygon(...)\\n SurfacePolygon(...)\\n SurfacePolygon(...)\\n SurfacePolygon(...)\\n SurfacePolygon(...)\\n SurfacePolygon(...)\\n SurfacePolygon(...)\\n SurfacePolygon(...)\\n SurfacePolygon(...)\\n SurfacePolygon(...)\\n SurfacePolygon(...)\\n SurfacePolygon(...)\\n SurfacePolygon(...)\\n SurfacePolygon(...)\\n SurfacePolygon(...)\\n SurfacePolygon(...)\\n SurfacePolygon(...)\\n SurfacePolygon(...)\\n SurfacePolygon(...)\\n SurfacePolygon(...)\\n SurfacePolygon(...)\\n SurfacePolygon(...)\\n SurfacePolygon(...)\\n SurfacePolygon(...)\\n SurfacePolygon(...)\\n SurfacePolygon(...)\\n SurfacePolygon(...)\\n SurfacePolygon(...)\\n SurfacePolygon(...)\\n SurfacePolygon(...)\\n SurfacePolygon(...)\\n SurfacePolygon(...)\\n SurfacePolygon(...)\\n SurfacePolygon(...)\\n SurfacePolygon(...)\\n SurfacePolygon(...)\\n SurfacePolygon(...)\\n SurfacePolygon(...)\\n SurfacePolygon(...)\\n SurfacePolygon(...)\\n SurfacePolygon(...)\\n SurfacePolygon(...)\\n SurfacePolygon(...)\\n SurfacePolygon(...)\\n SurfacePolygon(...)\\n SurfacePolygon(...)\\n SurfacePolygon(...)\\n SurfacePolygon(...)\\n SurfacePolygon(...)\\n SurfacePolygon(...)\\n SurfacePolygon(...)\\n SurfacePolygon(...)\\n SurfacePolygon(...)\\n SurfacePolygon(...)\\n SurfacePolygon(...)\\n SurfacePolygon(...)\\n SurfacePolygon(...)\\n SurfacePolygon(...)\\n SurfacePolygon(...)\\n SurfacePolygon(...)\\n SurfacePolygon(...)\\n SurfacePolygon(...)\\n SurfacePolygon(...)\\n SurfacePolygon(...)\\n SurfacePolygon(...)\\n SurfacePolygon(...)\\n SurfacePolygon(...)\\n SurfacePolygon(...)\\n SurfacePolygon(...)\\n SurfacePolygon(...)\\n SurfacePolygon(...)\\n SurfacePolygon(...)\\n SurfacePolygon(...)\\n SurfacePolygon(...)\\n SurfacePolygon(...)\\n SurfacePolygon(...)\\n SurfacePolygon(...)\\n SurfacePolygon(...)\\n SurfacePolygon(...)\\n SurfacePolygon(...)\\n SurfacePolygon(...)\\n SurfacePolygon(...)\\n SurfacePolygon(...)\\n SurfacePolygon(...)\\n SurfacePolygon(...)\\n SurfacePolygon(...)\\n SurfacePolygon(...)\\n SurfacePolygon(...)\\n SurfacePolygon(...)\\n SurfacePolygon(...)\\n SurfacePolygon(...)\\n SurfacePolygon(...)\\n SurfacePolygon(...)\\n SurfacePolygon(...)\\n SurfacePolygon(...)\\n SurfacePolygon(...)\\n SurfacePolygon(...)\\n SurfacePolygon(...)\\n SurfacePolygon(...)\\n SurfacePolygon(...)\\n SurfacePolygon(...)\\n SurfacePolygon(...)\\n SurfacePolygon(...)\\n SurfacePolygon(...)\\n SurfacePolygon(...)\\n SurfacePolygon(...)\\n SurfacePolygon(...)\\n SurfacePolygon(...)\\n SurfacePolygon(...)\\n SurfacePolygon(...)\\n SurfacePolygon(...)\\n SurfacePolygon(...)\\n SurfacePolygon(...)\\n SurfacePolygon(...)\\n SurfacePolygon(...)\\n SurfacePolygon(...)\\n SurfacePolygon(...)\\n SurfacePolygon(...)\\n SurfacePolygon(...)\\n SurfacePolygon(...)\\n SurfacePolygon(...)\\n SurfacePolygon(...)\\n SurfacePolygon(...)\\n SurfacePolygon(...)\\n SurfacePolygon(...)\\n SurfacePolygon(...)\\n SurfacePolygon(...)\\n SurfacePolygon(...)\\n SurfacePolygon(...)\\n SurfacePolygon(...)\\n SurfacePolygon(...)\\n SurfacePolygon(...)\\n SurfacePolygon(...)\\n SurfacePolygon(...)\\n SurfacePolygon(...)\\n SurfacePolygon(...)\\n SurfacePolygon(...)\\n SurfacePolygon(...)\\n SurfacePolygon(...)\\n SurfacePolygon(...)\\n SurfacePolygon(...)\\n SurfacePolygon(...)\\n SurfacePolygon(...)\\n SurfacePolygon(...)\\n SurfacePolygon(...)\\n SurfacePolygon(...)\\n SurfacePolygon(...)\\n SurfacePolygon(...)\\n SurfacePolygon(...)\\n SurfacePolygon(...)\\n SurfacePolygon(...)\\n SurfacePolygon(...)\\n SurfacePolygon(...)\\n SurfacePolygon(...)\\n SurfacePolygon(...)\\n SurfacePolygon(...)\\n SurfacePolygon(...)\\n SurfacePolygon(...)\\n SurfacePolygon(...)\\n SurfacePolygon(...)\\n SurfacePolygon(...)\\n SurfacePolygon(...)\\n SurfacePolygon(...)\\n SurfacePolygon(...)\\n SurfacePolygon(...)\\n SurfacePolygon(...)\\n SurfacePolygon(...)\\n SurfacePolygon(...)\\n SurfacePolygon(...)\\n SurfacePolygon(...)\\n SurfacePolygon(...)\\n SurfacePolygon(...)\\n SurfacePolygon(...)\\n SurfacePolygon(...)\\n SurfacePolygon(...)\\n SurfacePolygon(...)\\n SurfacePolygon(...)\\n SurfacePolygon(...)\\n SurfacePolygon(...)\\n SurfacePolygon(...)\\n SurfacePolygon(...)\\n SurfacePolygon(...)\\n SurfacePolygon(...)\\n SurfacePolygon(...)\\n SurfacePolygon(...)\\n SurfacePolygon(...)\\n SurfacePolygon(...)\\n SurfacePolygon(...)\\n SurfacePolygon(...)\\n SurfacePolygon(...)\\n SurfacePolygon(...)\\n SurfacePolygon(...)\\n SurfacePolygon(...)\\n SurfacePolygon(...)\\n SurfacePolygon(...)\\n SurfacePolygon(...)\\n SurfacePolygon(...)\\n SurfacePolygon(...)\\n SurfacePolygon(...)\\n SurfacePolygon(...)\\n SurfacePolygon(...)\\n SurfacePolygon(...)\\n SurfacePolygon(...)\\n SurfacePolygon(...)\\n SurfacePolygon(...)\\n SurfacePolygon(...)\\n SurfacePolygon(...)\\n SurfacePolygon(...)\\n SurfacePolygon(...)\\n SurfacePolygon(...)\\n SurfacePolygon(...)\\n SurfacePolygon(...)\\n SurfacePolygon(...)\\n SurfacePolygon(...)\\n SurfacePolygon(...)\\n SurfacePolygon(...)\\n SurfacePolygon(...)\\n SurfacePolygon(...)\\n SurfacePolygon(...)\\n SurfacePolygon(...)\\n SurfacePolygon(...)\\n SurfacePolygon(...)\\n SurfacePolygon(...)\\n SurfacePolygon(...)\\n SurfacePolygon(...)\\n SurfacePolygon(...)\\n SurfacePolygon(...)\\n SurfacePolygon(...)\\n SurfacePolygon(...)\\n SurfacePolygon(...)\\n SurfacePolygon(...)\\n SurfacePolygon(...)\\n SurfacePolygon(...)\\n SurfacePolygon(...)\\n SurfacePolygon(...)\\n SurfacePolygon(...)\\n SurfacePolygon(...)\\n SurfacePolygon(...)\\n SurfacePolygon(...)\\n SurfacePolygon(...)\\n SurfacePolygon(...)\\n SurfacePolygon(...)\\n SurfacePolygon(...)\\n SurfacePolygon(...)\\n SurfacePolygon(...)\\n SurfacePolygon(...)\\n SurfacePolygon(...)\\n SurfacePolygon(...)\\n SurfacePolygon(...)\\n SurfacePolygon(...)\\n SurfacePolygon(...)\\n SurfacePolygon(...)\\n SurfacePolygon(...)\\n SurfacePolygon(...)\\n SurfacePolygon(...)\\n SurfacePolygon(...)\\n SurfacePolygon(...)\\n SurfacePolygon(...)\\n SurfacePolygon(...)\\n SurfacePolygon(...)\\n SurfacePolygon(...)\\n SurfacePolygon(...)\\n SurfacePolygon(...)\\n SurfacePolygon(...)\\n SurfacePolygon(...)\\n SurfacePolygon(...)\\n SurfacePolygon(...)\\n SurfacePolygon(...)\\n SurfacePolygon(...)\\n SurfacePolygon(...)\\n SurfacePolygon(...)\\n SurfacePolygon(...)\\n SurfacePolygon(...)\\n SurfacePolygon(...)\\n SurfacePolygon(...)\\n SurfacePolygon(...)\\n SurfacePolygon(...)\\n SurfacePolygon(...)\\n SurfacePolygon(...)\\n SurfacePolygon(...)\\n SurfacePolygon(...)\\n SurfacePolygon(...)\\n SurfacePolygon(...)\\n SurfacePolygon(...)\\n SurfacePolygon(...)\\n SurfacePolygon(...)\\n SurfacePolygon(...)\\n SurfacePolygon(...)\\n SurfacePolygon(...)\\n SurfacePolygon(...)\\n SurfacePolygon(...)\\n SurfacePolygon(...)\\n SurfacePolygon(...)\\n SurfacePolygon(...)\\n SurfacePolygon(...)\\n SurfacePolygon(...)\\n SurfacePolygon(...)\\n SurfacePolygon(...)\\n SurfacePolygon(...)\\n SurfacePolygon(...)\\n SurfacePolygon(...)\\n SurfacePolygon(...)\\n SurfacePolygon(...)\\n SurfacePolygon(...)\\n SurfacePolygon(...)\\n SurfacePolygon(...)\\n SurfacePolygon(...)\\n SurfacePolygon(...)\\n SurfacePolygon(...)\\n SurfacePolygon(...)\\n SurfacePolygon(...)\\n SurfacePolygon(...)\\n SurfacePolygon(...)\\n SurfacePolygon(...)\\n SurfacePolygon(...)\\n SurfacePolygon(...)\\n SurfacePolygon(...)\\n SurfacePolygon(...)\\n SurfacePolygon(...)\\n SurfacePolygon(...)\\n SurfacePolygon(...)\\n SurfacePolygon(...)\\n SurfacePolygon(...)\\n SurfacePolygon(...)\\n SurfacePolygon(...)\\n SurfacePolygon(...)\\n SurfacePolygon(...)\\n SurfacePolygon(...)\\n SurfacePolygon(...)\\n SurfacePolygon(...)\\n SurfacePolygon(...)\\n SurfacePolygon(...)\\n SurfacePolygon(...)\\n SurfacePolygon(...)\\n SurfacePolygon(...)\\n SurfacePolygon(...)\\n SurfacePolygon(...)\\n SurfacePolygon(...)\\n SurfacePolygon(...)\\n SurfacePolygon(...)\\n SurfacePolygon(...)\\n SurfacePolygon(...)\\n SurfacePolygon(...)\\n SurfacePolygon(...)\\n SurfacePolygon(...)\\n SurfacePolygon(...)\\n SurfacePolygon(...)\\n SurfacePolygon(...)\\n SurfacePolygon(...)\\n SurfacePolygon(...)\\n SurfacePolygon(...)\\n SurfacePolygon(...)\\n SurfacePolygon(...)\\n SurfacePolygon(...)\\n SurfacePolygon(...)\\n SurfacePolygon(...)\\n SurfacePolygon(...)\\n SurfacePolygon(...)\\n SurfacePolygon(...)\\n SurfacePolygon(...)\\n SurfacePolygon(...)\\n SurfacePolygon(...)\\n SurfacePolygon(...)\\n SurfacePolygon(...)\\n SurfacePolygon(...)\\n SurfacePolygon(...)\\n SurfacePolygon(...)\\n SurfacePolygon(...)\\n SurfacePolygon(...)\\n SurfacePolygon(...)\\n SurfacePolygon(...)\\n SurfacePolygon(...)\\n SurfacePolygon(...)\\n SurfacePolygon(...)\\n SurfacePolygon(...)\\n SurfacePolygon(...)\\n SurfacePolygon(...)\\n SurfacePolygon(...)\\n SurfacePolygon(...)\\n SurfacePolygon(...)\\n SurfacePolygon(...)\\n SurfacePolygon(...)\\n SurfacePolygon(...)\\n SurfacePolygon(...)\\n SurfacePolygon(...)\\n SurfacePolygon(...)\\n SurfacePolygon(...)\\n SurfacePolygon(...)\\n SurfacePolygon(...)\\n SurfacePolygon(...)\\n SurfacePolygon(...)\\n SurfacePolygon(...)\\n SurfacePolygon(...)\\n SurfacePolygon(...)\\n SurfacePolygon(...)\\n SurfacePolygon(...)\\n SurfacePolygon(...)\\n SurfacePolygon(...)\\n SurfacePolygon(...)\\n SurfacePolygon(...)\\n SurfacePolygon(...)\\n SurfacePolygon(...)\\n SurfacePolygon(...)\\n SurfacePolygon(...)\\n SurfacePolygon(...)\\n SurfacePolygon(...)\\n SurfacePolygon(...)\\n SurfacePolygon(...)\\n SurfacePolygon(...)\\n SurfacePolygon(...)\\n SurfacePolygon(...)\\n SurfacePolygon(...)\\n SurfacePolygon(...)\\n SurfacePolygon(...)\\n SurfacePolygon(...)\\n SurfacePolygon(...)\\n SurfacePolygon(...)\\n SurfacePolygon(...)\\n SurfacePolygon(...)\\n SurfacePolygon(...)\\n SurfacePolygon(...)\\n SurfacePolygon(...)\\n SurfacePolygon(...)\\n SurfacePolygon(...)\\n SurfacePolygon(...)\\n SurfacePolygon(...)\\n SurfacePolygon(...)\\n SurfacePolygon(...)\\n SurfacePolygon(...)\\n SurfacePolygon(...)\\n SurfacePolygon(...)\\n SurfacePolygon(...)\\n SurfacePolygon(...)\\n SurfacePolygon(...)\\n SurfacePolygon(...)\\n SurfacePolygon(...)\\n SurfacePolygon(...)\\n SurfacePolygon(...)\\n SurfacePolygon(...)\\n SurfacePolygon(...)\\n SurfacePolygon(...)\\n SurfacePolygon(...)\\n SurfacePolygon(...)\\n SurfacePolygon(...)\\n SurfacePolygon(...)\\n SurfacePolygon(...)\\n SurfacePolygon(...)\\n SurfacePolygon(...)\\n SurfacePolygon(...)\\n SurfacePolygon(...)\\n SurfacePolygon(...)\\n SurfacePolygon(...)\\n SurfacePolygon(...)\\n SurfacePolygon(...)\\n SurfacePolygon(...)\\n SurfacePolygon(...)\\n SurfacePolygon(...)\\n SurfacePolygon(...)\\n SurfacePolygon(...)\\n SurfacePolygon(...)\\n SurfacePolygon(...)\\n SurfacePolygon(...)\\n SurfacePolygon(...)\\n SurfacePolygon(...)\\n SurfacePolygon(...)\\n SurfacePolygon(...)\\n SurfacePolygon(...)\\n SurfacePolygon(...)\\n SurfacePolygon(...)\\n SurfacePolygon(...)\\n SurfacePolygon(...)\\n SurfacePolygon(...)\\n SurfacePolygon(...)\\n SurfacePolygon(...)\\n SurfacePolygon(...)\\n SurfacePolygon(...)\\n SurfacePolygon(...)\\n SurfacePolygon(...)\\n SurfacePolygon(...)\\n SurfacePolygon(...)\\n SurfacePolygon(...)\\n SurfacePolygon(...)\\n SurfacePolygon(...)\\n SurfacePolygon(...)\\n SurfacePolygon(...)\\n SurfacePolygon(...)\\n SurfacePolygon(...)\\n SurfacePolygon(...)\\n SurfacePolygon(...)\\n SurfacePolygon(...)\\n SurfacePolygon(...)\\n SurfacePolygon(...)\\n SurfacePolygon(...)\\n SurfacePolygon(...)\\n SurfacePolygon(...)\\n SurfacePolygon(...)\\n SurfacePolygon(...)\\n SurfacePolygon(...)\\n SurfacePolygon(...)\\n SurfacePolygon(...)\\n SurfacePolygon(...)\\n SurfacePolygon(...)\\n SurfacePolygon(...)\\n SurfacePolygon(...)\\n SurfacePolygon(...)\\n SurfacePolygon(...)\\n SurfacePolygon(...)\\n SurfacePolygon(...)\\n SurfacePolygon(...)\\n SurfacePolygon(...)\\n SurfacePolygon(...)\\n SurfacePolygon(...)\\n SurfacePolygon(...)\\n SurfacePolygon(...)\\n SurfacePolygon(...)\\n SurfacePolygon(...)\\n SurfacePolygon(...)\\n SurfacePolygon(...)\\n SurfacePolygon(...)\\n SurfacePolygon(...)\\n SurfacePolygon(...)\\n SurfacePolygon(...)\\n SurfacePolygon(...)\\n SurfacePolygon(...)\\n SurfacePolygon(...)\\n SurfacePolygon(...)\\n SurfacePolygon(...)\\n SurfacePolygon(...)\\n SurfacePolygon(...)\\n SurfacePolygon(...)\\n SurfacePolygon(...)\\n SurfacePolygon(...)\\n SurfacePolygon(...)\\n SurfacePolygon(...)\\n SurfacePolygon(...)\\n SurfacePolygon(...)\\n SurfacePolygon(...)\\n SurfacePolygon(...)\\n SurfacePolygon(...)\\n SurfacePolygon(...)\\n SurfacePolygon(...)\\n SurfacePolygon(...)\\n SurfacePolygon(...)\\n SurfacePolygon(...)\\n SurfacePolygon(...)\\n SurfacePolygon(...)\\n SurfacePolygon(...)\\n SurfacePolygon(...)\\n SurfacePolygon(...)\\n SurfacePolygon(...)\\n SurfacePolygon(...)\\n SurfacePolygon(...)\\n SurfacePolygon(...)\\n SurfacePolygon(...)\\n SurfacePolygon(...)\\n SurfacePolygon(...)\\n SurfacePolygon(...)\\n SurfacePolygon(...)\\n SurfacePolygon(...)\\n SurfacePolygon(...)\\n SurfacePolygon(...)\\n SurfacePolygon(...)\\n SurfacePolygon(...)\\n SurfacePolygon(...)\\n SurfacePolygon(...)\\n SurfacePolygon(...)\\n SurfacePolygon(...)\\n SurfacePolygon(...)\\n SurfacePolygon(...)\\n SurfacePolygon(...)\\n SurfacePolygon(...)\\n SurfacePolygon(...)\\n SurfacePolygon(...)\\n SurfacePolygon(...)\\n SurfacePolygon(...)\\n SurfacePolygon(...)\\n SurfacePolygon(...)\\n SurfacePolygon(...)\\n SurfacePolygon(...)\\n SurfacePolygon(...)\\n SurfacePolygon(...)\\n SurfacePolygon(...)\\n SurfacePolygon(...)\\n SurfacePolygon(...)\\n SurfacePolygon(...)\\n SurfacePolygon(...)\\n SurfacePolygon(...)\\n SurfacePolygon(...)\\n SurfacePolygon(...)\\n SurfacePolygon(...)\\n SurfacePolygon(...)\\n SurfacePolygon(...)\\n SurfacePolygon(...)\\n SurfacePolygon(...)\\n SurfacePolygon(...)\\n SurfacePolygon(...)\\n SurfacePolygon(...)\\n SurfacePolygon(...)\\n SurfacePolygon(...)\\n SurfacePolygon(...)\\n SurfacePolygon(...)\\n SurfacePolygon(...)\\n SurfacePolygon(...)\\n SurfacePolygon(...)\\n SurfacePolygon(...)\\n SurfacePolygon(...)\\n SurfacePolygon(...)\\n SurfacePolygon(...)\\n SurfacePolygon(...)\\n SurfacePolygon(...)\\n SurfacePolygon(...)\\n SurfacePolygon(...)\\n SurfacePolygon(...)\\n SurfacePolygon(...)\\n SurfacePolygon(...)\\n SurfacePolygon(...)\\n SurfacePolygon(...)\\n SurfacePolygon(...)\\n SurfacePolygon(...)\\n SurfacePolygon(...)\\n SurfacePolygon(...)\\n SurfacePolygon(...)\\n SurfacePolygon(...)\\n SurfacePolygon(...)\\n SurfacePolygon(...)\\n SurfacePolygon(...)\\n SurfacePolygon(...)\\n SurfacePolygon(...)\\n SurfacePolygon(...)\\n SurfacePolygon(...)\\n SurfacePolygon(...)\\n SurfacePolygon(...)\\n SurfacePolygon(...)\\n SurfacePolygon(...)\\n SurfacePolygon(...)\\n SurfacePolygon(...)\\n SurfacePolygon(...)\\n SurfacePolygon(...)\\n SurfacePolygon(...)\\n SurfacePolygon(...)\\n SurfacePolygon(...)\\n SurfacePolygon(...)\\n SurfacePolygon(...)\\n SurfacePolygon(...)\\n SurfacePolygon(...)\\n SurfacePolygon(...)\\n SurfacePolygon(...)\\n SurfacePolygon(...)\\n SurfacePolygon(...)\\n SurfacePolygon(...)\\n SurfacePolygon(...)\\n SurfacePolygon(...)\\n SurfacePolygon(...)\\n SurfacePolygon(...)\\n SurfacePolygon(...)\\n SurfacePolygon(...)\\n SurfacePolygon(...)\\n SurfacePolygon(...)\\n SurfacePolygon(...)\\n SurfacePolygon(...)\\n SurfacePolygon(...)\\n SurfacePolygon(...)\\n SurfacePolygon(...)\\n SurfacePolygon(...)\\n SurfacePolygon(...)\\n SurfacePolygon(...)\\n SurfacePolygon(...)\\n SurfacePolygon(...)\\n SurfacePolygon(...)\\n SurfacePolygon(...)\\n SurfacePolygon(...)\\n SurfacePolygon(...)\\n SurfacePolygon(...)\\n SurfacePolygon(...)\\n SurfacePolygon(...)\\n SurfacePolygon(...)\\n SurfacePolygon(...)\\n SurfacePolygon(...)\\n SurfacePolygon(...)\\n SurfacePolygon(...)\\n SurfacePolygon(...)\\n SurfacePolygon(...)\\n SurfacePolygon(...)\\n SurfacePolygon(...)\\n SurfacePolygon(...)\\n SurfacePolygon(...)\\n SurfacePolygon(...)\\n SurfacePolygon(...)\\n SurfacePolygon(...)\\n SurfacePolygon(...)\\n SurfacePolygon(...)\\n SurfacePolygon(...)\\n SurfacePolygon(...)\\n SurfacePolygon(...)\\n SurfacePolygon(...)\\n SurfacePolygon(...)\\n SurfacePolygon(...)\\n SurfacePolygon(...)\\n SurfacePolygon(...)\\n SurfacePolygon(...)\\n SurfacePolygon(...)\\n SurfacePolygon(...)\\n SurfacePolygon(...)\\n SurfacePolygon(...)\\n SurfacePolygon(...)\\n SurfacePolygon(...)\\n SurfacePolygon(...)\\n SurfacePolygon(...)\\n SurfacePolygon(...)\\n SurfacePolygon(...)\\n SurfacePolygon(...)\\n SurfacePolygon(...)\\n SurfacePolygon(...)\\n SurfacePolygon(...)\\n SurfacePolygon(...)\\n SurfacePolygon(...)\\n SurfacePolygon(...)\\n SurfacePolygon(...)\\n SurfacePolygon(...)\\n SurfacePolygon(...)\\n SurfacePolygon(...)\\n SurfacePolygon(...)\\n SurfacePolygon(...)\\n SurfacePolygon(...)\\n SurfacePolygon(...)\\n SurfacePolygon(...)\\n SurfacePolygon(...)\\n SurfacePolygon(...)\\n SurfacePolygon(...)\\n SurfacePolygon(...)\\n SurfacePolygon(...)\\n SurfacePolygon(...)\\n SurfacePolygon(...)\\n SurfacePolygon(...)\\n SurfacePolygon(...)\\n SurfacePolygon(...)\\n SurfacePolygon(...)\\n SurfacePolygon(...)\\n SurfacePolygon(...)\\n SurfacePolygon(...)\\n SurfacePolygon(...)\\n SurfacePolygon(...)\\n SurfacePolygon(...)\\n SurfacePolygon(...)\\n SurfacePolygon(...)\\n SurfacePolygon(...)\\n SurfacePolygon(...)\\n SurfacePolygon(...)\\n SurfacePolygon(...)\\n SurfacePolygon(...)\\n SurfacePolygon(...)\\n SurfacePolygon(...)\\n SurfacePolygon(...)\\n SurfacePolygon(...)\\n SurfacePolygon(...)\\n SurfacePolygon(...)\\n SurfacePolygon(...)\\n SurfacePolygon(...)\\n SurfacePolygon(...)\\n SurfacePolygon(...)\\n SurfacePolygon(...)\\n SurfacePolygon(...)\\n SurfacePolygon(...)\\n SurfacePolygon(...)\\n SurfacePolygon(...)\\n SurfacePolygon(...)\\n SurfacePolygon(...)\\n SurfacePolygon(...)\\n SurfacePolygon(...)\\n SurfacePolygon(...)\\n SurfacePolygon(...)\\n SurfacePolygon(...)\\n SurfacePolygon(...)\\n SurfacePolygon(...)\\n SurfacePolygon(...)\\n SurfacePolygon(...)\\n SurfacePolygon(...)\\n SurfacePolygon(...)\\n SurfacePolygon(...)\\n SurfacePolygon(...)\\n SurfacePolygon(...)\\n SurfacePolygon(...)\\n SurfacePolygon(...)\\n SurfacePolygon(...)\\n SurfacePolygon(...)\\n SurfacePolygon(...)\\n SurfacePolygon(...)\\n SurfacePolygon(...)\\n SurfacePolygon(...)\\n SurfacePolygon(...)\\n SurfacePolygon(...)\\n SurfacePolygon(...)\\n SurfacePolygon(...)\\n SurfacePolygon(...)\\n SurfacePolygon(...)\\n SurfacePolygon(...)\\n SurfacePolygon(...)\\n SurfacePolygon(...)\\n SurfacePolygon(...)\\n SurfacePolygon(...)\\n SurfacePolygon(...)\\n SurfacePolygon(...)\\n SurfacePolygon(...)\\n SurfacePolygon(...)\\n SurfacePolygon(...)\\n SurfacePolygon(...)\\n SurfacePolygon(...)\\n SurfacePolygon(...)\\n SurfacePolygon(...)\\n SurfacePolygon(...)\\n SurfacePolygon(...)\\n SurfacePolygon(...)\\n SurfacePolygon(...)\\n SurfacePolygon(...)\\n SurfacePolygon(...)\\n SurfacePolygon(...)\\n SurfacePolygon(...)\\n SurfacePolygon(...)\\n SurfacePolygon(...)\\n SurfacePolygon(...)\\n SurfacePolygon(...)\\n SurfacePolygon(...)\\n SurfacePolygon(...)\\n SurfacePolygon(...)\\n SurfacePolygon(...)\\n SurfacePolygon(...)\\n SurfacePolygon(...)\\n SurfacePolygon(...)\\n SurfacePolygon(...)\\n SurfacePolygon(...)\\n SurfacePolygon(...)\\n SurfacePolygon(...)\\n SurfacePolygon(...)\\n SurfacePolygon(...)\\n SurfacePolygon(...)\\n SurfacePolygon(...)\\n SurfacePolygon(...)\\n SurfacePolygon(...)\\n SurfacePolygon(...)\\n SurfacePolygon(...)\\n SurfacePolygon(...)\\n SurfacePolygon(...)\\n SurfacePolygon(...)\\n SurfacePolygon(...)\\n SurfacePolygon(...)\\n SurfacePolygon(...)\\n SurfacePolygon(...)\\n SurfacePolygon(...)\\n SurfacePolygon(...)\\n SurfacePolygon(...)\\n SurfacePolygon(...)\\n SurfacePolygon(...)\\n SurfacePolygon(...)\\n SurfacePolygon(...)\\n SurfacePolygon(...)\\n SurfacePolygon(...)\\n SurfacePolygon(...)\\n SurfacePolygon(...)\\n SurfacePolygon(...)\\n SurfacePolygon(...)\\n SurfacePolygon(...)\\n SurfacePolygon(...)\\n SurfacePolygon(...)\\n SurfacePolygon(...)\\n SurfacePolygon(...)\\n SurfacePolygon(...)\\n SurfacePolygon(...)\\n SurfacePolygon(...)\\n SurfacePolygon(...)\\n SurfacePolygon(...)\\n SurfacePolygon(...)\\n SurfacePolygon(...)\\n SurfacePolygon(...)\\n SurfacePolygon(...)\\n SurfacePolygon(...)\\n SurfacePolygon(...)\\n SurfacePolygon(...)\\n SurfacePolygon(...)\\n SurfacePolygon(...)\\n SurfacePolygon(...)\\n SurfacePolygon(...)\\n SurfacePolygon(...)\\n SurfacePolygon(...)\\n SurfacePolygon(...)\\n SurfacePolygon(...)\\n SurfacePolygon(...)\\n SurfacePolygon(...)\\n SurfacePolygon(...)\\n SurfacePolygon(...)\\n SurfacePolygon(...)\\n SurfacePolygon(...)\\n SurfacePolygon(...)\\n SurfacePolygon(...)\\n SurfacePolygon(...)\\n SurfacePolygon(...)\\n SurfacePolygon(...)\\n SurfacePolygon(...)\\n SurfacePolygon(...)\\n SurfacePolygon(...)\\n SurfacePolygon(...)\\n SurfacePolygon(...)\\n SurfacePolygon(...)\\n SurfacePolygon(...)\\n SurfacePolygon(...)\\n SurfacePolygon(...)\\n SurfacePolygon(...)\\n SurfacePolygon(...)\\n SurfacePolygon(...)\\n SurfacePolygon(...)\\n SurfacePolygon(...)\\n SurfacePolygon(...)\\n SurfacePolygon(...)\\n SurfacePolygon(...)\\n SurfacePolygon(...)\\n SurfacePolygon(...)\\n SurfacePolygon(...)\\n SurfacePolygon(...)\\n SurfacePolygon(...)\\n SurfacePolygon(...)\\n SurfacePolygon(...)\\n SurfacePolygon(...)\\n SurfacePolygon(...)\\n SurfacePolygon(...)\\n SurfacePolygon(...)\\n SurfacePolygon(...)\\n SurfacePolygon(...)\\n SurfacePolygon(...)\\n SurfacePolygon(...)\\n SurfacePolygon(...)\\n SurfacePolygon(...)\\n SurfacePolygon(...)\\n SurfacePolygon(...)\\n SurfacePolygon(...)\\n SurfacePolygon(...)\\n SurfacePolygon(...)\\n SurfacePolygon(...)\\n SurfacePolygon(...)\\n SurfacePolygon(...)\\n SurfacePolygon(...)\\n SurfacePolygon(...)\\n SurfacePolygon(...)\\n SurfacePolygon(...)\\n SurfacePolygon(...)\\n SurfacePolygon(...)\\n SurfacePolygon(...)\\n SurfacePolygon(...)\\n SurfacePolygon(...)\\n SurfacePolygon(...)\\n SurfacePolygon(...)\\n SurfacePolygon(...)\\n SurfacePolygon(...)\\n SurfacePolygon(...)\\n SurfacePolygon(...)\\n SurfacePolygon(...)\\n SurfacePolygon(...)\\n SurfacePolygon(...)\\n SurfacePolygon(...)\\n SurfacePolygon(...)\\n SurfacePolygon(...)\\n SurfacePolygon(...)\\n SurfacePolygon(...)\\n SurfacePolygon(...)\\n SurfacePolygon(...)\\n SurfacePolygon(...)\\n SurfacePolygon(...)\\n SurfacePolygon(...)\\n SurfacePolygon(...)\\n SurfacePolygon(...)\\n SurfacePolygon(...)\\n SurfacePolygon(...)\\n SurfacePolygon(...)\\n SurfacePolygon(...)\\n SurfacePolygon(...)\\n SurfacePolygon(...)\\n SurfacePolygon(...)\\n SurfacePolygon(...)\\n SurfacePolygon(...)\\n SurfacePolygon(...)\\n SurfacePolygon(...)\\n SurfacePolygon(...)\\n SurfacePolygon(...)\\n SurfacePolygon(...)\\n SurfacePolygon(...)\\n SurfacePolygon(...)\\n SurfacePolygon(...)\\n SurfacePolygon(...)\\n SurfacePolygon(...)\\n SurfacePolygon(...)\\n SurfacePolygon(...)\\n SurfacePolygon(...)\\n SurfacePolygon(...)\\n SurfacePolygon(...)\\n SurfacePolygon(...)\\n SurfacePolygon(...)\\n SurfacePolygon(...)\\n SurfacePolygon(...)\\n SurfacePolygon(...)\\n SurfacePolygon(...)\\n SurfacePolygon(...)\\n SurfacePolygon(...)\\n SurfacePolygon(...)\\n SurfacePolygon(...)\\n SurfacePolygon(...)\\n SurfacePolygon(...)\\n SurfacePolygon(...)\\n SurfacePolygon(...)\\n SurfacePolygon(...)\\n SurfacePolygon(...)\\n SurfacePolygon(...)\\n SurfacePolygon(...)\\n SurfacePolygon(...)\\n SurfacePolygon(...)\\n SurfacePolygon(...)\\n SurfacePolygon(...)\\n SurfacePolygon(...)\\n SurfacePolygon(...)\\n SurfacePolygon(...)\\n SurfacePolygon(...)\\n SurfacePolygon(...)\\n SurfacePolygon(...)\\n SurfacePolygon(...)\\n SurfacePolygon(...)\\n SurfacePolygon(...)\\n SurfacePolygon(...)\\n SurfacePolygon(...)\\n SurfacePolygon(...)\\n SurfacePolygon(...)\\n SurfacePolygon(...)\\n SurfacePolygon(...)\\n SurfacePolygon(...)\\n SurfacePolygon(...)\\n SurfacePolygon(...)\\n SurfacePolygon(...)\\n SurfacePolygon(...)\\n SurfacePolygon(...)\\n SurfacePolygon(...)\\n SurfacePolygon(...)\\n SurfacePolygon(...)\\n SurfacePolygon(...)\\n SurfacePolygon(...)\\n SurfacePolygon(...)\\n SurfacePolygon(...)\\n SurfacePolygon(...)\\n SurfacePolygon(...)\\n SurfacePolygon(...)\\n SurfacePolygon(...)\\n SurfacePolygon(...)\\n SurfacePolygon(...)\\n SurfacePolygon(...)\\n SurfacePolygon(...)\\n SurfacePolygon(...)\\n SurfacePolygon(...)\\n SurfacePolygon(...)\\n SurfacePolygon(...)\\n SurfacePolygon(...)\\n SurfacePolygon(...)\\n SurfacePolygon(...)\\n SurfacePolygon(...)\\n SurfacePolygon(...)\\n SurfacePolygon(...)\\n SurfacePolygon(...)\\n SurfacePolygon(...)\\n SurfacePolygon(...)\\n SurfacePolygon(...)\\n SurfacePolygon(...)\\n SurfacePolygon(...)\\n SurfacePolygon(...)\\n SurfacePolygon(...)\\n SurfacePolygon(...)\\n SurfacePolygon(...)\\n SurfacePolygon(...)\\n SurfacePolygon(...)\\n SurfacePolygon(...)\\n SurfacePolygon(...)\\n SurfacePolygon(...)\\n SurfacePolygon(...)\\n SurfacePolygon(...)\\n SurfacePolygon(...)\\n SurfacePolygon(...)\\n SurfacePolygon(...)\\n SurfacePolygon(...)\\n SurfacePolygon(...)\\n SurfacePolygon(...)\\n SurfacePolygon(...)\\n SurfacePolygon(...)\\n SurfacePolygon(...)\\n SurfacePolygon(...)\\n SurfacePolygon(...)\\n SurfacePolygon(...)\\n SurfacePolygon(...)\\n SurfacePolygon(...)\\n SurfacePolygon(...)\\n SurfacePolygon(...)\\n SurfacePolygon(...)\\n SurfacePolygon(...)\\n SurfacePolygon(...)\\n SurfacePolygon(...)\\n SurfacePolygon(...)\\n SurfacePolygon(...)\\n SurfacePolygon(...)\\n SurfacePolygon(...)\\n SurfacePolygon(...)\\n SurfacePolygon(...)\\n SurfacePolygon(...)\\n SurfacePolygon(...)\\n SurfacePolygon(...)\\n SurfacePolygon(...)\\n SurfacePolygon(...)\\n SurfacePolygon(...)\\n SurfacePolygon(...)\\n SurfacePolygon(...)\\n SurfacePolygon(...)\\n SurfacePolygon(...)\\n SurfacePolygon(...)\\n SurfacePolygon(...)\\n SurfacePolygon(...)\\n SurfacePolygon(...)\\n SurfacePolygon(...)\\n SurfacePolygon(...)\\n SurfacePolygon(...)\\n SurfacePolygon(...)\\n SurfacePolygon(...)\\n SurfacePolygon(...)\\n SurfacePolygon(...)\\n SurfacePolygon(...)\\n SurfacePolygon(...)\\n SurfacePolygon(...)\\n SurfacePolygon(...)\\n SurfacePolygon(...)\\n SurfacePolygon(...)\\n SurfacePolygon(...)\\n SurfacePolygon(...)\\n SurfacePolygon(...)\\n SurfacePolygon(...)\\n SurfacePolygon(...)\\n SurfacePolygon(...)\\n SurfacePolygon(...)\\n SurfacePolygon(...)\\n SurfacePolygon(...)\\n SurfacePolygon(...)\\n SurfacePolygon(...)\\n SurfacePolygon(...)\\n SurfacePolygon(...)\\n SurfacePolygon(...)\\n SurfacePolygon(...)\\n SurfacePolygon(...)\\n SurfacePolygon(...)\\n SurfacePolygon(...)\\n SurfacePolygon(...)\\n SurfacePolygon(...)\\n SurfacePolygon(...)\\n SurfacePolygon(...)\\n SurfacePolygon(...)\\n SurfacePolygon(...)\\n SurfacePolygon(...)\\n SurfacePolygon(...)\\n SurfacePolygon(...)\\n SurfacePolygon(...)\\n SurfacePolygon(...)\\n SurfacePolygon(...)\\n SurfacePolygon(...)\\n SurfacePolygon(...)\\n SurfacePolygon(...)\\n SurfacePolygon(...)\\n SurfacePolygon(...)\\n SurfacePolygon(...)\\n SurfacePolygon(...)\\n SurfacePolygon(...)\\n SurfacePolygon(...)\\n SurfacePolygon(...)\\n SurfacePolygon(...)\\n SurfacePolygon(...)\\n SurfacePolygon(...)\\n SurfacePolygon(...)\\n SurfacePolygon(...)\\n SurfacePolygon(...)\\n SurfacePolygon(...)\\n SurfacePolygon(...)\\n SurfacePolygon(...)\\n SurfacePolygon(...)\\n SurfacePolygon(...)\\n SurfacePolygon(...)\\n SurfacePolygon(...)\\n SurfacePolygon(...)\\n SurfacePolygon(...)\\n SurfacePolygon(...)<\\/pre>\"},\"nodeType\":\"DOM\",\"type\":\"node\",\"instanceArgs\":{\"namespace\":\"html\",\"tag\":\"div\"},\"children\":[]}]}}}},\"children\":[{\"props\":{},\"nodeType\":\"ObservableNode\",\"type\":\"node\",\"instanceArgs\":{\"id\":\"11336822310627102083\",\"name\":\"obs-node\"},\"children\":[]}]}]},\n",
       "            window,\n",
       "        );\n",
       "    } else {\n",
       "        document\n",
       "            .querySelector('[data-webio-mountpoint=\"16275386267930115690\"]')\n",
       "            .innerHTML = (\n",
       "                '<div style=\"padding: 1em; background-color: #f8d6da; border: 1px solid #f5c6cb\">' +\n",
       "                '<p><strong>WebIO not detected.</strong></p>' +\n",
       "                '<p>Please read ' +\n",
       "                '<a href=\"https://juliagizmos.github.io/WebIO.jl/latest/troubleshooting/not-detected/\" target=\"_blank\">the troubleshooting guide</a> ' +\n",
       "                'for more information on how to resolve this issue.</p>' +\n",
       "                '<p><a href=\"https://juliagizmos.github.io/WebIO.jl/latest/troubleshooting/not-detected/\" target=\"_blank\">https://juliagizmos.github.io/WebIO.jl/latest/troubleshooting/not-detected/</a></p>' +\n",
       "                '</div>'\n",
       "            );\n",
       "    }\n",
       "    </script>\n",
       "</div>\n"
      ],
      "text/plain": [
       "Node{WebIO.DOM}(WebIO.DOM(:html, :div), Any[Node{WebIO.DOM}(WebIO.DOM(:html, :div), Any[Scope(Node{WebIO.DOM}(WebIO.DOM(:html, :div), Any[Node{WebIO.DOM}(WebIO.DOM(:html, :div), Any[Node{WebIO.DOM}(WebIO.DOM(:html, :label), Any[\"Minimum Amplitude y\"], Dict{Symbol,Any}(:className => \"interact \",:style => Dict{Any,Any}(:padding => \"5px 10px 0px 10px\")))], Dict{Symbol,Any}(:className => \"interact-flex-row-left\")), Node{WebIO.DOM}(WebIO.DOM(:html, :div), Any[Node{WebIO.DOM}(WebIO.DOM(:html, :input), Any[], Dict{Symbol,Any}(:max => 111,:min => 1,:attributes => Dict{Any,Any}(:type => \"range\",Symbol(\"data-bind\") => \"numericValue: index, valueUpdate: 'input', event: {change: function (){this.changes(this.changes()+1)}}\",\"orient\" => \"horizontal\"),:step => 1,:className => \"slider slider is-fullwidth\",:style => Dict{Any,Any}()))], Dict{Symbol,Any}(:className => \"interact-flex-row-center\")), Node{WebIO.DOM}(WebIO.DOM(:html, :div), Any[Node{WebIO.DOM}(WebIO.DOM(:html, :p), Any[], Dict{Symbol,Any}(:attributes => Dict(\"data-bind\" => \"text: formatted_val\")))], Dict{Symbol,Any}(:className => \"interact-flex-row-right\"))], Dict{Symbol,Any}(:className => \"interact-flex-row interact-widget\")), Dict{String,Tuple{Observables.AbstractObservable,Union{Nothing, Bool}}}(\"changes\" => (Observable{Int64} with 1 listeners. Value:\n",
       "0, nothing),\"index\" => (Observable{Any} with 2 listeners. Value:\n",
       "56, nothing)), Set(String[]), nothing, Asset[Asset(\"js\", \"knockout\", \"C:\\\\Users\\\\ines\\\\.julia\\\\packages\\\\Knockout\\\\IP1uR\\\\src\\\\..\\\\assets\\\\knockout.js\"), Asset(\"js\", \"knockout_punches\", \"C:\\\\Users\\\\ines\\\\.julia\\\\packages\\\\Knockout\\\\IP1uR\\\\src\\\\..\\\\assets\\\\knockout_punches.js\"), Asset(\"js\", nothing, \"C:\\\\Users\\\\ines\\\\.julia\\\\packages\\\\InteractBase\\\\sOe2Z\\\\src\\\\..\\\\assets\\\\all.js\"), Asset(\"css\", nothing, \"C:\\\\Users\\\\ines\\\\.julia\\\\packages\\\\InteractBase\\\\sOe2Z\\\\src\\\\..\\\\assets\\\\style.css\"), Asset(\"css\", nothing, \"C:\\\\Users\\\\ines\\\\.julia\\\\packages\\\\Interact\\\\SbgIk\\\\src\\\\..\\\\assets\\\\bulma_confined.min.css\")], Dict{Any,Any}(\"changes\" => Any[WebIO.JSString(\"(function (val){return (val!=this.model[\\\"changes\\\"]()) ? (this.valueFromJulia[\\\"changes\\\"]=true, this.model[\\\"changes\\\"](val)) : undefined})\")],\"index\" => Any[WebIO.JSString(\"(function (val){return (val!=this.model[\\\"index\\\"]()) ? (this.valueFromJulia[\\\"index\\\"]=true, this.model[\\\"index\\\"](val)) : undefined})\")]), WebIO.ConnectionPool(Channel{Any}(sz_max:32,sz_curr:0), Set(AbstractConnection[]), Base.GenericCondition{Base.AlwaysLockedST}(Base.InvasiveLinkedList{Task}(Task (runnable) @0x0000000015a45150, Task (runnable) @0x0000000015a45150), Base.AlwaysLockedST(1))), WebIO.JSString[WebIO.JSString(\"function () {\\n    var handler = (function (ko, koPunches) {\\n    ko.punches.enableAll();\\n    ko.bindingHandlers.numericValue = {\\n        init: function(element, valueAccessor, allBindings, data, context) {\\n            var stringified = ko.observable(ko.unwrap(valueAccessor()));\\n            stringified.subscribe(function(value) {\\n                var val = parseFloat(value);\\n                if (!isNaN(val)) {\\n                    valueAccessor()(val);\\n                }\\n            });\\n            valueAccessor().subscribe(function(value) {\\n                var str = JSON.stringify(value);\\n                if ((str == \\\"0\\\") && ([\\\"-0\\\", \\\"-0.\\\"].indexOf(stringified()) >= 0))\\n                     return;\\n                 if ([\\\"null\\\", \\\"\\\"].indexOf(str) >= 0)\\n                     return;\\n                stringified(str);\\n            });\\n            ko.applyBindingsToNode(\\n                element,\\n                {\\n                    value: stringified,\\n                    valueUpdate: allBindings.get('valueUpdate'),\\n                },\\n                context,\\n            );\\n        }\\n    };\\n    var json_data = {\\\"formatted_vals\\\":[\\\"1.0\\\",\\\"1.1\\\",\\\"1.2\\\",\\\"1.3\\\",\\\"1.4\\\",\\\"1.5\\\",\\\"1.6\\\",\\\"1.7\\\",\\\"1.8\\\",\\\"1.9\\\",\\\"2.0\\\",\\\"2.1\\\",\\\"2.2\\\",\\\"2.3\\\",\\\"2.4\\\",\\\"2.5\\\",\\\"2.6\\\",\\\"2.7\\\",\\\"2.8\\\",\\\"2.9\\\",\\\"3.0\\\",\\\"3.1\\\",\\\"3.2\\\",\\\"3.3\\\",\\\"3.4\\\",\\\"3.5\\\",\\\"3.6\\\",\\\"3.7\\\",\\\"3.8\\\",\\\"3.9\\\",\\\"4.0\\\",\\\"4.1\\\",\\\"4.2\\\",\\\"4.3\\\",\\\"4.4\\\",\\\"4.5\\\",\\\"4.6\\\",\\\"4.7\\\",\\\"4.8\\\",\\\"4.9\\\",\\\"5.0\\\",\\\"5.1\\\",\\\"5.2\\\",\\\"5.3\\\",\\\"5.4\\\",\\\"5.5\\\",\\\"5.6\\\",\\\"5.7\\\",\\\"5.8\\\",\\\"5.9\\\",\\\"6.0\\\",\\\"6.1\\\",\\\"6.2\\\",\\\"6.3\\\",\\\"6.4\\\",\\\"6.5\\\",\\\"6.6\\\",\\\"6.7\\\",\\\"6.8\\\",\\\"6.9\\\",\\\"7.0\\\",\\\"7.1\\\",\\\"7.2\\\",\\\"7.3\\\",\\\"7.4\\\",\\\"7.5\\\",\\\"7.6\\\",\\\"7.7\\\",\\\"7.8\\\",\\\"7.9\\\",\\\"8.0\\\",\\\"8.1\\\",\\\"8.2\\\",\\\"8.3\\\",\\\"8.4\\\",\\\"8.5\\\",\\\"8.6\\\",\\\"8.7\\\",\\\"8.8\\\",\\\"8.9\\\",\\\"9.0\\\",\\\"9.1\\\",\\\"9.2\\\",\\\"9.3\\\",\\\"9.4\\\",\\\"9.5\\\",\\\"9.6\\\",\\\"9.7\\\",\\\"9.8\\\",\\\"9.9\\\",\\\"10.0\\\",\\\"10.1\\\",\\\"10.2\\\",\\\"10.3\\\",\\\"10.4\\\",\\\"10.5\\\",\\\"10.6\\\",\\\"10.7\\\",\\\"10.8\\\",\\\"10.9\\\",\\\"11.0\\\",\\\"11.1\\\",\\\"11.2\\\",\\\"11.3\\\",\\\"11.4\\\",\\\"11.5\\\",\\\"11.6\\\",\\\"11.7\\\",\\\"11.8\\\",\\\"11.9\\\",\\\"12.0\\\"],\\\"changes\\\":WebIO.getval({\\\"name\\\":\\\"changes\\\",\\\"scope\\\":\\\"3749976526305033678\\\",\\\"id\\\":\\\"5249591597816052329\\\",\\\"type\\\":\\\"observable\\\"}),\\\"index\\\":WebIO.getval({\\\"name\\\":\\\"index\\\",\\\"scope\\\":\\\"3749976526305033678\\\",\\\"id\\\":\\\"16354351925445755136\\\",\\\"type\\\":\\\"observable\\\"})};\\n    var self = this;\\n    function AppViewModel() {\\n        for (var key in json_data) {\\n            var el = json_data[key];\\n            this[key] = Array.isArray(el) ? ko.observableArray(el) : ko.observable(el);\\n        }\\n        \\n        [this[\\\"formatted_val\\\"]=ko.computed(    function(){\\n        return this.formatted_vals()[parseInt(this.index())-(1)];\\n    }\\n,this)]\\n        [this[\\\"changes\\\"].subscribe((function (val){!(this.valueFromJulia[\\\"changes\\\"]) ? (WebIO.setval({\\\"name\\\":\\\"changes\\\",\\\"scope\\\":\\\"3749976526305033678\\\",\\\"id\\\":\\\"5249591597816052329\\\",\\\"type\\\":\\\"observable\\\"},val)) : undefined; return this.valueFromJulia[\\\"changes\\\"]=false}),self),this[\\\"index\\\"].subscribe((function (val){!(this.valueFromJulia[\\\"index\\\"]) ? (WebIO.setval({\\\"name\\\":\\\"index\\\",\\\"scope\\\":\\\"3749976526305033678\\\",\\\"id\\\":\\\"16354351925445755136\\\",\\\"type\\\":\\\"observable\\\"},val)) : undefined; return this.valueFromJulia[\\\"index\\\"]=false}),self)]\\n        \\n    }\\n    self.model = new AppViewModel();\\n    self.valueFromJulia = {};\\n    for (var key in json_data) {\\n        self.valueFromJulia[key] = false;\\n    }\\n    ko.applyBindings(self.model, self.dom);\\n}\\n);\\n    (WebIO.importBlock({\\\"data\\\":[{\\\"name\\\":\\\"knockout\\\",\\\"type\\\":\\\"js\\\",\\\"url\\\":\\\"/assetserver/92c2f1237c7de526b82b854e47551e089e074ac2-knockout.js\\\"},{\\\"name\\\":\\\"knockout_punches\\\",\\\"type\\\":\\\"js\\\",\\\"url\\\":\\\"/assetserver/39e4d1dceef49085ebf36edb09c92c7574c58816-knockout_punches.js\\\"}],\\\"type\\\":\\\"async_block\\\"})).then((imports) => handler.apply(this, imports));\\n}\\n\")])], Dict{Symbol,Any}(:className => \"field interact-widget\")), Node{WebIO.DOM}(WebIO.DOM(:html, :div), Any[Scope(Node{WebIO.DOM}(WebIO.DOM(:html, :div), Any[Node{WebIO.DOM}(WebIO.DOM(:html, :div), Any[Node{WebIO.DOM}(WebIO.DOM(:html, :label), Any[\"Maximum Amplitude y\"], Dict{Symbol,Any}(:className => \"interact \",:style => Dict{Any,Any}(:padding => \"5px 10px 0px 10px\")))], Dict{Symbol,Any}(:className => \"interact-flex-row-left\")), Node{WebIO.DOM}(WebIO.DOM(:html, :div), Any[Node{WebIO.DOM}(WebIO.DOM(:html, :input), Any[], Dict{Symbol,Any}(:max => 111,:min => 1,:attributes => Dict{Any,Any}(:type => \"range\",Symbol(\"data-bind\") => \"numericValue: index, valueUpdate: 'input', event: {change: function (){this.changes(this.changes()+1)}}\",\"orient\" => \"horizontal\"),:step => 1,:className => \"slider slider is-fullwidth\",:style => Dict{Any,Any}()))], Dict{Symbol,Any}(:className => \"interact-flex-row-center\")), Node{WebIO.DOM}(WebIO.DOM(:html, :div), Any[Node{WebIO.DOM}(WebIO.DOM(:html, :p), Any[], Dict{Symbol,Any}(:attributes => Dict(\"data-bind\" => \"text: formatted_val\")))], Dict{Symbol,Any}(:className => \"interact-flex-row-right\"))], Dict{Symbol,Any}(:className => \"interact-flex-row interact-widget\")), Dict{String,Tuple{Observables.AbstractObservable,Union{Nothing, Bool}}}(\"changes\" => (Observable{Int64} with 1 listeners. Value:\n",
       "0, nothing),\"index\" => (Observable{Any} with 2 listeners. Value:\n",
       "56, nothing)), Set(String[]), nothing, Asset[Asset(\"js\", \"knockout\", \"C:\\\\Users\\\\ines\\\\.julia\\\\packages\\\\Knockout\\\\IP1uR\\\\src\\\\..\\\\assets\\\\knockout.js\"), Asset(\"js\", \"knockout_punches\", \"C:\\\\Users\\\\ines\\\\.julia\\\\packages\\\\Knockout\\\\IP1uR\\\\src\\\\..\\\\assets\\\\knockout_punches.js\"), Asset(\"js\", nothing, \"C:\\\\Users\\\\ines\\\\.julia\\\\packages\\\\InteractBase\\\\sOe2Z\\\\src\\\\..\\\\assets\\\\all.js\"), Asset(\"css\", nothing, \"C:\\\\Users\\\\ines\\\\.julia\\\\packages\\\\InteractBase\\\\sOe2Z\\\\src\\\\..\\\\assets\\\\style.css\"), Asset(\"css\", nothing, \"C:\\\\Users\\\\ines\\\\.julia\\\\packages\\\\Interact\\\\SbgIk\\\\src\\\\..\\\\assets\\\\bulma_confined.min.css\")], Dict{Any,Any}(\"changes\" => Any[WebIO.JSString(\"(function (val){return (val!=this.model[\\\"changes\\\"]()) ? (this.valueFromJulia[\\\"changes\\\"]=true, this.model[\\\"changes\\\"](val)) : undefined})\")],\"index\" => Any[WebIO.JSString(\"(function (val){return (val!=this.model[\\\"index\\\"]()) ? (this.valueFromJulia[\\\"index\\\"]=true, this.model[\\\"index\\\"](val)) : undefined})\")]), WebIO.ConnectionPool(Channel{Any}(sz_max:32,sz_curr:0), Set(AbstractConnection[]), Base.GenericCondition{Base.AlwaysLockedST}(Base.InvasiveLinkedList{Task}(Task (runnable) @0x0000000015a46570, Task (runnable) @0x0000000015a46570), Base.AlwaysLockedST(1))), WebIO.JSString[WebIO.JSString(\"function () {\\n    var handler = (function (ko, koPunches) {\\n    ko.punches.enableAll();\\n    ko.bindingHandlers.numericValue = {\\n        init: function(element, valueAccessor, allBindings, data, context) {\\n            var stringified = ko.observable(ko.unwrap(valueAccessor()));\\n            stringified.subscribe(function(value) {\\n                var val = parseFloat(value);\\n                if (!isNaN(val)) {\\n                    valueAccessor()(val);\\n                }\\n            });\\n            valueAccessor().subscribe(function(value) {\\n                var str = JSON.stringify(value);\\n                if ((str == \\\"0\\\") && ([\\\"-0\\\", \\\"-0.\\\"].indexOf(stringified()) >= 0))\\n                     return;\\n                 if ([\\\"null\\\", \\\"\\\"].indexOf(str) >= 0)\\n                     return;\\n                stringified(str);\\n            });\\n            ko.applyBindingsToNode(\\n                element,\\n                {\\n                    value: stringified,\\n                    valueUpdate: allBindings.get('valueUpdate'),\\n                },\\n                context,\\n            );\\n        }\\n    };\\n    var json_data = {\\\"formatted_vals\\\":[\\\"1.0\\\",\\\"1.1\\\",\\\"1.2\\\",\\\"1.3\\\",\\\"1.4\\\",\\\"1.5\\\",\\\"1.6\\\",\\\"1.7\\\",\\\"1.8\\\",\\\"1.9\\\",\\\"2.0\\\",\\\"2.1\\\",\\\"2.2\\\",\\\"2.3\\\",\\\"2.4\\\",\\\"2.5\\\",\\\"2.6\\\",\\\"2.7\\\",\\\"2.8\\\",\\\"2.9\\\",\\\"3.0\\\",\\\"3.1\\\",\\\"3.2\\\",\\\"3.3\\\",\\\"3.4\\\",\\\"3.5\\\",\\\"3.6\\\",\\\"3.7\\\",\\\"3.8\\\",\\\"3.9\\\",\\\"4.0\\\",\\\"4.1\\\",\\\"4.2\\\",\\\"4.3\\\",\\\"4.4\\\",\\\"4.5\\\",\\\"4.6\\\",\\\"4.7\\\",\\\"4.8\\\",\\\"4.9\\\",\\\"5.0\\\",\\\"5.1\\\",\\\"5.2\\\",\\\"5.3\\\",\\\"5.4\\\",\\\"5.5\\\",\\\"5.6\\\",\\\"5.7\\\",\\\"5.8\\\",\\\"5.9\\\",\\\"6.0\\\",\\\"6.1\\\",\\\"6.2\\\",\\\"6.3\\\",\\\"6.4\\\",\\\"6.5\\\",\\\"6.6\\\",\\\"6.7\\\",\\\"6.8\\\",\\\"6.9\\\",\\\"7.0\\\",\\\"7.1\\\",\\\"7.2\\\",\\\"7.3\\\",\\\"7.4\\\",\\\"7.5\\\",\\\"7.6\\\",\\\"7.7\\\",\\\"7.8\\\",\\\"7.9\\\",\\\"8.0\\\",\\\"8.1\\\",\\\"8.2\\\",\\\"8.3\\\",\\\"8.4\\\",\\\"8.5\\\",\\\"8.6\\\",\\\"8.7\\\",\\\"8.8\\\",\\\"8.9\\\",\\\"9.0\\\",\\\"9.1\\\",\\\"9.2\\\",\\\"9.3\\\",\\\"9.4\\\",\\\"9.5\\\",\\\"9.6\\\",\\\"9.7\\\",\\\"9.8\\\",\\\"9.9\\\",\\\"10.0\\\",\\\"10.1\\\",\\\"10.2\\\",\\\"10.3\\\",\\\"10.4\\\",\\\"10.5\\\",\\\"10.6\\\",\\\"10.7\\\",\\\"10.8\\\",\\\"10.9\\\",\\\"11.0\\\",\\\"11.1\\\",\\\"11.2\\\",\\\"11.3\\\",\\\"11.4\\\",\\\"11.5\\\",\\\"11.6\\\",\\\"11.7\\\",\\\"11.8\\\",\\\"11.9\\\",\\\"12.0\\\"],\\\"changes\\\":WebIO.getval({\\\"name\\\":\\\"changes\\\",\\\"scope\\\":\\\"1139477756676125265\\\",\\\"id\\\":\\\"2354827509904298122\\\",\\\"type\\\":\\\"observable\\\"}),\\\"index\\\":WebIO.getval({\\\"name\\\":\\\"index\\\",\\\"scope\\\":\\\"1139477756676125265\\\",\\\"id\\\":\\\"6259329819638033945\\\",\\\"type\\\":\\\"observable\\\"})};\\n    var self = this;\\n    function AppViewModel() {\\n        for (var key in json_data) {\\n            var el = json_data[key];\\n            this[key] = Array.isArray(el) ? ko.observableArray(el) : ko.observable(el);\\n        }\\n        \\n        [this[\\\"formatted_val\\\"]=ko.computed(    function(){\\n        return this.formatted_vals()[parseInt(this.index())-(1)];\\n    }\\n,this)]\\n        [this[\\\"changes\\\"].subscribe((function (val){!(this.valueFromJulia[\\\"changes\\\"]) ? (WebIO.setval({\\\"name\\\":\\\"changes\\\",\\\"scope\\\":\\\"1139477756676125265\\\",\\\"id\\\":\\\"2354827509904298122\\\",\\\"type\\\":\\\"observable\\\"},val)) : undefined; return this.valueFromJulia[\\\"changes\\\"]=false}),self),this[\\\"index\\\"].subscribe((function (val){!(this.valueFromJulia[\\\"index\\\"]) ? (WebIO.setval({\\\"name\\\":\\\"index\\\",\\\"scope\\\":\\\"1139477756676125265\\\",\\\"id\\\":\\\"6259329819638033945\\\",\\\"type\\\":\\\"observable\\\"},val)) : undefined; return this.valueFromJulia[\\\"index\\\"]=false}),self)]\\n        \\n    }\\n    self.model = new AppViewModel();\\n    self.valueFromJulia = {};\\n    for (var key in json_data) {\\n        self.valueFromJulia[key] = false;\\n    }\\n    ko.applyBindings(self.model, self.dom);\\n}\\n);\\n    (WebIO.importBlock({\\\"data\\\":[{\\\"name\\\":\\\"knockout\\\",\\\"type\\\":\\\"js\\\",\\\"url\\\":\\\"/assetserver/92c2f1237c7de526b82b854e47551e089e074ac2-knockout.js\\\"},{\\\"name\\\":\\\"knockout_punches\\\",\\\"type\\\":\\\"js\\\",\\\"url\\\":\\\"/assetserver/39e4d1dceef49085ebf36edb09c92c7574c58816-knockout_punches.js\\\"}],\\\"type\\\":\\\"async_block\\\"})).then((imports) => handler.apply(this, imports));\\n}\\n\")])], Dict{Symbol,Any}(:className => \"field interact-widget\")), Node{WebIO.DOM}(WebIO.DOM(:html, :div), Any[Scope(Node{WebIO.DOM}(WebIO.DOM(:html, :div), Any[Node{WebIO.DOM}(WebIO.DOM(:html, :div), Any[Node{WebIO.DOM}(WebIO.DOM(:html, :label), Any[\"Height\"], Dict{Symbol,Any}(:className => \"interact \",:style => Dict{Any,Any}(:padding => \"5px 10px 0px 10px\")))], Dict{Symbol,Any}(:className => \"interact-flex-row-left\")), Node{WebIO.DOM}(WebIO.DOM(:html, :div), Any[Node{WebIO.DOM}(WebIO.DOM(:html, :input), Any[], Dict{Symbol,Any}(:max => 19,:min => 1,:attributes => Dict{Any,Any}(:type => \"range\",Symbol(\"data-bind\") => \"numericValue: index, valueUpdate: 'input', event: {change: function (){this.changes(this.changes()+1)}}\",\"orient\" => \"horizontal\"),:step => 1,:className => \"slider slider is-fullwidth\",:style => Dict{Any,Any}()))], Dict{Symbol,Any}(:className => \"interact-flex-row-center\")), Node{WebIO.DOM}(WebIO.DOM(:html, :div), Any[Node{WebIO.DOM}(WebIO.DOM(:html, :p), Any[], Dict{Symbol,Any}(:attributes => Dict(\"data-bind\" => \"text: formatted_val\")))], Dict{Symbol,Any}(:className => \"interact-flex-row-right\"))], Dict{Symbol,Any}(:className => \"interact-flex-row interact-widget\")), Dict{String,Tuple{Observables.AbstractObservable,Union{Nothing, Bool}}}(\"changes\" => (Observable{Int64} with 1 listeners. Value:\n",
       "0, nothing),\"index\" => (Observable{Any} with 2 listeners. Value:\n",
       "10, nothing)), Set(String[]), nothing, Asset[Asset(\"js\", \"knockout\", \"C:\\\\Users\\\\ines\\\\.julia\\\\packages\\\\Knockout\\\\IP1uR\\\\src\\\\..\\\\assets\\\\knockout.js\"), Asset(\"js\", \"knockout_punches\", \"C:\\\\Users\\\\ines\\\\.julia\\\\packages\\\\Knockout\\\\IP1uR\\\\src\\\\..\\\\assets\\\\knockout_punches.js\"), Asset(\"js\", nothing, \"C:\\\\Users\\\\ines\\\\.julia\\\\packages\\\\InteractBase\\\\sOe2Z\\\\src\\\\..\\\\assets\\\\all.js\"), Asset(\"css\", nothing, \"C:\\\\Users\\\\ines\\\\.julia\\\\packages\\\\InteractBase\\\\sOe2Z\\\\src\\\\..\\\\assets\\\\style.css\"), Asset(\"css\", nothing, \"C:\\\\Users\\\\ines\\\\.julia\\\\packages\\\\Interact\\\\SbgIk\\\\src\\\\..\\\\assets\\\\bulma_confined.min.css\")], Dict{Any,Any}(\"changes\" => Any[WebIO.JSString(\"(function (val){return (val!=this.model[\\\"changes\\\"]()) ? (this.valueFromJulia[\\\"changes\\\"]=true, this.model[\\\"changes\\\"](val)) : undefined})\")],\"index\" => Any[WebIO.JSString(\"(function (val){return (val!=this.model[\\\"index\\\"]()) ? (this.valueFromJulia[\\\"index\\\"]=true, this.model[\\\"index\\\"](val)) : undefined})\")]), WebIO.ConnectionPool(Channel{Any}(sz_max:32,sz_curr:0), Set(AbstractConnection[]), Base.GenericCondition{Base.AlwaysLockedST}(Base.InvasiveLinkedList{Task}(Task (runnable) @0x0000000015a46850, Task (runnable) @0x0000000015a46850), Base.AlwaysLockedST(1))), WebIO.JSString[WebIO.JSString(\"function () {\\n    var handler = (function (ko, koPunches) {\\n    ko.punches.enableAll();\\n    ko.bindingHandlers.numericValue = {\\n        init: function(element, valueAccessor, allBindings, data, context) {\\n            var stringified = ko.observable(ko.unwrap(valueAccessor()));\\n            stringified.subscribe(function(value) {\\n                var val = parseFloat(value);\\n                if (!isNaN(val)) {\\n                    valueAccessor()(val);\\n                }\\n            });\\n            valueAccessor().subscribe(function(value) {\\n                var str = JSON.stringify(value);\\n                if ((str == \\\"0\\\") && ([\\\"-0\\\", \\\"-0.\\\"].indexOf(stringified()) >= 0))\\n                     return;\\n                 if ([\\\"null\\\", \\\"\\\"].indexOf(str) >= 0)\\n                     return;\\n                stringified(str);\\n            });\\n            ko.applyBindingsToNode(\\n                element,\\n                {\\n                    value: stringified,\\n                    valueUpdate: allBindings.get('valueUpdate'),\\n                },\\n                context,\\n            );\\n        }\\n    };\\n    var json_data = {\\\"formatted_vals\\\":[\\\"2\\\",\\\"3\\\",\\\"4\\\",\\\"5\\\",\\\"6\\\",\\\"7\\\",\\\"8\\\",\\\"9\\\",\\\"10\\\",\\\"11\\\",\\\"12\\\",\\\"13\\\",\\\"14\\\",\\\"15\\\",\\\"16\\\",\\\"17\\\",\\\"18\\\",\\\"19\\\",\\\"20\\\"],\\\"changes\\\":WebIO.getval({\\\"name\\\":\\\"changes\\\",\\\"scope\\\":\\\"275914290728990582\\\",\\\"id\\\":\\\"8605593840906717149\\\",\\\"type\\\":\\\"observable\\\"}),\\\"index\\\":WebIO.getval({\\\"name\\\":\\\"index\\\",\\\"scope\\\":\\\"275914290728990582\\\",\\\"id\\\":\\\"17213031736463623574\\\",\\\"type\\\":\\\"observable\\\"})};\\n    var self = this;\\n    function AppViewModel() {\\n        for (var key in json_data) {\\n            var el = json_data[key];\\n            this[key] = Array.isArray(el) ? ko.observableArray(el) : ko.observable(el);\\n        }\\n        \\n        [this[\\\"formatted_val\\\"]=ko.computed(    function(){\\n        return this.formatted_vals()[parseInt(this.index())-(1)];\\n    }\\n,this)]\\n        [this[\\\"changes\\\"].subscribe((function (val){!(this.valueFromJulia[\\\"changes\\\"]) ? (WebIO.setval({\\\"name\\\":\\\"changes\\\",\\\"scope\\\":\\\"275914290728990582\\\",\\\"id\\\":\\\"8605593840906717149\\\",\\\"type\\\":\\\"observable\\\"},val)) : undefined; return this.valueFromJulia[\\\"changes\\\"]=false}),self),this[\\\"index\\\"].subscribe((function (val){!(this.valueFromJulia[\\\"index\\\"]) ? (WebIO.setval({\\\"name\\\":\\\"index\\\",\\\"scope\\\":\\\"275914290728990582\\\",\\\"id\\\":\\\"17213031736463623574\\\",\\\"type\\\":\\\"observable\\\"},val)) : undefined; return this.valueFromJulia[\\\"index\\\"]=false}),self)]\\n        \\n    }\\n    self.model = new AppViewModel();\\n    self.valueFromJulia = {};\\n    for (var key in json_data) {\\n        self.valueFromJulia[key] = false;\\n    }\\n    ko.applyBindings(self.model, self.dom);\\n}\\n);\\n    (WebIO.importBlock({\\\"data\\\":[{\\\"name\\\":\\\"knockout\\\",\\\"type\\\":\\\"js\\\",\\\"url\\\":\\\"/assetserver/92c2f1237c7de526b82b854e47551e089e074ac2-knockout.js\\\"},{\\\"name\\\":\\\"knockout_punches\\\",\\\"type\\\":\\\"js\\\",\\\"url\\\":\\\"/assetserver/39e4d1dceef49085ebf36edb09c92c7574c58816-knockout_punches.js\\\"}],\\\"type\\\":\\\"async_block\\\"})).then((imports) => handler.apply(this, imports));\\n}\\n\")])], Dict{Symbol,Any}(:className => \"field interact-widget\")), Observable{Any} with 0 listeners. Value:\n",
       "Node{WebIO.DOM}(WebIO.DOM(:html, :div), Any[SurfacePolygon[SurfacePolygon(...), SurfacePolygon(...), SurfacePolygon(...), SurfacePolygon(...), SurfacePolygon(...), SurfacePolygon(...), SurfacePolygon(...), SurfacePolygon(...), SurfacePolygon(...), SurfacePolygon(...)  …  SurfacePolygon(...), SurfacePolygon(...), SurfacePolygon(...), SurfacePolygon(...), SurfacePolygon(...), SurfacePolygon(...), SurfacePolygon(...), SurfacePolygon(...), SurfacePolygon(...), SurfacePolygon(...)]], Dict{Symbol,Any}(:className => \"interact-flex-row interact-widget\"))], Dict{Symbol,Any}())"
      ]
     },
     "execution_count": 47,
     "metadata": {
      "application/vnd.webio.node+json": {
       "kernelId": "d5ed2ba6-ae4b-42eb-88ac-197fdb5a4e8a"
      }
     },
     "output_type": "execute_result"
    }
   ],
   "source": [
    "backend(meshcat)\n",
    "new_backend()\n",
    "\n",
    "@manipulate for ampy_bottom_min = widget(1:0.1:12, label=\"Minimum Amplitude y\"),\n",
    "                ampy_bottom_max = widget(1:0.1:12, label=\"Maximum Amplitude y\"),\n",
    "                h = widget(2:1:20, label=\"Height\")\n",
    "            delete_all_shapes()\n",
    "            west_glass_wall = damped_sin_glass_wall(x(d_width),\n",
    "                                                    ampy_bottom_max,\n",
    "                                                    fi, decay, om_y,\n",
    "                                                    pav_length-2*d_length, h-d_height, 85, 20)\n",
    "            east_glass_wall = damped_sin_glass_wall(x(pav_width-d_width),\n",
    "                                                    ampy_bottom_min,\n",
    "                                                    fi, decay, om_y,\n",
    "                                                    pav_length-2*d_length, h-d_height, 85, 20)\n",
    "            map(ps->surface_polygon(ps), itera_sweeked(west_glass_wall))\n",
    "            map(ps->surface_polygon(ps), itera_sweeked(east_glass_wall))\n",
    "end"
   ]
  },
  {
   "cell_type": "markdown",
   "metadata": {},
   "source": [
    "## Interior Walls"
   ]
  },
  {
   "cell_type": "code",
   "execution_count": null,
   "metadata": {},
   "outputs": [],
   "source": []
  }
 ],
 "metadata": {
  "@webio": {
   "lastCommId": "f882c68e0bb241e286dc492aba48b118",
   "lastKernelId": "d5ed2ba6-ae4b-42eb-88ac-197fdb5a4e8a"
  },
  "kernelspec": {
   "display_name": "Julia 1.4.2",
   "language": "julia",
   "name": "julia-1.4"
  },
  "language_info": {
   "file_extension": ".jl",
   "mimetype": "application/julia",
   "name": "julia",
   "version": "1.4.2"
  },
  "toc": {
   "base_numbering": 1,
   "nav_menu": {},
   "number_sections": true,
   "sideBar": true,
   "skip_h1_title": false,
   "title_cell": "Table of Contents",
   "title_sidebar": "Contents",
   "toc_cell": false,
   "toc_position": {},
   "toc_section_display": true,
   "toc_window_display": false
  }
 },
 "nbformat": 4,
 "nbformat_minor": 4
}
