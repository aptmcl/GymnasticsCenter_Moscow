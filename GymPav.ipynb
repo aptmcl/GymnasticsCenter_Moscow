{
 "cells": [
  {
   "cell_type": "markdown",
   "metadata": {},
   "source": [
    "# Irina Viner-Usmanova Rhythmic Gymnastics Centre"
   ]
  },
  {
   "cell_type": "code",
   "execution_count": 29,
   "metadata": {},
   "outputs": [],
   "source": [
    "using WebIO"
   ]
  },
  {
   "cell_type": "code",
   "execution_count": 30,
   "metadata": {},
   "outputs": [],
   "source": [
    "using Interact"
   ]
  },
  {
   "cell_type": "code",
   "execution_count": 31,
   "metadata": {},
   "outputs": [],
   "source": [
    "using Khepri"
   ]
  },
  {
   "cell_type": "code",
   "execution_count": 32,
   "metadata": {},
   "outputs": [
    {
     "data": {
      "text/plain": [
       "(800, 400)"
      ]
     },
     "execution_count": 32,
     "metadata": {},
     "output_type": "execute_result"
    }
   ],
   "source": [
    "render_size(800, 400) # Khepri backends size"
   ]
  },
  {
   "cell_type": "markdown",
   "metadata": {},
   "source": [
    "Avoid tests macro: `true` to skip tests, and `false` to run them."
   ]
  },
  {
   "cell_type": "code",
   "execution_count": 33,
   "metadata": {},
   "outputs": [
    {
     "data": {
      "text/plain": [
       "@test (macro with 1 method)"
      ]
     },
     "execution_count": 33,
     "metadata": {},
     "output_type": "execute_result"
    }
   ],
   "source": [
    "avoid_tests = Parameter(true)\n",
    "\n",
    "macro test(expr...)\n",
    "  quote\n",
    "    if !avoid_tests() \n",
    "        begin\n",
    "            $(esc(expr...))\n",
    "        end\n",
    "    end\n",
    "  end\n",
    "end"
   ]
  },
  {
   "cell_type": "code",
   "execution_count": 123,
   "metadata": {},
   "outputs": [
    {
     "data": {
      "text/plain": [
       "false"
      ]
     },
     "execution_count": 123,
     "metadata": {},
     "output_type": "execute_result"
    }
   ],
   "source": [
    "avoid_tests(false)"
   ]
  },
  {
   "cell_type": "markdown",
   "metadata": {},
   "source": [
    "## Sinusoidal Curves"
   ]
  },
  {
   "cell_type": "markdown",
   "metadata": {},
   "source": [
    " | Sinunoisal wave parameters | Other sinusoidal curves |\n",
    " |----------------------------|-------------------------|\n",
    " |<img src=\"./Figures/sin_wave.png\" width=\"480\"> | <img src=\"./Figures/sin_curves.png\" width=\"350\">|"
   ]
  },
  {
   "cell_type": "markdown",
   "metadata": {},
   "source": [
    "`sinusoidal` parameters explained:\n",
    "* a is the amplitude\n",
    "* omega is the frequency\n",
    "* fi is the phase"
   ]
  },
  {
   "cell_type": "code",
   "execution_count": 35,
   "metadata": {},
   "outputs": [
    {
     "data": {
      "text/plain": [
       "sinusoidal (generic function with 1 method)"
      ]
     },
     "execution_count": 35,
     "metadata": {},
     "output_type": "execute_result"
    }
   ],
   "source": [
    "sinusoidal(a, omega, fi, x) = a*sin(omega*x+fi)"
   ]
  },
  {
   "cell_type": "code",
   "execution_count": 36,
   "metadata": {},
   "outputs": [
    {
     "data": {
      "text/plain": [
       "sin_array_y (generic function with 1 method)"
      ]
     },
     "execution_count": 36,
     "metadata": {},
     "output_type": "execute_result"
    }
   ],
   "source": [
    "sin_array_y(p, a, omega, fi, dist, n) = [p+vxy(i, sinusoidal(a, omega, fi, i)) for i in division(0, dist, n)]"
   ]
  },
  {
   "cell_type": "code",
   "execution_count": 37,
   "metadata": {},
   "outputs": [],
   "source": [
    "@test begin\n",
    "    backend(notebook)\n",
    "    new_backend()\n",
    "    line(sin_array_y(u0(), 5, 1, 0, 50, 100))\n",
    "end"
   ]
  },
  {
   "cell_type": "markdown",
   "metadata": {},
   "source": [
    "Expected result:\n",
    "<img src=\"./Plots/sin_array_y.png\" width=\"600\">"
   ]
  },
  {
   "cell_type": "markdown",
   "metadata": {},
   "source": [
    "`damped_sin_wave`'s parameters explained\n",
    "* a is the initial amplitude (the highest peak)\n",
    "* b is the decay constant\n",
    "* omega is the angular frequency"
   ]
  },
  {
   "cell_type": "code",
   "execution_count": 38,
   "metadata": {},
   "outputs": [
    {
     "data": {
      "text/plain": [
       "damped_sin_wave (generic function with 1 method)"
      ]
     },
     "execution_count": 38,
     "metadata": {},
     "output_type": "execute_result"
    }
   ],
   "source": [
    "damped_sin_wave(a, d, omega, x) = a*exp(-(d*x))*sin(omega*x)"
   ]
  },
  {
   "cell_type": "code",
   "execution_count": 39,
   "metadata": {},
   "outputs": [
    {
     "data": {
      "text/plain": [
       "damped_sin_array_z (generic function with 1 method)"
      ]
     },
     "execution_count": 39,
     "metadata": {},
     "output_type": "execute_result"
    }
   ],
   "source": [
    "damped_sin_array_z(p, a, d, omega, dist, n) = [p+vxz(i, damped_sin_wave(a, d, omega, i)) for i in division(0, dist, n)]"
   ]
  },
  {
   "cell_type": "code",
   "execution_count": 40,
   "metadata": {},
   "outputs": [],
   "source": [
    "@test begin\n",
    "    backend(notebook)\n",
    "    new_backend()\n",
    "    line(damped_sin_array_z(u0(), 5, 0.1, 1, 50, 100))\n",
    "end"
   ]
  },
  {
   "cell_type": "markdown",
   "metadata": {},
   "source": [
    "Expected result:\n",
    "<img src=\"./Plots/damped_sin_array.png\" width=\"600\">"
   ]
  },
  {
   "cell_type": "code",
   "execution_count": 41,
   "metadata": {},
   "outputs": [
    {
     "data": {
      "text/plain": [
       "damped_sin_roof_pts (generic function with 1 method)"
      ]
     },
     "execution_count": 41,
     "metadata": {},
     "output_type": "execute_result"
    }
   ],
   "source": [
    "damped_sin_roof_pts(p, a_x, a_y, fi, decay, om_x, om_y, dist_x, dist_y, n_x, n_y) =\n",
    "    map_division((x, y)->p+vxyz(x, y, sinusoidal(a_x, om_x, fi, x)+damped_sin_wave(a_y, decay, om_y, y)),\n",
    "        0, dist_x, n_x,\n",
    "        0, dist_y, n_y)"
   ]
  },
  {
   "cell_type": "code",
   "execution_count": 42,
   "metadata": {},
   "outputs": [],
   "source": [
    "@test begin\n",
    "    backend(meshcat)\n",
    "    new_backend()\n",
    "    @manipulate for ampx = widget(0:0.1:3, label=\"Amplitude x\"),\n",
    "                ampy = widget(0:0.1:20, label=\"Amplitude y\")\n",
    "            delete_all_shapes()\n",
    "            surface_grid(damped_sin_roof_pts(u0(), ampx, ampy, 0, 0.1, 0.2, 1, 50, 100, 100, 200))\n",
    "    end\n",
    "end"
   ]
  },
  {
   "cell_type": "markdown",
   "metadata": {},
   "source": [
    "Expected result:\n",
    "<img src=\"./Plots/damped_surface.png\" width=\"600\">"
   ]
  },
  {
   "cell_type": "code",
   "execution_count": 43,
   "metadata": {},
   "outputs": [
    {
     "data": {
      "text/plain": [
       "damped_sin_roof_pts (generic function with 2 methods)"
      ]
     },
     "execution_count": 43,
     "metadata": {},
     "output_type": "execute_result"
    }
   ],
   "source": [
    "damped_sin_roof_pts(p, h, a_x, a_y_min, a_y_max, fi, decay, om_x, om_y, dist_x, dist_y, n_x, n_y) =\n",
    "    map_division((x, y) ->\n",
    "                y <= d_i ?\n",
    "                p + vxyz(x, \n",
    "                         -sin(y/d_i*(1*pi)), \n",
    "                         y*h/d_i + sin(x/dist_x*pi)sinusoidal(a_x, om_x, fi-y*pi/dist_y, x)*(y*a_x/d_i)) :\n",
    "                p + vxyz(x,\n",
    "                         y,\n",
    "                         h + sin(x/dist_x*pi)*sinusoidal(a_x, om_x, fi-y*pi/dist_y, x) +\n",
    "                         damped_sin_wave(a_y_max - (a_y_max-a_y_min)/dist_x*x, decay, om_y, y)),\n",
    "             0, dist_x, n_x,\n",
    "             0, dist_y, n_y)"
   ]
  },
  {
   "cell_type": "markdown",
   "metadata": {},
   "source": [
    "`d_i`is the distance between the pavillion starting point and the beginning of the dumped sine curve."
   ]
  },
  {
   "cell_type": "code",
   "execution_count": 44,
   "metadata": {},
   "outputs": [],
   "source": [
    "@test begin\n",
    "    backend(meshcat)\n",
    "    new_backend()\n",
    "    d_i = 0.5\n",
    "    @manipulate for ampx = widget(1:0.1:3, label=\"Amplitude x\"),\n",
    "                    ampy_min = widget(1:0.1:15, label=\"Minimum Amplitude y\"),\n",
    "                    ampy_max = widget(1:0.1:15, label=\"Maximum Amplitude y\"),\n",
    "                    h = widget(2:1:20, label=\"Height\")\n",
    "                delete_all_shapes()\n",
    "                surface_grid(damped_sin_roof_pts(u0(), h, ampx, ampy_min, ampy_max, pi, 0.03, pi/50, pi/10, 60, 100, 120, 800))\n",
    "    end\n",
    "end"
   ]
  },
  {
   "cell_type": "markdown",
   "metadata": {},
   "source": [
    "Expected result:\n",
    "<img src=\"./Plots/roof_surface.png\" width=\"600\">"
   ]
  },
  {
   "cell_type": "markdown",
   "metadata": {},
   "source": [
    "## Pavilion Dimensions"
   ]
  },
  {
   "cell_type": "markdown",
   "metadata": {},
   "source": [
    " | Roof dimentions explained | `d_i` explained |\n",
    " |---------------------------|-----------------|\n",
    " |<img src=\"./Figures/roof_dims.jpg\" width=\"400\"> | <img src=\"./Figures/roof_di.jpg\" width=\"400\"> |"
   ]
  },
  {
   "cell_type": "markdown",
   "metadata": {},
   "source": [
    "__Double sinuoid parameters:__\n",
    "\n",
    "* amp_x = amplitude of the sinusoid along the x axis\n",
    "* amp_y_min_top = minimum amplitude of the damped sinusoid along the y axis for the top layer of the roof\n",
    "* amp_y_max_top = maximum amplitude of the damped sinusoid along the y axis for the top layer of the roof\n",
    "* amp_y_max_bottom = maximum amplitude of the damped sinusoid along the y axis for the bottom layer of the roof\n",
    "* amp_y_min_bottom = minimum amplitude of the damped sinusoid along the y axis for the bottom layer of the roof\n",
    "* fi = sinusoid's phase along the x axis\n",
    "* decay = damped sinusoid's decay along the y axis\n",
    "* om_x = frequency of the sinusoid in x\n",
    "* om_y = frequency of the damped sinusoid in y\n",
    "\n",
    "__Genaral pavilion parameters:__\n",
    "\n",
    "* pav_width = pavilion's width (along x axis)\n",
    "* pav_length = pavilion's lenght (along y axis)\n",
    "* pav_height = pavilion's height (z axis)\n",
    "* d_width = distance between roof layers in the x axis (top layer is wider)\n",
    "* d_length = distance between roof layers in the y axis (top layer is longer)\n",
    "* d_height = distance between roof layers in the z axis (height of the roof truss)\n",
    "* d_i = distance before the damped sinusoid starts shaping the roof\n",
    "\n",
    "__Construction elements parameters:__\n",
    "\n",
    "* glass_panel_height = façade glass panel's height (width is defined by the number of points in the `damped_sinusoid` array)\n",
    "* n_panels = number of row sobdivisions for triangular roof panels and glass wall vertical lines\n",
    "* n_glass_verts = number of vertical panels per glass line\n",
    "* pinwheel_rec_level = number of times the pattern gets recursively subdivided"
   ]
  },
  {
   "cell_type": "code",
   "execution_count": 45,
   "metadata": {},
   "outputs": [
    {
     "data": {
      "text/plain": [
       "3"
      ]
     },
     "execution_count": 45,
     "metadata": {},
     "output_type": "execute_result"
    }
   ],
   "source": [
    "amp_x = 2.5\n",
    "amp_y_min_top = 4\n",
    "amp_y_max_top = 11\n",
    "amp_y_max_bottom = 10\n",
    "amp_y_min_bottom = 3\n",
    "fi = pi\n",
    "decay = 0.03\n",
    "\n",
    "pav_width = 60\n",
    "pav_length = 100\n",
    "pav_height = 14\n",
    "d_width = 1.5\n",
    "d_length = 1\n",
    "d_height = 3\n",
    "d_i = d_length\n",
    "\n",
    "om_x = pi/pav_width\n",
    "om_y = 10*pi/pav_length\n",
    "om_y_bottom = 10*pi/(pav_length - 2*d_length)\n",
    "\n",
    "glass_panel_height = 1\n",
    "n_panels = 100 \n",
    "n_glass_verts = 10\n",
    "pinwheel_rec_level = 3"
   ]
  },
  {
   "cell_type": "markdown",
   "metadata": {},
   "source": [
    "## Roof Truss"
   ]
  },
  {
   "cell_type": "markdown",
   "metadata": {},
   "source": [
    "### Basic truss elements"
   ]
  },
  {
   "cell_type": "markdown",
   "metadata": {},
   "source": [
    "The following functions create truss elements:\n",
    "* `free_node` and `fixed_node`create truss nodes\n",
    "* `bar`creates truss bars\n",
    "* `panel`creates truss panels"
   ]
  },
  {
   "cell_type": "markdown",
   "metadata": {},
   "source": [
    "CAD version of truss elements:"
   ]
  },
  {
   "cell_type": "code",
   "execution_count": 46,
   "metadata": {},
   "outputs": [
    {
     "data": {
      "text/plain": [
       "fixed_node (generic function with 1 method)"
      ]
     },
     "execution_count": 46,
     "metadata": {},
     "output_type": "execute_result"
    }
   ],
   "source": [
    "free_node(pt) = sphere(pt, 0.1)\n",
    "fixed_node(pt) = sphere(pt, 0.1)"
   ]
  },
  {
   "cell_type": "code",
   "execution_count": 47,
   "metadata": {},
   "outputs": [
    {
     "data": {
      "text/plain": [
       "truss_panel (generic function with 1 method)"
      ]
     },
     "execution_count": 47,
     "metadata": {},
     "output_type": "execute_result"
    }
   ],
   "source": [
    "truss_panel(ps) = surface_polygon(ps)"
   ]
  },
  {
   "cell_type": "code",
   "execution_count": 48,
   "metadata": {},
   "outputs": [
    {
     "ename": "LoadError",
     "evalue": "syntax: extra token \"agora\" after end of expression",
     "output_type": "error",
     "traceback": [
      "syntax: extra token \"agora\" after end of expression",
      ""
     ]
    }
   ],
   "source": [
    "e agora? skype?"
   ]
  },
  {
   "cell_type": "markdown",
   "metadata": {},
   "source": [
    "BIM families for truss elements:"
   ]
  },
  {
   "cell_type": "code",
   "execution_count": 49,
   "metadata": {},
   "outputs": [],
   "source": [
    "free_node_fam = truss_node_family_element(default_truss_node_family(), support=Khepri.truss_node_support(), radius=0.1)\n",
    "sup_node_fam = truss_node_family_element(default_truss_node_family(), support=Khepri.truss_node_support(ux=true, uy=true, uz=true), radius=0.1);"
   ]
  },
  {
   "cell_type": "markdown",
   "metadata": {},
   "source": [
    "BIM version of truss elements:"
   ]
  },
  {
   "cell_type": "code",
   "execution_count": 50,
   "metadata": {},
   "outputs": [
    {
     "data": {
      "text/plain": [
       "free_node (generic function with 1 method)"
      ]
     },
     "execution_count": 50,
     "metadata": {},
     "output_type": "execute_result"
    }
   ],
   "source": [
    "fixed_node(p) = truss_node(p, family=sup_node_fam)\n",
    "free_node(p) = truss_node(p, family=free_node_fam)"
   ]
  },
  {
   "cell_type": "code",
   "execution_count": 51,
   "metadata": {},
   "outputs": [
    {
     "data": {
      "text/plain": [
       "bar (generic function with 1 method)"
      ]
     },
     "execution_count": 51,
     "metadata": {},
     "output_type": "execute_result"
    }
   ],
   "source": [
    "bar(p, q) = truss_bar(p, q)"
   ]
  },
  {
   "cell_type": "markdown",
   "metadata": {},
   "source": [
    "### Spatial truss"
   ]
  },
  {
   "cell_type": "markdown",
   "metadata": {},
   "source": [
    "`truss_ptss`receives two sets of points, the bottom and top points defining the shape of the truss to create.\n",
    "It returns the points defining the truss structure."
   ]
  },
  {
   "cell_type": "code",
   "execution_count": 52,
   "metadata": {},
   "outputs": [
    {
     "data": {
      "text/plain": [
       "truss_ptss (generic function with 1 method)"
      ]
     },
     "execution_count": 52,
     "metadata": {},
     "output_type": "execute_result"
    }
   ],
   "source": [
    "truss_ptss(bottom_ptss,top_ptss) =\n",
    "    length(top_ptss) == length(bottom_ptss) ?\n",
    "    vcat([[pts,qts] for (pts,qts) in zip(bottom_ptss,top_ptss)]...) :\n",
    "    vcat([[pts,qts] for (pts,qts) in zip(top_ptss[1:end-1],bottom_ptss)]..., [top_ptss[end]])"
   ]
  },
  {
   "cell_type": "markdown",
   "metadata": {},
   "source": [
    "`truss`receives the type of truss to create, as well as both bottom and top points defining its shape.\n",
    "It creates a 3D spatial truss."
   ]
  },
  {
   "cell_type": "code",
   "execution_count": 53,
   "metadata": {},
   "outputs": [
    {
     "data": {
      "text/plain": [
       "truss (generic function with 1 method)"
      ]
     },
     "execution_count": 53,
     "metadata": {},
     "output_type": "execute_result"
    }
   ],
   "source": [
    "truss(truss_type; bottom_ptss=planar(p=x(0)), top_ptss=planar(p=z(1))) =\n",
    "    let ptss = truss_ptss(bottom_ptss, top_ptss)\n",
    "      truss_type(ptss)\n",
    "  end"
   ]
  },
  {
   "cell_type": "markdown",
   "metadata": {},
   "source": [
    " | Vierendeel modular block front | Vierendeel modular block side |\n",
    " |----------------------------|-------------------------|\n",
    " |<img src=\"./Figures/front_vierendeel.png\" width=\"350\"> | <img src=\"./Figures/side_vierendeel.png\" width=\"350\">|"
   ]
  },
  {
   "cell_type": "markdown",
   "metadata": {},
   "source": [
    "`vierendeel`creates a vierendeel truss structure."
   ]
  },
  {
   "cell_type": "code",
   "execution_count": 54,
   "metadata": {},
   "outputs": [
    {
     "data": {
      "text/plain": [
       "vierendeel (generic function with 2 methods)"
      ]
     },
     "execution_count": 54,
     "metadata": {},
     "output_type": "execute_result"
    }
   ],
   "source": [
    "vierendeel(ptss, first=true) =\n",
    "    let ais = ptss[1],\n",
    "        bis = ptss[2],\n",
    "        cis = ptss[3],\n",
    "        dis = ptss[4]\n",
    "      (first ? fixed_node : free_node).(ais)\n",
    "      free_node.(bis)\n",
    "      bar.(ais, bis)\n",
    "      bar.(ais, cis)\n",
    "      bar.(bis, dis)\n",
    "      bar.(ais[2:end], ais[1:end-1])\n",
    "      bar.(bis[2:end], bis[1:end-1])\n",
    "      if ptss[5:end] == []\n",
    "          fixed_node.(cis)\n",
    "          free_node.(dis)\n",
    "          bar.(cis[2:end], cis[1:end-1])\n",
    "          bar.(dis[2:end], dis[1:end-1])\n",
    "          bar.(dis, cis)\n",
    "      else\n",
    "          vierendeel(ptss[3:end], false)\n",
    "      end\n",
    "    end"
   ]
  },
  {
   "cell_type": "code",
   "execution_count": 55,
   "metadata": {},
   "outputs": [],
   "source": [
    "@test begin\n",
    "    backend(meshcat)\n",
    "    new_backend()\n",
    "    @manipulate for ampx = widget(1:0.1:3, label=\"Amplitude x\"),\n",
    "                    ampy_top_min = widget(3:0.1:15, label=\"Minimum Amplitude y\"),\n",
    "                    ampy_top_max = widget(3:0.1:15, label=\"Maximum Amplitude y\"),\n",
    "                    ampy_bottom_min = widget(1:0.1:12, label=\"Minimum Amplitude y\"),\n",
    "                    ampy_bottom_max = widget(1:0.1:12, label=\"Maximum Amplitude y\"),\n",
    "                    h = widget(2:1:20, label=\"Height\")\n",
    "                delete_all_shapes()\n",
    "        truss(vierendeel, \n",
    "          top_ptss=damped_sin_roof_pts(u0(), pav_height,\n",
    "                                          ampx, ampy_top_min, ampy_top_max,\n",
    "                                          fi, decay, om_x, om_y,\n",
    "                                          pav_width, pav_length-d_length, 50, 80),\n",
    "          bottom_ptss=damped_sin_roof_pts(xy(d_width,d_length), pav_height-d_height,\n",
    "                                         ampx, ampy_bottom_min, ampy_bottom_max,\n",
    "                                         fi, decay, om_x, om_y_bottom,\n",
    "                                         pav_width - d_width*2, pav_length-2*d_length, 50, 80))\n",
    "    end\n",
    "end"
   ]
  },
  {
   "cell_type": "markdown",
   "metadata": {},
   "source": [
    "Expected result:\n",
    "<img src=\"./Plots/truss_roof_meshcat.png\" width=\"800\">"
   ]
  },
  {
   "cell_type": "code",
   "execution_count": 56,
   "metadata": {},
   "outputs": [],
   "source": [
    "@test begin\n",
    "    backend(unity)\n",
    "    delete_all_shapes()\n",
    "    ground()\n",
    "    truss(vierendeel, \n",
    "      top_ptss=damped_sin_roof_pts(u0(), pav_height,\n",
    "                                      amp_x, amp_y_min_top, amp_y_max_top,\n",
    "                                      fi, decay, om_x, om_y,\n",
    "                                      pav_width, pav_length-d_length, 5, 8),\n",
    "      bottom_ptss=damped_sin_roof_pts(xy(d_width,d_length), pav_height-d_height,\n",
    "                                     amp_x, amp_y_min_bottom, amp_y_max_bottom,\n",
    "                                     fi, decay, om_x, om_y_bottom,\n",
    "                                     pav_width - d_width*2, pav_length-2*d_length, 5, 8))\n",
    "#     render_dir(\"C:\\\\Users\\\\Renata\\\\Documents\\\\GitHub\\\\GymnasticsCenter_Moscow\\\\Plots\")\n",
    "#     render_view(\"truss_roof_unity\")\n",
    "end"
   ]
  },
  {
   "cell_type": "markdown",
   "metadata": {},
   "source": [
    "Expected result:\n",
    "<img src=\"./Plots/truss_roof_unity.png\" width=\"800\">"
   ]
  },
  {
   "cell_type": "markdown",
   "metadata": {},
   "source": [
    "## Roof Surface"
   ]
  },
  {
   "cell_type": "markdown",
   "metadata": {},
   "source": [
    "### Auxiliar functions"
   ]
  },
  {
   "cell_type": "markdown",
   "metadata": {},
   "source": [
    "`tranpose_array`receives an array of arrays and transposes it."
   ]
  },
  {
   "cell_type": "code",
   "execution_count": 57,
   "metadata": {},
   "outputs": [
    {
     "data": {
      "text/plain": [
       "transpose_array (generic function with 1 method)"
      ]
     },
     "execution_count": 57,
     "metadata": {},
     "output_type": "execute_result"
    }
   ],
   "source": [
    "transpose_array(arrays) =\n",
    "    [[row[i] for row in arrays]\n",
    "     for i in 1:length(arrays[1])]"
   ]
  },
  {
   "cell_type": "markdown",
   "metadata": {},
   "source": [
    "`pts_distances`receives an array of points and returns an array with the distances between ordered points."
   ]
  },
  {
   "cell_type": "code",
   "execution_count": 58,
   "metadata": {},
   "outputs": [
    {
     "data": {
      "text/plain": [
       "pts_distances (generic function with 2 methods)"
      ]
     },
     "execution_count": 58,
     "metadata": {},
     "output_type": "execute_result"
    }
   ],
   "source": [
    "pts_distances(pts, last_pt=true) =\n",
    "    let n =  last_pt ? 0 : 1\n",
    "      [distance(p,q)\n",
    "       for (p,q) in zip(pts,[pts[2:end]...,pts[1]])][1:end-n]\n",
    "       end"
   ]
  },
  {
   "cell_type": "code",
   "execution_count": 59,
   "metadata": {},
   "outputs": [
    {
     "data": {
      "text/plain": [
       "shape_grid_polygon_vertices (generic function with 1 method)"
      ]
     },
     "execution_count": 59,
     "metadata": {},
     "output_type": "execute_result"
    }
   ],
   "source": [
    "shape_grid_polygon_vertices(pts) =\n",
    "    () -> pts"
   ]
  },
  {
   "cell_type": "markdown",
   "metadata": {},
   "source": [
    "`itera_2triangs`receives an array of arrays of points. It returns the same points rearranged to create a triangular grid of points."
   ]
  },
  {
   "cell_type": "code",
   "execution_count": 60,
   "metadata": {},
   "outputs": [
    {
     "data": {
      "text/plain": [
       "itera_2triangs (generic function with 1 method)"
      ]
     },
     "execution_count": 60,
     "metadata": {},
     "output_type": "execute_result"
    }
   ],
   "source": [
    "itera_2triangs(ptss) =\n",
    "    vcat([vcat([[[p0,p1,p3],[p1,p2,p3]]\n",
    "                for (p0,p1,p2,p3)\n",
    "                in zip(pts0[1:end-1], pts1[1:end-1], pts1[2:end], pts0[2:end])]...)\n",
    "         for (pts0, pts1) in zip(ptss[1:end-1], ptss[2:end])]...)"
   ]
  },
  {
   "cell_type": "markdown",
   "metadata": {},
   "source": [
    "BIM families for roof panels:"
   ]
  },
  {
   "cell_type": "code",
   "execution_count": 61,
   "metadata": {},
   "outputs": [],
   "source": [
    "roof_panel_fam = panel_family_element(default_panel_family())\n",
    "yellow_panel_fam = panel_family_element(default_panel_family());"
   ]
  },
  {
   "cell_type": "markdown",
   "metadata": {},
   "source": [
    "### Roof option 1: simple surfaces"
   ]
  },
  {
   "cell_type": "code",
   "execution_count": 62,
   "metadata": {},
   "outputs": [],
   "source": [
    "@test begin\n",
    "    backend(autocad)\n",
    "    delete_all_shapes()\n",
    "    top_roof = damped_sin_roof_pts(x(0), 15,\n",
    "                                   3, 6, 9,\n",
    "                                   fi, decay, om_x, om_y,\n",
    "                                   pav_width, pav_length-d_length, 50, 100)\n",
    "    bottom_roof = damped_sin_roof_pts(xy(d_width,d_length*1), 15-d_height,\n",
    "                                      3, 6, 8,\n",
    "                                      fi, decay, om_x, om_y_bottom,\n",
    "                                      pav_width - d_width*2, pav_length-2*d_length, 50, 100)\n",
    "    surface_grid(top_roof)\n",
    "    surface_grid(bottom_roof)     \n",
    "end"
   ]
  },
  {
   "cell_type": "markdown",
   "metadata": {},
   "source": [
    "Expected result:\n",
    "<img src=\"./Plots/roof_surf_grid.png\" width=\"800\">"
   ]
  },
  {
   "cell_type": "markdown",
   "metadata": {},
   "source": [
    "### Roof option 2: triangular roof panels"
   ]
  },
  {
   "cell_type": "markdown",
   "metadata": {},
   "source": [
    "CAD version: using `surface_polygon` subdivision"
   ]
  },
  {
   "cell_type": "code",
   "execution_count": 63,
   "metadata": {},
   "outputs": [],
   "source": [
    "@test begin\n",
    "    backend(autocad)\n",
    "    new_backend()\n",
    "    map(ps->surface_polygon(ps), itera_2triangs(top_roof))\n",
    "    map(ps->surface_polygon(ps), itera_2triangs(bottom_roof))        \n",
    "end"
   ]
  },
  {
   "cell_type": "markdown",
   "metadata": {},
   "source": [
    "Expected result:\n",
    "<img src=\"./Plots/roof_surf_polygons_cad.png\" width=\"800\">"
   ]
  },
  {
   "cell_type": "markdown",
   "metadata": {},
   "source": [
    "BIM version: using `panel` subdivision"
   ]
  },
  {
   "cell_type": "code",
   "execution_count": 64,
   "metadata": {},
   "outputs": [],
   "source": [
    "@test begin\n",
    "    backend(unity)\n",
    "    delete_all_shapes()\n",
    "    ground()\n",
    "    map(ps->panel(ps, family=roof_panel_fam), itera_2triangs(top_roof))\n",
    "    map(ps->panel(ps, family=roof_panel_fam), itera_2triangs(bottom_roof))        \n",
    "end"
   ]
  },
  {
   "cell_type": "code",
   "execution_count": 65,
   "metadata": {},
   "outputs": [],
   "source": [
    "# render_dir(\"C:\\\\Users\\\\Renata\\\\Documents\\\\GitHub\\\\GymnasticsCenter_Moscow\\\\Plots\")\n",
    "# render_view(\"roof_panels_unity\")"
   ]
  },
  {
   "cell_type": "markdown",
   "metadata": {},
   "source": [
    "Expected result:\n",
    "<img src=\"./Plots/roof_panels_unity.png\" width=\"800\">"
   ]
  },
  {
   "cell_type": "markdown",
   "metadata": {},
   "source": [
    "### Roof lateral edges option 1: simple triangular panels"
   ]
  },
  {
   "cell_type": "code",
   "execution_count": 66,
   "metadata": {},
   "outputs": [],
   "source": [
    "@test begin\n",
    "    backend(autocad)\n",
    "    delete_all_shapes()\n",
    "    map(ps->surface_polygon(ps), itera_2triangs([top_roof[1],bottom_roof[1]]))\n",
    "    map(ps->surface_polygon(ps), itera_2triangs([top_roof[end],bottom_roof[end]]))\n",
    "    map(ps->surface_polygon(ps), itera_2triangs([transpose_array(top_roof)[end], transpose_array(bottom_roof)[end]]))\n",
    "end"
   ]
  },
  {
   "cell_type": "markdown",
   "metadata": {},
   "source": [
    "Expected result:\n",
    "<img src=\"./Plots/triangle_roof_side.png\" width=\"800\">"
   ]
  },
  {
   "cell_type": "markdown",
   "metadata": {},
   "source": [
    "### Roof lateral edges option 2: Pinwheel tiling panels"
   ]
  },
  {
   "cell_type": "markdown",
   "metadata": {},
   "source": [
    "`pattern`creates different patterns on parametric surfaces"
   ]
  },
  {
   "cell_type": "code",
   "execution_count": 67,
   "metadata": {},
   "outputs": [
    {
     "data": {
      "text/plain": [
       "pattern (generic function with 1 method)"
      ]
     },
     "execution_count": 67,
     "metadata": {},
     "output_type": "execute_result"
    }
   ],
   "source": [
    "pattern(fshape, pts...; args...) =\n",
    "  fshape(pts...)(; (k=>v(pts) for (k,v) in args)...)"
   ]
  },
  {
   "cell_type": "markdown",
   "metadata": {},
   "source": [
    "`pinwheel_rule`defines the basic subdivision rule of the pinwheel tiling."
   ]
  },
  {
   "cell_type": "markdown",
   "metadata": {},
   "source": [
    " |    Pinwheel rule Tiling   |\n",
    " |---------------------------|\n",
    " |<img src=\"./Figures/tiling.png\" width=\"400\"> |\n",
    " source: https://mathematica.stackexchange.com/questions/55677/how-to-generate-nonperiodic-tilings"
   ]
  },
  {
   "cell_type": "code",
   "execution_count": 68,
   "metadata": {},
   "outputs": [
    {
     "data": {
      "text/plain": [
       "pinwheel_rule (generic function with 2 methods)"
      ]
     },
     "execution_count": 68,
     "metadata": {},
     "output_type": "execute_result"
    }
   ],
   "source": [
    "pinwheel_rule(pts, ratio1=0.383) =\n",
    "    let dists = pts_distances(pts)\n",
    "        max_dist = maximum(dists)\n",
    "        min_dist = minimum(dists)\n",
    "        ratio2 = 1 - ratio1\n",
    "     if max_dist == dists[1]\n",
    "         let pm = intermediate_loc(pts[1], pts[2], min_dist==dists[2] ? ratio1 : ratio2)\n",
    "           [[pts[1],pm,pts[3]],\n",
    "            [pts[2],pm,pts[3]]]\n",
    "         end\n",
    "     elseif max_dist == dists[2]\n",
    "         let pm = intermediate_loc(pts[2], pts[3], min_dist==dists[1] ? ratio1 : ratio2)\n",
    "           [[pts[1],pm,pts[2]],\n",
    "            [pts[1],pm,pts[3]]]\n",
    "         end\n",
    "     else\n",
    "        let pm = intermediate_loc(pts[1], pts[3], min_dist==dists[1] ? ratio1 : ratio2)\n",
    "          [[pts[1],pm,pts[2]],\n",
    "           [pts[2],pm,pts[3]]]\n",
    "        end\n",
    "     end\n",
    "  end"
   ]
  },
  {
   "cell_type": "markdown",
   "metadata": {},
   "source": [
    "`pinwheel_recursive_rule` repeats the basic subdivision rule `pinwheel_rule` several times (value set by the parameter `level`)."
   ]
  },
  {
   "cell_type": "code",
   "execution_count": 69,
   "metadata": {},
   "outputs": [
    {
     "data": {
      "text/plain": [
       "pinwheel_recursive_rule (generic function with 3 methods)"
      ]
     },
     "execution_count": 69,
     "metadata": {},
     "output_type": "execute_result"
    }
   ],
   "source": [
    "pinwheel_recursive_rule(pts, ratio1=0.383, level=1) =\n",
    "    let qts = pinwheel_rule(pts, ratio1)\n",
    "      level == 1 ?\n",
    "      qts :\n",
    "      [qts...,\n",
    "       pinwheel_recursive_rule(qts[1], ratio1, level-1)...,\n",
    "       pinwheel_recursive_rule(qts[2], ratio1, level-1)...]\n",
    "     end"
   ]
  },
  {
   "cell_type": "markdown",
   "metadata": {},
   "source": [
    "`pinwheel_tiling`receives a surface (described by its points) and creates the pinwheel tiling on it."
   ]
  },
  {
   "cell_type": "code",
   "execution_count": 70,
   "metadata": {},
   "outputs": [
    {
     "data": {
      "text/plain": [
       "pinwheel_tiling (generic function with 1 method)"
      ]
     },
     "execution_count": 70,
     "metadata": {},
     "output_type": "execute_result"
    }
   ],
   "source": [
    "pinwheel_tiling(pts; ratio1=0.383, level=1) =\n",
    "        map(surface_polygon, pinwheel_recursive_rule(pts, ratio1, level))"
   ]
  },
  {
   "cell_type": "code",
   "execution_count": 71,
   "metadata": {},
   "outputs": [],
   "source": [
    "@test begin\n",
    "    backend(autocad)\n",
    "    delete_all_shapes()\n",
    "    top_roof = damped_sin_roof_pts(x(0), 15,\n",
    "                                   3, 6, 9,\n",
    "                                   fi, decay, om_x, om_y,\n",
    "                                   pav_width, pav_length-d_length, 50, 100)\n",
    "    bottom_roof = damped_sin_roof_pts(xy(d_width,d_length*1), 15-d_height,\n",
    "                                      3, 6, 8,\n",
    "                                      fi, decay, om_x, om_y_bottom,\n",
    "                                      pav_width - d_width*2, pav_length-2*d_length, 50, 100)\n",
    "    pinwheel_tiling.(pattern.(shape_grid_polygon_vertices,\n",
    "                              itera_2triangs([top_roof[1],bottom_roof[1]])),\n",
    "                     level=3)\n",
    "    pinwheel_tiling.(pattern.(shape_grid_polygon_vertices,\n",
    "                              itera_2triangs([top_roof[end],bottom_roof[end]])),\n",
    "                     level=3)\n",
    "    pinwheel_tiling.(pattern.(shape_grid_polygon_vertices,\n",
    "                              itera_2triangs([transpose_array(top_roof)[end],transpose_array(bottom_roof)[end]])),\n",
    "                     level=3)\n",
    "end"
   ]
  },
  {
   "cell_type": "markdown",
   "metadata": {},
   "source": [
    "|  | Expected result: |\n",
    "|-----------------------------------------------------------|-----------------------------------------------------------|\n",
    "| <img src=\"./Plots/pinwheel_roof_side.png\" width=\"700\"> | <img src=\"./Plots/pinwheel_closeup.png\" width=\"300\"> |"
   ]
  },
  {
   "cell_type": "markdown",
   "metadata": {},
   "source": [
    "### Roof lateral edges option 2: BIM version"
   ]
  },
  {
   "cell_type": "code",
   "execution_count": 72,
   "metadata": {},
   "outputs": [
    {
     "data": {
      "text/plain": [
       "pinwheel_tiling (generic function with 1 method)"
      ]
     },
     "execution_count": 72,
     "metadata": {},
     "output_type": "execute_result"
    }
   ],
   "source": [
    "pinwheel_tiling(pts; ratio1=0.383, level=1) =\n",
    "        map(pts -> panel(pts, family=yellow_panel_fam), pinwheel_recursive_rule(pts, ratio1, level))"
   ]
  },
  {
   "cell_type": "code",
   "execution_count": 73,
   "metadata": {},
   "outputs": [],
   "source": [
    "@test begin\n",
    "    backend(unity)\n",
    "    delete_all_shapes()\n",
    "    ground()\n",
    "    top_roof = damped_sin_roof_pts(x(0), 15,\n",
    "                                   3, 6, 9,\n",
    "                                   fi, decay, om_x, om_y,\n",
    "                                   pav_width, pav_length-d_length, 50, 100)\n",
    "    bottom_roof = damped_sin_roof_pts(xy(d_width,d_length*1), 15-d_height,\n",
    "                                      3, 6, 8,\n",
    "                                      fi, decay, om_x, om_y_bottom,\n",
    "                                      pav_width - d_width*2, pav_length-2*d_length, 50, 100)\n",
    "    pinwheel_tiling.(pattern.(shape_grid_polygon_vertices,\n",
    "                              itera_2triangs([top_roof[1],bottom_roof[1]])),\n",
    "                     level=3)\n",
    "    pinwheel_tiling.(pattern.(shape_grid_polygon_vertices,\n",
    "                              itera_2triangs([top_roof[end],bottom_roof[end]])),\n",
    "                     level=3)\n",
    "    pinwheel_tiling.(pattern.(shape_grid_polygon_vertices,\n",
    "                              itera_2triangs([transpose_array(top_roof)[end],transpose_array(bottom_roof)[end]])),\n",
    "                     level=3)\n",
    "end"
   ]
  },
  {
   "cell_type": "code",
   "execution_count": 74,
   "metadata": {},
   "outputs": [],
   "source": [
    "# render_dir(\"C:\\\\Users\\\\Renata\\\\Documents\\\\GitHub\\\\GymnasticsCenter_Moscow\\\\Plots\")\n",
    "# render_view(\"side_roof_panels_unity1\")"
   ]
  },
  {
   "cell_type": "markdown",
   "metadata": {},
   "source": [
    "|  | Expected result: |\n",
    "|-----------------------------------------------------------|-----------------------------------------------------------|\n",
    "| <img src=\"./Plots/side_roof_panels_unity1.png\" width=\"450\"> | <img src=\"./Plots/side_roof_panels_unity2.png\" width=\"450\"> |"
   ]
  },
  {
   "cell_type": "markdown",
   "metadata": {},
   "source": [
    "## Complete Roof structure"
   ]
  },
  {
   "cell_type": "markdown",
   "metadata": {},
   "source": [
    "Abstracting `pinwheel_tiling` function for the roof sides:"
   ]
  },
  {
   "cell_type": "code",
   "execution_count": 75,
   "metadata": {},
   "outputs": [
    {
     "data": {
      "text/plain": [
       "pinwhell_broad (generic function with 1 method)"
      ]
     },
     "execution_count": 75,
     "metadata": {},
     "output_type": "execute_result"
    }
   ],
   "source": [
    "pinwhell_broad(pts1, pts2, rec_level) = \n",
    "    pinwheel_tiling.(pattern.(shape_grid_polygon_vertices, itera_2triangs([pts1,pts2])), level=rec_level)"
   ]
  },
  {
   "cell_type": "markdown",
   "metadata": {},
   "source": [
    "Roof point matices. `t_diff` defines the distance between the roof surface and the truss structure within. It's currently set to 20 cm:"
   ]
  },
  {
   "cell_type": "code",
   "execution_count": 76,
   "metadata": {},
   "outputs": [
    {
     "data": {
      "text/plain": [
       "bottom_roof_pts (generic function with 1 method)"
      ]
     },
     "execution_count": 76,
     "metadata": {},
     "output_type": "execute_result"
    }
   ],
   "source": [
    "top_roof_ptss(p, n_x, n_y, truss)=\n",
    "    let dist_y = pav_length-d_length\n",
    "        t_diff = truss ? 0.2 : 0\n",
    "        damped_sin_roof_pts(p, pav_height-t_diff,\n",
    "                            amp_x, amp_y_min_top, amp_y_max_top,\n",
    "                            fi, decay, om_x, om_y,\n",
    "                            pav_width, dist_y, n_x, n_y)\n",
    "    end\n",
    "\n",
    "bottom_roof_pts(p, n_x, n_y, truss)=\n",
    "    let dist_y = pav_length-d_length\n",
    "         t_diff = truss ? 0.2 : 0\n",
    "        damped_sin_roof_pts(p+vxy(d_width,d_length*1), pav_height-d_height+t_diff,\n",
    "                            amp_x, amp_y_min_top, amp_y_max_top,\n",
    "                            fi, decay, om_x, om_y_bottom,\n",
    "                            pav_width - d_width*2, pav_length-2*d_length,  n_x, n_y)\n",
    "    end"
   ]
  },
  {
   "cell_type": "markdown",
   "metadata": {},
   "source": [
    "Complete roof surface with top, bottom, and side panels:"
   ]
  },
  {
   "cell_type": "code",
   "execution_count": 77,
   "metadata": {},
   "outputs": [
    {
     "data": {
      "text/plain": [
       "roof_surf (generic function with 1 method)"
      ]
     },
     "execution_count": 77,
     "metadata": {},
     "output_type": "execute_result"
    }
   ],
   "source": [
    "roof_surf(p, n_x, n_y)=\n",
    "    let lev = pinwheel_rec_level\n",
    "        top_roof = top_roof_ptss(p, n_x, n_y, false)\n",
    "        bottom_roof = bottom_roof_pts(p, n_x, n_y, false)\n",
    "        # top and bottom aluminum roof tiles\n",
    "        map(ps->panel(ps, family=roof_panel_fam), itera_2triangs(top_roof))\n",
    "        map(ps->panel(ps, family=roof_panel_fam), itera_2triangs(bottom_roof))\n",
    "        # side yellow copper roof tiles\n",
    "        pinwhell_broad(top_roof[1], bottom_roof[1], lev)\n",
    "        pinwhell_broad(top_roof[end], bottom_roof[end], lev)\n",
    "        pinwhell_broad(transpose_array(top_roof)[end], transpose_array(bottom_roof)[end], lev)\n",
    "    end"
   ]
  },
  {
   "cell_type": "code",
   "execution_count": 78,
   "metadata": {},
   "outputs": [],
   "source": [
    "@test begin\n",
    "    backend(unity)\n",
    "    delete_all_shapes()\n",
    "    ground()\n",
    "    roof_surf(u0(), 50, 100)\n",
    "end"
   ]
  },
  {
   "cell_type": "code",
   "execution_count": 79,
   "metadata": {},
   "outputs": [],
   "source": [
    "# render_dir(\"C:\\\\Users\\\\Renata\\\\Documents\\\\GitHub\\\\GymnasticsCenter_Moscow\\\\Plots\")\n",
    "# render_view(\"complete_roof_panels_unity\")"
   ]
  },
  {
   "cell_type": "markdown",
   "metadata": {},
   "source": [
    "Expected result:\n",
    "<img src=\"./Plots/complete_roof_panels_unity.png\" width=\"800\">"
   ]
  },
  {
   "cell_type": "markdown",
   "metadata": {},
   "source": [
    "Truss sturcture function using the new point matices for the pavilion:"
   ]
  },
  {
   "cell_type": "code",
   "execution_count": 80,
   "metadata": {},
   "outputs": [
    {
     "data": {
      "text/plain": [
       "roof_truss (generic function with 1 method)"
      ]
     },
     "execution_count": 80,
     "metadata": {},
     "output_type": "execute_result"
    }
   ],
   "source": [
    "roof_truss(p, n_x, n_y)=\n",
    "    let top_roof = top_roof_ptss(p, n_x, n_y, true)\n",
    "        bottom_roof = bottom_roof_pts(p, n_x, n_y, true)\n",
    "        truss(vierendeel, top_ptss=top_roof, bottom_ptss=bottom_roof)\n",
    "    end"
   ]
  },
  {
   "cell_type": "code",
   "execution_count": 81,
   "metadata": {},
   "outputs": [],
   "source": [
    "@test begin\n",
    "    backend(unity)\n",
    "    delete_all_shapes()\n",
    "    ground()\n",
    "    set_backend_family(yellow_panel_fam, unity, unity_material_family(\"Default/Materials/Glass\")) \n",
    "    roof_surf(u0(), 50, 100)\n",
    "    roof_truss(u0(), 30, 70)\n",
    "end"
   ]
  },
  {
   "cell_type": "code",
   "execution_count": 82,
   "metadata": {},
   "outputs": [],
   "source": [
    "# render_dir(\"C:\\\\Users\\\\Renata\\\\Documents\\\\GitHub\\\\GymnasticsCenter_Moscow\\\\Plots\")\n",
    "# render_view(\"complete_roof_unity\")"
   ]
  },
  {
   "cell_type": "markdown",
   "metadata": {},
   "source": [
    "Expected result:\n",
    "<img src=\"./Plots/complete_roof_unity.png\" width=\"800\">"
   ]
  },
  {
   "cell_type": "markdown",
   "metadata": {},
   "source": [
    "## Glass Façade"
   ]
  },
  {
   "cell_type": "markdown",
   "metadata": {},
   "source": [
    "`splines4surf`maps splines over a matrix of points, to visualise surfaces in the notebook backend faster."
   ]
  },
  {
   "cell_type": "code",
   "execution_count": 83,
   "metadata": {},
   "outputs": [
    {
     "data": {
      "text/plain": [
       "splines4surf (generic function with 1 method)"
      ]
     },
     "execution_count": 83,
     "metadata": {},
     "output_type": "execute_result"
    }
   ],
   "source": [
    "function splines4surf(mtx)\n",
    "    [spline(pts) for pts in mtx]\n",
    "    [spline(pts) for pts in transpose_array(mtx)]\n",
    "end"
   ]
  },
  {
   "cell_type": "markdown",
   "metadata": {},
   "source": [
    "`damped_sin_glass_wall`creates the pavillion's side glass wall matrixes"
   ]
  },
  {
   "cell_type": "code",
   "execution_count": 84,
   "metadata": {},
   "outputs": [
    {
     "data": {
      "text/plain": [
       "damped_sin_glass_wall (generic function with 1 method)"
      ]
     },
     "execution_count": 84,
     "metadata": {},
     "output_type": "execute_result"
    }
   ],
   "source": [
    "damped_sin_glass_wall(p, a_y, fi, decay, om_y, dist_y, dist_z, n_y, n_z) =\n",
    "    map_division((y, z) ->\n",
    "                    y <= d_i ?\n",
    "                    p + vyz(y, -sin(y/d_i*(1*pi))) :\n",
    "                    p + vyz(y,\n",
    "                            z + (z/dist_z)*damped_sin_wave(a_y, decay, om_y, y)),\n",
    "             0, dist_y, n_y,\n",
    "             0, dist_z, n_z)"
   ]
  },
  {
   "cell_type": "code",
   "execution_count": 85,
   "metadata": {},
   "outputs": [],
   "source": [
    "@test begin\n",
    "    backend(notebook)\n",
    "    new_backend()  \n",
    "    west_glass_wall = damped_sin_glass_wall(x(d_width),\n",
    "                                            amp_y_max_top,\n",
    "                                            fi, decay, om_y,\n",
    "                                            pav_length-2*d_length, pav_height-d_height, 20, 5)\n",
    "    east_glass_wall = damped_sin_glass_wall(x(pav_width-d_width),\n",
    "                                            amp_y_min_bottom,\n",
    "                                            fi, decay, om_y,\n",
    "                                            pav_length-2*d_length, pav_height-d_height, 20, 5)\n",
    "    splines4surf(west_glass_wall)\n",
    "end"
   ]
  },
  {
   "cell_type": "markdown",
   "metadata": {},
   "source": [
    "Expected result:\n",
    "<img src=\"./Plots/glass_lines.png\" width=\"800\">"
   ]
  },
  {
   "cell_type": "code",
   "execution_count": 86,
   "metadata": {},
   "outputs": [],
   "source": [
    "@test begin\n",
    "    backend(autocad)\n",
    "    delete_all_shapes()  \n",
    "    west_glass_wall = damped_sin_glass_wall(x(d_width),\n",
    "                                            amp_y_max_top,\n",
    "                                            fi, decay, om_y,\n",
    "                                            pav_length-2*d_length, pav_height-d_height, 40, 10)\n",
    "    east_glass_wall = damped_sin_glass_wall(x(pav_width-d_width),\n",
    "                                            amp_y_min_bottom,\n",
    "                                            fi, decay, om_y,\n",
    "                                            pav_length-2*d_length, pav_height-d_height, 40, 10)\n",
    "    splines4surf(west_glass_wall)\n",
    "    splines4surf(east_glass_wall)\n",
    "end"
   ]
  },
  {
   "cell_type": "markdown",
   "metadata": {},
   "source": [
    "Expected result:\n",
    "<img src=\"./Plots/glass_lines_cad2.png\" width=\"800\">"
   ]
  },
  {
   "cell_type": "markdown",
   "metadata": {},
   "source": [
    "### Glass option 1: surface polygons"
   ]
  },
  {
   "cell_type": "markdown",
   "metadata": {},
   "source": [
    "`itera_sweeked`creates the pavillion glass walls"
   ]
  },
  {
   "cell_type": "code",
   "execution_count": 87,
   "metadata": {},
   "outputs": [
    {
     "data": {
      "text/plain": [
       "itera_sweeked (generic function with 1 method)"
      ]
     },
     "execution_count": 87,
     "metadata": {},
     "output_type": "execute_result"
    }
   ],
   "source": [
    "itera_sweeked(ptss) =\n",
    "    vcat([[let p23=intermediate_loc(p2, p3),\n",
    "               p24=intermediate_loc(p2, p4)\n",
    "             [p0,p1,p24,p23]\n",
    "           end\n",
    "          for (p0,p1,p2,p3,p4)\n",
    "          in zip(pts0[1:end-1], pts1[1:end-1], pts1[2:end], pts0[2:end], pts2[2:end])]\n",
    "         for (pts0, pts1, pts2)\n",
    "         in zip(ptss[1:end-2], ptss[2:end-1],ptss[3:end])]...)"
   ]
  },
  {
   "cell_type": "code",
   "execution_count": 88,
   "metadata": {
    "scrolled": false
   },
   "outputs": [],
   "source": [
    "@test begin\n",
    "    backend(meshcat)\n",
    "    new_backend()\n",
    "    @manipulate for ampy_bottom_min = widget(1:0.1:12, label=\"Minimum Amplitude y\"),\n",
    "                    ampy_bottom_max = widget(1:0.1:12, label=\"Maximum Amplitude y\"),\n",
    "                    h = widget(2:1:20, label=\"Height\")\n",
    "                delete_all_shapes()\n",
    "                west_glass_wall = damped_sin_glass_wall(x(d_width),\n",
    "                                                        ampy_bottom_max,\n",
    "                                                        fi, decay, om_y,\n",
    "                                                        pav_length-2*d_length, h-d_height, 85, 20)\n",
    "                east_glass_wall = damped_sin_glass_wall(x(pav_width-d_width),\n",
    "                                                        ampy_bottom_min,\n",
    "                                                        fi, decay, om_y,\n",
    "                                                        pav_length-2*d_length, h-d_height, 85, 20)\n",
    "                map(ps->surface_polygon(ps), itera_sweeked(west_glass_wall))\n",
    "                map(ps->surface_polygon(ps), itera_sweeked(east_glass_wall))\n",
    "    end\n",
    "end"
   ]
  },
  {
   "cell_type": "markdown",
   "metadata": {},
   "source": [
    "Expected result:\n",
    "<img src=\"./Plots/glass_polys2.png\" width=\"800\">"
   ]
  },
  {
   "cell_type": "markdown",
   "metadata": {},
   "source": [
    "### Glass option 2: vertical BIM panels of diferent sizes"
   ]
  },
  {
   "cell_type": "markdown",
   "metadata": {},
   "source": [
    "Given a list of points (closed polygon vertices), this function creates a polygonal glass panel surrounded by a thin metal framing all around:"
   ]
  },
  {
   "cell_type": "code",
   "execution_count": 89,
   "metadata": {},
   "outputs": [
    {
     "data": {
      "text/plain": [
       "framed_panel (generic function with 1 method)"
      ]
     },
     "execution_count": 89,
     "metadata": {},
     "output_type": "execute_result"
    }
   ],
   "source": [
    "framed_panel(pts)=\n",
    "    begin\n",
    "        panel(pts, family=default_panel_family())\n",
    "        for (p,q) in zip(pts, [pts[2:end]...,pts[1]])\n",
    "            free_column(p,q, family=frame_fam)\n",
    "        end\n",
    "    end"
   ]
  },
  {
   "cell_type": "markdown",
   "metadata": {},
   "source": [
    "Frame BIM family"
   ]
  },
  {
   "cell_type": "code",
   "execution_count": 90,
   "metadata": {},
   "outputs": [
    {
     "data": {
      "text/plain": [
       "ColumnFamily(\"column_family\", Khepri.RectangularPath(xyz(-0.05,-0.05,0.0), 0.1, 0.1), ColumnFamily(\"column_family\", Khepri.RectangularPath(xyz(-0.1,-0.1,0.0), 0.2, 0.2), nothing, IdDict{Backend,Khepri.Family}(Khepri.RadianceBackend{Khepri.RadianceKey,Int64,500} => Khepri.RadianceMaterialFamily(RadianceMaterial(\"SheetMetal_80\", \"metal\", 0.8, 0.8, 0.8, 0, 0, nothing, nothing)),Khepri.POVRayBackend{Khepri.POVRayKey,Int64} => Khepri.BackendMaterialFamily{Khepri.POVRayMaterial}(Khepri.POVRayInclude(\"textures.inc\", \"texture\", \"Chrome_Metal\")),Unity => Khepri.UnityMaterialFamily(\"Default/Materials/Concrete\", Dict{Symbol,String}(), Parameter{Any}(nothing)),Unreal => Khepri.UnrealMaterialFamily(\"/Game/StarterContent/Materials/M_Concrete_Tiles.M_Concrete_Tiles\", Dict{Symbol,String}(), Parameter{Any}(nothing)),AutoCAD => Khepri.ACADLayerFamily(\"Column\", RGB{N0f8}(1.0,1.0,1.0), Parameter{Any}(nothing))), Parameter{Any}(nothing)), IdDict{Backend,Khepri.Family}(Khepri.RadianceBackend{Khepri.RadianceKey,Int64,500} => Khepri.RadianceMaterialFamily(RadianceMaterial(\"SheetMetal_80\", \"metal\", 0.8, 0.8, 0.8, 0, 0, nothing, nothing)),Khepri.POVRayBackend{Khepri.POVRayKey,Int64} => Khepri.BackendMaterialFamily{Khepri.POVRayMaterial}(Khepri.POVRayInclude(\"textures.inc\", \"texture\", \"Chrome_Metal\")),Unity => Khepri.UnityMaterialFamily(\"Default/Materials/Concrete\", Dict{Symbol,String}(), Parameter{Any}(nothing)),Unreal => Khepri.UnrealMaterialFamily(\"/Game/StarterContent/Materials/M_Concrete_Tiles.M_Concrete_Tiles\", Dict{Symbol,String}(), Parameter{Any}(nothing)),AutoCAD => Khepri.ACADLayerFamily(\"Column\", RGB{N0f8}(1.0,1.0,1.0), Parameter{Any}(nothing))), Parameter{Any}(nothing))"
      ]
     },
     "execution_count": 90,
     "metadata": {},
     "output_type": "execute_result"
    }
   ],
   "source": [
    "frame_width=0.1\n",
    "frame_fam = column_family_element(default_column_family(), profile=rectangular_profile(frame_width, frame_width))"
   ]
  },
  {
   "cell_type": "code",
   "execution_count": 91,
   "metadata": {},
   "outputs": [],
   "source": [
    "@test begin\n",
    "\n",
    "    backend(meshcat)\n",
    "    new_backend()\n",
    "    @manipulate for radius = widget(1:1:5, label=\"Radius\"),\n",
    "                    sides = widget(1:1:10, label=\"Sides\"),\n",
    "                    angle = widget(1:1:20, label=\"Angle\")\n",
    "                    delete_all_shapes()        \n",
    "                    framed_panel(regular_polygon_vertices(sides, x(-10), radius, angle))\n",
    "                    framed_panel(regular_polygon_vertices(sides+2, x(0), radius, angle))\n",
    "                    framed_panel(regular_polygon_vertices(sides+5, x(10), radius, angle))\n",
    "                    end\n",
    "  \n",
    "end"
   ]
  },
  {
   "cell_type": "markdown",
   "metadata": {},
   "source": [
    "Expected result:\n",
    "<img src=\"./Plots/framed_panel.png\" width=\"800\">"
   ]
  },
  {
   "cell_type": "markdown",
   "metadata": {},
   "source": [
    "Creates a vertical line of `framed_panels` given a list of points in z:"
   ]
  },
  {
   "cell_type": "code",
   "execution_count": 92,
   "metadata": {},
   "outputs": [
    {
     "data": {
      "text/plain": [
       "vertical_panel_line (generic function with 1 method)"
      ]
     },
     "execution_count": 92,
     "metadata": {},
     "output_type": "execute_result"
    }
   ],
   "source": [
    "vertical_panel_line(pts, v, panel_width)=\n",
    "    let pav_panel(p, q) = framed_panel([p, p+v*panel_width, q+v*panel_width, q])\n",
    "        [pav_panel(p, q) for (p, q) in zip(pts[1:end-1], pts[2:end])]\n",
    "    end"
   ]
  },
  {
   "cell_type": "markdown",
   "metadata": {},
   "source": [
    "Wall points correction:"
   ]
  },
  {
   "cell_type": "code",
   "execution_count": 93,
   "metadata": {},
   "outputs": [
    {
     "data": {
      "text/plain": [
       "damped_sin_glass_wall (generic function with 1 method)"
      ]
     },
     "execution_count": 93,
     "metadata": {},
     "output_type": "execute_result"
    }
   ],
   "source": [
    "damped_sin_glass_wall(p, a_y, fi, decay, om_y, dist_y, dist_z, n_y, n_z) =\n",
    "    map_division((y, z) ->\n",
    "                    y <= d_i ?\n",
    "                    p + vyz(-sin(y/d_i*(1*pi)), z) :\n",
    "                    p + vyz(y,\n",
    "                            z + (z/dist_z)*damped_sin_wave(a_y, decay, om_y, y)),\n",
    "             0, dist_y, n_y,\n",
    "             0, dist_z, n_z)"
   ]
  },
  {
   "cell_type": "code",
   "execution_count": 94,
   "metadata": {},
   "outputs": [],
   "source": [
    "@test begin\n",
    "    backend(autocad)\n",
    "    delete_all_shapes()  \n",
    "    west_glass_wall = damped_sin_glass_wall(xy(d_width, d_length),\n",
    "                                            amp_y_max_top,\n",
    "                                            fi, decay, om_y_bottom,\n",
    "                                            pav_length-2*d_length, pav_height-d_height, 40, 10)\n",
    "    east_glass_wall = damped_sin_glass_wall(xy(pav_width-d_width, d_length),\n",
    "                                            amp_y_min_bottom,\n",
    "                                            fi, decay, om_y_bottom,\n",
    "                                            pav_length-2*d_length, pav_height-d_height, 40, 10)\n",
    "    splines4surf(west_glass_wall)\n",
    "    splines4surf(east_glass_wall)\n",
    "#     surface_grid(bottom_roof_pts(u0(), 40, 100, false))\n",
    "end"
   ]
  },
  {
   "cell_type": "markdown",
   "metadata": {},
   "source": [
    "Expected result:\n",
    "<img src=\"./Plots/glass_lines_cad.png\" width=\"800\">"
   ]
  },
  {
   "cell_type": "code",
   "execution_count": 95,
   "metadata": {},
   "outputs": [],
   "source": [
    "@test begin\n",
    "    backend(autocad)\n",
    "    n_y = 40\n",
    "    n_z = 10\n",
    "    dist_y = pav_length-2*d_length\n",
    "    dist_z = pav_height-d_height\n",
    "    west_glass_wall = damped_sin_glass_wall(x(d_width),\n",
    "                                            amp_y_max_top,\n",
    "                                            fi, decay, om_y,\n",
    "                                            dist_y, dist_z, n_y, n_z)\n",
    "    east_glass_wall = damped_sin_glass_wall(x(pav_width-d_width),\n",
    "                                            amp_y_min_bottom,\n",
    "                                            fi, decay, om_y,\n",
    "                                            dist_y, dist_z, n_y, n_z)\n",
    "    panel_width = dist_y/n_y\n",
    "    vertical_panel_line(west_glass_wall[1], vy(1), panel_width)\n",
    "end"
   ]
  },
  {
   "cell_type": "markdown",
   "metadata": {},
   "source": [
    "Expected result:\n",
    "<img src=\"./Plots/first_row_panels.png\" width=\"800\">"
   ]
  },
  {
   "cell_type": "markdown",
   "metadata": {},
   "source": [
    "Same function, but vector `v` now already considers the panel width, it's not a normal vector anymore:"
   ]
  },
  {
   "cell_type": "code",
   "execution_count": 96,
   "metadata": {},
   "outputs": [
    {
     "data": {
      "text/plain": [
       "vertical_panel_line (generic function with 2 methods)"
      ]
     },
     "execution_count": 96,
     "metadata": {},
     "output_type": "execute_result"
    }
   ],
   "source": [
    "vertical_panel_line(pts, v)=\n",
    "    let pav_panel(p, q) = framed_panel([p, p+v, q+v, q])\n",
    "        [pav_panel(p, q) for (p, q) in zip(pts[1:end-1], pts[2:end])]\n",
    "    end"
   ]
  },
  {
   "cell_type": "markdown",
   "metadata": {},
   "source": [
    "Makes a `vertical_panel_line` for all lines in the matrix:"
   ]
  },
  {
   "cell_type": "code",
   "execution_count": 97,
   "metadata": {},
   "outputs": [
    {
     "data": {
      "text/plain": [
       "vertical_panel_lines (generic function with 1 method)"
      ]
     },
     "execution_count": 97,
     "metadata": {},
     "output_type": "execute_result"
    }
   ],
   "source": [
    "vertical_panel_lines(mtx)=\n",
    "    let v = mtx[2][1]-mtx[1][1]\n",
    "        [vertical_panel_line(pts, v) for pts in mtx]\n",
    "    end"
   ]
  },
  {
   "cell_type": "code",
   "execution_count": 98,
   "metadata": {},
   "outputs": [],
   "source": [
    "@test begin\n",
    "    backend(autocad)\n",
    "    n_y = 40\n",
    "    n_z = 10\n",
    "    dist_y = pav_length-2*d_length\n",
    "    dist_z = pav_height-d_height\n",
    "    east_glass_wall = damped_sin_glass_wall(x(pav_width-d_width),\n",
    "                                            amp_y_min_bottom,\n",
    "                                            fi, decay, om_y,\n",
    "                                            dist_y, dist_z, n_y, n_z)\n",
    "    delete_all_shapes()\n",
    "    vertical_panel_lines(west_glass_wall)\n",
    "end"
   ]
  },
  {
   "cell_type": "markdown",
   "metadata": {},
   "source": [
    "Expected result:\n",
    "<img src=\"./Plots/weast_facade_panel.png\" width=\"800\">"
   ]
  },
  {
   "cell_type": "markdown",
   "metadata": {},
   "source": [
    "### Glass option 3: same size vertical BIM panels"
   ]
  },
  {
   "cell_type": "markdown",
   "metadata": {},
   "source": [
    "Predicate functions: is current `z` is above the limit ?"
   ]
  },
  {
   "cell_type": "code",
   "execution_count": 99,
   "metadata": {},
   "outputs": [
    {
     "data": {
      "text/plain": [
       "is_above_z_limit (generic function with 1 method)"
      ]
     },
     "execution_count": 99,
     "metadata": {},
     "output_type": "execute_result"
    }
   ],
   "source": [
    "is_above_z_limit(z, z_lim)= z > z_lim"
   ]
  },
  {
   "cell_type": "markdown",
   "metadata": {},
   "source": [
    "`vert_pts` creates the orgin points for all vertical panels above p. Stops creating points in z when the set limit is reached:"
   ]
  },
  {
   "cell_type": "code",
   "execution_count": 100,
   "metadata": {},
   "outputs": [
    {
     "data": {
      "text/plain": [
       "vert_pts (generic function with 1 method)"
      ]
     },
     "execution_count": 100,
     "metadata": {},
     "output_type": "execute_result"
    }
   ],
   "source": [
    "vert_pts(p, panel_height, z_lim) = is_above_z_limit(p.z, z_lim) ? [p] : [p, vert_pts(p+vz(panel_height), panel_height, z_lim)...]"
   ]
  },
  {
   "cell_type": "markdown",
   "metadata": {},
   "source": [
    "`damped_sin_glass_wall` creates a vertical line of panels for all points between `p` and `p+vy(dist_y)`. The `z_limit` for all vertical lines of panels is defined by the`z` value of the `damped_sin_wave` at any moment in the `y` progression."
   ]
  },
  {
   "cell_type": "code",
   "execution_count": 101,
   "metadata": {},
   "outputs": [
    {
     "data": {
      "text/plain": [
       "damped_sin_glass_wall (generic function with 2 methods)"
      ]
     },
     "execution_count": 101,
     "metadata": {},
     "output_type": "execute_result"
    }
   ],
   "source": [
    "damped_sin_glass_wall(p, a_y, fi, decay, om_y, dist_y, dist_z, n_y, n_z, panel_height) =\n",
    "    let pts = map_division(y -> p+vy(y), 0, dist_y, n_y)\n",
    "    zs = map_division(y -> dist_z+damped_sin_wave(a_y, decay, om_y, y), 0, dist_y, n_y) \n",
    "    [vert_pts(p, panel_height, z_lim) for (p, z_lim) in zip(pts, zs)]\n",
    "    end"
   ]
  },
  {
   "cell_type": "markdown",
   "metadata": {},
   "source": [
    " `glass_panel_height` defines façade glass panel's height (width is defined by the number of points in the `damped_sinusoid` array)"
   ]
  },
  {
   "cell_type": "code",
   "execution_count": 102,
   "metadata": {},
   "outputs": [],
   "source": [
    "@test begin\n",
    "    backend(autocad)\n",
    "    glass_panel_height = 0.5\n",
    "    n_y = 40\n",
    "    n_z = 10\n",
    "    dist_y = pav_length-2*d_length\n",
    "    dist_z = pav_height-d_height\n",
    "    west_glass_wall = damped_sin_glass_wall(x(d_width),\n",
    "                                            amp_y_max_top,\n",
    "                                            fi, decay, om_y,\n",
    "                                            dist_y, dist_z, n_y, n_z, glass_panel_height)\n",
    "    east_glass_wall = damped_sin_glass_wall(x(pav_width-d_width),\n",
    "                                            amp_y_min_bottom,\n",
    "                                            fi, decay, om_y,\n",
    "                                            dist_y, dist_z, n_y, n_z, glass_panel_height)\n",
    "    delete_all_shapes()\n",
    "    vertical_panel_lines(west_glass_wall)\n",
    "end"
   ]
  },
  {
   "cell_type": "markdown",
   "metadata": {},
   "source": [
    "Expected result:\n",
    "<img src=\"./Plots/planels_2d_try_cad.png\" width=\"800\">"
   ]
  },
  {
   "cell_type": "markdown",
   "metadata": {},
   "source": [
    "### Glass option 4: intercalated rows of vertical BIM panels"
   ]
  },
  {
   "cell_type": "markdown",
   "metadata": {},
   "source": [
    "Diffrent starting point for vertical panels in the odd case:"
   ]
  },
  {
   "cell_type": "code",
   "execution_count": 103,
   "metadata": {},
   "outputs": [
    {
     "data": {
      "text/plain": [
       "vert_pts_odd (generic function with 1 method)"
      ]
     },
     "execution_count": 103,
     "metadata": {},
     "output_type": "execute_result"
    }
   ],
   "source": [
    "vert_pts_odd(p, panel_height, z_lim) = [p, vert_pts(p+vz(panel_height/2), panel_height, z_lim)...]"
   ]
  },
  {
   "cell_type": "markdown",
   "metadata": {},
   "source": [
    "Interweaving 2 different functions depending on `count` being pair or odd:"
   ]
  },
  {
   "cell_type": "code",
   "execution_count": 104,
   "metadata": {},
   "outputs": [
    {
     "data": {
      "text/plain": [
       "f_weave (generic function with 1 method)"
      ]
     },
     "execution_count": 104,
     "metadata": {},
     "output_type": "execute_result"
    }
   ],
   "source": [
    "f_weave(f1, f2, count) = isodd(count) ? f1 : f2"
   ]
  },
  {
   "cell_type": "markdown",
   "metadata": {},
   "source": [
    "Interweaved version of the `damped_sin_glass_wall` function. Different starting height for the first panel of odd rows."
   ]
  },
  {
   "cell_type": "code",
   "execution_count": 105,
   "metadata": {},
   "outputs": [
    {
     "data": {
      "text/plain": [
       "damped_sin_glass_wall (generic function with 2 methods)"
      ]
     },
     "execution_count": 105,
     "metadata": {},
     "output_type": "execute_result"
    }
   ],
   "source": [
    "damped_sin_glass_wall(p, a_y, fi, decay, om_y, dist_y, dist_z, n_y, n_z, panel_height) =\n",
    "    let pts = map_division(y -> p+vy(y), 0, dist_y, n_y)\n",
    "        zs = map_division(y -> dist_z+damped_sin_wave(a_y, decay, om_y, y), 0, dist_y, n_y) \n",
    "        ns = 1:length(zs)\n",
    "     [f_weave(vert_pts_odd(p, panel_height, z_lim),vert_pts(p, panel_height, z_lim), count) for (p, z_lim, count) in zip(pts, zs, ns)]\n",
    "    end"
   ]
  },
  {
   "cell_type": "code",
   "execution_count": 106,
   "metadata": {},
   "outputs": [],
   "source": [
    "@test begin\n",
    "    backend(autocad)\n",
    "    glass_panel_height = 1\n",
    "    n_y = 40\n",
    "    n_z = 10\n",
    "    dist_y = pav_length-2*d_length\n",
    "    dist_z = pav_height-d_height\n",
    "    west_glass_wall = damped_sin_glass_wall(x(d_width),\n",
    "                                            amp_y_max_top,\n",
    "                                            fi, decay, om_y,\n",
    "                                            dist_y, dist_z, n_y, n_z, glass_panel_height)\n",
    "    delete_all_shapes()\n",
    "    vertical_panel_lines(west_glass_wall)\n",
    "end"
   ]
  },
  {
   "cell_type": "markdown",
   "metadata": {},
   "source": [
    "Expected result:\n",
    "<img src=\"./Plots/panels_weave.png\" width=\"800\">"
   ]
  },
  {
   "cell_type": "markdown",
   "metadata": {},
   "source": [
    "`vertical_panel_line` corrections to match roof wave:"
   ]
  },
  {
   "cell_type": "code",
   "execution_count": 107,
   "metadata": {},
   "outputs": [
    {
     "data": {
      "text/plain": [
       "vertical_panel_line_centred (generic function with 1 method)"
      ]
     },
     "execution_count": 107,
     "metadata": {},
     "output_type": "execute_result"
    }
   ],
   "source": [
    "vertical_panel_line_centred(pts, v)=\n",
    "    let pav_panel(p, q) = framed_panel([p, p+v, q+v, q])\n",
    "        [pav_panel(p-v/2, q-v/2) for (p, q) in zip(pts[1:end-1], pts[2:end])]\n",
    "    end"
   ]
  },
  {
   "cell_type": "code",
   "execution_count": 108,
   "metadata": {},
   "outputs": [
    {
     "data": {
      "text/plain": [
       "centred_vertical_panel_lines (generic function with 1 method)"
      ]
     },
     "execution_count": 108,
     "metadata": {},
     "output_type": "execute_result"
    }
   ],
   "source": [
    "centred_vertical_panel_lines(mtx)=\n",
    "    let v = mtx[2][1]-mtx[1][1]\n",
    "        [vertical_panel_line_centred(pts, v) for pts in mtx]\n",
    "    end"
   ]
  },
  {
   "cell_type": "code",
   "execution_count": 109,
   "metadata": {},
   "outputs": [],
   "source": [
    "@test begin\n",
    "    backend(autocad)\n",
    "    delete_all_shapes()\n",
    "    west_glass_wall_i = damped_sin_glass_wall(xy(d_width, d_length),\n",
    "                                                amp_y_max_top,\n",
    "                                                fi, decay,  om_y_bottom,\n",
    "                                                dist_y, dist_z, n_y, n_z)\n",
    "    west_glass_wall_r = damped_sin_glass_wall(xy(d_width, d_length),\n",
    "                                                amp_y_max_top,\n",
    "                                                fi, decay, om_y_bottom,\n",
    "                                                dist_y, dist_z, n_y, n_z, glass_panel_height)\n",
    "    splines4surf(west_glass_wall_i)\n",
    "    centred_vertical_panel_lines(west_glass_wall_r)\n",
    "end"
   ]
  },
  {
   "cell_type": "markdown",
   "metadata": {},
   "source": [
    "Expected result:\n",
    "<img src=\"./Plots/wall_panel_comparison.png\" width=\"800\">"
   ]
  },
  {
   "cell_type": "code",
   "execution_count": 110,
   "metadata": {},
   "outputs": [],
   "source": [
    "@test begin\n",
    "    backend(unity)\n",
    "    delete_all_shapes()\n",
    "    n_y = 100\n",
    "    n_z = 10\n",
    "    dist_y = pav_length-2*d_length\n",
    "    dist_z = pav_height-d_height\n",
    "    west_glass_wall = damped_sin_glass_wall(xy(d_width, d_length),\n",
    "                                            amp_y_max_top,\n",
    "                                            fi, decay, om_y_bottom,\n",
    "                                            dist_y, dist_z, n_y, n_z, glass_panel_height)\n",
    "    east_glass_wall = damped_sin_glass_wall(xy(pav_width-d_width, d_length),\n",
    "                                            amp_y_min_bottom,\n",
    "                                            fi, decay, om_y_bottom,\n",
    "                                            dist_y, dist_z, n_y, n_z, glass_panel_height)\n",
    "    ground()\n",
    "    roof_surf(u0(), 50, 100)\n",
    "    centred_vertical_panel_lines(west_glass_wall)\n",
    "    centred_vertical_panel_lines(east_glass_wall)\n",
    "end"
   ]
  },
  {
   "cell_type": "code",
   "execution_count": 111,
   "metadata": {},
   "outputs": [],
   "source": [
    "# render_dir(\"C:\\\\Users\\\\Renata\\\\Documents\\\\GitHub\\\\GymnasticsCenter_Moscow\\\\Plots\")\n",
    "# render_view(\"roof_side_walls_unity\")"
   ]
  },
  {
   "cell_type": "markdown",
   "metadata": {},
   "source": [
    "Expected result:\n",
    "<img src=\"./Plots/roof_side_walls_unity.png\" width=\"800\">"
   ]
  },
  {
   "cell_type": "markdown",
   "metadata": {},
   "source": [
    "### Adding front glass wall"
   ]
  },
  {
   "cell_type": "code",
   "execution_count": 112,
   "metadata": {},
   "outputs": [
    {
     "data": {
      "text/plain": [
       "damped_sin_front_wall (generic function with 1 method)"
      ]
     },
     "execution_count": 112,
     "metadata": {},
     "output_type": "execute_result"
    }
   ],
   "source": [
    "damped_sin_front_wall(p, a_x, fi, decay, om_x, dist_x, dist_z, n_x, n_z, panel_height) =\n",
    "    let pts = map_division(x -> p+vx(x), 0, dist_x, n_x)\n",
    "        zs = map_division(x -> dist_z+sin(x/dist_x*pi)*sinusoidal(a_x, om_x, fi-pi, x), 0, dist_x, n_x)\n",
    "        ns = 1:length(zs)\n",
    "     [f_weave(vert_pts_odd(p, panel_height, z_lim),vert_pts(p, panel_height, z_lim), count) for (p, z_lim, count) in zip(pts, zs, ns)]\n",
    "    end"
   ]
  },
  {
   "cell_type": "markdown",
   "metadata": {},
   "source": [
    "This function joins all glass walls in the pavilion (sides and front):"
   ]
  },
  {
   "cell_type": "code",
   "execution_count": 113,
   "metadata": {},
   "outputs": [
    {
     "data": {
      "text/plain": [
       "pav_walls (generic function with 1 method)"
      ]
     },
     "execution_count": 113,
     "metadata": {},
     "output_type": "execute_result"
    }
   ],
   "source": [
    "pav_walls(p, n_x, n_y, n_z)=\n",
    "    let dist_y = pav_length-2*d_length\n",
    "        dist_z = pav_height-d_height\n",
    "        dist_x = pav_width-d_width*2\n",
    "        west_glass_wall = damped_sin_glass_wall(p+vxy(d_width, d_length),\n",
    "                                            amp_y_max_top,\n",
    "                                            fi, decay, om_y_bottom,\n",
    "                                            dist_y, dist_z, n_y, n_z, glass_panel_height)\n",
    "        east_glass_wall = damped_sin_glass_wall(p+vxy(pav_width-d_width, d_length),\n",
    "                                            amp_y_min_bottom,\n",
    "                                            fi, decay, om_y_bottom,\n",
    "                                            dist_y, dist_z, n_y, n_z, glass_panel_height)       \n",
    "        panel_w = norm(west_glass_wall[2][1]-west_glass_wall[1][1])\n",
    "        north_glass_wall = damped_sin_front_wall(p+vxy(d_width, dist_y+panel_w/2), \n",
    "                                            amp_x, fi, decay, om_x, \n",
    "                                            dist_x, dist_z, n_x, n_z, glass_panel_height)\n",
    "    centred_vertical_panel_lines(west_glass_wall[1:end-1])\n",
    "    centred_vertical_panel_lines(east_glass_wall[1:end-1])\n",
    "    vertical_panel_lines(north_glass_wall[1:end-1])\n",
    "end"
   ]
  },
  {
   "cell_type": "code",
   "execution_count": 114,
   "metadata": {},
   "outputs": [],
   "source": [
    "@test begin\n",
    "    backend(unity)\n",
    "    delete_all_shapes()\n",
    "    ground()\n",
    "    roof_surf(u0(), 50, n_panels)\n",
    "    pav_walls(u0(), 50, n_panels, n_glass_verts)\n",
    "    set_view(xyz(29.727153778076172,163.0078582763672,10.998817443847656), xyz(29.728837966918945,162.0078582763672,10.998811721801758), 35.0)\n",
    "#     render_dir(\"C:\\\\Users\\\\Renata\\\\Documents\\\\GitHub\\\\GymnasticsCenter_Moscow\\\\Plots\")\n",
    "#     render_view(\"all_walls_unity\")\n",
    "end"
   ]
  },
  {
   "cell_type": "markdown",
   "metadata": {},
   "source": [
    "Expected result:\n",
    "<img src=\"./Plots/all_walls_unity.png\" width=\"800\">"
   ]
  },
  {
   "cell_type": "markdown",
   "metadata": {},
   "source": [
    "## Interior Plan"
   ]
  },
  {
   "cell_type": "code",
   "execution_count": 182,
   "metadata": {},
   "outputs": [
    {
     "data": {
      "text/plain": [
       "6"
      ]
     },
     "execution_count": 182,
     "metadata": {},
     "output_type": "execute_result"
    }
   ],
   "source": [
    "pav_slab_thickness = 0.5\n",
    "pav_struct_thickness = 0.3\n",
    "n_floors = 3\n",
    "n_wall_in_width = 4\n",
    "n_wall_in_length = 6"
   ]
  },
  {
   "cell_type": "markdown",
   "metadata": {},
   "source": [
    "BIM families for walls and slabs:"
   ]
  },
  {
   "cell_type": "code",
   "execution_count": 116,
   "metadata": {},
   "outputs": [],
   "source": [
    "pav_slab_fam = slab_family_element(default_slab_family(), \n",
    "                                       thickness=pav_slab_thickness);"
   ]
  },
  {
   "cell_type": "code",
   "execution_count": 148,
   "metadata": {},
   "outputs": [],
   "source": [
    "pav_wall_struct_fam = wall_family_element(default_wall_family(), \n",
    "                                       thickness=pav_struct_thickness);"
   ]
  },
  {
   "cell_type": "markdown",
   "metadata": {},
   "source": [
    "`pav_slabs` creates the main slabs"
   ]
  },
  {
   "cell_type": "code",
   "execution_count": 159,
   "metadata": {},
   "outputs": [
    {
     "data": {
      "text/plain": [
       "pav_slabs (generic function with 1 method)"
      ]
     },
     "execution_count": 159,
     "metadata": {},
     "output_type": "execute_result"
    }
   ],
   "source": [
    "pav_slabs(p, length, height, width, n_floors)=\n",
    "    for i in division(0, height-2, n_floors, false)\n",
    "        slab(rectangular_path(p, width, length), level=i, family = pav_slab_fam)\n",
    "end"
   ]
  },
  {
   "cell_type": "code",
   "execution_count": 140,
   "metadata": {},
   "outputs": [],
   "source": [
    "@test begin\n",
    "    \n",
    "    backend(autocad) \n",
    "    delete_all_shapes()\n",
    "    \n",
    "    pav_slabs(u0(), 10, 7, 4, 3)\n",
    "    \n",
    "end"
   ]
  },
  {
   "cell_type": "markdown",
   "metadata": {},
   "source": [
    "Expected result:\n",
    "<img src=\"./Plots/slabs.png\" width=\"400\">"
   ]
  },
  {
   "cell_type": "markdown",
   "metadata": {},
   "source": [
    "Update `pav_slabs` to include interior walls:"
   ]
  },
  {
   "cell_type": "code",
   "execution_count": 190,
   "metadata": {},
   "outputs": [
    {
     "data": {
      "text/plain": [
       "pav_slabs (generic function with 2 methods)"
      ]
     },
     "execution_count": 190,
     "metadata": {},
     "output_type": "execute_result"
    }
   ],
   "source": [
    "pav_slabs(p, length, height, width, n_floors, n_x, n_y)=\n",
    "    let level_to_level_height = (height-2)/n_floors\n",
    "        for i in division(0, height-2, n_floors, false)\n",
    "            slab(rectangular_path(p, width, length), level=i, family = pav_slab_fam)\n",
    "        end\n",
    "        for i in division(0, height-2-level_to_level_height, n_floors-1, false)\n",
    "            walls_x = [wall([p+vx(x), p+vxy(x, length)], bottom_level=i, top_level=level_to_level_height+i) for x in division(width/n_x-1, width, n_x, false)]\n",
    "            walls_y = [wall([p+vy(y), p+vxy(width, y)], bottom_level=i, top_level=level_to_level_height+i) for y in division(length/n_y-1, length, n_y, false)]\n",
    "        end\n",
    "    end "
   ]
  },
  {
   "cell_type": "markdown",
   "metadata": {},
   "source": [
    "`floors` joins structural walls to the previous function: "
   ]
  },
  {
   "cell_type": "code",
   "execution_count": 165,
   "metadata": {},
   "outputs": [
    {
     "data": {
      "text/plain": [
       "floors (generic function with 1 method)"
      ]
     },
     "execution_count": 165,
     "metadata": {},
     "output_type": "execute_result"
    }
   ],
   "source": [
    "function floors(p)\n",
    "    wall([p+vy(pav_length/3), p+vxy(pav_width, pav_length/3)], top_level = level(pav_height), family=pav_wall_struct_fam)\n",
    "    wall([p+vy(pav_length*2//3), p+vxy(pav_width, pav_length*2/3)], top_level = level(pav_height), family=pav_wall_struct_fam)\n",
    "    pav_slabs(p+vy(pav_length/3), pav_length*2/3, pav_height, pav_width, n_floors, n_wall_in_width, n_wall_in_length)\n",
    "end"
   ]
  },
  {
   "cell_type": "code",
   "execution_count": 191,
   "metadata": {},
   "outputs": [],
   "source": [
    "@test begin\n",
    "    \n",
    "    backend(autocad) \n",
    "    delete_all_shapes()\n",
    "    floors(u0())\n",
    "\n",
    "end"
   ]
  },
  {
   "cell_type": "markdown",
   "metadata": {},
   "source": [
    "Expected result:\n",
    "<img src=\"./Plots/slab_wall.png\" width=\"600\">"
   ]
  },
  {
   "cell_type": "markdown",
   "metadata": {},
   "source": [
    "## Backend specifics"
   ]
  },
  {
   "cell_type": "markdown",
   "metadata": {},
   "source": [
    "Ground:"
   ]
  },
  {
   "cell_type": "code",
   "execution_count": 119,
   "metadata": {},
   "outputs": [
    {
     "data": {
      "text/plain": [
       "ground (generic function with 1 method)"
      ]
     },
     "execution_count": 119,
     "metadata": {},
     "output_type": "execute_result"
    }
   ],
   "source": [
    "ground_fam = slab_family_element(default_slab_family())\n",
    "ground() =\n",
    "    let x = 1000\n",
    "        y = 1000\n",
    "      slab(closed_polygonal_path([xy(-x,y), xy(x,y), xy(x,-y), xy(-x,-y)]), level(-0.05), ground_fam)\n",
    "    end"
   ]
  },
  {
   "cell_type": "markdown",
   "metadata": {},
   "source": [
    "BIM family materials for Unity backend:"
   ]
  },
  {
   "cell_type": "code",
   "execution_count": 120,
   "metadata": {},
   "outputs": [],
   "source": [
    "set_backend_family(default_truss_bar_family(), unity, unity_material_family(\"Default/Materials/Aluminum\"))\n",
    "set_backend_family(free_node_fam, unity, unity_material_family(\"Default/Materials/Aluminum\"))\n",
    "set_backend_family(sup_node_fam, unity, unity_material_family(\"materials/metal/Copper\"))\n",
    "# set_backend_family(ground_fam, unity, unity_material_family(\"Default/Materials/White\")) # -- white ground\n",
    "set_backend_family(ground_fam, unity, unity_material_family(\"Default/Materials/WhiteUnlit\")) # -- white ground no shadows\n",
    "set_backend_family(default_panel_family(), unity, unity_material_family(\"Default/Materials/GlassBlue\"))\n",
    "set_backend_family(frame_fam, unity, unity_material_family(\"Default/Materials/Steel\"))\n",
    "set_backend_family(roof_panel_fam, unity, unity_material_family(\"Default/Materials/Aluminum\"))\n",
    "set_backend_family(yellow_panel_fam, unity, unity_material_family(\"materials/metal/YellowCopper\"))\n",
    "set_backend_family(pav_slab_fam, unity, unity_material_family(\"Default/Materials/Plaster\"))"
   ]
  },
  {
   "cell_type": "markdown",
   "metadata": {},
   "source": [
    "## Complete Building"
   ]
  },
  {
   "cell_type": "code",
   "execution_count": 193,
   "metadata": {},
   "outputs": [
    {
     "data": {
      "text/plain": [
       "GymPav (generic function with 2 methods)"
      ]
     },
     "execution_count": 193,
     "metadata": {},
     "output_type": "execute_result"
    }
   ],
   "source": [
    "function GymPav(p)\n",
    "    roof_surf(p, 50, n_panels)\n",
    "#     roof_truss(p, 30, 70)\n",
    "    pav_walls(p, 50, n_panels, n_glass_verts)\n",
    "    floors(p)\n",
    "end"
   ]
  },
  {
   "cell_type": "code",
   "execution_count": 195,
   "metadata": {},
   "outputs": [
    {
     "ename": "InterruptException",
     "evalue": "InterruptException:",
     "output_type": "error",
     "traceback": [
      "InterruptException:",
      "",
      "Stacktrace:",
      " [1] try_yieldto(::typeof(Base.ensure_rescheduled), ::Base.RefValue{Task}) at .\\task.jl:654",
      " [2] wait at .\\task.jl:710 [inlined]",
      " [3] wait(::Base.GenericCondition{Base.Threads.SpinLock}) at .\\condition.jl:106",
      " [4] wait_readnb(::Sockets.TCPSocket, ::Int64) at .\\stream.jl:355",
      " [5] (::Base.var\"#wait_locked#516\")(::Sockets.TCPSocket, ::Base.GenericIOBuffer{Array{UInt8,1}}, ::Int64) at .\\stream.jl:837",
      " [6] unsafe_read(::Sockets.TCPSocket, ::Ptr{UInt8}, ::UInt64) at .\\stream.jl:843",
      " [7] unsafe_read at .\\io.jl:669 [inlined]",
      " [8] unsafe_read(::Sockets.TCPSocket, ::Base.RefValue{Int32}, ::Int64) at .\\io.jl:668",
      " [9] read! at .\\io.jl:670 [inlined]",
      " [10] read at .\\io.jl:674 [inlined]",
      " [11] decode_int at C:\\Users\\iicpe\\.julia\\packages\\Khepri\\xwUnZ\\src\\Encoders.jl:111 [inlined]",
      " [12] (::Khepri.var\"#385#386\"{Int64})(::Sockets.TCPSocket) at C:\\Users\\iicpe\\.julia\\packages\\Khepri\\xwUnZ\\src\\Encoders.jl:146",
      " [13] (::Khepri.var\"#496#659\")(::Int32, ::Sockets.TCPSocket, ::Base.GenericIOBuffer{Array{UInt8,1}}, ::XYZ, ::Float64, ::Float64, ::Float64) at C:\\Users\\iicpe\\.julia\\packages\\Khepri\\xwUnZ\\src\\Primitives.jl:240",
      " [14] call_remote(::Khepri.RemoteFunction, ::Sockets.TCPSocket, ::XYZ, ::Vararg{Any,N} where N) at C:\\Users\\iicpe\\.julia\\packages\\Khepri\\xwUnZ\\src\\Primitives.jl:218",
      " [15] realize_beam_profile(::Khepri.SocketBackend{Khepri.ACADKey,Int64}, ::FreeColumn, ::Khepri.RectangularPath, ::XYZ, ::Float64) at C:\\Users\\iicpe\\.julia\\packages\\Khepri\\xwUnZ\\src\\AutoCAD.jl:835",
      " [16] (::Khepri.var\"#326#327\"{Khepri.SocketBackend{Khepri.ACADKey,Int64},FreeColumn})() at C:\\Users\\iicpe\\.julia\\packages\\Khepri\\xwUnZ\\src\\BIM.jl:813",
      " [17] with_family_in_layer(::Khepri.var\"#326#327\"{Khepri.SocketBackend{Khepri.ACADKey,Int64},FreeColumn}, ::Khepri.SocketBackend{Khepri.ACADKey,Int64}, ::ColumnFamily) at C:\\Users\\iicpe\\.julia\\packages\\Khepri\\xwUnZ\\src\\BIM.jl:204",
      " [18] realize(::Khepri.SocketBackend{Khepri.ACADKey,Int64}, ::FreeColumn) at C:\\Users\\iicpe\\.julia\\packages\\Khepri\\xwUnZ\\src\\BIM.jl:811",
      " [19] ref(::FreeColumn) at C:\\Users\\iicpe\\.julia\\packages\\Khepri\\xwUnZ\\src\\Shapes.jl:166",
      " [20] force_realize at C:\\Users\\iicpe\\.julia\\packages\\Khepri\\xwUnZ\\src\\Shapes.jl:222 [inlined]",
      " [21] maybe_realize(::Khepri.SocketBackend{Khepri.ACADKey,Int64}, ::FreeColumn) at C:\\Users\\iicpe\\.julia\\packages\\Khepri\\xwUnZ\\src\\Shapes.jl:232",
      " [22] maybe_realize(::FreeColumn, ::Khepri.SocketBackend{Khepri.ACADKey,Int64}) at C:\\Users\\iicpe\\.julia\\packages\\Khepri\\xwUnZ\\src\\Shapes.jl:224 (repeats 2 times)",
      " [23] after_init at C:\\Users\\iicpe\\.julia\\packages\\Khepri\\xwUnZ\\src\\Shapes.jl:203 [inlined]",
      " [24] free_column(::XYZ, ::Float64, ::Int64, ::ColumnFamily; cb::XYZ, h::Float64, angle::Int64, family::ColumnFamily, backend::Khepri.SocketBackend{Khepri.ACADKey,Int64}, ref::Khepri.LazyRef{Khepri.ACADKey,Int64}) at C:\\Users\\iicpe\\.julia\\packages\\Khepri\\xwUnZ\\src\\Shapes.jl:430",
      " [25] free_column(::XYZ, ::Float64, ::Int64, ::ColumnFamily) at C:\\Users\\iicpe\\.julia\\packages\\Khepri\\xwUnZ\\src\\Shapes.jl:430",
      " [26] free_column(::XYZ, ::XYZ, ::Int64, ::ColumnFamily; angle::Int64, family::ColumnFamily) at C:\\Users\\iicpe\\.julia\\packages\\Khepri\\xwUnZ\\src\\BIM.jl:799",
      " [27] framed_panel(::Array{XYZ,1}) at .\\In[89]:5",
      " [28] (::var\"#pav_panel#96\"{VXYZ})(::XYZ, ::XYZ) at .\\In[107]:2",
      " [29] (::var\"#95#97\"{VXYZ,var\"#pav_panel#96\"{VXYZ}})(::Tuple{XYZ,XYZ}) at .\\none:0",
      " [30] iterate at .\\generator.jl:47 [inlined]",
      " [31] collect(::Base.Generator{Base.Iterators.Zip{Tuple{Array{XYZ,1},Array{XYZ,1}}},var\"#95#97\"{VXYZ,var\"#pav_panel#96\"{VXYZ}}}) at .\\array.jl:665",
      " [32] vertical_panel_line_centred(::Array{XYZ,1}, ::VXYZ) at .\\In[107]:3",
      " [33] #98 at .\\none:0 [inlined]",
      " [34] iterate at .\\generator.jl:47 [inlined]",
      " [35] collect(::Base.Generator{Array{Array{XYZ,1},1},var\"#98#99\"{VXYZ}}) at .\\array.jl:665",
      " [36] centred_vertical_panel_lines(::Array{Array{XYZ,1},1}) at .\\In[108]:3",
      " [37] pav_walls(::XYZ, ::Int64, ::Int64, ::Int64) at .\\In[113]:17",
      " [38] GymPav(::XYZ) at .\\In[193]:4",
      " [39] top-level scope at In[195]:5",
      " [40] top-level scope at In[33]:7",
      " [41] top-level scope at In[195]:1"
     ]
    }
   ],
   "source": [
    "@test begin\n",
    "    backend(autocad)\n",
    "    delete_all_shapes()\n",
    "#     ground()\n",
    "    GymPav(u0())\n",
    "end"
   ]
  },
  {
   "cell_type": "code",
   "execution_count": null,
   "metadata": {},
   "outputs": [],
   "source": []
  }
 ],
 "metadata": {
  "@webio": {
   "lastCommId": null,
   "lastKernelId": null
  },
  "kernelspec": {
   "display_name": "Julia 1.4.1",
   "language": "julia",
   "name": "julia-1.4"
  },
  "language_info": {
   "file_extension": ".jl",
   "mimetype": "application/julia",
   "name": "julia",
   "version": "1.4.1"
  },
  "toc": {
   "base_numbering": 1,
   "nav_menu": {},
   "number_sections": true,
   "sideBar": true,
   "skip_h1_title": false,
   "title_cell": "Table of Contents",
   "title_sidebar": "Contents",
   "toc_cell": false,
   "toc_position": {
    "height": "calc(100% - 180px)",
    "left": "10px",
    "top": "150px",
    "width": "277.986px"
   },
   "toc_section_display": true,
   "toc_window_display": true
  }
 },
 "nbformat": 4,
 "nbformat_minor": 4
}
