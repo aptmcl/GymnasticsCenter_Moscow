{
 "cells": [
  {
   "cell_type": "markdown",
   "metadata": {},
   "source": [
    "# Irina Viner-Usmanova Rhythmic Gymnastics Centre"
   ]
  },
  {
   "cell_type": "markdown",
   "metadata": {},
   "source": [
    "The project presented in this notebook is an adaptation of the Irina Viner-Usmanova Rhythmic Gymnastics Centre, originally designed by CPU Pride for Moscow, Russia. Its most prominent feature is the wavy roof-structure, inspired by the movement of a rhythmic gymnastic’s strip. The program elaborated here is a personal interpretation of the original design, developed in a 5 day collaborative sprint. This notebook uses the __Julia__ programming language and the __Khepri__ algorithmic design tool to model the building's geometry."
   ]
  },
  {
   "cell_type": "markdown",
   "metadata": {},
   "source": [
    "<img src=\"./Renders/light.png\" width=\"900\"> "
   ]
  },
  {
   "cell_type": "code",
   "execution_count": null,
   "metadata": {},
   "outputs": [],
   "source": [
    "using WebIO"
   ]
  },
  {
   "cell_type": "code",
   "execution_count": null,
   "metadata": {},
   "outputs": [],
   "source": [
    "using Interact"
   ]
  },
  {
   "cell_type": "code",
   "execution_count": null,
   "metadata": {},
   "outputs": [],
   "source": [
    "using Khepri"
   ]
  },
  {
   "cell_type": "code",
   "execution_count": null,
   "metadata": {},
   "outputs": [],
   "source": [
    "render_size(800, 400) # Khepri backends size"
   ]
  },
  {
   "cell_type": "markdown",
   "metadata": {},
   "source": [
    "Avoid tests macro: `true` to skip tests, and `false` to run them."
   ]
  },
  {
   "cell_type": "code",
   "execution_count": null,
   "metadata": {},
   "outputs": [],
   "source": [
    "avoid_tests = Parameter(true)\n",
    "\n",
    "macro test(expr...)\n",
    "  quote\n",
    "    if !avoid_tests() \n",
    "        begin\n",
    "            $(esc(expr...))\n",
    "        end\n",
    "    end\n",
    "  end\n",
    "end"
   ]
  },
  {
   "cell_type": "code",
   "execution_count": null,
   "metadata": {},
   "outputs": [],
   "source": [
    "# avoid_tests(false)"
   ]
  },
  {
   "cell_type": "markdown",
   "metadata": {},
   "source": [
    "## Sinusoidal Curves"
   ]
  },
  {
   "cell_type": "markdown",
   "metadata": {},
   "source": [
    " | Sinunoisal wave parameters | Other sinusoidal curves |\n",
    " |----------------------------|-------------------------|\n",
    " |<img src=\"./Figures/sin_wave.png\" width=\"480\"> | <img src=\"./Figures/sin_curves.png\" width=\"350\">|"
   ]
  },
  {
   "cell_type": "markdown",
   "metadata": {},
   "source": [
    "`sinusoidal` parameters explained:\n",
    "* a is the amplitude\n",
    "* omega is the frequency\n",
    "* fi is the phase"
   ]
  },
  {
   "cell_type": "code",
   "execution_count": null,
   "metadata": {},
   "outputs": [],
   "source": [
    "sinusoidal(a, omega, fi, x) = a*sin(omega*x+fi)"
   ]
  },
  {
   "cell_type": "code",
   "execution_count": null,
   "metadata": {},
   "outputs": [],
   "source": [
    "sin_array_y(p, a, omega, fi, dist, n) = [p+vxy(i, sinusoidal(a, omega, fi, i)) for i in division(0, dist, n)]"
   ]
  },
  {
   "cell_type": "code",
   "execution_count": null,
   "metadata": {},
   "outputs": [],
   "source": [
    "@test begin\n",
    "    backend(notebook)\n",
    "    new_backend()\n",
    "    line(sin_array_y(u0(), 5, 1, 0, 50, 100))\n",
    "end"
   ]
  },
  {
   "cell_type": "markdown",
   "metadata": {},
   "source": [
    "Expected result:\n",
    "<img src=\"./Plots/sin_array_y.png\" width=\"600\">"
   ]
  },
  {
   "cell_type": "markdown",
   "metadata": {},
   "source": [
    "`damped_sin_wave`'s parameters explained\n",
    "* a is the initial amplitude (the highest peak)\n",
    "* b is the decay constant\n",
    "* omega is the angular frequency"
   ]
  },
  {
   "cell_type": "code",
   "execution_count": null,
   "metadata": {},
   "outputs": [],
   "source": [
    "damped_sin_wave(a, d, omega, x) = a*exp(-(d*x))*sin(omega*x)"
   ]
  },
  {
   "cell_type": "code",
   "execution_count": null,
   "metadata": {},
   "outputs": [],
   "source": [
    "damped_sin_array_z(p, a, d, omega, dist, n) = [p+vxz(i, damped_sin_wave(a, d, omega, i)) for i in division(0, dist, n)]"
   ]
  },
  {
   "cell_type": "code",
   "execution_count": null,
   "metadata": {},
   "outputs": [],
   "source": [
    "@test begin\n",
    "    backend(notebook)\n",
    "    new_backend()\n",
    "    line(damped_sin_array_z(u0(), 5, 0.1, 1, 50, 100))\n",
    "end"
   ]
  },
  {
   "cell_type": "markdown",
   "metadata": {},
   "source": [
    "Expected result:\n",
    "<img src=\"./Plots/damped_sin_array.png\" width=\"600\">"
   ]
  },
  {
   "cell_type": "code",
   "execution_count": null,
   "metadata": {},
   "outputs": [],
   "source": [
    "damped_sin_roof_pts(p, a_x, a_y, fi, decay, om_x, om_y, dist_x, dist_y, n_x, n_y) =\n",
    "    map_division((x, y)->p+vxyz(x, y, sinusoidal(a_x, om_x, fi, x)+damped_sin_wave(a_y, decay, om_y, y)),\n",
    "        0, dist_x, n_x,\n",
    "        0, dist_y, n_y)"
   ]
  },
  {
   "cell_type": "code",
   "execution_count": null,
   "metadata": {},
   "outputs": [],
   "source": [
    "@test begin\n",
    "    backend(meshcat)\n",
    "    new_backend()\n",
    "    @manipulate for ampx = widget(0:0.1:3, label=\"Amplitude x\"),\n",
    "                ampy = widget(0:0.1:20, label=\"Amplitude y\")\n",
    "            delete_all_shapes()\n",
    "            surface_grid(damped_sin_roof_pts(u0(), ampx, ampy, 0, 0.1, 0.2, 1, 50, 100, 100, 200))\n",
    "    end\n",
    "end"
   ]
  },
  {
   "cell_type": "markdown",
   "metadata": {},
   "source": [
    "Expected result:\n",
    "<img src=\"./Plots/damped_surface.png\" width=\"600\">"
   ]
  },
  {
   "cell_type": "code",
   "execution_count": null,
   "metadata": {},
   "outputs": [],
   "source": [
    "damped_sin_roof_pts(p, h, a_x, a_y_min, a_y_max, fi, decay, om_x, om_y, dist_x, dist_y, n_x, n_y) =\n",
    "    map_division((x, y) ->\n",
    "                y <= d_i ?\n",
    "                p + vxyz(x, \n",
    "                         -sin(y/d_i*(1*pi)), \n",
    "                         y*h/d_i + sin(x/dist_x*pi)sinusoidal(a_x, om_x, fi-y*pi/dist_y, x)*(y*a_x/d_i)) :\n",
    "                p + vxyz(x,\n",
    "                         y,\n",
    "                         h + sin(x/dist_x*pi)*sinusoidal(a_x, om_x, fi-y*pi/dist_y, x) +\n",
    "                         damped_sin_wave(a_y_max - (a_y_max-a_y_min)/dist_x*x, decay, om_y, y)),\n",
    "             0, dist_x, n_x,\n",
    "             0, dist_y, n_y)"
   ]
  },
  {
   "cell_type": "markdown",
   "metadata": {},
   "source": [
    "`d_i`is the distance between the pavillion starting point and the beginning of the dumped sine curve."
   ]
  },
  {
   "cell_type": "code",
   "execution_count": null,
   "metadata": {},
   "outputs": [],
   "source": [
    "@test begin\n",
    "    backend(meshcat)\n",
    "    new_backend()\n",
    "    d_i = 0.5\n",
    "    @manipulate for ampx = widget(1:0.1:3, label=\"Amplitude x\"),\n",
    "                    ampy_min = widget(1:0.1:15, label=\"Minimum Amplitude y\"),\n",
    "                    ampy_max = widget(1:0.1:15, label=\"Maximum Amplitude y\"),\n",
    "                    h = widget(2:1:20, label=\"Height\")\n",
    "                delete_all_shapes()\n",
    "                surface_grid(damped_sin_roof_pts(u0(), h, ampx, ampy_min, ampy_max, pi, 0.03, pi/50, pi/10, 60, 100, 120, 800))\n",
    "    end\n",
    "end"
   ]
  },
  {
   "cell_type": "markdown",
   "metadata": {},
   "source": [
    "Expected result:\n",
    "<img src=\"./Plots/roof_surface.png\" width=\"600\">"
   ]
  },
  {
   "cell_type": "markdown",
   "metadata": {},
   "source": [
    "## Pavilion Dimensions"
   ]
  },
  {
   "cell_type": "markdown",
   "metadata": {},
   "source": [
    " | Roof dimentions explained | `d_i` explained |\n",
    " |---------------------------|-----------------|\n",
    " |<img src=\"./Figures/roof_dims.jpg\" width=\"400\"> | <img src=\"./Figures/roof_di.jpg\" width=\"400\"> |"
   ]
  },
  {
   "cell_type": "markdown",
   "metadata": {},
   "source": [
    "__Double sinuoid parameters:__\n",
    "\n",
    "* amp_x = amplitude of the sinusoid along the x axis\n",
    "* amp_y_min_top = minimum amplitude of the damped sinusoid along the y axis for the top layer of the roof\n",
    "* amp_y_max_top = maximum amplitude of the damped sinusoid along the y axis for the top layer of the roof\n",
    "* amp_y_max_bottom = maximum amplitude of the damped sinusoid along the y axis for the bottom layer of the roof\n",
    "* amp_y_min_bottom = minimum amplitude of the damped sinusoid along the y axis for the bottom layer of the roof\n",
    "* fi = sinusoid's phase along the x axis\n",
    "* decay = damped sinusoid's decay along the y axis\n",
    "* om_x = frequency of the sinusoid in x\n",
    "* om_y = frequency of the damped sinusoid in y\n",
    "\n",
    "__Genaral pavilion parameters:__\n",
    "\n",
    "* pav_width = pavilion's width (along x axis)\n",
    "* pav_length = pavilion's lenght (along y axis)\n",
    "* pav_height = pavilion's height (z axis)\n",
    "* d_width = distance between roof layers in the x axis (top layer is wider)\n",
    "* d_length = distance between roof layers in the y axis (top layer is longer)\n",
    "* d_height = distance between roof layers in the z axis (height of the roof truss)\n",
    "* d_i = distance before the damped sinusoid starts shaping the roof\n",
    "\n",
    "__Construction elements parameters:__\n",
    "\n",
    "* glass_panel_height = façade glass panel's height (width is defined by the number of points in the `damped_sinusoid` array)\n",
    "* n_panels_y = number of row sobdivisions for triangular roof panels and glass wall vertical lines in length\n",
    "* n_panels_x = number of row sobdivisions for triangular roof panels and glass wall vertical lines in width\n",
    "* n_glass_verts = number of vertical panels per glass line\n",
    "* pinwheel_rec_level = number of times the pattern gets recursively subdivided\n",
    "* pav_slab_thickness = floor slab thickness\n",
    "* pav_struct_thickness = inner structural wall's thickness\n",
    "* n_floors = number of floors inside the pavilion\n",
    "* n_wall_in_width = number of transverse walls on each floor\n",
    "* n_wall_in_length = number of longitudinal walls on each floor"
   ]
  },
  {
   "cell_type": "code",
   "execution_count": null,
   "metadata": {},
   "outputs": [],
   "source": [
    "amp_x = 2.5\n",
    "amp_y_min_top = 4\n",
    "amp_y_max_top = 11\n",
    "amp_y_max_bottom = 10\n",
    "amp_y_min_bottom = 3\n",
    "fi = pi\n",
    "decay = 0.03\n",
    "\n",
    "pav_width = 60\n",
    "pav_length = 100\n",
    "pav_height = 14\n",
    "d_width = 1.5\n",
    "d_length = 1\n",
    "d_height = 3\n",
    "d_i = d_length\n",
    "\n",
    "om_x = pi/pav_width\n",
    "om_y = 10*pi/pav_length\n",
    "om_y_bottom = 10*pi/(pav_length - 2*d_length)\n",
    "\n",
    "glass_panel_height = 1\n",
    "n_panels_y = 100 \n",
    "n_panels_x = 50\n",
    "n_glass_verts = 10\n",
    "pinwheel_rec_level = 3\n",
    "pav_slab_thickness = 0.5\n",
    "pav_struct_thickness = 0.3\n",
    "n_floors = 3\n",
    "n_wall_in_width = 4\n",
    "n_wall_in_length = 6"
   ]
  },
  {
   "cell_type": "markdown",
   "metadata": {},
   "source": [
    "## Roof Truss"
   ]
  },
  {
   "cell_type": "markdown",
   "metadata": {},
   "source": [
    "### Basic truss elements"
   ]
  },
  {
   "cell_type": "markdown",
   "metadata": {},
   "source": [
    "The following functions create truss elements:\n",
    "* `free_node` and `fixed_node`create truss nodes\n",
    "* `bar`creates truss bars\n",
    "* `panel`creates truss panels"
   ]
  },
  {
   "cell_type": "markdown",
   "metadata": {},
   "source": [
    "CAD version of truss elements:"
   ]
  },
  {
   "cell_type": "code",
   "execution_count": null,
   "metadata": {},
   "outputs": [],
   "source": [
    "free_node(pt) = sphere(pt, 0.1)\n",
    "fixed_node(pt) = sphere(pt, 0.1)"
   ]
  },
  {
   "cell_type": "code",
   "execution_count": null,
   "metadata": {},
   "outputs": [],
   "source": [
    "truss_panel(ps) = surface_polygon(ps)"
   ]
  },
  {
   "cell_type": "code",
   "execution_count": null,
   "metadata": {},
   "outputs": [],
   "source": [
    "e agora? skype?"
   ]
  },
  {
   "cell_type": "markdown",
   "metadata": {},
   "source": [
    "BIM families for truss elements:"
   ]
  },
  {
   "cell_type": "code",
   "execution_count": null,
   "metadata": {},
   "outputs": [],
   "source": [
    "free_node_fam = truss_node_family_element(default_truss_node_family(), support=Khepri.truss_node_support(), radius=0.1)\n",
    "sup_node_fam = truss_node_family_element(default_truss_node_family(), support=Khepri.truss_node_support(ux=true, uy=true, uz=true), radius=0.1);"
   ]
  },
  {
   "cell_type": "markdown",
   "metadata": {},
   "source": [
    "BIM version of truss elements:"
   ]
  },
  {
   "cell_type": "code",
   "execution_count": null,
   "metadata": {},
   "outputs": [],
   "source": [
    "fixed_node(p) = truss_node(p, family=sup_node_fam)\n",
    "free_node(p) = truss_node(p, family=free_node_fam)"
   ]
  },
  {
   "cell_type": "code",
   "execution_count": null,
   "metadata": {},
   "outputs": [],
   "source": [
    "bar(p, q) = truss_bar(p, q)"
   ]
  },
  {
   "cell_type": "markdown",
   "metadata": {},
   "source": [
    "### Spatial truss"
   ]
  },
  {
   "cell_type": "markdown",
   "metadata": {},
   "source": [
    "`truss_ptss`receives two sets of points, the bottom and top points defining the shape of the truss to create.\n",
    "It returns the points defining the truss structure."
   ]
  },
  {
   "cell_type": "code",
   "execution_count": null,
   "metadata": {},
   "outputs": [],
   "source": [
    "truss_ptss(bottom_ptss,top_ptss) =\n",
    "    length(top_ptss) == length(bottom_ptss) ?\n",
    "    vcat([[pts,qts] for (pts,qts) in zip(bottom_ptss,top_ptss)]...) :\n",
    "    vcat([[pts,qts] for (pts,qts) in zip(top_ptss[1:end-1],bottom_ptss)]..., [top_ptss[end]])"
   ]
  },
  {
   "cell_type": "markdown",
   "metadata": {},
   "source": [
    "`truss`receives the type of truss to create, as well as both bottom and top points defining its shape.\n",
    "It creates a 3D spatial truss."
   ]
  },
  {
   "cell_type": "code",
   "execution_count": null,
   "metadata": {},
   "outputs": [],
   "source": [
    "truss(truss_type; bottom_ptss=planar(p=x(0)), top_ptss=planar(p=z(1))) =\n",
    "    let ptss = truss_ptss(bottom_ptss, top_ptss)\n",
    "      truss_type(ptss)\n",
    "  end"
   ]
  },
  {
   "cell_type": "markdown",
   "metadata": {},
   "source": [
    " | Vierendeel modular block front | Vierendeel modular block side |\n",
    " |----------------------------|-------------------------|\n",
    " |<img src=\"./Figures/front_vierendeel.png\" width=\"350\"> | <img src=\"./Figures/side_vierendeel.png\" width=\"350\">|"
   ]
  },
  {
   "cell_type": "markdown",
   "metadata": {},
   "source": [
    "`vierendeel`creates a vierendeel truss structure."
   ]
  },
  {
   "cell_type": "code",
   "execution_count": null,
   "metadata": {},
   "outputs": [],
   "source": [
    "vierendeel(ptss, first=true) =\n",
    "    let ais = ptss[1],\n",
    "        bis = ptss[2],\n",
    "        cis = ptss[3],\n",
    "        dis = ptss[4]\n",
    "      (first ? fixed_node : free_node).(ais)\n",
    "      free_node.(bis)\n",
    "      bar.(ais, bis)\n",
    "      bar.(ais, cis)\n",
    "      bar.(bis, dis)\n",
    "      bar.(ais[2:end], ais[1:end-1])\n",
    "      bar.(bis[2:end], bis[1:end-1])\n",
    "      if ptss[5:end] == []\n",
    "          fixed_node.(cis)\n",
    "          free_node.(dis)\n",
    "          bar.(cis[2:end], cis[1:end-1])\n",
    "          bar.(dis[2:end], dis[1:end-1])\n",
    "          bar.(dis, cis)\n",
    "      else\n",
    "          vierendeel(ptss[3:end], false)\n",
    "      end\n",
    "    end"
   ]
  },
  {
   "cell_type": "code",
   "execution_count": null,
   "metadata": {},
   "outputs": [],
   "source": [
    "@test begin\n",
    "    backend(meshcat)\n",
    "    new_backend()\n",
    "    @manipulate for ampx = widget(1:0.1:3, label=\"Amplitude x\"),\n",
    "                    ampy_top_min = widget(3:0.1:15, label=\"Minimum Amplitude y\"),\n",
    "                    ampy_top_max = widget(3:0.1:15, label=\"Maximum Amplitude y\"),\n",
    "                    ampy_bottom_min = widget(1:0.1:12, label=\"Minimum Amplitude y\"),\n",
    "                    ampy_bottom_max = widget(1:0.1:12, label=\"Maximum Amplitude y\"),\n",
    "                    h = widget(2:1:20, label=\"Height\")\n",
    "                delete_all_shapes()\n",
    "        truss(vierendeel, \n",
    "          top_ptss=damped_sin_roof_pts(u0(), pav_height,\n",
    "                                          ampx, ampy_top_min, ampy_top_max,\n",
    "                                          fi, decay, om_x, om_y,\n",
    "                                          pav_width, pav_length-d_length, 50, 80),\n",
    "          bottom_ptss=damped_sin_roof_pts(xy(d_width,d_length), pav_height-d_height,\n",
    "                                         ampx, ampy_bottom_min, ampy_bottom_max,\n",
    "                                         fi, decay, om_x, om_y_bottom,\n",
    "                                         pav_width - d_width*2, pav_length-2*d_length, 50, 80))\n",
    "    end\n",
    "end"
   ]
  },
  {
   "cell_type": "markdown",
   "metadata": {},
   "source": [
    "Expected result:\n",
    "<img src=\"./Plots/truss_roof_meshcat.png\" width=\"800\">"
   ]
  },
  {
   "cell_type": "code",
   "execution_count": null,
   "metadata": {},
   "outputs": [],
   "source": [
    "@test begin\n",
    "    backend(unity)\n",
    "    delete_all_shapes()\n",
    "    ground()\n",
    "    truss(vierendeel, \n",
    "      top_ptss=damped_sin_roof_pts(u0(), pav_height,\n",
    "                                      amp_x, amp_y_min_top, amp_y_max_top,\n",
    "                                      fi, decay, om_x, om_y,\n",
    "                                      pav_width, pav_length-d_length, 5, 8),\n",
    "      bottom_ptss=damped_sin_roof_pts(xy(d_width,d_length), pav_height-d_height,\n",
    "                                     amp_x, amp_y_min_bottom, amp_y_max_bottom,\n",
    "                                     fi, decay, om_x, om_y_bottom,\n",
    "                                     pav_width - d_width*2, pav_length-2*d_length, 5, 8))\n",
    "#     render_dir(\"C:\\\\Users\\\\Renata\\\\Documents\\\\GitHub\\\\GymnasticsCenter_Moscow\\\\Plots\")\n",
    "#     render_view(\"truss_roof_unity\")\n",
    "end"
   ]
  },
  {
   "cell_type": "markdown",
   "metadata": {},
   "source": [
    "Expected result:\n",
    "<img src=\"./Plots/truss_roof_unity.png\" width=\"800\">"
   ]
  },
  {
   "cell_type": "markdown",
   "metadata": {},
   "source": [
    "## Roof Surface"
   ]
  },
  {
   "cell_type": "markdown",
   "metadata": {},
   "source": [
    "### Auxiliar functions"
   ]
  },
  {
   "cell_type": "markdown",
   "metadata": {},
   "source": [
    "`tranpose_array`receives an array of arrays and transposes it."
   ]
  },
  {
   "cell_type": "code",
   "execution_count": null,
   "metadata": {},
   "outputs": [],
   "source": [
    "transpose_array(arrays) =\n",
    "    [[row[i] for row in arrays]\n",
    "     for i in 1:length(arrays[1])]"
   ]
  },
  {
   "cell_type": "markdown",
   "metadata": {},
   "source": [
    "`pts_distances`receives an array of points and returns an array with the distances between ordered points."
   ]
  },
  {
   "cell_type": "code",
   "execution_count": null,
   "metadata": {},
   "outputs": [],
   "source": [
    "pts_distances(pts, last_pt=true) =\n",
    "    let n =  last_pt ? 0 : 1\n",
    "      [distance(p,q)\n",
    "       for (p,q) in zip(pts,[pts[2:end]...,pts[1]])][1:end-n]\n",
    "       end"
   ]
  },
  {
   "cell_type": "code",
   "execution_count": null,
   "metadata": {},
   "outputs": [],
   "source": [
    "shape_grid_polygon_vertices(pts) =\n",
    "    () -> pts"
   ]
  },
  {
   "cell_type": "markdown",
   "metadata": {},
   "source": [
    "`itera_2triangs`receives an array of arrays of points. It returns the same points rearranged to create a triangular grid of points."
   ]
  },
  {
   "cell_type": "code",
   "execution_count": null,
   "metadata": {},
   "outputs": [],
   "source": [
    "itera_2triangs(ptss) =\n",
    "    vcat([vcat([[[p0,p1,p3],[p1,p2,p3]]\n",
    "                for (p0,p1,p2,p3)\n",
    "                in zip(pts0[1:end-1], pts1[1:end-1], pts1[2:end], pts0[2:end])]...)\n",
    "         for (pts0, pts1) in zip(ptss[1:end-1], ptss[2:end])]...)"
   ]
  },
  {
   "cell_type": "markdown",
   "metadata": {},
   "source": [
    "BIM families for roof panels:"
   ]
  },
  {
   "cell_type": "code",
   "execution_count": null,
   "metadata": {},
   "outputs": [],
   "source": [
    "roof_panel_fam = panel_family_element(default_panel_family())\n",
    "yellow_panel_fam = panel_family_element(default_panel_family());"
   ]
  },
  {
   "cell_type": "markdown",
   "metadata": {},
   "source": [
    "### Roof option 1: simple surfaces"
   ]
  },
  {
   "cell_type": "code",
   "execution_count": null,
   "metadata": {},
   "outputs": [],
   "source": [
    "@test begin\n",
    "    backend(autocad)\n",
    "    delete_all_shapes()\n",
    "    top_roof = damped_sin_roof_pts(x(0), 15,\n",
    "                                   3, 6, 9,\n",
    "                                   fi, decay, om_x, om_y,\n",
    "                                   pav_width, pav_length-d_length, 50, 100)\n",
    "    bottom_roof = damped_sin_roof_pts(xy(d_width,d_length*1), 15-d_height,\n",
    "                                      3, 6, 8,\n",
    "                                      fi, decay, om_x, om_y_bottom,\n",
    "                                      pav_width - d_width*2, pav_length-2*d_length, 50, 100)\n",
    "    surface_grid(top_roof)\n",
    "    surface_grid(bottom_roof)     \n",
    "end"
   ]
  },
  {
   "cell_type": "markdown",
   "metadata": {},
   "source": [
    "Expected result:\n",
    "<img src=\"./Plots/roof_surf_grid.png\" width=\"800\">"
   ]
  },
  {
   "cell_type": "markdown",
   "metadata": {},
   "source": [
    "### Roof option 2: triangular roof panels"
   ]
  },
  {
   "cell_type": "markdown",
   "metadata": {},
   "source": [
    "CAD version: using `surface_polygon` subdivision"
   ]
  },
  {
   "cell_type": "code",
   "execution_count": null,
   "metadata": {},
   "outputs": [],
   "source": [
    "@test begin\n",
    "    backend(autocad)\n",
    "    new_backend()\n",
    "    map(ps->surface_polygon(ps), itera_2triangs(top_roof))\n",
    "    map(ps->surface_polygon(ps), itera_2triangs(bottom_roof))        \n",
    "end"
   ]
  },
  {
   "cell_type": "markdown",
   "metadata": {},
   "source": [
    "Expected result:\n",
    "<img src=\"./Plots/roof_surf_polygons_cad.png\" width=\"800\">"
   ]
  },
  {
   "cell_type": "markdown",
   "metadata": {},
   "source": [
    "BIM version: using `panel` subdivision"
   ]
  },
  {
   "cell_type": "code",
   "execution_count": null,
   "metadata": {},
   "outputs": [],
   "source": [
    "@test begin\n",
    "    backend(unity)\n",
    "    delete_all_shapes()\n",
    "    ground()\n",
    "    map(ps->panel(ps, family=roof_panel_fam), itera_2triangs(top_roof))\n",
    "    map(ps->panel(ps, family=roof_panel_fam), itera_2triangs(bottom_roof))        \n",
    "end"
   ]
  },
  {
   "cell_type": "code",
   "execution_count": null,
   "metadata": {},
   "outputs": [],
   "source": [
    "# render_dir(\"C:\\\\Users\\\\Renata\\\\Documents\\\\GitHub\\\\GymnasticsCenter_Moscow\\\\Plots\")\n",
    "# render_view(\"roof_panels_unity\")"
   ]
  },
  {
   "cell_type": "markdown",
   "metadata": {},
   "source": [
    "Expected result:\n",
    "<img src=\"./Plots/roof_panels_unity.png\" width=\"800\">"
   ]
  },
  {
   "cell_type": "markdown",
   "metadata": {},
   "source": [
    "### Roof lateral edges option 1: simple triangular panels"
   ]
  },
  {
   "cell_type": "code",
   "execution_count": null,
   "metadata": {},
   "outputs": [],
   "source": [
    "@test begin\n",
    "    backend(autocad)\n",
    "    delete_all_shapes()\n",
    "    map(ps->surface_polygon(ps), itera_2triangs([top_roof[1],bottom_roof[1]]))\n",
    "    map(ps->surface_polygon(ps), itera_2triangs([top_roof[end],bottom_roof[end]]))\n",
    "    map(ps->surface_polygon(ps), itera_2triangs([transpose_array(top_roof)[end], transpose_array(bottom_roof)[end]]))\n",
    "end"
   ]
  },
  {
   "cell_type": "markdown",
   "metadata": {},
   "source": [
    "Expected result:\n",
    "<img src=\"./Plots/triangle_roof_side.png\" width=\"800\">"
   ]
  },
  {
   "cell_type": "markdown",
   "metadata": {},
   "source": [
    "### Roof lateral edges option 2: Pinwheel tiling panels"
   ]
  },
  {
   "cell_type": "markdown",
   "metadata": {},
   "source": [
    "`pattern`creates different patterns on parametric surfaces"
   ]
  },
  {
   "cell_type": "code",
   "execution_count": null,
   "metadata": {},
   "outputs": [],
   "source": [
    "pattern(fshape, pts...; args...) =\n",
    "  fshape(pts...)(; (k=>v(pts) for (k,v) in args)...)"
   ]
  },
  {
   "cell_type": "markdown",
   "metadata": {},
   "source": [
    "`pinwheel_rule`defines the basic subdivision rule of the pinwheel tiling."
   ]
  },
  {
   "cell_type": "markdown",
   "metadata": {},
   "source": [
    " |    Pinwheel rule Tiling   |\n",
    " |---------------------------|\n",
    " |<img src=\"./Figures/tiling.png\" width=\"400\"> |\n",
    " source: https://mathematica.stackexchange.com/questions/55677/how-to-generate-nonperiodic-tilings"
   ]
  },
  {
   "cell_type": "code",
   "execution_count": null,
   "metadata": {},
   "outputs": [],
   "source": [
    "pinwheel_rule(pts, ratio1=0.383) =\n",
    "    let dists = pts_distances(pts)\n",
    "        max_dist = maximum(dists)\n",
    "        min_dist = minimum(dists)\n",
    "        ratio2 = 1 - ratio1\n",
    "     if max_dist == dists[1]\n",
    "         let pm = intermediate_loc(pts[1], pts[2], min_dist==dists[2] ? ratio1 : ratio2)\n",
    "           [[pts[1],pm,pts[3]],\n",
    "            [pts[2],pm,pts[3]]]\n",
    "         end\n",
    "     elseif max_dist == dists[2]\n",
    "         let pm = intermediate_loc(pts[2], pts[3], min_dist==dists[1] ? ratio1 : ratio2)\n",
    "           [[pts[1],pm,pts[2]],\n",
    "            [pts[1],pm,pts[3]]]\n",
    "         end\n",
    "     else\n",
    "        let pm = intermediate_loc(pts[1], pts[3], min_dist==dists[1] ? ratio1 : ratio2)\n",
    "          [[pts[1],pm,pts[2]],\n",
    "           [pts[2],pm,pts[3]]]\n",
    "        end\n",
    "     end\n",
    "  end"
   ]
  },
  {
   "cell_type": "markdown",
   "metadata": {},
   "source": [
    "`pinwheel_recursive_rule` repeats the basic subdivision rule `pinwheel_rule` several times (value set by the parameter `level`)."
   ]
  },
  {
   "cell_type": "code",
   "execution_count": null,
   "metadata": {},
   "outputs": [],
   "source": [
    "pinwheel_recursive_rule(pts, ratio1=0.383, level=1) =\n",
    "    let qts = pinwheel_rule(pts, ratio1)\n",
    "      level == 1 ?\n",
    "      qts :\n",
    "      [qts...,\n",
    "       pinwheel_recursive_rule(qts[1], ratio1, level-1)...,\n",
    "       pinwheel_recursive_rule(qts[2], ratio1, level-1)...]\n",
    "     end"
   ]
  },
  {
   "cell_type": "markdown",
   "metadata": {},
   "source": [
    "`pinwheel_tiling`receives a surface (described by its points) and creates the pinwheel tiling on it."
   ]
  },
  {
   "cell_type": "code",
   "execution_count": null,
   "metadata": {},
   "outputs": [],
   "source": [
    "pinwheel_tiling(pts; ratio1=0.383, level=1) =\n",
    "        map(surface_polygon, pinwheel_recursive_rule(pts, ratio1, level))"
   ]
  },
  {
   "cell_type": "code",
   "execution_count": null,
   "metadata": {},
   "outputs": [],
   "source": [
    "@test begin\n",
    "    backend(autocad)\n",
    "    delete_all_shapes()\n",
    "    top_roof = damped_sin_roof_pts(x(0), 15,\n",
    "                                   3, 6, 9,\n",
    "                                   fi, decay, om_x, om_y,\n",
    "                                   pav_width, pav_length-d_length, 50, 100)\n",
    "    bottom_roof = damped_sin_roof_pts(xy(d_width,d_length*1), 15-d_height,\n",
    "                                      3, 6, 8,\n",
    "                                      fi, decay, om_x, om_y_bottom,\n",
    "                                      pav_width - d_width*2, pav_length-2*d_length, 50, 100)\n",
    "    pinwheel_tiling.(pattern.(shape_grid_polygon_vertices,\n",
    "                              itera_2triangs([top_roof[1],bottom_roof[1]])),\n",
    "                     level=3)\n",
    "    pinwheel_tiling.(pattern.(shape_grid_polygon_vertices,\n",
    "                              itera_2triangs([top_roof[end],bottom_roof[end]])),\n",
    "                     level=3)\n",
    "    pinwheel_tiling.(pattern.(shape_grid_polygon_vertices,\n",
    "                              itera_2triangs([transpose_array(top_roof)[end],transpose_array(bottom_roof)[end]])),\n",
    "                     level=3)\n",
    "end"
   ]
  },
  {
   "cell_type": "markdown",
   "metadata": {},
   "source": [
    "|  | Expected result: |\n",
    "|-----------------------------------------------------------|-----------------------------------------------------------|\n",
    "| <img src=\"./Plots/pinwheel_roof_side.png\" width=\"700\"> | <img src=\"./Plots/pinwheel_closeup.png\" width=\"300\"> |"
   ]
  },
  {
   "cell_type": "markdown",
   "metadata": {},
   "source": [
    "### Roof lateral edges option 2: BIM version"
   ]
  },
  {
   "cell_type": "code",
   "execution_count": null,
   "metadata": {},
   "outputs": [],
   "source": [
    "pinwheel_tiling(pts; ratio1=0.383, level=1) =\n",
    "        map(pts -> panel(pts, family=yellow_panel_fam), pinwheel_recursive_rule(pts, ratio1, level))"
   ]
  },
  {
   "cell_type": "code",
   "execution_count": null,
   "metadata": {},
   "outputs": [],
   "source": [
    "@test begin\n",
    "    backend(unity)\n",
    "    delete_all_shapes()\n",
    "    ground()\n",
    "    top_roof = damped_sin_roof_pts(x(0), 15,\n",
    "                                   3, 6, 9,\n",
    "                                   fi, decay, om_x, om_y,\n",
    "                                   pav_width, pav_length-d_length, 50, 100)\n",
    "    bottom_roof = damped_sin_roof_pts(xy(d_width,d_length*1), 15-d_height,\n",
    "                                      3, 6, 8,\n",
    "                                      fi, decay, om_x, om_y_bottom,\n",
    "                                      pav_width - d_width*2, pav_length-2*d_length, 50, 100)\n",
    "    pinwheel_tiling.(pattern.(shape_grid_polygon_vertices,\n",
    "                              itera_2triangs([top_roof[1],bottom_roof[1]])),\n",
    "                     level=3)\n",
    "    pinwheel_tiling.(pattern.(shape_grid_polygon_vertices,\n",
    "                              itera_2triangs([top_roof[end],bottom_roof[end]])),\n",
    "                     level=3)\n",
    "    pinwheel_tiling.(pattern.(shape_grid_polygon_vertices,\n",
    "                              itera_2triangs([transpose_array(top_roof)[end],transpose_array(bottom_roof)[end]])),\n",
    "                     level=3)\n",
    "end"
   ]
  },
  {
   "cell_type": "code",
   "execution_count": null,
   "metadata": {},
   "outputs": [],
   "source": [
    "# render_dir(\"C:\\\\Users\\\\Renata\\\\Documents\\\\GitHub\\\\GymnasticsCenter_Moscow\\\\Plots\")\n",
    "# render_view(\"side_roof_panels_unity1\")"
   ]
  },
  {
   "cell_type": "markdown",
   "metadata": {},
   "source": [
    "|  | Expected result: |\n",
    "|-----------------------------------------------------------|-----------------------------------------------------------|\n",
    "| <img src=\"./Plots/side_roof_panels_unity1.png\" width=\"450\"> | <img src=\"./Plots/side_roof_panels_unity2.png\" width=\"450\"> |"
   ]
  },
  {
   "cell_type": "markdown",
   "metadata": {},
   "source": [
    "## Complete Roof structure"
   ]
  },
  {
   "cell_type": "markdown",
   "metadata": {},
   "source": [
    "Abstracting `pinwheel_tiling` function for the roof sides:"
   ]
  },
  {
   "cell_type": "code",
   "execution_count": null,
   "metadata": {},
   "outputs": [],
   "source": [
    "pinwhell_broad(pts1, pts2, rec_level) = \n",
    "    pinwheel_tiling.(pattern.(shape_grid_polygon_vertices, itera_2triangs([pts1,pts2])), level=rec_level)"
   ]
  },
  {
   "cell_type": "markdown",
   "metadata": {},
   "source": [
    "Roof point matices. `t_diff` defines the distance between the roof surface and the truss structure within. It's currently set to 20 cm:"
   ]
  },
  {
   "cell_type": "code",
   "execution_count": null,
   "metadata": {},
   "outputs": [],
   "source": [
    "top_roof_ptss(p, n_x, n_y, truss)=\n",
    "    let dist_y = pav_length-d_length\n",
    "        t_diff = truss ? 0.2 : 0\n",
    "        damped_sin_roof_pts(p, pav_height-t_diff,\n",
    "                            amp_x, amp_y_min_top, amp_y_max_top,\n",
    "                            fi, decay, om_x, om_y,\n",
    "                            pav_width, dist_y, n_x, n_y)\n",
    "    end\n",
    "\n",
    "bottom_roof_pts(p, n_x, n_y, truss)=\n",
    "    let dist_y = pav_length-d_length\n",
    "         t_diff = truss ? 0.2 : 0\n",
    "        damped_sin_roof_pts(p+vxy(d_width,d_length*1), pav_height-d_height+t_diff,\n",
    "                            amp_x, amp_y_min_top, amp_y_max_top,\n",
    "                            fi, decay, om_x, om_y_bottom,\n",
    "                            pav_width - d_width*2, pav_length-2*d_length,  n_x, n_y)\n",
    "    end"
   ]
  },
  {
   "cell_type": "markdown",
   "metadata": {},
   "source": [
    "Complete roof surface with top, bottom, and side panels:"
   ]
  },
  {
   "cell_type": "code",
   "execution_count": null,
   "metadata": {},
   "outputs": [],
   "source": [
    "roof_surf(p, n_x, n_y)=\n",
    "    let lev = pinwheel_rec_level\n",
    "        top_roof = top_roof_ptss(p, n_x, n_y, false)\n",
    "        bottom_roof = bottom_roof_pts(p, n_x, n_y, false)\n",
    "        # top and bottom aluminum roof tiles\n",
    "        map(ps->panel(ps, family=roof_panel_fam), itera_2triangs(top_roof))\n",
    "        map(ps->panel(ps, family=roof_panel_fam), itera_2triangs(bottom_roof))\n",
    "        # side yellow copper roof tiles\n",
    "        pinwhell_broad(top_roof[1], bottom_roof[1], lev)\n",
    "        pinwhell_broad(top_roof[end], bottom_roof[end], lev)\n",
    "        pinwhell_broad(transpose_array(top_roof)[end], transpose_array(bottom_roof)[end], lev)\n",
    "    end"
   ]
  },
  {
   "cell_type": "code",
   "execution_count": null,
   "metadata": {},
   "outputs": [],
   "source": [
    "@test begin\n",
    "    backend(unity)\n",
    "    delete_all_shapes()\n",
    "    ground()\n",
    "    roof_surf(u0(), 50, 100)\n",
    "end"
   ]
  },
  {
   "cell_type": "code",
   "execution_count": null,
   "metadata": {},
   "outputs": [],
   "source": [
    "# render_dir(\"C:\\\\Users\\\\Renata\\\\Documents\\\\GitHub\\\\GymnasticsCenter_Moscow\\\\Plots\")\n",
    "# render_view(\"complete_roof_panels_unity\")"
   ]
  },
  {
   "cell_type": "markdown",
   "metadata": {},
   "source": [
    "Expected result:\n",
    "<img src=\"./Plots/complete_roof_panels_unity.png\" width=\"800\">"
   ]
  },
  {
   "cell_type": "markdown",
   "metadata": {},
   "source": [
    "Truss sturcture function using the new point matices for the pavilion:"
   ]
  },
  {
   "cell_type": "code",
   "execution_count": null,
   "metadata": {},
   "outputs": [],
   "source": [
    "roof_truss(p, n_x, n_y)=\n",
    "    let top_roof = top_roof_ptss(p, n_x, n_y, true)\n",
    "        bottom_roof = bottom_roof_pts(p, n_x, n_y, true)\n",
    "        truss(vierendeel, top_ptss=top_roof, bottom_ptss=bottom_roof)\n",
    "    end"
   ]
  },
  {
   "cell_type": "code",
   "execution_count": null,
   "metadata": {},
   "outputs": [],
   "source": [
    "@test begin\n",
    "    backend(unity)\n",
    "    delete_all_shapes()\n",
    "    ground()\n",
    "    set_backend_family(yellow_panel_fam, unity, unity_material_family(\"Default/Materials/Glass\")) \n",
    "    roof_surf(u0(), 50, 100)\n",
    "    roof_truss(u0(), 30, 70)\n",
    "end"
   ]
  },
  {
   "cell_type": "code",
   "execution_count": null,
   "metadata": {},
   "outputs": [],
   "source": [
    "# render_dir(\"C:\\\\Users\\\\Renata\\\\Documents\\\\GitHub\\\\GymnasticsCenter_Moscow\\\\Plots\")\n",
    "# render_view(\"complete_roof_unity\")"
   ]
  },
  {
   "cell_type": "markdown",
   "metadata": {},
   "source": [
    "Expected result:\n",
    "<img src=\"./Plots/complete_roof_unity.png\" width=\"800\">"
   ]
  },
  {
   "cell_type": "markdown",
   "metadata": {},
   "source": [
    "## Glass Façade"
   ]
  },
  {
   "cell_type": "markdown",
   "metadata": {},
   "source": [
    "`splines4surf`maps splines over a matrix of points, to visualise surfaces in the notebook backend faster."
   ]
  },
  {
   "cell_type": "code",
   "execution_count": null,
   "metadata": {},
   "outputs": [],
   "source": [
    "function splines4surf(mtx)\n",
    "    [spline(pts) for pts in mtx]\n",
    "    [spline(pts) for pts in transpose_array(mtx)]\n",
    "end"
   ]
  },
  {
   "cell_type": "markdown",
   "metadata": {},
   "source": [
    "`damped_sin_glass_wall`creates the pavillion's side glass wall matrixes"
   ]
  },
  {
   "cell_type": "code",
   "execution_count": null,
   "metadata": {},
   "outputs": [],
   "source": [
    "damped_sin_glass_wall(p, a_y, fi, decay, om_y, dist_y, dist_z, n_y, n_z) =\n",
    "    map_division((y, z) ->\n",
    "                    y <= d_i ?\n",
    "                    p + vyz(y, -sin(y/d_i*(1*pi))) :\n",
    "                    p + vyz(y,\n",
    "                            z + (z/dist_z)*damped_sin_wave(a_y, decay, om_y, y)),\n",
    "             0, dist_y, n_y,\n",
    "             0, dist_z, n_z)"
   ]
  },
  {
   "cell_type": "code",
   "execution_count": null,
   "metadata": {},
   "outputs": [],
   "source": [
    "@test begin\n",
    "    backend(notebook)\n",
    "    new_backend()  \n",
    "    west_glass_wall = damped_sin_glass_wall(x(d_width),\n",
    "                                            amp_y_max_top,\n",
    "                                            fi, decay, om_y,\n",
    "                                            pav_length-2*d_length, pav_height-d_height, 20, 5)\n",
    "    east_glass_wall = damped_sin_glass_wall(x(pav_width-d_width),\n",
    "                                            amp_y_min_bottom,\n",
    "                                            fi, decay, om_y,\n",
    "                                            pav_length-2*d_length, pav_height-d_height, 20, 5)\n",
    "    splines4surf(west_glass_wall)\n",
    "end"
   ]
  },
  {
   "cell_type": "markdown",
   "metadata": {},
   "source": [
    "Expected result:\n",
    "<img src=\"./Plots/glass_lines.png\" width=\"800\">"
   ]
  },
  {
   "cell_type": "code",
   "execution_count": null,
   "metadata": {},
   "outputs": [],
   "source": [
    "@test begin\n",
    "    backend(autocad)\n",
    "    delete_all_shapes()  \n",
    "    west_glass_wall = damped_sin_glass_wall(x(d_width),\n",
    "                                            amp_y_max_top,\n",
    "                                            fi, decay, om_y,\n",
    "                                            pav_length-2*d_length, pav_height-d_height, 40, 10)\n",
    "    east_glass_wall = damped_sin_glass_wall(x(pav_width-d_width),\n",
    "                                            amp_y_min_bottom,\n",
    "                                            fi, decay, om_y,\n",
    "                                            pav_length-2*d_length, pav_height-d_height, 40, 10)\n",
    "    splines4surf(west_glass_wall)\n",
    "    splines4surf(east_glass_wall)\n",
    "end"
   ]
  },
  {
   "cell_type": "markdown",
   "metadata": {},
   "source": [
    "Expected result:\n",
    "<img src=\"./Plots/glass_lines_cad2.png\" width=\"800\">"
   ]
  },
  {
   "cell_type": "markdown",
   "metadata": {},
   "source": [
    "### Glass option 1: surface polygons"
   ]
  },
  {
   "cell_type": "markdown",
   "metadata": {},
   "source": [
    "`itera_sweeked`creates the pavillion glass walls"
   ]
  },
  {
   "cell_type": "code",
   "execution_count": null,
   "metadata": {},
   "outputs": [],
   "source": [
    "itera_sweeked(ptss) =\n",
    "    vcat([[let p23=intermediate_loc(p2, p3),\n",
    "               p24=intermediate_loc(p2, p4)\n",
    "             [p0,p1,p24,p23]\n",
    "           end\n",
    "          for (p0,p1,p2,p3,p4)\n",
    "          in zip(pts0[1:end-1], pts1[1:end-1], pts1[2:end], pts0[2:end], pts2[2:end])]\n",
    "         for (pts0, pts1, pts2)\n",
    "         in zip(ptss[1:end-2], ptss[2:end-1],ptss[3:end])]...)"
   ]
  },
  {
   "cell_type": "code",
   "execution_count": null,
   "metadata": {
    "scrolled": false
   },
   "outputs": [],
   "source": [
    "@test begin\n",
    "    backend(meshcat)\n",
    "    new_backend()\n",
    "    @manipulate for ampy_bottom_min = widget(1:0.1:12, label=\"Minimum Amplitude y\"),\n",
    "                    ampy_bottom_max = widget(1:0.1:12, label=\"Maximum Amplitude y\"),\n",
    "                    h = widget(2:1:20, label=\"Height\")\n",
    "                delete_all_shapes()\n",
    "                west_glass_wall = damped_sin_glass_wall(x(d_width),\n",
    "                                                        ampy_bottom_max,\n",
    "                                                        fi, decay, om_y,\n",
    "                                                        pav_length-2*d_length, h-d_height, 85, 20)\n",
    "                east_glass_wall = damped_sin_glass_wall(x(pav_width-d_width),\n",
    "                                                        ampy_bottom_min,\n",
    "                                                        fi, decay, om_y,\n",
    "                                                        pav_length-2*d_length, h-d_height, 85, 20)\n",
    "                map(ps->surface_polygon(ps), itera_sweeked(west_glass_wall))\n",
    "                map(ps->surface_polygon(ps), itera_sweeked(east_glass_wall))\n",
    "    end\n",
    "end"
   ]
  },
  {
   "cell_type": "markdown",
   "metadata": {},
   "source": [
    "Expected result:\n",
    "<img src=\"./Plots/glass_polys2.png\" width=\"800\">"
   ]
  },
  {
   "cell_type": "markdown",
   "metadata": {},
   "source": [
    "### Glass option 2: vertical BIM panels of diferent sizes"
   ]
  },
  {
   "cell_type": "markdown",
   "metadata": {},
   "source": [
    "Given a list of points (closed polygon vertices), this function creates a polygonal glass panel surrounded by a thin metal framing all around:"
   ]
  },
  {
   "cell_type": "code",
   "execution_count": null,
   "metadata": {},
   "outputs": [],
   "source": [
    "framed_panel(pts)=\n",
    "    begin\n",
    "        panel(pts, family=default_panel_family())\n",
    "        for (p,q) in zip(pts, [pts[2:end]...,pts[1]])\n",
    "            free_column(p,q, family=frame_fam)\n",
    "        end\n",
    "    end"
   ]
  },
  {
   "cell_type": "markdown",
   "metadata": {},
   "source": [
    "Frame BIM family"
   ]
  },
  {
   "cell_type": "code",
   "execution_count": null,
   "metadata": {},
   "outputs": [],
   "source": [
    "frame_width=0.1\n",
    "frame_fam = column_family_element(default_column_family(), profile=rectangular_profile(frame_width, frame_width))"
   ]
  },
  {
   "cell_type": "code",
   "execution_count": null,
   "metadata": {},
   "outputs": [],
   "source": [
    "@test begin\n",
    "\n",
    "    backend(meshcat)\n",
    "    new_backend()\n",
    "    @manipulate for radius = widget(1:1:5, label=\"Radius\"),\n",
    "                    sides = widget(1:1:10, label=\"Sides\"),\n",
    "                    angle = widget(1:1:20, label=\"Angle\")\n",
    "                    delete_all_shapes()        \n",
    "                    framed_panel(regular_polygon_vertices(sides, x(-10), radius, angle))\n",
    "                    framed_panel(regular_polygon_vertices(sides+2, x(0), radius, angle))\n",
    "                    framed_panel(regular_polygon_vertices(sides+5, x(10), radius, angle))\n",
    "                    end\n",
    "  \n",
    "end"
   ]
  },
  {
   "cell_type": "markdown",
   "metadata": {},
   "source": [
    "Expected result:\n",
    "<img src=\"./Plots/framed_panel.png\" width=\"800\">"
   ]
  },
  {
   "cell_type": "markdown",
   "metadata": {},
   "source": [
    "Creates a vertical line of `framed_panels` given a list of points in z:"
   ]
  },
  {
   "cell_type": "code",
   "execution_count": null,
   "metadata": {},
   "outputs": [],
   "source": [
    "vertical_panel_line(pts, v, panel_width)=\n",
    "    let pav_panel(p, q) = framed_panel([p, p+v*panel_width, q+v*panel_width, q])\n",
    "        [pav_panel(p, q) for (p, q) in zip(pts[1:end-1], pts[2:end])]\n",
    "    end"
   ]
  },
  {
   "cell_type": "markdown",
   "metadata": {},
   "source": [
    "Wall points correction:"
   ]
  },
  {
   "cell_type": "code",
   "execution_count": null,
   "metadata": {},
   "outputs": [],
   "source": [
    "damped_sin_glass_wall(p, a_y, fi, decay, om_y, dist_y, dist_z, n_y, n_z) =\n",
    "    map_division((y, z) ->\n",
    "                    y <= d_i ?\n",
    "                    p + vyz(-sin(y/d_i*(1*pi)), z) :\n",
    "                    p + vyz(y,\n",
    "                            z + (z/dist_z)*damped_sin_wave(a_y, decay, om_y, y)),\n",
    "             0, dist_y, n_y,\n",
    "             0, dist_z, n_z)"
   ]
  },
  {
   "cell_type": "code",
   "execution_count": null,
   "metadata": {},
   "outputs": [],
   "source": [
    "@test begin\n",
    "    backend(autocad)\n",
    "    delete_all_shapes()  \n",
    "    west_glass_wall = damped_sin_glass_wall(xy(d_width, d_length),\n",
    "                                            amp_y_max_top,\n",
    "                                            fi, decay, om_y_bottom,\n",
    "                                            pav_length-2*d_length, pav_height-d_height, 40, 10)\n",
    "    east_glass_wall = damped_sin_glass_wall(xy(pav_width-d_width, d_length),\n",
    "                                            amp_y_min_bottom,\n",
    "                                            fi, decay, om_y_bottom,\n",
    "                                            pav_length-2*d_length, pav_height-d_height, 40, 10)\n",
    "    splines4surf(west_glass_wall)\n",
    "    splines4surf(east_glass_wall)\n",
    "#     surface_grid(bottom_roof_pts(u0(), 40, 100, false))\n",
    "end"
   ]
  },
  {
   "cell_type": "markdown",
   "metadata": {},
   "source": [
    "Expected result:\n",
    "<img src=\"./Plots/glass_lines_cad.png\" width=\"800\">"
   ]
  },
  {
   "cell_type": "code",
   "execution_count": null,
   "metadata": {},
   "outputs": [],
   "source": [
    "@test begin\n",
    "    backend(autocad)\n",
    "    n_y = 40\n",
    "    n_z = 10\n",
    "    dist_y = pav_length-2*d_length\n",
    "    dist_z = pav_height-d_height\n",
    "    west_glass_wall = damped_sin_glass_wall(x(d_width),\n",
    "                                            amp_y_max_top,\n",
    "                                            fi, decay, om_y,\n",
    "                                            dist_y, dist_z, n_y, n_z)\n",
    "    east_glass_wall = damped_sin_glass_wall(x(pav_width-d_width),\n",
    "                                            amp_y_min_bottom,\n",
    "                                            fi, decay, om_y,\n",
    "                                            dist_y, dist_z, n_y, n_z)\n",
    "    panel_width = dist_y/n_y\n",
    "    vertical_panel_line(west_glass_wall[1], vy(1), panel_width)\n",
    "end"
   ]
  },
  {
   "cell_type": "markdown",
   "metadata": {},
   "source": [
    "Expected result:\n",
    "<img src=\"./Plots/first_row_panels.png\" width=\"800\">"
   ]
  },
  {
   "cell_type": "markdown",
   "metadata": {},
   "source": [
    "Same function, but vector `v` now already considers the panel width, it's not a normal vector anymore:"
   ]
  },
  {
   "cell_type": "code",
   "execution_count": null,
   "metadata": {},
   "outputs": [],
   "source": [
    "vertical_panel_line(pts, v)=\n",
    "    let pav_panel(p, q) = framed_panel([p, p+v, q+v, q])\n",
    "        [pav_panel(p, q) for (p, q) in zip(pts[1:end-1], pts[2:end])]\n",
    "    end"
   ]
  },
  {
   "cell_type": "markdown",
   "metadata": {},
   "source": [
    "Makes a `vertical_panel_line` for all lines in the matrix:"
   ]
  },
  {
   "cell_type": "code",
   "execution_count": null,
   "metadata": {},
   "outputs": [],
   "source": [
    "vertical_panel_lines(mtx)=\n",
    "    let v = mtx[2][1]-mtx[1][1]\n",
    "        [vertical_panel_line(pts, v) for pts in mtx]\n",
    "    end"
   ]
  },
  {
   "cell_type": "code",
   "execution_count": null,
   "metadata": {},
   "outputs": [],
   "source": [
    "@test begin\n",
    "    backend(autocad)\n",
    "    n_y = 40\n",
    "    n_z = 10\n",
    "    dist_y = pav_length-2*d_length\n",
    "    dist_z = pav_height-d_height\n",
    "    east_glass_wall = damped_sin_glass_wall(x(pav_width-d_width),\n",
    "                                            amp_y_min_bottom,\n",
    "                                            fi, decay, om_y,\n",
    "                                            dist_y, dist_z, n_y, n_z)\n",
    "    delete_all_shapes()\n",
    "    vertical_panel_lines(west_glass_wall)\n",
    "end"
   ]
  },
  {
   "cell_type": "markdown",
   "metadata": {},
   "source": [
    "Expected result:\n",
    "<img src=\"./Plots/weast_facade_panel.png\" width=\"800\">"
   ]
  },
  {
   "cell_type": "markdown",
   "metadata": {},
   "source": [
    "### Glass option 3: same size vertical BIM panels"
   ]
  },
  {
   "cell_type": "markdown",
   "metadata": {},
   "source": [
    "Predicate functions: is current `z` is above the limit ?"
   ]
  },
  {
   "cell_type": "code",
   "execution_count": null,
   "metadata": {},
   "outputs": [],
   "source": [
    "is_above_z_limit(z, z_lim)= z > z_lim"
   ]
  },
  {
   "cell_type": "markdown",
   "metadata": {},
   "source": [
    "`vert_pts` creates the orgin points for all vertical panels above p. Stops creating points in z when the set limit is reached:"
   ]
  },
  {
   "cell_type": "code",
   "execution_count": null,
   "metadata": {},
   "outputs": [],
   "source": [
    "vert_pts(p, panel_height, z_lim) = is_above_z_limit(p.z, z_lim) ? [p] : [p, vert_pts(p+vz(panel_height), panel_height, z_lim)...]"
   ]
  },
  {
   "cell_type": "markdown",
   "metadata": {},
   "source": [
    "`damped_sin_glass_wall` creates a vertical line of panels for all points between `p` and `p+vy(dist_y)`. The `z_limit` for all vertical lines of panels is defined by the`z` value of the `damped_sin_wave` at any moment in the `y` progression."
   ]
  },
  {
   "cell_type": "code",
   "execution_count": null,
   "metadata": {},
   "outputs": [],
   "source": [
    "damped_sin_glass_wall(p, a_y, fi, decay, om_y, dist_y, dist_z, n_y, n_z, panel_height) =\n",
    "    let pts = map_division(y -> p+vy(y), 0, dist_y, n_y)\n",
    "    zs = map_division(y -> dist_z+damped_sin_wave(a_y, decay, om_y, y), 0, dist_y, n_y) \n",
    "    [vert_pts(p, panel_height, z_lim) for (p, z_lim) in zip(pts, zs)]\n",
    "    end"
   ]
  },
  {
   "cell_type": "markdown",
   "metadata": {},
   "source": [
    " `glass_panel_height` defines façade glass panel's height (width is defined by the number of points in the `damped_sinusoid` array)"
   ]
  },
  {
   "cell_type": "code",
   "execution_count": null,
   "metadata": {},
   "outputs": [],
   "source": [
    "@test begin\n",
    "    backend(autocad)\n",
    "    glass_panel_height = 0.5\n",
    "    n_y = 40\n",
    "    n_z = 10\n",
    "    dist_y = pav_length-2*d_length\n",
    "    dist_z = pav_height-d_height\n",
    "    west_glass_wall = damped_sin_glass_wall(x(d_width),\n",
    "                                            amp_y_max_top,\n",
    "                                            fi, decay, om_y,\n",
    "                                            dist_y, dist_z, n_y, n_z, glass_panel_height)\n",
    "    east_glass_wall = damped_sin_glass_wall(x(pav_width-d_width),\n",
    "                                            amp_y_min_bottom,\n",
    "                                            fi, decay, om_y,\n",
    "                                            dist_y, dist_z, n_y, n_z, glass_panel_height)\n",
    "    delete_all_shapes()\n",
    "    vertical_panel_lines(west_glass_wall)\n",
    "end"
   ]
  },
  {
   "cell_type": "markdown",
   "metadata": {},
   "source": [
    "Expected result:\n",
    "<img src=\"./Plots/planels_2d_try_cad.png\" width=\"800\">"
   ]
  },
  {
   "cell_type": "markdown",
   "metadata": {},
   "source": [
    "### Glass option 4: intercalated rows of vertical BIM panels"
   ]
  },
  {
   "cell_type": "markdown",
   "metadata": {},
   "source": [
    "Diffrent starting point for vertical panels in the odd case:"
   ]
  },
  {
   "cell_type": "code",
   "execution_count": null,
   "metadata": {},
   "outputs": [],
   "source": [
    "vert_pts_odd(p, panel_height, z_lim) = [p, vert_pts(p+vz(panel_height/2), panel_height, z_lim)...]"
   ]
  },
  {
   "cell_type": "markdown",
   "metadata": {},
   "source": [
    "Interweaving 2 different functions depending on `count` being pair or odd:"
   ]
  },
  {
   "cell_type": "code",
   "execution_count": null,
   "metadata": {},
   "outputs": [],
   "source": [
    "f_weave(f1, f2, count) = isodd(count) ? f1 : f2"
   ]
  },
  {
   "cell_type": "markdown",
   "metadata": {},
   "source": [
    "Interweaved version of the `damped_sin_glass_wall` function. Different starting height for the first panel of odd rows."
   ]
  },
  {
   "cell_type": "code",
   "execution_count": null,
   "metadata": {},
   "outputs": [],
   "source": [
    "damped_sin_glass_wall(p, a_y, fi, decay, om_y, dist_y, dist_z, n_y, n_z, panel_height) =\n",
    "    let pts = map_division(y -> p+vy(y), 0, dist_y, n_y)\n",
    "        zs = map_division(y -> dist_z+damped_sin_wave(a_y, decay, om_y, y), 0, dist_y, n_y) \n",
    "        ns = 1:length(zs)\n",
    "     [f_weave(vert_pts_odd(p, panel_height, z_lim),vert_pts(p, panel_height, z_lim), count) for (p, z_lim, count) in zip(pts, zs, ns)]\n",
    "    end"
   ]
  },
  {
   "cell_type": "code",
   "execution_count": null,
   "metadata": {},
   "outputs": [],
   "source": [
    "@test begin\n",
    "    backend(autocad)\n",
    "    glass_panel_height = 1\n",
    "    n_y = 40\n",
    "    n_z = 10\n",
    "    dist_y = pav_length-2*d_length\n",
    "    dist_z = pav_height-d_height\n",
    "    west_glass_wall = damped_sin_glass_wall(x(d_width),\n",
    "                                            amp_y_max_top,\n",
    "                                            fi, decay, om_y,\n",
    "                                            dist_y, dist_z, n_y, n_z, glass_panel_height)\n",
    "    delete_all_shapes()\n",
    "    vertical_panel_lines(west_glass_wall)\n",
    "end"
   ]
  },
  {
   "cell_type": "markdown",
   "metadata": {},
   "source": [
    "Expected result:\n",
    "<img src=\"./Plots/panels_weave.png\" width=\"800\">"
   ]
  },
  {
   "cell_type": "markdown",
   "metadata": {},
   "source": [
    "`vertical_panel_line` corrections to match roof wave:"
   ]
  },
  {
   "cell_type": "code",
   "execution_count": null,
   "metadata": {},
   "outputs": [],
   "source": [
    "vertical_panel_line_centred(pts, v)=\n",
    "    let pav_panel(p, q) = framed_panel([p, p+v, q+v, q])\n",
    "        [pav_panel(p-v/2, q-v/2) for (p, q) in zip(pts[1:end-1], pts[2:end])]\n",
    "    end"
   ]
  },
  {
   "cell_type": "code",
   "execution_count": null,
   "metadata": {},
   "outputs": [],
   "source": [
    "centred_vertical_panel_lines(mtx)=\n",
    "    let v = mtx[2][1]-mtx[1][1]\n",
    "        [vertical_panel_line_centred(pts, v) for pts in mtx]\n",
    "    end"
   ]
  },
  {
   "cell_type": "code",
   "execution_count": null,
   "metadata": {},
   "outputs": [],
   "source": [
    "@test begin\n",
    "    backend(autocad)\n",
    "    delete_all_shapes()\n",
    "    west_glass_wall_i = damped_sin_glass_wall(xy(d_width, d_length),\n",
    "                                                amp_y_max_top,\n",
    "                                                fi, decay,  om_y_bottom,\n",
    "                                                dist_y, dist_z, n_y, n_z)\n",
    "    west_glass_wall_r = damped_sin_glass_wall(xy(d_width, d_length),\n",
    "                                                amp_y_max_top,\n",
    "                                                fi, decay, om_y_bottom,\n",
    "                                                dist_y, dist_z, n_y, n_z, glass_panel_height)\n",
    "    splines4surf(west_glass_wall_i)\n",
    "    centred_vertical_panel_lines(west_glass_wall_r)\n",
    "end"
   ]
  },
  {
   "cell_type": "markdown",
   "metadata": {},
   "source": [
    "Expected result:\n",
    "<img src=\"./Plots/wall_panel_comparison.png\" width=\"800\">"
   ]
  },
  {
   "cell_type": "code",
   "execution_count": null,
   "metadata": {},
   "outputs": [],
   "source": [
    "@test begin\n",
    "    backend(unity)\n",
    "    delete_all_shapes()\n",
    "    n_y = 100\n",
    "    n_z = 10\n",
    "    dist_y = pav_length-2*d_length\n",
    "    dist_z = pav_height-d_height\n",
    "    west_glass_wall = damped_sin_glass_wall(xy(d_width, d_length),\n",
    "                                            amp_y_max_top,\n",
    "                                            fi, decay, om_y_bottom,\n",
    "                                            dist_y, dist_z, n_y, n_z, glass_panel_height)\n",
    "    east_glass_wall = damped_sin_glass_wall(xy(pav_width-d_width, d_length),\n",
    "                                            amp_y_min_bottom,\n",
    "                                            fi, decay, om_y_bottom,\n",
    "                                            dist_y, dist_z, n_y, n_z, glass_panel_height)\n",
    "    ground()\n",
    "    roof_surf(u0(), 50, 100)\n",
    "    centred_vertical_panel_lines(west_glass_wall)\n",
    "    centred_vertical_panel_lines(east_glass_wall)\n",
    "end"
   ]
  },
  {
   "cell_type": "code",
   "execution_count": null,
   "metadata": {},
   "outputs": [],
   "source": [
    "# render_dir(\"C:\\\\Users\\\\Renata\\\\Documents\\\\GitHub\\\\GymnasticsCenter_Moscow\\\\Plots\")\n",
    "# render_view(\"roof_side_walls_unity\")"
   ]
  },
  {
   "cell_type": "markdown",
   "metadata": {},
   "source": [
    "Expected result:\n",
    "<img src=\"./Plots/roof_side_walls_unity.png\" width=\"800\">"
   ]
  },
  {
   "cell_type": "markdown",
   "metadata": {},
   "source": [
    "### Adding front glass wall"
   ]
  },
  {
   "cell_type": "code",
   "execution_count": null,
   "metadata": {},
   "outputs": [],
   "source": [
    "damped_sin_front_wall(p, a_x, fi, decay, om_x, dist_x, dist_z, n_x, n_z, panel_height) =\n",
    "    let pts = map_division(x -> p+vx(x), 0, dist_x, n_x)\n",
    "        zs = map_division(x -> dist_z+sin(x/dist_x*pi)*sinusoidal(a_x, om_x, fi-pi, x), 0, dist_x, n_x)\n",
    "        ns = 1:length(zs)\n",
    "     [f_weave(vert_pts_odd(p, panel_height, z_lim),vert_pts(p, panel_height, z_lim), count) for (p, z_lim, count) in zip(pts, zs, ns)]\n",
    "    end"
   ]
  },
  {
   "cell_type": "markdown",
   "metadata": {},
   "source": [
    "This function joins all glass walls in the pavilion (sides and front):"
   ]
  },
  {
   "cell_type": "code",
   "execution_count": null,
   "metadata": {},
   "outputs": [],
   "source": [
    "pav_walls(p, n_x, n_y, n_z)=\n",
    "    let dist_y = pav_length-2*d_length\n",
    "        dist_z = pav_height-d_height\n",
    "        dist_x = pav_width-d_width*2\n",
    "        west_glass_wall = damped_sin_glass_wall(p+vxy(d_width, d_length),\n",
    "                                            amp_y_max_top,\n",
    "                                            fi, decay, om_y_bottom,\n",
    "                                            dist_y, dist_z, n_y, n_z, glass_panel_height)\n",
    "        east_glass_wall = damped_sin_glass_wall(p+vxy(pav_width-d_width, d_length),\n",
    "                                            amp_y_min_bottom,\n",
    "                                            fi, decay, om_y_bottom,\n",
    "                                            dist_y, dist_z, n_y, n_z, glass_panel_height)       \n",
    "        panel_w = norm(west_glass_wall[2][1]-west_glass_wall[1][1])\n",
    "        north_glass_wall = damped_sin_front_wall(p+vxy(d_width, dist_y+panel_w/2), \n",
    "                                            amp_x, fi, decay, om_x, \n",
    "                                            dist_x, dist_z, n_x, n_z, glass_panel_height)\n",
    "    centred_vertical_panel_lines(west_glass_wall[1:end-1])\n",
    "    centred_vertical_panel_lines(east_glass_wall[1:end-1])\n",
    "    vertical_panel_lines(north_glass_wall[1:end-1])\n",
    "end"
   ]
  },
  {
   "cell_type": "code",
   "execution_count": null,
   "metadata": {},
   "outputs": [],
   "source": [
    "@test begin\n",
    "    backend(unity)\n",
    "    delete_all_shapes()\n",
    "    ground()\n",
    "    roof_surf(u0(), 50, n_panels_y)\n",
    "    pav_walls(u0(), 50, n_panels_y, n_glass_verts)\n",
    "    set_view(xyz(29.727153778076172,163.0078582763672,10.998817443847656), xyz(29.728837966918945,162.0078582763672,10.998811721801758), 35.0)\n",
    "#     render_dir(\"C:\\\\Users\\\\Renata\\\\Documents\\\\GitHub\\\\GymnasticsCenter_Moscow\\\\Plots\")\n",
    "#     render_view(\"all_walls_unity\")\n",
    "end"
   ]
  },
  {
   "cell_type": "markdown",
   "metadata": {},
   "source": [
    "Expected result:\n",
    "<img src=\"./Plots/all_walls_unity.png\" width=\"800\">"
   ]
  },
  {
   "cell_type": "markdown",
   "metadata": {},
   "source": [
    "## Interior Plan"
   ]
  },
  {
   "cell_type": "markdown",
   "metadata": {},
   "source": [
    "BIM families for walls and slabs:"
   ]
  },
  {
   "cell_type": "code",
   "execution_count": null,
   "metadata": {},
   "outputs": [],
   "source": [
    "pav_slab_fam = slab_family_element(default_slab_family(), thickness=pav_slab_thickness);"
   ]
  },
  {
   "cell_type": "code",
   "execution_count": null,
   "metadata": {},
   "outputs": [],
   "source": [
    "pav_wall_struct_fam = wall_family_element(default_wall_family(), thickness=pav_struct_thickness);"
   ]
  },
  {
   "cell_type": "markdown",
   "metadata": {},
   "source": [
    "`pav_slabs` creates the main slabs"
   ]
  },
  {
   "cell_type": "code",
   "execution_count": null,
   "metadata": {},
   "outputs": [],
   "source": [
    "pav_slabs(p, length, height, width, n_floors)=\n",
    "    for i in division(0, height-2, n_floors, false)\n",
    "        slab(rectangular_path(p, width, length), level=i, family=pav_slab_fam)\n",
    "    end"
   ]
  },
  {
   "cell_type": "code",
   "execution_count": null,
   "metadata": {},
   "outputs": [],
   "source": [
    "@test begin   \n",
    "    backend(autocad) \n",
    "    delete_all_shapes()\n",
    "    pav_slabs(u0(), 10, 7, 4, 3)\n",
    "end"
   ]
  },
  {
   "cell_type": "markdown",
   "metadata": {},
   "source": [
    "Expected result:\n",
    "<img src=\"./Plots/slabs.png\" width=\"400\">"
   ]
  },
  {
   "cell_type": "markdown",
   "metadata": {},
   "source": [
    "Update `pav_slabs` to include interior walls:"
   ]
  },
  {
   "cell_type": "code",
   "execution_count": null,
   "metadata": {},
   "outputs": [],
   "source": [
    "pav_slabs_walls(p, length, height, width, n_floors, n_x, n_y)=\n",
    "    let level_to_level_height = (height-2)/n_floors\n",
    "        for i in division(0, height-2, n_floors, false)\n",
    "            slab(rectangular_path(p, width, length), level=i, family=pav_slab_fam)\n",
    "        end\n",
    "        for i in division(0, height-2-level_to_level_height, n_floors-1, false)\n",
    "            walls_x = [wall([p+vx(x), p+vxy(x, length)], bottom_level=i, top_level=level_to_level_height+i) \n",
    "                for x in division(width/n_x-1, width, n_x, false)]\n",
    "            walls_y = [wall([p+vy(y), p+vxy(width, y)], bottom_level=i, top_level=level_to_level_height+i) \n",
    "                for y in division(length/n_y-1, length, n_y, false)]\n",
    "        end\n",
    "    end "
   ]
  },
  {
   "cell_type": "markdown",
   "metadata": {},
   "source": [
    "`floors` joins structural walls to the previous function: "
   ]
  },
  {
   "cell_type": "code",
   "execution_count": null,
   "metadata": {},
   "outputs": [],
   "source": [
    "function floors(p)\n",
    "    let panel_w = (pav_length-2*d_length)/n_panels_y\n",
    "        dist_x = pav_width-d_width*2\n",
    "        dist_y_1 = (pav_length-d_length*2)/3\n",
    "        dist_y_2 = (pav_length-d_length*2)*2/3\n",
    "        dist_z = pav_height-d_height\n",
    "    \n",
    "    # structural walls\n",
    "    wall([p+vxy(d_width, dist_y_1), p+vxy(pav_width-d_width, dist_y_1)], \n",
    "            top_level = level(dist_z), family=pav_wall_struct_fam)\n",
    "    wall([p+vxy(d_width, dist_y_2), p+vxy(pav_width-d_width, dist_y_2)], \n",
    "            top_level = level(dist_z), family=pav_wall_struct_fam)\n",
    "        \n",
    "    # floor plans\n",
    "    pav_slabs_walls(p+vxy(d_width, dist_y_1), dist_y_2+panel_w/2, dist_z, \n",
    "        dist_x, n_floors, n_wall_in_width, n_wall_in_length)\n",
    "    slab(rectangular_path(p+vx(d_width), dist_x, dist_y_1), level=0, family=pav_slab_fam)\n",
    "\n",
    "    end\n",
    "end"
   ]
  },
  {
   "cell_type": "code",
   "execution_count": null,
   "metadata": {},
   "outputs": [],
   "source": [
    "@test begin\n",
    "    backend(autocad) \n",
    "    delete_all_shapes()\n",
    "    floors(u0())\n",
    "end"
   ]
  },
  {
   "cell_type": "markdown",
   "metadata": {},
   "source": [
    "Expected result:\n",
    "<img src=\"./Plots/slab_wall.png\" width=\"600\">"
   ]
  },
  {
   "cell_type": "code",
   "execution_count": null,
   "metadata": {},
   "outputs": [],
   "source": [
    "@test begin\n",
    "    backend(unity) \n",
    "    delete_all_shapes()\n",
    "    set_backend_family(ground_fam, unity, unity_material_family(\"Default/Materials/Grass\"))\n",
    "    ground()\n",
    "    pav_walls(u0(), n_panels_x, n_panels_y, n_glass_verts)\n",
    "    roof_surf(u0(), n_panels_x, n_panels_y)\n",
    "    floors(u0())\n",
    "    set_view(xyz(120.72909545898438,142.31788635253906,18.540668487548828), xyz(120.00056457519531,141.63906860351562,18.4487361907959), 35.0)\n",
    "#     render_dir(\"C:\\\\Users\\\\Renata\\\\Documents\\\\GitHub\\\\GymnasticsCenter_Moscow\\\\Plots\")\n",
    "#     render_view(\"interior_walls_unity\")    \n",
    "end"
   ]
  },
  {
   "cell_type": "markdown",
   "metadata": {},
   "source": [
    "Expected result:\n",
    "<img src=\"./Plots/interior_walls_unity.png\" width=\"800\">"
   ]
  },
  {
   "cell_type": "markdown",
   "metadata": {},
   "source": [
    "## Site"
   ]
  },
  {
   "cell_type": "markdown",
   "metadata": {},
   "source": [
    "Random tree definition:"
   ]
  },
  {
   "cell_type": "code",
   "execution_count": null,
   "metadata": {},
   "outputs": [],
   "source": [
    "leaf(p, r, mat) =\n",
    "    if current_backend() == unity\n",
    "        with(current_material, get_material(mat)) do\n",
    "            sphere(p, r)\n",
    "        end\n",
    "    else\n",
    "        sphere(p, r)\n",
    "    end\n",
    "\n",
    "\n",
    "branch(pb, rb, pt, rt, mat)=\n",
    "    if current_backend() == unity\n",
    "        with(current_material, get_material(mat)) do\n",
    "            cone_frustum(pb, rb, pt, rt)\n",
    "        end\n",
    "    else\n",
    "        cone_frustum(pb, rb, pt, rt)\n",
    "    end\n",
    "\n",
    "\n",
    "tree(p_base, r_base, w_branch, fi, psi, min_f_w, max_f_w, max_fi, min_psi, max_psi) =\n",
    "  let psi = psi > pi/2 ? psi - pi/2 : psi < -pi/2 ? psi + pi/2 : psi\n",
    "      p_top = p_base + vsph(w_branch, fi, psi)\n",
    "      r_top = r_base/2\n",
    "      leaf_mat = \"Default/Materials/Grass\"\n",
    "      branch_mat = \"materials/wood/ExteriorWood9\"\n",
    "      branch(p_base, r_base, p_top, r_top, branch_mat)\n",
    "      if w_branch < 0.01 || r_top < 0.001\n",
    "          leaf(p_top, 0.05, leaf_mat)\n",
    "      else\n",
    "          tree(p_top, r_top, w_branch*random_range(min_f_w, max_f_w), \n",
    "            fi + random(max_fi), psi + random_range(min_psi, max_psi), \n",
    "            min_f_w, max_f_w, max_fi, min_psi, max_psi)\n",
    "          tree(p_top, r_top, w_branch*random_range(min_f_w, max_f_w), \n",
    "            fi - random(max_fi), psi - random_range(min_psi, max_psi), \n",
    "            min_f_w, max_f_w, max_fi, min_psi, max_psi)\n",
    "      end\n",
    "  end\n",
    "\n",
    "\n",
    "random_tree(p)=\n",
    "  let r_base = random_range(0.05, 0.3)\n",
    "      w_branch = random_range(2, 5)\n",
    "      fi = 0\n",
    "      psi = 0\n",
    "      min_f_w = 0.6 # branch width max factor\n",
    "      max_f_w = 0.9 # branch width min factor\n",
    "      max_fi = 2pi\n",
    "      min_psi = pi/16\n",
    "      max_psi = pi/2\n",
    "      tree(p, r_base, w_branch, fi, psi, min_f_w, max_f_w, max_fi, min_psi, max_psi)\n",
    "\n",
    "end"
   ]
  },
  {
   "cell_type": "code",
   "execution_count": null,
   "metadata": {},
   "outputs": [],
   "source": [
    "@test begin\n",
    "    backend(unity) \n",
    "    delete_all_shapes()\n",
    "    ground()\n",
    "    map(n -> random_tree(x(n)), 0:2:20)\n",
    "#     render_view(\"tress\")\n",
    "end"
   ]
  },
  {
   "cell_type": "markdown",
   "metadata": {},
   "source": [
    "Expected result:\n",
    "<img src=\"./Plots/trees.png\" width=\"800\">"
   ]
  },
  {
   "cell_type": "markdown",
   "metadata": {},
   "source": [
    "## Backend specifics"
   ]
  },
  {
   "cell_type": "markdown",
   "metadata": {},
   "source": [
    "Ground:"
   ]
  },
  {
   "cell_type": "code",
   "execution_count": null,
   "metadata": {},
   "outputs": [],
   "source": [
    "ground_fam = slab_family_element(default_slab_family())\n",
    "ground() =\n",
    "    let x = 1000\n",
    "        y = 1000\n",
    "        z = -0.01\n",
    "      slab(closed_polygonal_path([xyz(-x,y,z), xyz(x,y,z), xyz(x,-y,z), xyz(-x,-y,z)]), level(-0.05), ground_fam)\n",
    "    end"
   ]
  },
  {
   "cell_type": "markdown",
   "metadata": {},
   "source": [
    "BIM family materials for Unity backend:"
   ]
  },
  {
   "cell_type": "code",
   "execution_count": null,
   "metadata": {},
   "outputs": [],
   "source": [
    "set_backend_family(default_truss_bar_family(), unity, unity_material_family(\"Default/Materials/Aluminum\"))\n",
    "set_backend_family(free_node_fam, unity, unity_material_family(\"Default/Materials/Aluminum\"))\n",
    "set_backend_family(sup_node_fam, unity, unity_material_family(\"materials/metal/Copper\"))\n",
    "set_backend_family(ground_fam, unity, unity_material_family(\"Default/Materials/Grass\")) # -- grass ground\n",
    "# set_backend_family(ground_fam, unity, unity_material_family(\"Default/Materials/White\")) # -- white ground\n",
    "# set_backend_family(ground_fam, unity, unity_material_family(\"Default/Materials/WhiteUnlit\")) # -- white ground no shadows\n",
    "set_backend_family(default_panel_family(), unity, unity_material_family(\"Default/Materials/GlassBlue\"))\n",
    "set_backend_family(frame_fam, unity, unity_material_family(\"Default/Materials/Steel\"))\n",
    "set_backend_family(roof_panel_fam, unity, unity_material_family(\"Default/Materials/Aluminum\"))\n",
    "set_backend_family(yellow_panel_fam, unity, unity_material_family(\"materials/metal/YellowCopper\"))\n",
    "set_backend_family(pav_slab_fam, unity, unity_material_family(\"Default/Materials/Plaster\"))"
   ]
  },
  {
   "cell_type": "markdown",
   "metadata": {},
   "source": [
    "## Complete Building"
   ]
  },
  {
   "cell_type": "markdown",
   "metadata": {},
   "source": [
    "The `GymPav` funtion gathers all building elements modeled, plus the random tree line in front of the west façade. Given a point `p`, the funtion creates the full building structure in acoordance with the parameters provided in `Pavilion Dimensions`."
   ]
  },
  {
   "cell_type": "code",
   "execution_count": null,
   "metadata": {},
   "outputs": [],
   "source": [
    "function GymPav(p)\n",
    "    roof_surf(p, n_panels_x, n_panels_y)\n",
    "#     roof_truss(p, 30, 70)\n",
    "    pav_walls(p, n_panels_x, n_panels_y, n_glass_verts)\n",
    "    floors(p)\n",
    "    map(n -> random_tree(p+vxy(-5, n)), 0:2:pav_length) # tree line in the west façade\n",
    "end"
   ]
  },
  {
   "cell_type": "code",
   "execution_count": null,
   "metadata": {},
   "outputs": [],
   "source": [
    "@test begin\n",
    "    backend(unity)\n",
    "    delete_all_shapes()\n",
    "    ground()\n",
    "    GymPav(u0())\n",
    "end"
   ]
  },
  {
   "cell_type": "markdown",
   "metadata": {},
   "source": [
    "Saved render views:"
   ]
  },
  {
   "cell_type": "code",
   "execution_count": null,
   "metadata": {},
   "outputs": [],
   "source": [
    "# set_view(xyz(-27.78546905517578,-12.493826866149902,2.73970365524292), xyz(-27.147165298461914,-11.735978126525879,2.874735116958618), 35.0)\n",
    "# render_view(\"pav1\")\n",
    "\n",
    "# set_view(xyz(37.13166809082031,96.70274353027344,8.049731254577637), xyz(36.132999420166016,96.71927642822266,8.098581314086914), 35.0)\n",
    "# render_view(\"pav2\")\n",
    "\n",
    "# set_view(xyz(86.96595001220703,87.33833312988281,7.179433822631836), xyz(85.97071075439453,87.31035614013672,7.27283239364624), 35.0)\n",
    "# render_view(\"pav3\")\n",
    "\n",
    "# set_view(xyz(-22.71254539489746,144.94818115234375,7.690451622009277), xyz(-22.17136001586914,144.1073455810547,7.7015814781188965), 35.0)\n",
    "# render_view(\"pav4\")\n",
    "\n",
    "# set_view(xyz(-12.342000961303711,103.7385025024414,3.020662307739258), xyz(-11.917301177978516,102.83597564697266,3.0918772220611572), 35.0)\n",
    "# render_view(\"pav5\")\n",
    "\n",
    "# set_view(xyz(-2.6654765605926514,130.2740020751953,1.4012055397033691), xyz(-2.5774435997009277,129.29388427734375,1.5790280103683472), 35.0)\n",
    "# render_view(\"pav6\")\n",
    "\n",
    "# set_view(xyz(126.3520736694336,-49.96141815185547,27.672582626342773), xyz(125.61244201660156,-49.31004333496094,27.503311157226562), 35.0)\n",
    "# render_view(\"pav7\")"
   ]
  },
  {
   "cell_type": "markdown",
   "metadata": {},
   "source": [
    "__Unity renders__\n",
    "\n",
    "| Pav 1 | Pav 2 |\n",
    "|-------|-------|\n",
    "| <img src=\"./Plots/pav1.png\" width=\"450\"> | <img src=\"./Plots/pav2.png\" width=\"450\"> |\n",
    "\n",
    "| Pav 3 | Pav 4 |\n",
    "|-------|-------|\n",
    "| <img src=\"./Plots/pav3.png\" width=\"450\"> | <img src=\"./Plots/pav4.png\" width=\"450\"> |\n",
    "\n",
    "| Pav 7 | Pav 6 |\n",
    "|-------|-------|\n",
    "| <img src=\"./Plots/pav7.png\" width=\"450\"> | <img src=\"./Plots/pav6.png\" width=\"450\"> |\n",
    "\n",
    "| Pav 5 |\n",
    "|-------|\n",
    "| <img src=\"./Plots/pav5.png\" width=\"900\"> |"
   ]
  },
  {
   "cell_type": "markdown",
   "metadata": {},
   "source": [
    "_The end_"
   ]
  },
  {
   "cell_type": "code",
   "execution_count": null,
   "metadata": {},
   "outputs": [],
   "source": []
  }
 ],
 "metadata": {
  "@webio": {
   "lastCommId": null,
   "lastKernelId": null
  },
  "kernelspec": {
   "display_name": "Julia 1.4.2",
   "language": "julia",
   "name": "julia-1.4"
  },
  "language_info": {
   "file_extension": ".jl",
   "mimetype": "application/julia",
   "name": "julia",
   "version": "1.4.2"
  },
  "toc": {
   "base_numbering": 1,
   "nav_menu": {},
   "number_sections": true,
   "sideBar": true,
   "skip_h1_title": false,
   "title_cell": "Table of Contents",
   "title_sidebar": "Contents",
   "toc_cell": false,
   "toc_position": {
    "height": "calc(100% - 180px)",
    "left": "10px",
    "top": "150px",
    "width": "182.975px"
   },
   "toc_section_display": true,
   "toc_window_display": true
  }
 },
 "nbformat": 4,
 "nbformat_minor": 4
}
