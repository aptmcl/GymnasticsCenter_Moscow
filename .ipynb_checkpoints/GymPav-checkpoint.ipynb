{
 "cells": [
  {
   "cell_type": "markdown",
   "metadata": {},
   "source": [
    "# Irina Viner-Usmanova Rhythmic Gymnastics Centre"
   ]
  },
  {
   "cell_type": "code",
   "execution_count": 6,
   "metadata": {},
   "outputs": [
    {
     "data": {
      "text/html": [
       "<script>\n",
       "// Immediately-invoked-function-expression to avoid global variables.\n",
       "(function() {\n",
       "    var warning_div = document.getElementById(\"webio-warning-130715071974817343\");\n",
       "    var hide = function () {\n",
       "        var script = document.getElementById(\"webio-setup-8727511100212758769\");\n",
       "        var parent = script && script.parentElement;\n",
       "        var grandparent = parent && parent.parentElement;\n",
       "        if (grandparent) {\n",
       "            grandparent.style.display = \"none\";\n",
       "        }\n",
       "        warning_div.style.display = \"none\";\n",
       "    };\n",
       "    if (typeof Jupyter !== \"undefined\") {\n",
       "        console.log(\"WebIO detected Jupyter notebook environment.\");\n",
       "        // Jupyter notebook.\n",
       "        var extensions = (\n",
       "            Jupyter\n",
       "            && Jupyter.notebook.config.data\n",
       "            && Jupyter.notebook.config.data.load_extensions\n",
       "        );\n",
       "        if (extensions && extensions[\"webio-jupyter-notebook\"]) {\n",
       "            // Extension already loaded.\n",
       "            console.log(\"Jupyter WebIO nbextension detected; not loading ad-hoc.\");\n",
       "            hide();\n",
       "            return;\n",
       "        }\n",
       "    } else if (window.location.pathname.includes(\"/lab\")) {\n",
       "        // Guessing JupyterLa\n",
       "        console.log(\"Jupyter Lab detected; make sure the @webio/jupyter-lab-provider labextension is installed.\");\n",
       "        hide();\n",
       "        return;\n",
       "    }\n",
       "})();\n",
       "\n",
       "</script>\n",
       "<p\n",
       "    id=\"webio-warning-130715071974817343\"\n",
       "    class=\"output_text output_stderr\"\n",
       "    style=\"padding: 1em; font-weight: bold;\"\n",
       ">\n",
       "    Unable to load WebIO. Please make sure WebIO works for your Jupyter client.\n",
       "    For troubleshooting, please see <a href=\"https://juliagizmos.github.io/WebIO.jl/latest/providers/ijulia/\">\n",
       "    the WebIO/IJulia documentation</a>.\n",
       "    <!-- TODO: link to installation docs. -->\n",
       "</p>\n"
      ],
      "text/plain": [
       "HTML{String}(\"<script>\\n// Immediately-invoked-function-expression to avoid global variables.\\n(function() {\\n    var warning_div = document.getElementById(\\\"webio-warning-130715071974817343\\\");\\n    var hide = function () {\\n        var script = document.getElementById(\\\"webio-setup-8727511100212758769\\\");\\n        var parent = script && script.parentElement;\\n        var grandparent = parent && parent.parentElement;\\n        if (grandparent) {\\n            grandparent.style.display = \\\"none\\\";\\n        }\\n        warning_div.style.display = \\\"none\\\";\\n    };\\n    if (typeof Jupyter !== \\\"undefined\\\") {\\n        console.log(\\\"WebIO detected Jupyter notebook environment.\\\");\\n        // Jupyter notebook.\\n        var extensions = (\\n            Jupyter\\n            && Jupyter.notebook.config.data\\n            && Jupyter.notebook.config.data.load_extensions\\n        );\\n        if (extensions && extensions[\\\"webio-jupyter-notebook\\\"]) {\\n            // Extension already loaded.\\n            console.log(\\\"Jupyter WebIO nbextension detected; not loading ad-hoc.\\\");\\n            hide();\\n            return;\\n        }\\n    } else if (window.location.pathname.includes(\\\"/lab\\\")) {\\n        // Guessing JupyterLa\\n        console.log(\\\"Jupyter Lab detected; make sure the @webio/jupyter-lab-provider labextension is installed.\\\");\\n        hide();\\n        return;\\n    }\\n})();\\n\\n</script>\\n<p\\n    id=\\\"webio-warning-130715071974817343\\\"\\n    class=\\\"output_text output_stderr\\\"\\n    style=\\\"padding: 1em; font-weight: bold;\\\"\\n>\\n    Unable to load WebIO. Please make sure WebIO works for your Jupyter client.\\n    For troubleshooting, please see <a href=\\\"https://juliagizmos.github.io/WebIO.jl/latest/providers/ijulia/\\\">\\n    the WebIO/IJulia documentation</a>.\\n    <!-- TODO: link to installation docs. -->\\n</p>\\n\")"
      ]
     },
     "metadata": {},
     "output_type": "display_data"
    }
   ],
   "source": [
    "using WebIO"
   ]
  },
  {
   "cell_type": "code",
   "execution_count": 7,
   "metadata": {},
   "outputs": [],
   "source": [
    "using Interact"
   ]
  },
  {
   "cell_type": "code",
   "execution_count": 8,
   "metadata": {},
   "outputs": [],
   "source": [
    "using Khepri"
   ]
  },
  {
   "cell_type": "code",
   "execution_count": 9,
   "metadata": {
    "scrolled": true
   },
   "outputs": [
    {
     "data": {
      "text/plain": [
       "(800, 400)"
      ]
     },
     "execution_count": 9,
     "metadata": {},
     "output_type": "execute_result"
    }
   ],
   "source": [
    "render_size(800, 400) # Khepri backends size"
   ]
  },
  {
   "cell_type": "markdown",
   "metadata": {},
   "source": [
    "Avoid tests macro: `true` to skip tests, and `false` to run them."
   ]
  },
  {
   "cell_type": "code",
   "execution_count": 10,
   "metadata": {},
   "outputs": [
    {
     "data": {
      "text/plain": [
       "@test (macro with 1 method)"
      ]
     },
     "execution_count": 10,
     "metadata": {},
     "output_type": "execute_result"
    }
   ],
   "source": [
    "avoid_tests = Parameter(true)\n",
    "\n",
    "macro test(expr...)\n",
    "  quote\n",
    "    if !avoid_tests() \n",
    "        begin\n",
    "            $(esc(expr...))\n",
    "        end\n",
    "    end\n",
    "  end\n",
    "end"
   ]
  },
  {
   "cell_type": "code",
   "execution_count": 43,
   "metadata": {},
   "outputs": [
    {
     "data": {
      "text/plain": [
       "false"
      ]
     },
     "execution_count": 43,
     "metadata": {},
     "output_type": "execute_result"
    }
   ],
   "source": [
    "avoid_tests(false)"
   ]
  },
  {
   "cell_type": "markdown",
   "metadata": {},
   "source": [
    "## Sinusoidal Curves"
   ]
  },
  {
   "cell_type": "markdown",
   "metadata": {},
   "source": [
    " | Sinunoisal wave parameters | Other sinusoidal curves |\n",
    " |----------------------------|-------------------------|\n",
    " |<img src=\"./Figures/sin_wave.png\" width=\"480\"> | <img src=\"./Figures/sin_curves.png\" width=\"350\">|"
   ]
  },
  {
   "cell_type": "markdown",
   "metadata": {},
   "source": [
    "`sinusoidal` parameters explained:\n",
    "* a is the amplitude\n",
    "* omega is the frequency\n",
    "* fi is the phase"
   ]
  },
  {
   "cell_type": "code",
   "execution_count": 12,
   "metadata": {},
   "outputs": [
    {
     "data": {
      "text/plain": [
       "sinusoidal (generic function with 1 method)"
      ]
     },
     "execution_count": 12,
     "metadata": {},
     "output_type": "execute_result"
    }
   ],
   "source": [
    "sinusoidal(a, omega, fi, x) = a*sin(omega*x+fi)"
   ]
  },
  {
   "cell_type": "code",
   "execution_count": 13,
   "metadata": {},
   "outputs": [
    {
     "data": {
      "text/plain": [
       "sin_array_y (generic function with 1 method)"
      ]
     },
     "execution_count": 13,
     "metadata": {},
     "output_type": "execute_result"
    }
   ],
   "source": [
    "sin_array_y(p, a, omega, fi, dist, n) = [p+vxy(i, sinusoidal(a, omega, fi, i)) for i in division(0, dist, n)]"
   ]
  },
  {
   "cell_type": "code",
   "execution_count": 14,
   "metadata": {},
   "outputs": [],
   "source": [
    "@test begin\n",
    "    backend(notebook)\n",
    "    new_backend()\n",
    "    line(sin_array_y(u0(), 5, 1, 0, 50, 100))\n",
    "end"
   ]
  },
  {
   "cell_type": "markdown",
   "metadata": {},
   "source": [
    "Expected result:\n",
    "<img src=\"./Plots/sin_array_y.png\" width=\"600\">"
   ]
  },
  {
   "cell_type": "markdown",
   "metadata": {},
   "source": [
    "`damped_sin_wave`'s parameters explained\n",
    "* a is the initial amplitude (the highest peak)\n",
    "* b is the decay constant\n",
    "* omega is the angular frequency"
   ]
  },
  {
   "cell_type": "code",
   "execution_count": 15,
   "metadata": {},
   "outputs": [
    {
     "data": {
      "text/plain": [
       "damped_sin_wave (generic function with 1 method)"
      ]
     },
     "execution_count": 15,
     "metadata": {},
     "output_type": "execute_result"
    }
   ],
   "source": [
    "damped_sin_wave(a, d, omega, x) = a*exp(-(d*x))*sin(omega*x)"
   ]
  },
  {
   "cell_type": "code",
   "execution_count": 16,
   "metadata": {},
   "outputs": [
    {
     "data": {
      "text/plain": [
       "damped_sin_array_z (generic function with 1 method)"
      ]
     },
     "execution_count": 16,
     "metadata": {},
     "output_type": "execute_result"
    }
   ],
   "source": [
    "damped_sin_array_z(p, a, d, omega, dist, n) = [p+vxz(i, damped_sin_wave(a, d, omega, i)) for i in division(0, dist, n)]"
   ]
  },
  {
   "cell_type": "code",
   "execution_count": 17,
   "metadata": {},
   "outputs": [],
   "source": [
    "@test begin\n",
    "    backend(notebook)\n",
    "    new_backend()\n",
    "    line(damped_sin_array_z(u0(), 5, 0.1, 1, 50, 100))\n",
    "end"
   ]
  },
  {
   "cell_type": "markdown",
   "metadata": {},
   "source": [
    "Expected result:\n",
    "<img src=\"./Plots/damped_sin_array.png\" width=\"600\">"
   ]
  },
  {
   "cell_type": "code",
   "execution_count": 18,
   "metadata": {},
   "outputs": [
    {
     "data": {
      "text/plain": [
       "damped_sin_roof_pts (generic function with 1 method)"
      ]
     },
     "execution_count": 18,
     "metadata": {},
     "output_type": "execute_result"
    }
   ],
   "source": [
    "damped_sin_roof_pts(p, a_x, a_y, fi, decay, om_x, om_y, dist_x, dist_y, n_x, n_y) =\n",
    "    map_division((x, y)->p+vxyz(x, y, sinusoidal(a_x, om_x, fi, x)+damped_sin_wave(a_y, decay, om_y, y)),\n",
    "        0, dist_x, n_x,\n",
    "        0, dist_y, n_y)"
   ]
  },
  {
   "cell_type": "code",
   "execution_count": 19,
   "metadata": {},
   "outputs": [],
   "source": [
    "@test begin\n",
    "    backend(meshcat)\n",
    "    new_backend()\n",
    "    @manipulate for ampx = widget(0:0.1:3, label=\"Amplitude x\"),\n",
    "                ampy = widget(0:0.1:20, label=\"Amplitude y\")\n",
    "            delete_all_shapes()\n",
    "            surface_grid(damped_sin_roof_pts(u0(), ampx, ampy, 0, 0.1, 0.2, 1, 50, 100, 100, 200))\n",
    "    end\n",
    "end"
   ]
  },
  {
   "cell_type": "markdown",
   "metadata": {},
   "source": [
    "Expected result:\n",
    "<img src=\"./Plots/damped_surface.png\" width=\"600\">"
   ]
  },
  {
   "cell_type": "code",
   "execution_count": 20,
   "metadata": {},
   "outputs": [
    {
     "data": {
      "text/plain": [
       "damped_sin_roof_pts (generic function with 2 methods)"
      ]
     },
     "execution_count": 20,
     "metadata": {},
     "output_type": "execute_result"
    }
   ],
   "source": [
    "damped_sin_roof_pts(p, h, a_x, a_y_min, a_y_max, fi, decay, om_x, om_y, dist_x, dist_y, n_x, n_y) =\n",
    "    map_division((x, y) ->\n",
    "                y <= d_i ?\n",
    "                p + vxyz(x, \n",
    "                         -sin(y/d_i*(1*pi)), \n",
    "                         y*h/d_i + sin(x/dist_x*pi)sinusoidal(a_x, om_x, fi-y*pi/dist_y, x)*(y*a_x/d_i)) :\n",
    "                p + vxyz(x,\n",
    "                         y,\n",
    "                         h + sin(x/dist_x*pi)*sinusoidal(a_x, om_x, fi-y*pi/dist_y, x) +\n",
    "                         damped_sin_wave(a_y_max - (a_y_max-a_y_min)/dist_x*x, decay, om_y, y)),\n",
    "             0, dist_x, n_x,\n",
    "             0, dist_y, n_y)"
   ]
  },
  {
   "cell_type": "markdown",
   "metadata": {},
   "source": [
    "`d_i`is the distance between the pavillion starting point and the beginning of the dumped sine curve."
   ]
  },
  {
   "cell_type": "code",
   "execution_count": 21,
   "metadata": {},
   "outputs": [],
   "source": [
    "@test begin\n",
    "    backend(meshcat)\n",
    "    new_backend()\n",
    "    d_i = 0.5\n",
    "    @manipulate for ampx = widget(1:0.1:3, label=\"Amplitude x\"),\n",
    "                    ampy_min = widget(1:0.1:15, label=\"Minimum Amplitude y\"),\n",
    "                    ampy_max = widget(1:0.1:15, label=\"Maximum Amplitude y\"),\n",
    "                    h = widget(2:1:20, label=\"Height\")\n",
    "                delete_all_shapes()\n",
    "                surface_grid(damped_sin_roof_pts(u0(), h, ampx, ampy_min, ampy_max, pi, 0.03, pi/50, pi/10, 60, 100, 120, 800))\n",
    "    end\n",
    "end"
   ]
  },
  {
   "cell_type": "markdown",
   "metadata": {},
   "source": [
    "Expected result:\n",
    "<img src=\"./Plots/roof_surface.png\" width=\"600\">"
   ]
  },
  {
   "cell_type": "markdown",
   "metadata": {},
   "source": [
    "## Pavilion Dimensions"
   ]
  },
  {
   "cell_type": "markdown",
   "metadata": {},
   "source": [
    " | Roof dimentions explained |\n",
    " |----------------------------|\n",
    " |<img src=\"./Figures/roof_dims.jpg\" width=\"600\"> |"
   ]
  },
  {
   "cell_type": "markdown",
   "metadata": {},
   "source": [
    "__Double sinuoid parameters:__\n",
    "\n",
    "* amp_x = amplitude of the sinusoid along the x axis\n",
    "* amp_y_min_top = minimum amplitude of the damped sinusoid along the y axis for the top layer of the roof\n",
    "* amp_y_max_top = maximum amplitude of the damped sinusoid along the y axis for the top layer of the roof\n",
    "* amp_y_max_bottom = maximum amplitude of the damped sinusoid along the y axis for the bottom layer of the roof\n",
    "* amp_y_min_bottom = minimum amplitude of the damped sinusoid along the y axis for the bottom layer of the roof\n",
    "* fi = sinusoid's phase along the x axis\n",
    "* decay = damped sinusoid's decay along the y axis\n",
    "* om_x = frequency of the sinusoid in x\n",
    "* om_y = frequency of the damped sinusoid in y\n",
    "\n",
    "__Genaral pavilion parameters:__\n",
    "\n",
    "* pav_width = pavilion's width (along x axis)\n",
    "* pav_length = pavilion's lenght (along y axis)\n",
    "* pav_height = pavilion's height (z axis)\n",
    "* d_width = distance between roof layers in the x axis (top layer is wider)\n",
    "* d_length = distance between roof layers in the y axis (top layer is longer)\n",
    "* d_height = distance between roof layers in the z axis (height of the roof truss)\n",
    "* d_i = ??"
   ]
  },
  {
   "cell_type": "code",
   "execution_count": 22,
   "metadata": {},
   "outputs": [
    {
     "data": {
      "text/plain": [
       "0.5"
      ]
     },
     "execution_count": 22,
     "metadata": {},
     "output_type": "execute_result"
    }
   ],
   "source": [
    "amp_x = 2.5\n",
    "amp_y_min_top = 4\n",
    "amp_y_max_top = 11\n",
    "amp_y_max_bottom = 10\n",
    "amp_y_min_bottom = 3\n",
    "fi = pi\n",
    "decay = 0.03\n",
    "om_x = pi/50\n",
    "om_y = pi/10\n",
    "pav_width = 60\n",
    "pav_length = 100\n",
    "pav_height = 14\n",
    "d_width = 1.5\n",
    "d_length = 1\n",
    "d_height = 3\n",
    "d_i = 0.5"
   ]
  },
  {
   "cell_type": "markdown",
   "metadata": {},
   "source": [
    "## Roof Truss"
   ]
  },
  {
   "cell_type": "markdown",
   "metadata": {},
   "source": [
    "### Basic truss elements"
   ]
  },
  {
   "cell_type": "markdown",
   "metadata": {},
   "source": [
    "The following functions create truss elements:\n",
    "* `free_node` and `fixed_node`create truss nodes\n",
    "* `bar`creates truss bars\n",
    "* `panel`creates truss panels"
   ]
  },
  {
   "cell_type": "markdown",
   "metadata": {},
   "source": [
    "CAD version of truss elements:"
   ]
  },
  {
   "cell_type": "code",
   "execution_count": 23,
   "metadata": {},
   "outputs": [
    {
     "data": {
      "text/plain": [
       "fixed_node (generic function with 1 method)"
      ]
     },
     "execution_count": 23,
     "metadata": {},
     "output_type": "execute_result"
    }
   ],
   "source": [
    "free_node(pt) = sphere(pt, 0.1)\n",
    "fixed_node(pt) = sphere(pt, 0.1)"
   ]
  },
  {
   "cell_type": "code",
   "execution_count": 24,
   "metadata": {},
   "outputs": [
    {
     "data": {
      "text/plain": [
       "truss_panel (generic function with 1 method)"
      ]
     },
     "execution_count": 24,
     "metadata": {},
     "output_type": "execute_result"
    }
   ],
   "source": [
    "truss_panel(ps) = surface_polygon(ps)"
   ]
  },
  {
   "cell_type": "markdown",
   "metadata": {},
   "source": [
    "BIM families for truss elements:"
   ]
  },
  {
   "cell_type": "code",
   "execution_count": 25,
   "metadata": {},
   "outputs": [
    {
     "data": {
      "text/plain": [
       "TrussNodeFamily(\"truss_node_family\", 0.1, Khepri.TrussNodeSupport(true, true, true, false, false, false, Parameter{Bool}(false)), TrussNodeFamily(\"truss_node_family\", 0.2, false, nothing, IdDict{Backend,Khepri.Family}(AutoCAD => Khepri.ACADLayerFamily(\"TrussNodes\", RGB{N0f8}(1.0,1.0,1.0), Parameter{Any}(nothing)),Rhino => Khepri.RhinoLayerFamily(\"TrussNodes\", RGB{N0f8}(1.0,1.0,1.0), Parameter{Any}(nothing)),Unity => Khepri.UnityMaterialFamily(\"Default/Materials/Steel\"),Khepri.MCATBackend{Khepri.MCATKey,String} => Khepri.BackendMaterialFamily{NamedTuple{(:uuid, :type, :metalness, :roughness, :side, :color),Tuple{String,String,Int64,Float64,Int64,String}}}((uuid = \"ff18db40-ccfe-11ea-320c-fd95d85c7b34\", type = \"MeshStandardMaterial\", metalness = 1, roughness = 0.5, side = 2, color = \"0xFFFFFF\")),Khepri.POVRayBackend{Khepri.POVRayKey,Int64} => Khepri.BackendMaterialFamily{Khepri.POVRayMaterial}(Khepri.POVRayInclude(\"textures.inc\", \"texture\", \"Chrome_Metal\"))), IdDict{Backend,Any}()), IdDict{Backend,Khepri.Family}(AutoCAD => Khepri.ACADLayerFamily(\"TrussNodes\", RGB{N0f8}(1.0,1.0,1.0), Parameter{Any}(nothing)),Rhino => Khepri.RhinoLayerFamily(\"TrussNodes\", RGB{N0f8}(1.0,1.0,1.0), Parameter{Any}(nothing)),Unity => Khepri.UnityMaterialFamily(\"Default/Materials/Steel\"),Khepri.MCATBackend{Khepri.MCATKey,String} => Khepri.BackendMaterialFamily{NamedTuple{(:uuid, :type, :metalness, :roughness, :side, :color),Tuple{String,String,Int64,Float64,Int64,String}}}((uuid = \"ff18db40-ccfe-11ea-320c-fd95d85c7b34\", type = \"MeshStandardMaterial\", metalness = 1, roughness = 0.5, side = 2, color = \"0xFFFFFF\")),Khepri.POVRayBackend{Khepri.POVRayKey,Int64} => Khepri.BackendMaterialFamily{Khepri.POVRayMaterial}(Khepri.POVRayInclude(\"textures.inc\", \"texture\", \"Chrome_Metal\"))), IdDict{Backend,Any}())"
      ]
     },
     "execution_count": 25,
     "metadata": {},
     "output_type": "execute_result"
    }
   ],
   "source": [
    "free_node_fam = truss_node_family_element(default_truss_node_family(), support=Khepri.truss_node_support(), radius=0.1)\n",
    "sup_node_fam = truss_node_family_element(default_truss_node_family(), support=Khepri.truss_node_support(ux=true, uy=true, uz=true), radius=0.1)"
   ]
  },
  {
   "cell_type": "markdown",
   "metadata": {},
   "source": [
    "BIM version of truss elements:"
   ]
  },
  {
   "cell_type": "code",
   "execution_count": 26,
   "metadata": {},
   "outputs": [
    {
     "data": {
      "text/plain": [
       "free_node (generic function with 1 method)"
      ]
     },
     "execution_count": 26,
     "metadata": {},
     "output_type": "execute_result"
    }
   ],
   "source": [
    "fixed_node(p) = truss_node(p, family=sup_node_fam)\n",
    "free_node(p) = truss_node(p, family=free_node_fam)"
   ]
  },
  {
   "cell_type": "code",
   "execution_count": 27,
   "metadata": {},
   "outputs": [
    {
     "data": {
      "text/plain": [
       "bar (generic function with 1 method)"
      ]
     },
     "execution_count": 27,
     "metadata": {},
     "output_type": "execute_result"
    }
   ],
   "source": [
    "bar(p, q) = truss_bar(p, q)"
   ]
  },
  {
   "cell_type": "markdown",
   "metadata": {},
   "source": [
    "### Spatial truss"
   ]
  },
  {
   "cell_type": "markdown",
   "metadata": {},
   "source": [
    "`truss_ptss`receives two sets of points, the bottom and top points defining the shape of the truss to create.\n",
    "It returns the points defining the truss structure."
   ]
  },
  {
   "cell_type": "code",
   "execution_count": 28,
   "metadata": {},
   "outputs": [
    {
     "data": {
      "text/plain": [
       "truss_ptss (generic function with 1 method)"
      ]
     },
     "execution_count": 28,
     "metadata": {},
     "output_type": "execute_result"
    }
   ],
   "source": [
    "truss_ptss(bottom_ptss,top_ptss) =\n",
    "    length(top_ptss) == length(bottom_ptss) ?\n",
    "    vcat([[pts,qts] for (pts,qts) in zip(bottom_ptss,top_ptss)]...) :\n",
    "    vcat([[pts,qts] for (pts,qts) in zip(top_ptss[1:end-1],bottom_ptss)]..., [top_ptss[end]])"
   ]
  },
  {
   "cell_type": "markdown",
   "metadata": {},
   "source": [
    "`truss`receives the type of truss to create, as well as both bottom and top points defining its shape.\n",
    "It creates a 3D spatial truss."
   ]
  },
  {
   "cell_type": "code",
   "execution_count": 29,
   "metadata": {},
   "outputs": [
    {
     "data": {
      "text/plain": [
       "truss (generic function with 1 method)"
      ]
     },
     "execution_count": 29,
     "metadata": {},
     "output_type": "execute_result"
    }
   ],
   "source": [
    "truss(truss_type; bottom_ptss=planar(p=x(0)), top_ptss=planar(p=z(1))) =\n",
    "    let ptss = truss_ptss(bottom_ptss, top_ptss)\n",
    "      truss_type(ptss)\n",
    "  end"
   ]
  },
  {
   "cell_type": "markdown",
   "metadata": {},
   "source": [
    " | Vierendeel modular block front | Vierendeel modular block side |\n",
    " |----------------------------|-------------------------|\n",
    " |<img src=\"./Figures/front_vierendeel.png\" width=\"350\"> | <img src=\"./Figures/side_vierendeel.png\" width=\"350\">|"
   ]
  },
  {
   "cell_type": "markdown",
   "metadata": {},
   "source": [
    "`vierendeel`creates a vierendeel truss structure."
   ]
  },
  {
   "cell_type": "code",
   "execution_count": 30,
   "metadata": {},
   "outputs": [
    {
     "data": {
      "text/plain": [
       "vierendeel (generic function with 2 methods)"
      ]
     },
     "execution_count": 30,
     "metadata": {},
     "output_type": "execute_result"
    }
   ],
   "source": [
    "vierendeel(ptss, first=true) =\n",
    "    let ais = ptss[1],\n",
    "        bis = ptss[2],\n",
    "        cis = ptss[3],\n",
    "        dis = ptss[4]\n",
    "      (first ? fixed_node : free_node).(ais)\n",
    "      free_node.(bis)\n",
    "      bar.(ais, bis)\n",
    "      bar.(ais, cis)\n",
    "      bar.(bis, dis)\n",
    "      bar.(ais[2:end], ais[1:end-1])\n",
    "      bar.(bis[2:end], bis[1:end-1])\n",
    "      if ptss[5:end] == []\n",
    "          fixed_node.(cis)\n",
    "          free_node.(dis)\n",
    "          bar.(cis[2:end], cis[1:end-1])\n",
    "          bar.(dis[2:end], dis[1:end-1])\n",
    "          bar.(dis, cis)\n",
    "      else\n",
    "          vierendeel(ptss[3:end], false)\n",
    "      end\n",
    "    end"
   ]
  },
  {
   "cell_type": "code",
   "execution_count": 31,
   "metadata": {},
   "outputs": [],
   "source": [
    "@test begin\n",
    "    backend(meshcat)\n",
    "    new_backend()\n",
    "    @manipulate for ampx = widget(1:0.1:3, label=\"Amplitude x\"),\n",
    "                    ampy_top_min = widget(3:0.1:15, label=\"Minimum Amplitude y\"),\n",
    "                    ampy_top_max = widget(3:0.1:15, label=\"Maximum Amplitude y\"),\n",
    "                    ampy_bottom_min = widget(1:0.1:12, label=\"Minimum Amplitude y\"),\n",
    "                    ampy_bottom_max = widget(1:0.1:12, label=\"Maximum Amplitude y\"),\n",
    "                    h = widget(2:1:20, label=\"Height\")\n",
    "                delete_all_shapes()\n",
    "        truss(vierendeel, \n",
    "          top_ptss=damped_sin_roof_pts(u0(), pav_height,\n",
    "                                          ampx, ampy_top_min, ampy_top_max,\n",
    "                                          fi, decay, om_x, om_y,\n",
    "                                          pav_width, pav_length-d_length, 50, 80),\n",
    "          bottom_ptss=damped_sin_roof_pts(xy(d_width,d_length*1), pav_height-d_height,\n",
    "                                         ampx, ampy_bottom_min, ampy_bottom_max,\n",
    "                                         fi, decay, om_x, om_y,\n",
    "                                         pav_width - d_width*2, pav_length-2*d_length, 50, 80))\n",
    "    end\n",
    "end"
   ]
  },
  {
   "cell_type": "markdown",
   "metadata": {},
   "source": [
    "Expected result:\n",
    "<img src=\"./Plots/truss_roof_meshcat.png\" width=\"800\">"
   ]
  },
  {
   "cell_type": "code",
   "execution_count": 32,
   "metadata": {},
   "outputs": [],
   "source": [
    "@test begin\n",
    "    backend(unity)\n",
    "    delete_all_shapes()\n",
    "    ground()\n",
    "    truss(vierendeel, \n",
    "      top_ptss=damped_sin_roof_pts(u0(), pav_height,\n",
    "                                      amp_x, amp_y_min_top, amp_y_max_top,\n",
    "                                      fi, decay, om_x, om_y,\n",
    "                                      pav_width, pav_length-d_length, 5, 8),\n",
    "      bottom_ptss=damped_sin_roof_pts(xy(d_width,d_length*1), pav_height-d_height,\n",
    "                                     amp_x, amp_y_min_bottom, amp_y_max_bottom,\n",
    "                                     fi, decay, om_x, om_y,\n",
    "                                     pav_width - d_width*2, pav_length-2*d_length, 5, 8))\n",
    "#     render_dir(\"C:\\\\Users\\\\Renata\\\\Documents\\\\GitHub\\\\GymnasticsCenter_Moscow\\\\Plots\")\n",
    "#     render_view(\"truss_roof_unity\")\n",
    "end"
   ]
  },
  {
   "cell_type": "markdown",
   "metadata": {},
   "source": [
    "Expected result:\n",
    "<img src=\"./Plots/truss_roof_unity.png\" width=\"800\">"
   ]
  },
  {
   "cell_type": "markdown",
   "metadata": {},
   "source": [
    "## Roof Surface"
   ]
  },
  {
   "cell_type": "markdown",
   "metadata": {},
   "source": [
    "Auxiliar functions"
   ]
  },
  {
   "cell_type": "code",
   "execution_count": 33,
   "metadata": {},
   "outputs": [
    {
     "data": {
      "text/plain": [
       "transpose_array (generic function with 1 method)"
      ]
     },
     "execution_count": 33,
     "metadata": {},
     "output_type": "execute_result"
    }
   ],
   "source": [
    "transpose_array(arrays) =\n",
    "    [[row[i] for row in arrays]\n",
    "     for i in 1:length(arrays[1])]"
   ]
  },
  {
   "cell_type": "code",
   "execution_count": 34,
   "metadata": {},
   "outputs": [],
   "source": [
    "@test begin\n",
    "    backend(meshcat)\n",
    "    new_backend()\n",
    "    @manipulate for ampx = widget(1:0.1:3, label=\"Amplitude x\"),\n",
    "                    ampy_top_min = widget(3:0.1:15, label=\"Minimum Amplitude y\"),\n",
    "                    ampy_top_max = widget(3:0.1:15, label=\"Maximum Amplitude y\"),\n",
    "                    ampy_bottom_min = widget(1:0.1:12, label=\"Minimum Amplitude y\"),\n",
    "                    ampy_bottom_max = widget(1:0.1:12, label=\"Maximum Amplitude y\"),\n",
    "                    h = widget(2:1:20, label=\"Height\")\n",
    "                delete_all_shapes()\n",
    "        surface_grid(damped_sin_roof_pts(u0(), h,\n",
    "                                   ampx, ampy_top_min, ampy_top_max,\n",
    "                                   fi, decay, om_x, om_y,\n",
    "                                   pav_width, pav_length-d_length, 50, 200))\n",
    "        surface_grid(damped_sin_roof_pts(xy(d_width,d_length*1), h-d_height,\n",
    "                                      ampx, ampy_bottom_min, ampy_bottom_max,\n",
    "                                      fi, decay, om_x, om_y,\n",
    "                                      pav_width - d_width*2, pav_length-2*d_length, 50, 200))\n",
    "    end\n",
    "end"
   ]
  },
  {
   "cell_type": "code",
   "execution_count": 35,
   "metadata": {},
   "outputs": [],
   "source": [
    "@test begin\n",
    "    backend(meshcat)\n",
    "    new_backend()\n",
    "    @manipulate for ampx = widget(1:0.1:3, label=\"Amplitude x\"),\n",
    "                ampy_top_min = widget(3:0.1:15, label=\"Minimum Amplitude y\"),\n",
    "                ampy_top_max = widget(3:0.1:15, label=\"Maximum Amplitude y\"),\n",
    "                ampy_bottom_min = widget(1:0.1:12, label=\"Minimum Amplitude y\"),\n",
    "                ampy_bottom_max = widget(1:0.1:12, label=\"Maximum Amplitude y\"),\n",
    "                h = widget(2:1:20, label=\"Height\")\n",
    "            delete_all_shapes()\n",
    "            top_roof=damped_sin_roof_pts(x(0), h,\n",
    "                                   ampx, ampy_top_min, ampy_top_max,\n",
    "                                   fi, decay, om_x, om_y,\n",
    "                                   pav_width, pav_length-d_length, 50, 100)\n",
    "            bottom_roof=damped_sin_roof_pts(xy(d_width,d_length*1), h-d_height,\n",
    "                                      ampx, ampy_bottom_min, ampy_bottom_max,\n",
    "                                      fi, decay, om_x, om_y,\n",
    "                                      pav_width - d_width*2, pav_length-2*d_length, 50, 100)\n",
    "            surface_grid(top_roof)\n",
    "            surface_grid(bottom_roof)\n",
    "            loft_curves([spline(top_roof[1]),spline(bottom_roof[1])])\n",
    "            loft_curves([line(top_roof[end]),line(bottom_roof[end])])\n",
    "            loft_curves([line(transpose_array(top_roof)[end]),line(transpose_array(bottom_roof)[end])])\n",
    "    end\n",
    "end"
   ]
  },
  {
   "cell_type": "markdown",
   "metadata": {},
   "source": [
    "## Glass Façade"
   ]
  },
  {
   "cell_type": "markdown",
   "metadata": {},
   "source": [
    "`splines4surf`maps splines over a matrix of points, to visualise surfaces in the notebook backend faster."
   ]
  },
  {
   "cell_type": "code",
   "execution_count": 80,
   "metadata": {},
   "outputs": [
    {
     "data": {
      "text/plain": [
       "splines4surf (generic function with 1 method)"
      ]
     },
     "execution_count": 80,
     "metadata": {},
     "output_type": "execute_result"
    }
   ],
   "source": [
    "function splines4surf(mtx)\n",
    "    [spline(pts) for pts in mtx]\n",
    "    [spline(pts) for pts in transpose_array(mtx)]\n",
    "end"
   ]
  },
  {
   "cell_type": "markdown",
   "metadata": {},
   "source": [
    "`damped_sin_glass_wall`creates the pavillion's side glass wall matrixes"
   ]
  },
  {
   "cell_type": "code",
   "execution_count": 38,
   "metadata": {},
   "outputs": [
    {
     "data": {
      "text/plain": [
       "damped_sin_glass_wall (generic function with 1 method)"
      ]
     },
     "execution_count": 38,
     "metadata": {},
     "output_type": "execute_result"
    }
   ],
   "source": [
    "damped_sin_glass_wall(p, a_y, fi, decay, om_y, dist_y, dist_z, n_y, n_z) =\n",
    "    map_division((y, z) ->\n",
    "                    y <= d_i ?\n",
    "                    p + vyz(-sin(y/d_i*(1*pi)), z) :\n",
    "                    p + vyz(y,\n",
    "                            z + (z/dist_z)*damped_sin_wave(a_y, decay, om_y, y)),\n",
    "             0, dist_y, n_y,\n",
    "             0, dist_z, n_z)"
   ]
  },
  {
   "cell_type": "code",
   "execution_count": 67,
   "metadata": {},
   "outputs": [
    {
     "data": {
      "text/plain": [
       "41-element Array{Spline,1}:\n",
       " Spline(...)\n",
       " Spline(...)\n",
       " Spline(...)\n",
       " Spline(...)\n",
       " Spline(...)\n",
       " Spline(...)\n",
       " Spline(...)\n",
       " Spline(...)\n",
       " Spline(...)\n",
       " Spline(...)\n",
       " Spline(...)\n",
       " Spline(...)\n",
       " Spline(...)\n",
       " ⋮\n",
       " Spline(...)\n",
       " Spline(...)\n",
       " Spline(...)\n",
       " Spline(...)\n",
       " Spline(...)\n",
       " Spline(...)\n",
       " Spline(...)\n",
       " Spline(...)\n",
       " Spline(...)\n",
       " Spline(...)\n",
       " Spline(...)\n",
       " Spline(...)"
      ]
     },
     "execution_count": 67,
     "metadata": {},
     "output_type": "execute_result"
    }
   ],
   "source": [
    "@test begin\n",
    "    backend(autocad)\n",
    "    new_backend()  \n",
    "    west_glass_wall = damped_sin_glass_wall(x(d_width),\n",
    "                                            amp_y_max_top,\n",
    "                                            fi, decay, om_y,\n",
    "                                            pav_length-2*d_length, pav_height-d_height, 40, 10)\n",
    "    east_glass_wall = damped_sin_glass_wall(x(pav_width-d_width),\n",
    "                                            amp_y_min_bottom,\n",
    "                                            fi, decay, om_y,\n",
    "                                            pav_length-2*d_length, pav_height-d_height, 40, 10)\n",
    "#     delete_all_shapes()\n",
    "    splines4surf(west_glass_wall)\n",
    "    splines4surf(east_glass_wall)\n",
    "end"
   ]
  },
  {
   "cell_type": "markdown",
   "metadata": {},
   "source": [
    "Expected result:\n",
    "<img src=\"./Plots/glass_lines_cad.png\" width=\"800\">"
   ]
  },
  {
   "cell_type": "markdown",
   "metadata": {},
   "source": [
    "### Glass option 1"
   ]
  },
  {
   "cell_type": "markdown",
   "metadata": {},
   "source": [
    "`itera_sweeked`creates the pavillion glass walls"
   ]
  },
  {
   "cell_type": "code",
   "execution_count": 55,
   "metadata": {},
   "outputs": [
    {
     "data": {
      "text/plain": [
       "itera_sweeked (generic function with 1 method)"
      ]
     },
     "execution_count": 55,
     "metadata": {},
     "output_type": "execute_result"
    }
   ],
   "source": [
    "itera_sweeked(ptss) =\n",
    "    vcat([[let p23=intermediate_loc(p2, p3),\n",
    "               p24=intermediate_loc(p2, p4)\n",
    "             [p0,p1,p24,p23]\n",
    "           end\n",
    "          for (p0,p1,p2,p3,p4)\n",
    "          in zip(pts0[1:end-1], pts1[1:end-1], pts1[2:end], pts0[2:end], pts2[2:end])]\n",
    "         for (pts0, pts1, pts2)\n",
    "         in zip(ptss[1:end-2], ptss[2:end-1],ptss[3:end])]...)"
   ]
  },
  {
   "cell_type": "code",
   "execution_count": null,
   "metadata": {},
   "outputs": [],
   "source": [
    "@test begin\n",
    "    backend(meshcat)\n",
    "    new_backend()\n",
    "    @manipulate for ampy_bottom_min = widget(1:0.1:12, label=\"Minimum Amplitude y\"),\n",
    "                    ampy_bottom_max = widget(1:0.1:12, label=\"Maximum Amplitude y\"),\n",
    "                    h = widget(2:1:20, label=\"Height\")\n",
    "                delete_all_shapes()\n",
    "                west_glass_wall = damped_sin_glass_wall(x(d_width),\n",
    "                                                        ampy_bottom_max,\n",
    "                                                        fi, decay, om_y,\n",
    "                                                        pav_length-2*d_length, h-d_height, 85, 20)\n",
    "                east_glass_wall = damped_sin_glass_wall(x(pav_width-d_width),\n",
    "                                                        ampy_bottom_min,\n",
    "                                                        fi, decay, om_y,\n",
    "                                                        pav_length-2*d_length, h-d_height, 85, 20)\n",
    "                map(ps->surface_polygon(ps), itera_sweeked(west_glass_wall))\n",
    "                map(ps->surface_polygon(ps), itera_sweeked(east_glass_wall))\n",
    "    end\n",
    "end"
   ]
  },
  {
   "cell_type": "markdown",
   "metadata": {},
   "source": [
    "### Glass option 2"
   ]
  },
  {
   "cell_type": "markdown",
   "metadata": {},
   "source": [
    "Given a list of points (closed polygon vertices), this function creates a polygonal glass panel surrounded by a thin metal framing all around:"
   ]
  },
  {
   "cell_type": "code",
   "execution_count": 60,
   "metadata": {},
   "outputs": [
    {
     "data": {
      "text/plain": [
       "framed_panel (generic function with 1 method)"
      ]
     },
     "execution_count": 60,
     "metadata": {},
     "output_type": "execute_result"
    }
   ],
   "source": [
    "framed_panel(pts)=\n",
    "    begin\n",
    "        panel(pts, family=default_panel_family())\n",
    "        for (p,q) in zip(pts, [pts[2:end]...,pts[1]])\n",
    "            free_column(p,q, family=frame_fam)\n",
    "        end\n",
    "    end"
   ]
  },
  {
   "cell_type": "markdown",
   "metadata": {},
   "source": [
    "Frame BIM family"
   ]
  },
  {
   "cell_type": "code",
   "execution_count": 61,
   "metadata": {},
   "outputs": [
    {
     "data": {
      "text/plain": [
       "ColumnFamily(\"column_family\", Khepri.RectangularPath(xyz(-0.05,-0.05,0.0), 0.1, 0.1), ColumnFamily(\"column_family\", Khepri.RectangularPath(xyz(-0.1,-0.1,0.0), 0.2, 0.2), nothing, IdDict{Backend,Khepri.Family}(AutoCAD => Khepri.ACADLayerFamily(\"Column\", RGB{N0f8}(1.0,1.0,1.0), Parameter{Any}(nothing)),Rhino => Khepri.RhinoLayerFamily(\"Column\", RGB{N0f8}(1.0,1.0,1.0), Parameter{Any}(nothing)),Unity => Khepri.UnityMaterialFamily(\"Default/Materials/Concrete\"),Unreal => Khepri.UnrealMaterialFamily(\"/Game/StarterContent/Materials/M_Concrete_Tiles.M_Concrete_Tiles\", Dict{Symbol,String}(), Parameter{Any}(nothing)),Khepri.RadianceBackend{Khepri.RadianceKey,Int64,500} => Khepri.BackendMaterialFamily{RadianceMaterial}(RadianceMaterial(\"SheetMetal_80\", \"metal\", 0.8, 0.8, 0.8, 0, 0, nothing, nothing)),Khepri.MCATBackend{Khepri.MCATKey,String} => Khepri.BackendMaterialFamily{NamedTuple{(:uuid, :type, :metalness, :roughness, :side, :color),Tuple{String,String,Int64,Float64,Int64,String}}}((uuid = \"ff18db40-ccfe-11ea-320c-fd95d85c7b34\", type = \"MeshStandardMaterial\", metalness = 1, roughness = 0.5, side = 2, color = \"0xFFFFFF\")),Khepri.POVRayBackend{Khepri.POVRayKey,Int64} => Khepri.BackendMaterialFamily{Khepri.POVRayMaterial}(Khepri.POVRayInclude(\"textures.inc\", \"texture\", \"Chrome_Metal\"))), IdDict{Backend,Any}()), IdDict{Backend,Khepri.Family}(AutoCAD => Khepri.ACADLayerFamily(\"Column\", RGB{N0f8}(1.0,1.0,1.0), Parameter{Any}(nothing)),Rhino => Khepri.RhinoLayerFamily(\"Column\", RGB{N0f8}(1.0,1.0,1.0), Parameter{Any}(nothing)),Unity => Khepri.UnityMaterialFamily(\"Default/Materials/Concrete\"),Unreal => Khepri.UnrealMaterialFamily(\"/Game/StarterContent/Materials/M_Concrete_Tiles.M_Concrete_Tiles\", Dict{Symbol,String}(), Parameter{Any}(nothing)),Khepri.RadianceBackend{Khepri.RadianceKey,Int64,500} => Khepri.BackendMaterialFamily{RadianceMaterial}(RadianceMaterial(\"SheetMetal_80\", \"metal\", 0.8, 0.8, 0.8, 0, 0, nothing, nothing)),Khepri.MCATBackend{Khepri.MCATKey,String} => Khepri.BackendMaterialFamily{NamedTuple{(:uuid, :type, :metalness, :roughness, :side, :color),Tuple{String,String,Int64,Float64,Int64,String}}}((uuid = \"ff18db40-ccfe-11ea-320c-fd95d85c7b34\", type = \"MeshStandardMaterial\", metalness = 1, roughness = 0.5, side = 2, color = \"0xFFFFFF\")),Khepri.POVRayBackend{Khepri.POVRayKey,Int64} => Khepri.BackendMaterialFamily{Khepri.POVRayMaterial}(Khepri.POVRayInclude(\"textures.inc\", \"texture\", \"Chrome_Metal\"))), IdDict{Backend,Any}())"
      ]
     },
     "execution_count": 61,
     "metadata": {},
     "output_type": "execute_result"
    }
   ],
   "source": [
    "frame_width=0.1\n",
    "frame_fam = column_family_element(default_column_family(), profile=rectangular_profile(frame_width, frame_width))"
   ]
  },
  {
   "cell_type": "code",
   "execution_count": null,
   "metadata": {},
   "outputs": [],
   "source": [
    "@test begin\n",
    "\n",
    "    backend(meshcat)\n",
    "    new_backend()\n",
    "    @manipulate for radius = widget(1:1:5, label=\"Radius\"),\n",
    "                    sides = widget(1:1:10, label=\"Sides\"),\n",
    "                    angle = widget(1:1:20, label=\"Angle\")\n",
    "                    delete_all_shapes()        \n",
    "                    framed_panel(regular_polygon_vertices(sides, x(-10), radius, angle))\n",
    "                    framed_panel(regular_polygon_vertices(sides+2, x(0), radius, angle))\n",
    "                    framed_panel(regular_polygon_vertices(sides+5, x(10), radius, angle))\n",
    "                    end\n",
    "  \n",
    "end"
   ]
  },
  {
   "cell_type": "markdown",
   "metadata": {},
   "source": [
    "Expected result:\n",
    "<img src=\"./Plots/framed_panel.png\" width=\"800\">"
   ]
  },
  {
   "cell_type": "markdown",
   "metadata": {},
   "source": [
    "Creates a vertical line of `framed_panels` given a list of points in z:"
   ]
  },
  {
   "cell_type": "code",
   "execution_count": 65,
   "metadata": {},
   "outputs": [
    {
     "data": {
      "text/plain": [
       "vertical_panel_line (generic function with 1 method)"
      ]
     },
     "execution_count": 65,
     "metadata": {},
     "output_type": "execute_result"
    }
   ],
   "source": [
    "vertical_panel_line(pts, v, panel_width)=\n",
    "    let pav_panel(p, q) = framed_panel([p, p+v*panel_width, q+v*panel_width, q])\n",
    "        [pav_panel(p, q) for (p, q) in zip(pts[1:end-1], pts[2:end])]\n",
    "    end"
   ]
  },
  {
   "cell_type": "code",
   "execution_count": 66,
   "metadata": {},
   "outputs": [
    {
     "data": {
      "text/plain": [
       "10-element Array{Nothing,1}:\n",
       " nothing\n",
       " nothing\n",
       " nothing\n",
       " nothing\n",
       " nothing\n",
       " nothing\n",
       " nothing\n",
       " nothing\n",
       " nothing\n",
       " nothing"
      ]
     },
     "execution_count": 66,
     "metadata": {},
     "output_type": "execute_result"
    }
   ],
   "source": [
    "@test begin\n",
    "    backend(autocad)\n",
    "    n_y = 40\n",
    "    n_z = 10\n",
    "    dist_y = pav_length-2*d_length\n",
    "    dist_z = pav_height-d_height\n",
    "    west_glass_wall = damped_sin_glass_wall(x(d_width),\n",
    "                                            amp_y_max_top,\n",
    "                                            fi, decay, om_y,\n",
    "                                            dist_y, dist_z, n_y, n_z)\n",
    "    east_glass_wall = damped_sin_glass_wall(x(pav_width-d_width),\n",
    "                                            amp_y_min_bottom,\n",
    "                                            fi, decay, om_y,\n",
    "                                            dist_y, dist_z, n_y, n_z)\n",
    "    panel_width = dist_y/n_y\n",
    "    vertical_panel_line(west_glass_wall[1], vy(1), panel_width)\n",
    "end"
   ]
  },
  {
   "cell_type": "markdown",
   "metadata": {},
   "source": [
    "Expected result:\n",
    "<img src=\"./Plots/first_row_panels.png\" width=\"800\">"
   ]
  },
  {
   "cell_type": "markdown",
   "metadata": {},
   "source": [
    "Same function, but vector `v` now already considers the panel width, it's not a normal vector anymore:"
   ]
  },
  {
   "cell_type": "code",
   "execution_count": 72,
   "metadata": {},
   "outputs": [
    {
     "data": {
      "text/plain": [
       "vertical_panel_line (generic function with 2 methods)"
      ]
     },
     "execution_count": 72,
     "metadata": {},
     "output_type": "execute_result"
    }
   ],
   "source": [
    "vertical_panel_line(pts, v)=\n",
    "    let pav_panel(p, q) = framed_panel([p, p+v, q+v, q])\n",
    "        [pav_panel(p, q) for (p, q) in zip(pts[1:end-1], pts[2:end])]\n",
    "    end"
   ]
  },
  {
   "cell_type": "code",
   "execution_count": 73,
   "metadata": {},
   "outputs": [
    {
     "data": {
      "text/plain": [
       "vertical_panel_lines (generic function with 1 method)"
      ]
     },
     "execution_count": 73,
     "metadata": {},
     "output_type": "execute_result"
    }
   ],
   "source": [
    "vertical_panel_lines(mtx)=\n",
    "    let v = mtx[2][1]-mtx[1][1]\n",
    "        [vertical_panel_line(pts, v) for pts in mtx]\n",
    "    end"
   ]
  },
  {
   "cell_type": "code",
   "execution_count": 74,
   "metadata": {},
   "outputs": [
    {
     "data": {
      "text/plain": [
       "41-element Array{Array{Nothing,1},1}:\n",
       " [nothing, nothing, nothing, nothing, nothing, nothing, nothing, nothing, nothing, nothing]\n",
       " [nothing, nothing, nothing, nothing, nothing, nothing, nothing, nothing, nothing, nothing]\n",
       " [nothing, nothing, nothing, nothing, nothing, nothing, nothing, nothing, nothing, nothing]\n",
       " [nothing, nothing, nothing, nothing, nothing, nothing, nothing, nothing, nothing, nothing]\n",
       " [nothing, nothing, nothing, nothing, nothing, nothing, nothing, nothing, nothing, nothing]\n",
       " [nothing, nothing, nothing, nothing, nothing, nothing, nothing, nothing, nothing, nothing]\n",
       " [nothing, nothing, nothing, nothing, nothing, nothing, nothing, nothing, nothing, nothing]\n",
       " [nothing, nothing, nothing, nothing, nothing, nothing, nothing, nothing, nothing, nothing]\n",
       " [nothing, nothing, nothing, nothing, nothing, nothing, nothing, nothing, nothing, nothing]\n",
       " [nothing, nothing, nothing, nothing, nothing, nothing, nothing, nothing, nothing, nothing]\n",
       " [nothing, nothing, nothing, nothing, nothing, nothing, nothing, nothing, nothing, nothing]\n",
       " [nothing, nothing, nothing, nothing, nothing, nothing, nothing, nothing, nothing, nothing]\n",
       " [nothing, nothing, nothing, nothing, nothing, nothing, nothing, nothing, nothing, nothing]\n",
       " ⋮\n",
       " [nothing, nothing, nothing, nothing, nothing, nothing, nothing, nothing, nothing, nothing]\n",
       " [nothing, nothing, nothing, nothing, nothing, nothing, nothing, nothing, nothing, nothing]\n",
       " [nothing, nothing, nothing, nothing, nothing, nothing, nothing, nothing, nothing, nothing]\n",
       " [nothing, nothing, nothing, nothing, nothing, nothing, nothing, nothing, nothing, nothing]\n",
       " [nothing, nothing, nothing, nothing, nothing, nothing, nothing, nothing, nothing, nothing]\n",
       " [nothing, nothing, nothing, nothing, nothing, nothing, nothing, nothing, nothing, nothing]\n",
       " [nothing, nothing, nothing, nothing, nothing, nothing, nothing, nothing, nothing, nothing]\n",
       " [nothing, nothing, nothing, nothing, nothing, nothing, nothing, nothing, nothing, nothing]\n",
       " [nothing, nothing, nothing, nothing, nothing, nothing, nothing, nothing, nothing, nothing]\n",
       " [nothing, nothing, nothing, nothing, nothing, nothing, nothing, nothing, nothing, nothing]\n",
       " [nothing, nothing, nothing, nothing, nothing, nothing, nothing, nothing, nothing, nothing]\n",
       " [nothing, nothing, nothing, nothing, nothing, nothing, nothing, nothing, nothing, nothing]"
      ]
     },
     "execution_count": 74,
     "metadata": {},
     "output_type": "execute_result"
    }
   ],
   "source": [
    "@test begin\n",
    "    backend(autocad)\n",
    "    n_y = 40\n",
    "    n_z = 10\n",
    "    dist_y = pav_length-2*d_length\n",
    "    dist_z = pav_height-d_height\n",
    "    east_glass_wall = damped_sin_glass_wall(x(pav_width-d_width),\n",
    "                                            amp_y_min_bottom,\n",
    "                                            fi, decay, om_y,\n",
    "                                            dist_y, dist_z, n_y, n_z)\n",
    "    delete_all_shapes()\n",
    "    vertical_panel_lines(west_glass_wall)\n",
    "end"
   ]
  },
  {
   "cell_type": "markdown",
   "metadata": {},
   "source": [
    "Expected result:\n",
    "<img src=\"./Plots/weast_facade_panel.png\" width=\"800\">"
   ]
  },
  {
   "cell_type": "code",
   "execution_count": 86,
   "metadata": {},
   "outputs": [
    {
     "ename": "LoadError",
     "evalue": "syntax: let variables should end in \";\" or newline",
     "output_type": "error",
     "traceback": [
      "syntax: let variables should end in \";\" or newline",
      ""
     ]
    }
   ],
   "source": [
    "glass_panel_height = 0.5\n",
    "\n",
    "is_above_z_limit(z, z_lim)= z >= z_lim\n",
    "\n",
    "vert_pts(p, panel_height, z_lim) = is_above_z_limit(p.z, z_lim) ? [] : [p, vert_pts(p+vz(panel_height), z_lim)]\n",
    "\n",
    "damped_sin_glass_wall(p, a_y, fi, decay, om_y, dist_y, dist_z, n_y, n_z) =\n",
    "    [vert_pts(y, z_lim)]\n",
    "    map_division((y, z) ->\n",
    "#                     y <= d_i ?\n",
    "#                     p + vyz(-sin(y/d_i*(1*pi)), z) :\n",
    "                        let z = damped_sin_wave(a_y, decay, om_y, y))\n",
    "                            is_above_z_limit(z, z_lim) ? p + vyz(y, z) : nothing\n",
    "                        end,\n",
    "             0, dist_y, n_y,\n",
    "             0, dist_z, dist_z/glass_panel_height)"
   ]
  },
  {
   "cell_type": "code",
   "execution_count": 87,
   "metadata": {},
   "outputs": [
    {
     "data": {
      "text/plain": [
       "11-element Array{Spline,1}:\n",
       " Spline(...)\n",
       " Spline(...)\n",
       " Spline(...)\n",
       " Spline(...)\n",
       " Spline(...)\n",
       " Spline(...)\n",
       " Spline(...)\n",
       " Spline(...)\n",
       " Spline(...)\n",
       " Spline(...)\n",
       " Spline(...)"
      ]
     },
     "execution_count": 87,
     "metadata": {},
     "output_type": "execute_result"
    }
   ],
   "source": [
    "@test begin\n",
    "    backend(autocad)\n",
    "    n_y = 40\n",
    "    n_z = 10\n",
    "    dist_y = pav_length-2*d_length\n",
    "    dist_z = pav_height-d_height\n",
    "    west_glass_wall = damped_sin_glass_wall(x(d_width),\n",
    "                                            amp_y_max_top,\n",
    "                                            fi, decay, om_y,\n",
    "                                            dist_y, dist_z, n_y, n_z)\n",
    "    east_glass_wall = damped_sin_glass_wall(x(pav_width-d_width),\n",
    "                                            amp_y_min_bottom,\n",
    "                                            fi, decay, om_y,\n",
    "                                            dist_y, dist_z, n_y, n_z)\n",
    "    delete_all_shapes()\n",
    "     splines4surf(west_glass_wall)\n",
    "#     splines4surf(east_glass_wall)\n",
    "#     vertical_panel_lines(west_glass_wall)\n",
    "#     vertical_panel_lines(east_glass_wall)\n",
    "\n",
    "end"
   ]
  },
  {
   "cell_type": "markdown",
   "metadata": {},
   "source": [
    "## Interior Walls"
   ]
  },
  {
   "cell_type": "markdown",
   "metadata": {},
   "source": [
    "## Backend specifics"
   ]
  },
  {
   "cell_type": "markdown",
   "metadata": {},
   "source": [
    "Ground:"
   ]
  },
  {
   "cell_type": "code",
   "execution_count": 41,
   "metadata": {},
   "outputs": [
    {
     "data": {
      "text/plain": [
       "ground (generic function with 1 method)"
      ]
     },
     "execution_count": 41,
     "metadata": {},
     "output_type": "execute_result"
    }
   ],
   "source": [
    "ground_fam = slab_family_element(default_slab_family())\n",
    "ground() =\n",
    "    let x = 1000\n",
    "        y = 1000\n",
    "      slab(closed_polygonal_path([xy(-x,y), xy(x,y), xy(x,-y), xy(-x,-y)]), level(-0.05), ground_fam)\n",
    "    end"
   ]
  },
  {
   "cell_type": "markdown",
   "metadata": {},
   "source": [
    "BIM family materials for Unity backend:"
   ]
  },
  {
   "cell_type": "code",
   "execution_count": 42,
   "metadata": {},
   "outputs": [
    {
     "data": {
      "text/plain": [
       "IdDict{Backend,Any} with 0 entries"
      ]
     },
     "execution_count": 42,
     "metadata": {},
     "output_type": "execute_result"
    }
   ],
   "source": [
    "set_backend_family(default_truss_bar_family(), unity, unity_material_family(\"Default/Materials/Aluminum\"))\n",
    "set_backend_family(free_node_fam, unity, unity_material_family(\"Default/Materials/Aluminum\"))\n",
    "set_backend_family(sup_node_fam, unity, unity_material_family(\"materials/metal/Copper\"))\n",
    "# set_backend_family(ground_fam, unity, unity_material_family(\"Default/Materials/White\")) # -- white ground\n",
    "set_backend_family(ground_fam, unity, unity_material_family(\"Default/Materials/WhiteUnlit\")) # -- white ground no shadows\n",
    "set_backend_family(default_panel_family(), unity, unity_material_family(\"Default/Materials/GlassBlue\"))\n",
    "set_backend_family(frame_fam, unity, unity_material_family(\"Default/Materials/Steel\"))"
   ]
  },
  {
   "cell_type": "code",
   "execution_count": null,
   "metadata": {},
   "outputs": [],
   "source": []
  }
 ],
 "metadata": {
  "@webio": {
   "lastCommId": "95250934efe44d259cf0a1cffad50b2a",
   "lastKernelId": "4eb49eba-d035-4d70-ab91-7db460ebd800"
  },
  "kernelspec": {
   "display_name": "Julia 1.4.2",
   "language": "julia",
   "name": "julia-1.4"
  },
  "language_info": {
   "file_extension": ".jl",
   "mimetype": "application/julia",
   "name": "julia",
   "version": "1.4.2"
  },
  "toc": {
   "base_numbering": 1,
   "nav_menu": {},
   "number_sections": true,
   "sideBar": true,
   "skip_h1_title": false,
   "title_cell": "Table of Contents",
   "title_sidebar": "Contents",
   "toc_cell": false,
   "toc_position": {
    "height": "calc(100% - 180px)",
    "left": "10px",
    "top": "150px",
    "width": "165px"
   },
   "toc_section_display": true,
   "toc_window_display": true
  }
 },
 "nbformat": 4,
 "nbformat_minor": 4
}
